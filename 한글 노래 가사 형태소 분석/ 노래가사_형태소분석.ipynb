{
  "nbformat": 4,
  "nbformat_minor": 0,
  "metadata": {
    "colab": {
      "provenance": [],
      "authorship_tag": "ABX9TyMKS33V9+ltchezXwKYXXaE",
      "include_colab_link": true
    },
    "kernelspec": {
      "name": "python3",
      "display_name": "Python 3"
    },
    "language_info": {
      "name": "python"
    }
  },
  "cells": [
    {
      "cell_type": "markdown",
      "metadata": {
        "id": "view-in-github",
        "colab_type": "text"
      },
      "source": [
        "<a href=\"https://colab.research.google.com/github/windyday0622/windyday/blob/main/%ED%95%9C%EA%B8%80%20%EB%85%B8%EB%9E%98%20%EA%B0%80%EC%82%AC%20%ED%98%95%ED%83%9C%EC%86%8C%20%EB%B6%84%EC%84%9D/%20%EB%85%B8%EB%9E%98%EA%B0%80%EC%82%AC_%ED%98%95%ED%83%9C%EC%86%8C%EB%B6%84%EC%84%9D.ipynb\" target=\"_parent\"><img src=\"https://colab.research.google.com/assets/colab-badge.svg\" alt=\"Open In Colab\"/></a>"
      ]
    },
    {
      "cell_type": "code",
      "execution_count": 1,
      "metadata": {
        "colab": {
          "base_uri": "https://localhost:8080/"
        },
        "id": "8PCDFnHvMkzP",
        "outputId": "c17f514d-4139-4fb3-88a5-5436861b7f98"
      },
      "outputs": [
        {
          "output_type": "stream",
          "name": "stdout",
          "text": [
            "Collecting konlpy\n",
            "  Downloading konlpy-0.6.0-py2.py3-none-any.whl.metadata (1.9 kB)\n",
            "Collecting JPype1>=0.7.0 (from konlpy)\n",
            "  Downloading jpype1-1.5.1-cp310-cp310-manylinux_2_17_x86_64.manylinux2014_x86_64.whl.metadata (4.9 kB)\n",
            "Requirement already satisfied: lxml>=4.1.0 in /usr/local/lib/python3.10/dist-packages (from konlpy) (5.3.0)\n",
            "Requirement already satisfied: numpy>=1.6 in /usr/local/lib/python3.10/dist-packages (from konlpy) (1.26.4)\n",
            "Requirement already satisfied: packaging in /usr/local/lib/python3.10/dist-packages (from JPype1>=0.7.0->konlpy) (24.2)\n",
            "Downloading konlpy-0.6.0-py2.py3-none-any.whl (19.4 MB)\n",
            "\u001b[2K   \u001b[90m━━━━━━━━━━━━━━━━━━━━━━━━━━━━━━━━━━━━━━━━\u001b[0m \u001b[32m19.4/19.4 MB\u001b[0m \u001b[31m32.2 MB/s\u001b[0m eta \u001b[36m0:00:00\u001b[0m\n",
            "\u001b[?25hDownloading jpype1-1.5.1-cp310-cp310-manylinux_2_17_x86_64.manylinux2014_x86_64.whl (493 kB)\n",
            "\u001b[2K   \u001b[90m━━━━━━━━━━━━━━━━━━━━━━━━━━━━━━━━━━━━━━━━\u001b[0m \u001b[32m493.8/493.8 kB\u001b[0m \u001b[31m14.8 MB/s\u001b[0m eta \u001b[36m0:00:00\u001b[0m\n",
            "\u001b[?25hInstalling collected packages: JPype1, konlpy\n",
            "Successfully installed JPype1-1.5.1 konlpy-0.6.0\n"
          ]
        }
      ],
      "source": [
        "pip install konlpy"
      ]
    },
    {
      "cell_type": "code",
      "source": [
        "from konlpy.tag import Okt\n",
        "\n",
        "# 예시로 사용할 한국어 노래 가사 (가사 일부를 입력하세요)\n",
        "song_lyrics = \"\"\"\n",
        "우리들 만나고 헤어지는 모든 일들이 어쩌면 어린애들 놀이 같아\n",
        "슬픈 동화 속에 구름타고 멀리 날으는 작은 요정들의 슬픈 이야기처럼\n",
        "그러나 우리들 날지도 못하고 울지만 사랑은 아름다운 꿈결처럼 고운 그대 손을 잡고 밤하늘을 날아서\n",
        "궁전으로 갈 수도 있어\n",
        "난 오직 그대 사랑하는 마음에 바보 같은 꿈꾸며\n",
        "이룰 수 없는 저 꿈의 나라로 길을 잃고 헤매고 있어\n",
        "그러나 우리들 날지도 못하고 울지만 사랑은 아름다운 꿈결처럼\n",
        "고운 그대 손을 잡고 밤하늘을 날아서 궁전으로 갈 수도 있어\n",
        "\"\"\"\n",
        "\n",
        "# Okt 형태소 분석기 초기화\n",
        "okt = Okt()\n",
        "\n",
        "# 형태소 분석 수행\n",
        "morphs = okt.morphs(song_lyrics)\n",
        "print(\"형태소 분석 결과:\", morphs)\n",
        "\n",
        "# 명사 추출\n",
        "nouns = okt.nouns(song_lyrics)\n",
        "print(\"추출된 명사:\", nouns)\n",
        "\n",
        "# 품사 태깅\n",
        "pos = okt.pos(song_lyrics)\n",
        "print(\"품사 태깅 결과:\", pos)\n"
      ],
      "metadata": {
        "colab": {
          "base_uri": "https://localhost:8080/"
        },
        "id": "fwEYXJGHMoN4",
        "outputId": "6d6804c5-3ba0-4388-9de7-bad3e7f4b263"
      },
      "execution_count": 2,
      "outputs": [
        {
          "output_type": "stream",
          "name": "stdout",
          "text": [
            "형태소 분석 결과: ['\\n', '우리', '들', '만나고', '헤어지는', '모든', '일', '들', '이', '어쩌면', '어린', '애', '들', '놀이', '같아', '슬픈', '동화', '속', '에', '구름', '타고', '멀리', '날으는', '작은', '요정', '들', '의', '슬픈', '이야기', '처럼', '그러나', '우리', '들', '날지도', '못', '하고', '울', '지만', '사랑', '은', '아름다운', '꿈결', '처럼', '고운', '그대', '손', '을', '잡고', '밤하늘', '을', '날아서', '궁전', '으로', '갈', '수도', '있어', '난', '오직', '그대', '사랑', '하는', '마음', '에', '바보', '같은', '꿈꾸며', '이룰', '수', '없는', '저', '꿈', '의', '나라', '로', '길', '을', '잃고', '헤매고', '있어', '그러나', '우리', '들', '날지도', '못', '하고', '울', '지만', '사랑', '은', '아름다운', '꿈결', '처럼', '고운', '그대', '손', '을', '잡고', '밤하늘', '을', '날아서', '궁전', '으로', '갈', '수도', '있어', '\\n']\n",
            "추출된 명사: ['우리', '모든', '일', '어쩌면', '애', '놀이', '동화', '속', '구름', '타고', '멀리', '요정', '이야기', '우리', '못', '울', '사랑', '꿈결', '그대', '손', '잡고', '밤하늘', '궁전', '수도', '난', '오직', '그대', '사랑', '마음', '바보', '수', '저', '꿈', '나라', '길', '우리', '못', '울', '사랑', '꿈결', '그대', '손', '잡고', '밤하늘', '궁전', '수도']\n",
            "품사 태깅 결과: [('\\n', 'Foreign'), ('우리', 'Noun'), ('들', 'Suffix'), ('만나고', 'Verb'), ('헤어지는', 'Verb'), ('모든', 'Noun'), ('일', 'Noun'), ('들', 'Suffix'), ('이', 'Josa'), ('어쩌면', 'Noun'), ('어린', 'Verb'), ('애', 'Noun'), ('들', 'Suffix'), ('놀이', 'Noun'), ('같아', 'Adjective'), ('슬픈', 'Adjective'), ('동화', 'Noun'), ('속', 'Noun'), ('에', 'Josa'), ('구름', 'Noun'), ('타고', 'Noun'), ('멀리', 'Noun'), ('날으는', 'Verb'), ('작은', 'Adjective'), ('요정', 'Noun'), ('들', 'Suffix'), ('의', 'Josa'), ('슬픈', 'Adjective'), ('이야기', 'Noun'), ('처럼', 'Josa'), ('그러나', 'Conjunction'), ('우리', 'Noun'), ('들', 'Suffix'), ('날지도', 'Verb'), ('못', 'Noun'), ('하고', 'Josa'), ('울', 'Noun'), ('지만', 'Josa'), ('사랑', 'Noun'), ('은', 'Josa'), ('아름다운', 'Adjective'), ('꿈결', 'Noun'), ('처럼', 'Josa'), ('고운', 'Adjective'), ('그대', 'Noun'), ('손', 'Noun'), ('을', 'Josa'), ('잡고', 'Noun'), ('밤하늘', 'Noun'), ('을', 'Josa'), ('날아서', 'Verb'), ('궁전', 'Noun'), ('으로', 'Josa'), ('갈', 'Verb'), ('수도', 'Noun'), ('있어', 'Adjective'), ('난', 'Noun'), ('오직', 'Noun'), ('그대', 'Noun'), ('사랑', 'Noun'), ('하는', 'Verb'), ('마음', 'Noun'), ('에', 'Josa'), ('바보', 'Noun'), ('같은', 'Adjective'), ('꿈꾸며', 'Verb'), ('이룰', 'Verb'), ('수', 'Noun'), ('없는', 'Adjective'), ('저', 'Noun'), ('꿈', 'Noun'), ('의', 'Josa'), ('나라', 'Noun'), ('로', 'Josa'), ('길', 'Noun'), ('을', 'Josa'), ('잃고', 'Verb'), ('헤매고', 'Verb'), ('있어', 'Adjective'), ('그러나', 'Conjunction'), ('우리', 'Noun'), ('들', 'Suffix'), ('날지도', 'Verb'), ('못', 'Noun'), ('하고', 'Josa'), ('울', 'Noun'), ('지만', 'Josa'), ('사랑', 'Noun'), ('은', 'Josa'), ('아름다운', 'Adjective'), ('꿈결', 'Noun'), ('처럼', 'Josa'), ('고운', 'Adjective'), ('그대', 'Noun'), ('손', 'Noun'), ('을', 'Josa'), ('잡고', 'Noun'), ('밤하늘', 'Noun'), ('을', 'Josa'), ('날아서', 'Verb'), ('궁전', 'Noun'), ('으로', 'Josa'), ('갈', 'Verb'), ('수도', 'Noun'), ('있어', 'Adjective'), ('\\n', 'Foreign')]\n"
          ]
        }
      ]
    }
  ]
}