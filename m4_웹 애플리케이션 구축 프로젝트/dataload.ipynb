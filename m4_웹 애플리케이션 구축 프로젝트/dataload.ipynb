{
 "cells": [
  {
   "cell_type": "code",
   "execution_count": 1,
   "metadata": {},
   "outputs": [],
   "source": [
    "# MYSQL 데이터 베이스 연결 설정\n",
    "import pymysql\n",
    "# 데이터 베이스 연결\n",
    "connection = pymysql.connect(\n",
    "    host='localhost',\n",
    "    user='hyunjin',\n",
    "    password='Monster98!',\n",
    "    database='hyunjin_db',\n",
    ")\n",
    "\n",
    "cursor = connection.cursor()"
   ]
  },
  {
   "cell_type": "code",
   "execution_count": 9,
   "metadata": {},
   "outputs": [],
   "source": [
    "# 테이블 생성\n",
    "create_table_query = \"\"\"\n",
    "CREATE TABLE customer(\n",
    "    id INT AUTO_INCREMENT PRIMARY KEY,\n",
    "    name VARCHAR(50) NOT NULL,\n",
    "    email VARCHAR(100) NOT NULL,\n",
    "    age INT\n",
    ")\n",
    "\"\"\"\n",
    "cursor.execute(create_table_query)\n",
    "connection.commit()\n"
   ]
  },
  {
   "cell_type": "code",
   "execution_count": 10,
   "metadata": {},
   "outputs": [],
   "source": [
    "# 컬럼 추가\n",
    "# 이 컬럼은 TIMESTAMP 데이터 타입을 가지며, 기본값으로 현재 타임스탬프가 설정.\n",
    "alter_table_query = \"ALTER TABLE customer ADD COLUMN created_at TIMESTAMP DEFAULT CURRENT_TIMESTAMP\"\n",
    "cursor.execute(alter_table_query)\n",
    "connection.commit()"
   ]
  },
  {
   "cell_type": "code",
   "execution_count": 11,
   "metadata": {},
   "outputs": [],
   "source": [
    "# NOT NULL 제약 조건 추가\n",
    "alter_table_query = \"ALTER TABLE customer MODIFY email VARCHAR(100)\"\n",
    "cursor.execute(alter_table_query)\n",
    "connection.commit()"
   ]
  },
  {
   "cell_type": "code",
   "execution_count": null,
   "metadata": {},
   "outputs": [],
   "source": [
    "# 테이블 삭제\n",
    "drop_table_query = \"DROP TABLE IF EXISTS customer\"\n",
    "cursor.execute(drop_table_query)\n",
    "connection.commit()"
   ]
  },
  {
   "cell_type": "code",
   "execution_count": null,
   "metadata": {},
   "outputs": [],
   "source": [
    "# 연결 종료\n",
    "cursor.close()\n",
    "connection.close()"
   ]
  },
  {
   "cell_type": "code",
   "execution_count": 13,
   "metadata": {},
   "outputs": [],
   "source": [
    "# 데이터 입력\n",
    "# %s는 mysql.connector에서 사용되는 플레이스홀더입니다. 이 플레이스홀더는 데이터를 입력할 때 사용됩니다.(sqlight3에서는 ?를 사용)\n",
    "insert_query = \"INSERT INTO customer (name, email, age) VALUES (%s, %s, %s)\"\n",
    "data = (\"john_doe\", \"john@example.com\", 30)\n",
    "cursor.execute(insert_query, data)\n",
    "connection.commit()"
   ]
  },
  {
   "cell_type": "code",
   "execution_count": 19,
   "metadata": {},
   "outputs": [],
   "source": [
    "# 데이터 조회\n",
    "select_query = \"SELECT * FROM customer\"\n",
    "cursor.execute(select_query)\n",
    "results = cursor.fetchall()\n",
    "for row in results:\n",
    "    print(row)"
   ]
  },
  {
   "cell_type": "code",
   "execution_count": 17,
   "metadata": {},
   "outputs": [],
   "source": [
    "# 데이터 수정\n",
    "update_query = \"UPDATE customer SET age = %s WHERE name = %s\"\n",
    "cursor.execute(update_query, (31, \"john_doe\"))\n",
    "connection.commit()"
   ]
  },
  {
   "cell_type": "code",
   "execution_count": 18,
   "metadata": {},
   "outputs": [],
   "source": [
    "# 데이터 삭제\n",
    "delete_query = \"DELETE FROM customer WHERE name = %s\"\n",
    "cursor.execute(delete_query, (\"john_doe\",))\n",
    "connection.commit()"
   ]
  },
  {
   "cell_type": "code",
   "execution_count": 21,
   "metadata": {},
   "outputs": [],
   "source": [
    "# 데이터 반복 삽입\n",
    "customers = [\n",
    "    (\"alice\", \"alice@example.com\", 25),\n",
    "    (\"bob\", \"bob@example.com\", 28),\n",
    "    (\"charlie\", \"charlie@example.com\", 22),\n",
    "]\n",
    "cursor.executemany(insert_query, customers)\n",
    "connection.commit()"
   ]
  },
  {
   "cell_type": "code",
   "execution_count": 22,
   "metadata": {},
   "outputs": [
    {
     "name": "stdout",
     "output_type": "stream",
     "text": [
      "(2, 'alice', 'alice@example.com', 25, datetime.datetime(2024, 7, 15, 12, 18, 51))\n",
      "(3, 'bob', 'bob@example.com', 28, datetime.datetime(2024, 7, 15, 12, 18, 51))\n",
      "(4, 'charlie', 'charlie@example.com', 22, datetime.datetime(2024, 7, 15, 12, 18, 51))\n"
     ]
    }
   ],
   "source": [
    "# 데이터 조회\n",
    "select_query = \"SELECT * FROM customer\"\n",
    "cursor.execute(select_query)\n",
    "results = cursor.fetchall()\n",
    "for row in results:\n",
    "    print(row)"
   ]
  },
  {
   "cell_type": "code",
   "execution_count": 23,
   "metadata": {},
   "outputs": [
    {
     "name": "stdout",
     "output_type": "stream",
     "text": [
      "   id     name                email  age          created_at\n",
      "0   2    alice    alice@example.com   25 2024-07-15 12:18:51\n",
      "1   3      bob      bob@example.com   28 2024-07-15 12:18:51\n",
      "2   4  charlie  charlie@example.com   22 2024-07-15 12:18:51\n"
     ]
    }
   ],
   "source": [
    "# 데이터 조회 결과를 DataFrame으로 변환\n",
    "import pandas as pd\n",
    "\n",
    "# 컬럼 이름 가져오기\n",
    "column_names = [desc[0] for desc in cursor.description]\n",
    "\n",
    "# DataFrame으로 변환\n",
    "df = pd.DataFrame(results, columns=column_names)\n",
    "\n",
    "# DataFrame 출력\n",
    "print(df)"
   ]
  },
  {
   "cell_type": "code",
   "execution_count": 24,
   "metadata": {},
   "outputs": [],
   "source": [
    "# DataFrame을 CSV 파일로 저장\n",
    "df.to_csv(\"customers.csv\", index=False)"
   ]
  },
  {
   "cell_type": "code",
   "execution_count": 26,
   "metadata": {},
   "outputs": [],
   "source": [
    "# buyer 테이블 생성\n",
    "create_table_query = \"\"\"\n",
    "CREATE TABLE IF NOT EXISTS buyer(\n",
    "    id INT AUTO_INCREMENT PRIMARY KEY,\n",
    "    name VARCHAR(50) NOT NULL,\n",
    "    email VARCHAR(100) NOT NULL,\n",
    "    age INT,\n",
    "    created_at TIMESTAMP DEFAULT CURRENT_TIMESTAMP\n",
    ")\n",
    "\"\"\"\n",
    "cursor.execute(create_table_query)\n",
    "connection.commit()"
   ]
  },
  {
   "cell_type": "code",
   "execution_count": 27,
   "metadata": {},
   "outputs": [],
   "source": [
    "# csv파일 읽어서 데이터베이스에 삽입\n",
    "import csv\n",
    "\n",
    "# csv 파일 읽기\n",
    "file_path = \"customers.csv\"\n",
    "df = pd.read_csv(file_path)\n",
    "\n",
    "# 필요한 컬럼만 선택\n",
    "data_to_insert = df[[\"name\", \"email\", \"age\"]].values.tolist()\n",
    "\n",
    "# SQL 쿼리 정의\n",
    "insert_query = \"INSERT INTO buyer (name, email, age) VALUES (%s, %s, %s)\"\n",
    "\n",
    "# 데이터베이스에 삽입\n",
    "cursor.executemany(insert_query, data_to_insert)\n",
    "connection.commit()"
   ]
  },
  {
   "cell_type": "code",
   "execution_count": 28,
   "metadata": {},
   "outputs": [
    {
     "name": "stdout",
     "output_type": "stream",
     "text": [
      "   id     name                email  age          created_at\n",
      "0   1    alice    alice@example.com   25 2024-07-15 12:34:37\n",
      "1   2      bob      bob@example.com   28 2024-07-15 12:34:37\n",
      "2   3  charlie  charlie@example.com   22 2024-07-15 12:34:37\n"
     ]
    }
   ],
   "source": [
    "# 데이터 조회 및 DataFrame 변환\n",
    "select_query = \"SELECT * FROM buyer\"\n",
    "cursor.execute(select_query)\n",
    "results = cursor.fetchall()\n",
    "\n",
    "# 컬럼 이름 가져오기\n",
    "column_names = [desc[0] for desc in cursor.description]\n",
    "\n",
    "# DataFrame으로 변환\n",
    "df_results = pd.DataFrame(results, columns=column_names)\n",
    "\n",
    "# DataFrame 출력\n",
    "print(df_results)\n",
    "\n",
    "# 연결 종료\n",
    "cursor.close()\n",
    "connection.close()"
   ]
  },
  {
   "cell_type": "code",
   "execution_count": null,
   "metadata": {},
   "outputs": [],
   "source": []
  },
  {
   "cell_type": "code",
   "execution_count": null,
   "metadata": {},
   "outputs": [],
   "source": []
  },
  {
   "cell_type": "code",
   "execution_count": null,
   "metadata": {},
   "outputs": [],
   "source": []
  },
  {
   "cell_type": "code",
   "execution_count": null,
   "metadata": {},
   "outputs": [],
   "source": []
  }
 ],
 "metadata": {
  "kernelspec": {
   "display_name": "myenv",
   "language": "python",
   "name": "python3"
  },
  "language_info": {
   "codemirror_mode": {
    "name": "ipython",
    "version": 3
   },
   "file_extension": ".py",
   "mimetype": "text/x-python",
   "name": "python",
   "nbconvert_exporter": "python",
   "pygments_lexer": "ipython3",
   "version": "3.10.11"
  }
 },
 "nbformat": 4,
 "nbformat_minor": 2
}
