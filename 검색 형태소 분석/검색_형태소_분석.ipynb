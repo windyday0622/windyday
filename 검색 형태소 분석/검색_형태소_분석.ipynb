{
  "nbformat": 4,
  "nbformat_minor": 0,
  "metadata": {
    "colab": {
      "provenance": [],
      "authorship_tag": "ABX9TyNXMjij15B6dOTIiJdT3max",
      "include_colab_link": true
    },
    "kernelspec": {
      "name": "python3",
      "display_name": "Python 3"
    },
    "language_info": {
      "name": "python"
    }
  },
  "cells": [
    {
      "cell_type": "markdown",
      "metadata": {
        "id": "view-in-github",
        "colab_type": "text"
      },
      "source": [
        "<a href=\"https://colab.research.google.com/github/windyday0622/windyday/blob/main/%EA%B2%80%EC%83%89%20%ED%98%95%ED%83%9C%EC%86%8C%20%EB%B6%84%EC%84%9D/%EA%B2%80%EC%83%89_%ED%98%95%ED%83%9C%EC%86%8C_%EB%B6%84%EC%84%9D.ipynb\" target=\"_parent\"><img src=\"https://colab.research.google.com/assets/colab-badge.svg\" alt=\"Open In Colab\"/></a>"
      ]
    },
    {
      "cell_type": "markdown",
      "source": [
        "##1. 형태소 분석기 사용"
      ],
      "metadata": {
        "id": "aVR106fj-l2a"
      }
    },
    {
      "cell_type": "code",
      "execution_count": 1,
      "metadata": {
        "colab": {
          "base_uri": "https://localhost:8080/"
        },
        "id": "6jENcG_9-dMV",
        "outputId": "75caaec6-8362-41cf-8944-556f55f0bb9d"
      },
      "outputs": [
        {
          "output_type": "stream",
          "name": "stdout",
          "text": [
            "Collecting konlpy\n",
            "  Downloading konlpy-0.6.0-py2.py3-none-any.whl.metadata (1.9 kB)\n",
            "Collecting JPype1>=0.7.0 (from konlpy)\n",
            "  Downloading jpype1-1.5.1-cp310-cp310-manylinux_2_17_x86_64.manylinux2014_x86_64.whl.metadata (4.9 kB)\n",
            "Requirement already satisfied: lxml>=4.1.0 in /usr/local/lib/python3.10/dist-packages (from konlpy) (5.3.0)\n",
            "Requirement already satisfied: numpy>=1.6 in /usr/local/lib/python3.10/dist-packages (from konlpy) (1.26.4)\n",
            "Requirement already satisfied: packaging in /usr/local/lib/python3.10/dist-packages (from JPype1>=0.7.0->konlpy) (24.2)\n",
            "Downloading konlpy-0.6.0-py2.py3-none-any.whl (19.4 MB)\n",
            "\u001b[2K   \u001b[90m━━━━━━━━━━━━━━━━━━━━━━━━━━━━━━━━━━━━━━━━\u001b[0m \u001b[32m19.4/19.4 MB\u001b[0m \u001b[31m49.2 MB/s\u001b[0m eta \u001b[36m0:00:00\u001b[0m\n",
            "\u001b[?25hDownloading jpype1-1.5.1-cp310-cp310-manylinux_2_17_x86_64.manylinux2014_x86_64.whl (493 kB)\n",
            "\u001b[2K   \u001b[90m━━━━━━━━━━━━━━━━━━━━━━━━━━━━━━━━━━━━━━━━\u001b[0m \u001b[32m493.8/493.8 kB\u001b[0m \u001b[31m25.7 MB/s\u001b[0m eta \u001b[36m0:00:00\u001b[0m\n",
            "\u001b[?25hInstalling collected packages: JPype1, konlpy\n",
            "Successfully installed JPype1-1.5.1 konlpy-0.6.0\n"
          ]
        }
      ],
      "source": [
        "!pip install konlpy"
      ]
    },
    {
      "cell_type": "code",
      "source": [
        "from konlpy.tag import Okt\n",
        "\n",
        "okt = Okt()\n",
        "sentence = \"배달의민족에서 검색 품질을 높이고 싶어요.\"\n",
        "print(\"형태소 분석 결과:\", okt.morphs(sentence))\n",
        "print(\"품사 태깅 결과:\", okt.pos(sentence))\n",
        "print(\"명사 추출:\", okt.nouns(sentence))"
      ],
      "metadata": {
        "colab": {
          "base_uri": "https://localhost:8080/"
        },
        "id": "GR5U83kH-hi5",
        "outputId": "31720491-f021-46ba-b463-dfb8c9b26fa8"
      },
      "execution_count": 2,
      "outputs": [
        {
          "output_type": "stream",
          "name": "stdout",
          "text": [
            "형태소 분석 결과: ['배달', '의', '민족', '에서', '검색', '품질', '을', '높이', '고', '싶어요', '.']\n",
            "품사 태깅 결과: [('배달', 'Noun'), ('의', 'Josa'), ('민족', 'Noun'), ('에서', 'Josa'), ('검색', 'Noun'), ('품질', 'Noun'), ('을', 'Josa'), ('높이', 'Noun'), ('고', 'Josa'), ('싶어요', 'Verb'), ('.', 'Punctuation')]\n",
            "명사 추출: ['배달', '민족', '검색', '품질', '높이']\n"
          ]
        }
      ]
    },
    {
      "cell_type": "markdown",
      "source": [
        "##2. 형태소 분석 사전 구축"
      ],
      "metadata": {
        "id": "qLVD74nG-oWI"
      }
    },
    {
      "cell_type": "code",
      "source": [
        "from konlpy.tag import Okt\n",
        "\n",
        "# 사용자 정의 사전: 단어 치환\n",
        "custom_dict = {\n",
        "    \"배달의민족\": \"배달의민족\",\n",
        "    \"검색프로텍트\": \"검색프로텍트\",\n",
        "}\n",
        "\n",
        "def preprocess_text(text, custom_dict):\n",
        "    for key, value in custom_dict.items():\n",
        "        text = text.replace(key, value)\n",
        "    return text\n",
        "\n",
        "okt = Okt()\n",
        "\n",
        "sentence = \"배달의민족 검색프로텍트팀에서 검색 품질을 높이고 싶어요.\"\n",
        "# 사용자 정의 전처리 적용\n",
        "processed_sentence = preprocess_text(sentence, custom_dict)\n",
        "\n",
        "print(\"원문:\", sentence)\n",
        "print(\"전처리 후 문장:\", processed_sentence)\n",
        "print(\"형태소 분석 결과:\", okt.pos(processed_sentence))\n"
      ],
      "metadata": {
        "colab": {
          "base_uri": "https://localhost:8080/"
        },
        "id": "ghlnGS5f-tRS",
        "outputId": "bd984d3a-db39-44ba-f44b-2061616b9c59"
      },
      "execution_count": 4,
      "outputs": [
        {
          "output_type": "stream",
          "name": "stdout",
          "text": [
            "원문: 배달의민족 검색프로텍트팀에서 검색 품질을 높이고 싶어요.\n",
            "전처리 후 문장: 배달의민족 검색프로텍트팀에서 검색 품질을 높이고 싶어요.\n",
            "형태소 분석 결과: [('배달', 'Noun'), ('의', 'Josa'), ('민족', 'Noun'), ('검색', 'Noun'), ('프로', 'Noun'), ('텍트', 'Noun'), ('팀', 'Noun'), ('에서', 'Josa'), ('검색', 'Noun'), ('품질', 'Noun'), ('을', 'Josa'), ('높이', 'Noun'), ('고', 'Josa'), ('싶어요', 'Verb'), ('.', 'Punctuation')]\n"
          ]
        }
      ]
    },
    {
      "cell_type": "markdown",
      "source": [
        "##3. 검색 데이터 평가 데이터 구축"
      ],
      "metadata": {
        "id": "ZfMrOqLY_CPz"
      }
    },
    {
      "cell_type": "code",
      "source": [
        "# 문장 리스트\n",
        "sentences = [\n",
        "    \"배달의민족에서 맛집을 찾고 싶어요.\",\n",
        "    \"검색 품질을 높이는 방법을 알고 싶어요.\",\n",
        "    \"오늘 저녁에 먹을 음식을 고민 중입니다.\"\n",
        "]\n",
        "\n",
        "# 명사 추출 및 키워드 리스트 생성\n",
        "keywords = []\n",
        "for sentence in sentences:\n",
        "    nouns = okt.nouns(sentence)\n",
        "    keywords.extend(nouns)\n",
        "\n",
        "print(\"검색 평가 데이터:\", keywords)\n"
      ],
      "metadata": {
        "colab": {
          "base_uri": "https://localhost:8080/"
        },
        "id": "Dn_2Et4D-toq",
        "outputId": "045c52ea-3b1e-43ad-db8d-91c9fde91559"
      },
      "execution_count": 5,
      "outputs": [
        {
          "output_type": "stream",
          "name": "stdout",
          "text": [
            "검색 평가 데이터: ['배달', '민족', '맛집', '검색', '품질', '방법', '알', '오늘', '저녁', '음식', '고민', '중']\n"
          ]
        }
      ]
    },
    {
      "cell_type": "markdown",
      "source": [
        "##1. 심화된 체험: 형태소 분석의 활용"
      ],
      "metadata": {
        "id": "_-XE-sNm_Jrj"
      }
    },
    {
      "cell_type": "markdown",
      "source": [
        "(1) 사용자 정의 사전 확장 및 테스트"
      ],
      "metadata": {
        "id": "olRRVDNX_hR6"
      }
    },
    {
      "cell_type": "code",
      "source": [
        "from konlpy.tag import Okt\n",
        "\n",
        "# 사용자 정의 단어 목록\n",
        "custom_words = ['배달의민족', '검색프로텍트', '형태소 분석']\n",
        "\n",
        "def preprocess_text(sentence, custom_words):\n",
        "    for word in custom_words:\n",
        "        sentence = sentence.replace(word, f\" {word} \")  # 단어를 띄어쓰기 추가해 분리\n",
        "    return sentence\n",
        "\n",
        "# Okt 객체 생성\n",
        "okt = Okt()\n",
        "\n",
        "# 문장 예제\n",
        "sentence = \"배달의민족 검색프로텍트팀에서 형태소 분석기를 활용해 검색 품질을 개선하고 싶어요.\"\n",
        "\n",
        "# 전처리 적용\n",
        "preprocessed_sentence = preprocess_text(sentence, custom_words)\n",
        "\n",
        "# 형태소 분석 수행\n",
        "print(\"전처리된 문장:\", preprocessed_sentence)\n",
        "print(\"형태소 분석 결과:\", okt.pos(preprocessed_sentence))"
      ],
      "metadata": {
        "colab": {
          "base_uri": "https://localhost:8080/"
        },
        "id": "H0acU2Cu_JQD",
        "outputId": "6b49878e-1227-4d1f-e40d-382137c8f983"
      },
      "execution_count": 7,
      "outputs": [
        {
          "output_type": "stream",
          "name": "stdout",
          "text": [
            "전처리된 문장:  배달의민족   검색프로텍트 팀에서  형태소 분석 기를 활용해 검색 품질을 개선하고 싶어요.\n",
            "형태소 분석 결과: [('배달', 'Noun'), ('의', 'Josa'), ('민족', 'Noun'), ('검색', 'Noun'), ('프로', 'Noun'), ('텍트', 'Noun'), ('팀', 'Noun'), ('에서', 'Josa'), ('형태소', 'Noun'), ('분석', 'Noun'), ('기를', 'Verb'), ('활용', 'Noun'), ('해', 'Verb'), ('검색', 'Noun'), ('품질', 'Noun'), ('을', 'Josa'), ('개선', 'Noun'), ('하고', 'Josa'), ('싶어요', 'Verb'), ('.', 'Punctuation')]\n"
          ]
        }
      ]
    },
    {
      "cell_type": "markdown",
      "source": [
        "(2) 데이터 정제 및 구축"
      ],
      "metadata": {
        "id": "Y9_yq4eG_iYD"
      }
    },
    {
      "cell_type": "code",
      "source": [
        "# 데이터 정제: 불용어 제거 및 중복 제거\n",
        "keywords = ['배달의민족', '맛집', '검색', '품질', '배달의민족', '검색']\n",
        "stopwords = ['의', '에서', '을', '를', '과', '와', '으로']  # 불용어 예시\n",
        "\n",
        "# 불용어 제거 및 중복 제거\n",
        "cleaned_keywords = list(set([word for word in keywords if word not in stopwords]))\n",
        "print(\"정제된 키워드:\", cleaned_keywords)\n",
        "\n",
        "# 정제된 키워드 활용\n",
        "with open(\"search_keywords.txt\", \"w\") as file:\n",
        "    for keyword in cleaned_keywords:\n",
        "        file.write(keyword + \"\\n\")\n",
        "\n",
        "print(\"검색 학습 데이터 저장 완료.\")\n"
      ],
      "metadata": {
        "colab": {
          "base_uri": "https://localhost:8080/"
        },
        "id": "fyS4O60A_kEL",
        "outputId": "7909b7bc-b75f-40b6-cffa-dd1e541a0ca5"
      },
      "execution_count": 8,
      "outputs": [
        {
          "output_type": "stream",
          "name": "stdout",
          "text": [
            "정제된 키워드: ['검색', '품질', '맛집', '배달의민족']\n",
            "검색 학습 데이터 저장 완료.\n"
          ]
        }
      ]
    }
  ]
}