{
  "nbformat": 4,
  "nbformat_minor": 0,
  "metadata": {
    "colab": {
      "provenance": [],
      "authorship_tag": "ABX9TyPvbFj0D3ikczwHrhYLhNBJ",
      "include_colab_link": true
    },
    "kernelspec": {
      "name": "python3",
      "display_name": "Python 3"
    },
    "language_info": {
      "name": "python"
    }
  },
  "cells": [
    {
      "cell_type": "markdown",
      "metadata": {
        "id": "view-in-github",
        "colab_type": "text"
      },
      "source": [
        "<a href=\"https://colab.research.google.com/github/windyday0622/windyday/blob/main/m9_VISION%20%EC%9D%91%EC%9A%A9/%20gradio_ipynb%EC%9D%98_%EC%82%AC%EB%B3%B8.ipynb\" target=\"_parent\"><img src=\"https://colab.research.google.com/assets/colab-badge.svg\" alt=\"Open In Colab\"/></a>"
      ]
    },
    {
      "cell_type": "markdown",
      "source": [
        "https://www.gradio.app/guides"
      ],
      "metadata": {
        "id": "NkhO-IXcqcgF"
      }
    },
    {
      "cell_type": "markdown",
      "source": [
        "Gradio는 Python 기반의 라이브러리로, 머신러닝 모델 또는 일반적인 함수와 사용자 간의 상호작용을 위한 웹 인터페이스를 간단하게 구축할 수 있도록 도와줍니다. Gradio를 사용하면 몇 줄의 코드로 웹 애플리케이션을 만들 수 있으며, 이를 통해 모델이나 함수를 사용자에게 쉽게 배포할 수 있습니다.\n",
        "\n",
        "**Gradio의 기본 개념**\n",
        "\n",
        "- 웹 인터페이스: Gradio는 머신러닝 모델 또는 일반적인 파이썬 함수를 웹 브라우저에서 실행할 수 있도록 UI를 제공합니다. 이를 통해 사용자는 모델을 직접 입력값을 주거나 결과를 확인할 수 있습니다.\n",
        "- 사용자 상호작용: Gradio는 텍스트 입력, 파일 업로드, 드롭다운 메뉴 등 다양한 위젯을 제공하여 사용자가 쉽게 상호작용할 수 있는 환경을 제공합니다.\n",
        "- 빠른 프로토타이핑: 복잡한 웹 서버 설정 없이도 간단하게 모델을 웹에서 테스트하고 배포할 수 있습니다.\n",
        "\n",
        "**Gradio의 핵심 기능**\n",
        "- 인터페이스 구성 요소:\n",
        "Gradio는 다양한 입력 및 출력 위젯을 제공합니다. 이를 사용하여 웹 기반 인터페이스를 만들 수 있습니다.\n",
        "  - 입력 위젯: Textbox, Dropdown, Slider, Checkbox, FileUpload 등\n",
        "  - 출력 위젯: Textbox, Label, Image, Audio, Video 등\n",
        "\n",
        "Gradio는 Python 기반의 라이브러리로, 머신러닝 모델 또는 일반적인 함수와 사용자 간의 상호작용을 위한 웹 인터페이스를 간단하게 구축할 수 있도록 도와줍니다. Gradio를 사용하면 몇 줄의 코드로 웹 애플리케이션을 만들 수 있으며, 이를 통해 모델이나 함수를 사용자에게 쉽게 배포할 수 있습니다.\n",
        "\n",
        "**Gradio의 기본 개념**\n",
        "\n",
        "- 웹 인터페이스: Gradio는 머신러닝 모델 또는 일반적인 파이썬 함수를 웹 브라우저에서 실행할 수 있도록 UI를 제공합니다. 이를 통해 사용자는 모델을 직접 입력값을 주거나 결과를 확인할 수 있습니다.\n",
        "- 사용자 상호작용: Gradio는 텍스트 입력, 파일 업로드, 드롭다운 메뉴 등 다양한 위젯을 제공하여 사용자가 쉽게 상호작용할 수 있는 환경을 제공합니다.\n",
        "- 빠른 프로토타이핑: 복잡한 웹 서버 설정 없이도 간단하게 모델을 웹에서 테스트하고 배포할 수 있습니다.\n",
        "\n",
        "**Gradio의 핵심 기능**\n",
        "- 인터페이스 구성 요소:\n",
        "Gradio는 다양한 입력 및 출력 위젯을 제공합니다. 이를 사용하여 웹 기반 인터페이스를 만들 수 있습니다.\n",
        "  - 입력 위젯: Textbox, Dropdown, Slider, Checkbox, FileUpload 등\n",
        "  - 출력 위젯: Textbox, Label, Image, Audio, Video 등"
      ],
      "metadata": {
        "id": "h4RtWV0driHl"
      }
    },
    {
      "cell_type": "code",
      "execution_count": null,
      "metadata": {
        "colab": {
          "base_uri": "https://localhost:8080/"
        },
        "id": "craiqrJdkNGk",
        "outputId": "b73af78f-74be-4542-8f84-f75ecad3d60b"
      },
      "outputs": [
        {
          "output_type": "stream",
          "name": "stdout",
          "text": [
            "\u001b[2K     \u001b[90m━━━━━━━━━━━━━━━━━━━━━━━━━━━━━━━━━━━━━━━━\u001b[0m \u001b[32m50.4/50.4 kB\u001b[0m \u001b[31m1.3 MB/s\u001b[0m eta \u001b[36m0:00:00\u001b[0m\n",
            "\u001b[2K   \u001b[90m━━━━━━━━━━━━━━━━━━━━━━━━━━━━━━━━━━━━━━━━\u001b[0m \u001b[32m16.8/16.8 MB\u001b[0m \u001b[31m39.1 MB/s\u001b[0m eta \u001b[36m0:00:00\u001b[0m\n",
            "\u001b[2K   \u001b[90m━━━━━━━━━━━━━━━━━━━━━━━━━━━━━━━━━━━━━━━━\u001b[0m \u001b[32m318.7/318.7 kB\u001b[0m \u001b[31m15.4 MB/s\u001b[0m eta \u001b[36m0:00:00\u001b[0m\n",
            "\u001b[2K   \u001b[90m━━━━━━━━━━━━━━━━━━━━━━━━━━━━━━━━━━━━━━━━\u001b[0m \u001b[32m75.6/75.6 kB\u001b[0m \u001b[31m3.6 MB/s\u001b[0m eta \u001b[36m0:00:00\u001b[0m\n",
            "\u001b[2K   \u001b[90m━━━━━━━━━━━━━━━━━━━━━━━━━━━━━━━━━━━━━━━━\u001b[0m \u001b[32m77.9/77.9 kB\u001b[0m \u001b[31m4.1 MB/s\u001b[0m eta \u001b[36m0:00:00\u001b[0m\n",
            "\u001b[2K   \u001b[90m━━━━━━━━━━━━━━━━━━━━━━━━━━━━━━━━━━━━━━━━\u001b[0m \u001b[32m141.9/141.9 kB\u001b[0m \u001b[31m6.3 MB/s\u001b[0m eta \u001b[36m0:00:00\u001b[0m\n",
            "\u001b[2K   \u001b[90m━━━━━━━━━━━━━━━━━━━━━━━━━━━━━━━━━━━━━━━━\u001b[0m \u001b[32m10.3/10.3 MB\u001b[0m \u001b[31m55.3 MB/s\u001b[0m eta \u001b[36m0:00:00\u001b[0m\n",
            "\u001b[2K   \u001b[90m━━━━━━━━━━━━━━━━━━━━━━━━━━━━━━━━━━━━━━━━\u001b[0m \u001b[32m62.8/62.8 kB\u001b[0m \u001b[31m3.4 MB/s\u001b[0m eta \u001b[36m0:00:00\u001b[0m\n",
            "\u001b[2K   \u001b[90m━━━━━━━━━━━━━━━━━━━━━━━━━━━━━━━━━━━━━━━━\u001b[0m \u001b[32m93.2/93.2 kB\u001b[0m \u001b[31m5.0 MB/s\u001b[0m eta \u001b[36m0:00:00\u001b[0m\n",
            "\u001b[2K   \u001b[90m━━━━━━━━━━━━━━━━━━━━━━━━━━━━━━━━━━━━━━━━\u001b[0m \u001b[32m58.3/58.3 kB\u001b[0m \u001b[31m3.1 MB/s\u001b[0m eta \u001b[36m0:00:00\u001b[0m\n",
            "\u001b[2K   \u001b[90m━━━━━━━━━━━━━━━━━━━━━━━━━━━━━━━━━━━━━━━━\u001b[0m \u001b[32m72.0/72.0 kB\u001b[0m \u001b[31m3.8 MB/s\u001b[0m eta \u001b[36m0:00:00\u001b[0m\n",
            "\u001b[2K   \u001b[90m━━━━━━━━━━━━━━━━━━━━━━━━━━━━━━━━━━━━━━━━\u001b[0m \u001b[32m130.2/130.2 kB\u001b[0m \u001b[31m8.6 MB/s\u001b[0m eta \u001b[36m0:00:00\u001b[0m\n",
            "\u001b[?25h"
          ]
        }
      ],
      "source": [
        "!pip install -q gradio"
      ]
    },
    {
      "cell_type": "code",
      "source": [
        "import gradio as gr\n",
        "\n",
        "def greet(name):\n",
        "    return \"Hello, \" + name + \"!\"\n",
        "\n",
        "demo = gr.Interface(fn=greet, inputs=\"text\", outputs=\"text\")\n",
        "demo.launch()"
      ],
      "metadata": {
        "colab": {
          "base_uri": "https://localhost:8080/",
          "height": 629
        },
        "id": "pTwbEBwwqgjE",
        "outputId": "b3550bcd-d457-47e7-da6f-b20a54bd3364"
      },
      "execution_count": null,
      "outputs": [
        {
          "output_type": "stream",
          "name": "stdout",
          "text": [
            "Setting queue=True in a Colab notebook requires sharing enabled. Setting `share=True` (you can turn this off by setting `share=False` in `launch()` explicitly).\n",
            "\n",
            "Colab notebook detected. To show errors in colab notebook, set debug=True in launch()\n",
            "Running on public URL: https://70150636b8e9eda61e.gradio.live\n",
            "\n",
            "This share link expires in 72 hours. For free permanent hosting and GPU upgrades, run `gradio deploy` from Terminal to deploy to Spaces (https://huggingface.co/spaces)\n"
          ]
        },
        {
          "output_type": "display_data",
          "data": {
            "text/plain": [
              "<IPython.core.display.HTML object>"
            ],
            "text/html": [
              "<div><iframe src=\"https://70150636b8e9eda61e.gradio.live\" width=\"100%\" height=\"500\" allow=\"autoplay; camera; microphone; clipboard-read; clipboard-write;\" frameborder=\"0\" allowfullscreen></iframe></div>"
            ]
          },
          "metadata": {}
        },
        {
          "output_type": "execute_result",
          "data": {
            "text/plain": []
          },
          "metadata": {},
          "execution_count": 2
        }
      ]
    },
    {
      "cell_type": "code",
      "source": [
        "import gradio as gr\n",
        "\n",
        "def greet(name):\n",
        "    return \"Hello, \" + name + \"!\"\n",
        "\n",
        "demo = gr.Interface(\n",
        "    fn=greet,\n",
        "    inputs=gr.Textbox(lines=2, placeholder=\"Name here...\"),\n",
        "    outputs=gr.Textbox(),\n",
        "\n",
        "demo.launch()"
      ],
      "metadata": {
        "colab": {
          "base_uri": "https://localhost:8080/",
          "height": 629
        },
        "id": "pkhNtdPkwCik",
        "outputId": "0743361d-fd32-4ba0-efc6-92dfd98b51a6"
      },
      "execution_count": null,
      "outputs": [
        {
          "output_type": "stream",
          "name": "stdout",
          "text": [
            "Setting queue=True in a Colab notebook requires sharing enabled. Setting `share=True` (you can turn this off by setting `share=False` in `launch()` explicitly).\n",
            "\n",
            "Colab notebook detected. To show errors in colab notebook, set debug=True in launch()\n",
            "Running on public URL: https://4cd620338b273f2e99.gradio.live\n",
            "\n",
            "This share link expires in 72 hours. For free permanent hosting and GPU upgrades, run `gradio deploy` from Terminal to deploy to Spaces (https://huggingface.co/spaces)\n"
          ]
        },
        {
          "output_type": "display_data",
          "data": {
            "text/plain": [
              "<IPython.core.display.HTML object>"
            ],
            "text/html": [
              "<div><iframe src=\"https://4cd620338b273f2e99.gradio.live\" width=\"100%\" height=\"500\" allow=\"autoplay; camera; microphone; clipboard-read; clipboard-write;\" frameborder=\"0\" allowfullscreen></iframe></div>"
            ]
          },
          "metadata": {}
        },
        {
          "output_type": "execute_result",
          "data": {
            "text/plain": []
          },
          "metadata": {},
          "execution_count": 4
        }
      ]
    },
    {
      "cell_type": "code",
      "source": [
        "import gradio as gr\n",
        "\n",
        "def greet(name, is_morning, temperature):\n",
        "    salutation = \"Good morning\" if is_morning else \"Good evening\"\n",
        "    greeting = f\"{salutation}, {name}. It is {temperature} degrees today\"\n",
        "    celsius = (temperature - 32) * 5/9\n",
        "    return greeting, round(celsius, 2)\n",
        "\n",
        "demo = gr.Interface(\n",
        "    fn=greet,\n",
        "    inputs=[\"text\", \"checkbox\", gr.Slider(0, 100)],\n",
        "    outputs=[\"text\", \"number\"]\n",
        ")\n",
        "\n",
        "demo.launch()"
      ],
      "metadata": {
        "colab": {
          "base_uri": "https://localhost:8080/",
          "height": 629
        },
        "id": "qd-TbydBwCfE",
        "outputId": "98f8fcd9-7be0-4b23-ca2f-a56ef890faf1"
      },
      "execution_count": null,
      "outputs": [
        {
          "output_type": "stream",
          "name": "stdout",
          "text": [
            "Setting queue=True in a Colab notebook requires sharing enabled. Setting `share=True` (you can turn this off by setting `share=False` in `launch()` explicitly).\n",
            "\n",
            "Colab notebook detected. To show errors in colab notebook, set debug=True in launch()\n",
            "Running on public URL: https://ee65c23610db5a2cb4.gradio.live\n",
            "\n",
            "This share link expires in 72 hours. For free permanent hosting and GPU upgrades, run `gradio deploy` from Terminal to deploy to Spaces (https://huggingface.co/spaces)\n"
          ]
        },
        {
          "output_type": "display_data",
          "data": {
            "text/plain": [
              "<IPython.core.display.HTML object>"
            ],
            "text/html": [
              "<div><iframe src=\"https://ee65c23610db5a2cb4.gradio.live\" width=\"100%\" height=\"500\" allow=\"autoplay; camera; microphone; clipboard-read; clipboard-write;\" frameborder=\"0\" allowfullscreen></iframe></div>"
            ]
          },
          "metadata": {}
        },
        {
          "output_type": "execute_result",
          "data": {
            "text/plain": []
          },
          "metadata": {},
          "execution_count": 5
        }
      ]
    },
    {
      "cell_type": "code",
      "source": [
        "import numpy as np\n",
        "import gradio as gr\n",
        "from skimage.transform import resize\n",
        "\n",
        "def sepia(input_img):\n",
        "    input_img = resize(input_img, (200, 200))\n",
        "    sepia_filter = np.array([[0.393, 0.769, 0.189],\n",
        "                             [0.349, 0.686, 0.168],\n",
        "                             [0.272, 0.534, 0.131]])\n",
        "\n",
        "    sepia_img = input_img.dot(sepia_filter.T)\n",
        "    sepia_img /= sepia_img.max()\n",
        "    return sepia_img\n",
        "\n",
        "demo = gr.Interface(fn=sepia, inputs=gr.Image(), outputs=gr.Image())\n",
        "demo.launch()"
      ],
      "metadata": {
        "colab": {
          "base_uri": "https://localhost:8080/",
          "height": 629
        },
        "id": "LZRX_XlhwCc8",
        "outputId": "4a1f0aa5-a89a-4f64-aaed-ad89703c9eaa"
      },
      "execution_count": null,
      "outputs": [
        {
          "output_type": "stream",
          "name": "stdout",
          "text": [
            "Setting queue=True in a Colab notebook requires sharing enabled. Setting `share=True` (you can turn this off by setting `share=False` in `launch()` explicitly).\n",
            "\n",
            "Colab notebook detected. To show errors in colab notebook, set debug=True in launch()\n",
            "Running on public URL: https://0b1943afc9057ef1b1.gradio.live\n",
            "\n",
            "This share link expires in 72 hours. For free permanent hosting and GPU upgrades, run `gradio deploy` from Terminal to deploy to Spaces (https://huggingface.co/spaces)\n"
          ]
        },
        {
          "output_type": "display_data",
          "data": {
            "text/plain": [
              "<IPython.core.display.HTML object>"
            ],
            "text/html": [
              "<div><iframe src=\"https://0b1943afc9057ef1b1.gradio.live\" width=\"100%\" height=\"500\" allow=\"autoplay; camera; microphone; clipboard-read; clipboard-write;\" frameborder=\"0\" allowfullscreen></iframe></div>"
            ]
          },
          "metadata": {}
        },
        {
          "output_type": "execute_result",
          "data": {
            "text/plain": []
          },
          "metadata": {},
          "execution_count": 7
        }
      ]
    },
    {
      "cell_type": "code",
      "source": [
        "import gradio as gr\n",
        "\n",
        "def bmi(name, height, weight, feeling):\n",
        "    bmi_val = round(weight / ((height/100) **2),2)\n",
        "    result_emoticon = \"😊\" if bmi_val < 30 else \"😔\"\n",
        "    output_Str = 'Hello ' + name + '... \\n your BMI is ... ' + str(bmi_val)\n",
        "    txt = \"Happy\" if feeling else \"Sad\"\n",
        "    return (output_Str, result_emoticon, txt)\n",
        "\n",
        "bmi(\"Hyunjin\", 155, 50, True)"
      ],
      "metadata": {
        "colab": {
          "base_uri": "https://localhost:8080/"
        },
        "id": "MNEKEB57wCak",
        "outputId": "d101278a-18d3-4524-e96b-dfd715ba036b"
      },
      "execution_count": null,
      "outputs": [
        {
          "output_type": "execute_result",
          "data": {
            "text/plain": [
              "('Hello Hyunjin... \\n your BMI is ... 20.81', '😊', 'Happy')"
            ]
          },
          "metadata": {},
          "execution_count": 9
        }
      ]
    },
    {
      "cell_type": "code",
      "source": [
        "import pandas as pd\n",
        "\n",
        "flag = pd.read_csv(\"/content/flagged/log.csv\")\n",
        "flag"
      ],
      "metadata": {
        "id": "DqoaXBYT6du1"
      },
      "execution_count": null,
      "outputs": []
    },
    {
      "cell_type": "code",
      "source": [
        "import gradio as gr\n",
        "\n",
        "interface = gr.Interface(\n",
        "    fn=bmi,\n",
        "    inputs=[\"text\", gr.Slider(1, 200, label=\"Height in cm\"), gr.Slider(1, 100, label=\"Weight in kg\"),\n",
        "            gr.Checkbox(label=\"You are feeling today\")],\n",
        "    outputs=[\"text\", \"text\", \"text\"],\n",
        "    examples=[\n",
        "        [\"Hyunjin\", 155, 50, True],\n",
        "        [\"John\", 180, 80, False],\n",
        "        [\"Jane\", 160, 70, True]],\n",
        "        live = True,\n",
        "        description = \"Flag if you find an erroneous output\"\n",
        ")\n",
        "interface.launch()"
      ],
      "metadata": {
        "colab": {
          "base_uri": "https://localhost:8080/",
          "height": 629
        },
        "id": "VeRwZ9AqwCW_",
        "outputId": "c8fab396-d4f4-4eb8-fa84-242d2a87cbb9"
      },
      "execution_count": null,
      "outputs": [
        {
          "output_type": "stream",
          "name": "stdout",
          "text": [
            "Setting queue=True in a Colab notebook requires sharing enabled. Setting `share=True` (you can turn this off by setting `share=False` in `launch()` explicitly).\n",
            "\n",
            "Colab notebook detected. To show errors in colab notebook, set debug=True in launch()\n",
            "Running on public URL: https://366fc39d1520492956.gradio.live\n",
            "\n",
            "This share link expires in 72 hours. For free permanent hosting and GPU upgrades, run `gradio deploy` from Terminal to deploy to Spaces (https://huggingface.co/spaces)\n"
          ]
        },
        {
          "output_type": "display_data",
          "data": {
            "text/plain": [
              "<IPython.core.display.HTML object>"
            ],
            "text/html": [
              "<div><iframe src=\"https://366fc39d1520492956.gradio.live\" width=\"100%\" height=\"500\" allow=\"autoplay; camera; microphone; clipboard-read; clipboard-write;\" frameborder=\"0\" allowfullscreen></iframe></div>"
            ]
          },
          "metadata": {}
        },
        {
          "output_type": "execute_result",
          "data": {
            "text/plain": []
          },
          "metadata": {},
          "execution_count": 12
        }
      ]
    },
    {
      "cell_type": "markdown",
      "source": [
        "## Blocks\n",
        "- Gradio의 저수준 API로 인터페이스보다 더 많은 사용자 지정 웹 응용 프로그램 및 데모를 만들 수 있습니다(아직 완전히 Python으로).\n",
        "- 인터페이스 클래스에 비해 Blocks는 다음에 대해 더 많은 유연성과 제어 기능을 제공합니다.\n",
        "- Blocks는 또한 탭과 같은 관련 데모를 함께 그룹화하는 방법을 제공합니다.\n",
        "- Blocks 객체를 생성한 다음 컨텍스트로 사용하고(\"with\" 문 사용) Blocks 컨텍스트 내에서 레이아웃, 구성 요소 또는 이벤트를 정의합니다. 마지막으로 launch() 메서드를 호출하여 데모를 시작합니다."
      ],
      "metadata": {
        "id": "7VIBeERW-K0O"
      }
    },
    {
      "cell_type": "code",
      "source": [
        "def greet(name):\n",
        "    return \"Hello, \" + name + \"!\"\n",
        "\n",
        "with gr.Blocks() as demo:\n",
        "    text_input = gr.Textbox(label=\"Enter your text\")\n",
        "    output = gr.Textbox(label=\"Output\")\n",
        "    btn = gr.Button(\"Submit\")\n",
        "\n",
        "    btn.click(fn=greet, inputs=text_input, outputs=output)\n",
        "\n",
        "demo.launch()"
      ],
      "metadata": {
        "colab": {
          "base_uri": "https://localhost:8080/",
          "height": 629
        },
        "id": "qmXYjbFcwCU8",
        "outputId": "e7fd9bc1-87de-4114-f60c-1c0fc97dc87c"
      },
      "execution_count": null,
      "outputs": [
        {
          "output_type": "stream",
          "name": "stdout",
          "text": [
            "Setting queue=True in a Colab notebook requires sharing enabled. Setting `share=True` (you can turn this off by setting `share=False` in `launch()` explicitly).\n",
            "\n",
            "Colab notebook detected. To show errors in colab notebook, set debug=True in launch()\n",
            "Running on public URL: https://64c15d1a68918cb0ab.gradio.live\n",
            "\n",
            "This share link expires in 72 hours. For free permanent hosting and GPU upgrades, run `gradio deploy` from Terminal to deploy to Spaces (https://huggingface.co/spaces)\n"
          ]
        },
        {
          "output_type": "display_data",
          "data": {
            "text/plain": [
              "<IPython.core.display.HTML object>"
            ],
            "text/html": [
              "<div><iframe src=\"https://64c15d1a68918cb0ab.gradio.live\" width=\"100%\" height=\"500\" allow=\"autoplay; camera; microphone; clipboard-read; clipboard-write;\" frameborder=\"0\" allowfullscreen></iframe></div>"
            ]
          },
          "metadata": {}
        },
        {
          "output_type": "execute_result",
          "data": {
            "text/plain": []
          },
          "metadata": {},
          "execution_count": 17
        }
      ]
    },
    {
      "cell_type": "markdown",
      "source": [
        "### 실습\n",
        "코딩튜터는 고등학생 정보과목에서 알고리즘과 프로그래밍을 학생들이 실습할 수 있게 도와주는 튜터봇"
      ],
      "metadata": {
        "id": "Rg2IJWFqAW_N"
      }
    },
    {
      "cell_type": "markdown",
      "source": [
        "기본 모델 - Few-shot"
      ],
      "metadata": {
        "id": "PG2d5KaKAwE2"
      }
    },
    {
      "cell_type": "code",
      "source": [
        "!pip install openai -q"
      ],
      "metadata": {
        "colab": {
          "base_uri": "https://localhost:8080/"
        },
        "id": "8a3k0_0KBJit",
        "outputId": "6af4e31c-c799-445b-8719-5b0c87add0aa"
      },
      "execution_count": null,
      "outputs": [
        {
          "output_type": "stream",
          "name": "stdout",
          "text": [
            "\u001b[?25l   \u001b[90m━━━━━━━━━━━━━━━━━━━━━━━━━━━━━━━━━━━━━━━━\u001b[0m \u001b[32m0.0/362.9 kB\u001b[0m \u001b[31m?\u001b[0m eta \u001b[36m-:--:--\u001b[0m\r\u001b[2K   \u001b[91m━━━━━━━━━━━━━━━━━━━━━━━━━━━━\u001b[0m\u001b[90m╺\u001b[0m\u001b[90m━━━━━━━━━━━\u001b[0m \u001b[32m256.0/362.9 kB\u001b[0m \u001b[31m7.5 MB/s\u001b[0m eta \u001b[36m0:00:01\u001b[0m\r\u001b[2K   \u001b[90m━━━━━━━━━━━━━━━━━━━━━━━━━━━━━━━━━━━━━━━━\u001b[0m \u001b[32m362.9/362.9 kB\u001b[0m \u001b[31m6.0 MB/s\u001b[0m eta \u001b[36m0:00:00\u001b[0m\n",
            "\u001b[?25h\u001b[?25l   \u001b[90m━━━━━━━━━━━━━━━━━━━━━━━━━━━━━━━━━━━━━━━━\u001b[0m \u001b[32m0.0/318.9 kB\u001b[0m \u001b[31m?\u001b[0m eta \u001b[36m-:--:--\u001b[0m\r\u001b[2K   \u001b[90m━━━━━━━━━━━━━━━━━━━━━━━━━━━━━━━━━━━━━━━━\u001b[0m \u001b[32m318.9/318.9 kB\u001b[0m \u001b[31m22.0 MB/s\u001b[0m eta \u001b[36m0:00:00\u001b[0m\n",
            "\u001b[?25h"
          ]
        }
      ]
    },
    {
      "cell_type": "code",
      "source": [
        "!pip install openai==0.28.0 -q"
      ],
      "metadata": {
        "colab": {
          "base_uri": "https://localhost:8080/"
        },
        "id": "c2HPUuGOBYVt",
        "outputId": "51a17d37-3fe7-4a9a-b7f1-e84e9c2b0d5a"
      },
      "execution_count": null,
      "outputs": [
        {
          "output_type": "stream",
          "name": "stdout",
          "text": [
            "\u001b[?25l   \u001b[90m━━━━━━━━━━━━━━━━━━━━━━━━━━━━━━━━━━━━━━━━\u001b[0m \u001b[32m0.0/76.5 kB\u001b[0m \u001b[31m?\u001b[0m eta \u001b[36m-:--:--\u001b[0m\r\u001b[2K   \u001b[91m━━━━━━━━━━━━━━━━━━━━━━━━━━━━━━━━━━━━━\u001b[0m\u001b[90m╺\u001b[0m\u001b[90m━━\u001b[0m \u001b[32m71.7/76.5 kB\u001b[0m \u001b[31m2.7 MB/s\u001b[0m eta \u001b[36m0:00:01\u001b[0m\r\u001b[2K   \u001b[90m━━━━━━━━━━━━━━━━━━━━━━━━━━━━━━━━━━━━━━━━\u001b[0m \u001b[32m76.5/76.5 kB\u001b[0m \u001b[31m1.9 MB/s\u001b[0m eta \u001b[36m0:00:00\u001b[0m\n",
            "\u001b[?25h"
          ]
        }
      ]
    },
    {
      "cell_type": "code",
      "source": [
        "import gradio as gr\n",
        "import openai\n",
        "\n",
        "openai.api_key = \"\"\n",
        "\n",
        "system_msg = \"\"\"코딩튜터는 고등학생 정보과목에서 알고리즘과 프로그래밍을 학생들이 실습할 수 있게 도와주는 튜터봇입니다.\n",
        "                - 튜터는 \"반가와요~ \"라고 인사말로 학습을 시작합니다.\n",
        "                - 학생이 선택한 섹션으로 학습을 시작하고 먼저 간단하게 섹션 학습내용 요약을 제공합니다.\n",
        "                - 각 섹션별 학습 항목에 대해서 하나씩 개념을 명확하고 친절하게 설명하고 연습문제를 추가로 제공해서 각 개념을 이해하여 활용할 수 있도록 연습합니다.\n",
        "                - 학생의 답변에 대해서 \"잘했어요!\",\"조금 더 생각해봐요~\" 와 같은 긍정적인 피드백을 제공합니다.\n",
        "                - 대화는 간결하게 유지하며, 최대 100자 이내로 진행합니다. 단 코드는 300자 이내로 작성합니다.\n",
        "                - 튜터는 학생들이 자기주도 학습을 할 수 있도록 개인화 된 학습을 제공하고 모든 질의 응답을 한국어로 진행합니다.\"\"\"\n",
        "\n",
        "response = openai.ChatCompletion.create(\n",
        "    model=\"gpt-4o-mini-2024-07-18\",\n",
        "    messages=[\n",
        "        {\"role\": \"system\", \"content\": system_msg},\n",
        "        {\"role\": \"user\", \"content\": \"안녕하세요. 파이썬 기초에 대하여 학습을 지도해줘요\"},\n",
        "        {\"role\": \"assistant\", \"content\": \"반가와요~ 파이썬 기초를 학습해보도록 할게요. 먼저 파이썬의 기본 문법과 개념들을 간단히 요약해드릴게요\"},\n",
        "        {\"role\": \"user\", \"content\": \"변수와 자료형에 대해 학습해줘요.\"},\n",
        "    ],\n",
        "    temperature=0.5,\n",
        "    max_tokens=300,\n",
        "    top_p=1,\n",
        ")\n",
        "\n",
        "print(response.choices[0].message['content'])\n"
      ],
      "metadata": {
        "colab": {
          "base_uri": "https://localhost:8080/"
        },
        "id": "pT7hjCDywCS8",
        "outputId": "5a9ec8f9-9c26-4fcd-dbf7-05af347603c9"
      },
      "execution_count": null,
      "outputs": [
        {
          "output_type": "stream",
          "name": "stdout",
          "text": [
            "좋아요! 변수는 데이터를 저장하는 공간이고, 자료형은 저장할 데이터의 종류를 나타내요. \n",
            "\n",
            "주요 자료형:\n",
            "1. 정수(int)\n",
            "2. 실수(float)\n",
            "3. 문자열(str)\n",
            "4. 불리언(bool)\n",
            "\n",
            "예시:\n",
            "```python\n",
            "x = 5        # 정수\n",
            "y = 3.14     # 실수\n",
            "name = \"홍길동\"  # 문자열\n",
            "is_student = True  # 불리언\n",
            "```\n",
            "\n",
            "이해가 잘 되었나요? 연습문제로 변수를 2개 만들어보세요!\n"
          ]
        }
      ]
    },
    {
      "cell_type": "markdown",
      "source": [
        "**Gradio Web UI**\n",
        "- chat_with_tutor 함수: 이 함수는 OpenAI API를 호출하여 학생의 입력에 대한 튜터의 응답을 처리합니다. 이전 대화 내용을 저장하고 이어서 진행합니다.\n",
        "- start_chat 함수: '학습 시작' 버튼을 누르면 튜터의 인사말과 함께 대화가 시작됩니다.\n",
        "- Gradio UI:\n",
        "  - start_button: 학습을 시작하는 버튼입니다. 누르면 튜터의 인사말이 나타납니다.\n",
        "  - tutor_response: 튜터의 대답을 표시하는 텍스트박스입니다.\n",
        "  - user_input: 학생이 질문을 입력할 수 있는 텍스트박스입니다.\n",
        "  - submit_button: 학생이 질문을 제출하는 버튼입니다.\n",
        "  - gr.State(): 대화 기록을 유지하기 위해 사용됩니다."
      ],
      "metadata": {
        "id": "te5sOkrBA8G9"
      }
    },
    {
      "cell_type": "code",
      "source": [
        "import gradio as gr\n",
        "import openai\n",
        "\n",
        "# OpenAI API\n",
        "openai.api_key = \"\"\n",
        "\n",
        "# 시스템 메시지 설정\n",
        "system_message = \"\"\"코딩튜터는 고등학생 정보과목에서 알고리즘과 프로그래밍을 학생들이 실습할 수 있게 도와주는 튜터봇입니다.\n",
        "- 튜터는 \"반가와요~ \"라고 인사말로 학습을 시작합니다.\n",
        "- 학생이 선택한 섹션으로 학습을 시작하고 먼저 간단하게 섹션 학습내용 요약을 제공합니다.\n",
        "- 각 섹션별 학습 항목에 대해서 하나씩 개념을 명확하고 친절하게 설명하고 연습문제를 추가로 제공해서 각 개념을 이해하여 활용할 수 있도록 연습합니다.\n",
        "- 학생의 답변에 대해서 \"잘했어요!\",\"조금 더 생각해봐요~\" 와 같은 긍정적인 피드백을 제공합니다.\n",
        "- 대화는 간결하게 유지하며, 최대 100자 이내로 진행합니다. 단 코드는 300자 이내로 작성합니다.\n",
        "- 튜터는 학생들이 자기주도 학습을 할 수 있도록 개인화 된 학습을 제공하고 모든 질의 응답을 한국어로 진행합니다.\"\"\"\n",
        "\n",
        "# 채팅함수\n",
        "def chat_with_tutor(user_input, chat_history):\n",
        "    messages = [\n",
        "        {\"role\": \"system\", \"content\": system_message}] + chat_history\n",
        "\n",
        "    if not chat_history:\n",
        "        messages.append({\"role\": \"user\", \"content\": \"안녕하세요. 파이썬 기초에 대하여 학습을 지도해줘요\"})\n",
        "\n",
        "    messages.append({\"role\": \"user\", \"content\": user_input})\n",
        "\n",
        "    response = openai.ChatCompletion.create(\n",
        "        model=\"gpt-4o-mini-2024-07-18\",\n",
        "        messages=messages,\n",
        "        temperature=0.5,\n",
        "        max_tokens=300,\n",
        "        top_p=1,\n",
        "    )\n",
        "\n",
        "    response_msg = response.choices[0].message.content\n",
        "    chat_history.append({\"role\": \"assistant\", \"content\": response_msg})\n",
        "\n",
        "    return response_msg, chat_history\n",
        "\n",
        "# Gradio UI 구성\n",
        "def start_chat():\n",
        "    return \"안녕하세요. 파이썬 기초에 대하여 학습해보도록 할게요. 먼저 파이썬의 기본 문법과 개념들을 간단히 요약해드릴게요.\", []\n",
        "\n",
        "with gr.Blocks() as demo:\n",
        "    gr.Markdown(\"# 파이썬 튜터 봇\")\n",
        "\n",
        "    chat_history = gr.State([])\n",
        "\n",
        "    with gr.Row():\n",
        "        start_button = gr.Button(\"학습시작\")\n",
        "\n",
        "    tutor_response = gr.Textbox(label=\"튜터의 대답\")\n",
        "    user_input = gr.Textbox(label=\"학생의 질문\")\n",
        "\n",
        "    with gr.Row():\n",
        "        submit_button = gr.Button(\"질문 제출\")\n",
        "\n",
        "    start_button.click(start_chat, inputs=[], outputs=[tutor_response, chat_history])\n",
        "    submit_button.click(chat_with_tutor, inputs=[user_input, chat_history], outputs=[tutor_response, chat_history])\n",
        "\n",
        "# 실행\n",
        "demo.launch(debug=True)"
      ],
      "metadata": {
        "colab": {
          "base_uri": "https://localhost:8080/",
          "height": 846
        },
        "id": "Mf3f47glwCNE",
        "outputId": "018989a5-7d00-4cc2-a584-9e5bd1595717"
      },
      "execution_count": null,
      "outputs": [
        {
          "output_type": "stream",
          "name": "stdout",
          "text": [
            "Setting queue=True in a Colab notebook requires sharing enabled. Setting `share=True` (you can turn this off by setting `share=False` in `launch()` explicitly).\n",
            "\n",
            "Colab notebook detected. This cell will run indefinitely so that you can see errors and logs. To turn off, set debug=False in launch().\n",
            "Running on public URL: https://5f585d378e730349c2.gradio.live\n",
            "\n",
            "This share link expires in 72 hours. For free permanent hosting and GPU upgrades, run `gradio deploy` from Terminal to deploy to Spaces (https://huggingface.co/spaces)\n"
          ]
        },
        {
          "output_type": "display_data",
          "data": {
            "text/plain": [
              "<IPython.core.display.HTML object>"
            ],
            "text/html": [
              "<div><iframe src=\"https://5f585d378e730349c2.gradio.live\" width=\"100%\" height=\"500\" allow=\"autoplay; camera; microphone; clipboard-read; clipboard-write;\" frameborder=\"0\" allowfullscreen></iframe></div>"
            ]
          },
          "metadata": {}
        },
        {
          "output_type": "stream",
          "name": "stdout",
          "text": [
            "Keyboard interruption in main thread... closing server.\n",
            "Killing tunnel 127.0.0.1:7860 <> https://70150636b8e9eda61e.gradio.live\n",
            "Killing tunnel 127.0.0.1:7861 <> https://4cd620338b273f2e99.gradio.live\n",
            "Killing tunnel 127.0.0.1:7862 <> https://ee65c23610db5a2cb4.gradio.live\n",
            "Killing tunnel 127.0.0.1:7863 <> https://0b1943afc9057ef1b1.gradio.live\n",
            "Killing tunnel 127.0.0.1:7864 <> https://6b15399e7336c03bd5.gradio.live\n",
            "Killing tunnel 127.0.0.1:7865 <> https://366fc39d1520492956.gradio.live\n",
            "Killing tunnel 127.0.0.1:7866 <> https://3be58ea8128699c655.gradio.live\n",
            "Killing tunnel 127.0.0.1:7867 <> https://238da3bff695da86c4.gradio.live\n",
            "Killing tunnel 127.0.0.1:7868 <> https://d7d735f4f2079afe5d.gradio.live\n",
            "Killing tunnel 127.0.0.1:7869 <> https://64c15d1a68918cb0ab.gradio.live\n",
            "Killing tunnel 127.0.0.1:7870 <> https://5f585d378e730349c2.gradio.live\n"
          ]
        },
        {
          "output_type": "execute_result",
          "data": {
            "text/plain": []
          },
          "metadata": {},
          "execution_count": 24
        }
      ]
    }
  ]
}