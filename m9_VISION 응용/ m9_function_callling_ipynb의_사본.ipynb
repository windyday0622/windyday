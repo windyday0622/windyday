{
  "nbformat": 4,
  "nbformat_minor": 0,
  "metadata": {
    "colab": {
      "provenance": [],
      "authorship_tag": "ABX9TyPOso14ul+ij6XVcbU10BvN",
      "include_colab_link": true
    },
    "kernelspec": {
      "name": "python3",
      "display_name": "Python 3"
    },
    "language_info": {
      "name": "python"
    }
  },
  "cells": [
    {
      "cell_type": "markdown",
      "metadata": {
        "id": "view-in-github",
        "colab_type": "text"
      },
      "source": [
        "<a href=\"https://colab.research.google.com/github/windyday0622/windyday/blob/main/m9_VISION%20%EC%9D%91%EC%9A%A9/%20m9_function_callling_ipynb%EC%9D%98_%EC%82%AC%EB%B3%B8.ipynb\" target=\"_parent\"><img src=\"https://colab.research.google.com/assets/colab-badge.svg\" alt=\"Open In Colab\"/></a>"
      ]
    },
    {
      "cell_type": "markdown",
      "source": [
        "#### Function Calling의 사용\n",
        "- 이 코드에서 function calling은 모델이 적절한 시점에 외부 함수(get_current_weather)를 호출하도록 유도합니다. 모델이 What is the current weather in {user_location}?와 같은 질문에 응답할 때, 해당 함수가 정의되어 있으면 모델은 그 함수를 호출하여 날씨 정보를 가져오려 합니다.\n",
        "\n",
        "- function_call=\"auto\" 설정을 통해 GPT 모델은 적절한 함수가 있을 때 자동으로 그 함수를 호출할 수 있습니다. 여기서는 get_current_weather 함수 명세를 통해 사용자가 입력한 위치에 맞는 날씨 정보를 가져올 수 있도록 유도됩니다.\n",
        "\n",
        "- 만약 모델이 함수 호출을 결정하면, 응답에 function_call이 포함되며, 이때 함수 이름과 그 인자가 함께 반환됩니다. 그런 후에 함수가 호출되고, 결과가 다시 모델에 제공됩니다.\n",
        "\n",
        "이 과정에서 모델은 단순히 인자를 생성하고, 함수를 호출하는 것은 개발자의 책임입니다. OpenAI의 API는 실제 함수 실행을 수행하지 않으므로, 함수 호출 후 결과를 처리하고 다시 모델에 넘기는 과정을 수동으로 처리하게 됩니다."
      ],
      "metadata": {
        "id": "mChnVKXbArix"
      }
    },
    {
      "cell_type": "code",
      "execution_count": null,
      "metadata": {
        "id": "o59bekIT_4t0"
      },
      "outputs": [],
      "source": [
        "!pip install openai --quiet"
      ]
    },
    {
      "cell_type": "markdown",
      "source": [
        "https://home.openweathermap.org/"
      ],
      "metadata": {
        "id": "_jMV57AFB_CR"
      }
    },
    {
      "cell_type": "code",
      "source": [
        "pip install openai==0.28"
      ],
      "metadata": {
        "colab": {
          "base_uri": "https://localhost:8080/"
        },
        "id": "iVOUwayWIIIQ",
        "outputId": "46206f29-bf34-48c7-ffe4-b1e4fd895bf4"
      },
      "execution_count": null,
      "outputs": [
        {
          "output_type": "stream",
          "name": "stdout",
          "text": [
            "Requirement already satisfied: openai==0.28 in /usr/local/lib/python3.10/dist-packages (0.28.0)\n",
            "Requirement already satisfied: requests>=2.20 in /usr/local/lib/python3.10/dist-packages (from openai==0.28) (2.32.3)\n",
            "Requirement already satisfied: tqdm in /usr/local/lib/python3.10/dist-packages (from openai==0.28) (4.66.5)\n",
            "Requirement already satisfied: aiohttp in /usr/local/lib/python3.10/dist-packages (from openai==0.28) (3.10.2)\n",
            "Requirement already satisfied: charset-normalizer<4,>=2 in /usr/local/lib/python3.10/dist-packages (from requests>=2.20->openai==0.28) (3.3.2)\n",
            "Requirement already satisfied: idna<4,>=2.5 in /usr/local/lib/python3.10/dist-packages (from requests>=2.20->openai==0.28) (3.7)\n",
            "Requirement already satisfied: urllib3<3,>=1.21.1 in /usr/local/lib/python3.10/dist-packages (from requests>=2.20->openai==0.28) (2.0.7)\n",
            "Requirement already satisfied: certifi>=2017.4.17 in /usr/local/lib/python3.10/dist-packages (from requests>=2.20->openai==0.28) (2024.7.4)\n",
            "Requirement already satisfied: aiohappyeyeballs>=2.3.0 in /usr/local/lib/python3.10/dist-packages (from aiohttp->openai==0.28) (2.3.5)\n",
            "Requirement already satisfied: aiosignal>=1.1.2 in /usr/local/lib/python3.10/dist-packages (from aiohttp->openai==0.28) (1.3.1)\n",
            "Requirement already satisfied: attrs>=17.3.0 in /usr/local/lib/python3.10/dist-packages (from aiohttp->openai==0.28) (24.2.0)\n",
            "Requirement already satisfied: frozenlist>=1.1.1 in /usr/local/lib/python3.10/dist-packages (from aiohttp->openai==0.28) (1.4.1)\n",
            "Requirement already satisfied: multidict<7.0,>=4.5 in /usr/local/lib/python3.10/dist-packages (from aiohttp->openai==0.28) (6.0.5)\n",
            "Requirement already satisfied: yarl<2.0,>=1.0 in /usr/local/lib/python3.10/dist-packages (from aiohttp->openai==0.28) (1.9.4)\n",
            "Requirement already satisfied: async-timeout<5.0,>=4.0 in /usr/local/lib/python3.10/dist-packages (from aiohttp->openai==0.28) (4.0.3)\n"
          ]
        }
      ]
    },
    {
      "cell_type": "code",
      "source": [
        "weather_api_key = c6d1febec8cca7e472b48ac85ddbcb50"
      ],
      "metadata": {
        "id": "mxe3729oAteR"
      },
      "execution_count": null,
      "outputs": []
    },
    {
      "cell_type": "code",
      "source": [
        "import openai\n",
        "import requests\n",
        "\n",
        "# OpenAI API key 설정\n",
        "openai.api_key = ''\n",
        "\n",
        "# 날씨 API 키 설정\n",
        "weather_api_key = 'c6d1febec8cca7e472b48ac85ddbcb50'\n",
        "\n",
        "# 날씨 정보를 가져오는 함수 정의\n",
        "def get_current_weather(location):\n",
        "    url = f\"http://api.openweathermap.org/data/2.5/weather?q={location}&appid={weather_api_key}&units=metric\"\n",
        "    response = requests.get(url)\n",
        "    return response.json()\n",
        "\n",
        "# 사용자 요청 메세지\n",
        "message = [\n",
        "    {\"role\": \"system\", \"content\": \"You are a helpful assistant.\"},\n",
        "    {\"role\": \"user\", \"content\": \"What is the current weather in New York?\"}\n",
        "]\n",
        "\n",
        "# GPT-4 모델 호출 (신규 API)\n",
        "response = openai.ChatCompletion.create(\n",
        "    model=\"gpt-4\",  # Ensure you're using a valid model name\n",
        "    messages=message,\n",
        "    functions=[{\n",
        "        \"name\": \"get_current_weather\",\n",
        "        \"description\": \"Get the current weather for a specific location.\",\n",
        "        \"parameters\": {\n",
        "            \"type\": \"object\",\n",
        "            \"properties\": {\n",
        "                \"location\": {\n",
        "                    \"type\": \"string\",\n",
        "                    \"description\": \"The name of the city to get the weather for\"\n",
        "                }\n",
        "            },\n",
        "            \"required\": [\"location\"]\n",
        "        }\n",
        "    }],\n",
        "    function_call=\"auto\"  # Automatically calls the function if needed\n",
        ")\n",
        "# 모델의 응답 메시지를 message 리스트에 추가하고 출력\n",
        "response_message = response.choices[0].message\n",
        "message.append(response_message)\n",
        "print(response_message)"
      ],
      "metadata": {
        "colab": {
          "base_uri": "https://localhost:8080/"
        },
        "id": "U-FLzwIAAt5R",
        "outputId": "a55f9e66-8022-4d69-c03f-cd74056c717a"
      },
      "execution_count": null,
      "outputs": [
        {
          "output_type": "stream",
          "name": "stdout",
          "text": [
            "{\n",
            "  \"role\": \"assistant\",\n",
            "  \"content\": null,\n",
            "  \"function_call\": {\n",
            "    \"name\": \"get_current_weather\",\n",
            "    \"arguments\": \"{\\n  \\\"location\\\": \\\"New York\\\"\\n}\"\n",
            "  },\n",
            "  \"refusal\": null\n",
            "}\n"
          ]
        }
      ]
    },
    {
      "cell_type": "code",
      "source": [
        "import json  # json 모듈 임포트\n",
        "\n",
        "# 도구 호출 여부 확인\n",
        "function_call = response_message.function_call\n",
        "if function_call:\n",
        "    tool_function_name = function_call.name\n",
        "    tool_arguments = json.loads(function_call.arguments)\n",
        "\n",
        "    # 함수 호출 및 결과 처리\n",
        "    if tool_function_name == \"get_current_weather\":\n",
        "        location = tool_arguments[\"location\"]\n",
        "        weather_results = get_current_weather(location)\n",
        "\n",
        "        # 함수 호출 결과 메세지 추가\n",
        "        message.append({\n",
        "            \"role\": \"function\",\n",
        "            \"name\": tool_function_name,\n",
        "            \"content\": json.dumps(weather_results)\n",
        "        })\n",
        "\n",
        "        # 모델 재호출\n",
        "        model_response_with_function_call = openai.ChatCompletion.create(\n",
        "            model=\"gpt-4\",\n",
        "            messages=message\n",
        "        )\n",
        "        print(model_response_with_function_call.choices[0].message.content)\n",
        "    else:\n",
        "        print(f\"Error: function {tool_function_name} does not exist\")\n",
        "else:\n",
        "    # 도구 호출이 없는 경우 반환\n",
        "    print(response_message.content)"
      ],
      "metadata": {
        "colab": {
          "base_uri": "https://localhost:8080/"
        },
        "id": "2LKRn_0JAt3R",
        "outputId": "77da7940-3988-4345-b9ab-f2cb5d6c7530"
      },
      "execution_count": null,
      "outputs": [
        {
          "output_type": "stream",
          "name": "stdout",
          "text": [
            "The current weather in New York is moderate rain with a temperature of 21.62°C. The weather feels like 22.19°C. Visibility is currently at 4828 meters due to the mist. The wind is blowing at a speed of 4.63 meters per second from the north-east.\n"
          ]
        }
      ]
    },
    {
      "cell_type": "code",
      "source": [
        "import openai\n",
        "import requests\n",
        "import json\n",
        "\n",
        "# OpenAI API key 설정\n",
        "openai.api_key = ''\n",
        "\n",
        "# 날씨 API 키 설정\n",
        "weather_api_key = 'c6d1febec8cca7e472b48ac85ddbcb50'\n",
        "\n",
        "# 날씨 정보를 가져오는 함수 정의\n",
        "def get_current_weather(location):\n",
        "    url = f\"http://api.openweathermap.org/data/2.5/weather?q={location}&appid={weather_api_key}&units=metric\"\n",
        "    response = requests.get(url)\n",
        "    return response.json()\n",
        "\n",
        "# 사용자 요청 메세지\n",
        "message = [\n",
        "    {\"role\": \"system\", \"content\": \"You are a helpful assistant.\"},\n",
        "    {\"role\": \"user\", \"content\": \"What is the current weather in Seoul?\"}\n",
        "]\n",
        "\n",
        "# GPT-4 모델 호출 (신규 API)\n",
        "response = openai.ChatCompletion.create(\n",
        "    model=\"gpt-4\",  # Ensure you're using a valid model name\n",
        "    messages=message,\n",
        "    functions=[{\n",
        "        \"name\": \"get_current_weather\",\n",
        "        \"description\": \"Get the current weather for a specific location.\",\n",
        "        \"parameters\": {\n",
        "            \"type\": \"object\",\n",
        "            \"properties\": {\n",
        "                \"location\": {\n",
        "                    \"type\": \"string\",\n",
        "                    \"description\": \"The name of the city to get the weather for\"\n",
        "                }\n",
        "            },\n",
        "            \"required\": [\"location\"]\n",
        "        }\n",
        "    }],\n",
        "    function_call=\"auto\"  # Automatically calls the function if needed\n",
        ")\n",
        "\n",
        "# 모델의 응답 메시지를 message 리스트에 추가하고 출력\n",
        "response_message = response.choices[0].message\n",
        "message.append(response_message)\n",
        "\n",
        "# 도구 호출 여부 확인\n",
        "function_call = response_message.get(\"function_call\")\n",
        "if function_call:\n",
        "    tool_function_name = function_call.get(\"name\")\n",
        "    tool_arguments = json.loads(function_call.get(\"arguments\"))\n",
        "\n",
        "    # 함수 호출 및 결과 처리\n",
        "    if tool_function_name == \"get_current_weather\":\n",
        "        location = tool_arguments[\"location\"]\n",
        "        weather_results = get_current_weather(location)\n",
        "\n",
        "        # 함수 호출 결과 메세지 추가\n",
        "        message.append({\n",
        "            \"role\": \"function\",\n",
        "            \"name\": tool_function_name,\n",
        "            \"content\": json.dumps(weather_results)\n",
        "        })\n",
        "\n",
        "        # 모델 재호출\n",
        "        model_response_with_function_call = openai.ChatCompletion.create(\n",
        "            model=\"gpt-4\",\n",
        "            messages=message\n",
        "        )\n",
        "        print(model_response_with_function_call.choices[0].message.content)\n",
        "    else:\n",
        "        print(f\"Error: function {tool_function_name} does not exist\")\n",
        "else: 3\n",
        "    # 도구 호출이 없는 경우 반환\n",
        "    print(response_message.content)\n"
      ],
      "metadata": {
        "colab": {
          "base_uri": "https://localhost:8080/"
        },
        "id": "-lHjWO-BAt1B",
        "outputId": "88b5620e-20a3-4b4b-ca3f-066ef73bcb6a"
      },
      "execution_count": null,
      "outputs": [
        {
          "output_type": "stream",
          "name": "stdout",
          "text": [
            "The current weather in Seoul is as follows:\n",
            "- Temperature: 30.66°C, but it feels like 36.98°C\n",
            "- Minimum temperature: 29.69°C\n",
            "- Maximum temperature: 30.66°C\n",
            "- Humidity: 71%\n",
            "- Visibility: 10000 meters\n",
            "- Wind Speed: 1.31 m/s\n",
            "- There are a few clouds in the sky.\n",
            "\n",
            "Please bear in mind that weather conditions can change quickly.\n"
          ]
        }
      ]
    },
    {
      "cell_type": "markdown",
      "source": [
        "## How to call functions with model generated arguments\n",
        "\n",
        "다음 예제에서는 모델에서 생성된 입력을 갖는 함수를 실행하는 방법을 보여주고 이를 사용하여 데이터베이스에 대한 질문에 답할 수 있는 에이전트를 구현합니다. 단순화를 위해 Chinook 샘플 데이터베이스를 사용하겠습니다 .\n",
        "\n",
        "참고: 모델이 올바른 SQL을 생성하는 데 완벽하게 신뢰할 수 없기 때문에 프로덕션 환경에서 SQL 생성은 위험할 수 있습니다.\n",
        "\n",
        "이 코드는 OpenAI의 GPT 모델을 사용하여 SQLite 데이터베이스에서 음악 관련 질문에 대한 답변을 SQL 쿼리로 변환한 후, 해당 쿼리를 실행하여 결과를 반환하는 방식으로 function calling을 구현한 예시입니다. 여기서는 사용자가 앨범 관련 질문을 하면, GPT-4가 질문을 SQL 쿼리로 변환하고, SQLite 데이터베이스를 조회하여 결과를 반환합니다."
      ],
      "metadata": {
        "id": "8mebpnV8X5de"
      }
    },
    {
      "cell_type": "code",
      "source": [
        "import sqlite3\n",
        "from google.colab import drive\n",
        "\n",
        "# Google Drive 마운트\n",
        "drive.mount('/content/drive')\n",
        "\n",
        "conn = sqlite3.connect('/content/drive/MyDrive/kdt_240424/m9_llm/data/Chinook.db')\n",
        "print(\"Opened database successfully\")"
      ],
      "metadata": {
        "colab": {
          "base_uri": "https://localhost:8080/"
        },
        "id": "X2QvA2i0AtyZ",
        "outputId": "21f7c2c4-0363-496a-a2b5-398018f3b1c6"
      },
      "execution_count": null,
      "outputs": [
        {
          "output_type": "stream",
          "name": "stdout",
          "text": [
            "Drive already mounted at /content/drive; to attempt to forcibly remount, call drive.mount(\"/content/drive\", force_remount=True).\n",
            "Opened database successfully\n"
          ]
        }
      ]
    },
    {
      "cell_type": "markdown",
      "source": [
        "데이터베이스 테이블 및 열 정보 조회\n",
        "\n",
        "- get_table_names, get_column_names 함수를 통해 데이터베이스의 테이블 및 열 이름을 가져옵니다.\n",
        "- 이 정보는 나중에 GPT 모델이 SQL 쿼리를 생성할 때 사용할 스키마 정보를 제공하는 데 활용됩니다."
      ],
      "metadata": {
        "id": "blCfJ43ZdSbV"
      }
    },
    {
      "cell_type": "code",
      "source": [
        "# 데이터 베이스에서 테이블목록을 추출하는 함수. sqlite_master 테이블에서 'type'이 'table'인 항목들의 이름을 가져오기\n",
        "def get_table_names(conn):\n",
        "    \"\"\"Return a list of table names.\"\"\"\n",
        "    table_names = []\n",
        "    tables = conn.execute(\"SELECT name FROM sqlite_master WHERE type='table';\")\n",
        "    for table in tables.fetchall():\n",
        "        table_names.append(table[0])\n",
        "    return table_names\n",
        "\n",
        "# PRAGMA table_info(table_name) 명령을 사용하여 테이블의 스키마 정보를 가져오고, 컬럼이름을 리스트로 반환\n",
        "def get_column_names(conn, table_name):\n",
        "    \"\"\"Return a list of column names.\"\"\"\n",
        "    column_names = []\n",
        "    columns = conn.execute(f\"PRAGMA table_info({table_name});\").fetchall()\n",
        "    for column in columns:\n",
        "        column_names.append(column[1])\n",
        "    return column_names\n",
        "\n",
        "def get_database_info(conn):\n",
        "    \"\"\"Return a list of dicts containing the table names and columns for each table in the database.\"\"\"\n",
        "    table_dicts = []\n",
        "    for table_name in get_table_names(conn):\n",
        "        column_names = get_column_names(conn, table_name)\n",
        "        table_dicts.append({\"table_name\": table_name, \"columns_names\": column_names})\n",
        "    return table_dicts"
      ],
      "metadata": {
        "id": "E55J50g2Atrx"
      },
      "execution_count": null,
      "outputs": []
    },
    {
      "cell_type": "markdown",
      "source": [
        "tools라는 리스트에 ask_database라는 함수 명세를 정의합니다.\n",
        "- 이 함수는 사용자의 질문에 맞는 SQL 쿼리를 받아 데이터베이스에서 정보를 조회하고, 이를 반환하는 기능을 합니다.\n",
        "- 함수의 매개변수로 query가 있으며, 이는 SQL 쿼리를 텍스트 형태로 전달받아 실행하는 구조입니다.\n",
        "- 중요한 점은 database_schema_string이 함수 설명에 포함되어 있어, 모델이 데이터베이스 스키마에 맞는 SQL 쿼리를 생성할 수 있도록 도움을 줍니다."
      ],
      "metadata": {
        "id": "IjOBWVdEdLJk"
      }
    },
    {
      "cell_type": "code",
      "source": [
        "tools = {\n",
        "    \"type\": \"function\",\n",
        "    \"function\": {\n",
        "        \"name\": \"ask_database\",\n",
        "        \"description\": \"Use this function to answer user questions about music. Input should be a fully formed SQL query.\",\n",
        "        \"parameters\": {\n",
        "            \"type\": \"object\",\n",
        "            \"properties\": {\n",
        "                \"query\": {\n",
        "                    \"type\": \"string\",\n",
        "                    \"description\": \"SQL query extracting info to answer the user question. SQL should be written using this database schema: {database_schema_string} The query should be returned in plain text, not in JSON.\"\n",
        "                }\n",
        "            },\n",
        "            \"required\": [\"query\"]\n",
        "        }\n",
        "    }\n",
        "}\n"
      ],
      "metadata": {
        "id": "ywZFnESXJNx4"
      },
      "execution_count": null,
      "outputs": []
    },
    {
      "cell_type": "code",
      "source": [
        "def ask_database(conn, query):\n",
        "    \"\"\"Function to query SQLite database with a provided SQL query.\"\"\"\n",
        "    try:\n",
        "        results = str(conn.execute(query).fetchall())\n",
        "    except Exception as e:\n",
        "        results = f\"query failed with error: {e}\"\n",
        "    return results"
      ],
      "metadata": {
        "id": "aSwp-ahEJNv5"
      },
      "execution_count": null,
      "outputs": []
    },
    {
      "cell_type": "markdown",
      "source": [
        "##### Steps to invoke a function call using Chat Completions API:\n",
        "\n",
        "- 1단계 : 모델이 사용할 도구를 선택하도록 하는 내용으로 모델을 프롬프트합니다. 함수 이름 및 서명과 같은 도구에 대한 설명은 '도구' 목록에 정의되어 API 호출에서 모델에 전달됩니다. 선택한 경우 함수 이름과 매개변수가 응답에 포함됩니다.\n",
        "- 2단계 : 모델이 함수를 호출하려고 하는지 프로그래밍적으로 확인합니다. 참이면 3단계로 진행합니다.\n",
        "- 3단계 : 응답에서 함수 이름과 매개변수를 추출하고 매개변수와 함께 함수를 호출합니다. 결과를 메시지에 추가합니다.\n",
        "- 4단계 : 메시지 목록으로 채팅 완료 API를 호출하여 응답을 가져옵니다."
      ],
      "metadata": {
        "id": "YcQUMtE8gfjM"
      }
    },
    {
      "cell_type": "code",
      "source": [
        "# 사용자의 요청 메세지를 정의합니다.\n",
        "message = [\n",
        "    {\"role\": \"user\", \"content\": \"What is the names of the album with the most tracks?\"}\n",
        "]\n",
        "\n",
        "# 사용자의 질문에 대한 응답을 생성. tools와 tool_choice 파라미터는 모댈아 데이터 베이스 쿼리를 인식하고 자동으로 도구를 선택할 수 있도록 돕습니다.\n",
        "response = openai.ChatCompletion.create(\n",
        "    model=\"gpt-4\",\n",
        "    messages=message,\n",
        "    tools=[tools],\n",
        "    tool_choice=\"auto\"\n",
        ")\n",
        "\n",
        "# 모델의 응답 메시지를 message 리스트에 추가하고 출력\n",
        "response_message = response.choices[0].message\n",
        "message.append(response_message)\n",
        "\n",
        "print(response_message)"
      ],
      "metadata": {
        "colab": {
          "base_uri": "https://localhost:8080/"
        },
        "id": "HqKHsz6mmUmc",
        "outputId": "2dc3d1ee-aa19-4e4a-d1a5-35e18cd45edf"
      },
      "execution_count": null,
      "outputs": [
        {
          "output_type": "stream",
          "name": "stdout",
          "text": [
            "{\n",
            "  \"role\": \"assistant\",\n",
            "  \"content\": null,\n",
            "  \"tool_calls\": [\n",
            "    {\n",
            "      \"id\": \"call_PXAUkBFcsxez2dFpS0n0BOdT\",\n",
            "      \"type\": \"function\",\n",
            "      \"function\": {\n",
            "        \"name\": \"ask_database\",\n",
            "        \"arguments\": \"{\\n  \\\"query\\\": \\\"SELECT album.title FROM album INNER JOIN track ON album.id = track.album_id GROUP BY album.id ORDER BY COUNT(track.id) DESC LIMIT 1\\\"\\n}\"\n",
            "      }\n",
            "    }\n",
            "  ],\n",
            "  \"refusal\": null\n",
            "}\n"
          ]
        }
      ]
    },
    {
      "cell_type": "code",
      "source": [
        "# 모델 응답에서 도구 호출이 포함되어 있는지 확인하고, 도구 호출이 있다면, 도구 호출 ID, 함수 이름 및 쿼리 문자열을 추출\n",
        "tool_calls = response_message.tool_calls\n",
        "if tool_calls:\n",
        "    tool_call_id = tool_calls[0].id\n",
        "    tool_function_name = tool_calls[0].function.name\n",
        "    tool_query_string = json.loads(tool_calls[0].function.arguments)[\"query\"]\n",
        "\n",
        "    # 도구 호출 함수 이름이 'ask_database'인 경우, ask_database 함수를 사용하여 데이터베이스 쿼리를 실행, 결과를 messages 리스트에 추가\n",
        "    if tool_function_name == \"ask_database\":\n",
        "        results = ask_database(conn, tool_query_string)\n",
        "        message.append({\n",
        "            \"role\": \"tool\",\n",
        "            \"tool_call_id\": tool_call_id,\n",
        "            \"name\": tool_function_name,\n",
        "            \"content\": results\n",
        "        })\n",
        "\n",
        "        # 도구 호출 결과가 포함된 messages 리스트를 사용하여 모델을 다시 호출하고 최종 응답을 출력합니다.\n",
        "        model_response_with_function_call = openai.ChatCompletion.create(\n",
        "            model=\"gpt-4\",\n",
        "            messages=messages,\n",
        "        )\n",
        "        print(model_response_with_function_call.choices[0].message.content)\n",
        "\n",
        "    else:\n",
        "        print(f\"Error: function {tool_function_name} does not exist\")\n",
        "\n",
        "else:\n",
        "    print(response_message.content)"
      ],
      "metadata": {
        "colab": {
          "base_uri": "https://localhost:8080/"
        },
        "id": "mzvws0PgJNoQ",
        "outputId": "b80b81b1-723b-4292-d340-9ac132fc1399"
      },
      "execution_count": null,
      "outputs": [
        {
          "output_type": "stream",
          "name": "stdout",
          "text": [
            "I apologize for the mistake. It seems there was an issue with column names in the query. Let me correct it. \n",
            "\n",
            "May I kindly ask you to share specific column names or schema of your database so I can amend it accordingly? \n",
            "\n",
            "However, if column names are generic then here is the modified query. It assumes that each album and track has a unique id (\"album_id\" for albums and \"track_id\" for tracks). It also assumes that there is a column \"album_id\" in the track table that associates each track with an album:\n",
            "\n",
            "```sql\n",
            "SELECT album.title \n",
            "FROM album \n",
            "JOIN track ON album.album_id = track.album_id \n",
            "GROUP BY album.album_id \n",
            "ORDER BY COUNT(track.track_id) DESC \n",
            "LIMIT 1\n",
            "```\n",
            "\n",
            "This SQL command will return the title of the album that has the most tracks. If there are multiple albums that have the most tracks, it will return one of them.\n"
          ]
        }
      ]
    }
  ]
}