{
  "nbformat": 4,
  "nbformat_minor": 0,
  "metadata": {
    "colab": {
      "provenance": [],
      "authorship_tag": "ABX9TyNxgbVbRSuKjSbA1xs4n1Is",
      "include_colab_link": true
    },
    "kernelspec": {
      "name": "python3",
      "display_name": "Python 3"
    },
    "language_info": {
      "name": "python"
    }
  },
  "cells": [
    {
      "cell_type": "markdown",
      "metadata": {
        "id": "view-in-github",
        "colab_type": "text"
      },
      "source": [
        "<a href=\"https://colab.research.google.com/github/windyday0622/windyday/blob/main/m2_%ED%8C%8C%EC%9D%B4%EC%8D%AC%20%ED%94%84%EB%A1%9C%EA%B7%B8%EB%9E%98%EB%B0%8D/%EA%B3%BC%EC%A0%9C240430.ipynb\" target=\"_parent\"><img src=\"https://colab.research.google.com/assets/colab-badge.svg\" alt=\"Open In Colab\"/></a>"
      ]
    },
    {
      "cell_type": "markdown",
      "source": [
        "Task1_0430. 남녀 파트너 정해주기 프로그램(zip)\n",
        "\n",
        "같은 수의 남녀 모임에서 파트너를 랜덤하게 정해주는 프로그램을 만들어 보세요\n",
        "\n",
        "male = ['철수','갑돌','로미오','이몽룡','온돌']\n",
        "\n",
        "female = ['미미','갑순','줄리엣','성춘향','평강']"
      ],
      "metadata": {
        "id": "ugQxQzsbwfAS"
      }
    },
    {
      "cell_type": "code",
      "execution_count": 5,
      "metadata": {
        "colab": {
          "base_uri": "https://localhost:8080/"
        },
        "id": "VBlzeFaMvf-L",
        "outputId": "2905fe40-1782-49b4-f3cd-88327828473c"
      },
      "outputs": [
        {
          "output_type": "stream",
          "name": "stdout",
          "text": [
            "갑돌 - 갑순\n",
            "온돌 - 평강\n",
            "로미오 - 줄리엣\n",
            "이몽룡 - 성춘향\n",
            "철수 - 미미\n"
          ]
        }
      ],
      "source": [
        "male = ['철수','갑돌','로미오','이몽룡','온돌']\n",
        "female = ['미미','갑순','줄리엣','성춘향','평강']\n",
        "from random import shuffle\n",
        "people = list(zip(male, female))\n",
        "shuffle(people)\n",
        "for male, female in people:\n",
        "    print(male, \"-\", female)"
      ]
    },
    {
      "cell_type": "markdown",
      "source": [
        "Task2_0430. 대문자, 소문자, 숫자를 포함하는 8자리 랜덤 비밀번호를 생성하는 프로그램을 작성하세요."
      ],
      "metadata": {
        "id": "yDRLzKLjwfcp"
      }
    },
    {
      "cell_type": "code",
      "source": [
        "import random\n",
        "import string\n",
        "\n",
        "def generate_password():\n",
        "    return ''.join(random.choices(string.ascii_letters + string.digits, k=8))\n",
        "\n",
        "# 비밀번호 생성 및 출력\n",
        "print(\"Generated Password:\", generate_password())"
      ],
      "metadata": {
        "colab": {
          "base_uri": "https://localhost:8080/"
        },
        "id": "y-hXM_W1wfsJ",
        "outputId": "58c501ee-3f52-4c72-83eb-cb00be670317"
      },
      "execution_count": 7,
      "outputs": [
        {
          "output_type": "stream",
          "name": "stdout",
          "text": [
            "Generated Password: qCPZSooI\n"
          ]
        }
      ]
    },
    {
      "cell_type": "markdown",
      "source": [
        "Task3_0430. 발표자 수를 랜덤하게 출력하는 프로그램을 작성하세요.(발표자 수 입력)\n",
        "\n",
        "kita = ['김성현','황강민','윤호준','류윤선','이상협','박지환','최환욱','서보선','김한결','김도현','김하준',\n",
        "        '김도원','신현진','소지승','이범석','이현석','이명신','박윤경','이도헌','김홍준']"
      ],
      "metadata": {
        "id": "jkj69aqswgIB"
      }
    },
    {
      "cell_type": "code",
      "source": [
        "import random\n",
        "\n",
        "kita = ['김성현','황강민','윤호준','류윤선','이상협','박지환','최환욱','서보선','김한결','김도현','김하준', '김도원','신현진','소지승','이범석','이현석','이명신','박윤경','이도헌','김홍준']\n",
        "\n",
        "num_presenters = random.randint(1, len(kita))\n",
        "print(\"발표자 수:\", num_presenters)"
      ],
      "metadata": {
        "colab": {
          "base_uri": "https://localhost:8080/"
        },
        "id": "hCsJUKMZwgYC",
        "outputId": "efda20ab-289a-4355-cd48-45ff32a91898"
      },
      "execution_count": 10,
      "outputs": [
        {
          "output_type": "stream",
          "name": "stdout",
          "text": [
            "발표자 수: 17\n"
          ]
        }
      ]
    },
    {
      "cell_type": "markdown",
      "source": [
        "Task4_0430. 사용자로부터 숫자를 입력받아 해당 숫자의 구구단을 출력하는 프로그램을 작성하세요."
      ],
      "metadata": {
        "id": "Smj_GTogwg6C"
      }
    },
    {
      "cell_type": "code",
      "source": [
        "def print_gugudan(number):\n",
        "    for i in range(1, 10):\n",
        "        print(f\"{number} * {i} = {number * i}\")\n",
        "\n",
        "try:\n",
        "    num = int(input(\"구구단을 출력할 숫자를 입력하세요: \"))\n",
        "    print_gugudan(num)\n",
        "except ValueError:\n",
        "    print(\"올바른 숫자를 입력하세요.\")"
      ],
      "metadata": {
        "colab": {
          "base_uri": "https://localhost:8080/"
        },
        "id": "ayJL-a16whMK",
        "outputId": "98519e02-42c5-4a9d-b44d-7c11a01234ea"
      },
      "execution_count": 11,
      "outputs": [
        {
          "output_type": "stream",
          "name": "stdout",
          "text": [
            "구구단을 출력할 숫자를 입력하세요: 3\n",
            "3 * 1 = 3\n",
            "3 * 2 = 6\n",
            "3 * 3 = 9\n",
            "3 * 4 = 12\n",
            "3 * 5 = 15\n",
            "3 * 6 = 18\n",
            "3 * 7 = 21\n",
            "3 * 8 = 24\n",
            "3 * 9 = 27\n"
          ]
        }
      ]
    },
    {
      "cell_type": "markdown",
      "source": [
        "Task5_0430. 사용자로부터 숫자를 입력받아 해당 숫자의 팩토리얼을 계산하세요.\n",
        "ex) 5! = 5*4*3*2*1= 120"
      ],
      "metadata": {
        "id": "AbpcXEEtyWcC"
      }
    },
    {
      "cell_type": "code",
      "source": [
        "num = int(input(\"팩토리얼을 계산할 숫자를 입력하세요: \"))\n",
        "factorial = 1\n",
        "\n",
        "if num < 0:\n",
        "    print(\"음수의 팩토리얼은 정의되지 않습니다.\")\n",
        "elif num == 0:\n",
        "    print(\"0의 팩토리얼은 1입니다.\")\n",
        "else:\n",
        "    for i in range(1, num + 1):\n",
        "        factorial *= i\n",
        "    print(num, \"의 팩토리얼은\", factorial, \"입니다.\")"
      ],
      "metadata": {
        "colab": {
          "base_uri": "https://localhost:8080/"
        },
        "id": "4xYNvFvWyWsC",
        "outputId": "b1ff33e0-7118-476e-e15a-f5cef5cff7c6"
      },
      "execution_count": 12,
      "outputs": [
        {
          "output_type": "stream",
          "name": "stdout",
          "text": [
            "팩토리얼을 계산할 숫자를 입력하세요: 5\n",
            "5 의 팩토리얼은 120 입니다.\n"
          ]
        }
      ]
    },
    {
      "cell_type": "markdown",
      "source": [
        "Task6_0430. 0부터 20까지의 숫자 중에서 짝수와 홀수를 분리하여 두 개의 리스트에 저장하세요."
      ],
      "metadata": {
        "id": "Dk5NP3kKyXHy"
      }
    },
    {
      "cell_type": "code",
      "source": [
        "even = []\n",
        "odd = []\n",
        "for number in range(21):\n",
        "    if number % 2 == 0:\n",
        "        even.append(number)\n",
        "    else:\n",
        "        odd.append(number)\n",
        "\n",
        "print(\"짝수:\", even)\n",
        "print(\"홀수:\", odd)"
      ],
      "metadata": {
        "colab": {
          "base_uri": "https://localhost:8080/"
        },
        "id": "NqDU5bWdyXYh",
        "outputId": "0ab306d2-d728-404b-a07f-8c5c34491d98"
      },
      "execution_count": 19,
      "outputs": [
        {
          "output_type": "stream",
          "name": "stdout",
          "text": [
            "짝수: [0, 2, 4, 6, 8, 10, 12, 14, 16, 18, 20]\n",
            "홀수: [1, 3, 5, 7, 9, 11, 13, 15, 17, 19]\n"
          ]
        }
      ]
    },
    {
      "cell_type": "markdown",
      "source": [
        "Task7_0430. 주어진 리스트에서 최대값을 찾아 출력하세요.\n",
        "numbers = [34, 78, 2, 45, 99, 23]"
      ],
      "metadata": {
        "id": "xIX4hgJ4yYhB"
      }
    },
    {
      "cell_type": "code",
      "source": [
        "numbers = [34, 78, 2, 45, 99, 23]\n",
        "max_values = max(numbers)\n",
        "print(\"최대값: \", max_values)"
      ],
      "metadata": {
        "colab": {
          "base_uri": "https://localhost:8080/"
        },
        "id": "O_MJqynAyYxB",
        "outputId": "416dd0d6-0f4e-4713-9716-328345718c42"
      },
      "execution_count": 20,
      "outputs": [
        {
          "output_type": "stream",
          "name": "stdout",
          "text": [
            "최대값:  99\n"
          ]
        }
      ]
    },
    {
      "cell_type": "markdown",
      "source": [
        "Task8_0430.  1부터 10 사이의 임의의 숫자를 맞추는 게임을 만드세요.\n",
        "사용자가 숫자를 맞출 때까지 입력을 계속 받으며, 정답을 맞추면 게임을 종료하세요. 단, 입력 숫자가 정답보다 큰지 작은지 힌트를 주는 방식으로 코드 작성하세요."
      ],
      "metadata": {
        "id": "W86guyv7yZPh"
      }
    },
    {
      "cell_type": "code",
      "source": [
        "import random\n",
        "\n",
        "answer = random.randint(1,10)\n",
        "\n",
        "while True:\n",
        "    guess = int(input(\"1부터 10사이의 숫자를 맞춰보세요.:\"))\n",
        "\n",
        "    if guess == answer:\n",
        "        print(\"정답입니다.\")\n",
        "    elif guess < answer:\n",
        "        print(\"정답은 더 큰 숫자입니다.\")\n",
        "    else:\n",
        "      print(\"정답은 더 작은 숫자입니다.\")"
      ],
      "metadata": {
        "colab": {
          "base_uri": "https://localhost:8080/",
          "height": 453
        },
        "id": "Q8Zp2O0HyZdR",
        "outputId": "a13e8f18-463f-496b-e8f6-d4ef46eefed6"
      },
      "execution_count": 22,
      "outputs": [
        {
          "output_type": "stream",
          "name": "stdout",
          "text": [
            "1부터 10사이의 숫자를 맞춰보세요.:7\n",
            "정답은 더 작은 숫자입니다.\n",
            "1부터 10사이의 숫자를 맞춰보세요.:3\n",
            "정답입니다.\n"
          ]
        },
        {
          "output_type": "error",
          "ename": "KeyboardInterrupt",
          "evalue": "Interrupted by user",
          "traceback": [
            "\u001b[0;31m---------------------------------------------------------------------------\u001b[0m",
            "\u001b[0;31mKeyboardInterrupt\u001b[0m                         Traceback (most recent call last)",
            "\u001b[0;32m<ipython-input-22-33a10b5bb18c>\u001b[0m in \u001b[0;36m<cell line: 5>\u001b[0;34m()\u001b[0m\n\u001b[1;32m      4\u001b[0m \u001b[0;34m\u001b[0m\u001b[0m\n\u001b[1;32m      5\u001b[0m \u001b[0;32mwhile\u001b[0m \u001b[0;32mTrue\u001b[0m\u001b[0;34m:\u001b[0m\u001b[0;34m\u001b[0m\u001b[0;34m\u001b[0m\u001b[0m\n\u001b[0;32m----> 6\u001b[0;31m     \u001b[0mguess\u001b[0m \u001b[0;34m=\u001b[0m \u001b[0mint\u001b[0m\u001b[0;34m(\u001b[0m\u001b[0minput\u001b[0m\u001b[0;34m(\u001b[0m\u001b[0;34m\"1부터 10사이의 숫자를 맞춰보세요.:\"\u001b[0m\u001b[0;34m)\u001b[0m\u001b[0;34m)\u001b[0m\u001b[0;34m\u001b[0m\u001b[0;34m\u001b[0m\u001b[0m\n\u001b[0m\u001b[1;32m      7\u001b[0m \u001b[0;34m\u001b[0m\u001b[0m\n\u001b[1;32m      8\u001b[0m     \u001b[0;32mif\u001b[0m \u001b[0mguess\u001b[0m \u001b[0;34m==\u001b[0m \u001b[0manswer\u001b[0m\u001b[0;34m:\u001b[0m\u001b[0;34m\u001b[0m\u001b[0;34m\u001b[0m\u001b[0m\n",
            "\u001b[0;32m/usr/local/lib/python3.10/dist-packages/ipykernel/kernelbase.py\u001b[0m in \u001b[0;36mraw_input\u001b[0;34m(self, prompt)\u001b[0m\n\u001b[1;32m    849\u001b[0m                 \u001b[0;34m\"raw_input was called, but this frontend does not support input requests.\"\u001b[0m\u001b[0;34m\u001b[0m\u001b[0;34m\u001b[0m\u001b[0m\n\u001b[1;32m    850\u001b[0m             )\n\u001b[0;32m--> 851\u001b[0;31m         return self._input_request(str(prompt),\n\u001b[0m\u001b[1;32m    852\u001b[0m             \u001b[0mself\u001b[0m\u001b[0;34m.\u001b[0m\u001b[0m_parent_ident\u001b[0m\u001b[0;34m,\u001b[0m\u001b[0;34m\u001b[0m\u001b[0;34m\u001b[0m\u001b[0m\n\u001b[1;32m    853\u001b[0m             \u001b[0mself\u001b[0m\u001b[0;34m.\u001b[0m\u001b[0m_parent_header\u001b[0m\u001b[0;34m,\u001b[0m\u001b[0;34m\u001b[0m\u001b[0;34m\u001b[0m\u001b[0m\n",
            "\u001b[0;32m/usr/local/lib/python3.10/dist-packages/ipykernel/kernelbase.py\u001b[0m in \u001b[0;36m_input_request\u001b[0;34m(self, prompt, ident, parent, password)\u001b[0m\n\u001b[1;32m    893\u001b[0m             \u001b[0;32mexcept\u001b[0m \u001b[0mKeyboardInterrupt\u001b[0m\u001b[0;34m:\u001b[0m\u001b[0;34m\u001b[0m\u001b[0;34m\u001b[0m\u001b[0m\n\u001b[1;32m    894\u001b[0m                 \u001b[0;31m# re-raise KeyboardInterrupt, to truncate traceback\u001b[0m\u001b[0;34m\u001b[0m\u001b[0;34m\u001b[0m\u001b[0m\n\u001b[0;32m--> 895\u001b[0;31m                 \u001b[0;32mraise\u001b[0m \u001b[0mKeyboardInterrupt\u001b[0m\u001b[0;34m(\u001b[0m\u001b[0;34m\"Interrupted by user\"\u001b[0m\u001b[0;34m)\u001b[0m \u001b[0;32mfrom\u001b[0m \u001b[0;32mNone\u001b[0m\u001b[0;34m\u001b[0m\u001b[0;34m\u001b[0m\u001b[0m\n\u001b[0m\u001b[1;32m    896\u001b[0m             \u001b[0;32mexcept\u001b[0m \u001b[0mException\u001b[0m \u001b[0;32mas\u001b[0m \u001b[0me\u001b[0m\u001b[0;34m:\u001b[0m\u001b[0;34m\u001b[0m\u001b[0;34m\u001b[0m\u001b[0m\n\u001b[1;32m    897\u001b[0m                 \u001b[0mself\u001b[0m\u001b[0;34m.\u001b[0m\u001b[0mlog\u001b[0m\u001b[0;34m.\u001b[0m\u001b[0mwarning\u001b[0m\u001b[0;34m(\u001b[0m\u001b[0;34m\"Invalid Message:\"\u001b[0m\u001b[0;34m,\u001b[0m \u001b[0mexc_info\u001b[0m\u001b[0;34m=\u001b[0m\u001b[0;32mTrue\u001b[0m\u001b[0;34m)\u001b[0m\u001b[0;34m\u001b[0m\u001b[0;34m\u001b[0m\u001b[0m\n",
            "\u001b[0;31mKeyboardInterrupt\u001b[0m: Interrupted by user"
          ]
        }
      ]
    },
    {
      "cell_type": "markdown",
      "source": [
        "Task9_0430. 태어난 연도를 입력받아 띠를 출력하는 프로그램을 작성하세요."
      ],
      "metadata": {
        "id": "5FzBZTz6zY1h"
      }
    },
    {
      "cell_type": "code",
      "source": [
        "def find_zodiac(year):\n",
        "    zodiacs = [\"쥐\", \"소\", \"호랑이\", \"토끼\", \"용\", \"뱀\", \"말\", \"양\", \"원숭이\", \"닭\", \"개\", \"돼지\"]\n",
        "    return zodiacs[(year - 4) % 12]\n",
        "\n",
        "year_of_birth = int(input(\"태어난 연도를 입력하세요: \"))\n",
        "print(f\"{year_of_birth}년에 태어난 당신의 띠는 {find_zodiac(year_of_birth)}입니다.\")"
      ],
      "metadata": {
        "colab": {
          "base_uri": "https://localhost:8080/"
        },
        "id": "FSbkOBiizZNB",
        "outputId": "e80cfdcb-b61f-455d-a324-822d609fba07"
      },
      "execution_count": 23,
      "outputs": [
        {
          "output_type": "stream",
          "name": "stdout",
          "text": [
            "태어난 연도를 입력하세요: 1998\n",
            "1998년에 태어난 당신의 띠는 호랑이입니다.\n"
          ]
        }
      ]
    },
    {
      "cell_type": "markdown",
      "source": [
        "Task10_0430. 아래 사항을 반영하여 커피 자판기 프로그램을 작성하세요.\n",
        "- 시나리오 : 자판기 커피 재고 5잔, 커피 1잔 가격 300원, 재고 범위내에서 300원 이상 돈을 넣으면 거스름돈과 커피를 주고 그렇지 않으면 반환하며 재고가 소진되면 안내멘트 출력\n",
        "- 각 Case별 멘트 출력은 상황에 맞게 창작\n",
        "- while, if ~ elif ~ else 제어문을 사용하여 작성"
      ],
      "metadata": {
        "id": "Rh-oJTmGzZhJ"
      }
    },
    {
      "cell_type": "code",
      "source": [
        "coffee_stock = 5\n",
        "coffee_price = 300\n",
        "\n",
        "print(\"커피 자판기에 오신 것을 환영합니다!\")\n",
        "\n",
        "while coffee_stock > 0:\n",
        "    money = int(input(\"커피를 원하시면 300원을 넣어주세요: \"))\n",
        "\n",
        "    if money >= coffee_price:\n",
        "        print(\"커피가 나왔습니다! 거스름돈 {}원을 반환합니다.\".format(money - coffee_price))\n",
        "        coffee_stock -= 1\n",
        "    else:\n",
        "        print(\"돈이 부족합니다. {}원을 반환합니다.\".format(money))\n",
        "\n",
        "    if coffee_stock == 0:\n",
        "        print(\"\\n커피가 모두 소진되었습니다. 이용해 주셔서 감사합니다.\")\n",
        "        break"
      ],
      "metadata": {
        "colab": {
          "base_uri": "https://localhost:8080/"
        },
        "id": "VlIyaHA3zaE5",
        "outputId": "fc38d1ed-ca74-4cfd-d5a1-6ec3e53109e8"
      },
      "execution_count": 25,
      "outputs": [
        {
          "output_type": "stream",
          "name": "stdout",
          "text": [
            "커피 자판기에 오신 것을 환영합니다!\n",
            "커피를 원하시면 300원을 넣어주세요: 3000\n",
            "커피가 나왔습니다! 거스름돈 2700원을 반환합니다.\n",
            "커피를 원하시면 300원을 넣어주세요: 300\n",
            "커피가 나왔습니다! 거스름돈 0원을 반환합니다.\n",
            "커피를 원하시면 300원을 넣어주세요: 2500\n",
            "커피가 나왔습니다! 거스름돈 2200원을 반환합니다.\n",
            "커피를 원하시면 300원을 넣어주세요: 1000\n",
            "커피가 나왔습니다! 거스름돈 700원을 반환합니다.\n",
            "커피를 원하시면 300원을 넣어주세요: 500\n",
            "커피가 나왔습니다! 거스름돈 200원을 반환합니다.\n",
            "\n",
            "커피가 모두 소진되었습니다. 이용해 주셔서 감사합니다.\n"
          ]
        }
      ]
    }
  ]
}