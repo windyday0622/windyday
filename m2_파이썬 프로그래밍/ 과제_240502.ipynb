{
  "nbformat": 4,
  "nbformat_minor": 0,
  "metadata": {
    "colab": {
      "provenance": [],
      "authorship_tag": "ABX9TyPjBcgKAmbkfFkgBBdkEaJJ",
      "include_colab_link": true
    },
    "kernelspec": {
      "name": "python3",
      "display_name": "Python 3"
    },
    "language_info": {
      "name": "python"
    }
  },
  "cells": [
    {
      "cell_type": "markdown",
      "metadata": {
        "id": "view-in-github",
        "colab_type": "text"
      },
      "source": [
        "<a href=\"https://colab.research.google.com/github/windyday0622/windyday/blob/main/m2_%ED%8C%8C%EC%9D%B4%EC%8D%AC%20%ED%94%84%EB%A1%9C%EA%B7%B8%EB%9E%98%EB%B0%8D/%20%EA%B3%BC%EC%A0%9C_240502.ipynb\" target=\"_parent\"><img src=\"https://colab.research.google.com/assets/colab-badge.svg\" alt=\"Open In Colab\"/></a>"
      ]
    },
    {
      "cell_type": "code",
      "execution_count": null,
      "metadata": {
        "id": "p_1sypJ0IW2z"
      },
      "outputs": [],
      "source": [
        "Task1_0502. 짝수와 짝수를 입력하면 곱한 값을 출력하고 홀수와 홀수를 입력하면 덧셈 값을 출력하고 그외는 다시 입력하라는 메시지를 출력하세요."
      ]
    },
    {
      "cell_type": "code",
      "source": [
        "num1 = int(input(\"숫자를 입력하세요: \"))\n",
        "num2 = int(input(\"숫자를 입력하세요: \"))\n",
        "if num1 % 2 == 0 and num2 % 2 == 0:\n",
        "    print(num1 * num2)\n",
        "elif num1 % 2 == 1 and num2 % 2 == 1:\n",
        "     print(num1 + num2)\n",
        "else:\n",
        "     print(\"다시 입력하세요!\")"
      ],
      "metadata": {
        "colab": {
          "base_uri": "https://localhost:8080/"
        },
        "id": "JSsarjJ8Im3u",
        "outputId": "2b8da193-0789-4594-d6bc-3e399f95924a"
      },
      "execution_count": 3,
      "outputs": [
        {
          "output_type": "stream",
          "name": "stdout",
          "text": [
            "숫자를 입력하세요: 4\n",
            "숫자를 입력하세요: 2\n",
            "8\n"
          ]
        }
      ]
    },
    {
      "cell_type": "code",
      "source": [
        "Task2_0502. 현재 계절 구분 프로그램\n",
        "- 시나리오 : 3 ~ 5월은 봄, 6 ~ 8월은 여름, 9 ~ 11월은 가을, 12 ~ 2월은 겨울로 구분. 지금 계절을 알려주는 프로그램\n",
        "- 각 계절별 출력 멘트는 계절에 맞게 창작\n",
        "- if 조건문으로 datetime 모듈을 import해서 datetime.now 함수를 사용해서 작성"
      ],
      "metadata": {
        "id": "XASykmolIm6b"
      },
      "execution_count": null,
      "outputs": []
    },
    {
      "cell_type": "code",
      "source": [
        "import datetime\n",
        "\n",
        "now = datetime.datetime.now()\n",
        "month = now.month\n",
        "\n",
        "if 3 <= month <= 5:\n",
        "    print(\"따뜻한 바람이 불고 아름다운 꽃들이 피어나는 봄이에요.\")\n",
        "elif 6 <= month <= 8:\n",
        "    print(\"뜨거운 햇빛과 찬란히 둥실대는 바다를 볼 수 있는 여름이에요.\")\n",
        "elif 9 <= month <= 11:\n",
        "    print(\"단풍이 들고 서늘한 바람이 부는 가을이에요.\")\n",
        "else:\n",
        "    print(\"하얀 눈이 내리고 온 세상이 하얗게 물드는 추운 겨울이에요.\")"
      ],
      "metadata": {
        "colab": {
          "base_uri": "https://localhost:8080/"
        },
        "id": "C8coSplDIm9d",
        "outputId": "f3527dfa-5b1a-49b9-9c7c-7f4490c07e95"
      },
      "execution_count": 5,
      "outputs": [
        {
          "output_type": "stream",
          "name": "stdout",
          "text": [
            "따뜻한 바람이 불고 아름다운 꽃들이 피어나는 봄이에요.\n"
          ]
        }
      ]
    },
    {
      "cell_type": "code",
      "source": [
        "Task3_0502. 1부터 99까지 아래와 같이 2개의 수를 곱해서 가장 큰 수를 구하세요.\n",
        "\n",
        "1*99, 2*98 ...99*1"
      ],
      "metadata": {
        "id": "XLQwYreAInAC"
      },
      "execution_count": null,
      "outputs": []
    },
    {
      "cell_type": "code",
      "source": [
        "max_result = 0\n",
        "for i in range(1,100):\n",
        "    result = i * (100-i)\n",
        "    if result > max_result:\n",
        "        max_result = result\n",
        "print('가장 큰 수: ', max_result)"
      ],
      "metadata": {
        "colab": {
          "base_uri": "https://localhost:8080/"
        },
        "id": "79hSMo3HInDt",
        "outputId": "e18a5e36-9178-4377-a7cd-2203fc0e9991"
      },
      "execution_count": 9,
      "outputs": [
        {
          "output_type": "stream",
          "name": "stdout",
          "text": [
            "가장 큰 수:  2500\n"
          ]
        }
      ]
    },
    {
      "cell_type": "code",
      "source": [
        "Task4_0502. [    ]을 채워서 아래의 출력과 같이 출력하세요.\n",
        "numbers = [1,2,3,4,5,6,7,8,9]\n",
        "output = [[], [], []]\n",
        "\n",
        "\n",
        "# [[1,4,7],[2,5,8],[3,6,9]]"
      ],
      "metadata": {
        "id": "k1mOK_7KInGC"
      },
      "execution_count": null,
      "outputs": []
    },
    {
      "cell_type": "code",
      "source": [
        "numbers = [1, 2, 3, 4, 5, 6, 7, 8, 9]\n",
        "output = [[], [], []]\n",
        "\n",
        "for i, num in enumerate(numbers):\n",
        "    output[i % 3].append(num)\n",
        "print(output)"
      ],
      "metadata": {
        "colab": {
          "base_uri": "https://localhost:8080/"
        },
        "id": "boyvfAlhInI6",
        "outputId": "9f8f5250-43cc-4e9a-fb58-a8b338b3816c"
      },
      "execution_count": 1,
      "outputs": [
        {
          "output_type": "stream",
          "name": "stdout",
          "text": [
            "[[1, 4, 7], [2, 5, 8], [3, 6, 9]]\n"
          ]
        }
      ]
    },
    {
      "cell_type": "code",
      "source": [
        "Task5_0502. 주어진 리스트에서 중복된 요소를 제거하고, 남은 요소만을 포함하는 새 리스트를 반환합니다. 순서는 유지해야 합니다.\n",
        "input_list = [1, 2, 2, 3, 4, 4, 4, 5, 6, 7, 7]"
      ],
      "metadata": {
        "id": "sFE5NOA5InMS"
      },
      "execution_count": null,
      "outputs": []
    },
    {
      "cell_type": "code",
      "source": [
        "input_list = [1, 2, 2, 3, 4, 4, 4, 5, 6, 7, 7]\n",
        "tuple1 = set(input_list)\n",
        "list2 = list(tuple1)\n",
        "print(list2)"
      ],
      "metadata": {
        "colab": {
          "base_uri": "https://localhost:8080/"
        },
        "id": "jZVfNdG3InPk",
        "outputId": "09c5da11-c3df-4728-d7fe-973412a4ee0f"
      },
      "execution_count": 13,
      "outputs": [
        {
          "output_type": "stream",
          "name": "stdout",
          "text": [
            "[1, 2, 3, 4, 5, 6, 7]\n"
          ]
        }
      ]
    },
    {
      "cell_type": "code",
      "source": [
        "morse_code = {\n",
        "        'A': '.-', 'B': '-...', 'C': '-.-.', 'D': '-..', 'E': '.', 'F': '..-.',\n",
        "        'G': '--.', 'H': '....', 'I': '..', 'J': '.---', 'K': '-.-', 'L': '.-..',\n",
        "        'M': '--', 'N': '-.', 'O': '---', 'P': '.--.', 'Q': '--.-', 'R': '.-.',\n",
        "        'S': '...', 'T': '-', 'U': '..-', 'V': '...-', 'W': '.--', 'X': '-..-',\n",
        "        'Y': '-.--', 'Z': '--..'\n",
        "    }"
      ],
      "metadata": {
        "id": "9q4mH8Q0InTG"
      },
      "execution_count": null,
      "outputs": []
    },
    {
      "cell_type": "code",
      "source": [],
      "metadata": {
        "id": "7iQJH3YCInWM"
      },
      "execution_count": null,
      "outputs": []
    },
    {
      "cell_type": "code",
      "source": [
        "Task7_0502. 주어진 비대칭 m×n 매트릭스(2차원 리스트)에서, 모든 대각선 상의 합을 계산하는 함수를 작성하세요. 결과는 각 대각선의 합을 리스트로 반환해야 합니다.\n",
        "\n",
        "input_matrix = [\n",
        "    [1, 2, 3],\n",
        "    [4, 5, 6],\n",
        "    [7, 8, 9],\n",
        "    [10, 11, 12]\n",
        "]"
      ],
      "metadata": {
        "id": "u_utrCDoInYr"
      },
      "execution_count": null,
      "outputs": []
    }
  ]
}