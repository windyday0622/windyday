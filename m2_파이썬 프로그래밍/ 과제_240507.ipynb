{
  "nbformat": 4,
  "nbformat_minor": 0,
  "metadata": {
    "colab": {
      "provenance": [],
      "authorship_tag": "ABX9TyOL7ZHZuwEui4SxHxESfKzp",
      "include_colab_link": true
    },
    "kernelspec": {
      "name": "python3",
      "display_name": "Python 3"
    },
    "language_info": {
      "name": "python"
    }
  },
  "cells": [
    {
      "cell_type": "markdown",
      "metadata": {
        "id": "view-in-github",
        "colab_type": "text"
      },
      "source": [
        "<a href=\"https://colab.research.google.com/github/windyday0622/windyday/blob/main/m2_%ED%8C%8C%EC%9D%B4%EC%8D%AC%20%ED%94%84%EB%A1%9C%EA%B7%B8%EB%9E%98%EB%B0%8D/%20%EA%B3%BC%EC%A0%9C_240507.ipynb\" target=\"_parent\"><img src=\"https://colab.research.google.com/assets/colab-badge.svg\" alt=\"Open In Colab\"/></a>"
      ]
    },
    {
      "cell_type": "markdown",
      "source": [
        "Task1_0507. 튜플 형태인 string를 다양한 문자가 포함된 순서로 정렬하세요."
      ],
      "metadata": {
        "id": "lC4-hTiVrGHx"
      }
    },
    {
      "cell_type": "code",
      "execution_count": null,
      "metadata": {
        "id": "U-_TjDTUrCue"
      },
      "outputs": [],
      "source": [
        "strings = ('a', 'ca', 'bar', 'aaaa', 'ababa')"
      ]
    },
    {
      "cell_type": "markdown",
      "source": [
        "Task2_0507.Task2_0507. a,b 변수와 연산자를 입력하면 사칙연산을 수행하는 코드를 작성하세요.(eval 사용하는 경우와 안하는 경우)"
      ],
      "metadata": {
        "id": "QTQ-5MWnwlTN"
      }
    },
    {
      "cell_type": "code",
      "source": [],
      "metadata": {
        "id": "9A0QmsLfwjyC"
      },
      "execution_count": null,
      "outputs": []
    },
    {
      "cell_type": "markdown",
      "source": [
        "Task3_0507. list1에 대해서 아래와 같이 출력하는 코드를 작성하세요.\n",
        "\n",
        "인사평가 1번째 해당자는 김부장입니다. 회의실A로 오시기 바랍니다.\\\n",
        "인사평가 2번째 해당자는 이차장입니다. 회의실A로 오시기 바랍니다.\\\n",
        "인사평가 3번째 해당자는 김과장입니다. 회의실A로 오시기 바랍니다.\\\n",
        "인사평가 4번째 해당자는 이대리입니다. 회의실A로 오시기 바랍니다.\\\n",
        "인사평가 5번째 해당자는 오사원입니다. 회의실A로 오시기 바랍니다.\\\n",
        "인사평가 6번째 해당자는 김인턴입니다. 회의실A로 오시기 바랍니다."
      ],
      "metadata": {
        "id": "f0nMm6iJwnnK"
      }
    },
    {
      "cell_type": "code",
      "source": [],
      "metadata": {
        "id": "uEUd-ysQwnuH"
      },
      "execution_count": null,
      "outputs": []
    },
    {
      "cell_type": "markdown",
      "source": [
        "Task4_0507. 주어진 문자열 리스트의 요소들을 대문자로 변환하세요.\n",
        "words = [\"hello\", \"world\", \"python\", \"map\"]"
      ],
      "metadata": {
        "id": "HzIWhU1Fwn07"
      }
    },
    {
      "cell_type": "code",
      "source": [],
      "metadata": {
        "id": "2QM76hl5wn6n"
      },
      "execution_count": null,
      "outputs": []
    },
    {
      "cell_type": "markdown",
      "source": [
        "Task5_0507. 주어진 리스트에서 'p'로 시작하는 단어만 필터링하세요.\n",
        "\n",
        "words = [\"python\", \"is\", \"powerful\", \"programming\", \"language\", \"pandas\"]"
      ],
      "metadata": {
        "id": "xxaVl706woBC"
      }
    },
    {
      "cell_type": "code",
      "source": [],
      "metadata": {
        "id": "kAgTUCI-woFh"
      },
      "execution_count": null,
      "outputs": []
    },
    {
      "cell_type": "markdown",
      "source": [
        "Task6_0507. 내장함수를 이용해서 list = [0,1,2,3,4,5,6]에서 2를 삭제 후 출력하세요.(2가지 방법)"
      ],
      "metadata": {
        "id": "nAUlLDGf0BZS"
      }
    },
    {
      "cell_type": "code",
      "source": [],
      "metadata": {
        "id": "Wx17eCvIwoQ2"
      },
      "execution_count": null,
      "outputs": []
    },
    {
      "cell_type": "markdown",
      "source": [
        "Task7_0507. 내장함수를 이용하여 동일한 개수로 이루어진 자료형을 화살표 좌측에서 우측으로 변환하세요.\n",
        "\n",
        "[1,2,3],[4,5,6] -> [(1,4),(2,5),(3,6)]\\\n",
        "[1,2,3],[4,5,6] [7,8,9] -> [(1,4,7),(2,5,8),(3,6,9)]\\\n",
        "('abc','def') -> [('a','d'),('b','e'),('c','f')]"
      ],
      "metadata": {
        "id": "_0cQtqso0CDd"
      }
    },
    {
      "cell_type": "code",
      "source": [],
      "metadata": {
        "id": "tYoBq3OE0CP-"
      },
      "execution_count": null,
      "outputs": []
    }
  ]
}