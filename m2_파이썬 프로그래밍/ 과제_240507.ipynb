{
  "nbformat": 4,
  "nbformat_minor": 0,
  "metadata": {
    "colab": {
      "provenance": [],
      "authorship_tag": "ABX9TyMb0i+41o6pctOMldgfUHK8",
      "include_colab_link": true
    },
    "kernelspec": {
      "name": "python3",
      "display_name": "Python 3"
    },
    "language_info": {
      "name": "python"
    }
  },
  "cells": [
    {
      "cell_type": "markdown",
      "metadata": {
        "id": "view-in-github",
        "colab_type": "text"
      },
      "source": [
        "<a href=\"https://colab.research.google.com/github/windyday0622/windyday/blob/main/m2_%ED%8C%8C%EC%9D%B4%EC%8D%AC%20%ED%94%84%EB%A1%9C%EA%B7%B8%EB%9E%98%EB%B0%8D/%20%EA%B3%BC%EC%A0%9C_240507.ipynb\" target=\"_parent\"><img src=\"https://colab.research.google.com/assets/colab-badge.svg\" alt=\"Open In Colab\"/></a>"
      ]
    },
    {
      "cell_type": "markdown",
      "source": [
        "Task1_0507. 튜플 형태인 string를 다양한 문자가 포함된 순서로 정렬하세요."
      ],
      "metadata": {
        "id": "lC4-hTiVrGHx"
      }
    },
    {
      "cell_type": "code",
      "execution_count": null,
      "metadata": {
        "id": "U-_TjDTUrCue"
      },
      "outputs": [],
      "source": [
        "strings = ('a', 'ca', 'bar', 'aaaa', 'ababa')"
      ]
    },
    {
      "cell_type": "markdown",
      "source": [
        "Task2_0507.Task2_0507. a,b 변수와 연산자를 입력하면 사칙연산을 수행하는 코드를 작성하세요.(eval 사용하는 경우와 안하는 경우)"
      ],
      "metadata": {
        "id": "QTQ-5MWnwlTN"
      }
    },
    {
      "cell_type": "code",
      "source": [],
      "metadata": {
        "id": "9A0QmsLfwjyC"
      },
      "execution_count": null,
      "outputs": []
    },
    {
      "cell_type": "markdown",
      "source": [],
      "metadata": {
        "id": "f0nMm6iJwnnK"
      }
    },
    {
      "cell_type": "code",
      "source": [],
      "metadata": {
        "id": "uEUd-ysQwnuH"
      },
      "execution_count": null,
      "outputs": []
    },
    {
      "cell_type": "markdown",
      "source": [],
      "metadata": {
        "id": "HzIWhU1Fwn07"
      }
    },
    {
      "cell_type": "code",
      "source": [],
      "metadata": {
        "id": "2QM76hl5wn6n"
      },
      "execution_count": null,
      "outputs": []
    },
    {
      "cell_type": "markdown",
      "source": [],
      "metadata": {
        "id": "xxaVl706woBC"
      }
    },
    {
      "cell_type": "code",
      "source": [],
      "metadata": {
        "id": "kAgTUCI-woFh"
      },
      "execution_count": null,
      "outputs": []
    },
    {
      "cell_type": "code",
      "source": [],
      "metadata": {
        "id": "Wx17eCvIwoQ2"
      },
      "execution_count": null,
      "outputs": []
    }
  ]
}