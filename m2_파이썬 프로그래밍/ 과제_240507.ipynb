{
  "nbformat": 4,
  "nbformat_minor": 0,
  "metadata": {
    "colab": {
      "provenance": [],
      "authorship_tag": "ABX9TyPN7NL/iJz9wlhFF8RT3QJ+",
      "include_colab_link": true
    },
    "kernelspec": {
      "name": "python3",
      "display_name": "Python 3"
    },
    "language_info": {
      "name": "python"
    }
  },
  "cells": [
    {
      "cell_type": "markdown",
      "metadata": {
        "id": "view-in-github",
        "colab_type": "text"
      },
      "source": [
        "<a href=\"https://colab.research.google.com/github/windyday0622/windyday/blob/main/m2_%ED%8C%8C%EC%9D%B4%EC%8D%AC%20%ED%94%84%EB%A1%9C%EA%B7%B8%EB%9E%98%EB%B0%8D/%20%EA%B3%BC%EC%A0%9C_240507.ipynb\" target=\"_parent\"><img src=\"https://colab.research.google.com/assets/colab-badge.svg\" alt=\"Open In Colab\"/></a>"
      ]
    },
    {
      "cell_type": "markdown",
      "source": [
        "Task1_0507. 튜플 형태인 string를 다양한 문자가 포함된 순서로 정렬하세요."
      ],
      "metadata": {
        "id": "lC4-hTiVrGHx"
      }
    },
    {
      "cell_type": "code",
      "execution_count": 5,
      "metadata": {
        "id": "U-_TjDTUrCue",
        "colab": {
          "base_uri": "https://localhost:8080/"
        },
        "outputId": "7fdf47c0-5ed4-456c-c382-ea3440d3f0ba"
      },
      "outputs": [
        {
          "output_type": "stream",
          "name": "stdout",
          "text": [
            "['ca', 'a', 'aaaa', 'ababa', 'bar']\n"
          ]
        }
      ],
      "source": [
        "strings = ('a', 'ca', 'bar', 'aaaa', 'ababa')\n",
        "\n"
      ]
    },
    {
      "cell_type": "markdown",
      "source": [
        "Task2_0507.Task2_0507. a,b 변수와 연산자를 입력하면 사칙연산을 수행하는 코드를 작성하세요.(eval 사용하는 경우와 안하는 경우)"
      ],
      "metadata": {
        "id": "QTQ-5MWnwlTN"
      }
    },
    {
      "cell_type": "code",
      "source": [
        "a = float(input(\"첫 번째 숫자를 입력하세요: \"))\n",
        "b = float(input(\"두 번째 숫자를 입력하세요: \"))\n",
        "operator = input(\"연산자를 입력하세요 (+, -, *, /): \")\n",
        "\n",
        "expression = f\"{a} {operator} {b}\"\n",
        "try:\n",
        "    result = eval(expression)\n",
        "    print(\"결과:\", result)\n",
        "except ZeroDivisionError:\n",
        "    print(\"Error: Division by zero\")\n",
        "except:\n",
        "    print(\"Error: Invalid expression\")\n",
        "===================================================\n",
        "\n",
        "def calculator(a, b, operator):\n",
        "    if operator == '+':\n",
        "        return a + b\n",
        "    elif operator == '-':\n",
        "        return a - b\n",
        "    elif operator == '*':\n",
        "        return a * b\n",
        "    elif operator == '/':\n",
        "        if b != 0:\n",
        "            return a / b\n",
        "        else:\n",
        "            return \"Error: Division by zero\"\n",
        "    else:\n",
        "        return \"Error: Invalid operator\"\n",
        "\n",
        "a = float(input(\"첫 번째 숫자를 입력하세요: \"))\n",
        "b = float(input(\"두 번째 숫자를 입력하세요: \"))\n",
        "operator = input(\"연산자를 입력하세요 (+, -, *, /): \")\n",
        "\n",
        "result = calculator(a, b, operator)\n",
        "print(\"결과:\", result)"
      ],
      "metadata": {
        "id": "9A0QmsLfwjyC"
      },
      "execution_count": null,
      "outputs": []
    },
    {
      "cell_type": "markdown",
      "source": [
        "Task3_0507. list1에 대해서 아래와 같이 출력하는 코드를 작성하세요.\n",
        "\n",
        "list1 = ['김부장', '이차장', '김과장', '이대리', '오사원', '김인턴']\n",
        "\n",
        "인사평가 1번째 해당자는 김부장입니다. 회의실A로 오시기 바랍니다.\\\n",
        "인사평가 2번째 해당자는 이차장입니다. 회의실A로 오시기 바랍니다.\\\n",
        "인사평가 3번째 해당자는 김과장입니다. 회의실A로 오시기 바랍니다.\\\n",
        "인사평가 4번째 해당자는 이대리입니다. 회의실A로 오시기 바랍니다.\\\n",
        "인사평가 5번째 해당자는 오사원입니다. 회의실A로 오시기 바랍니다.\\\n",
        "인사평가 6번째 해당자는 김인턴입니다. 회의실A로 오시기 바랍니다."
      ],
      "metadata": {
        "id": "f0nMm6iJwnnK"
      }
    },
    {
      "cell_type": "code",
      "source": [
        "list1 = ['김부장', '이차장', '김과장', '이대리', '오사원', '김인턴']\n",
        "for i, person in enumerate(list1, 1):\n",
        "    print(f\"인사평가 {i}번째 해당자는 {person}입니다. 회의실A로 오시기 바랍니다.\")"
      ],
      "metadata": {
        "id": "uEUd-ysQwnuH",
        "colab": {
          "base_uri": "https://localhost:8080/"
        },
        "outputId": "3ff26482-db5f-4fd4-84ab-e438f409c8c7"
      },
      "execution_count": 1,
      "outputs": [
        {
          "output_type": "stream",
          "name": "stdout",
          "text": [
            "인사평가 1번째 해당자는 김부장입니다. 회의실A로 오시기 바랍니다.\n",
            "인사평가 2번째 해당자는 이차장입니다. 회의실A로 오시기 바랍니다.\n",
            "인사평가 3번째 해당자는 김과장입니다. 회의실A로 오시기 바랍니다.\n",
            "인사평가 4번째 해당자는 이대리입니다. 회의실A로 오시기 바랍니다.\n",
            "인사평가 5번째 해당자는 오사원입니다. 회의실A로 오시기 바랍니다.\n",
            "인사평가 6번째 해당자는 김인턴입니다. 회의실A로 오시기 바랍니다.\n"
          ]
        }
      ]
    },
    {
      "cell_type": "markdown",
      "source": [
        "Task4_0507. 주어진 문자열 리스트의 요소들을 대문자로 변환하세요.\n",
        "words = [\"hello\", \"world\", \"python\", \"map\"]"
      ],
      "metadata": {
        "id": "HzIWhU1Fwn07"
      }
    },
    {
      "cell_type": "code",
      "source": [
        "words = [\"hello\", \"world\", \"python\", \"map\"]\n",
        "words_upper = [word.upper() for word in words]\n",
        "print(words_upper)"
      ],
      "metadata": {
        "id": "2QM76hl5wn6n",
        "colab": {
          "base_uri": "https://localhost:8080/"
        },
        "outputId": "cd174241-a96c-4fce-d1c8-23537c6578e9"
      },
      "execution_count": 7,
      "outputs": [
        {
          "output_type": "stream",
          "name": "stdout",
          "text": [
            "['HELLO', 'WORLD', 'PYTHON', 'MAP']\n"
          ]
        }
      ]
    },
    {
      "cell_type": "markdown",
      "source": [
        "Task5_0507. 주어진 리스트에서 'p'로 시작하는 단어만 필터링하세요.\n",
        "\n",
        "words = [\"python\", \"is\", \"powerful\", \"programming\", \"language\", \"pandas\"]"
      ],
      "metadata": {
        "id": "xxaVl706woBC"
      }
    },
    {
      "cell_type": "code",
      "source": [
        "words = [\"python\", \"is\", \"powerful\", \"programming\", \"language\", \"pandas\"]\n",
        "\n",
        "filtered_words = list(filter(lambda word: word.startswith('p'), words))\n",
        "print(filtered_words)"
      ],
      "metadata": {
        "id": "kAgTUCI-woFh",
        "colab": {
          "base_uri": "https://localhost:8080/"
        },
        "outputId": "4b70a3df-e1dc-4884-e47c-896bd8aaf2d9"
      },
      "execution_count": 8,
      "outputs": [
        {
          "output_type": "stream",
          "name": "stdout",
          "text": [
            "['python', 'powerful', 'programming', 'pandas']\n"
          ]
        }
      ]
    },
    {
      "cell_type": "markdown",
      "source": [
        "Task6_0507. 내장함수를 이용해서 list = [0,1,2,3,4,5,6]에서 2를 삭제 후 출력하세요.(2가지 방법)"
      ],
      "metadata": {
        "id": "nAUlLDGf0BZS"
      }
    },
    {
      "cell_type": "code",
      "source": [
        "my_list = [0,1,2,3,4,5,6]\n",
        "\n",
        "my_list.remove(2)\n",
        "print(my_list)\n",
        "\n",
        "my_list2 = [0, 1, 2, 3, 4, 5, 6]\n",
        "del my_list2[my_list2.index(2)]\n",
        "my_list2"
      ],
      "metadata": {
        "id": "Wx17eCvIwoQ2",
        "colab": {
          "base_uri": "https://localhost:8080/"
        },
        "outputId": "94da392d-3fe2-478c-fdba-f8f0339e23b0"
      },
      "execution_count": 15,
      "outputs": [
        {
          "output_type": "stream",
          "name": "stdout",
          "text": [
            "[0, 1, 3, 4, 5, 6]\n"
          ]
        },
        {
          "output_type": "execute_result",
          "data": {
            "text/plain": [
              "[0, 1, 3, 4, 5, 6]"
            ]
          },
          "metadata": {},
          "execution_count": 15
        }
      ]
    },
    {
      "cell_type": "markdown",
      "source": [
        "Task7_0507. 내장함수를 이용하여 동일한 개수로 이루어진 자료형을 화살표 좌측에서 우측으로 변환하세요.\n",
        "\n",
        "[1,2,3],[4,5,6] -> [(1,4),(2,5),(3,6)]\\\n",
        "[1,2,3],[4,5,6] [7,8,9] -> [(1,4,7),(2,5,8),(3,6,9)]\\\n",
        "('abc','def') -> [('a','d'),('b','e'),('c','f')]"
      ],
      "metadata": {
        "id": "_0cQtqso0CDd"
      }
    },
    {
      "cell_type": "code",
      "source": [
        "list1 = [1, 2, 3]\n",
        "list2 = [4, 5, 6]\n",
        "result = list(zip(list1, list2))\n",
        "print(result)\n",
        "\n",
        "list1 = [1, 2, 3]\n",
        "list2 = [4, 5, 6]\n",
        "list3 = [7, 8, 9]\n",
        "result = list(zip(list1, list2, list3))\n",
        "print(result)\n",
        "\n",
        "tuple1 = ('abc', 'def')\n",
        "result = list(zip(*tuple1))\n",
        "print(result)"
      ],
      "metadata": {
        "id": "tYoBq3OE0CP-",
        "colab": {
          "base_uri": "https://localhost:8080/",
          "height": 217
        },
        "outputId": "0d89fbaf-5885-472e-c0ca-42b80efa8cf0"
      },
      "execution_count": 16,
      "outputs": [
        {
          "output_type": "error",
          "ename": "TypeError",
          "evalue": "'list' object is not callable",
          "traceback": [
            "\u001b[0;31m---------------------------------------------------------------------------\u001b[0m",
            "\u001b[0;31mTypeError\u001b[0m                                 Traceback (most recent call last)",
            "\u001b[0;32m<ipython-input-16-45c71dc11123>\u001b[0m in \u001b[0;36m<cell line: 3>\u001b[0;34m()\u001b[0m\n\u001b[1;32m      1\u001b[0m \u001b[0mlist1\u001b[0m \u001b[0;34m=\u001b[0m \u001b[0;34m[\u001b[0m\u001b[0;36m1\u001b[0m\u001b[0;34m,\u001b[0m \u001b[0;36m2\u001b[0m\u001b[0;34m,\u001b[0m \u001b[0;36m3\u001b[0m\u001b[0;34m]\u001b[0m\u001b[0;34m\u001b[0m\u001b[0;34m\u001b[0m\u001b[0m\n\u001b[1;32m      2\u001b[0m \u001b[0mlist2\u001b[0m \u001b[0;34m=\u001b[0m \u001b[0;34m[\u001b[0m\u001b[0;36m4\u001b[0m\u001b[0;34m,\u001b[0m \u001b[0;36m5\u001b[0m\u001b[0;34m,\u001b[0m \u001b[0;36m6\u001b[0m\u001b[0;34m]\u001b[0m\u001b[0;34m\u001b[0m\u001b[0;34m\u001b[0m\u001b[0m\n\u001b[0;32m----> 3\u001b[0;31m \u001b[0mresult\u001b[0m \u001b[0;34m=\u001b[0m \u001b[0mlist\u001b[0m\u001b[0;34m(\u001b[0m\u001b[0mzip\u001b[0m\u001b[0;34m(\u001b[0m\u001b[0mlist1\u001b[0m\u001b[0;34m,\u001b[0m \u001b[0mlist2\u001b[0m\u001b[0;34m)\u001b[0m\u001b[0;34m)\u001b[0m\u001b[0;34m\u001b[0m\u001b[0;34m\u001b[0m\u001b[0m\n\u001b[0m\u001b[1;32m      4\u001b[0m \u001b[0mprint\u001b[0m\u001b[0;34m(\u001b[0m\u001b[0mresult\u001b[0m\u001b[0;34m)\u001b[0m\u001b[0;34m\u001b[0m\u001b[0;34m\u001b[0m\u001b[0m\n\u001b[1;32m      5\u001b[0m \u001b[0;34m\u001b[0m\u001b[0m\n",
            "\u001b[0;31mTypeError\u001b[0m: 'list' object is not callable"
          ]
        }
      ]
    },
    {
      "cell_type": "markdown",
      "source": [
        "Task8_0507. url에서 호스트 도메인(news.naver.com)을 추출하여 출력하세요.\n",
        "\n",
        "url = 'http://news.naver.com/main/read.nhn?mode=LSD&mid=shm&sid1=105&oid=028&aid=0002334601'"
      ],
      "metadata": {
        "id": "Sxrk74y22EfS"
      }
    },
    {
      "cell_type": "code",
      "source": [
        "from urllib.parse import urlparse\n",
        "\n",
        "url = 'http://news.naver.com/main/read.nhn?mode=LSD&mid=shm&sid1=105&oid=028&aid=0002334601'\n",
        "parsed_url = urlparse(url)\n",
        "host_domain = parsed_url.netloc\n",
        "\n",
        "print(host_domain)"
      ],
      "metadata": {
        "id": "2KxJeOQn2EsV",
        "colab": {
          "base_uri": "https://localhost:8080/"
        },
        "outputId": "92c3f390-4c37-49b6-ef9b-2751fb0fe93d"
      },
      "execution_count": 17,
      "outputs": [
        {
          "output_type": "stream",
          "name": "stdout",
          "text": [
            "news.naver.com\n"
          ]
        }
      ]
    }
  ]
}