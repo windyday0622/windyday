{
  "nbformat": 4,
  "nbformat_minor": 0,
  "metadata": {
    "colab": {
      "provenance": [],
      "authorship_tag": "ABX9TyPrsutem+kgan3TrvlYb9C2",
      "include_colab_link": true
    },
    "kernelspec": {
      "name": "python3",
      "display_name": "Python 3"
    },
    "language_info": {
      "name": "python"
    }
  },
  "cells": [
    {
      "cell_type": "markdown",
      "metadata": {
        "id": "view-in-github",
        "colab_type": "text"
      },
      "source": [
        "<a href=\"https://colab.research.google.com/github/windyday0622/windyday/blob/main/m2_%ED%8C%8C%EC%9D%B4%EC%8D%AC%20%ED%94%84%EB%A1%9C%EA%B7%B8%EB%9E%98%EB%B0%8D/%205_%EC%98%88%EC%99%B8%EC%B2%98%EB%A6%AC.ipynb\" target=\"_parent\"><img src=\"https://colab.research.google.com/assets/colab-badge.svg\" alt=\"Open In Colab\"/></a>"
      ]
    },
    {
      "cell_type": "markdown",
      "source": [
        "#### 에러(Error) vs. 예외(Exception).\n",
        "\n",
        "에러(Error):\n",
        "- 에러는 주로 프로그램 실행 전에 발생하는, 프로그램의 잘못된 구문이나 절차 등에 의해 발생하는 문제를 말한다.\n",
        "- 대표적인 에러로는 구문 에러(SyntaxError)가 있다. 예를 들어, 올바르지 않은 들여쓰기나 잘못된 코드 구조로 인해 파이썬 인터프리터가 코드를 실행하기 전에 에러를 발생시킨다.\n",
        "- 에러는 대체로 프로그램의 수정 없이는 복구될 수 없는 심각한 문제들이다.\n",
        "\n",
        "예외(Exception):\n",
        "- 예외는 실행 중인 프로그램에 영향을 주는 이벤트로, 일반적인 프로그램 흐름을 방해한다.\n",
        "- 예외는 프로그램의 정상적인 흐름을 방해하지만, 적절한 예외 처리를 통해 프로그램의 중단 없이 예외를 '잡아내고(catch)' 처리할 수 있다. 예를 들어, 파일을 열 때 파일이 존재하지 않는 경우 FileNotFoundError 예외가 발생할 수 있다. 이 경우 적절한 except 블록으로 예외를 처리하여 사용자에게 메시지를 표시하고 대안적인 행동을 취할 수 있다.\n",
        "- 예외는 try-except 블록을 통해 프로그램에서 처리할 수 있으며, 이를 통해 프로그램이 예외 상황에서도 안정적으로 동작하도록 만들 수 있다.\n",
        "\n",
        "요약하자면, 에러는 대개 코드 수정이 필요한 문제들을 가리키며, 예외는 프로그램 실행 중에 발생하지만 적절히 처리할 수 있는 예상 가능한 '예외적' 상황들을 말한다.\n",
        "\n",
        "#### 파이썬에서 발생할 수 있는 에러와 예외의 유형:\n",
        "에러 : 프로그램이 실행되기 전에 발생하는 문제\n",
        "- SyntaxError: 코드의 구문이 잘못되었을 때 생긴다.<br>\n",
        "\n",
        "예외 : 실행 시간(runtime) 중에 발생하고 처리 가능\n",
        "- NameError: 정의되지 않은 변수를 호출할 때 생긴다.\n",
        "- TypeError: 연산이나 함수가 부적절한 유형의 객체에 적용될 때 발생한다.\n",
        "- ValueError: 연산이나 함수가 적절하지 않은 값을 객체에 적용할 때 발생한다.\n",
        "- IndexError: 리스트 등의 시퀀스에서 존재하지 않는 인덱스를 사용할 때 생긴다.\n",
        "- KeyError: 딕셔너리에서 존재하지 않는 키를 사용할 때 발생한다.\n",
        "- AttributeError: 존재하지 않는 속성이나 메서드를 호출할 때 생긴다.\n",
        "- IOError 또는 OSError: 파일 입출력 과정에서 에러가 생길 때 발생한다.\n",
        "- ZeroDivisionError: 0으로 나눌 때 생긴다.\n",
        "- ImportError: 모듈을 임포트할 수 없을 때 발생한다.\n",
        "- StopIteration: 이터레이터에 더 이상의 아이템이 없을 때 next()를 호출하면 발생한다.\n",
        "- MemoryError: 메모리 할당이 실패할 때 생긴다.\n",
        "- RecursionError: 재귀 호출이 너무 깊어질 때 발생한다."
      ],
      "metadata": {
        "id": "XQIPXh0LErsB"
      }
    },
    {
      "cell_type": "code",
      "source": [
        "print('예외를 강제로 발생)"
      ],
      "metadata": {
        "colab": {
          "base_uri": "https://localhost:8080/",
          "height": 109
        },
        "id": "JDok7IxsEuJO",
        "outputId": "d3f3e293-bd3b-43c4-91fb-ce90fff2abbc"
      },
      "execution_count": 1,
      "outputs": [
        {
          "output_type": "error",
          "ename": "SyntaxError",
          "evalue": "unterminated string literal (detected at line 1) (<ipython-input-1-14d121b819ba>, line 1)",
          "traceback": [
            "\u001b[0;36m  File \u001b[0;32m\"<ipython-input-1-14d121b819ba>\"\u001b[0;36m, line \u001b[0;32m1\u001b[0m\n\u001b[0;31m    print('예외를 강제로 발생)\u001b[0m\n\u001b[0m          ^\u001b[0m\n\u001b[0;31mSyntaxError\u001b[0m\u001b[0;31m:\u001b[0m unterminated string literal (detected at line 1)\n"
          ]
        }
      ]
    },
    {
      "cell_type": "code",
      "source": [
        "for i in range(10)\n",
        "    print(i)"
      ],
      "metadata": {
        "colab": {
          "base_uri": "https://localhost:8080/",
          "height": 109
        },
        "id": "7AuDHFOcEukV",
        "outputId": "7dc72c40-b486-4ffd-9816-05d218d0ca2b"
      },
      "execution_count": 2,
      "outputs": [
        {
          "output_type": "error",
          "ename": "SyntaxError",
          "evalue": "expected ':' (<ipython-input-2-7a8a49ad5eea>, line 1)",
          "traceback": [
            "\u001b[0;36m  File \u001b[0;32m\"<ipython-input-2-7a8a49ad5eea>\"\u001b[0;36m, line \u001b[0;32m1\u001b[0m\n\u001b[0;31m    for i in range(10)\u001b[0m\n\u001b[0m                      ^\u001b[0m\n\u001b[0;31mSyntaxError\u001b[0m\u001b[0;31m:\u001b[0m expected ':'\n"
          ]
        }
      ]
    },
    {
      "cell_type": "code",
      "execution_count": 3,
      "metadata": {
        "colab": {
          "base_uri": "https://localhost:8080/",
          "height": 145
        },
        "id": "hBpgV_IbEny4",
        "outputId": "69f18ac3-66ad-4fd4-e92c-1b02e40223c9"
      },
      "outputs": [
        {
          "output_type": "error",
          "ename": "NameError",
          "evalue": "name 'unknown_var' is not defined",
          "traceback": [
            "\u001b[0;31m---------------------------------------------------------------------------\u001b[0m",
            "\u001b[0;31mNameError\u001b[0m                                 Traceback (most recent call last)",
            "\u001b[0;32m<ipython-input-3-e392ce854203>\u001b[0m in \u001b[0;36m<cell line: 1>\u001b[0;34m()\u001b[0m\n\u001b[0;32m----> 1\u001b[0;31m \u001b[0mprint\u001b[0m\u001b[0;34m(\u001b[0m\u001b[0munknown_var\u001b[0m\u001b[0;34m)\u001b[0m\u001b[0;34m\u001b[0m\u001b[0;34m\u001b[0m\u001b[0m\n\u001b[0m",
            "\u001b[0;31mNameError\u001b[0m: name 'unknown_var' is not defined"
          ]
        }
      ],
      "source": [
        "print(unknown_var)"
      ]
    },
    {
      "cell_type": "code",
      "source": [],
      "metadata": {
        "id": "Q87hPITUErEn"
      },
      "execution_count": null,
      "outputs": []
    },
    {
      "cell_type": "code",
      "source": [],
      "metadata": {
        "id": "_cwGWe8sErG6"
      },
      "execution_count": null,
      "outputs": []
    },
    {
      "cell_type": "code",
      "source": [],
      "metadata": {
        "id": "_eEEaEaTErJh"
      },
      "execution_count": null,
      "outputs": []
    },
    {
      "cell_type": "code",
      "source": [],
      "metadata": {
        "id": "tSBz_OiiErL9"
      },
      "execution_count": null,
      "outputs": []
    }
  ]
}