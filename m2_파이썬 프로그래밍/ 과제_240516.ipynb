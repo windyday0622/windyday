{
  "nbformat": 4,
  "nbformat_minor": 0,
  "metadata": {
    "colab": {
      "provenance": [],
      "authorship_tag": "ABX9TyNH0fj1Z3b/S+8BTiinG9Sn",
      "include_colab_link": true
    },
    "kernelspec": {
      "name": "python3",
      "display_name": "Python 3"
    },
    "language_info": {
      "name": "python"
    }
  },
  "cells": [
    {
      "cell_type": "markdown",
      "metadata": {
        "id": "view-in-github",
        "colab_type": "text"
      },
      "source": [
        "<a href=\"https://colab.research.google.com/github/windyday0622/windyday/blob/main/m2_%ED%8C%8C%EC%9D%B4%EC%8D%AC%20%ED%94%84%EB%A1%9C%EA%B7%B8%EB%9E%98%EB%B0%8D/%20%EA%B3%BC%EC%A0%9C_240516.ipynb\" target=\"_parent\"><img src=\"https://colab.research.google.com/assets/colab-badge.svg\" alt=\"Open In Colab\"/></a>"
      ]
    },
    {
      "cell_type": "markdown",
      "source": [
        "Task1_0516. '199305, 1923A, a93247'에서 '199305'만 출력하세요."
      ],
      "metadata": {
        "id": "oiR7Sor-PVeL"
      }
    },
    {
      "cell_type": "code",
      "execution_count": 26,
      "metadata": {
        "colab": {
          "base_uri": "https://localhost:8080/"
        },
        "id": "D2pwSas4PSqP",
        "outputId": "8ffb9170-fe1f-4703-ca18-24ee086710aa"
      },
      "outputs": [
        {
          "output_type": "stream",
          "name": "stdout",
          "text": [
            "199305\n"
          ]
        }
      ],
      "source": [
        "import re\n",
        "\n",
        "text = '199305, 1923A, a93247'\n",
        "pattern = r'\\b\\d+\\b'\n",
        "matches = re.findall(pattern, text)\n",
        "print(matches[0])"
      ]
    },
    {
      "cell_type": "markdown",
      "source": [
        "Task2_0516. '99food234, a93456\\n, a9356ba '에서 '99food234'만 출력하세요."
      ],
      "metadata": {
        "id": "uSozUr-QPWD8"
      }
    },
    {
      "cell_type": "code",
      "source": [
        "import re\n",
        "\n",
        "text = \"'99food234, a93456\\n, a9356ba '\"\n",
        "pattern = r\"'(\\w+)'\"\n",
        "result = re.search(pattern, text)\n",
        "if result:\n",
        "    print(result.group(1))"
      ],
      "metadata": {
        "id": "KzouGUOAPWJv"
      },
      "execution_count": 25,
      "outputs": []
    },
    {
      "cell_type": "markdown",
      "source": [
        "Task3_0516. 주어진 문자열이 유효한 이메일 주소인지 확인\n",
        "\"example@example.com\""
      ],
      "metadata": {
        "id": "4XbeMZ3yPX4Q"
      }
    },
    {
      "cell_type": "code",
      "source": [
        "import re\n",
        "\n",
        "email = \"example@example.com\"\n",
        "is_valid_email = bool(re.match(r'^[a-zA-Z0-9._%+-]+@[a-zA-Z0-9.-]+\\.[a-zA-Z]{2,}$', email))\n",
        "\n",
        "print(is_valid_email)"
      ],
      "metadata": {
        "colab": {
          "base_uri": "https://localhost:8080/"
        },
        "id": "QyUL7oRPPW8u",
        "outputId": "ed74d33a-e682-4af7-cea5-af5868786f64"
      },
      "execution_count": 24,
      "outputs": [
        {
          "output_type": "stream",
          "name": "stdout",
          "text": [
            "True\n"
          ]
        }
      ]
    },
    {
      "cell_type": "markdown",
      "source": [
        "\n",
        "Task4_0516. 주어진 문자열이 올바른 전화번호 형식(010-0000-0000)인지 확인하세요.\n",
        "\"010-1234-5678\"\n"
      ],
      "metadata": {
        "id": "hJHb2QMZPYeR"
      }
    },
    {
      "cell_type": "code",
      "source": [
        "import re\n",
        "\n",
        "def validate_phone_number(phone_number):\n",
        "    pattern = r'^010-\\d{4}-\\d{4}$'\n",
        "    if re.match(pattern, phone_number):\n",
        "        return True\n",
        "    else:\n",
        "        return False\n",
        "\n",
        "phone_number = \"010-1234-5678\"\n",
        "if validate_phone_number(phone_number):\n",
        "    print(\"올바른 전화번호 형식입니다.\")\n",
        "else:\n",
        "    print(\"올바르지 않은 전화번호 형식입니다.\")"
      ],
      "metadata": {
        "colab": {
          "base_uri": "https://localhost:8080/"
        },
        "id": "8eMJ_wutPWWj",
        "outputId": "ea9001eb-98bb-4ee0-fb3b-cafaa6a8b31b"
      },
      "execution_count": 23,
      "outputs": [
        {
          "output_type": "stream",
          "name": "stdout",
          "text": [
            "올바른 전화번호 형식입니다.\n"
          ]
        }
      ]
    },
    {
      "cell_type": "markdown",
      "source": [
        "Task5_0516. 문자열에서 모든 HTML 태그를 찾아 리스트로 반환하세요.\n",
        "\n",
        "\"<html><head></head><body></body></html>\""
      ],
      "metadata": {
        "id": "7fOEBT4QPZCI"
      }
    },
    {
      "cell_type": "code",
      "source": [
        "import re\n",
        "\n",
        "def find_html_tags(text):\n",
        "    pattern = re.compile(r'<[^>]+>')\n",
        "    return pattern.findall(text)\n",
        "\n",
        "html_string = \"<html><head></head><body></body></html>\"\n",
        "html_tags = find_html_tags(html_string)\n",
        "print(html_tags)"
      ],
      "metadata": {
        "colab": {
          "base_uri": "https://localhost:8080/"
        },
        "id": "BoFWzLlEPZKW",
        "outputId": "80d325e9-9218-4da8-ef75-bc551f8f0a2b"
      },
      "execution_count": 22,
      "outputs": [
        {
          "output_type": "stream",
          "name": "stdout",
          "text": [
            "['<html>', '<head>', '</head>', '<body>', '</body>', '</html>']\n"
          ]
        }
      ]
    },
    {
      "cell_type": "markdown",
      "source": [
        "Task6_0516. 주어진 비밀번호가 최소 8자, 대문자, 소문자, 숫자, 특수문자를 포함하는지 확인하세요.\n",
        "\"Aa1!aaaa\""
      ],
      "metadata": {
        "id": "VBxkeWeWPZSm"
      }
    },
    {
      "cell_type": "code",
      "source": [
        "import re\n",
        "\n",
        "def validate_password(password):\n",
        "    regex = r\"^(?=.*[a-z])(?=.*[A-Z])(?=.*\\d)(?=.*[@$!%*?&])[A-Za-z\\d@$!%*?&]{8,}$\"\n",
        "    if re.match(regex, password):\n",
        "        return True\n",
        "    else:\n",
        "        return False\n",
        "\n",
        "password = \"Aa1!aaaa\"\n",
        "if validate_password(password):\n",
        "    print(\"비밀번호가 유효합니다.\")\n",
        "else:\n",
        "    print(\"비밀번호가 유효하지 않습니다.\")"
      ],
      "metadata": {
        "colab": {
          "base_uri": "https://localhost:8080/"
        },
        "id": "BSLu9G1dPZZ8",
        "outputId": "d523f4bf-dbd3-4836-faaa-df9d65a1af72"
      },
      "execution_count": 21,
      "outputs": [
        {
          "output_type": "stream",
          "name": "stdout",
          "text": [
            "비밀번호가 유효합니다.\n"
          ]
        }
      ]
    },
    {
      "cell_type": "markdown",
      "source": [
        "Task7_0516. 주어진 문자열이 유효한 URL인지 확인하세요.\n",
        "\"https://www.example.com\""
      ],
      "metadata": {
        "id": "z20C39o_PZh8"
      }
    },
    {
      "cell_type": "code",
      "source": [
        "import re\n",
        "\n",
        "def is_valid_url(url):\n",
        "    regex = re.compile(\n",
        "        r'^https?://'\n",
        "        r'(?:(?:[A-Z0-9](?:[A-Z0-9-]{0,61}[A-Z0-9])?\\.)+(?:[A-Z]{2,6}\\.?|[A-Z0-9-]{2,}\\.?)|'\n",
        "        r'localhost|'\n",
        "        r'\\d{1,3}\\.\\d{1,3}\\.\\d{1,3}\\.\\d{1,3})'\n",
        "        r'(?::\\d+)?'\n",
        "        r'(?:/?|[/?]\\S+)$', re.IGNORECASE)\n",
        "    return re.match(regex, url) is not None\n",
        "\n",
        "url = \"https://www.example.com\"\n",
        "print(is_valid_url(url))"
      ],
      "metadata": {
        "colab": {
          "base_uri": "https://localhost:8080/"
        },
        "id": "CrsPaFVNPZpb",
        "outputId": "03432eb2-bd26-4dba-9017-1f63a074aa28"
      },
      "execution_count": 20,
      "outputs": [
        {
          "output_type": "stream",
          "name": "stdout",
          "text": [
            "True\n"
          ]
        }
      ]
    },
    {
      "cell_type": "markdown",
      "source": [
        "Task8_0516. 주어진 문자열이 유효한 주민등록번호(######-#######) 형식인지 확인하세요.\n",
        "\"900101-1234567\""
      ],
      "metadata": {
        "id": "IImD7CDxPZxt"
      }
    },
    {
      "cell_type": "code",
      "source": [
        "import re\n",
        "\n",
        "def validate_resident_number(resident_number):\n",
        "    pattern = re.compile(r'\\d{6}-\\d{7}')\n",
        "    return bool(pattern.match(resident_number))\n",
        "\n",
        "resident_number = \"900101-1234567\"\n",
        "\n",
        "if validate_resident_number(resident_number):\n",
        "    print(\"유효한 주민등록번호입니다.\")\n",
        "else:\n",
        "    print(\"유효하지 않은 주민등록번호입니다.\")"
      ],
      "metadata": {
        "colab": {
          "base_uri": "https://localhost:8080/"
        },
        "id": "qdrq7YN6PZ4p",
        "outputId": "25b810fb-f242-436d-a9f3-1a8cbddd2609"
      },
      "execution_count": 19,
      "outputs": [
        {
          "output_type": "stream",
          "name": "stdout",
          "text": [
            "유효한 주민등록번호입니다.\n"
          ]
        }
      ]
    },
    {
      "cell_type": "markdown",
      "source": [
        "Task9_0516. 주어진 문자열이 유효한 IPv4 주소인지 확인하세요.\n",
        "\"192.168.1.1\""
      ],
      "metadata": {
        "id": "GsWmxlsuPaBp"
      }
    },
    {
      "cell_type": "code",
      "source": [
        "import re\n",
        "\n",
        "def validate_ipv4(ip):\n",
        "    pattern = r'^((25[0-5]|2[0-4][0-9]|[01]?[0-9][0-9]?)\\.){3}(25[0-5]|2[0-4][0-9]|[01]?[0-9][0-9]?)$'\n",
        "    if re.match(pattern, ip):\n",
        "        return True\n",
        "    else:\n",
        "        return False\n",
        "\n",
        "ip_address = \"192.168.1.1\"\n",
        "\n",
        "if validate_ipv4(ip_address):\n",
        "    print(\"유효한 IPv4 주소입니다.\")\n",
        "else:\n",
        "    print(\"유효하지 않은 IPv4 주소입니다.\")"
      ],
      "metadata": {
        "colab": {
          "base_uri": "https://localhost:8080/"
        },
        "id": "fYXjvwoGPaI1",
        "outputId": "f9b1400f-98a4-4ec8-b3bb-56abda8b510f"
      },
      "execution_count": 18,
      "outputs": [
        {
          "output_type": "stream",
          "name": "stdout",
          "text": [
            "유효한 IPv4 주소입니다.\n"
          ]
        }
      ]
    },
    {
      "cell_type": "markdown",
      "source": [
        "Task10_0516. 주어진 파일 이름에서 확장자가 .jpg, .jpeg, 또는 .png인지 확인하세요.\n",
        "\"image.jpg\""
      ],
      "metadata": {
        "id": "8cmeoJeoPaQc"
      }
    },
    {
      "cell_type": "code",
      "source": [
        "import re\n",
        "\n",
        "file_name = \"image.jpg\"\n",
        "if re.search(r'\\.(jpg|jpeg|png)$', file_name, re.IGNORECASE):\n",
        "    print(\"확장자가 .jpg, .jpeg, 또는 .png입니다.\")\n",
        "else:\n",
        "    print(\"확장자가 .jpg, .jpeg, 또는 .png이 아닙니다.\")"
      ],
      "metadata": {
        "colab": {
          "base_uri": "https://localhost:8080/"
        },
        "id": "TeVVm_zcPaYF",
        "outputId": "a0922876-c685-4176-cf32-39615edc195c"
      },
      "execution_count": 17,
      "outputs": [
        {
          "output_type": "stream",
          "name": "stdout",
          "text": [
            "확장자가 .jpg, .jpeg, 또는 .png입니다.\n"
          ]
        }
      ]
    },
    {
      "cell_type": "markdown",
      "source": [
        "Task11_0516. 문자열에서 Python 주석을 제거하세요.\n",
        "code_with_comments = \"\"\"\n",
        "# This is a whole line comment\n",
        "print(\"Hello, world!\")  # This is a side comment\n",
        "# Another comment\n",
        "print(\"Python is fun!\") # Another side comment\n",
        "\"\"\""
      ],
      "metadata": {
        "id": "yIhbMWv0Paf0"
      }
    },
    {
      "cell_type": "code",
      "source": [
        "import re\n",
        "\n",
        "code_with_comments = \"\"\"\n",
        "# This is a whole line comment\n",
        "print(\"Hello, world!\")  # This is a side comment\n",
        "# Another comment\n",
        "print(\"Python is fun!\") # Another side comment\n",
        "\"\"\"\n",
        "\n",
        "code_without_comments = re.sub(r'#.*?\\n', '', code_with_comments)\n",
        "\n",
        "print(code_without_comments)"
      ],
      "metadata": {
        "colab": {
          "base_uri": "https://localhost:8080/"
        },
        "id": "jTghsg6RPamy",
        "outputId": "36cfb71f-a07e-4fea-def0-dd2279e2d521"
      },
      "execution_count": 16,
      "outputs": [
        {
          "output_type": "stream",
          "name": "stdout",
          "text": [
            "\n",
            "print(\"Hello, world!\")  print(\"Python is fun!\") \n"
          ]
        }
      ]
    },
    {
      "cell_type": "markdown",
      "source": [
        "Task12_0516. 지정된 HTML 문자열 내에서 이메일 주소를 찾아서 그 결과를 출력\n",
        "html = \"\"\"\n",
        "<ul>\n",
        "  <li>Email: example@example.com</li>\n",
        "  <li>Contact: contact@sample.org</li>\n",
        "</ul>\n",
        "\"\"\""
      ],
      "metadata": {
        "id": "pSfbwMV8PauG"
      }
    },
    {
      "cell_type": "code",
      "source": [
        "import re\n",
        "\n",
        "html = \"\"\"\n",
        "<ul>\n",
        "  <li>Email: example@example.com</li>\n",
        "  <li>Contact: contact@sample.org</li>\n",
        "</ul>\n",
        "\"\"\"\n",
        "\n",
        "email_pattern = r'[\\w\\.-]+@[\\w\\.-]+'\n",
        "\n",
        "email_addresses = re.findall(email_pattern, html)\n",
        "\n",
        "print(email_addresses)"
      ],
      "metadata": {
        "colab": {
          "base_uri": "https://localhost:8080/"
        },
        "id": "lYaJBmEXTst1",
        "outputId": "f7cb25c4-54b1-4c52-b51a-dbae516b63c3"
      },
      "execution_count": 15,
      "outputs": [
        {
          "output_type": "stream",
          "name": "stdout",
          "text": [
            "['example@example.com', 'contact@sample.org']\n"
          ]
        }
      ]
    }
  ]
}