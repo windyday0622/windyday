{
  "nbformat": 4,
  "nbformat_minor": 0,
  "metadata": {
    "colab": {
      "provenance": [],
      "authorship_tag": "ABX9TyP/GoXjs4WZJVmel/zKBmCv",
      "include_colab_link": true
    },
    "kernelspec": {
      "name": "python3",
      "display_name": "Python 3"
    },
    "language_info": {
      "name": "python"
    }
  },
  "cells": [
    {
      "cell_type": "markdown",
      "metadata": {
        "id": "view-in-github",
        "colab_type": "text"
      },
      "source": [
        "<a href=\"https://colab.research.google.com/github/windyday0622/windyday/blob/main/m2_%ED%8C%8C%EC%9D%B4%EC%8D%AC%20%ED%94%84%EB%A1%9C%EA%B7%B8%EB%9E%98%EB%B0%8D/%205%ED%8C%80_%EC%86%8C%EC%A7%80%EC%8A%B9_%EC%8B%A0%ED%98%84%EC%A7%84.ipynb\" target=\"_parent\"><img src=\"https://colab.research.google.com/assets/colab-badge.svg\" alt=\"Open In Colab\"/></a>"
      ]
    },
    {
      "cell_type": "code",
      "execution_count": null,
      "metadata": {
        "id": "JrWBF1l0IfNF"
      },
      "outputs": [],
      "source": [
        "class Menu:\n",
        "    def __init__(self, name, price):\n",
        "        self.name = name\n",
        "        self.price = price\n",
        "\n",
        "class Order:\n",
        "    def __init__(self):\n",
        "        self.items = []\n",
        "\n",
        "    def add_item(self, item):\n",
        "        self.items.append(item)\n",
        "\n",
        "    def remove_item(self, item):\n",
        "        self.items.remove(item)\n",
        "\n",
        "    def calculate_total(self):\n",
        "        total = 0\n",
        "        for item in self.items:\n",
        "            total += item.price\n",
        "        return total\n",
        "\n",
        "def welcome_interface():\n",
        "    print(\"환영합니다. 지승이네 커피 맛집입니다.\")\n",
        "\n",
        "def main_menu():\n",
        "    print(\"1. 커피\")\n",
        "    print(\"2. 디저트\")\n",
        "    print(\"3. 굿즈\")\n",
        "\n",
        "def order_summary(order):\n",
        "    print(\"주문 내역:\")\n",
        "    for item in order.items:\n",
        "        print(item.name, \"-\", item.price)\n",
        "    print(\"총 가격:\", order.calculate_total())\n",
        "\n",
        "def payment_interface(order):\n",
        "    print(\"결제 하시겠습니까?\")\n",
        "    order_summary(order)\n",
        "    payment_method = input(\"카드로 결제하시겠습니까?(c), 현금으로 결제하시겠습니까?(m): \")\n",
        "    if payment_method == \"m\":\n",
        "        print(\"현금 결제가 완료되었습니다. 5만원이 충전되었습니다.\")\n",
        "\n",
        "def main():\n",
        "    welcome_interface()\n",
        "    option = input(\"1. 매장 이용, 2. 화장실만 이용: \")\n",
        "    if option == \"1\":\n",
        "        order = Order()\n",
        "        while True:\n",
        "            main_menu()\n",
        "            item_name = input(\"주문하실 항목을 선택하세요: \")\n",
        "            item_price = int(input(\"가격을 입력하세요: \"))\n",
        "            item = Menu(item_name, item_price)\n",
        "            order.add_item(item)\n",
        "            continue_order = input(\"상품을 추가하시겠습니까?(y/n): \")\n",
        "            if continue_order.lower() != \"y\":\n",
        "                break\n",
        "        payment_interface(order)\n",
        "    elif option == \"2\":\n",
        "        print(\"화장실만 이용하면 5000원이 결제됩니다.\")\n",
        "        print(\"결제가 완료되었습니다. 화장실 비밀번호는 1234입니다.\")"
      ]
    }
  ]
}