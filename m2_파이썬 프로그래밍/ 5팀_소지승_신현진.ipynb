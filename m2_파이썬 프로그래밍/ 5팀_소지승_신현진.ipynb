{
  "nbformat": 4,
  "nbformat_minor": 0,
  "metadata": {
    "colab": {
      "provenance": [],
      "authorship_tag": "ABX9TyOdVm+y/wmEbONjJ8JVXrF5",
      "include_colab_link": true
    },
    "kernelspec": {
      "name": "python3",
      "display_name": "Python 3"
    },
    "language_info": {
      "name": "python"
    }
  },
  "cells": [
    {
      "cell_type": "markdown",
      "metadata": {
        "id": "view-in-github",
        "colab_type": "text"
      },
      "source": [
        "<a href=\"https://colab.research.google.com/github/windyday0622/windyday/blob/main/m2_%ED%8C%8C%EC%9D%B4%EC%8D%AC%20%ED%94%84%EB%A1%9C%EA%B7%B8%EB%9E%98%EB%B0%8D/%205%ED%8C%80_%EC%86%8C%EC%A7%80%EC%8A%B9_%EC%8B%A0%ED%98%84%EC%A7%84.ipynb\" target=\"_parent\"><img src=\"https://colab.research.google.com/assets/colab-badge.svg\" alt=\"Open In Colab\"/></a>"
      ]
    },
    {
      "cell_type": "markdown",
      "source": [
        "전체 파이썬 코드"
      ],
      "metadata": {
        "id": "AU9ppY0Ra89x"
      }
    },
    {
      "cell_type": "code",
      "source": [
        "class Dessert:\n",
        "    def __init__(self, name, price):\n",
        "        self.name = name\n",
        "        self.price = price\n",
        "\n",
        "class Menu:\n",
        "    def __init__(self):\n",
        "        self.menu_items = {\n",
        "            '1': Dessert(\"브라우니\", 5000),\n",
        "            '2': Dessert(\"핫도그\", 3000),\n",
        "            '3': Dessert(\"스콘\", 4000),\n",
        "            '4': Dessert(\"딸기 케이크\", 6000),\n",
        "            '5': Dessert(\"소금빵\", 2000)\n",
        "        }\n",
        "\n",
        "def start_view():\n",
        "    print(\"=== 시작 인터페이스 ===\")\n",
        "    print(\"환영합니다!\")\n",
        "    print(\"주문을 시작하시겠습니까? (y/n)\")\n",
        "\n",
        "def main_view(menu):\n",
        "    print(\"=== 메인 메뉴 ===\")\n",
        "    print(\"메뉴를 선택하세요:\")\n",
        "    for key, dessert in menu.menu_items.items():\n",
        "        print(f\"{key}. {dessert.name} - {dessert.price}원\")\n",
        "\n",
        "def sb_view():\n",
        "    print(\"=== 장바구니 ===\")\n",
        "    print(\"장바구니에 추가되었습니다.\")\n",
        "\n",
        "def pay_view(cart_items):\n",
        "    total_price = sum(item.price for item in cart_items)\n",
        "    print(\"=== 결제창 ===\")\n",
        "    print(\"장바구니 내역:\")\n",
        "    for item in cart_items:\n",
        "        print(f\"{item.name}: {item.price}원\")\n",
        "    print(f\"총 가격: {total_price}원\")\n",
        "    payment_method = input(\"결제 방법을 선택하세요 (카드 또는 현금): \")\n",
        "    if payment_method.lower() == \"현금\":\n",
        "        print(\"현금 결제를 선택하셨습니다. 5만원을 충전합니다.\")\n",
        "        # 5만원 충전 로직 추가\n",
        "    print(\"결제가 완료되었습니다. 감사합니다!\")\n",
        "\n",
        "def test_view():\n",
        "    print(\"=== 설문조사 ===\")\n",
        "    print(\"오늘의 기분을 1부터 5까지의 숫자 중에서 선택해주세요.\")\n",
        "    mood = input(\"1. 우울하다\\n2. 행복하다\\n3. 화가난다\\n4. 외롭다\\n5. 신난다\\n선택: \")\n",
        "    return int(mood)\n",
        "\n",
        "def recommend_dessert(mood):\n",
        "    dessert_name = {\n",
        "        1: \"브라우니\",\n",
        "        2: \"핫도그\",\n",
        "        3: \"스콘\",\n",
        "        4: \"딸기 케이크\",\n",
        "        5: \"소금빵\"\n",
        "    }.get(mood)\n",
        "    return dessert_name\n",
        "\n",
        "if __name__ == \"__main__\":\n",
        "    start_view()\n",
        "    start_option = input().strip().lower()\n",
        "    if start_option == \"y\":\n",
        "        mood = test_view()\n",
        "        recommended_dessert = recommend_dessert(mood)\n",
        "        print(f\"추천하는 디저트는 {recommended_dessert}입니다.\")\n",
        "        order_option = input(\"이 디저트로 주문하시겠습니까? (y/n): \").strip().lower()\n",
        "        if order_option == \"y\":\n",
        "            sb_view()\n",
        "            # 장바구니에 해당 디저트 추가하는 로직 구현 필요\n",
        "            menu = Menu()\n",
        "            main_view(menu)\n",
        "            # 사용자에게 메인 메뉴를 보여주고 주문을 진행할 수 있도록 함\n",
        "            # 주문 완료 후 결제창 이동\n",
        "            # 결제 완료 후 프로그램 종료\n",
        "        else:\n",
        "            print(\"주문이 취소되었습니다.\")\n",
        "    else:\n",
        "        print(\"감사합니다.\")\n"
      ],
      "metadata": {
        "colab": {
          "base_uri": "https://localhost:8080/"
        },
        "id": "dh_Mjgj8bqaW",
        "outputId": "0e01073f-ad35-4a9c-e52c-98e89f51160b"
      },
      "execution_count": 1,
      "outputs": [
        {
          "output_type": "stream",
          "name": "stdout",
          "text": [
            "=== 시작 인터페이스 ===\n",
            "환영합니다!\n",
            "주문을 시작하시겠습니까? (y/n)\n",
            "Y\n",
            "=== 설문조사 ===\n",
            "오늘의 기분을 1부터 5까지의 숫자 중에서 선택해주세요.\n",
            "1. 우울하다\n",
            "2. 행복하다\n",
            "3. 화가난다\n",
            "4. 외롭다\n",
            "5. 신난다\n",
            "선택: 2\n",
            "추천하는 디저트는 핫도그입니다.\n",
            "이 디저트로 주문하시겠습니까? (y/n): Y\n",
            "=== 장바구니 ===\n",
            "장바구니에 추가되었습니다.\n",
            "=== 메인 메뉴 ===\n",
            "메뉴를 선택하세요:\n",
            "1. 브라우니 - 5000원\n",
            "2. 핫도그 - 3000원\n",
            "3. 스콘 - 4000원\n",
            "4. 딸기 케이크 - 6000원\n",
            "5. 소금빵 - 2000원\n"
          ]
        }
      ]
    },
    {
      "cell_type": "markdown",
      "source": [
        "시작 인터페이스, 결제창, 설문조사 파트"
      ],
      "metadata": {
        "id": "O21iwXABb5VV"
      }
    },
    {
      "cell_type": "code",
      "source": [
        "# 시작 인터페이스\n",
        "def start_view():\n",
        "    print(\"환영합니다!\")\n",
        "    print(\"주문을 시작하시겠습니까? (y/n)\")\n",
        "\n",
        "# 결제창\n",
        "def pay_view(cart_items):\n",
        "    total_price = sum(item.price for item in cart_items)\n",
        "    print(\"장바구니 내역:\")\n",
        "    for item in cart_items:\n",
        "        print(f\"{item.name}: {item.price}원\")\n",
        "    print(f\"총 가격: {total_price}원\")\n",
        "    payment_method = input(\"결제 방법을 선택하세요 (카드 또는 현금): \")\n",
        "    if payment_method.lower() == \"현금\":\n",
        "        print(\"현금 결제를 선택하셨습니다. 5만원을 충전합니다.\")\n",
        "        # 5만원 충전 로직 추가\n",
        "    print(\"결제가 완료되었습니다. 감사합니다!\")\n",
        "\n",
        "# 설문조사\n",
        "def test_view():\n",
        "    print(\"오늘의 기분을 1부터 5까지의 숫자 중에서 선택해주세요.\")\n",
        "    mood = input(\"1. 우울하다\\n2. 행복하다\\n3. 화가난다\\n4. 외롭다\\n5. 신난다\\n선택: \")\n",
        "    return int(mood)\n"
      ],
      "metadata": {
        "id": "BjMIAqc3b5rf"
      },
      "execution_count": null,
      "outputs": []
    },
    {
      "cell_type": "markdown",
      "source": [
        "이 코드는 간단한 디저트 주문 시스템을 구현한 것입니다. 각 클래스와 함수는 다음과 같은 역할을 합니다:\n",
        "\n",
        "Dessert 클래스:\n",
        "디저트 객체를 나타내는 클래스입니다.\n",
        "\n",
        "name: 디저트의 이름을 저장합니다.\n",
        "\n",
        "price: 디저트의 가격을 저장합니다.\n",
        "\n",
        "Menu 클래스:\n",
        "메뉴 항목을 관리하는 클래스입니다.\n",
        "딕셔너리 형태로 메뉴의 각 항목을 저장합니다.\n",
        "\n",
        "start_view() 함수:\n",
        "시작 인터페이스를 출력하는 함수입니다.\n",
        "사용자에게 주문을 시작할 것인지 물어봅니다.\n",
        "\n",
        "main_view(menu) 함수:\n",
        "메인 메뉴를 출력하는 함수입니다.\n",
        "메뉴 객체를 받아와서 메뉴의 각 항목을 출력합니다.\n",
        "\n",
        "sb_view() 함수:\n",
        "장바구니에 추가되었음을 알리는 함수입니다.\n",
        "장바구니에 성공적으로 추가되었다는 메시지를 출력합니다.\n",
        "\n",
        "pay_view(cart_items) 함수:\n",
        "결제창을 출력하고 결제를 진행하는 함수입니다.\n",
        "장바구니에 있는 상품들과 총 가격을 출력합니다.\n",
        "사용자에게 결제 방법을 선택하도록 안내합니다.\n",
        "현금 결제 시 5만원을 충전하는 메시지를 출력합니다.\n",
        "\n",
        "test_view() 함수:\n",
        "사용자의 기분을 설문조사하여 입력받는 함수입니다.\n",
        "1부터 5까지의 숫자 중 하나를 선택하도록 안내합니다.\n",
        "\n",
        "recommend_dessert(mood) 함수:\n",
        "사용자의 기분에 따라 추천하는 디저트를 결정하는 함수입니다.\n",
        "사용자가 선택한 기분에 해당하는 디저트를 반환합니다.\n",
        "프로그램은 시작 인터페이스에서 사용자로부터 주문을 시작할 것인지 물어보고, 사용자가 주문을 시작하겠다고 하면 설문조사를 통해 기분을 입력받습니다. 그 후 해당 기분에 따라 추천 디저트를 출력하고, 사용자가 해당 디저트로 주문할지를 묻습니다. 주문을 원할 경우 장바구니에 해당 디저트를 추가하고, 메인 메뉴를 출력하여 주문을 진행할 수 있도록 합니다. 주문이 완료되면 결제창이 열리고, 사용자가 결제를 진행할 수 있습니다. 만약 주문을 시작하지 않거나 주문을 취소할 경우 감사의 메시지를 출력하여 프로그램을 종료합니다."
      ],
      "metadata": {
        "id": "meLjgmljcl9Y"
      }
    }
  ]
}