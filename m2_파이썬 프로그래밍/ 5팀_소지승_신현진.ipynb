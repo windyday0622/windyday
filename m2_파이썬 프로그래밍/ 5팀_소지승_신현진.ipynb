{
  "nbformat": 4,
  "nbformat_minor": 0,
  "metadata": {
    "colab": {
      "provenance": [],
      "authorship_tag": "ABX9TyOujTcTzvVaHmVctfV2qY7y",
      "include_colab_link": true
    },
    "kernelspec": {
      "name": "python3",
      "display_name": "Python 3"
    },
    "language_info": {
      "name": "python"
    }
  },
  "cells": [
    {
      "cell_type": "markdown",
      "metadata": {
        "id": "view-in-github",
        "colab_type": "text"
      },
      "source": [
        "<a href=\"https://colab.research.google.com/github/windyday0622/windyday/blob/main/m2_%ED%8C%8C%EC%9D%B4%EC%8D%AC%20%ED%94%84%EB%A1%9C%EA%B7%B8%EB%9E%98%EB%B0%8D/%205%ED%8C%80_%EC%86%8C%EC%A7%80%EC%8A%B9_%EC%8B%A0%ED%98%84%EC%A7%84.ipynb\" target=\"_parent\"><img src=\"https://colab.research.google.com/assets/colab-badge.svg\" alt=\"Open In Colab\"/></a>"
      ]
    },
    {
      "cell_type": "code",
      "source": [
        "class Dessert:\n",
        "    def __init__(self, name):\n",
        "        self.name = name\n",
        "\n",
        "class TestView:\n",
        "    def stress_survey(self):\n",
        "        print(\"지금 기분이 어떤가요?\")\n",
        "        print(\"1. 우울하다\")\n",
        "        print(\"2. 행복하다\")\n",
        "        print(\"3. 화가난다\")\n",
        "        print(\"4. 외롭다\")\n",
        "        print(\"5. 신난다\")\n",
        "        choice = input(\"선택하세요: \")\n",
        "        return choice\n",
        "\n",
        "class MainView:\n",
        "    def display_menu(self):\n",
        "        print(\"디저트 메뉴:\")\n",
        "        print(\"1. 브라우니\")\n",
        "        print(\"2. 핫도그\")\n",
        "        print(\"3. 스콘\")\n",
        "        print(\"4. 딸기 케이크\")\n",
        "        print(\"5. 소금빵\")\n",
        "\n",
        "class StartView:\n",
        "    def welcome_interface(self):\n",
        "        print(\"환영합니다. 지승이네 디저트 맛집입니다.\")\n",
        "\n",
        "class PayView:\n",
        "    def payment_interface(self):\n",
        "        print(\"결제가 완료되었습니다.\")\n",
        "\n",
        "class SBView:\n",
        "    def display_cart(self, order):\n",
        "        print(\"장바구니 내역:\")\n",
        "        for item in order.items:\n",
        "            print(item.name)\n",
        "        print(\"총 가격:\", order.calculate_total())\n",
        "\n",
        "def dessert_recommendation(choice):\n",
        "    desserts = {\n",
        "        \"1\": \"브라우니\",\n",
        "        \"2\": \"핫도그\",\n",
        "        \"3\": \"스콘\",\n",
        "        \"4\": \"딸기 케이크\",\n",
        "        \"5\": \"소금빵\"\n",
        "    }\n",
        "    recommendation = desserts.get(choice)\n",
        "    return recommendation\n",
        "\n",
        "def main():\n",
        "    start_view = StartView()\n",
        "    main_view = MainView()\n",
        "    sb_view = SBView()\n",
        "    pay_view = PayView()\n",
        "    test_view = TestView()\n",
        "\n",
        "    start_view.welcome_interface()\n",
        "\n",
        "    dessert_choice = None\n",
        "    while dessert_choice is None:\n",
        "        test_result = test_view.stress_survey()\n",
        "        dessert_choice = dessert_recommendation(test_result)\n",
        "        if dessert_choice:\n",
        "            print(\"추천하는 디저트는\", dessert_choice, \"입니다.\")\n",
        "            answer = input(\"이 디저트로 하시겠습니까? (y/n): \")\n",
        "            if answer.lower() == \"n\":\n",
        "                dessert_choice = None\n",
        "\n",
        "    main_view.display_menu()\n",
        "    # 나머지 메뉴 및 주문 프로세스 구현\n",
        "\n",
        "if __name__ == \"__main__\":\n",
        "    main()"
      ],
      "metadata": {
        "id": "ZSjlmn1eSBzm"
      },
      "execution_count": null,
      "outputs": []
    }
  ]
}