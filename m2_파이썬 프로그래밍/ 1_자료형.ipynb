{
  "nbformat": 4,
  "nbformat_minor": 0,
  "metadata": {
    "colab": {
      "provenance": [],
      "authorship_tag": "ABX9TyOIJZaTyymxz1C9M8yz06xr",
      "include_colab_link": true
    },
    "kernelspec": {
      "name": "python3",
      "display_name": "Python 3"
    },
    "language_info": {
      "name": "python"
    }
  },
  "cells": [
    {
      "cell_type": "markdown",
      "metadata": {
        "id": "view-in-github",
        "colab_type": "text"
      },
      "source": [
        "<a href=\"https://colab.research.google.com/github/windyday0622/windyday/blob/main/m2_%ED%8C%8C%EC%9D%B4%EC%8D%AC%20%ED%94%84%EB%A1%9C%EA%B7%B8%EB%9E%98%EB%B0%8D/%201_%EC%9E%90%EB%A3%8C%ED%98%95.ipynb\" target=\"_parent\"><img src=\"https://colab.research.google.com/assets/colab-badge.svg\" alt=\"Open In Colab\"/></a>"
      ]
    },
    {
      "cell_type": "markdown",
      "source": [
        "## 프로그래밍 언어\n",
        "[ 주요 기능 ]\n",
        "- 명령 실행: 프로그래밍 언어를 통해 개발자는 컴퓨터에 명령을 내려 특정 작업을 수행. 이는 데이터 처리, 계산, 정보 저장 및 검색 등을 포함.\n",
        "- 알고리즘 구현: 문제 해결을 위한 절차나 방법을 명확한 단계로 나누어 구현. 프로그래밍 언어는 이러한 절차를 정의하고 실행할 수 있는 도구를 제공.\n",
        "- 자동화: 반복적인 작업이나 복잡한 시스템 관리 작업을 자동화하여 효율성을 높이고 오류를 줄일 수 있다.\n",
        "- 인터페이스 및 상호작용: 사용자 인터페이스(UI)를 생성하고, 사용자 입력을 처리하며, 외부 시스템 또는 다른 프로그램과 상호작용하는 메커니즘을 제공.\n",
        "- 데이터 조작 및 관리: 데이터베이스와의 통신, 데이터 검색, 수정 및 관리 등을 할 수 있다.\n",
        "\n",
        "[ 구성 요소 ]\n",
        "- 문법(Syntax): 프로그래밍 언어의 문법은 언어가 어떻게 구성되어야 하는지를 정의. 변수 선언, 연산자 사용, 제어 구조 등의 규칙을 포함.\n",
        "- 데이터 타입(Data Types): 다양한 종류의 데이터(예: 정수, 실수, 문자열)를 다루기 위한 분류. 각 데이터 타입은 메모리 사용과 연산 방법에 영향을 미친다.\n",
        "- 변수(Variables): 데이터를 저장할 수 있는 메모리 공간의 이름. 변수를 통해 프로그램 내에서 데이터를 저장하고 참조할 수 있다.\n",
        "- 연산자(Operators): 산술, 비교, 논리 등의 연산을 수행하는 기호. 이를 통해 데이터를 조작하고 조건을 설정할 수 있다.\n",
        "- 제어 구조(Control Structures): 프로그램의 흐름을 제어하는 구조로, 조건문(if, switch), 반복문(for, while), 키워드(break, continue) 등이 있다.\n",
        "- 함수 및 절차(Functions and Procedures): 특정 작업을 수행하는 코드 블록. 함수는 반복적인 코드를 효율적으로 관리할 수 있게 해준다.\n",
        "- 라이브러리(Libraries): 특정 기능을 수행하는 함수나 데이터를 모아놓은 집합. 라이브러리를 사용하면 복잡한 기능을 쉽게 구현할 수 있다."
      ],
      "metadata": {
        "id": "Nl026CFkfzP_"
      }
    },
    {
      "cell_type": "markdown",
      "source": [
        "- 파이썬 소개\n",
        "- 용어 : 식별자(기본 규칙), 주석, 연산자, 자료, 키워드\n",
        "- 자료형 : 수치형, 시퀀스(문자열, 리스트, 튜플), 매핑(사전), 집합(set), 블린(bool)\n",
        "- 자료형 활용 사례 : 사용자 함수, 클래스\n",
        "- 들여쓰기, 이스케이프 문자, 문자열 포멧, 2/8/16진수\n",
        "- 객체지향언어 : 파이썬에서 \"모든 것이 객체\"\n",
        "  - 기본 데이터 타입, 함수, 모듈, 클래스 등"
      ],
      "metadata": {
        "id": "LrS2oKFwgC7G"
      }
    },
    {
      "cell_type": "code",
      "execution_count": null,
      "metadata": {
        "id": "nsslSpF8vtgI",
        "colab": {
          "base_uri": "https://localhost:8080/",
          "height": 112
        },
        "outputId": "c6ed9275-a54c-45cb-c046-95b7e186778f"
      },
      "outputs": [
        {
          "output_type": "error",
          "ename": "SyntaxError",
          "evalue": "invalid decimal literal (<ipython-input-2-0b6cd532b9c2>, line 2)",
          "traceback": [
            "\u001b[0;36m  File \u001b[0;32m\"<ipython-input-2-0b6cd532b9c2>\"\u001b[0;36m, line \u001b[0;32m2\u001b[0m\n\u001b[0;31m    - 1990년 암스테르담의 귀도 반 로섬(Guido Van Rossum)이 개발한 인터프리터 언어\u001b[0m\n\u001b[0m         ^\u001b[0m\n\u001b[0;31mSyntaxError\u001b[0m\u001b[0;31m:\u001b[0m invalid decimal literal\n"
          ]
        }
      ],
      "source": [
        "#### 파이썬 이란\n",
        "- 1990년 암스테르담의 귀도 반 로섬(Guido Van Rossum)이 개발한 인터프리터 언어\n",
        "- 컴퓨터 프로그래밍 교육을 위해 많이 사용하지만, 기업의 실무를 위해서도 많이 사용하는 언어. 구글에서 만든 소프트웨어의 50%이상이 파이썬으로 작성\n",
        "\n",
        "#### 파이썬의 특징\n",
        "- 파이썬은 인간다운 언어이다 (=고수준 언어)\n",
        "- 파이썬은 문법이 쉬워 빠르게 배울 수 있다\n",
        "- 파이썬은 무료이지만 강력하다\n",
        "- 파이썬은 간결하다\n",
        "- 파이썬은 프로그래밍을 즐기게 해준다\n",
        "- 파이썬은 개발 속도가 빠르다\n",
        "\n",
        "#### 파이썬으로 할 수 있는 일\n",
        "- 웹 개발: Django, Flask 등의 프레임워크를 사용하여 웹 애플리케이션을 개발할 수 있습니다.\n",
        "- 데이터 분석: Pandas, NumPy(수치), SciPy(통계, 수리)와 같은 라이브러리를 사용하여 데이터를 분석하고 처리할 수 있습니다.\n",
        "- 머신 러닝과 인공지능: TensorFlow, PyTorch, Scikit-learn 등의 라이브러리를 활용하여 머신 러닝 모델을 구축하고 훈련시킬 수 있습니다.\n",
        "- 자동화: 파이썬 스크립트를 작성하여 일상적인 작업을 자동화하고, 시스템 관리 작업을 수행할 수 있습니다.\n",
        "- 게임 개발: Pygame과 같은 라이브러리를 사용하여 간단한 게임을 개발할 수 있습니다.\n",
        "- 모바일 애플리케이션 개발: Kivy 또는 BeeWare와 같은 라이브러리를 사용하여 모바일 애플리케이션을 개발할 수 있습니다.\n",
        "- 데스크탑 애플리케이션 개발: PyQt, Tkinter 등의 라이브러리를 활용하여 데스크탑 애플리케이션을 개발할 수 있습니다.\n",
        "- 시스템 스크립팅과 네트워킹: 시스템 유틸리티를 개발하거나 네트워크 프로토콜을 구현할 수 있습니다.\n",
        "- 임베디드 시스템과 하드웨어 제어: 라즈베리 파이와 같은 임베디드 시스템을 제어하고 하드웨어를 프로그래밍할 수 있습니다.\n",
        "- 사이언티픽 컴퓨팅: 과학적 연산과 시뮬레이션을 위해 파이썬을 활용할 수 있습니다.\n",
        "- 교육: 파이썬은 초보자에게 프로그래밍을 가르치는 데 이상적인 언어로 평가받고 있습니다.\n",
        "- 파이썬의 다양한 라이브러리와 프레임워크 덕분에, 이러한 분야에서의 작업이 더욱 쉽고 효율적으로 수행될 수 있습니다."
      ]
    },
    {
      "cell_type": "code",
      "source": [
        "# ! 기호는 Colab셀에서 Unix/Linux 셀 명령어를 실행\n",
        "!python--version"
      ],
      "metadata": {
        "id": "rLxvPE8411QS"
      },
      "execution_count": null,
      "outputs": []
    },
    {
      "cell_type": "code",
      "source": [
        "# % 기호는 IPython 환경(즉, colab이 포함된 Jupyter 환경)에서 제공하는 매직 명령어를 사용\n",
        "# 라인 매직은 단일 라인에 대해 실행되며 % 하나를 사용하고 셀 매직은 셀 전체에 적용되며 %%를 사용\n",
        "# 현재 작업폴더 확인\n",
        "%pwd"
      ],
      "metadata": {
        "id": "Fhe1CZp02D0i"
      },
      "execution_count": null,
      "outputs": []
    },
    {
      "cell_type": "code",
      "source": [
        "%%time\n",
        "#간단한 for 루프를 사용한 계산\n",
        "sum = 0\n",
        "for i in range(100000):\n",
        "  sum += i\n",
        "print(sum)"
      ],
      "metadata": {
        "id": "2kEsNzZV2-xR"
      },
      "execution_count": null,
      "outputs": []
    },
    {
      "cell_type": "code",
      "source": [
        "#### 용어\n",
        "- 식별자 : 프로그램밍 언어에서 이름을 붙일 때 사용하는 단어. 주로 변수 또는 함수 이름 등으로 사용\n",
        "- 주석 : 프로그램을 설명하기 위해 사용. # 기호로 주석 처리\n",
        "- 연산자 : 스스로 값이 되는 것이 아니고 값과 값 사이에 무언가 기능을 적용할 때 사용\n",
        "- 자료 : 리터럴이라고 하는데 숫자이든 문자이든 어떠한 값 자체를 의미. 1, 10, \"Hello\"\n",
        "- 키워드 : 파이썬이 만들어질 때 이미 사용하겠다고 예약해 놓는 것. False, None, True, ...\n",
        "- 프로그램밍 언어에서 사용자가 이름을 정할 때 키워드는 사용할 수 없음(식별자를 키워드로 사용할 수 없음.)\n",
        "#### 식별자\n",
        "count, user_name, _is_valid, calculate_area, Car, model, year, math 및 m 모두 유효한 식별자. 각각의 식별자는 특정한 데이터 또는 기능에 이름을 부여하여 코드 내에서 해당 데이터나 기능을 참조할 수 있게하며 코드의 가독성과 유지 보수성을 높이는 데 중요한 역할"
      ],
      "metadata": {
        "id": "1p7V6arx3xIj"
      },
      "execution_count": null,
      "outputs": []
    },
    {
      "cell_type": "code",
      "source": [
        "# 변수 식별자\n",
        "count = 10\n",
        "user_name = \"Alice\"\n",
        "_is_vaild + True\n",
        "\n",
        "# 함수 식별자\n",
        "def calculate_area(radius):\n",
        "  return 3.14159 * radius * radius\n",
        "\n",
        "# 클래스 식별자\n",
        "class Car:\n",
        "  def__init__(self, model, year):\n",
        "    self.model = model\n",
        "    self.year = year\n",
        "\n",
        "# 모듈 식별자\n",
        "import math as m\n"
      ],
      "metadata": {
        "id": "8NkRNeMW3ydi"
      },
      "execution_count": null,
      "outputs": []
    },
    {
      "cell_type": "code",
      "source": [
        "## 식별자 기본규칙\n",
        "* 키워드를 사용하면 안된다.\n",
        "* 특수문자는 언더 바(_)만 사용\n",
        "* 숫자로 시작하면 안된다.\n",
        "* 공백을 포함할 수 없다."
      ],
      "metadata": {
        "id": "KU1HliAE3ygF"
      },
      "execution_count": null,
      "outputs": []
    },
    {
      "cell_type": "code",
      "source": [
        "import keyword\n",
        "print(keyword.kwlist)\n",
        "len(keyword.kwlist)"
      ],
      "metadata": {
        "id": "7lAP3lGn3yk6"
      },
      "execution_count": null,
      "outputs": []
    },
    {
      "cell_type": "code",
      "source": [
        "alpha\n",
        "break #키워드\n",
        "alpha10\n",
        "_alpha\n",
        "273alpha #숫자\n",
        "AlpHa\n",
        "ALPHA\n",
        "has space #공백"
      ],
      "metadata": {
        "id": "tyfxrwFl3yol"
      },
      "execution_count": null,
      "outputs": []
    },
    {
      "cell_type": "code",
      "source": [
        "Q. 주어진 문자열 리스트에서 유효한 Python 변수 이름만을 추출하여 반환하는 함수를 작성하세요."
      ],
      "metadata": {
        "id": "9LLyxHqt3yrE"
      },
      "execution_count": null,
      "outputs": []
    },
    {
      "cell_type": "code",
      "source": [
        "identifiers = [\"var1\", \"2things\", \"variable_name\", \"time!\"]"
      ],
      "metadata": {
        "id": "5x4gY8W-Hz5S"
      },
      "execution_count": null,
      "outputs": []
    },
    {
      "cell_type": "code",
      "source": [
        "# isidentifier()는 파이썬의 문자열 메서드로, 주어진 문자열이 유효한 식별자인지를 확인\n",
        "# isidentifier()는 예약어인지는 따로 체크하지 않음\n",
        "import keyword\n",
        "def valid_identifiers(identifiers):\n",
        "  valid = []\n",
        "  for identifier in identifiers:\n",
        "    if identifier.isidentifier() and not keyword.iskeyword(identifier):\n",
        "      valid.append(identifier)\n",
        "    return valid\n",
        "\n",
        "\n",
        "# 예제 실행\n",
        "identifiers = [\"var1\", \"2things\", \"variable_name\", \"time!\", \"True\"]\n",
        "print(valid_identifiers(identifiers))"
      ],
      "metadata": {
        "id": "KPfXsqtO_KvG"
      },
      "execution_count": null,
      "outputs": []
    },
    {
      "cell_type": "code",
      "source": [
        "파이썬은 snake_case와 CamelCase를 모두 사용\n",
        "- itemlist : item_list itemList\n",
        "- loginstatus : login_status loginStatus\n",
        "- 캐멀 케이스(대문자로 시작) 클래스\n",
        "- 스네이크 케이스(소문자로 시작) 뒤에 ()가 있다 - 함수\n",
        "- 스네이크 케이스(소문자로 시작) 뒤에 ()가 없다 - 변수"
      ],
      "metadata": {
        "id": "P-RWi_wN6Nx3"
      },
      "execution_count": null,
      "outputs": []
    },
    {
      "cell_type": "code",
      "source": [
        "# 연산자\n",
        "a = 5\n",
        "b = 3\n",
        "c = b % a  #몫\n",
        "d = b // a #나머지\n",
        "e = b / a\n",
        "print(c)\n",
        "print(d)\n",
        "print(e)"
      ],
      "metadata": {
        "id": "MQaPaoSv7IqJ"
      },
      "execution_count": null,
      "outputs": []
    },
    {
      "cell_type": "code",
      "source": [
        "a = 3\n",
        "b = 5\n",
        "\n",
        "if a > b:\n",
        "  print(a)"
      ],
      "metadata": {
        "id": "QjU2bOsF7Ijh"
      },
      "execution_count": null,
      "outputs": []
    },
    {
      "cell_type": "markdown",
      "source": [
        "자료형"
      ],
      "metadata": {
        "id": "Pcg8P-C6Ah2e"
      }
    },
    {
      "cell_type": "code",
      "source": [
        "#### 자료형\n",
        "- 자료형 또는 데이터 타입이란 숫자, 문자 등과 같이 여러 종류의 데이터를 구분하기 위한 분류\n",
        "- 파이썬의 자료형은 크게 숫자(numbers), 시퀀스(sequence), 매핑(mapping) 등으로 나눌 수 있다.\n",
        "- 파이썬의 기본 자료형\n",
        "  - 수치형\n",
        "    - 정수형 : int는 정수(integer)를 나타낸다. 양의 정수와 음의 정수, 숫자 0\n",
        "    - 실수형 : float는 원래 부동소수점수(floating-point number)를 가리키는데, 지금은 단순히 소수점 이하를 표현할 수 있는 수이다.\n",
        "    - 복소수형 : 복소수를 complex로 나타내고 제곱하면 -1이 되는 수 i를 ‘허수(imaginary number)’라고 하는데 허수 i를 j로 표현\n",
        "  - 시퀀스 : 문자열(str), 리스트(list), 튜플(tuple), 사용자 정의 클래스가 시퀀스에 속한다. for 문에서 사용할 수 있는 것들이 바로 시퀀스\n",
        "    - 문자열 : 문자를 한 줄로 표현하며 문자열 인덱스를 이용해 문자열의 일부를 복사\n",
        "    - 리스트 : 대괄호([ ])로 감싸 주고 각 요솟값은 쉼표(,)로 구분\n",
        "    - 튜플 : 튜플은 ( )으로 둘러싸고 각 요솟값은 쉼표(,)로 구분\n",
        "  - 매핑\n",
        "    - 사전 : 딕셔너리(dict)는 키(key)와 값(value)의 짝으로 이뤄지는데 이런 것을 매핑\n",
        "  - 집합 : 집합을 표현하는 세트(set)\n",
        "  - 블린 : 참, 거짓을 표현"
      ],
      "metadata": {
        "id": "Js-KPO647Ibp"
      },
      "execution_count": null,
      "outputs": []
    },
    {
      "cell_type": "code",
      "source": [
        "#정수형, 실수형\n",
        "i1 = 3\n",
        "f1 = 3.5\n",
        "print(i1)\n",
        "print(f1)"
      ],
      "metadata": {
        "id": "ClFUcx-G7IWQ",
        "colab": {
          "base_uri": "https://localhost:8080/"
        },
        "outputId": "d80b3658-ec25-4b9d-d674-c2576c97981a"
      },
      "execution_count": null,
      "outputs": [
        {
          "output_type": "stream",
          "name": "stdout",
          "text": [
            "3\n",
            "3.5\n"
          ]
        }
      ]
    },
    {
      "cell_type": "code",
      "source": [
        "#정수(int)\n",
        "print(int(True))\n",
        "print(int(False))\n",
        "print(int('100'))\n",
        "print(int(3.14))"
      ],
      "metadata": {
        "id": "exyD9jTo7IPJ",
        "colab": {
          "base_uri": "https://localhost:8080/"
        },
        "outputId": "f32319cc-3d79-46d0-d756-dcbae028368f"
      },
      "execution_count": null,
      "outputs": [
        {
          "output_type": "stream",
          "name": "stdout",
          "text": [
            "1\n",
            "0\n",
            "100\n",
            "3\n"
          ]
        }
      ]
    },
    {
      "cell_type": "code",
      "source": [
        "#실수(float)\n",
        "print(float(True))\n",
        "print(float(False))\n",
        "print(float('100'))\n",
        "print(float(3.14))"
      ],
      "metadata": {
        "id": "eUI9g6gRC2a2",
        "colab": {
          "base_uri": "https://localhost:8080/"
        },
        "outputId": "32bdbc5d-898d-4dab-9d4d-75f44846d3c8"
      },
      "execution_count": null,
      "outputs": [
        {
          "output_type": "stream",
          "name": "stdout",
          "text": [
            "1.0\n",
            "0.0\n",
            "100.0\n",
            "3.14\n"
          ]
        }
      ]
    },
    {
      "cell_type": "code",
      "source": [
        "# 사칙연산 : +, *, /, //, %, **\n",
        "a = 10\n",
        "b = 2.3\n",
        "print(a+b)\n",
        "print(a*b)\n",
        "print(a/b)\n",
        "print(a//b)\n",
        "print(a%b)\n",
        "print(a**b)"
      ],
      "metadata": {
        "id": "7ytsE4UKC2Yt",
        "colab": {
          "base_uri": "https://localhost:8080/"
        },
        "outputId": "6adabb62-d98e-40b1-9212-5560d01dae4d"
      },
      "execution_count": null,
      "outputs": [
        {
          "output_type": "stream",
          "name": "stdout",
          "text": [
            "12.3\n",
            "23.0\n",
            "4.347826086956522\n",
            "4.0\n",
            "0.8000000000000007\n",
            "199.52623149688787\n"
          ]
        }
      ]
    },
    {
      "cell_type": "code",
      "source": [
        "# 문자열\n",
        "string = '문자열'\n",
        "a = \"100\""
      ],
      "metadata": {
        "id": "wirtAisZC2WV"
      },
      "execution_count": null,
      "outputs": []
    },
    {
      "cell_type": "code",
      "source": [
        "print(string)\n",
        "a"
      ],
      "metadata": {
        "id": "tjVS0g2yF-nl",
        "colab": {
          "base_uri": "https://localhost:8080/",
          "height": 54
        },
        "outputId": "e5b33c05-d642-4f19-dbaa-7ea7cc62d1c5"
      },
      "execution_count": null,
      "outputs": [
        {
          "output_type": "stream",
          "name": "stdout",
          "text": [
            "문자열\n"
          ]
        },
        {
          "output_type": "execute_result",
          "data": {
            "text/plain": [
              "'100'"
            ],
            "application/vnd.google.colaboratory.intrinsic+json": {
              "type": "string"
            }
          },
          "metadata": {},
          "execution_count": 8
        }
      ]
    },
    {
      "cell_type": "code",
      "source": [
        "a = 100\n",
        "b = 50\n",
        "print(a+b)\n",
        "a = '100'\n",
        "b = '50'\n",
        "print(a+b)"
      ],
      "metadata": {
        "id": "nyxraozhC2Tl",
        "colab": {
          "base_uri": "https://localhost:8080/"
        },
        "outputId": "7ec3d867-545f-40bb-f6c6-5c4e86570276"
      },
      "execution_count": null,
      "outputs": [
        {
          "output_type": "stream",
          "name": "stdout",
          "text": [
            "150\n",
            "10050\n"
          ]
        }
      ]
    },
    {
      "cell_type": "code",
      "source": [
        "a = int('100')\n",
        "b = int('50')\n",
        "print(a+b)"
      ],
      "metadata": {
        "id": "0AGTmTi-C2QG",
        "colab": {
          "base_uri": "https://localhost:8080/"
        },
        "outputId": "59d60710-d6f0-466b-e2f7-6f70ffc1e100"
      },
      "execution_count": null,
      "outputs": [
        {
          "output_type": "stream",
          "name": "stdout",
          "text": [
            "150\n"
          ]
        }
      ]
    },
    {
      "cell_type": "code",
      "source": [
        "# 사용자 입력\n",
        "input('인사말을 입력하세요')"
      ],
      "metadata": {
        "id": "oTIzouU-C2KF",
        "colab": {
          "base_uri": "https://localhost:8080/",
          "height": 323
        },
        "outputId": "d8ed5bc0-017c-43e2-d5ca-114f260f195f"
      },
      "execution_count": null,
      "outputs": [
        {
          "output_type": "error",
          "ename": "KeyboardInterrupt",
          "evalue": "Interrupted by user",
          "traceback": [
            "\u001b[0;31m---------------------------------------------------------------------------\u001b[0m",
            "\u001b[0;31mKeyboardInterrupt\u001b[0m                         Traceback (most recent call last)",
            "\u001b[0;32m<ipython-input-11-7ae7a8365149>\u001b[0m in \u001b[0;36m<cell line: 2>\u001b[0;34m()\u001b[0m\n\u001b[1;32m      1\u001b[0m \u001b[0;31m# 사용자 입력\u001b[0m\u001b[0;34m\u001b[0m\u001b[0;34m\u001b[0m\u001b[0m\n\u001b[0;32m----> 2\u001b[0;31m \u001b[0minput\u001b[0m\u001b[0;34m(\u001b[0m\u001b[0;34m'인사말을 입력하세요'\u001b[0m\u001b[0;34m)\u001b[0m\u001b[0;34m\u001b[0m\u001b[0;34m\u001b[0m\u001b[0m\n\u001b[0m",
            "\u001b[0;32m/usr/local/lib/python3.10/dist-packages/ipykernel/kernelbase.py\u001b[0m in \u001b[0;36mraw_input\u001b[0;34m(self, prompt)\u001b[0m\n\u001b[1;32m    849\u001b[0m                 \u001b[0;34m\"raw_input was called, but this frontend does not support input requests.\"\u001b[0m\u001b[0;34m\u001b[0m\u001b[0;34m\u001b[0m\u001b[0m\n\u001b[1;32m    850\u001b[0m             )\n\u001b[0;32m--> 851\u001b[0;31m         return self._input_request(str(prompt),\n\u001b[0m\u001b[1;32m    852\u001b[0m             \u001b[0mself\u001b[0m\u001b[0;34m.\u001b[0m\u001b[0m_parent_ident\u001b[0m\u001b[0;34m,\u001b[0m\u001b[0;34m\u001b[0m\u001b[0;34m\u001b[0m\u001b[0m\n\u001b[1;32m    853\u001b[0m             \u001b[0mself\u001b[0m\u001b[0;34m.\u001b[0m\u001b[0m_parent_header\u001b[0m\u001b[0;34m,\u001b[0m\u001b[0;34m\u001b[0m\u001b[0;34m\u001b[0m\u001b[0m\n",
            "\u001b[0;32m/usr/local/lib/python3.10/dist-packages/ipykernel/kernelbase.py\u001b[0m in \u001b[0;36m_input_request\u001b[0;34m(self, prompt, ident, parent, password)\u001b[0m\n\u001b[1;32m    893\u001b[0m             \u001b[0;32mexcept\u001b[0m \u001b[0mKeyboardInterrupt\u001b[0m\u001b[0;34m:\u001b[0m\u001b[0;34m\u001b[0m\u001b[0;34m\u001b[0m\u001b[0m\n\u001b[1;32m    894\u001b[0m                 \u001b[0;31m# re-raise KeyboardInterrupt, to truncate traceback\u001b[0m\u001b[0;34m\u001b[0m\u001b[0;34m\u001b[0m\u001b[0m\n\u001b[0;32m--> 895\u001b[0;31m                 \u001b[0;32mraise\u001b[0m \u001b[0mKeyboardInterrupt\u001b[0m\u001b[0;34m(\u001b[0m\u001b[0;34m\"Interrupted by user\"\u001b[0m\u001b[0;34m)\u001b[0m \u001b[0;32mfrom\u001b[0m \u001b[0;32mNone\u001b[0m\u001b[0;34m\u001b[0m\u001b[0;34m\u001b[0m\u001b[0m\n\u001b[0m\u001b[1;32m    896\u001b[0m             \u001b[0;32mexcept\u001b[0m \u001b[0mException\u001b[0m \u001b[0;32mas\u001b[0m \u001b[0me\u001b[0m\u001b[0;34m:\u001b[0m\u001b[0;34m\u001b[0m\u001b[0;34m\u001b[0m\u001b[0m\n\u001b[1;32m    897\u001b[0m                 \u001b[0mself\u001b[0m\u001b[0;34m.\u001b[0m\u001b[0mlog\u001b[0m\u001b[0;34m.\u001b[0m\u001b[0mwarning\u001b[0m\u001b[0;34m(\u001b[0m\u001b[0;34m\"Invalid Message:\"\u001b[0m\u001b[0;34m,\u001b[0m \u001b[0mexc_info\u001b[0m\u001b[0;34m=\u001b[0m\u001b[0;32mTrue\u001b[0m\u001b[0;34m)\u001b[0m\u001b[0;34m\u001b[0m\u001b[0;34m\u001b[0m\u001b[0m\n",
            "\u001b[0;31mKeyboardInterrupt\u001b[0m: Interrupted by user"
          ]
        }
      ]
    },
    {
      "cell_type": "code",
      "source": [
        "input('안녕하세요')"
      ],
      "metadata": {
        "id": "Y-2-fBZLC2DV"
      },
      "execution_count": null,
      "outputs": []
    },
    {
      "cell_type": "code",
      "source": [
        "a = input()\n",
        "b = input()\n",
        "print(a+b)"
      ],
      "metadata": {
        "id": "sK-JnnBnGnts"
      },
      "execution_count": null,
      "outputs": []
    },
    {
      "cell_type": "code",
      "source": [
        "#input() 함수는 입력받은 데이터를 string으로 처리한다.\n",
        "a = int(input())\n",
        "b = int(input())\n",
        "print(a+b)"
      ],
      "metadata": {
        "id": "E5Z9R9ZWGnot"
      },
      "execution_count": null,
      "outputs": []
    },
    {
      "cell_type": "code",
      "source": [
        "# 실수 + 실수 -> 실수\n",
        "# Q. 3과 3.3을 입력하고 숫자 연산을 수행하여 6.3을 출력하세요.\n",
        "a = 3\n",
        "b = 3.3\n",
        "print(a+b)"
      ],
      "metadata": {
        "id": "9Fhy_iynGngt"
      },
      "execution_count": null,
      "outputs": []
    },
    {
      "cell_type": "code",
      "source": [
        "# 정수 + 실수 -> 실수\n",
        "# Q. 3과 3.3을 입력하고 숫자 연산을 수행하여 6.3을 출력하세요.\n",
        "num1 = int(input(\"정수를 입력하세요 : \"))\n",
        "num2 = float(input(\"소수점 이하를 포함한 실수를 입력하세요 : \"))\n",
        "print(num1 + num2)"
      ],
      "metadata": {
        "id": "Ox10tfr5Izy9"
      },
      "execution_count": null,
      "outputs": []
    },
    {
      "cell_type": "code",
      "source": [
        "#Q.a = 54와 b=52.273일때 a+b는 5252.273으로 출력되도록 a와 b를 문자열 자료형으로 변환하세요.\n",
        "a = 52\n",
        "b =52.273\n",
        "a = str(a)\n",
        "b = str(b)\n",
        "print(a+b)"
      ],
      "metadata": {
        "id": "9kNykZcNIzst"
      },
      "execution_count": null,
      "outputs": []
    },
    {
      "cell_type": "code",
      "source": [
        "# 문자열 : \"\", '', \"\"\"\"\"\", ''''''\n",
        "# p1 = 'python's value is great'\n",
        "p1 = \"python's value is great\"\n",
        "print(p1)"
      ],
      "metadata": {
        "id": "bdtPIVuKIzqe"
      },
      "execution_count": null,
      "outputs": []
    },
    {
      "cell_type": "code",
      "source": [
        "# 백슬래시 (\\)는 문자열 안에서 작은따옴표 (')를 문자열의 끝을 의미하지 않는 일반 문자로 포함시키기 위해 사용\n",
        "# 이 기술을 이스케이프라고 함.\n",
        "p1 = 'python\\'s value is great'\n",
        "print(p1)"
      ],
      "metadata": {
        "id": "m1Sky0tsIzn9"
      },
      "execution_count": null,
      "outputs": []
    },
    {
      "cell_type": "code",
      "source": [
        "# \\n 행 바꿈\n",
        "# y1 = \"Once you study data analysis You need Python\"\n",
        "y1 = \"Once you study data analysis\\nYou need Python\"\n",
        "print(y1)\n",
        "y2 = \"Once you study data analysis\\tYou need Python\"\n",
        "print(y2)"
      ],
      "metadata": {
        "id": "owGskmcpOLCl"
      },
      "execution_count": null,
      "outputs": []
    },
    {
      "cell_type": "code",
      "source": [
        "y2 ='''\n",
        "Once you study data analysis\n",
        "You need Python\n",
        "'''\n",
        "print(y2)\n",
        "y3 =\"\"\"\n",
        "Once you study data analysis\n",
        "You need Python\n",
        "\"\"\"\n",
        "print(y3)"
      ],
      "metadata": {
        "id": "hVTTiD9FOK-N"
      },
      "execution_count": null,
      "outputs": []
    },
    {
      "cell_type": "code",
      "source": [
        "a1 = 'Python'\n",
        "a2 =  ' is easy to learn'\n",
        "print(a1+a2)\n",
        "print(\"=\"*25)"
      ],
      "metadata": {
        "id": "KbZdiJhZOK7d"
      },
      "execution_count": null,
      "outputs": []
    },
    {
      "cell_type": "code",
      "source": [
        "a1 = '현지니는'\n",
        "a2 = '지금 커피가 먹고 싶다 '\n",
        "print(a2+a1)"
      ],
      "metadata": {
        "id": "jfrttp2PQc31"
      },
      "execution_count": null,
      "outputs": []
    },
    {
      "cell_type": "code",
      "source": [
        "# Q. 아래와 같이 출력할 수 있는 string을 만드세요\n",
        "string = '''\n",
        "\"What a wonderful world!\"\n",
        "he said loudly\n",
        "'''\n",
        "print(string)"
      ],
      "metadata": {
        "id": "lGusrXnjQcw4"
      },
      "execution_count": null,
      "outputs": []
    },
    {
      "cell_type": "code",
      "source": [
        "# Q. 다른 타입의 숫자 2개를 입력받아 큰 수를 출력하세요.\n",
        "num1 = int(input(\"정수를 입력하세요\"))\n",
        "num2 = int(input(\"정수를 입력하세요\"))\n",
        "print(num1) if num1>num2 else print(num2)"
      ],
      "metadata": {
        "id": "2AIuRLERQct9"
      },
      "execution_count": null,
      "outputs": []
    },
    {
      "cell_type": "code",
      "source": [
        "\n",
        "num1 = int(input(\"첫번째 숫자\"))\n",
        "num2 = int(input(\"두번째 숫자\"))\n",
        "if num1>num2:\n",
        "  print(num1)\n",
        "elif num1<num2:\n",
        "  print(num2)\n",
        "else:\n",
        "  print(\"큰 수가 없습니다.\")"
      ],
      "metadata": {
        "id": "IfZLdx6jSfqN"
      },
      "execution_count": null,
      "outputs": []
    },
    {
      "cell_type": "markdown",
      "source": [
        "자료형 - List\n",
        "\n",
        "리스트는 [ ]로 표시하며 [ ]안의 요소를 콤마로 구분하여 순서있게 나열"
      ],
      "metadata": {
        "id": "sGOJZsOrJpyx"
      }
    },
    {
      "cell_type": "code",
      "source": [
        "list1 = [1, 2, 3, 4, 5]\n",
        "list2 = ['a', 'b', 'c']\n",
        "list3 = [1, 'a', 'abc', [1, 2, 3, 4, 5], ['a', 'b', 'c']]\n",
        "print(list1)\n",
        "print(list2)\n",
        "print(list3)"
      ],
      "metadata": {
        "id": "hLb0iSH0SflM"
      },
      "execution_count": null,
      "outputs": []
    },
    {
      "cell_type": "code",
      "source": [
        "# 인덱싱\n",
        "list1 = [1, 2, 3, 4, 5]\n",
        "list1[2]\n",
        "list1[0:2]\n",
        "list1[:4]"
      ],
      "metadata": {
        "id": "LsZjYc60Sfit"
      },
      "execution_count": null,
      "outputs": []
    },
    {
      "cell_type": "code",
      "source": [
        "list3 = [1, 'a', 'abc', [1, 2, 3, 4, 5], ['a', 'b', 'c']]\n",
        "print(list3[3][2])\n",
        "print(list3[4][0])"
      ],
      "metadata": {
        "id": "wBWNsuGqoRC-"
      },
      "execution_count": null,
      "outputs": []
    },
    {
      "cell_type": "code",
      "source": [
        "# 리스트 수정, 삭제\n",
        "a = [0, 1, 2, 3, 4, 5, 6, 7, 8, 9]\n",
        "b = ['a', 'b', 'c']\n",
        "a[0] = 1\n",
        "print(a)\n",
        "b[1] = 'a'\n",
        "print(b)\n",
        "del a[0]\n",
        "print(a)\n",
        "del b[1]\n",
        "print(b)"
      ],
      "metadata": {
        "id": "0vKgVBmUoKXt"
      },
      "execution_count": null,
      "outputs": []
    },
    {
      "cell_type": "code",
      "source": [
        "# 끝에서 부터 인덱싱 : -1\n",
        "a = [0, 1, 2, 3, 4, 5, 6, 7, 8, 9]\n",
        "b = ['a', 'b', 'c']\n",
        "print(a[-2])\n",
        "print(a[-4:-1])\n",
        "print(a[-4:])"
      ],
      "metadata": {
        "id": "gAwrwYZRsi5j"
      },
      "execution_count": null,
      "outputs": []
    },
    {
      "cell_type": "code",
      "source": [
        "# 리스트 확장\n",
        "h = [1, 2, 3]\n",
        "h.extend([4,5]) # 반복 가능한 객체의 모든 요소를 리스트에 추가\n",
        "print(h)\n",
        "h.append(6) # 단일 객체를 추가\n",
        "print(h)\n",
        "h.insert(0,5)\n",
        "print(h)"
      ],
      "metadata": {
        "id": "OXIyZ6Cpsi38"
      },
      "execution_count": null,
      "outputs": []
    },
    {
      "cell_type": "code",
      "source": [
        "Q. list1에서 다음을 수행하세요\n",
        "- 33을 출력\n",
        "- 82를 리스트에 추가\n",
        "- 87의 인덱스 구하기 - 도전\n",
        "- 인덱스 3에서 10까지의 값을 출력하고 list2에 저장한 후 내림차순 정렬하기 - 도전\n",
        "- 39를 11로 변경\n",
        "- [69,45,58] 출력\n",
        "- 짝수 인덱스의 값으로 구성된 리스트 출력하기\n",
        "- 인덱스가 가장 큰수를 삭제하기\n",
        "- 인덱스 3, 5인 값으로 4칙 연산하기\n",
        "\n",
        "list1 = [58, 45, 69, 19,  4, 87, 29, 13, 39, 15, 54, [8, 33, 11], 27, 49, 63, 98, 22, 82]"
      ],
      "metadata": {
        "id": "WooXaCLIsi1u"
      },
      "execution_count": null,
      "outputs": []
    },
    {
      "cell_type": "code",
      "source": [
        "list1 = [58, 45, 69, 19,  4, 87, 29, 13, 39, 15, 54, [8, 33, 11], 27, 49, 63, 98, 22, 82]\n",
        "\n",
        "print(list1[11][1])\n",
        "list1.append(82)\n",
        "print(list1)\n",
        "print(list1.index(87))\n",
        "list2 = list1[3:11]\n",
        "print(list2)\n",
        "list2.sort(reverse=True)\n",
        "print(\"list2.sort(reverse=True)\")\n",
        "print(list2)\n",
        "list1[8] = 11\n",
        "print(list1)\n",
        "list3 = list1[:-16]\n",
        "list3.sort(reverse=True)\n",
        "print(\"list3.sort(reverse=True)\")\n",
        "print(list3)\n",
        "list1[0::2]\n",
        "del list1[-1]\n",
        "print(list1)\n",
        "a = list1[3]\n",
        "b = list1[5]\n",
        "print(a+b)\n",
        "print(a*b)\n",
        "print(a/b)\n",
        "print(a-b)"
      ],
      "metadata": {
        "id": "LkQUi069sizz"
      },
      "execution_count": null,
      "outputs": []
    },
    {
      "cell_type": "code",
      "source": [
        "print(list1)\n",
        "print(list1[7::-1])\n",
        "print(list1[7::2])\n",
        "print(list1[7::-2])"
      ],
      "metadata": {
        "id": "Nj08ncqusiyE"
      },
      "execution_count": null,
      "outputs": []
    },
    {
      "cell_type": "code",
      "source": [
        "1. 메서드 vs 함수:\n",
        "- sort(): 리스트 객체의 내장 메서드입니다. 즉, 리스트에서만 사용할 수 있습니다.\n",
        "- sorted(): 내장 함수로, 어떤 반복 가능한(iterable) 객체에도 사용될 수 있습니다. 예를 들면 리스트, 튜플, 딕셔너리, 문자열 등에 사용할 수 있습니다.\n",
        "\n",
        "2. 반환 값:\n",
        "- sort(): 리스트를 원 위치에서(in-place) 정렬하고 None을 반환합니다. 따라서 원래의 리스트 자체가 변경됩니다.\n",
        "- sorted(): 정렬된 새로운 리스트를 반환합니다. 원래의 객체는 변경되지 않습니다.\n",
        "\n",
        "3. 유용성:\n",
        "- sort(): 리스트에서만 작동하기 때문에 리스트만 정렬할 수 있습니다.\n",
        "- sorted(): 다양한 객체를 정렬할 수 있으며 결과는 항상 리스트로 반환됩니다."
      ],
      "metadata": {
        "id": "br9WsdmVsiwM"
      },
      "execution_count": null,
      "outputs": []
    },
    {
      "cell_type": "code",
      "source": [
        "# sort()\n",
        "my_list = [3, 1, 2]\n",
        "my_list.sort()\n",
        "print(my_list)\n",
        "\n",
        "# sorted()\n",
        "my_tuple = (3, 1, 2)\n",
        "new_list = sorted(my_tuple)\n",
        "print(my_tuple)\n",
        "print(new_list)"
      ],
      "metadata": {
        "id": "IQvt8mpzsiuN"
      },
      "execution_count": null,
      "outputs": []
    },
    {
      "cell_type": "code",
      "source": [
        "list = [5, 6, 7, 8, 9]\n",
        "new_list = list.sort()\n",
        "print(list)\n",
        "print(new_list)"
      ],
      "metadata": {
        "id": "mcKrIic6sisi"
      },
      "execution_count": null,
      "outputs": []
    },
    {
      "cell_type": "code",
      "source": [
        "list = [5, 6, 9, 7, 8]\n",
        "new_list = sorted(list)\n",
        "print(list)\n",
        "print(new_list)"
      ],
      "metadata": {
        "id": "y4mnvmmwsiqU"
      },
      "execution_count": null,
      "outputs": []
    },
    {
      "cell_type": "code",
      "source": [
        "list1 = [58, 45, 69, 19,  4, 87, 29, 13, 39, 15, 54, [8, 33, 11], 27, 49, 63, 98, 22, 82]\n",
        "list2 = list1[3:11]\n",
        "print(list2)\n",
        "l_sort = sorted(list2,reverse=True)\n",
        "l_sort"
      ],
      "metadata": {
        "id": "oiUhIWDXsioU"
      },
      "execution_count": null,
      "outputs": []
    },
    {
      "cell_type": "code",
      "source": [
        "list3 = list1[3:11]\n",
        "list3.sort(reverse=True)\n",
        "print(list3)"
      ],
      "metadata": {
        "id": "44xEEdU6simM"
      },
      "execution_count": null,
      "outputs": []
    },
    {
      "cell_type": "code",
      "source": [
        "Task1_0425. 주어진 숫자 리스트에서 최소값과 최대값을 찾아 출력하세요.\n",
        "\n",
        "numbers = [58, 45, 69, 19, 4, 87, 29, 13, 39, 15]"
      ],
      "metadata": {
        "id": "eCMoBVyNHML3"
      },
      "execution_count": null,
      "outputs": []
    },
    {
      "cell_type": "code",
      "source": [
        "numbers = [58, 45, 69, 19, 4, 87, 29, 13, 39, 15]\n",
        "l_sort = sorted(numbers,reverse=True)\n",
        "l_sort\n",
        "print(l_sort[0])\n",
        "print(l_sort[-1])"
      ],
      "metadata": {
        "id": "ASsfAK11Hba6"
      },
      "execution_count": null,
      "outputs": []
    },
    {
      "cell_type": "code",
      "source": [
        "#리스트 정의\n",
        "numbers = [58, 45, 69, 19, 4, 87, 29, 13, 39, 15]\n",
        "\n",
        "#최소값과 최대갑 찾기\n",
        "min_value = min(numbers)\n",
        "max_value = max(numbers)\n",
        "\n",
        "# 결과 출력\n",
        "print(f\"최소값: {min_value}, 최대값 : {max_value}\")"
      ],
      "metadata": {
        "id": "GBD8wsW1xmUc"
      },
      "execution_count": null,
      "outputs": []
    },
    {
      "cell_type": "code",
      "source": [
        "# 최소값과 최대값을 첫 번째 요소로 초기화합니다,\n",
        "min_value = numbers[0]\n",
        "max_value = naumbers[0]\n",
        "\n",
        "# 리스트의 모든 요소를 순회합니다.\n",
        "for number in numbers:\n",
        "  # 현재 요소가 현재 최소값보다 작으면 최소값을 갱신합니다.\n",
        "  if number < min_value:\n",
        "    min_value"
      ],
      "metadata": {
        "id": "48IjKQHOy4KF"
      },
      "execution_count": null,
      "outputs": []
    },
    {
      "cell_type": "code",
      "source": [
        "Task2_0425. 주어진 숫자 리스트의 모든 요소의 합계와 평균을 계산하고 출력하세요\n",
        "\n",
        "numbers = [58, 45, 69, 19, 4, 87, 29, 13, 39, 15]"
      ],
      "metadata": {
        "id": "v22fl_h_HMOM"
      },
      "execution_count": null,
      "outputs": []
    },
    {
      "cell_type": "code",
      "source": [
        "numbers = [58, 45, 69, 19, 4, 87, 29, 13, 39, 15]\n",
        "result = sum(numbers)\n",
        "print(result)\n",
        "\n",
        "result1 = len(numbers)\n",
        "print(result1)\n",
        "print(result/result1)"
      ],
      "metadata": {
        "id": "deUr3tO4Hq2B"
      },
      "execution_count": null,
      "outputs": []
    },
    {
      "cell_type": "code",
      "source": [
        "Task3_0425. 주어진 리스트에서 특정 요소가 등장하는 모든 인덱스를 리스트로 만들어 출력하세요.\n",
        "\n",
        "items = ['apple', 'banana', 'cherry', 'apple', 'cherry', 'apple']\n",
        "target = 'apple'"
      ],
      "metadata": {
        "id": "GwrSd-iyHMP9"
      },
      "execution_count": null,
      "outputs": []
    },
    {
      "cell_type": "code",
      "source": [
        "items = ['apple', 'banana', 'cherry', 'apple', 'cherry', 'apple']\n",
        "target = 'apple'\n",
        "indices = [index for index, item in enumerate(items) if item == target]\n",
        "print(indices)"
      ],
      "metadata": {
        "id": "6HtoRH_tHrQq"
      },
      "execution_count": null,
      "outputs": []
    },
    {
      "cell_type": "code",
      "source": [
        "Task4_0425. 주어진 리스트에서 연속해서 반복되는 요소만 제거하고, 결과 리스트를 반환하세요. 단, 처음 등장하는 요소는 유지해야 합니다.\n",
        "\n",
        "예를 들어, ['a', 'a', 'b', 'c', 'c', 'c', 'd', 'e', 'e']가 입력되면, ['a', 'b', 'c', 'd', 'e']를 출력해야 합니다."
      ],
      "metadata": {
        "id": "qDFZFO88HMRz"
      },
      "execution_count": null,
      "outputs": []
    },
    {
      "cell_type": "code",
      "source": [
        "li = ['a', 'a', 'b', 'c', 'c', 'c', 'd', 'e', 'e']\n",
        "result = [li[0]]\n",
        "for i in li[1:]:\n",
        "  if i != result[-1]:\n",
        "    result.append(i)\n",
        "print(result)\n"
      ],
      "metadata": {
        "id": "XnaOXEJ-VcVm"
      },
      "execution_count": null,
      "outputs": []
    },
    {
      "cell_type": "code",
      "source": [
        "Task5_0425 주어진 정수 리스트와 회전 횟수 k에 대해 리스트를 오른쪽으로 k만큼 회전(이동)시킨 결과를 반환하세요. k가 리스트의 길이보다 클 수 있으며, 이 경우 k를 리스트 길이로 나눈 나머지만큼 실제 회전시키면 됩니다.\n",
        "\n",
        "예를 들어, [1, 2, 3, 4, 5]와 k=2가 주어지면, 결과는 [4, 5, 1, 2, 3]이 되어야 합니다."
      ],
      "metadata": {
        "id": "V5GLRTItHMTz"
      },
      "execution_count": null,
      "outputs": []
    },
    {
      "cell_type": "code",
      "source": [
        "def rotate_list(nums, k):\n",
        "  if not nums:\n",
        "    return nums\n",
        "  # 회전 횟수를 리스트 길이로 나눈 나머지로 계산\n",
        "  k = k % len(nums)\n",
        "  # 리스트의 끝부분을 앞으로, 앞부분을 끝으로 옮김\n",
        "  rotated = nums[-k:] + nums[:-k]\n",
        "  return rotated\n",
        "\n",
        "# 리스트의 정의\n",
        "nums =[1, 2, 3, 4, 5]\n",
        "k = 2\n",
        "# 결과 출력\n",
        "print(rotate_list(nums, k))"
      ],
      "metadata": {
        "id": "wV28h2LVUJs2"
      },
      "execution_count": null,
      "outputs": []
    },
    {
      "cell_type": "markdown",
      "source": [
        "자료형 - Tuple\n",
        "\n",
        "- 튜플은 변경할 수 없는 (immutable) 순서가 있는 컬렉션\n",
        "- 프로그램에서 그 값이 항상 변하지 않아야되는 경우 사용"
      ],
      "metadata": {
        "id": "VpSyFe5tJBfR"
      }
    },
    {
      "cell_type": "code",
      "source": [
        "tuple1 = (1, 2, 3, 4, 5)\n",
        "tuple2 = ('a', 'b', 'c')\n",
        "tuple3 = (1, 'a', 'abc', [1, 2, 3, 4, 5], ['a', 'b', 'c'])\n",
        "\n",
        "print(tuple1[:])\n",
        "print(tuple1[2])\n",
        "tuple3[3][2]"
      ],
      "metadata": {
        "id": "vgg2LXpfHr-Z"
      },
      "execution_count": null,
      "outputs": []
    },
    {
      "cell_type": "code",
      "source": [
        "list = [1, 2, 3, 4, 5]\n",
        "list[0] = 0\n",
        "list"
      ],
      "metadata": {
        "id": "EJcEmwchHMV0"
      },
      "execution_count": null,
      "outputs": []
    },
    {
      "cell_type": "code",
      "source": [
        "# 튜플의 요소 값은 변경할 수 없음\n",
        "tuple = (1, 2, 3, 4, 5)\n",
        "tuple[0] = 0\n",
        "tuple"
      ],
      "metadata": {
        "id": "96Z_CO07HMXq"
      },
      "execution_count": null,
      "outputs": []
    },
    {
      "cell_type": "code",
      "source": [
        "t1 = (1,) # 1개의 요소만 가질 때에는 요소 뒤에 콤마를 붙여야 함.\n",
        "print(t1)\n",
        "type(t1)"
      ],
      "metadata": {
        "id": "3HKcKZOjHMZb"
      },
      "execution_count": null,
      "outputs": []
    },
    {
      "cell_type": "code",
      "source": [
        "t2 = 1, 2, 3\n",
        "print(t2)\n",
        "type(t2)"
      ],
      "metadata": {
        "id": "nDItfCqtLcZp"
      },
      "execution_count": null,
      "outputs": []
    },
    {
      "cell_type": "code",
      "source": [
        "print(t2*3)"
      ],
      "metadata": {
        "id": "I7eiJP5pLcXX"
      },
      "execution_count": null,
      "outputs": []
    },
    {
      "cell_type": "code",
      "source": [
        "t1+t2"
      ],
      "metadata": {
        "id": "4IB6sjv7LcVw"
      },
      "execution_count": null,
      "outputs": []
    },
    {
      "cell_type": "markdown",
      "source": [
        "Q. 'red', 'green', 'blue' 값을 갖는 튜플에서 각 값을 각각 r, g, b변수에 할당하고 출력하세요"
      ],
      "metadata": {
        "id": "Guj4a81lOJof"
      }
    },
    {
      "cell_type": "code",
      "source": [
        "colors = ('red', 'green', 'blue')\n",
        "r, g, b = colors\n",
        "print(r)\n",
        "print(g)\n",
        "print(b)"
      ],
      "metadata": {
        "id": "7aT2LZpwLcPA"
      },
      "execution_count": null,
      "outputs": []
    },
    {
      "cell_type": "markdown",
      "source": [
        "함수에서 여러 값을 반환할 때 튜플을 사용하는 것이 일반적입니다.\n",
        "\n",
        "Q. 주어진 리스트의 총합과 평균을 동시에 반환하는 함수를 작성하세요.\n",
        "\n",
        "numbers = [10, 20, 30, 40, 50]"
      ],
      "metadata": {
        "id": "VNbLV9ItOzCn"
      }
    },
    {
      "cell_type": "code",
      "source": [
        "def calculate_sum_and_average(numbers):\n",
        "  total = sum(numbers)\n",
        "  average = total / len(numbers)\n",
        "  return (total, average) # 튜플로 총합과 평균 반환\n",
        "\n",
        "  numbers = [10, 20, 30, 40, 50]\n",
        "  total, average = calculate_sum_and_average(numbers)\n",
        "  print(\"총합:\", total, \"평균:\", average)"
      ],
      "metadata": {
        "id": "E1XP-YV1LcNA"
      },
      "execution_count": null,
      "outputs": []
    },
    {
      "cell_type": "markdown",
      "source": [
        "자료형- 사전\n",
        "\n",
        "- 키와 값을 하나의 요소로 하는 순서가 없는 집합"
      ],
      "metadata": {
        "id": "Fg-UQ_TLROBf"
      }
    },
    {
      "cell_type": "code",
      "source": [
        "{a:1, b:2}"
      ],
      "metadata": {
        "id": "BxPTN9HtLcKg"
      },
      "execution_count": null,
      "outputs": []
    },
    {
      "cell_type": "code",
      "source": [
        "d1 = {'a':1, 'b':2, 'c':3}\n",
        "print(d1['a'])"
      ],
      "metadata": {
        "id": "gtQ7G4frRYIX"
      },
      "execution_count": null,
      "outputs": []
    },
    {
      "cell_type": "code",
      "source": [
        "d1.keys()"
      ],
      "metadata": {
        "id": "cZJRmcVJRYD-"
      },
      "execution_count": null,
      "outputs": []
    },
    {
      "cell_type": "code",
      "source": [
        "d1.values()"
      ],
      "metadata": {
        "id": "1Vw-uW4PRYCW"
      },
      "execution_count": null,
      "outputs": []
    },
    {
      "cell_type": "code",
      "source": [
        "d1.items()"
      ],
      "metadata": {
        "id": "MHokhCtMRYAN"
      },
      "execution_count": null,
      "outputs": []
    },
    {
      "cell_type": "code",
      "source": [
        "d1['d'] = 4\n",
        "d1"
      ],
      "metadata": {
        "id": "2SG4igadSMB_"
      },
      "execution_count": null,
      "outputs": []
    },
    {
      "cell_type": "code",
      "source": [
        "d1['b'] = 7\n",
        "d1"
      ],
      "metadata": {
        "id": "JcN6UOLuSL_w"
      },
      "execution_count": null,
      "outputs": []
    },
    {
      "cell_type": "code",
      "source": [
        "del d1['b']\n",
        "d1"
      ],
      "metadata": {
        "id": "uYvNziA-SL7e"
      },
      "execution_count": null,
      "outputs": []
    },
    {
      "cell_type": "markdown",
      "source": [
        "Q. 딕셔너리 d 에서 'b'의 값을 확인하면서 그 값을 삭제하세요."
      ],
      "metadata": {
        "id": "MrmbrFaLft9M"
      }
    },
    {
      "cell_type": "code",
      "source": [
        "d = {'a': 1, 'b': 7, 'c':3, 'd': 4}\n",
        "value = d.pop('b')\n",
        "print(\"삭제 값:\", value)\n",
        "print(d)"
      ],
      "metadata": {
        "id": "hTP5WVcvf3JT"
      },
      "execution_count": null,
      "outputs": []
    },
    {
      "cell_type": "markdown",
      "source": [
        "Q. 다음과 같이 학생의 이름과 점수를 튜플로 묶은 리스트가 있습니다.:[(\"Tom\", 85), (\"Jane\", 90),(\"Bob\", 75)]\n",
        "\n",
        "이 리스트를 사용해 학생 이름을 키로, 점수를 값으로 하는 딕셔너리를 생성하고 출력하세요."
      ],
      "metadata": {
        "id": "wB0A849HWqVt"
      }
    },
    {
      "cell_type": "code",
      "source": [
        "students = [(\"Tom\", 85), (\"Jane\", 90),(\"Bob\", 75)]\n",
        "student_dict = dict(students)\n",
        "print(student_dict)"
      ],
      "metadata": {
        "id": "D7CEHkzASL0-"
      },
      "execution_count": null,
      "outputs": []
    },
    {
      "cell_type": "markdown",
      "source": [
        "Q. 튜플의 불변성 때문에 튜플은 딕셔너리의 키로 사용될 수 있습니다.\n",
        "\n",
        "주어진 위치 좌표 리스트에서 각 위치가 몇 번 나타나는지 계산하는 딕셔너리를 만드세요."
      ],
      "metadata": {
        "id": "ig7hsGraXSbe"
      }
    },
    {
      "cell_type": "code",
      "source": [
        "# 위치 좌표의 리스트\n",
        "positions = [(1, 1), (2, 2), (1, 1), (3, 3), (2, 2)]\n",
        "\n",
        "# 각 위치의 출현 횟수를 저장할 딕셔너리\n",
        "position_count = {}\n",
        "\n",
        "for pos in positions:\n",
        "    if pos in positions_count:\n",
        "        position_count[pos] += 1\n",
        "    else:\n",
        "        position_count[pos] = 1\n",
        "\n",
        "print(position_count)"
      ],
      "metadata": {
        "id": "mhFQOUKESLyu"
      },
      "execution_count": null,
      "outputs": []
    },
    {
      "cell_type": "markdown",
      "source": [
        "자료형-집합, set\n",
        "\n",
        "- 중복을 허용하지 않으며 순서가 없다."
      ],
      "metadata": {
        "id": "Ov4nSMmOy6TT"
      }
    },
    {
      "cell_type": "code",
      "source": [
        "s1 = set ([1, 2, 5, 4, 3])\n",
        "s2 = set('hello')\n",
        "print(s1)\n",
        "print(s2)"
      ],
      "metadata": {
        "id": "enaR5D2hhAor"
      },
      "execution_count": null,
      "outputs": []
    },
    {
      "cell_type": "code",
      "source": [
        "l1 = list(s1)\n",
        "print(l1)\n",
        "print(l1[1])"
      ],
      "metadata": {
        "id": "04mUzPgchAmr"
      },
      "execution_count": null,
      "outputs": []
    },
    {
      "cell_type": "code",
      "source": [
        "l2 = list(s2)\n",
        "print(l2[2])"
      ],
      "metadata": {
        "id": "AggnF3FjhAkb"
      },
      "execution_count": null,
      "outputs": []
    },
    {
      "cell_type": "markdown",
      "source": [
        "Q. 주어진 리스트에서 중복 요소를 제거하고 결과를 출력하세요.\n",
        "\n",
        "nums = [1, 2, 2, 3, 4, 4, 4, 5]"
      ],
      "metadata": {
        "id": "kWr5vRy01ndp"
      }
    },
    {
      "cell_type": "code",
      "source": [
        "nums = [1, 2, 2, 3, 4, 4, 4, 5]\n",
        "s3 = set(nums)\n",
        "print(s3)"
      ],
      "metadata": {
        "id": "bNcL9FdzhAib"
      },
      "execution_count": null,
      "outputs": []
    },
    {
      "cell_type": "markdown",
      "source": [
        "Q. s1, s2의 합집합과 교집합을 각각 리스트로 출력하세요.\n",
        "\n",
        "s1 = set([1, 2, 3, 4, 5, 6])\n",
        "s2 = set([4, 5, 6, 7, 8, 9])"
      ],
      "metadata": {
        "id": "56cZZh7w2kZR"
      }
    },
    {
      "cell_type": "code",
      "source": [
        "s1 = set([1, 2, 3, 4, 5, 6])\n",
        "s2 = set([4, 5, 6, 7, 8, 9])\n",
        "print(s1 & s2)\n",
        "print(s1 | s2)"
      ],
      "metadata": {
        "id": "rnZRvH3ChAgD"
      },
      "execution_count": null,
      "outputs": []
    },
    {
      "cell_type": "markdown",
      "source": [
        "Q. 첫 번째 집합에서 두 번째 집합의 요소를 제외한 차집합을 구하고 출력하세요.\n",
        "\n",
        "set1 = {1, 2, 3, 4, 5}\n",
        "set2 = {4, 5, 6, 7}"
      ],
      "metadata": {
        "id": "XC5m2zcL5ERZ"
      }
    },
    {
      "cell_type": "code",
      "source": [
        "set1 = {1, 2, 3, 4, 5}\n",
        "set2 = {4, 5, 6, 7}\n",
        "print(set1 - set2)"
      ],
      "metadata": {
        "id": "lX98nsVNhAcj"
      },
      "execution_count": null,
      "outputs": []
    },
    {
      "cell_type": "markdown",
      "source": [
        "Task1_0426. 주어진 리스트에서 중복된 요소를 제외하고 고유한 요소의 개수를 세는 프로그램을 작성하세요.\n",
        "\n",
        "data = [1, 2, 2, 3, 4, 4, 4, 5]"
      ],
      "metadata": {
        "id": "EGm0jk4n5m-Z"
      }
    },
    {
      "cell_type": "code",
      "source": [
        "data = [1, 2, 2, 3, 4, 4, 4, 5]\n",
        "s1 = set(data)\n",
        "print(s1)\n",
        "len(s1)"
      ],
      "metadata": {
        "id": "XMaEX28EhAWL"
      },
      "execution_count": null,
      "outputs": []
    },
    {
      "cell_type": "markdown",
      "source": [
        "Task2_0426. 두 개의 리스트에서 공통으로 나타나는 요소들을 찾아 리스트로 반환하는 프로그램을 작성하세요.\n",
        "\n",
        "예시 입력: list1 = [1, 2, 3, 4, 5], list2 = [4, 5, 6, 7, 8]\n",
        "\n",
        "예시 출력: [4, 5]"
      ],
      "metadata": {
        "id": "YIR9YOu_6jxo"
      }
    },
    {
      "cell_type": "code",
      "source": [
        "list1 = [10, 100, 1000, 10000, 100000]; list2 = [100, 101, 102, 1000, 1004, 100000]\n",
        "s1 = set(list1); s2 = set(list2)\n",
        "list3 = print(list(s1 & s2))"
      ],
      "metadata": {
        "id": "PYgWnF8hhAUL"
      },
      "execution_count": null,
      "outputs": []
    },
    {
      "cell_type": "markdown",
      "source": [
        "자료형 - 논리(Bool) True와 False\n",
        "\n",
        "- 파이썬에서 참과 거짓을 나타내는 상수. True는 1, False는 0의 값을 가짐.\n",
        "- 조건을 판단해서 그 조건이 참이면 True, 거짓이면 False를 return."
      ],
      "metadata": {
        "id": "qv42VVqv69zA"
      }
    },
    {
      "cell_type": "code",
      "source": [
        "print(bool(0))\n",
        "print(bool(''))\n",
        "print(bool([]))\n",
        "print(bool(1))\n",
        "print(bool(100))"
      ],
      "metadata": {
        "id": "Le7IN_QhhAP8"
      },
      "execution_count": null,
      "outputs": []
    },
    {
      "cell_type": "markdown",
      "source": [
        "아스키코드\n",
        "ASCII 값에서 'a'는 97이고 'p'는 112입니다. 'a'는 'p'보다 작으므로 str1<str2는 True를 반환"
      ],
      "metadata": {
        "id": "e1tcux8p9xPx"
      }
    },
    {
      "cell_type": "code",
      "source": [
        "# 관계 연산자\n",
        "x =1; y = 2\n",
        "str1 = 'abc'; str2 = 'python'\n",
        "print(x == y)\n",
        "print(x != y)\n",
        "print(str1 == str2)\n",
        "print(str2 == 'python')\n",
        "print(str1 < str2)"
      ],
      "metadata": {
        "id": "lOVbby-i69do"
      },
      "execution_count": null,
      "outputs": []
    },
    {
      "cell_type": "code",
      "source": [
        "# 논리 연산자\n",
        "bool1 = True; bool2 = False; bool3 = True; bool4 = False\n",
        "print(bool1 and bool2)\n",
        "print(bool1 or bool2)\n",
        "print(not bool3)\n",
        "print(not bool4)"
      ],
      "metadata": {
        "id": "yY7B23_HhAN0"
      },
      "execution_count": null,
      "outputs": []
    },
    {
      "cell_type": "markdown",
      "source": [
        "Task3_0426. 주어진 숫자 리스트에서 특정 값보다 큰 요소가 하나라도 존재하는지 검사하고, 그 결과를 불 값으로 반환하는 함수를 작성하세요.\n",
        "\n",
        "- numbers = [1, 2, 3, 10, 20]\n",
        "- threshold = 15"
      ],
      "metadata": {
        "id": "0vRzieQwBLmX"
      }
    },
    {
      "cell_type": "code",
      "source": [
        "numbers = [1, 2, 3, 10, 20]\n",
        "threshold = 15\n",
        "for i in numbers:\n",
        "  if i > threshold:\n",
        "    print(\"True\")"
      ],
      "metadata": {
        "id": "BvKIej1o67f4"
      },
      "execution_count": null,
      "outputs": []
    },
    {
      "cell_type": "code",
      "source": [
        "def check_greater_than_threshold(numbers, threshold):\n",
        "  for number in numbers:\n",
        "    if number > threshold:\n",
        "      return True\n",
        "    return False\n",
        "\n",
        "numbers = [1, 2, 3, 10, 20]\n",
        "threshold = 15\n",
        "result = check_greater_than_threshold(numbers, threshold)\n",
        "print(result)"
      ],
      "metadata": {
        "id": "exSY-CVbRPUl"
      },
      "execution_count": null,
      "outputs": []
    },
    {
      "cell_type": "markdown",
      "source": [
        "Task4_0426. 주어진 문자열이 특정 문자열을 포함하는지 확인하고 결과를 불 값으로 반환하는 함수를 작성하세요.\n",
        "\n",
        "- text = \"hello world\"\n",
        "- substring = \"world\""
      ],
      "metadata": {
        "id": "AErj0r-RBO3f"
      }
    },
    {
      "cell_type": "code",
      "source": [
        "text = \"hello world\"\n",
        "substring = \"world\"\n",
        "if substring in text:\n",
        "    print(\"True\")"
      ],
      "metadata": {
        "id": "JHtflcdz7uH4"
      },
      "execution_count": null,
      "outputs": []
    },
    {
      "cell_type": "markdown",
      "source": [
        "사용자 함수의 형태\n",
        "- 입력값, 출력값 모두 있는 경우\n",
        "- 입력값만 있는 경우\n",
        "- 출력값만 있는 경우\n",
        "- 입출력값이 없는 경우"
      ],
      "metadata": {
        "id": "c0jgKV2PUSEc"
      }
    },
    {
      "cell_type": "code",
      "source": [
        "def contains_substring(text, substring):\n",
        "  if substring in text:\n",
        "    return True\n",
        "  else:\n",
        "    return False\n",
        "\n",
        "text = \"hello world\"\n",
        "substring = \"world\"\n",
        "result = contains_substring(text, substring)\n",
        "print(result)"
      ],
      "metadata": {
        "id": "BFT5MQsYTWst"
      },
      "execution_count": null,
      "outputs": []
    },
    {
      "cell_type": "code",
      "source": [
        "def contains_substring(text, substring):\n",
        "  if substring in text:\n",
        "    print(True)\n",
        "  else:\n",
        "    print(False)\n",
        "\n",
        "text = \"hello world\"\n",
        "substring = \"world\"\n",
        "result = contains_substring(text, substring)\n",
        "print(result)"
      ],
      "metadata": {
        "id": "cFUURBb9VA18"
      },
      "execution_count": null,
      "outputs": []
    },
    {
      "cell_type": "markdown",
      "source": [
        "Task5_0426. 주어진 연도가 윤년인지 판별하는 함수를 작성하세요. 윤년은 다음의 조건을 만족해야 합니다:\n",
        "- 4로 나누어 떨어진다.\n",
        "- 100으로 나누어 떨어지지 않거나, 400으로 나누어 떨어지면 윤년이다.\n",
        "\n",
        "year = 2020\n",
        "\n",
        "True"
      ],
      "metadata": {
        "id": "Kl2_Zea_BsfO"
      }
    },
    {
      "cell_type": "code",
      "source": [
        "def is_leap_year(year):\n",
        "    if year % 4 == 0:\n",
        "        if year % 100 == 0:\n",
        "            if year % 400 == 0:\n",
        "                return True\n",
        "            else:\n",
        "                return False\n",
        "        else:\n",
        "            return True\n",
        "    else:\n",
        "        return False\n",
        "year = 2024\n",
        "if is_leap_year(year):\n",
        "    print(f\"{year}년은 윤년입니다.\")\n",
        "else:\n",
        "    print(f\"{year}년은 윤년이 아닙니다.\")"
      ],
      "metadata": {
        "id": "9sWQDnsCDLj2"
      },
      "execution_count": null,
      "outputs": []
    },
    {
      "cell_type": "markdown",
      "source": [
        "#### 파이썬에서 들여쓰기\n",
        "\n",
        "\n",
        "- 파이썬에는 실행 코드 부분을 묶어주는 {} 괄호가 없다.\n",
        "- 대신 들여쓰기(indentation)로 {}를 대신한다.\n",
        "- 제어문이나 함수이름, 클래스 이름 뒤에 콜론(':')으로 제어문, 함수이름, 클래스 이름의 끝을 표시하며 ':' 다음에 실행 코드를 작성"
      ],
      "metadata": {
        "id": "HE8tcpRECp9W"
      }
    },
    {
      "cell_type": "code",
      "source": [
        "li = ['a', 'b', 'c']\n",
        "if 'a' in li:\n",
        "  print('a가 li에 있습니다.')\n",
        "else:\n",
        "  print('a가 li에 없습니다.')"
      ],
      "metadata": {
        "id": "Zc64FOeg7uF6"
      },
      "execution_count": null,
      "outputs": []
    },
    {
      "cell_type": "markdown",
      "source": [
        "사용자 함수"
      ],
      "metadata": {
        "id": "N58frEQHFOee"
      }
    },
    {
      "cell_type": "code",
      "source": [
        "numbers = [1,2,3]\n",
        "sum(numbers) #파이썬 내장함수"
      ],
      "metadata": {
        "id": "hm6sO5bA7uDg"
      },
      "execution_count": null,
      "outputs": []
    },
    {
      "cell_type": "code",
      "source": [
        "# 사용자 함수\n",
        "def add(a,b,c):\n",
        "  return a + b + c\n",
        "\n",
        "add(1,2,3)"
      ],
      "metadata": {
        "id": "Yh_I9f5eExnO"
      },
      "execution_count": null,
      "outputs": []
    },
    {
      "cell_type": "code",
      "source": [
        "def mul(a,b,c):\n",
        "  return a * b * c\n",
        "\n",
        "mul(1,2,3)"
      ],
      "metadata": {
        "id": "QSyZmctJExlN"
      },
      "execution_count": null,
      "outputs": []
    },
    {
      "cell_type": "markdown",
      "source": [
        "Q. 뺄셈, 나눗셈을 수행하는 사용자 함수를 작성하세요."
      ],
      "metadata": {
        "id": "DwEj3RK2HQzO"
      }
    },
    {
      "cell_type": "code",
      "source": [
        "def subtract(a,b,c):\n",
        "  return a - b - c\n",
        "\n",
        "subtract(1,2,3)"
      ],
      "metadata": {
        "id": "xg6I73hlExjW"
      },
      "execution_count": null,
      "outputs": []
    },
    {
      "cell_type": "code",
      "source": [
        "def divide(a,b,c):\n",
        "  if b == 0 or c == 0:\n",
        "    return \"Error : Division by Zero\"\n",
        "  else:\n",
        "    return a / b / c\n",
        "\n",
        "round(divide(1,2,3),2)"
      ],
      "metadata": {
        "id": "5GlAxRAvExhF"
      },
      "execution_count": null,
      "outputs": []
    },
    {
      "cell_type": "markdown",
      "source": [
        "클래스"
      ],
      "metadata": {
        "id": "2DVylDN1JSoz"
      }
    },
    {
      "cell_type": "code",
      "source": [
        "class AddMul:\n",
        "  def add(self,n1,n2):\n",
        "      return n1 + n2\n",
        "  def mul(self,n1,n2):\n",
        "      return n1*n2\n",
        "\n",
        "obj1 = AddMul() #객체\n",
        "print(obj1.add(1,1))\n",
        "obj2 =AddMul()\n",
        "print(obj2.mul(3,2))"
      ],
      "metadata": {
        "id": "j5NG3TywIijH"
      },
      "execution_count": null,
      "outputs": []
    },
    {
      "cell_type": "markdown",
      "source": [
        "Task6_0426. Calculator 클래스를 작성하고 4칙연산을 수행하는 객체 4개를 작성하여 결과를 출력하세요."
      ],
      "metadata": {
        "id": "OVEqSIUdLYCF"
      }
    },
    {
      "cell_type": "code",
      "source": [
        "class Calculator:\n",
        "  def add(self,n1,n2):\n",
        "    return n1 + n2\n",
        "  def subtract(self,n1,n2):\n",
        "    return n1 - n2\n",
        "  def mul(self,n1,n2):\n",
        "    return n1 * n2\n",
        "  def divmod(self,n1,n2):\n",
        "    if n2 == 0:\n",
        "      return \"Error : Division by zero\"\n",
        "    else:\n",
        "        return n1/n2\n",
        "\n",
        "obj1 = Calculator()\n",
        "print(obj1.add(1,2))\n",
        "obj2 = Calculator()\n",
        "print(obj2.subtract(4,3))\n",
        "obj3 = Calculator()\n",
        "print(obj3.mul(5,6))\n",
        "obj4 = Calculator()\n",
        "print(obj4.divmod(8,2))"
      ],
      "metadata": {
        "id": "zDM6JJ9UIihV"
      },
      "execution_count": null,
      "outputs": []
    },
    {
      "cell_type": "markdown",
      "source": [
        "Task7_0426. 다음 과제를 수행하세요.\n",
        "- 사용자로 부터 텍스트를 입력 받는다. input 함수 사용\n",
        "- 문자을 단어 단위로 분리 : split()\n",
        "- 단어의 빈도수를 저장할 딕셔너리를 생성\n",
        "- 각 단어의 빈도 수를 계산(for 문 / if else문): word = word.lower()\n",
        "- 결과 출력\n",
        "\n",
        "[ 예시 ]\n",
        "\n",
        "문장을 입력하세요: I love apple. I love orange. Apple is tasty\n",
        "\n",
        "{'i': 2, 'love': 2, 'apple.': 1, 'orange.': 1, 'apple': 1, 'is': 1, 'tasty': 1}"
      ],
      "metadata": {
        "id": "JxXljF8TNXmf"
      }
    },
    {
      "cell_type": "code",
      "source": [
        "text = input(\"텍스트를 입력하세요: \")\n",
        "words = text.split()\n",
        "word_freq = {}\n",
        "for word in words:\n",
        "  word = word.lower()\n",
        "  if word in word_freq:\n",
        "        word_freq[word] += 1\n",
        "  else:\n",
        "        word_freq[word] = 1\n",
        "print(\"단어 빈도수:\")\n",
        "for word, freq in word_freq.items():\n",
        "    print(f\"{word}: {freq}번\")"
      ],
      "metadata": {
        "id": "tRWM1HwMIifM"
      },
      "execution_count": null,
      "outputs": []
    },
    {
      "cell_type": "code",
      "source": [
        "# split() 함수\n",
        "text = '나는 오늘 기분이 좋아요'\n",
        "words = text.split()\n",
        "words"
      ],
      "metadata": {
        "id": "55H2Ip0UIidM"
      },
      "execution_count": null,
      "outputs": []
    },
    {
      "cell_type": "code",
      "source": [
        "text = 'apple, banana, orange'\n",
        "words = text.split(',')\n",
        "words"
      ],
      "metadata": {
        "id": "HZJDes6nIibW"
      },
      "execution_count": null,
      "outputs": []
    },
    {
      "cell_type": "code",
      "source": [
        "time_string = '12:20:55'\n",
        "time_list = time_string.split(':')\n",
        "time_list"
      ],
      "metadata": {
        "id": "2OoUIVMEIiZW"
      },
      "execution_count": null,
      "outputs": []
    },
    {
      "cell_type": "code",
      "source": [
        "# Q. 아래 text를 아래 리스트로 분리해 보세요.\n",
        "multi_line_text = 'Hello\\nWorld\\nPython\\nProgramming'\n",
        "# print(multi_line_text)\n",
        "lines = multi_line_text.split('\\n')\n",
        "lines"
      ],
      "metadata": {
        "id": "ABSDcleiIiXd"
      },
      "execution_count": null,
      "outputs": []
    },
    {
      "cell_type": "markdown",
      "source": [
        "Task1_0429.\n",
        "\n",
        "input_str = \"Hello, world! How are you today? I am fine Thank you!\"\n",
        "\n",
        "['Hello', 'world', 'How', 'are', 'you', 'today', 'I', 'am', 'fine', 'Thank', 'you']"
      ],
      "metadata": {
        "id": "bxfVZdTWoVUQ"
      }
    },
    {
      "cell_type": "code",
      "source": [],
      "metadata": {
        "id": "BxQF6wE3bNX9"
      },
      "execution_count": null,
      "outputs": []
    },
    {
      "cell_type": "code",
      "source": [
        "# 복합 대입 연산자\n",
        "num = 10\n",
        "num += 10\n",
        "num"
      ],
      "metadata": {
        "id": "Fi18z5gIIiVd"
      },
      "execution_count": null,
      "outputs": []
    },
    {
      "cell_type": "code",
      "source": [
        "# Q. 복합 대입연산자를 이용해서 4칙연산을 수행하세요.\n",
        "a = 10\n",
        "a += 10\n",
        "print(a)\n",
        "a -= 10\n",
        "print(a)\n",
        "a *= 10\n",
        "print(a)\n",
        "a /= 10\n",
        "print(a)"
      ],
      "metadata": {
        "id": "tWy8tvfbi7hX"
      },
      "execution_count": null,
      "outputs": []
    },
    {
      "cell_type": "code",
      "source": [
        "# 소문자, 대문자 전환\n",
        "word = 'DOG'\n",
        "w1 = word.lower()\n",
        "print(w1)\n",
        "w2 = w1.upper()\n",
        "print(w2)"
      ],
      "metadata": {
        "id": "BoaeKJzXi7dD"
      },
      "execution_count": null,
      "outputs": []
    },
    {
      "cell_type": "markdown",
      "source": [
        "## 이스케이프 문자\n",
        "\n",
        "- 키보드로 입력하기 어려운 기호 등을 나타낸다.\n",
        "- \\n으로 시작, \\n 줄바꾸기, \\t 탭,"
      ],
      "metadata": {
        "id": "r7150BsSn9LR"
      }
    },
    {
      "cell_type": "code",
      "source": [
        "print('나는 파이썬을 사랑합니다.\\n파이썬은 자바보다 쉽습니다.')\n",
        "print('나는 파이썬을 사랑합니다.\\t파이썬은 자바보다 쉽습니다.')"
      ],
      "metadata": {
        "id": "hNl9_qCKi7a4"
      },
      "execution_count": null,
      "outputs": []
    },
    {
      "cell_type": "code",
      "source": [
        "print( \"Hello\\tworld!\")\n",
        "print( \"Hello\\nworld!\")\n",
        "print(\"She said, \\\"Hi\\\"\")\n",
        "print('It\\'s rainging.')"
      ],
      "metadata": {
        "id": "EOl9Jbi4i7XI"
      },
      "execution_count": null,
      "outputs": []
    },
    {
      "cell_type": "markdown",
      "source": [
        "#### 문자열 포멧\n",
        "- % operator 사용 : % 연산자를 사용하려면 %(VAR_NAME)TYPE 형식으로 적어주며 VAR_NAME 은 바인딩할 변수명을 TYPE 은 변수의 유형을 적어준다.\n",
        "- str.format : str.format() 은 파이썬 표현식 값을 바인딩할 부분을 중괄호 {} 로 표시하고 .format() 뒤에 바인딩할 값을 기술해 준다.\n",
        "- f-string : 문자열에 f 나 F 접두사를 붙이고 표현식을 {expr} 형식으로 작성하면 출력 문자열이 파이썬 표현식의 값으로 바뀐다."
      ],
      "metadata": {
        "id": "8adXziAYrAGg"
      }
    },
    {
      "cell_type": "code",
      "source": [
        "txt1 ='자바':txt2 ='파이썬'\n",
        "num1=5 ; num2 = 10\n",
        "print('나는 %s보다 %s에 더 익숙합니다.' %(txt1, txt2))\n",
        "print('%s은 %s보다 %d배 더 쉽습니다.' %(txt2, txt1, num1))\n",
        "print('%d + %d = %d' %(num1, num2, num1 +num2))\n",
        "print('작년 세계 경제 성장률은 전년에 비해 %d%% 포인트 증가했다.' %num1)"
      ],
      "metadata": {
        "id": "gjmdECqpi7U4"
      },
      "execution_count": null,
      "outputs": []
    },
    {
      "cell_type": "code",
      "source": [
        "# str.format\n",
        "print('We are the {} who say \"{}!\"'. format('knights', 'Ni'))"
      ],
      "metadata": {
        "id": "Nlcz5H1Ci7S4"
      },
      "execution_count": null,
      "outputs": []
    },
    {
      "cell_type": "code",
      "source": [
        "# f-string\n",
        "name = '홍길동'\n",
        "age = 30\n",
        "f'나의 이름은 {name}입니다. 나이는 {age}입니다.'"
      ],
      "metadata": {
        "id": "oTpUfDsHi7Qg"
      },
      "execution_count": null,
      "outputs": []
    },
    {
      "cell_type": "code",
      "source": [
        "table = {'Tom': 1234, 'Jack': 4518, 'Eddie': 9638}\n",
        "for name, phone in table. items():\n",
        "  print(f'{name:5} ==> {phone:5d}') # 최소 5개 문자 너비"
      ],
      "metadata": {
        "id": "I7x9IP6Yi7MZ"
      },
      "execution_count": null,
      "outputs": []
    },
    {
      "cell_type": "code",
      "source": [
        "# 소수점 4자리까지만 표현\n",
        "y = 3.42134234\n",
        "f'{y:0.5f}'"
      ],
      "metadata": {
        "id": "Lq3a7Q-JueTY"
      },
      "execution_count": null,
      "outputs": []
    },
    {
      "cell_type": "code",
      "source": [
        "# 소수점 4자리까지 표현하고 총 자리수를 10으로 맞춤\n",
        " y = 3.42134234\n",
        " f'{y:10.4f}'"
      ],
      "metadata": {
        "colab": {
          "base_uri": "https://localhost:8080/",
          "height": 112
        },
        "id": "Rr3_RkXxueRf",
        "outputId": "f52f378d-7bb6-406b-c614-e36d88ab3273"
      },
      "execution_count": null,
      "outputs": [
        {
          "output_type": "error",
          "ename": "IndentationError",
          "evalue": "unexpected indent (<ipython-input-1-f5377a1617b2>, line 2)",
          "traceback": [
            "\u001b[0;36m  File \u001b[0;32m\"<ipython-input-1-f5377a1617b2>\"\u001b[0;36m, line \u001b[0;32m2\u001b[0m\n\u001b[0;31m    y = 3.42134234\u001b[0m\n\u001b[0m    ^\u001b[0m\n\u001b[0;31mIndentationError\u001b[0m\u001b[0;31m:\u001b[0m unexpected indent\n"
          ]
        }
      ]
    },
    {
      "cell_type": "code",
      "source": [
        "# Q. num1=12345, num2 = 12.345679 을 아래와 같이 출력하세요.\n",
        "12345x"
      ],
      "metadata": {
        "id": "5cyIgJGPueNI"
      },
      "execution_count": null,
      "outputs": []
    },
    {
      "cell_type": "markdown",
      "source": [
        "#### 2진수, 8진수, 16진수의 데이터 표현 방법\n",
        "\n",
        "- 우리가 프로그래밍을 하면서 변수에 어떤 값을 저장할 때 10진수는 일상적 표현을 그대로 대입한다.\n",
        "- 예를들어 15를 저장하고 싶다면 int a= 15; 와 같이 15라는 숫자를 그대로 대입하면 된다.\n",
        "- 하지만 2진수, 8진수, 16진수는 표현법이 따로 정해져있다.<br><br>  \n",
        "\n",
        "- 2진수는 대입하고자 하는 값 앞에 0b를 붙인다. (숫자0과 영문자b)\n",
        "- 8진수는 대입하고자 하는 값 앞에 0o 을 붙인다. (숫자0 영문자o)\n",
        "- 16진수는 대입하고자 하는 값 앞에 0x 를 붙인다. (숫자0과 영문자x)\n",
        "\n",
        "아래의 예시를 보자.\n",
        "변수 a,b,c,d 는 모두 10진수 122 이라는 값을 저장하는 코드이다.\n",
        "\n",
        "122는\n",
        "- 2진수로 1111010\n",
        "- 8진수로 172\n",
        "- 16진수로 7A 이다."
      ],
      "metadata": {
        "id": "369AE_gB3dZD"
      }
    },
    {
      "cell_type": "code",
      "source": [
        "e = 0o177 # 8진수 0o로 시작\n",
        "f = 0xABC # 16진수 0x로 시작\n",
        "g = 0b101010 # 2진수 0b로 시작\n",
        "\n",
        "print(e)\n",
        "print(f)\n",
        "print(g)"
      ],
      "metadata": {
        "colab": {
          "base_uri": "https://localhost:8080/"
        },
        "id": "Ls85woSQueLH",
        "outputId": "a917f711-a0b4-4f02-af8b-23515206be4b"
      },
      "execution_count": null,
      "outputs": [
        {
          "output_type": "stream",
          "name": "stdout",
          "text": [
            "127\n",
            "2748\n",
            "42\n"
          ]
        }
      ]
    },
    {
      "cell_type": "code",
      "source": [
        "# 2진수를 10진ㄴ수로 표현\n",
        "g1 = 0b1000\n",
        "g2 = 0b100\n",
        "g3 = 0b10\n",
        "print(g1)\n",
        "print(g2)\n",
        "print(g3)"
      ],
      "metadata": {
        "colab": {
          "base_uri": "https://localhost:8080/"
        },
        "id": "QjHIYlt4ueI2",
        "outputId": "736738ff-09c1-4777-e6a7-ced3ae4fc804"
      },
      "execution_count": null,
      "outputs": [
        {
          "output_type": "stream",
          "name": "stdout",
          "text": [
            "8\n",
            "4\n",
            "2\n"
          ]
        }
      ]
    },
    {
      "cell_type": "code",
      "source": [
        "# 16진수를 10진수로 표현\n",
        "f1 = 0xA\n",
        "f2 = 0xB\n",
        "f3 = 0xAB\n",
        "print(f1)\n",
        "print(f2)\n",
        "print(f3)\n",
        "print(16*10+1*11)"
      ],
      "metadata": {
        "colab": {
          "base_uri": "https://localhost:8080/"
        },
        "id": "lYFc2d6gueGf",
        "outputId": "fa0fe084-ebb7-46bb-d019-fe2902592908"
      },
      "execution_count": null,
      "outputs": [
        {
          "output_type": "stream",
          "name": "stdout",
          "text": [
            "10\n",
            "11\n",
            "171\n",
            "171\n"
          ]
        }
      ]
    },
    {
      "cell_type": "code",
      "source": [
        "# Q. 0xABC를 계산하세요.\n",
        "f5 = 0xABC\n",
        "print(f5)"
      ],
      "metadata": {
        "colab": {
          "base_uri": "https://localhost:8080/"
        },
        "id": "qVgVgUnhueEH",
        "outputId": "d59bd264-685b-4e59-bf6a-314d9a888bfc"
      },
      "execution_count": null,
      "outputs": [
        {
          "output_type": "stream",
          "name": "stdout",
          "text": [
            "2748\n"
          ]
        }
      ]
    },
    {
      "cell_type": "markdown",
      "source": [
        "Task2_0429. 십진수 122를  2진수, 8진수, 16진수로 변경하여 출력하세요."
      ],
      "metadata": {
        "id": "X-7_ED6X6Vux"
      }
    },
    {
      "cell_type": "code",
      "source": [
        "num = 122\n",
        "\n",
        "binary = bin(num)\n",
        "octal = oct(num)\n",
        "hexadecimal = hex(num)\n",
        "\n",
        "print(\"2진수:\", binary)\n",
        "print(\"8진수:\", octal)\n",
        "print(\"16진수:\", hexadecimal)"
      ],
      "metadata": {
        "colab": {
          "base_uri": "https://localhost:8080/"
        },
        "id": "mwV96XSfueB_",
        "outputId": "e55a0901-089c-4a9a-bae4-8e58cd02445d"
      },
      "execution_count": null,
      "outputs": [
        {
          "output_type": "stream",
          "name": "stdout",
          "text": [
            "2진수: 0b1111010\n",
            "8진수: 0o172\n",
            "16진수: 0x7a\n"
          ]
        }
      ]
    },
    {
      "cell_type": "markdown",
      "source": [
        "Task3_0429. 두 수의 곱셈 결과를 계산하고, 그 결과에 10을 더하세요."
      ],
      "metadata": {
        "id": "blvdYl8N7GDv"
      }
    },
    {
      "cell_type": "code",
      "source": [],
      "metadata": {
        "id": "q9T6ZjS_5f3h"
      },
      "execution_count": null,
      "outputs": []
    },
    {
      "cell_type": "markdown",
      "source": [
        "Task4_0429. 주어진 리스트에서 두 번째 요소를 삭제하고, 마지막에 새로운 요소 'Python'을 추가하세요.\n",
        "\n",
        "리스트: ['Java', 'C', 'JavaScript']"
      ],
      "metadata": {
        "id": "JRJnzAyu7IRQ"
      }
    },
    {
      "cell_type": "code",
      "source": [],
      "metadata": {
        "id": "DuijbU4N5f1Y"
      },
      "execution_count": null,
      "outputs": []
    },
    {
      "cell_type": "markdown",
      "source": [
        "Task5_0429. 주어진 문자열에서 처음 세 글자와 마지막 세 글자를 연결하여 새로운 문자열을 만드세요.\n",
        "\n",
        "문자열: 'Incredible'"
      ],
      "metadata": {
        "id": "G0B-D-a-7xg4"
      }
    },
    {
      "cell_type": "code",
      "source": [],
      "metadata": {
        "id": "5g62BEYB5fy5"
      },
      "execution_count": null,
      "outputs": []
    },
    {
      "cell_type": "markdown",
      "source": [
        "Task6_0429. 사용자의 이름과 이메일을 딕셔너리로 저장하고, 이름을 입력받아 해당하는 이메일을 출력하세요.\n",
        "\n",
        "사용자 정보: 이름 - 'Alice', 이메일 - 'alice@example.com'"
      ],
      "metadata": {
        "id": "u5nikNJS72d7"
      }
    },
    {
      "cell_type": "code",
      "source": [],
      "metadata": {
        "id": "niMH3dra5fwi"
      },
      "execution_count": null,
      "outputs": []
    },
    {
      "cell_type": "markdown",
      "source": [
        "Task7_0429. 주어진 두 튜플에서 공통 요소만을 찾아 집합으로 만드세요.\n",
        "\n",
        "튜플: (1, 2, 3, 4, 5)와 (4, 5, 6, 7, 8)"
      ],
      "metadata": {
        "id": "69reEr2z77AT"
      }
    },
    {
      "cell_type": "markdown",
      "source": [
        "Task8_Challenge_0429. 다음 요구 사항을 충족하는 프로그램을 작성하세요:\n",
        "\n",
        "- 사용자로부터 이름, 나이, 좋아하는 색상을 입력받습니다.\n",
        "- 입력받은 정보를 딕셔너리로 저장하고, 모든 사용자 정보를 리스트에 저장합니다.\n",
        "- 이름이 'John'인 사용자의 정보만 출력하세요.\n",
        "- 전체 사용자의 평균 나이를 계산하고 출력하세요.\n",
        "\n",
        "1. 사용자 데이터:\n",
        "- 이름: John\n",
        "- 나이: 28\n",
        "- 좋아하는 색상: Blue\n",
        "2. 사용자 데이터:\n",
        "- 이름: Alice\n",
        "- 나이: 24\n",
        "- 좋아하는 색상: Red\n",
        "3. 사용자 데이터:\n",
        "- 이름: Maria\n",
        "- 나이: 32\n",
        "- 좋아하는 색상: Green"
      ],
      "metadata": {
        "id": "RBhdnKQB77xT"
      }
    },
    {
      "cell_type": "code",
      "source": [],
      "metadata": {
        "id": "wPCr25LLbK6d"
      },
      "execution_count": null,
      "outputs": []
    }
  ]
}