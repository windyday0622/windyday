{
  "nbformat": 4,
  "nbformat_minor": 0,
  "metadata": {
    "colab": {
      "provenance": [],
      "authorship_tag": "ABX9TyMcCcE/kYZHYbLDugKLbEj0",
      "include_colab_link": true
    },
    "kernelspec": {
      "name": "python3",
      "display_name": "Python 3"
    },
    "language_info": {
      "name": "python"
    }
  },
  "cells": [
    {
      "cell_type": "markdown",
      "metadata": {
        "id": "view-in-github",
        "colab_type": "text"
      },
      "source": [
        "<a href=\"https://colab.research.google.com/github/windyday0622/windyday/blob/main/m2_%ED%8C%8C%EC%9D%B4%EC%8D%AC%20%ED%94%84%EB%A1%9C%EA%B7%B8%EB%9E%98%EB%B0%8D/2_%EC%A0%9C%EC%96%B4%EB%AC%B8.ipynb\" target=\"_parent\"><img src=\"https://colab.research.google.com/assets/colab-badge.svg\" alt=\"Open In Colab\"/></a>"
      ]
    },
    {
      "cell_type": "markdown",
      "source": [
        "#### 제어문(control statement)은 프로그램의 흐름을 제어하는데 사용\n",
        "\n",
        "#### 조건문 (Conditional Statements):\n",
        "- if: 특정 조건이 참(True)일 때 코드 블록을 실행\n",
        "    - 조건은 비교 연산자(==, !=, <, >, <=, >=)와 논리 연산자(and, or, not)를 사용하여 표현할 수 있다\n",
        "- elif: 이전의 if 또는 elif 조건이 거짓(False)일 때 다른 조건을 검사\n",
        "    - elif는 'else if'의 축약형으로, 이전 if 또는 elif 문의 조건이 거짓(False)일 때 다른 조건을 검사\n",
        "    - 여러 elif 문을 사용하여 다양한 조건을 검사할 수 있다\n",
        "- else:\n",
        "#    - 이전의 if 또는 elif 문의 조건이 모두 거짓일 때 실행할 코드 블록을 지정"
      ],
      "metadata": {
        "id": "Oxrmq2jD8JIA"
      }
    },
    {
      "cell_type": "code",
      "execution_count": null,
      "metadata": {
        "colab": {
          "base_uri": "https://localhost:8080/"
        },
        "id": "u5K3l62n8Faf",
        "outputId": "d379dbcf-2bbc-43a8-8011-3194c9b7b946"
      },
      "outputs": [
        {
          "output_type": "stream",
          "name": "stdout",
          "text": [
            "x는 5보다 큽니다.\n"
          ]
        }
      ],
      "source": [
        "x = 10\n",
        "if x > 5:\n",
        "  print(\"x는 5보다 큽니다.\")\n",
        "elif x == 5:\n",
        "\n",
        "  print(\"x는 5입니다.\")\n",
        "else:\n",
        "  print(\"x는 5보다 작습니다.\")\n"
      ]
    },
    {
      "cell_type": "code",
      "source": [
        "x = 10\n",
        "if x >= 5:\n",
        "  print(\"x는 5보다 크거나 같습니다.\")\n",
        "else:\n",
        "  print(\"x는 5보다 작습니다.\")"
      ],
      "metadata": {
        "colab": {
          "base_uri": "https://localhost:8080/"
        },
        "id": "1rXTCyN9O8hA",
        "outputId": "aef942cf-7fa1-4de7-8cb3-a87f50f6f0c8"
      },
      "execution_count": null,
      "outputs": [
        {
          "output_type": "stream",
          "name": "stdout",
          "text": [
            "x는 5보다 크거나 같습니다.\n"
          ]
        }
      ]
    },
    {
      "cell_type": "code",
      "source": [
        "# 각 조건이 서로 독립적일때, if문을 연속해서 사용\n",
        "x = 10\n",
        "y = 5\n",
        "\n",
        "if x > 5:\n",
        "  print(\"x는 5보다 큽니다.\")\n",
        "\n",
        "if y < 10:\n",
        "  print(\"y는 10보다 작습니다.\")\n",
        "\n",
        "if x > y:\n",
        "  print(\"x는 y보다 큽니다.\")"
      ],
      "metadata": {
        "colab": {
          "base_uri": "https://localhost:8080/"
        },
        "id": "2W_4_rNwO8ew",
        "outputId": "63748774-8d27-451a-ff99-daed71575c1e"
      },
      "execution_count": null,
      "outputs": [
        {
          "output_type": "stream",
          "name": "stdout",
          "text": [
            "x는 5보다 큽니다.\n",
            "y는 10보다 작습니다.\n",
            "x는 y보다 큽니다.\n"
          ]
        }
      ]
    },
    {
      "cell_type": "code",
      "source": [
        "x = 10\n",
        "y = 5\n",
        "if x > 5:\n",
        "  if y >= 3:\n",
        "    print('x는 5보다 크고 y는 3보다 크거나 같습니다.')\n",
        "  else:\n",
        "    print('x는 5보다 크고 y는 3보다 작습니다.')\n",
        "else:\n",
        "  print('x는 5보다 작거나 같습니다.')"
      ],
      "metadata": {
        "colab": {
          "base_uri": "https://localhost:8080/"
        },
        "id": "WVjQpER4O8cP",
        "outputId": "80afb6d7-847d-48df-c2c3-252c8a650eaa"
      },
      "execution_count": null,
      "outputs": [
        {
          "output_type": "stream",
          "name": "stdout",
          "text": [
            "x는 5보다 크고 y는 3보다 크거나 같습니다.\n"
          ]
        }
      ]
    },
    {
      "cell_type": "code",
      "source": [
        "# Q. 이중 조건문을 사용하여 코드를 작성하세요. (조건 내용은 자유, 단, if문, if ~elif else 중첩하여 사용)\n",
        "x = 10\n",
        "y = 100\n",
        "if x > 100:\n",
        "  if y < 99:\n",
        "    print('x는 100보다 크고 y는 99보다 작습니다.')\n",
        "  else:\n",
        "    print('x는 100보다 크고 y는 99보다 큽니다.')\n",
        "else:\n",
        "    print('x는 100보다 작고 y는 99보다 크거나 같습니다.')"
      ],
      "metadata": {
        "colab": {
          "base_uri": "https://localhost:8080/"
        },
        "id": "LtGIVsTZO8NA",
        "outputId": "36ad42b9-1dad-4ece-e819-25df93600120"
      },
      "execution_count": null,
      "outputs": [
        {
          "output_type": "stream",
          "name": "stdout",
          "text": [
            "x는 100보다 작고 y는 99보다 크거나 같습니다.\n"
          ]
        }
      ]
    },
    {
      "cell_type": "code",
      "source": [
        "score = int(input(\"점수를 입력하세요 : \"))\n",
        "\n",
        "if score < 70:\n",
        "  print(\"점수가 70점 미만입니다. 체점을 진행하지 않습니다.\")\n",
        "else:\n",
        "  if score >= 90:\n",
        "    print(\"A\")\n",
        "  elif score >= 80:\n",
        "    print(\"B\")\n",
        "  else:\n",
        "    print(\"C\")"
      ],
      "metadata": {
        "colab": {
          "base_uri": "https://localhost:8080/"
        },
        "id": "fF-vJJAMO8Ko",
        "outputId": "ce205829-bfa5-4361-d09a-d2b4e78e0487"
      },
      "execution_count": null,
      "outputs": [
        {
          "output_type": "stream",
          "name": "stdout",
          "text": [
            "점수를 입력하세요 : 75\n",
            "C\n"
          ]
        }
      ]
    },
    {
      "cell_type": "code",
      "source": [
        "# Q. listdata = [a, b ,c]에서 조건문을 이용해서 아래와 같이 출력하세요.\n",
        "\n",
        "a가 listdata에 있습니다.\n",
        "b가 listdata에 있습니다.\n",
        "c가 listdata에 있습니다."
      ],
      "metadata": {
        "colab": {
          "base_uri": "https://localhost:8080/",
          "height": 112
        },
        "id": "G1pbxmbPO8I4",
        "outputId": "782696d9-5695-4a75-8dc5-4f19d589d171"
      },
      "execution_count": null,
      "outputs": [
        {
          "output_type": "error",
          "ename": "SyntaxError",
          "evalue": "invalid syntax (<ipython-input-5-c3c4b0412dfe>, line 3)",
          "traceback": [
            "\u001b[0;36m  File \u001b[0;32m\"<ipython-input-5-c3c4b0412dfe>\"\u001b[0;36m, line \u001b[0;32m3\u001b[0m\n\u001b[0;31m    a가 listdata에 있습니다.\u001b[0m\n\u001b[0m       ^\u001b[0m\n\u001b[0;31mSyntaxError\u001b[0m\u001b[0;31m:\u001b[0m invalid syntax\n"
          ]
        }
      ]
    },
    {
      "cell_type": "code",
      "source": [
        "listdata = ['a', 'b', 'c']\n",
        "if 'a' in listdata:\n",
        "  print('a가 listdata에 있습니다.')\n",
        "if 'b' in listdata:\n",
        "  print('b가 listdata에 있습니다.')\n",
        "if 'c' in listdata:\n",
        "  print('c가 listdata에 있습니다.')"
      ],
      "metadata": {
        "colab": {
          "base_uri": "https://localhost:8080/"
        },
        "id": "7JCWQgmqO8Gg",
        "outputId": "ca3e4757-dfb5-4272-e211-a406d01f4348"
      },
      "execution_count": null,
      "outputs": [
        {
          "output_type": "stream",
          "name": "stdout",
          "text": [
            "a가 listdata에 있습니다.\n",
            "b가 listdata에 있습니다.\n",
            "c가 listdata에 있습니다.\n"
          ]
        }
      ]
    },
    {
      "cell_type": "code",
      "source": [
        "listdata = ['a', 'b', 'c']\n",
        "\n",
        "for i in listdata:\n",
        "  if i in listdata:\n",
        "    print(f'{i}가 listdata에 있습니다.')"
      ],
      "metadata": {
        "colab": {
          "base_uri": "https://localhost:8080/"
        },
        "id": "2g2DLoPaO8EA",
        "outputId": "e9f14114-0686-44a2-9509-fb8822c3d0cc"
      },
      "execution_count": null,
      "outputs": [
        {
          "output_type": "stream",
          "name": "stdout",
          "text": [
            "a가 listdata에 있습니다.\n",
            "b가 listdata에 있습니다.\n",
            "c가 listdata에 있습니다.\n"
          ]
        }
      ]
    },
    {
      "cell_type": "code",
      "source": [
        "# Q. \"주머니에 돈이 만원 있으면 택시를 타고, 없으면 걸어간다\"를 만족하는 조건문을 작성하세요.\n",
        "money = int(input(\"금액을 입력하세요 : \"))\n",
        "\n",
        "if money >= 10000:\n",
        "   print(\"택시를 탄다.\")\n",
        "else:\n",
        "    print(\"걸어간다.\")"
      ],
      "metadata": {
        "colab": {
          "base_uri": "https://localhost:8080/"
        },
        "id": "RHM1zx11O7jo",
        "outputId": "6654d60f-d11a-42ce-e549-7ac472573a48"
      },
      "execution_count": null,
      "outputs": [
        {
          "output_type": "stream",
          "name": "stdout",
          "text": [
            "금액을 입력하세요 : 9999\n",
            "걸어간다.\n"
          ]
        }
      ]
    },
    {
      "cell_type": "markdown",
      "source": [
        "# Q. 조건부 표현식을 한줄의 조건문으로 작성하세요."
      ],
      "metadata": {
        "id": "Bud0es5ceufd"
      }
    },
    {
      "cell_type": "code",
      "source": [
        "score = 70\n",
        "if score >= 60:\n",
        "  message = \"success\"\n",
        "else:\n",
        "  message = \"failure\"\n",
        "\n",
        "print(message)"
      ],
      "metadata": {
        "colab": {
          "base_uri": "https://localhost:8080/"
        },
        "id": "8EaPPH1jZxY9",
        "outputId": "d58267fe-f8d8-4397-f620-141c43a56393"
      },
      "execution_count": null,
      "outputs": [
        {
          "output_type": "stream",
          "name": "stdout",
          "text": [
            "success\n"
          ]
        }
      ]
    },
    {
      "cell_type": "code",
      "source": [
        "score = 70\n",
        "[\"sucess\" if score >= 60 else \"failure\"]"
      ],
      "metadata": {
        "colab": {
          "base_uri": "https://localhost:8080/"
        },
        "id": "l5bttU6wZxXP",
        "outputId": "08876a1e-4bb4-4085-9004-da77563ad7e4"
      },
      "execution_count": null,
      "outputs": [
        {
          "output_type": "execute_result",
          "data": {
            "text/plain": [
              "['sucess']"
            ]
          },
          "metadata": {},
          "execution_count": 13
        }
      ]
    },
    {
      "cell_type": "markdown",
      "source": [
        "Q. \"수입(income)과 지출금액(spend)을 비교해서 수입이 많으면 저축 증가, 반대이면 빚이 증가\" 프로그램 작성하세요\n"
      ],
      "metadata": {
        "id": "JyCPBP7SgXnT"
      }
    },
    {
      "cell_type": "code",
      "source": [
        "income = int(input(\"수입을 작성하세요\"))\n",
        "spend = int(input(\"지출금액을 작성하세요\"))\n",
        "\n",
        "if income > spend:\n",
        "  print(\"저축 증가\")\n",
        "elif income < spend:\n",
        "  print(\"채무 증가\")\n",
        "else:\n",
        "  print(\"현상 유지\")"
      ],
      "metadata": {
        "colab": {
          "base_uri": "https://localhost:8080/"
        },
        "id": "VFbazJY3ZxVF",
        "outputId": "8647a63e-0010-480d-c65e-fb5dbf9b99e6"
      },
      "execution_count": null,
      "outputs": [
        {
          "output_type": "stream",
          "name": "stdout",
          "text": [
            "수입을 작성하세요30\n",
            "지출금액을 작성하세요50\n",
            "채무 증가\n"
          ]
        }
      ]
    },
    {
      "cell_type": "markdown",
      "source": [
        "#### 반복문 (Loop Statements):\n",
        "- for: 시퀀스(리스트, 튜플, 문자열 등)의 아이템을 순회하면서 코드 블록을 실행\n",
        "- while: 특정 조건이 참인 동안 코드 블록을 반복하여 실행"
      ],
      "metadata": {
        "id": "LOZJW3IIhSw1"
      }
    },
    {
      "cell_type": "code",
      "source": [
        "# for 루프는 시퀀스(리스트, 튜플, 문자열 등)나 반복 가능한 객체의 요소를 순화\n",
        "\n",
        "for i in range(5):\n",
        "  #print(i)\n",
        "    print(i, end=' ')\n",
        "print('\\n')\n",
        "count = 0\n",
        "while count < 5:\n",
        "    print(count, end=' ')\n",
        "    count += 1"
      ],
      "metadata": {
        "colab": {
          "base_uri": "https://localhost:8080/"
        },
        "id": "E7d7vSdCZxS-",
        "outputId": "230b8029-d598-47a4-d3f6-1db7b3440dfa"
      },
      "execution_count": null,
      "outputs": [
        {
          "output_type": "stream",
          "name": "stdout",
          "text": [
            "0 1 2 3 4 \n",
            "\n",
            "0 1 2 3 4 "
          ]
        }
      ]
    },
    {
      "cell_type": "code",
      "source": [
        "# 리스트를 순회하는 예\n",
        "for i in [1, 2, 3, 4, 5]:\n",
        "    print(i,end=' ')\n",
        "print('\\n')\n",
        "# 문자열을 순회하는 예\n",
        "for char in \"hello\":\n",
        "    print(char,end=' ')"
      ],
      "metadata": {
        "colab": {
          "base_uri": "https://localhost:8080/"
        },
        "id": "nNuKm9UsZxRF",
        "outputId": "93cc388e-db9f-44e7-9f81-855956a513e0"
      },
      "execution_count": null,
      "outputs": [
        {
          "output_type": "stream",
          "name": "stdout",
          "text": [
            "1 2 3 4 5 \n",
            "\n",
            "h e l l o "
          ]
        }
      ]
    },
    {
      "cell_type": "code",
      "source": [
        "# while 루프는 주어진 조건이 참인 동안 코드 블록을 반복\n",
        "# 조건이 거짓이 되면 루프가 종료\n",
        "count = 0\n",
        "sum = 0\n",
        "while count < 5:\n",
        "    sum += count\n",
        "    print(sum,end=' ')\n",
        "    count += 1"
      ],
      "metadata": {
        "colab": {
          "base_uri": "https://localhost:8080/"
        },
        "id": "LxvcQ3l0ZxPF",
        "outputId": "069cf9cb-eaf5-4d05-9b2a-2243d6ec6f98"
      },
      "execution_count": null,
      "outputs": [
        {
          "output_type": "stream",
          "name": "stdout",
          "text": [
            "0 1 3 6 10 "
          ]
        }
      ]
    },
    {
      "cell_type": "code",
      "source": [
        "# Q. d에서 반복문을 사용하여 97 98 99을 출력하세요.\n",
        "d = {'a':97, 'b':98, 'c':99}"
      ],
      "metadata": {
        "id": "oX8b2P_3f48U"
      },
      "execution_count": null,
      "outputs": []
    },
    {
      "cell_type": "code",
      "source": [
        "d = {'a':97, 'b':98, 'c':99}\n",
        "for key in d:\n",
        "    print(d[key], end=' ')"
      ],
      "metadata": {
        "colab": {
          "base_uri": "https://localhost:8080/"
        },
        "id": "c6ASCj1tf46M",
        "outputId": "7db71d54-26ac-4769-d1ec-371e6815ad86"
      },
      "execution_count": null,
      "outputs": [
        {
          "output_type": "stream",
          "name": "stdout",
          "text": [
            "97 98 99 "
          ]
        }
      ]
    },
    {
      "cell_type": "markdown",
      "source": [
        "파이썬에서 \"모든 것이 객체\"\n",
        "\n",
        "파이썬 내에서 데이터와 함수, 모듈, 클래스 등 모든 것이 객체로 취급된다는 것을 의미\n",
        "- 기본 데이터 타입(예: 정수, 실수, 문자열 등)을 포함하여 모든 데이터가 객체. 각 데이터 타입은 특정 클래스의 인스턴스로, 해당 데이터 타입의 메소드와 속성을 가진다. 예를 들어, 정수는 int 클래스의 인스턴스로, 여러 가지 메소드(예: bit_length(), __add__() 등)를 사용할 수 있습니다."
      ],
      "metadata": {
        "id": "Dk7COnhikW_-"
      }
    },
    {
      "cell_type": "markdown",
      "source": [
        "- 파이썬에서 함수도 객체로 취급. 이는 함수를 변수에 할당하거나, 다른 함수의 인자로 전달하거나, 리스트나 딕셔너리 같은 데이터 구조에 저장할 수 있음을 의미"
      ],
      "metadata": {
        "id": "OBgaGScRoXaH"
      }
    },
    {
      "cell_type": "code",
      "source": [
        "def greet():\n",
        "    print(\"Hello, world!\")\n",
        "\n",
        "print(greet.__name__) # 함수 이름 출력"
      ],
      "metadata": {
        "id": "U8uFaqlMf44E",
        "colab": {
          "base_uri": "https://localhost:8080/"
        },
        "outputId": "16dac24e-420e-43b3-e2b3-d399551249e9"
      },
      "execution_count": 1,
      "outputs": [
        {
          "output_type": "stream",
          "name": "stdout",
          "text": [
            "greet\n"
          ]
        }
      ]
    },
    {
      "cell_type": "markdown",
      "source": [
        "- 파이썬에서 클래스와 모듈 또한 객체. 클래스는 type의 인스턴스로, 메소드와 속성을 포함할 수 있다. 모듈도 객체로 취급되어, 모듈 내의 함수나 변수 등을 속성으로 가질 수 있다."
      ],
      "metadata": {
        "id": "9fmQinOAogCe"
      }
    },
    {
      "cell_type": "code",
      "source": [
        "improt math\n",
        "\n",
        "print(type(math)) #<class 'module'>\n"
      ],
      "metadata": {
        "id": "hh_RPW-_f41s"
      },
      "execution_count": null,
      "outputs": []
    },
    {
      "cell_type": "markdown",
      "source": [
        "type 함수가 반환하는 결과가 클래스 이름(예: <class 'list'>)으로 나오는 것은, 해당 객체가 해당 클래스의 인스턴스라는 것을 의미"
      ],
      "metadata": {
        "id": "bCnopwPYoi5-"
      }
    },
    {
      "cell_type": "code",
      "source": [
        "x =1\n",
        "print(type(x)) #<class 'int'>\n",
        "\n",
        "y =  \"Hello\"\n",
        "print(type(y)) #<class 'str'>\n",
        "\n",
        "def func():\n",
        "    pass\n",
        "\n",
        "print(type(func)) #<class 'function'>\n"
      ],
      "metadata": {
        "id": "bQ7SDuYgf4xk",
        "colab": {
          "base_uri": "https://localhost:8080/"
        },
        "outputId": "c5c82b7c-d331-4955-eed5-cb1209f260ca"
      },
      "execution_count": 2,
      "outputs": [
        {
          "output_type": "stream",
          "name": "stdout",
          "text": [
            "<class 'int'>\n",
            "<class 'str'>\n",
            "<class 'function'>\n"
          ]
        }
      ]
    },
    {
      "cell_type": "code",
      "source": [
        "list_example = [1, 2, 3]\n",
        "print(type(list_example)) # <class 'list'>\n",
        "\n",
        "tuple_example = (1, 2, 3)\n",
        "print(type(tuple_example)) # <class 'tuple'>\n",
        "\n",
        "dict_example = {'key': 'value'}\n",
        "print(type(dict_example)) # <class 'dict'>\n"
      ],
      "metadata": {
        "colab": {
          "base_uri": "https://localhost:8080/"
        },
        "id": "8DlO6nNErFi-",
        "outputId": "3fee5cd5-b431-48f5-c440-91a8451870e2"
      },
      "execution_count": 3,
      "outputs": [
        {
          "output_type": "stream",
          "name": "stdout",
          "text": [
            "<class 'list'>\n",
            "<class 'tuple'>\n",
            "<class 'dict'>\n"
          ]
        }
      ]
    },
    {
      "cell_type": "code",
      "source": [
        "# 사용자가 직접 작성한 클래스에서 객체를 만들 경우\n",
        "# __main__은 현재 스크립트가 메인 프로그램으로 실행되고 있으며, Car 클래스가 이 메인 스크립트 안에 정의됨을 의미\n",
        "class Car:\n",
        "    def __init__(self, model):\n",
        "        self.model = model\n",
        "\n",
        "my_car = Car(\"Toyota\")\n",
        "print(type(my_car)) # <class '__main__.Car'>"
      ],
      "metadata": {
        "colab": {
          "base_uri": "https://localhost:8080/"
        },
        "id": "qRoi3K0crsBV",
        "outputId": "ad8903d7-0855-4456-d732-ccdf26e3d857"
      },
      "execution_count": 5,
      "outputs": [
        {
          "output_type": "stream",
          "name": "stdout",
          "text": [
            "<class '__main__.Car'>\n"
          ]
        }
      ]
    },
    {
      "cell_type": "code",
      "source": [
        "print(dir(int))"
      ],
      "metadata": {
        "colab": {
          "base_uri": "https://localhost:8080/"
        },
        "id": "SYCR5rkOrr_N",
        "outputId": "01388950-5061-46f9-f38c-0c30ff6e4951"
      },
      "execution_count": 6,
      "outputs": [
        {
          "output_type": "stream",
          "name": "stdout",
          "text": [
            "['__abs__', '__add__', '__and__', '__bool__', '__ceil__', '__class__', '__delattr__', '__dir__', '__divmod__', '__doc__', '__eq__', '__float__', '__floor__', '__floordiv__', '__format__', '__ge__', '__getattribute__', '__getnewargs__', '__gt__', '__hash__', '__index__', '__init__', '__init_subclass__', '__int__', '__invert__', '__le__', '__lshift__', '__lt__', '__mod__', '__mul__', '__ne__', '__neg__', '__new__', '__or__', '__pos__', '__pow__', '__radd__', '__rand__', '__rdivmod__', '__reduce__', '__reduce_ex__', '__repr__', '__rfloordiv__', '__rlshift__', '__rmod__', '__rmul__', '__ror__', '__round__', '__rpow__', '__rrshift__', '__rshift__', '__rsub__', '__rtruediv__', '__rxor__', '__setattr__', '__sizeof__', '__str__', '__sub__', '__subclasshook__', '__truediv__', '__trunc__', '__xor__', 'as_integer_ratio', 'bit_count', 'bit_length', 'conjugate', 'denominator', 'from_bytes', 'imag', 'numerator', 'real', 'to_bytes']\n"
          ]
        }
      ]
    },
    {
      "cell_type": "code",
      "source": [
        "print(dir(list))"
      ],
      "metadata": {
        "colab": {
          "base_uri": "https://localhost:8080/"
        },
        "id": "hnrlxCMlrr9m",
        "outputId": "722bf9fc-1e3d-4c9c-92c7-e0948d83c846"
      },
      "execution_count": 7,
      "outputs": [
        {
          "output_type": "stream",
          "name": "stdout",
          "text": [
            "['__add__', '__class__', '__class_getitem__', '__contains__', '__delattr__', '__delitem__', '__dir__', '__doc__', '__eq__', '__format__', '__ge__', '__getattribute__', '__getitem__', '__gt__', '__hash__', '__iadd__', '__imul__', '__init__', '__init_subclass__', '__iter__', '__le__', '__len__', '__lt__', '__mul__', '__ne__', '__new__', '__reduce__', '__reduce_ex__', '__repr__', '__reversed__', '__rmul__', '__setattr__', '__setitem__', '__sizeof__', '__str__', '__subclasshook__', 'append', 'clear', 'copy', 'count', 'extend', 'index', 'insert', 'pop', 'remove', 'reverse', 'sort']\n"
          ]
        }
      ]
    }
  ]
}