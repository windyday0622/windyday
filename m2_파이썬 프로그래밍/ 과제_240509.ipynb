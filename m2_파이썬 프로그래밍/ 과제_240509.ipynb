{
  "nbformat": 4,
  "nbformat_minor": 0,
  "metadata": {
    "colab": {
      "provenance": [],
      "authorship_tag": "ABX9TyPMjIV8GZodds6fwePAEeLW",
      "include_colab_link": true
    },
    "kernelspec": {
      "name": "python3",
      "display_name": "Python 3"
    },
    "language_info": {
      "name": "python"
    }
  },
  "cells": [
    {
      "cell_type": "markdown",
      "metadata": {
        "id": "view-in-github",
        "colab_type": "text"
      },
      "source": [
        "<a href=\"https://colab.research.google.com/github/windyday0622/windyday/blob/main/m2_%ED%8C%8C%EC%9D%B4%EC%8D%AC%20%ED%94%84%EB%A1%9C%EA%B7%B8%EB%9E%98%EB%B0%8D/%20%EA%B3%BC%EC%A0%9C_240509.ipynb\" target=\"_parent\"><img src=\"https://colab.research.google.com/assets/colab-badge.svg\" alt=\"Open In Colab\"/></a>"
      ]
    },
    {
      "cell_type": "markdown",
      "source": [
        "Task1_0509. 주어진 텍스트에서 문자 빈도를 아래와 같이 출력하세요.(사용자 함수 사용)\n",
        "\n",
        "가장 많이 나온 문자 5개를 뽑아 봤습니다.\\\n",
        "[e] -> [97]회 나타남\\\n",
        "[t] -> [85]회 나타남\\\n",
        "[a] -> [78]회 나타남\\\n",
        "[o] -> [73]회 나타남\\\n",
        "[s] -> [60]회 나타남"
      ],
      "metadata": {
        "id": "8hoUwkST1Bu3"
      }
    },
    {
      "cell_type": "code",
      "execution_count": null,
      "metadata": {
        "id": "DrDXAdb61AY0"
      },
      "outputs": [],
      "source": [
        "with open('mydata.txt','w') as f:\n",
        "    f.write(\n",
        "'''\n",
        "a lot of things occur each day\n",
        "we've got to live with on our way\n",
        "there's so much misery on the screen\n",
        "with commercials in between\n",
        "\n",
        "and the russians won't be so late\n",
        "uncle sam don't want to wait\n",
        "no matter if you're black or white\n",
        "you never ever had a right\n",
        "\n",
        "and look up to the eternal skies\n",
        "see warfare even there\n",
        "what once has been a paradise\n",
        "now destruction and despair\n",
        "\n",
        "in other worlds the children die\n",
        "lacking food ill from a fly\n",
        "oppressed by troops to tame their land\n",
        "it's all the same again\n",
        "\n",
        "\n",
        "if any man is free on earth\n",
        "then tormentors steal his birth\n",
        "they slam gun butts in his face\n",
        "and leave his woman choked in mace\n",
        "\n",
        "so stand up for our human rights\n",
        "push back this pest of hate\n",
        "raise you voice pass on the light\n",
        "unite! it's not too late\n",
        "\n",
        "how many tears flow away\n",
        "to become a sea of fears\n",
        "how many hearts are torn apart\n",
        "till another torment starts\n",
        "\n",
        "but before the world\n",
        "turns into a sun\n",
        "all cruelty and violence\n",
        "on earth will be dead and gone\n",
        "\n",
        "so stand up for our human rights\n",
        "push back this pest of hate\n",
        "raise you voice pass on the light\n",
        "unite! it's not too late\n",
        "''')\n",
        "with open('mydata.txt', 'r') as f:\n",
        "    data = f.read()\n",
        "    print(data)"
      ]
    },
    {
      "cell_type": "code",
      "source": [
        "def 문자_빈도_출력(텍스트):\n",
        "    문자_빈도 = {}\n",
        "    for 문자 in 텍스트:\n",
        "        if 문자 in 문자_빈도:\n",
        "            문자_빈도[문자] += 1\n",
        "        else:\n",
        "            문자_빈도[문자] = 1\n",
        "\n",
        "    정렬된_빈도 = sorted(문자_빈도.items(), key=lambda x: x[1], reverse=True)\n",
        "\n",
        "    for i in range(5):\n",
        "        print(f\"[{정렬된_빈도[i][0]}] -> [{정렬된_빈도[i][1]}]회 나타남\")"
      ],
      "metadata": {
        "id": "VEldamX-2gEQ"
      },
      "execution_count": null,
      "outputs": []
    },
    {
      "cell_type": "markdown",
      "source": [
        "Task2_0509.  람다함수와 적합한 내장함수를 사용하여 아래와 같이 출력하세요.\n",
        "\n",
        "[1,2,3,4,5] -> [1,4,9,16,25]\\\n",
        "[1,2,3,4,5] -> [1,2]"
      ],
      "metadata": {
        "id": "SfXGKGLR1POw"
      }
    },
    {
      "cell_type": "code",
      "source": [
        "# 첫 번째 리스트: 제곱 값 리스트 생성\n",
        "list1 = [1, 2, 3, 4, 5]\n",
        "squared_list = list(map(lambda x: x ** 2, list1))\n",
        "print(squared_list)\n",
        "\n",
        "# 두 번째 리스트: 짝수만 필터링\n",
        "even_list = list(filter(lambda x: x % 2 == 0, list1))\n",
        "print(even_list)"
      ],
      "metadata": {
        "id": "vGcj4XUB1PcH"
      },
      "execution_count": null,
      "outputs": []
    },
    {
      "cell_type": "markdown",
      "source": [
        "Task3_0509. [1,-3,2,0,-5,6] 에서 양수만 필터링해서 출력하세요(내장함수, 사용자함수 각각 이용)"
      ],
      "metadata": {
        "id": "cQJ0WqKm1Rvi"
      }
    },
    {
      "cell_type": "code",
      "source": [
        "numbers = [1, -3, 2, 0, -5, 6]\n",
        "positive_numbers = list(filter(lambda x: x > 0, numbers))\n",
        "print(positive_numbers)"
      ],
      "metadata": {
        "id": "onm0KAjI1R3G"
      },
      "execution_count": null,
      "outputs": []
    },
    {
      "cell_type": "code",
      "source": [
        "def filter_positive(numbers):\n",
        "    result = []\n",
        "    for num in numbers:\n",
        "        if num > 0:\n",
        "            result.append(num)\n",
        "    return result\n",
        "\n",
        "numbers = [1, -3, 2, 0, -5, 6]\n",
        "positive_numbers = filter_positive(numbers)\n",
        "print(positive_numbers)"
      ],
      "metadata": {
        "id": "FzBv0I4W3GII"
      },
      "execution_count": null,
      "outputs": []
    },
    {
      "cell_type": "markdown",
      "source": [
        "Task4_0509. **args를 이용하여 아래와 같이 출력할 수 있는 사용자 함수 func2를 작성하세요.\n",
        "\n",
        "Width: 100\\\n",
        "Height: 200\\\n",
        "Other arguments: {'color': 'red', 'thickness': 5}\n",
        "\n",
        "Width: 100\\\n",
        "Height: 200\\\n",
        "Other arguments: {'color': 'red', 'thickness': 5, 'type': 'large'}"
      ],
      "metadata": {
        "id": "4pZ35oZD1R_E"
      }
    },
    {
      "cell_type": "code",
      "source": [
        "def func2(width, height, **kwargs):\n",
        "    print(\"Width:\", width)\n",
        "    print(\"Height:\", height)\n",
        "    print(\"Other arguments:\", kwargs)\n",
        "    print()\n",
        "\n",
        "# 첫 번째 출력\n",
        "func2(100, 200, color='red', thickness=5)\n",
        "\n",
        "# 두 번째 출력\n",
        "func2(100, 200, color='red', thickness=5, type='large')"
      ],
      "metadata": {
        "id": "ikfFwz7g1SFC"
      },
      "execution_count": null,
      "outputs": []
    },
    {
      "cell_type": "markdown",
      "source": [
        "Task5_0509. 아래와 같은 결과를 얻을 수 있도록 사용자 함수 func3를 작성하세요.\n",
        "\n",
        "Width: 100, Height: 200, Color: blue, Thickness: 1\\\n",
        "Width: 100, Height: 200, Color: red, Thickness: 15"
      ],
      "metadata": {
        "id": "TyxDUVY__SNR"
      }
    },
    {
      "cell_type": "code",
      "source": [
        "def func3(width, height, color, thickness):\n",
        "    print(f\"Width: {width}, Height: {height}, Color: {color}, Thickness: {thickness}\")\n",
        "\n",
        "# 예시 출력\n",
        "func3(100, 200, \"blue\", 1)\n",
        "func3(100, 200, \"red\", 15)"
      ],
      "metadata": {
        "id": "lpO-fwPG_SUj"
      },
      "execution_count": null,
      "outputs": []
    },
    {
      "cell_type": "markdown",
      "source": [
        "Task6_0509. 입력으로 들어오는 모든 수의 평균 값을 계산해 주는 함수를 작성한 후 1,2,3을 입력한 결과를 출력하세요."
      ],
      "metadata": {
        "id": "NHC3rvOl_WIW"
      }
    },
    {
      "cell_type": "code",
      "source": [
        "def calculate_average(*args):\n",
        "    if not args:\n",
        "        return 0\n",
        "    return sum(args) / len(args)\n",
        "\n",
        "numbers = [1, 2, 3]\n",
        "average = calculate_average(*numbers)\n",
        "print(\"평균 값은:\", average)"
      ],
      "metadata": {
        "id": "w6G4skRK_Siz"
      },
      "execution_count": null,
      "outputs": []
    },
    {
      "cell_type": "markdown",
      "source": [
        "Task7_0509. 원의 면적과 둘레의 길이를 구하는 사용자 함수를 작성하여 반지름이 5와 10일때 면적과 둘레를 구하세요(반올림:round())"
      ],
      "metadata": {
        "id": "mmcTlGd__r05"
      }
    },
    {
      "cell_type": "code",
      "source": [
        "import math\n",
        "\n",
        "def circle_area_and_perimeter(radius):\n",
        "    area = math.pi * radius ** 2\n",
        "    perimeter = 2 * math.pi * radius\n",
        "    return round(area, 2), round(perimeter, 2)\n",
        "\n",
        "radius_5_area, radius_5_perimeter = circle_area_and_perimeter(5)\n",
        "radius_10_area, radius_10_perimeter = circle_area_and_perimeter(10)\n",
        "\n",
        "print(\"반지름이 5일 때, 면적:\", radius_5_area, \"둘레:\", radius_5_perimeter)\n",
        "print(\"반지름이 10일 때, 면적:\", radius_10_area, \"둘레:\", radius_10_perimeter)"
      ],
      "metadata": {
        "colab": {
          "base_uri": "https://localhost:8080/"
        },
        "id": "3-8SMb-G_Sx5",
        "outputId": "123dc539-e535-4272-b35a-220d5dc084f3"
      },
      "execution_count": 1,
      "outputs": [
        {
          "output_type": "stream",
          "name": "stdout",
          "text": [
            "반지름이 5일 때, 면적: 78.54 둘레: 31.42\n",
            "반지름이 10일 때, 면적: 314.16 둘레: 62.83\n"
          ]
        }
      ]
    },
    {
      "cell_type": "markdown",
      "source": [
        "Task8_0509. 게시물의 총 건수와 한 페이지에 보여 줄 게시물 수를 입력시 총 페이지 수를 출력하는 프로그램을 작성하세요."
      ],
      "metadata": {
        "id": "1gt-nxFN_u7M"
      }
    },
    {
      "cell_type": "code",
      "source": [
        "def calculate_total_pages(total_posts, posts_per_page):\n",
        "    total_pages = total_posts // posts_per_page\n",
        "    if total_posts % posts_per_page != 0:\n",
        "        total_pages += 1\n",
        "    return total_pages\n",
        "\n",
        "total_posts = int(input(\"게시물의 총 건수를 입력하세요: \"))\n",
        "posts_per_page = int(input(\"한 페이지에 보여 줄 게시물 수를 입력하세요: \"))\n",
        "\n",
        "total_pages = calculate_total_pages(total_posts, posts_per_page)\n",
        "print(\"총 페이지 수:\", total_pages)"
      ],
      "metadata": {
        "id": "6T7iPlh5_TAI"
      },
      "execution_count": null,
      "outputs": []
    },
    {
      "cell_type": "markdown",
      "source": [
        "Task9_0509. 위의 문제를 *args를 사용한 사용자 함수 bignum을 작성하여 bignum(20,1,30)과 bignum(20,10,50,70, 100)의 결과를 출력하세요."
      ],
      "metadata": {
        "id": "idCR3S1C_W_N"
      }
    },
    {
      "cell_type": "code",
      "source": [
        "def bignum(*args):\n",
        "    return max(args)\n",
        "\n",
        "print(bignum(20, 1, 30))  # 출력: 30\n",
        "print(bignum(20, 10, 50, 70, 100))  # 출력: 100"
      ],
      "metadata": {
        "id": "syC3gwNm_TPu"
      },
      "execution_count": null,
      "outputs": []
    },
    {
      "cell_type": "markdown",
      "source": [
        "Task10_0509. 위의 계산을 연산자를 choice로 가변적인 숫자들을 *args로 사용한 사용자 함수 cal을 이용하여 다음을 수행하세요.\n",
        "\n",
        "cal('*',1,2,3,4,5)\n",
        "cal('+',1,2,3,4,5,6,7)"
      ],
      "metadata": {
        "id": "xpfKyLLoB-pe"
      }
    },
    {
      "cell_type": "code",
      "source": [
        "def cal(operator, *args):\n",
        "    if operator == '+':\n",
        "        result = sum(args)\n",
        "    elif operator == '*':\n",
        "        result = 1\n",
        "        for num in args:\n",
        "            result *= num\n",
        "    return result\n",
        "\n",
        "print(cal('*', 1, 2, 3, 4, 5))\n",
        "print(cal('+', 1, 2, 3, 4, 5, 6, 7))"
      ],
      "metadata": {
        "id": "eomOY4-aBXz9"
      },
      "execution_count": null,
      "outputs": []
    }
  ]
}