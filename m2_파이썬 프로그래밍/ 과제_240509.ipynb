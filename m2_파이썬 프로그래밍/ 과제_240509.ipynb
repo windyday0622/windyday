{
  "nbformat": 4,
  "nbformat_minor": 0,
  "metadata": {
    "colab": {
      "provenance": [],
      "authorship_tag": "ABX9TyNiXzCc0mewndlnLvWZGYJo",
      "include_colab_link": true
    },
    "kernelspec": {
      "name": "python3",
      "display_name": "Python 3"
    },
    "language_info": {
      "name": "python"
    }
  },
  "cells": [
    {
      "cell_type": "markdown",
      "metadata": {
        "id": "view-in-github",
        "colab_type": "text"
      },
      "source": [
        "<a href=\"https://colab.research.google.com/github/windyday0622/windyday/blob/main/m2_%ED%8C%8C%EC%9D%B4%EC%8D%AC%20%ED%94%84%EB%A1%9C%EA%B7%B8%EB%9E%98%EB%B0%8D/%20%EA%B3%BC%EC%A0%9C_240509.ipynb\" target=\"_parent\"><img src=\"https://colab.research.google.com/assets/colab-badge.svg\" alt=\"Open In Colab\"/></a>"
      ]
    },
    {
      "cell_type": "markdown",
      "source": [
        "Task1_0509. 주어진 텍스트에서 문자 빈도를 아래와 같이 출력하세요.(사용자 함수 사용)\n",
        "\n",
        "가장 많이 나온 문자 5개를 뽑아 봤습니다.\\\n",
        "[e] -> [97]회 나타남\\\n",
        "[t] -> [85]회 나타남\\\n",
        "[a] -> [78]회 나타남\\\n",
        "[o] -> [73]회 나타남\\\n",
        "[s] -> [60]회 나타남"
      ],
      "metadata": {
        "id": "8hoUwkST1Bu3"
      }
    },
    {
      "cell_type": "code",
      "execution_count": null,
      "metadata": {
        "id": "DrDXAdb61AY0"
      },
      "outputs": [],
      "source": [
        "with open('mydata.txt','w') as f:\n",
        "    f.write(\n",
        "'''\n",
        "a lot of things occur each day\n",
        "we've got to live with on our way\n",
        "there's so much misery on the screen\n",
        "with commercials in between\n",
        "\n",
        "and the russians won't be so late\n",
        "uncle sam don't want to wait\n",
        "no matter if you're black or white\n",
        "you never ever had a right\n",
        "\n",
        "and look up to the eternal skies\n",
        "see warfare even there\n",
        "what once has been a paradise\n",
        "now destruction and despair\n",
        "\n",
        "in other worlds the children die\n",
        "lacking food ill from a fly\n",
        "oppressed by troops to tame their land\n",
        "it's all the same again\n",
        "\n",
        "\n",
        "if any man is free on earth\n",
        "then tormentors steal his birth\n",
        "they slam gun butts in his face\n",
        "and leave his woman choked in mace\n",
        "\n",
        "so stand up for our human rights\n",
        "push back this pest of hate\n",
        "raise you voice pass on the light\n",
        "unite! it's not too late\n",
        "\n",
        "how many tears flow away\n",
        "to become a sea of fears\n",
        "how many hearts are torn apart\n",
        "till another torment starts\n",
        "\n",
        "but before the world\n",
        "turns into a sun\n",
        "all cruelty and violence\n",
        "on earth will be dead and gone\n",
        "\n",
        "so stand up for our human rights\n",
        "push back this pest of hate\n",
        "raise you voice pass on the light\n",
        "unite! it's not too late\n",
        "''')\n",
        "with open('mydata.txt', 'r') as f:\n",
        "    data = f.read()\n",
        "    print(data)"
      ]
    },
    {
      "cell_type": "code",
      "source": [
        "def 문자_빈도_출력(텍스트):\n",
        "    문자_빈도 = {}\n",
        "    for 문자 in 텍스트:\n",
        "        if 문자 in 문자_빈도:\n",
        "            문자_빈도[문자] += 1\n",
        "        else:\n",
        "            문자_빈도[문자] = 1\n",
        "\n",
        "    정렬된_빈도 = sorted(문자_빈도.items(), key=lambda x: x[1], reverse=True)\n",
        "\n",
        "    for i in range(5):\n",
        "        print(f\"[{정렬된_빈도[i][0]}] -> [{정렬된_빈도[i][1]}]회 나타남\")"
      ],
      "metadata": {
        "id": "VEldamX-2gEQ"
      },
      "execution_count": 1,
      "outputs": []
    },
    {
      "cell_type": "markdown",
      "source": [
        "Task2_0509.  람다함수와 적합한 내장함수를 사용하여 아래와 같이 출력하세요.\n",
        "\n",
        "[1,2,3,4,5] -> [1,4,9,16,25]\\\n",
        "[1,2,3,4,5] -> [1,2]"
      ],
      "metadata": {
        "id": "SfXGKGLR1POw"
      }
    },
    {
      "cell_type": "code",
      "source": [
        "# 첫 번째 리스트: 제곱 값 리스트 생성\n",
        "list1 = [1, 2, 3, 4, 5]\n",
        "squared_list = list(map(lambda x: x ** 2, list1))\n",
        "print(squared_list)\n",
        "\n",
        "# 두 번째 리스트: 짝수만 필터링\n",
        "even_list = list(filter(lambda x: x % 2 == 0, list1))\n",
        "print(even_list)"
      ],
      "metadata": {
        "id": "vGcj4XUB1PcH"
      },
      "execution_count": null,
      "outputs": []
    },
    {
      "cell_type": "markdown",
      "source": [
        "Task3_0509. [1,-3,2,0,-5,6] 에서 양수만 필터링해서 출력하세요(내장함수, 사용자함수 각각 이용)"
      ],
      "metadata": {
        "id": "cQJ0WqKm1Rvi"
      }
    },
    {
      "cell_type": "code",
      "source": [
        "numbers = [1, -3, 2, 0, -5, 6]\n",
        "positive_numbers = list(filter(lambda x: x > 0, numbers))\n",
        "print(positive_numbers)"
      ],
      "metadata": {
        "id": "onm0KAjI1R3G"
      },
      "execution_count": null,
      "outputs": []
    },
    {
      "cell_type": "code",
      "source": [
        "def filter_positive(numbers):\n",
        "    result = []\n",
        "    for num in numbers:\n",
        "        if num > 0:\n",
        "            result.append(num)\n",
        "    return result\n",
        "\n",
        "numbers = [1, -3, 2, 0, -5, 6]\n",
        "positive_numbers = filter_positive(numbers)\n",
        "print(positive_numbers)"
      ],
      "metadata": {
        "id": "FzBv0I4W3GII"
      },
      "execution_count": null,
      "outputs": []
    },
    {
      "cell_type": "markdown",
      "source": [],
      "metadata": {
        "id": "4pZ35oZD1R_E"
      }
    },
    {
      "cell_type": "code",
      "source": [],
      "metadata": {
        "id": "ikfFwz7g1SFC"
      },
      "execution_count": null,
      "outputs": []
    },
    {
      "cell_type": "markdown",
      "source": [],
      "metadata": {
        "id": "Bjen3E_11SYJ"
      }
    },
    {
      "cell_type": "code",
      "source": [],
      "metadata": {
        "id": "Qn56eE3P1SlM"
      },
      "execution_count": null,
      "outputs": []
    }
  ]
}