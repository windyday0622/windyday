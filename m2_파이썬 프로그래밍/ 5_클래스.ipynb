{
  "nbformat": 4,
  "nbformat_minor": 0,
  "metadata": {
    "colab": {
      "provenance": [],
      "authorship_tag": "ABX9TyO9sAFiu/QFvmvvhitIjGCd",
      "include_colab_link": true
    },
    "kernelspec": {
      "name": "python3",
      "display_name": "Python 3"
    },
    "language_info": {
      "name": "python"
    }
  },
  "cells": [
    {
      "cell_type": "markdown",
      "metadata": {
        "id": "view-in-github",
        "colab_type": "text"
      },
      "source": [
        "<a href=\"https://colab.research.google.com/github/windyday0622/windyday/blob/main/m2_%ED%8C%8C%EC%9D%B4%EC%8D%AC%20%ED%94%84%EB%A1%9C%EA%B7%B8%EB%9E%98%EB%B0%8D/%205_%ED%81%B4%EB%9E%98%EC%8A%A4.ipynb\" target=\"_parent\"><img src=\"https://colab.research.google.com/assets/colab-badge.svg\" alt=\"Open In Colab\"/></a>"
      ]
    },
    {
      "cell_type": "markdown",
      "source": [
        "#### 객체(object) 개념 정리 ( 신원/타입/속성/메소드/클래스/OOP)\n",
        "- 파이썬 프로그램에서 모든 데이터는 객체(object)라는 개념을 사용하여 저장됩니다.\n",
        "- 가장 기본이 되는 데이터 타입인 숫자, 문자열, 리스트, 사전은 다 객체입니다.\n",
        "- 클래스를 사용해서 사용자 정의 객체를 생성할 수도 있습니다.\n",
        "- 또한 프로그램의 구조와 인터프리터의 내부 동작과 관련된 객체들도 있습니다\n",
        "- 객체(object) : 프로그램에서 저장되는 모든 데이터는 객체입니다. 각 객체는 신원(identity), 타입(클래스라고도 함)과 값을 가집니다.\n",
        "  - 객체의 신원(identity) : 객체가 메모리에 저장된 위치를 가리키는 포인터\n",
        "  - 객체의 타입(클래스) : 객체의 내부적인 표현 형태와 객체가 지원하는 메서드 및 연산들을 설명, 특정 타입의 객체가 생성되면 그 객체를 그 타입의 인스턴스(instance)라고 부른다.\n",
        "  - 객체의 속성(attribute)와 메서드(method) : 속성(attribute)은 객체에 연결된 값이고 메서드(method)는 호출될 때 객체에 대해 특정 연산을 수행하는 함수\n",
        "  \n",
        "https://happy-obok.tistory.com/22"
      ],
      "metadata": {
        "id": "dKhSdouDWa-9"
      }
    },
    {
      "cell_type": "markdown",
      "source": [
        "## 클래스\n",
        "\n",
        "클래스(class)란 똑같은 무엇인가를 계속해서 만들어 낼 수 있는 설계 도면이고(과자 틀),\n",
        "객체(object)란 클래스로 만든 피조물(과자 틀을 사용해 만든 과자)을 뜻한다.  \n",
        "과자 틀 → 클래스 (class)  \n",
        "과자 틀에 의해서 만들어진 과자 → 객체 (object)\n",
        "\n",
        "- class : 함수 + 변수 모아놓은 것\n",
        "- 오브젝트(object) : 클래스를 써서 만든 것\n",
        "- 오브젝트(object) == 인스턴스(instance)\n",
        "- 클래스를 정의한 후, 그 클래스를 사용해서 데이터 객체(인스턴스)를 만들 수 있다.\n",
        "- 동일한 클래스에 의해 만들어진 각 객체들은 유사한 특징을 공유한다.\n",
        "- 모든 인스턴스에서 메소드(=코드)는 동일하지만, 속성(데이터)는 다르다.\n",
        "  * 메소드 : 코드\n",
        "  * 속성 : 데이터\n",
        "  * 인스턴스 : 클래스에 의해 만들어진 데이터 객체\n",
        "  * a = 클래스() 이렇게 만든 a는 객체이다. 그리고 a 객체는 클래스의 인스턴스이다. 즉 인스턴스라는 말은 특정 객체(a)가 어떤 클래스의 객체인지를 관계 위주로 설명할 때 사용"
      ],
      "metadata": {
        "id": "xWpXYD1sWUGw"
      }
    },
    {
      "cell_type": "code",
      "source": [
        "# 생성자란 객체가 생성될 때 자동으로 호출되는 메서드를 의미\n",
        "# 파이썬 메서드 이름으로 __init__를 사용하면 이 메서드는 생성자가 된다.\n",
        "# 클래스 생성자 (인자가 없는 경우)\n",
        "class Kita:\n",
        "    def __init__(self):\n",
        "        self.var = \"Kita\"\n",
        "        print(\"Kita 과정입니다.\")\n",
        "obj = Kita()\n",
        "print(obj.var)"
      ],
      "metadata": {
        "colab": {
          "base_uri": "https://localhost:8080/"
        },
        "id": "MPQUOmKyWXhe",
        "outputId": "07ad8e4a-e251-4269-dcd0-3b6b5c0e0634"
      },
      "execution_count": null,
      "outputs": [
        {
          "output_type": "stream",
          "name": "stdout",
          "text": [
            "Kita 과정입니다.\n",
            "Kita\n"
          ]
        }
      ]
    },
    {
      "cell_type": "markdown",
      "source": [
        "#### self\n",
        "- Python에서 클래스 정의 시 self 키워드는 인스턴스 메서드의 첫 번째 매개변수로 사용\n",
        "- self의 사용법\n",
        "    - 클래스의 인스턴스 메서드를 정의할 때, 첫 번째 매개변수로 self를 사용\n",
        "    - self를 사용하여 인스턴스 속성에 접근하거나 설정\n",
        "    - self를 통해 같은 객체의 다른 메서드를 호출\n",
        "    - 클래스로부터 객체를 생성할 때, Python은 자동으로 self를 첫 번째 매개변수로 전달\n",
        "    - self는 객체의 속성과 메서드를 해당 객체에 속한 네임스페이스에 바인딩\n",
        "    - self는 해당 서브클래스의 인스턴스를 가리키며, 이를 통해 부모 클래스의 메서드와 속성에 접근"
      ],
      "metadata": {
        "id": "I7Fc4GECc2su"
      }
    },
    {
      "cell_type": "code",
      "source": [
        "class Myclass:\n",
        "    def method(self, arg1, arg2):\n",
        "      # 여기에서 self는 인스턴스 객체를 가리킵니다.\n",
        "      # arg1과 arg2는 전달된 인자입니다."
      ],
      "metadata": {
        "id": "xuAlodZKWXkE",
        "colab": {
          "base_uri": "https://localhost:8080/",
          "height": 109
        },
        "outputId": "60ecc8a6-ff43-42f7-ffcc-f9be40bb42ef"
      },
      "execution_count": null,
      "outputs": [
        {
          "output_type": "error",
          "ename": "SyntaxError",
          "evalue": "incomplete input (<ipython-input-6-3ddf7f81e23d>, line 4)",
          "traceback": [
            "\u001b[0;36m  File \u001b[0;32m\"<ipython-input-6-3ddf7f81e23d>\"\u001b[0;36m, line \u001b[0;32m4\u001b[0m\n\u001b[0;31m    # arg1과 arg2는 전달된 인자입니다.\u001b[0m\n\u001b[0m                            ^\u001b[0m\n\u001b[0;31mSyntaxError\u001b[0m\u001b[0;31m:\u001b[0m incomplete input\n"
          ]
        }
      ]
    },
    {
      "cell_type": "code",
      "source": [
        "class MyClass:\n",
        "    def __init__(self, value):\n",
        "        self.instance_variable = value # 인스턴스 변수 설정\n",
        "\n",
        "    def method(self):\n",
        "        return self.instance_variable # 인스턴스 변수 접근"
      ],
      "metadata": {
        "id": "fT6RUtlUdb8E"
      },
      "execution_count": null,
      "outputs": []
    },
    {
      "cell_type": "code",
      "source": [
        "obj = MyClass(10)\n",
        "obj.method()"
      ],
      "metadata": {
        "colab": {
          "base_uri": "https://localhost:8080/"
        },
        "id": "XG6-otk6db_7",
        "outputId": "f5034f80-b3e4-45ab-be27-42acac61f7de"
      },
      "execution_count": null,
      "outputs": [
        {
          "output_type": "execute_result",
          "data": {
            "text/plain": [
              "10"
            ]
          },
          "metadata": {},
          "execution_count": 7
        }
      ]
    },
    {
      "cell_type": "code",
      "source": [
        "class Kita:\n",
        "    def __init__(self,name,age,major):\n",
        "        self.name = name\n",
        "        self.age = age\n",
        "        self.major = major\n",
        "        print(f'{self.name}은 {self.age}세이며 {self.major}을 전공했습니다.')\n",
        "\n",
        "a = Kita('홍길동', '25', 'computer')\n",
        "b = Kita('홍길순', '27', 'business')\n",
        "print(a.name)\n",
        "print(b.major)"
      ],
      "metadata": {
        "id": "exzMTbv3WXml",
        "colab": {
          "base_uri": "https://localhost:8080/"
        },
        "outputId": "38a75235-febe-48b1-f6e8-3faeab432013"
      },
      "execution_count": null,
      "outputs": [
        {
          "output_type": "stream",
          "name": "stdout",
          "text": [
            "홍길동은 25세이며 computer을 전공했습니다.\n",
            "홍길순은 27세이며 business을 전공했습니다.\n",
            "홍길동\n",
            "business\n"
          ]
        }
      ]
    },
    {
      "cell_type": "markdown",
      "source": [
        "## 클래스를 구성하는 요소\n",
        "- 클래스 선언: class 키워드와 대문자로 시작하는 이름 사용.\n",
        "- 생성자: \\__init__ 메서드로 인스턴스 초기화, self를 첫 인자로 사용.\n",
        "- 속성(Attributes): self.변수명 형태의 인스턴스 변수로 각 객체의 상태 정의.\n",
        "- 메서드(Methods): 객체의 동작을 정의하는 함수, 첫 인자로 self를 사용.\n",
        "- 상속(Inheritance): 다른 클래스의 기능을 확장 또는 수정.\n",
        "- 인스턴스화: 클래스 이름에 괄호를 추가하여 객체 인스턴스 생성.\n",
        "- self: 메서드와 속성에서 객체 자신을 참조.\n",
        "- 클래스 변수: 클래스 내 정의되고 모든 인스턴스에 공유.\n",
        "- 인스턴스 변수: self로 접근, 각 인스턴스에 고유한 데이터 저장.\n",
        "- 매직 메서드(특수 메서드): __로 둘러싸인 메서드로 내장 연산/함수 커스터마이즈."
      ],
      "metadata": {
        "id": "4jHpWGhGiABU"
      }
    },
    {
      "cell_type": "code",
      "source": [
        "# 상속 : 기본 클래스 또는 부모 클래스\n",
        "class Animal:\n",
        "    def __init__(self,name):\n",
        "        self.name = name\n",
        "\n",
        "    def speak(self):\n",
        "        raise NorImplementedError(\"Subclass must implement abstract method\")\n",
        "\n",
        "# 자식 클래스에서 Animal 클래스 상속\n",
        "class Dog(Animal):\n",
        "    def speak(self):\n",
        "        return f\"{self.name} says Woof!\"\n",
        "\n",
        "class Cat(Animal):\n",
        "    def speak(self):\n",
        "        return f\"{self.name} says Meow!\""
      ],
      "metadata": {
        "id": "-00Gf2ORf0Zk"
      },
      "execution_count": 3,
      "outputs": []
    },
    {
      "cell_type": "code",
      "source": [
        "dog = Dog('Puppy')\n",
        "dog.speak()"
      ],
      "metadata": {
        "id": "ixjUK1Qnf0cC",
        "colab": {
          "base_uri": "https://localhost:8080/",
          "height": 36
        },
        "outputId": "2c4ffcc5-1ab3-40dc-8dd1-538a7cf08199"
      },
      "execution_count": 5,
      "outputs": [
        {
          "output_type": "execute_result",
          "data": {
            "text/plain": [
              "'Puppy says Woof!'"
            ],
            "application/vnd.google.colaboratory.intrinsic+json": {
              "type": "string"
            }
          },
          "metadata": {},
          "execution_count": 5
        }
      ]
    },
    {
      "cell_type": "code",
      "source": [
        "# 클래스 변수:ㅋ 르래스의 모든 인스턴스에 공유되는 변수, 클래스 정의 내부에수 선언되고, 클래스 이름을 사용하여 접근\n",
        "class Car:\n",
        "    wheels = 4 # 클래스 변수\n",
        "\n",
        "    def __init__(self, brand, model):\n",
        "        self.brand = brand\n",
        "        self.model = model"
      ],
      "metadata": {
        "id": "c9Vwq3JAk5I5"
      },
      "execution_count": 6,
      "outputs": []
    },
    {
      "cell_type": "markdown",
      "source": [
        "매직 메서드(Magic Methods)\n",
        "- 파이썬에서 특별한 의미를 가지는 내장 메서드로, 더블 언더스코어(__)로 시작하고 끝나는 메서드 이름을 갖는다.\n",
        "- 파이썬의 데이터 모델을 구성하는 핵심적인 부분으로, 파이썬의 객체가 다양한 연산에서 어떻게 동작할지를 정의.\n",
        "- 사용자가 이러한 메서드를 직접 호출하기보다는, 파이썬의 내부적인 구조나 연산을 통해 자동으로 호출.\n",
        "\n",
        "[ 매직 메서드의 예 ]\n",
        "\n",
        "`__init__(self, [...])`: 객체가 생성될 때 초기화를 위해 호출. 생성자라고도 한다.\\\n",
        "`__str__(self)`: 객체를 인간이 읽을 수 있는 문자열 형태로 변환할 때 사용. print() 함수나 str() 내장 함수를 사용할 때 자동으로 호출.\\\n",
        "`__repr__(self)`: 객체의 공식적인 문자열 표현을 생성할 때 사용. 개발자가 이 객체를 어떻게 볼지를 정의. 보통 객체를 다시 해당 객체를 생성할 수 있는 코드 형태로 표현.\\\n",
        "`__eq__(self, other)`: 두 객체의 동등성을 비교할 때 사용 (== 연산자).\\\n",
        "`__add__(self, other)`: 두 객체를 더할 때 사용 (+ 연산자).\\\n",
        "`__len__(self)`: 객체의 길이를 반환할 때 사용, 예를 들어 len() 함수가 호출될 때 자동으로 이 메서드를 사용."
      ],
      "metadata": {
        "id": "2PoK71kEnfVJ"
      }
    },
    {
      "cell_type": "code",
      "source": [
        "class Book:\n",
        "    def __init__(self,title,author):\n",
        "        self.title = title\n",
        "        self.author = author\n",
        "\n",
        "    def __str__(self): #객체를 문자열로 표현할 때 사용\n",
        "      return f\"{self.title} by {self.author}\""
      ],
      "metadata": {
        "id": "fpIt5nInmcfz"
      },
      "execution_count": 7,
      "outputs": []
    },
    {
      "cell_type": "code",
      "source": [],
      "metadata": {
        "id": "_pMjBqFPmciz"
      },
      "execution_count": null,
      "outputs": []
    },
    {
      "cell_type": "code",
      "source": [],
      "metadata": {
        "id": "CHi3cGGwk5Lo"
      },
      "execution_count": null,
      "outputs": []
    },
    {
      "cell_type": "code",
      "source": [],
      "metadata": {
        "id": "P0TV_UoHk5OG"
      },
      "execution_count": null,
      "outputs": []
    },
    {
      "cell_type": "code",
      "source": [],
      "metadata": {
        "id": "VwhwqxKuf0eQ"
      },
      "execution_count": null,
      "outputs": []
    }
  ]
}