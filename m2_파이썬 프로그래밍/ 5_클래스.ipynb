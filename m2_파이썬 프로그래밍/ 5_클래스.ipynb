{
  "nbformat": 4,
  "nbformat_minor": 0,
  "metadata": {
    "colab": {
      "provenance": [],
      "authorship_tag": "ABX9TyMhYsSiVsNY6gJB0ExcFPgS",
      "include_colab_link": true
    },
    "kernelspec": {
      "name": "python3",
      "display_name": "Python 3"
    },
    "language_info": {
      "name": "python"
    }
  },
  "cells": [
    {
      "cell_type": "markdown",
      "metadata": {
        "id": "view-in-github",
        "colab_type": "text"
      },
      "source": [
        "<a href=\"https://colab.research.google.com/github/windyday0622/windyday/blob/main/m2_%ED%8C%8C%EC%9D%B4%EC%8D%AC%20%ED%94%84%EB%A1%9C%EA%B7%B8%EB%9E%98%EB%B0%8D/%205_%ED%81%B4%EB%9E%98%EC%8A%A4.ipynb\" target=\"_parent\"><img src=\"https://colab.research.google.com/assets/colab-badge.svg\" alt=\"Open In Colab\"/></a>"
      ]
    },
    {
      "cell_type": "markdown",
      "source": [
        "#### 객체(object) 개념 정리 ( 신원/타입/속성/메소드/클래스/OOP)\n",
        "- 파이썬 프로그램에서 모든 데이터는 객체(object)라는 개념을 사용하여 저장됩니다.\n",
        "- 가장 기본이 되는 데이터 타입인 숫자, 문자열, 리스트, 사전은 다 객체입니다.\n",
        "- 클래스를 사용해서 사용자 정의 객체를 생성할 수도 있습니다.\n",
        "- 또한 프로그램의 구조와 인터프리터의 내부 동작과 관련된 객체들도 있습니다\n",
        "- 객체(object) : 프로그램에서 저장되는 모든 데이터는 객체입니다. 각 객체는 신원(identity), 타입(클래스라고도 함)과 값을 가집니다.\n",
        "  - 객체의 신원(identity) : 객체가 메모리에 저장된 위치를 가리키는 포인터\n",
        "  - 객체의 타입(클래스) : 객체의 내부적인 표현 형태와 객체가 지원하는 메서드 및 연산들을 설명, 특정 타입의 객체가 생성되면 그 객체를 그 타입의 인스턴스(instance)라고 부른다.\n",
        "  - 객체의 속성(attribute)와 메서드(method) : 속성(attribute)은 객체에 연결된 값이고 메서드(method)는 호출될 때 객체에 대해 특정 연산을 수행하는 함수\n",
        "  \n",
        "https://happy-obok.tistory.com/22"
      ],
      "metadata": {
        "id": "dKhSdouDWa-9"
      }
    },
    {
      "cell_type": "markdown",
      "source": [
        "## 클래스\n",
        "\n",
        "클래스(class)란 똑같은 무엇인가를 계속해서 만들어 낼 수 있는 설계 도면이고(과자 틀),\n",
        "객체(object)란 클래스로 만든 피조물(과자 틀을 사용해 만든 과자)을 뜻한다.  \n",
        "과자 틀 → 클래스 (class)  \n",
        "과자 틀에 의해서 만들어진 과자 → 객체 (object)\n",
        "\n",
        "- class : 함수 + 변수 모아놓은 것\n",
        "- 오브젝트(object) : 클래스를 써서 만든 것\n",
        "- 오브젝트(object) == 인스턴스(instance)\n",
        "- 클래스를 정의한 후, 그 클래스를 사용해서 데이터 객체(인스턴스)를 만들 수 있다.\n",
        "- 동일한 클래스에 의해 만들어진 각 객체들은 유사한 특징을 공유한다.\n",
        "- 모든 인스턴스에서 메소드(=코드)는 동일하지만, 속성(데이터)는 다르다.\n",
        "  * 메소드 : 코드\n",
        "  * 속성 : 데이터\n",
        "  * 인스턴스 : 클래스에 의해 만들어진 데이터 객체\n",
        "  * a = 클래스() 이렇게 만든 a는 객체이다. 그리고 a 객체는 클래스의 인스턴스이다. 즉 인스턴스라는 말은 특정 객체(a)가 어떤 클래스의 객체인지를 관계 위주로 설명할 때 사용"
      ],
      "metadata": {
        "id": "xWpXYD1sWUGw"
      }
    },
    {
      "cell_type": "code",
      "source": [
        "# 생성자란 객체가 생성될 때 자동으로 호출되는 메서드를 의미\n",
        "# 파이썬 메서드 이름으로 __init__를 사용하면 이 메서드는 생성자가 된다.\n",
        "# 클래스 생성자 (인자가 없는 경우)\n",
        "class Kita:\n",
        "    def __init__(self):\n",
        "        self.var = \"Kita\"\n",
        "        print(\"Kita 과정입니다.\")\n",
        "obj = Kita()\n",
        "print(obj.var)"
      ],
      "metadata": {
        "colab": {
          "base_uri": "https://localhost:8080/"
        },
        "id": "MPQUOmKyWXhe",
        "outputId": "07ad8e4a-e251-4269-dcd0-3b6b5c0e0634"
      },
      "execution_count": null,
      "outputs": [
        {
          "output_type": "stream",
          "name": "stdout",
          "text": [
            "Kita 과정입니다.\n",
            "Kita\n"
          ]
        }
      ]
    },
    {
      "cell_type": "markdown",
      "source": [
        "#### self\n",
        "- Python에서 클래스 정의 시 self 키워드는 인스턴스 메서드의 첫 번째 매개변수로 사용\n",
        "- self의 사용법\n",
        "    - 클래스의 인스턴스 메서드를 정의할 때, 첫 번째 매개변수로 self를 사용\n",
        "    - self를 사용하여 인스턴스 속성에 접근하거나 설정\n",
        "    - self를 통해 같은 객체의 다른 메서드를 호출\n",
        "    - 클래스로부터 객체를 생성할 때, Python은 자동으로 self를 첫 번째 매개변수로 전달\n",
        "    - self는 객체의 속성과 메서드를 해당 객체에 속한 네임스페이스에 바인딩\n",
        "    - self는 해당 서브클래스의 인스턴스를 가리키며, 이를 통해 부모 클래스의 메서드와 속성에 접근"
      ],
      "metadata": {
        "id": "I7Fc4GECc2su"
      }
    },
    {
      "cell_type": "code",
      "source": [
        "class Myclass:\n",
        "    def method(self, arg1, arg2):\n",
        "      # 여기에서 self는 인스턴스 객체를 가리킵니다.\n",
        "      # arg1과 arg2는 전달된 인자입니다."
      ],
      "metadata": {
        "id": "xuAlodZKWXkE",
        "colab": {
          "base_uri": "https://localhost:8080/",
          "height": 109
        },
        "outputId": "60ecc8a6-ff43-42f7-ffcc-f9be40bb42ef"
      },
      "execution_count": 6,
      "outputs": [
        {
          "output_type": "error",
          "ename": "SyntaxError",
          "evalue": "incomplete input (<ipython-input-6-3ddf7f81e23d>, line 4)",
          "traceback": [
            "\u001b[0;36m  File \u001b[0;32m\"<ipython-input-6-3ddf7f81e23d>\"\u001b[0;36m, line \u001b[0;32m4\u001b[0m\n\u001b[0;31m    # arg1과 arg2는 전달된 인자입니다.\u001b[0m\n\u001b[0m                            ^\u001b[0m\n\u001b[0;31mSyntaxError\u001b[0m\u001b[0;31m:\u001b[0m incomplete input\n"
          ]
        }
      ]
    },
    {
      "cell_type": "code",
      "source": [
        "class MyClass:\n",
        "    def __init__(self, value):\n",
        "        self.instance_variable = value # 인스턴스 변수 설정\n",
        "\n",
        "    def method(self):\n",
        "        return self.instance_variable # 인스턴스 변수 접근"
      ],
      "metadata": {
        "id": "fT6RUtlUdb8E"
      },
      "execution_count": 4,
      "outputs": []
    },
    {
      "cell_type": "code",
      "source": [
        "obj = MyClass(10)\n",
        "obj.method()"
      ],
      "metadata": {
        "colab": {
          "base_uri": "https://localhost:8080/"
        },
        "id": "XG6-otk6db_7",
        "outputId": "f5034f80-b3e4-45ab-be27-42acac61f7de"
      },
      "execution_count": 7,
      "outputs": [
        {
          "output_type": "execute_result",
          "data": {
            "text/plain": [
              "10"
            ]
          },
          "metadata": {},
          "execution_count": 7
        }
      ]
    },
    {
      "cell_type": "code",
      "source": [
        "class Kita:\n",
        "    def __init__(self,name,age,major):\n",
        "        self.name = name\n",
        "        self.age = age\n",
        "        self.major = major\n",
        "        print(f'{self.name}은 {self.age}세이며 {self.major}을 전공했습니다.')\n",
        "\n",
        "a = Kita('홍길동', '25', 'computer')\n",
        "b = Kita('홍길순', '27', 'business')\n",
        "print(a.name)\n",
        "print(b.major)"
      ],
      "metadata": {
        "id": "exzMTbv3WXml",
        "colab": {
          "base_uri": "https://localhost:8080/"
        },
        "outputId": "38a75235-febe-48b1-f6e8-3faeab432013"
      },
      "execution_count": 9,
      "outputs": [
        {
          "output_type": "stream",
          "name": "stdout",
          "text": [
            "홍길동은 25세이며 computer을 전공했습니다.\n",
            "홍길순은 27세이며 business을 전공했습니다.\n",
            "홍길동\n",
            "business\n"
          ]
        }
      ]
    },
    {
      "cell_type": "code",
      "source": [],
      "metadata": {
        "id": "VzTj0Delf0W8"
      },
      "execution_count": null,
      "outputs": []
    },
    {
      "cell_type": "code",
      "source": [],
      "metadata": {
        "id": "-00Gf2ORf0Zk"
      },
      "execution_count": null,
      "outputs": []
    },
    {
      "cell_type": "code",
      "source": [],
      "metadata": {
        "id": "ixjUK1Qnf0cC"
      },
      "execution_count": null,
      "outputs": []
    },
    {
      "cell_type": "code",
      "source": [],
      "metadata": {
        "id": "VwhwqxKuf0eQ"
      },
      "execution_count": null,
      "outputs": []
    }
  ]
}