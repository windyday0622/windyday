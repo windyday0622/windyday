{
  "nbformat": 4,
  "nbformat_minor": 0,
  "metadata": {
    "colab": {
      "provenance": [],
      "authorship_tag": "ABX9TyPpohvWYVW+d8bh14L4tWnL",
      "include_colab_link": true
    },
    "kernelspec": {
      "name": "python3",
      "display_name": "Python 3"
    },
    "language_info": {
      "name": "python"
    }
  },
  "cells": [
    {
      "cell_type": "markdown",
      "metadata": {
        "id": "view-in-github",
        "colab_type": "text"
      },
      "source": [
        "<a href=\"https://colab.research.google.com/github/windyday0622/windyday/blob/main/m2_%ED%8C%8C%EC%9D%B4%EC%8D%AC%20%ED%94%84%EB%A1%9C%EA%B7%B8%EB%9E%98%EB%B0%8D/%20%EA%B3%BC%EC%A0%9C_240513.ipynb\" target=\"_parent\"><img src=\"https://colab.research.google.com/assets/colab-badge.svg\" alt=\"Open In Colab\"/></a>"
      ]
    },
    {
      "cell_type": "markdown",
      "source": [
        "Q. 클래스 구성 요소와 관련 아래 사항에 대한 사례를 작성하세요.\n",
        "- 클래스 선언\n",
        "- 생성자\n",
        "- 속성(attributes)\n",
        "- 메서드\n",
        "- 상속\n",
        "- 인스턴스화(객체 만들기)\n",
        "- 클래스 변수\n",
        "- 매직 메서드(특수 메서드)"
      ],
      "metadata": {
        "id": "K3aaRqGp5bry"
      }
    },
    {
      "cell_type": "code",
      "execution_count": null,
      "metadata": {
        "id": "Gl2dDpjH20nw"
      },
      "outputs": [],
      "source": [
        "class Car:\n",
        "    # 클래스 선언\n",
        "    def __init__(self, brand, model, year):\n",
        "        # 생성자\n",
        "        self.brand = brand\n",
        "        self.model = model\n",
        "        self.year = year\n",
        "        self.mileage = 0\n",
        "        # 속성(attributes)\n",
        "\n",
        "    def display_info(self):\n",
        "        # 메서드\n",
        "        print(f\"This is a {self.year} {self.brand} {self.model}\")\n",
        "\n",
        "    def drive(self, distance):\n",
        "        self.mileage += distance\n",
        "        # 메서드\n",
        "\n",
        "class ElectricCar(Car):\n",
        "    # 상속\n",
        "    def __init__(self, brand, model, year, battery_size):\n",
        "        super().__init__(brand, model, year)\n",
        "        self.battery_size = battery_size\n",
        "\n",
        "    def display_info(self):\n",
        "        print(f\"This is an electric {self.year} {self.brand} {self.model}\")\n",
        "\n",
        "    def charge(self):\n",
        "        print(\"Charging the battery...\")\n",
        "        # 메서드\n",
        "\n",
        "# 인스턴스화(객체 만들기)\n",
        "my_car = Car(\"Toyota\", \"Camry\", 2022)\n",
        "my_electric_car = ElectricCar(\"Tesla\", \"Model S\", 2023, 75)\n",
        "\n",
        "# 클래스 변수\n",
        "Car.wheels = 4\n",
        "\n",
        "# 매직 메서드(특수 메서드)\n",
        "def __repr__(self):\n",
        "    return f\"{self.year} {self.brand} {self.model}\"\n",
        "\n",
        "def __str__(self):\n",
        "    return f\"A {self.year} {self.brand} {self.model}\"\n"
      ]
    },
    {
      "cell_type": "markdown",
      "source": [
        "Task2_0513. 두개의 수를 입력한 후 두개의 수에 대한 사칙연산을 수행하세요.(0을 입력한 경우 다시 입력하도록 조치)"
      ],
      "metadata": {
        "id": "CVNoMNCF5e73"
      }
    },
    {
      "cell_type": "code",
      "source": [
        "class Calculator:\n",
        "    def __init__(self):\n",
        "        pass\n",
        "\n",
        "    def add(self, num1, num2):\n",
        "        return num1 + num2\n",
        "\n",
        "    def subtract(self, num1, num2):\n",
        "        return num1 - num2\n",
        "\n",
        "    def multiply(self, num1, num2):\n",
        "        return num1 * num2\n",
        "\n",
        "    def divide(self, num1, num2):\n",
        "        if num2 == 0:\n",
        "            return \"Error: Cannot divide by zero.\"\n",
        "        else:\n",
        "            return num1 / num2\n",
        "\n",
        "calculator = Calculator()\n",
        "\n",
        "while True:\n",
        "    num1 = float(input(\"첫 번째 수를 입력하세요: \"))\n",
        "    num2 = float(input(\"두 번째 수를 입력하세요: \"))\n",
        "\n",
        "    if num1 == 0 or num2 == 0:\n",
        "        print(\"0은 입력할 수 없습니다. 다시 시도하세요.\")\n",
        "    else:\n",
        "        print(\"더하기 결과:\", calculator.add(num1, num2))\n",
        "        print(\"빼기 결과:\", calculator.subtract(num1, num2))\n",
        "        print(\"곱하기 결과:\", calculator.multiply(num1, num2))\n",
        "        print(\"나누기 결과:\", calculator.divide(num1, num2))\n",
        "        break\n"
      ],
      "metadata": {
        "id": "utD1IMNe5fCj"
      },
      "execution_count": null,
      "outputs": []
    },
    {
      "cell_type": "markdown",
      "source": [
        "Task3_0513. 파이썬 오버라이딩, 오버로딩, 다형성의 사례를 만들어 보세요."
      ],
      "metadata": {
        "id": "wv3d36MS5fOa"
      }
    },
    {
      "cell_type": "code",
      "source": [
        "# 오버라이딩\n",
        "class Animal:\n",
        "    def speak(self):\n",
        "        print(\"동물이 소리를 낸다\")\n",
        "\n",
        "class Dog(Animal):\n",
        "    def speak(self):\n",
        "        print(\"멍멍\")\n",
        "\n",
        "class Cat(Animal):\n",
        "    def speak(self):\n",
        "        print(\"야옹\")\n",
        "\n",
        "dog = Dog()\n",
        "dog.speak()  # 출력: 멍멍\n",
        "\n",
        "cat = Cat()\n",
        "cat.speak()  # 출력: 야옹\n",
        "\n",
        "# 다형성\n",
        "class Shape:\n",
        "    def draw(self):\n",
        "        pass\n",
        "\n",
        "class Circle(Shape):\n",
        "    def draw(self):\n",
        "        print(\"원을 그립니다.\")\n",
        "\n",
        "class Square(Shape):\n",
        "    def draw(self):\n",
        "        print(\"사각형을 그립니다.\")\n",
        "\n",
        "def draw_shape(shape):\n",
        "    shape.draw()\n",
        "\n",
        "circle = Circle()\n",
        "square = Square()\n",
        "\n",
        "draw_shape(circle)  # 출력: 원을 그립니다.\n",
        "draw_shape(square)  # 출력: 사각형을 그립니다."
      ],
      "metadata": {
        "id": "DqWHatLN5fVo"
      },
      "execution_count": null,
      "outputs": []
    }
  ]
}