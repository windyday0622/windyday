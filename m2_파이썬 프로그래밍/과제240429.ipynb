{
  "nbformat": 4,
  "nbformat_minor": 0,
  "metadata": {
    "colab": {
      "provenance": [],
      "authorship_tag": "ABX9TyOuYuJGtdTXpMQJcABWq+RD",
      "include_colab_link": true
    },
    "kernelspec": {
      "name": "python3",
      "display_name": "Python 3"
    },
    "language_info": {
      "name": "python"
    }
  },
  "cells": [
    {
      "cell_type": "markdown",
      "metadata": {
        "id": "view-in-github",
        "colab_type": "text"
      },
      "source": [
        "<a href=\"https://colab.research.google.com/github/windyday0622/windyday/blob/main/m2_%ED%8C%8C%EC%9D%B4%EC%8D%AC%20%ED%94%84%EB%A1%9C%EA%B7%B8%EB%9E%98%EB%B0%8D/%EA%B3%BC%EC%A0%9C240429.ipynb\" target=\"_parent\"><img src=\"https://colab.research.google.com/assets/colab-badge.svg\" alt=\"Open In Colab\"/></a>"
      ]
    },
    {
      "cell_type": "markdown",
      "source": [
        "Task1_0429.\n",
        "\n",
        "input_str = \"Hello, world! How are you today? I am fine Thank you!\"\n",
        "\n",
        "['Hello', 'world', 'How', 'are', 'you', 'today', 'I', 'am', 'fine', 'Thank', 'you']"
      ],
      "metadata": {
        "id": "h2pyjKnvbpxe"
      }
    },
    {
      "cell_type": "code",
      "execution_count": null,
      "metadata": {
        "id": "VBz3J48YdVMF",
        "colab": {
          "base_uri": "https://localhost:8080/"
        },
        "outputId": "5812ac0f-952e-4cb6-8449-11a89397cdaf"
      },
      "outputs": [
        {
          "output_type": "stream",
          "name": "stdout",
          "text": [
            "['Hello,', 'world!', 'How', 'are', 'you', 'today?', 'I', 'am', 'fine.', 'Thank', 'you!']\n"
          ]
        }
      ],
      "source": [
        "input_str = \"Hello, world! How are you today? I am fine. Thank you!\"\n",
        "words = input_str.split()\n",
        "print(words)"
      ]
    },
    {
      "cell_type": "markdown",
      "source": [
        "re.split() 함수의 동작:\n",
        "- 주어진 문자열에서 공백, 쉼표, 마침표, 물음표, 느낌표를 포함하여 연속된 어떤 조합이라도 하나의 구분자로 취급하고, 이에 따라 문자열을 분리\n",
        "\n",
        "정규 표현식 구성 요소:\n",
        "- 대괄호([ ]): 대괄호는 문자 클래스를 만들며 대괄호 안에 포함된 어떤 문자와도 일치할 수 있다. 여기서는 공백( ), 쉼표(,), 마침표(.), 물음표(?), 느낌표(!)가 포함되어 있어 이 중 어떤 한 문자와도 일치할 수 있다.\n",
        "- 플러스 기호(+): 이 기호는 직전의 요소가 하나 이상 반복될 때 사용. 즉, `[ ,.?!]+`는 공백, 쉼표, 마침표, 물음표, 느낌표 중 하나 이상 연속된 시퀀스와 일치. 이를 통해 문자열을 분리할 때 하나의 구분자만이 아닌, 여러 구분자가 연속적으로 위치해 있는 경우에도 단일 구분점으로 취급할 수 있다."
      ],
      "metadata": {
        "id": "_znoe4o6XacC"
      }
    },
    {
      "cell_type": "code",
      "source": [
        "import re\n",
        "\n",
        "input_str = \"Hello, world! How are you today? I am faine. Thank you!\"\n",
        "# 여러 구분자(공백, 쉼표, 마침표, 느낌표)를 표함하는 정규 표현식을 사용\n",
        "tokens = re.split('{} ,.?!]+', input_str)\n",
        "tokens = [token for token in tokens if token]\n",
        "print(tokens)"
      ],
      "metadata": {
        "colab": {
          "base_uri": "https://localhost:8080/"
        },
        "id": "43VW-EubYUux",
        "outputId": "7d8383bb-59c8-45db-a4ea-ba0399dcfd1f"
      },
      "execution_count": 1,
      "outputs": [
        {
          "output_type": "stream",
          "name": "stdout",
          "text": [
            "['Hello, world! How are you today? I am faine. Thank you!']\n"
          ]
        }
      ]
    },
    {
      "cell_type": "markdown",
      "source": [
        "Task2_0429. 십진수 122를 2진수, 8진수, 16진수로 변경하여 출력하세요."
      ],
      "metadata": {
        "id": "n9ZeNIevbtB9"
      }
    },
    {
      "cell_type": "code",
      "source": [
        "num = 122\n",
        "\n",
        "binary = bin(num)\n",
        "octal = oct(num)\n",
        "hexadecimal = hex(num)\n",
        "\n",
        "print(\"2진수:\", binary)\n",
        "print(\"8진수:\", octal)\n",
        "print(\"16진수:\", hexadecimal)"
      ],
      "metadata": {
        "id": "gq4pgTEGbstN",
        "colab": {
          "base_uri": "https://localhost:8080/"
        },
        "outputId": "d3b19e90-4f6b-44c4-fdaf-9bb66059cc0d"
      },
      "execution_count": 4,
      "outputs": [
        {
          "output_type": "stream",
          "name": "stdout",
          "text": [
            "2진수: 0b1111010\n",
            "8진수: 0o172\n",
            "16진수: 0x7a\n"
          ]
        }
      ]
    },
    {
      "cell_type": "markdown",
      "source": [
        "\n",
        "Task3_0429. 두 수의 곱셈 결과를 계산하고, 그 결과에 10을 더하세요."
      ],
      "metadata": {
        "id": "tTl_9zYSbt_0"
      }
    },
    {
      "cell_type": "code",
      "source": [
        "a = int(input(\"숫자를 입력하시오.\"))\n",
        "b = int(input(\"숫자를 입력하시오.\"))\n",
        "print(a*b+10)"
      ],
      "metadata": {
        "id": "NFd0nJjsbuXl",
        "colab": {
          "base_uri": "https://localhost:8080/"
        },
        "outputId": "20a92049-5565-4e6f-b358-b8c765ce9859"
      },
      "execution_count": null,
      "outputs": [
        {
          "output_type": "stream",
          "name": "stdout",
          "text": [
            "숫자를 입력하시오.10\n",
            "숫자를 입력하시오.10\n",
            "110\n"
          ]
        }
      ]
    },
    {
      "cell_type": "markdown",
      "source": [
        "Task4_0429. 주어진 리스트에서 두 번째 요소를 삭제하고, 마지막에 새로운 요소 'Python'을 추가하세요.\n",
        "\n",
        "리스트: ['Java', 'C', 'JavaScript']"
      ],
      "metadata": {
        "id": "JB0hhGtWbuuV"
      }
    },
    {
      "cell_type": "code",
      "source": [
        "a = ['Java', 'C', 'JavaScript']\n",
        "del a[1]\n",
        "a.append('Python')\n",
        "print(a)"
      ],
      "metadata": {
        "id": "vRgikng0bvCN",
        "colab": {
          "base_uri": "https://localhost:8080/"
        },
        "outputId": "540ee28e-3202-43e8-af91-35b602143c6e"
      },
      "execution_count": null,
      "outputs": [
        {
          "output_type": "stream",
          "name": "stdout",
          "text": [
            "['Java', 'JavaScript', 'Python']\n"
          ]
        }
      ]
    },
    {
      "cell_type": "code",
      "source": [
        "a = ['Java', 'C', 'JavaScript']\n",
        "a.pop(2)\n",
        "print(a)"
      ],
      "metadata": {
        "colab": {
          "base_uri": "https://localhost:8080/"
        },
        "id": "7PUPtnP4bsTB",
        "outputId": "10e2f983-85fe-4207-e44d-2496b447d841"
      },
      "execution_count": 6,
      "outputs": [
        {
          "output_type": "stream",
          "name": "stdout",
          "text": [
            "['Java', 'C']\n"
          ]
        }
      ]
    },
    {
      "cell_type": "markdown",
      "source": [
        "Task5_0429. 주어진 문자열에서 처음 세 글자와 마지막 세 글자를 연결하여 새로운 문자열을 만드세요.\n",
        "\n",
        "문자열: 'Incredible'"
      ],
      "metadata": {
        "id": "aB3j4pe7bvOU"
      }
    },
    {
      "cell_type": "code",
      "source": [
        "str = 'Incredible'\n",
        "new_str = str[:3] + str[-3:]\n",
        "print(new_str)"
      ],
      "metadata": {
        "id": "OZWxVDOabvpV",
        "colab": {
          "base_uri": "https://localhost:8080/"
        },
        "outputId": "12bb3a65-f539-4f48-fd5d-29a508dcdbd9"
      },
      "execution_count": 7,
      "outputs": [
        {
          "output_type": "stream",
          "name": "stdout",
          "text": [
            "Incble\n"
          ]
        }
      ]
    },
    {
      "cell_type": "markdown",
      "source": [
        "Task6_0429. 사용자의 이름과 이메일을 딕셔너리로 저장하고, 이름을 입력받아 해당하는 이메일을 출력하세요.\n",
        "\n",
        "사용자 정보: 이름 - 'Alice', 이메일 - 'alice@example.com'"
      ],
      "metadata": {
        "id": "dmJuiCA8bwEV"
      }
    },
    {
      "cell_type": "code",
      "source": [
        "d = {'이름': '이메일'}\n",
        "a = input(\"이름을 입력하세요: \")\n",
        "b = input(\"이메일을 입력하세요:\")\n",
        "print(f'사용자 정보: 이름-{a},이메일-{b}')"
      ],
      "metadata": {
        "id": "QGuNl_aqbwT1",
        "colab": {
          "base_uri": "https://localhost:8080/"
        },
        "outputId": "78cfc2d4-41d8-46bf-9720-0500b27746bf"
      },
      "execution_count": 9,
      "outputs": [
        {
          "output_type": "stream",
          "name": "stdout",
          "text": [
            "이름을 입력하세요: alice\n",
            "이메일을 입력하세요:alice@example.com\n",
            "사용자 정보: 이름-alice,이메일-alice@example.com\n"
          ]
        }
      ]
    },
    {
      "cell_type": "markdown",
      "source": [
        "Task7_0429. 주어진 두 튜플에서 공통 요소만을 찾아 집합으로 만드세요.\n",
        "\n",
        "튜플: (1, 2, 3, 4, 5)와 (4, 5, 6, 7, 8)\n"
      ],
      "metadata": {
        "id": "Kq4F9daYeNO8"
      }
    },
    {
      "cell_type": "code",
      "source": [
        "t1 = (1, 2, 3, 4, 5)\n",
        "s1 = set(t1)\n",
        "t2 = (4, 5, 6, 7, 8)\n",
        "s2 = set(t2)\n",
        "s3 = set(s1 & s2)\n",
        "print(s3)"
      ],
      "metadata": {
        "colab": {
          "base_uri": "https://localhost:8080/"
        },
        "id": "BcP6rOnteNo0",
        "outputId": "1069edde-7958-46e7-8927-19a9d4396c2e"
      },
      "execution_count": null,
      "outputs": [
        {
          "output_type": "stream",
          "name": "stdout",
          "text": [
            "{4, 5}\n"
          ]
        }
      ]
    },
    {
      "cell_type": "markdown",
      "source": [
        "Task8_Challenge_0429. 다음 요구 사항을 충족하는 프로그램을 작성하세요:\n",
        "\n",
        "사용자로부터 이름, 나이, 좋아하는 색상을 입력받습니다.\n",
        "입력받은 정보를 딕셔너리로 저장하고, 모든 사용자 정보를 리스트에 저장합니다.\n",
        "이름이 'John'인 사용자의 정보만 출력하세요.\n",
        "전체 사용자의 평균 나이를 계산하고 출력하세요.\n",
        "\n",
        "사용자 데이터:\n",
        "이름: John\n",
        "나이: 28\n",
        "좋아하는 색상: Blue\n",
        "\n",
        "사용자 데이터:\n",
        "이름: Alice\n",
        "나이: 24\n",
        "좋아하는 색상: Red\n",
        "\n",
        "사용자 데이터:\n",
        "이름: Maria\n",
        "나이: 32\n",
        "좋아하는 색상: Green\n"
      ],
      "metadata": {
        "id": "gjW0lyZRbwqD"
      }
    },
    {
      "cell_type": "code",
      "source": [
        "user_list = []\n",
        "\n",
        "for _ in range(3): #_는 중요하지 않은, 형식적으로 처리할 때.\n",
        "    name = input(\"이름을 입력하세요: \")\n",
        "    age = int(input(\"나이를 입력하세요: \"))\n",
        "    color = input(\"좋아하는 색상을 입력하세요: \")\n",
        "\n",
        "    user_info = {'이름': name, '나이': age, '좋아하는 색상': color}\n",
        "    user_list.append(user_info)\n",
        "\n",
        "print(\"\\n'John'의 정보:\")\n",
        "for user in user_list:\n",
        "    if user['이름'] == 'John':\n",
        "        print(\"이름:\", user['이름'])\n",
        "        print(\"나이:\", user['나이'])\n",
        "        print(\"좋아하는 색상:\", user['좋아하는 색상'])\n",
        "        break\n",
        "else:\n",
        "    print(\"'John'의 정보를 찾을 수 없습니다.\")\n",
        "\n",
        "total_age = sum(user['나이'] for user in user_list)\n",
        "average_age = total_age / len(user_list)\n",
        "print(\"\\n전체 사용자의 평균 나이:\", average_age)"
      ],
      "metadata": {
        "id": "F1hoFzdXhbI8",
        "colab": {
          "base_uri": "https://localhost:8080/"
        },
        "outputId": "aee0fade-e37a-4f40-e0f8-e463ae868f37"
      },
      "execution_count": 2,
      "outputs": [
        {
          "output_type": "stream",
          "name": "stdout",
          "text": [
            "이름을 입력하세요: John\n",
            "나이를 입력하세요: 28\n",
            "좋아하는 색상을 입력하세요: Blue\n",
            "이름을 입력하세요: Alice\n",
            "나이를 입력하세요: 24\n",
            "좋아하는 색상을 입력하세요: REd\n",
            "이름을 입력하세요: Maria\n",
            "나이를 입력하세요: 32\n",
            "좋아하는 색상을 입력하세요: Green\n",
            "\n",
            "'John'의 정보:\n",
            "이름: John\n",
            "나이: 28\n",
            "좋아하는 색상: Blue\n",
            "\n",
            "전체 사용자의 평균 나이: 28.0\n"
          ]
        }
      ]
    },
    {
      "cell_type": "markdown",
      "source": [],
      "metadata": {
        "id": "hP8e3mc2hay0"
      }
    },
    {
      "cell_type": "code",
      "source": [],
      "metadata": {
        "id": "Q2mFdUA8bxJT"
      },
      "execution_count": null,
      "outputs": []
    },
    {
      "cell_type": "code",
      "source": [],
      "metadata": {
        "id": "tFZOecwWeTbU"
      },
      "execution_count": null,
      "outputs": []
    }
  ]
}