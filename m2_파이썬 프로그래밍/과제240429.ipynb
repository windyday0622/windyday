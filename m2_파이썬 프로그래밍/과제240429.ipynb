{
  "nbformat": 4,
  "nbformat_minor": 0,
  "metadata": {
    "colab": {
      "provenance": [],
      "authorship_tag": "ABX9TyMxw7BZ89axbJMqiIAqxIz7",
      "include_colab_link": true
    },
    "kernelspec": {
      "name": "python3",
      "display_name": "Python 3"
    },
    "language_info": {
      "name": "python"
    }
  },
  "cells": [
    {
      "cell_type": "markdown",
      "metadata": {
        "id": "view-in-github",
        "colab_type": "text"
      },
      "source": [
        "<a href=\"https://colab.research.google.com/github/windyday0622/windyday/blob/main/m2_%ED%8C%8C%EC%9D%B4%EC%8D%AC%20%ED%94%84%EB%A1%9C%EA%B7%B8%EB%9E%98%EB%B0%8D/%EA%B3%BC%EC%A0%9C240429.ipynb\" target=\"_parent\"><img src=\"https://colab.research.google.com/assets/colab-badge.svg\" alt=\"Open In Colab\"/></a>"
      ]
    },
    {
      "cell_type": "markdown",
      "source": [
        "Task1_0429.\n",
        "\n",
        "input_str = \"Hello, world! How are you today? I am fine Thank you!\"\n",
        "\n",
        "['Hello', 'world', 'How', 'are', 'you', 'today', 'I', 'am', 'fine', 'Thank', 'you']"
      ],
      "metadata": {
        "id": "h2pyjKnvbpxe"
      }
    },
    {
      "cell_type": "code",
      "execution_count": null,
      "metadata": {
        "id": "VBz3J48YdVMF"
      },
      "outputs": [],
      "source": []
    },
    {
      "cell_type": "markdown",
      "source": [
        "Task2_0429. 십진수 122를 2진수, 8진수, 16진수로 변경하여 출력하세요."
      ],
      "metadata": {
        "id": "n9ZeNIevbtB9"
      }
    },
    {
      "cell_type": "code",
      "source": [
        "num = 122\n",
        "\n",
        "binary = bin(num)\n",
        "octal = oct(num)\n",
        "hexadecimal = hex(num)\n",
        "\n",
        "print(\"2진수:\", binary)\n",
        "print(\"8진수:\", octal)\n",
        "print(\"16진수:\", hexadecimal)"
      ],
      "metadata": {
        "id": "gq4pgTEGbstN"
      },
      "execution_count": null,
      "outputs": []
    },
    {
      "cell_type": "markdown",
      "source": [
        "\n",
        "Task3_0429. 두 수의 곱셈 결과를 계산하고, 그 결과에 10을 더하세요."
      ],
      "metadata": {
        "id": "tTl_9zYSbt_0"
      }
    },
    {
      "cell_type": "code",
      "source": [],
      "metadata": {
        "id": "NFd0nJjsbuXl"
      },
      "execution_count": null,
      "outputs": []
    },
    {
      "cell_type": "markdown",
      "source": [
        "Task4_0429. 주어진 리스트에서 두 번째 요소를 삭제하고, 마지막에 새로운 요소 'Python'을 추가하세요.\n",
        "\n",
        "리스트: ['Java', 'C', 'JavaScript']"
      ],
      "metadata": {
        "id": "JB0hhGtWbuuV"
      }
    },
    {
      "cell_type": "code",
      "source": [],
      "metadata": {
        "id": "vRgikng0bvCN"
      },
      "execution_count": null,
      "outputs": []
    },
    {
      "cell_type": "markdown",
      "source": [
        "Task5_0429. 주어진 문자열에서 처음 세 글자와 마지막 세 글자를 연결하여 새로운 문자열을 만드세요.\n",
        "\n",
        "문자열: 'Incredible'"
      ],
      "metadata": {
        "id": "aB3j4pe7bvOU"
      }
    },
    {
      "cell_type": "code",
      "source": [],
      "metadata": {
        "id": "OZWxVDOabvpV"
      },
      "execution_count": null,
      "outputs": []
    },
    {
      "cell_type": "markdown",
      "source": [
        "Task6_0429. 사용자의 이름과 이메일을 딕셔너리로 저장하고, 이름을 입력받아 해당하는 이메일을 출력하세요.\n",
        "\n",
        "사용자 정보: 이름 - 'Alice', 이메일 - 'alice@example.com'"
      ],
      "metadata": {
        "id": "dmJuiCA8bwEV"
      }
    },
    {
      "cell_type": "code",
      "source": [],
      "metadata": {
        "id": "QGuNl_aqbwT1"
      },
      "execution_count": null,
      "outputs": []
    },
    {
      "cell_type": "markdown",
      "source": [
        "Task7_0429. 주어진 두 튜플에서 공통 요소만을 찾아 집합으로 만드세요.\n",
        "\n",
        "튜플: (1, 2, 3, 4, 5)와 (4, 5, 6, 7, 8)\n",
        "\n",
        "Task8_Challenge_0429. 다음 요구 사항을 충족하는 프로그램을 작성하세요:\n",
        "\n",
        "사용자로부터 이름, 나이, 좋아하는 색상을 입력받습니다.\n",
        "입력받은 정보를 딕셔너리로 저장하고, 모든 사용자 정보를 리스트에 저장합니다.\n",
        "이름이 'John'인 사용자의 정보만 출력하세요.\n",
        "전체 사용자의 평균 나이를 계산하고 출력하세요.\n",
        "사용자 데이터:\n",
        "이름: John\n",
        "나이: 28\n",
        "좋아하는 색상: Blue\n",
        "사용자 데이터:\n",
        "이름: Alice\n",
        "나이: 24\n",
        "좋아하는 색상: Red\n",
        "사용자 데이터:\n",
        "이름: Maria\n",
        "나이: 32\n",
        "좋아하는 색상: Green\n"
      ],
      "metadata": {
        "id": "gjW0lyZRbwqD"
      }
    },
    {
      "cell_type": "code",
      "source": [],
      "metadata": {
        "id": "Q2mFdUA8bxJT"
      },
      "execution_count": null,
      "outputs": []
    }
  ]
}