{
  "nbformat": 4,
  "nbformat_minor": 0,
  "metadata": {
    "colab": {
      "provenance": [],
      "authorship_tag": "ABX9TyMJYn6o1mXzff8Ss8OXNuDL",
      "include_colab_link": true
    },
    "kernelspec": {
      "name": "python3",
      "display_name": "Python 3"
    },
    "language_info": {
      "name": "python"
    }
  },
  "cells": [
    {
      "cell_type": "markdown",
      "metadata": {
        "id": "view-in-github",
        "colab_type": "text"
      },
      "source": [
        "<a href=\"https://colab.research.google.com/github/windyday0622/windyday/blob/main/m2_%ED%8C%8C%EC%9D%B4%EC%8D%AC%20%ED%94%84%EB%A1%9C%EA%B7%B8%EB%9E%98%EB%B0%8D/%20%EA%B3%BC%EC%A0%9C_240510.ipynb\" target=\"_parent\"><img src=\"https://colab.research.google.com/assets/colab-badge.svg\" alt=\"Open In Colab\"/></a>"
      ]
    },
    {
      "cell_type": "markdown",
      "source": [
        "Task1_0510. try ~ except, try ~ except ~ finally, try ~ except ~else, try ~ except ~else ~finally 4가지 예외 처리가 필요한 경우에 대해서 코딩을 수행하세요."
      ],
      "metadata": {
        "id": "K4RWNFPpVo5K"
      }
    },
    {
      "cell_type": "code",
      "source": [
        "try:\n",
        "    # 예외 발생 가능한 코드\n",
        "    result = 10 / 0\n",
        "except ZeroDivisionError:\n",
        "    print(\"0으로 나눌 수 없습니다.\")"
      ],
      "metadata": {
        "id": "UOVQ6CANVvnS"
      },
      "execution_count": null,
      "outputs": []
    },
    {
      "cell_type": "code",
      "source": [
        "try:\n",
        "    # 예외 발생 가능한 코드\n",
        "    result = 10 / 0\n",
        "except ZeroDivisionError:\n",
        "    print(\"0으로 나눌 수 없습니다.\")\n",
        "finally:\n",
        "    print(\"예외 처리 완료\")"
      ],
      "metadata": {
        "id": "tthqZnckcIK7"
      },
      "execution_count": null,
      "outputs": []
    },
    {
      "cell_type": "code",
      "source": [
        "try:\n",
        "    # 예외 발생 가능한 코드\n",
        "    result = 10 / 2\n",
        "except ZeroDivisionError:\n",
        "    print(\"0으로 나눌 수 없습니다.\")\n",
        "else:\n",
        "    print(\"결과:\", result)"
      ],
      "metadata": {
        "id": "jsIgLhoUcIU7"
      },
      "execution_count": null,
      "outputs": []
    },
    {
      "cell_type": "code",
      "source": [
        "try:\n",
        "    # 예외 발생 가능한 코드\n",
        "    result = 10 / 2\n",
        "except ZeroDivisionError:\n",
        "    print(\"0으로 나눌 수 없습니다.\")\n",
        "else:\n",
        "    print(\"결과:\", result)\n",
        "finally:\n",
        "    print(\"예외 처리 완료\")"
      ],
      "metadata": {
        "id": "6XNIDJ7GcIcf"
      },
      "execution_count": null,
      "outputs": []
    },
    {
      "cell_type": "markdown",
      "source": [
        "Task2_0510. 리스트 ['52','273','32','문자','103']에서 숫자 부분만 출력하세요(예외 처리 수행)"
      ],
      "metadata": {
        "id": "7Rly1oy8Vp3O"
      }
    },
    {
      "cell_type": "code",
      "source": [
        "my_list = ['52', '273', '32', '문자', '103']\n",
        "numbers = []\n",
        "\n",
        "for item in my_list:\n",
        "    try:\n",
        "        number = int(item)\n",
        "        numbers.append(number)\n",
        "    except ValueError:\n",
        "        pass\n",
        "\n",
        "print(numbers)"
      ],
      "metadata": {
        "id": "OrxlZRbLVp9f"
      },
      "execution_count": null,
      "outputs": []
    },
    {
      "cell_type": "markdown",
      "source": [
        "Task3_0510. 두가지 시나리오를 예외처리를 하여 코드 작업을 수행하세요\n",
        "- 정수를 입력하면 > '예외 발생하지 않음' > '프로그램 종료'\n",
        "- 정수를 입력하지 않으면 > '정수 아님' > '프로그램 종료'"
      ],
      "metadata": {
        "id": "BgZ_adnZV2jU"
      }
    },
    {
      "cell_type": "code",
      "source": [
        "try:\n",
        "    num = int(input(\"정수를 입력하세요: \"))  # 사용자로부터 정수 입력 받기\n",
        "    print(\"예외 발생하지 않음\")\n",
        "except ValueError:  # 입력이 정수가 아닌 경우\n",
        "    print(\"정수 아님\")\n",
        "finally:\n",
        "    print(\"프로그램 종료\")"
      ],
      "metadata": {
        "id": "jtae2UgKV2wb"
      },
      "execution_count": null,
      "outputs": []
    },
    {
      "cell_type": "markdown",
      "source": [
        "Task4_0510. 생성자만으로 구성된 클래스를 작성하고 객체 3개를 만들어서 결과를 출력하세요."
      ],
      "metadata": {
        "id": "3CBGMLLZhZEA"
      }
    },
    {
      "cell_type": "code",
      "source": [],
      "metadata": {
        "id": "WKiNCgjPhZJ8"
      },
      "execution_count": null,
      "outputs": []
    },
    {
      "cell_type": "markdown",
      "source": [
        "Task5_0510. 생성자, 메소드를 모두 포함하는 클래스를 작성하고 객체 3개를 만들어서 결과를 출력하세요"
      ],
      "metadata": {
        "id": "dHWvFclQhZSE"
      }
    },
    {
      "cell_type": "code",
      "source": [],
      "metadata": {
        "id": "KAJSjTt2hZYq"
      },
      "execution_count": null,
      "outputs": []
    },
    {
      "cell_type": "markdown",
      "source": [],
      "metadata": {
        "id": "HQ-aiSNyhaKN"
      }
    },
    {
      "cell_type": "code",
      "source": [],
      "metadata": {
        "id": "HkMJ48uNhaR1"
      },
      "execution_count": null,
      "outputs": []
    },
    {
      "cell_type": "markdown",
      "source": [],
      "metadata": {
        "id": "lKNRc3bXhaaF"
      }
    },
    {
      "cell_type": "code",
      "source": [],
      "metadata": {
        "id": "oVKZdPPxhahF"
      },
      "execution_count": null,
      "outputs": []
    },
    {
      "cell_type": "markdown",
      "source": [],
      "metadata": {
        "id": "lcaKwzvlhap7"
      }
    },
    {
      "cell_type": "code",
      "source": [],
      "metadata": {
        "id": "CwxD_R-Vhawk"
      },
      "execution_count": null,
      "outputs": []
    },
    {
      "cell_type": "markdown",
      "source": [],
      "metadata": {
        "id": "2AcSTCP1ha5P"
      }
    },
    {
      "cell_type": "code",
      "source": [],
      "metadata": {
        "id": "HJx1s70ZhbAL"
      },
      "execution_count": null,
      "outputs": []
    }
  ]
}