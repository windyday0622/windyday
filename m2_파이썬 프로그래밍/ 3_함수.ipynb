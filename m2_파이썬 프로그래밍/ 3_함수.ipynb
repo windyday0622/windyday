{
  "nbformat": 4,
  "nbformat_minor": 0,
  "metadata": {
    "colab": {
      "provenance": [],
      "authorship_tag": "ABX9TyPVZClAqshTZb/6EK1up7en",
      "include_colab_link": true
    },
    "kernelspec": {
      "name": "python3",
      "display_name": "Python 3"
    },
    "language_info": {
      "name": "python"
    }
  },
  "cells": [
    {
      "cell_type": "markdown",
      "metadata": {
        "id": "view-in-github",
        "colab_type": "text"
      },
      "source": [
        "<a href=\"https://colab.research.google.com/github/windyday0622/windyday/blob/main/m2_%ED%8C%8C%EC%9D%B4%EC%8D%AC%20%ED%94%84%EB%A1%9C%EA%B7%B8%EB%9E%98%EB%B0%8D/%203_%ED%95%A8%EC%88%98.ipynb\" target=\"_parent\"><img src=\"https://colab.research.google.com/assets/colab-badge.svg\" alt=\"Open In Colab\"/></a>"
      ]
    },
    {
      "cell_type": "markdown",
      "source": [
        "파이썬에서 함수는 크게 내장 함수(Built-in Functions)와 외장 함수(External Functions)로 나뉩니다.\n",
        "\n",
        "파이썬 표준 라이브러리\n",
        "https://docs.python.org/ko/3.10/library/index.html\n",
        "\n",
        "1. 내장 함수 (Built-in Functions):\n",
        "- 내장 함수는 파이썬 인터프리터에 포함되어 있어, 별도의 모듈을 임포트(import)하지 않고도 사용 예를 들어, print(), len(), type(), range(), zip() 등이 내장 함수입니다.\n",
        "- 이러한 함수들은 기본적인 작업을 수행하며, 파이썬 프로그래밍의 기본적인 빌딩 블록(building blocks)으로 작동\n",
        "\n",
        "2. 외장 함수 (External Functions):\n",
        "- 표준 라이브러리에 포함된 모듈과 함수를 가리키는 것으로 모듈을 임포트하여 사용\n",
        "- 파이썬 표준 라이브러리의 os, sys, math, random, datetime 등의 모듈에는 다양한 외장 함수가 포함\n",
        "- import 해서 쓰면 됨.\n",
        "\n",
        "3. 외부 라이브러리나 패키지\n",
        "- 표준 라이브러리에 포함되지 않아 기본 설치에는 포함되지 않는다.\n",
        "- 이를 사용하려면 먼저 해당 라이브러리나 패키지를 설치\n",
        "- 외부 라이브러리는 통상적으로 파이썬의 패키지 관리자인 pip를 사용하여 설치\n",
        "- 설치 후에는 외장 함수와 마찬가지로 필요한 모듈을 임포트하여 사용\n",
        "- 예: numpy, pandas, requests 등의 외부 라이브러리에 포함된 함수들.\n",
        "\n",
        "3. 사용자 정의 함수(User-Defined Functions):\n",
        "- 사용자가 직접 정의하여 사용하는 함수\n",
        "- def 키워드를 사용하여 함수를 정의하며, 필요에 따라 매개변수와 반환 값을 지정\n",
        "\n",
        "4. 람다 함수(Lambda Functions):\n",
        "- 이름 없는 간단한 함수를 정의할 때 사용하는 익명 함수\n",
        "- lambda 키워드를 사용하여 한 줄로 함수를 정의하며, 주로 간단한 연산이 필요할 때 사용"
      ],
      "metadata": {
        "id": "A80Q_kpCD5PF"
      }
    },
    {
      "cell_type": "code",
      "source": [
        "# 내장 함수 예제\n",
        "print(\"Hello, World\")\n",
        "print(len([1, 2, 3, 4]))\n",
        "print(type(10))"
      ],
      "metadata": {
        "colab": {
          "base_uri": "https://localhost:8080/"
        },
        "id": "1BN82V1ZEK62",
        "outputId": "c04d627e-e326-409e-e99d-96b7b743d04d"
      },
      "execution_count": null,
      "outputs": [
        {
          "output_type": "stream",
          "name": "stdout",
          "text": [
            "Hello, World\n",
            "4\n",
            "<class 'int'>\n"
          ]
        }
      ]
    },
    {
      "cell_type": "code",
      "source": [
        "# Q. 내장함수로 다음을 수행하세요.\n",
        "a = [1, 2, 3, 4, 5]\n",
        "print(sum(a))\n",
        "print(max(a))\n",
        "print(min(a))\n",
        "print(sorted(a))\n",
        "print(list(reversed(a)))"
      ],
      "metadata": {
        "colab": {
          "base_uri": "https://localhost:8080/"
        },
        "id": "F2MU3EAtGYfo",
        "outputId": "e2a2f237-ce1b-4bf2-99e0-bc87681b0562"
      },
      "execution_count": null,
      "outputs": [
        {
          "output_type": "stream",
          "name": "stdout",
          "text": [
            "15\n",
            "5\n",
            "1\n",
            "[1, 2, 3, 4, 5]\n",
            "[5, 4, 3, 2, 1]\n"
          ]
        }
      ]
    },
    {
      "cell_type": "code",
      "source": [
        "print(type(42))\n",
        "print(abs(-5)) # 절대값\n",
        "print(round(3.14159, 2)) # 반올림\n",
        "print(pow(2, 3)) # 2의 3승"
      ],
      "metadata": {
        "colab": {
          "base_uri": "https://localhost:8080/"
        },
        "id": "4dlzKwlZGYif",
        "outputId": "ae7812cd-3250-4422-e8ef-d15cb66ce1af"
      },
      "execution_count": null,
      "outputs": [
        {
          "output_type": "stream",
          "name": "stdout",
          "text": [
            "<class 'int'>\n",
            "5\n",
            "3.14\n",
            "8\n"
          ]
        }
      ]
    },
    {
      "cell_type": "code",
      "source": [
        "# 외장함수 예제\n",
        "import math\n",
        "print(math.sqrt(16))\n",
        "\n",
        "import random\n",
        "print(random.randint(1,10))\n",
        "\n",
        "import datetime\n",
        "print(datetime.datetime.now())\n"
      ],
      "metadata": {
        "colab": {
          "base_uri": "https://localhost:8080/"
        },
        "id": "21qfPV-9EK9E",
        "outputId": "1da7fce1-5d9a-4522-a43b-88b02ed70b7d"
      },
      "execution_count": null,
      "outputs": [
        {
          "output_type": "stream",
          "name": "stdout",
          "text": [
            "4.0\n",
            "4\n",
            "2024-05-03 06:25:51.206665\n"
          ]
        }
      ]
    },
    {
      "cell_type": "code",
      "source": [
        "# Q. datatime.datetime.now()에서 연도, 월, 일, 시, 분, 초, 마이크로초를 각각 출력하세요.\n",
        "from datetime import datetime\n",
        "now = datetime.now()\n",
        "print(now.year)\n",
        "print(now.month)\n",
        "print(now.day)\n",
        "print(now.hour)\n",
        "print(now.minute)\n",
        "print(now.second)\n",
        "print(now.microsecond)"
      ],
      "metadata": {
        "colab": {
          "base_uri": "https://localhost:8080/"
        },
        "id": "C7gXCIX7EK_c",
        "outputId": "ac4cac38-5a2b-4a0e-992f-c6224149fa1a"
      },
      "execution_count": null,
      "outputs": [
        {
          "output_type": "stream",
          "name": "stdout",
          "text": [
            "2024\n",
            "5\n",
            "3\n",
            "6\n",
            "30\n",
            "49\n",
            "37448\n"
          ]
        }
      ]
    },
    {
      "cell_type": "code",
      "source": [
        "import os\n",
        "print(os.getcwd())\n",
        "print(os.listdir())"
      ],
      "metadata": {
        "colab": {
          "base_uri": "https://localhost:8080/"
        },
        "id": "9T6u7GNRKSjS",
        "outputId": "16bddb61-fcab-43c8-bf6e-f780e5c028be"
      },
      "execution_count": null,
      "outputs": [
        {
          "output_type": "stream",
          "name": "stdout",
          "text": [
            "/content\n",
            "['.config', 'new_folder', 'sample_data']\n"
          ]
        }
      ]
    },
    {
      "cell_type": "code",
      "source": [
        "os.mkdir('new_folder')"
      ],
      "metadata": {
        "colab": {
          "base_uri": "https://localhost:8080/",
          "height": 145
        },
        "id": "b4UQDizaKSlm",
        "outputId": "9c133c0f-707c-4c4f-d7a8-1323d499c049"
      },
      "execution_count": null,
      "outputs": [
        {
          "output_type": "error",
          "ename": "FileExistsError",
          "evalue": "[Errno 17] File exists: 'new_folder'",
          "traceback": [
            "\u001b[0;31m---------------------------------------------------------------------------\u001b[0m",
            "\u001b[0;31mFileExistsError\u001b[0m                           Traceback (most recent call last)",
            "\u001b[0;32m<ipython-input-14-8e81905ff775>\u001b[0m in \u001b[0;36m<cell line: 1>\u001b[0;34m()\u001b[0m\n\u001b[0;32m----> 1\u001b[0;31m \u001b[0mos\u001b[0m\u001b[0;34m.\u001b[0m\u001b[0mmkdir\u001b[0m\u001b[0;34m(\u001b[0m\u001b[0;34m'new_folder'\u001b[0m\u001b[0;34m)\u001b[0m\u001b[0;34m\u001b[0m\u001b[0;34m\u001b[0m\u001b[0m\n\u001b[0m",
            "\u001b[0;31mFileExistsError\u001b[0m: [Errno 17] File exists: 'new_folder'"
          ]
        }
      ]
    },
    {
      "cell_type": "code",
      "source": [
        "!ls -la"
      ],
      "metadata": {
        "colab": {
          "base_uri": "https://localhost:8080/"
        },
        "id": "os_9agxRKSnr",
        "outputId": "d37958ce-4d1f-4395-dc44-862a61a332fa"
      },
      "execution_count": null,
      "outputs": [
        {
          "output_type": "stream",
          "name": "stdout",
          "text": [
            "total 20\n",
            "drwxr-xr-x 1 root root 4096 May  3 06:37 .\n",
            "drwxr-xr-x 1 root root 4096 May  3 06:16 ..\n",
            "drwxr-xr-x 4 root root 4096 May  1 13:19 .config\n",
            "drwxr-xr-x 2 root root 4096 May  3 06:37 new_folder\n",
            "drwxr-xr-x 1 root root 4096 May  1 13:20 sample_data\n"
          ]
        }
      ]
    },
    {
      "cell_type": "code",
      "source": [
        "os.removedirs('new_folder')"
      ],
      "metadata": {
        "id": "pi2yQM6ELi30"
      },
      "execution_count": null,
      "outputs": []
    },
    {
      "cell_type": "code",
      "source": [
        "# 외부 라이브러리 예제\n",
        "# 먼저 pip을 사용하여 pandas 라이브러리를 설치합니다.\n",
        "# !pip install pandas\n",
        "\n",
        "import pandas as pd\n",
        "\n",
        "# pandas의 dataFrame 객체 생성\n",
        "data = {'Name': ['Alice', 'Bob', 'Chharlie'], 'Age': [24, 30, 35]}\n",
        "df = pd.DataFrame(data)\n",
        "\n",
        "# pandas의 head() 함수를 사용하여 DateFrame의 처음 5행 출력 (여기서는 3행만 존재)\n",
        "print(df.head(2))"
      ],
      "metadata": {
        "colab": {
          "base_uri": "https://localhost:8080/"
        },
        "id": "wTBKmy10Id3s",
        "outputId": "c6a308e0-ff6d-499c-924b-fb4d3952355d"
      },
      "execution_count": null,
      "outputs": [
        {
          "output_type": "stream",
          "name": "stdout",
          "text": [
            "    Name  Age\n",
            "0  Alice   24\n",
            "1    Bob   30\n"
          ]
        }
      ]
    },
    {
      "cell_type": "code",
      "source": [
        "import numpy as np\n",
        "data = [1, 2, 3, 4]\n",
        "arr = np.array(data)\n",
        "print(arr, type(arr))"
      ],
      "metadata": {
        "id": "OhTN3yVGId51",
        "colab": {
          "base_uri": "https://localhost:8080/"
        },
        "outputId": "c8f62c40-8bc0-4a3b-f24c-838fd68975be"
      },
      "execution_count": null,
      "outputs": [
        {
          "output_type": "stream",
          "name": "stdout",
          "text": [
            "[1 2 3 4] <class 'numpy.ndarray'>\n"
          ]
        }
      ]
    },
    {
      "cell_type": "code",
      "source": [
        "# 사용자 함수 예제\n",
        "def greet(name):\n",
        "    return f\"Hello, {name}!\"\n",
        "\n",
        "print(greet(\"홍길동\"))"
      ],
      "metadata": {
        "id": "gs_3oKu5Id73",
        "colab": {
          "base_uri": "https://localhost:8080/"
        },
        "outputId": "f2e14329-f91b-47e7-a165-34e14e7d080c"
      },
      "execution_count": null,
      "outputs": [
        {
          "output_type": "stream",
          "name": "stdout",
          "text": [
            "Hello, 홍길동!\n"
          ]
        }
      ]
    },
    {
      "cell_type": "markdown",
      "source": [
        "람다함수"
      ],
      "metadata": {
        "id": "u5kqbREVSc02"
      }
    },
    {
      "cell_type": "code",
      "source": [
        "# 람다 함수는 간단한 한 줄의 함수를 작성할 때 유용\n",
        "multiply = lambda x, y : x * y\n",
        "print(multiply(3, 4))"
      ],
      "metadata": {
        "id": "Mjd4z2E3Id9_",
        "colab": {
          "base_uri": "https://localhost:8080/"
        },
        "outputId": "11663944-27e3-42e7-e596-8246fb3a929f"
      },
      "execution_count": null,
      "outputs": [
        {
          "output_type": "stream",
          "name": "stdout",
          "text": [
            "12\n"
          ]
        }
      ]
    },
    {
      "cell_type": "code",
      "source": [
        "# 조건 사용\n",
        "is_even = lambda x: True if x % 2 == 0 else False\n",
        "print(is_even(4))\n",
        "print(is_even(5))"
      ],
      "metadata": {
        "colab": {
          "base_uri": "https://localhost:8080/"
        },
        "id": "rKgYC1QgSaou",
        "outputId": "99a10782-6d9d-43b6-af8f-79abecbedce6"
      },
      "execution_count": null,
      "outputs": [
        {
          "output_type": "stream",
          "name": "stdout",
          "text": [
            "True\n",
            "False\n"
          ]
        }
      ]
    },
    {
      "cell_type": "markdown",
      "source": [
        "#### 파이썬 패키지,  모듈, 함수, 클래스\n",
        "- 코드 작성 시 이미 만들어져 있는 함수들을 활용하면 보다 효율적이고 빠르게 개발 가능\n",
        "- 이미 만들어져 있고 안정성이 검증된 함수들을 성격에 맞게 하나의 파이썬 파일에 묶어 만들어 놓을 것을 모듈이라 함\n",
        "- 외부 모듈에 있는 함수들을 활용하려면 이 모듈을 먼저 가져와서 사용해야 하는데 이것을 모듈을 임포트한다고 한다.\n",
        "- 파이썬 모듈이 하나의 파이썬 파일이라면 패키지는 디렉토리로 볼 수 있다.\n",
        "\n",
        "패키지\n",
        "1. 라이브러리라고도 부름\n",
        "2. 특정 기능과 관련된 여러 모듈을 한 그룹으로 묶은 것\n",
        "3. 패키지 안에 서브패키지가 있을 수도 있다.\n",
        "4. import 패키지/모듈, from 패키지/모듈 import 서브패키지/모듈\n",
        "  \n",
        "   \n",
        "모듈\n",
        "1. 여러 기능들이 뭉쳐진 하나의. py파일\n",
        "2. 함수, 클래스, 변수 등 포함\n",
        "3. import 모듈\n",
        "\n",
        "함수\n",
        "1. 하나의 기능을 가진 코드의 집합\n",
        "2. 함수를 사용한다 = 함수를 호출한다\n",
        "3. 함수 사용 형태: 함수( )\n",
        "   - 필요한 경우 () 안에 매개변수 또는 옵션\n",
        "4. 종류\n",
        "   - 내장 함수(built in function)\n",
        "   - 외장 함수: import 해주어야 함\n",
        "   \n",
        "클래스   \n",
        "- 파이썬은 객체 지향 언어로클래스를 기반으로 객체를 만들어 사용한다.\n",
        "- 한 파이썬 파일(. py) 내에서 \"class class명():\"을 통해 클래스 선언"
      ],
      "metadata": {
        "id": "ivuu8MDXdtcC"
      }
    },
    {
      "cell_type": "markdown",
      "source": [
        "#### 함수 vs 메소드\n",
        "- 함수 (Function)\n",
        "    - 함수는 특정 작업을 수행하거나 값을 계산하기 위해 정의된 코드의 블록\n",
        "    - 함수는 def 키워드를 사용하여 정의\n",
        "    - 함수는 전역적으로 호출할 수 있거나 다른 함수 내부에서 호출할 수 있다.    \n",
        "- 메소드 (Method)\n",
        "    - 메소드는 객체에 속한 함수, 메소드는 특정 객체의 기능으로 정의\n",
        "    - 메소드는 객체와 연결되어 있으며, . (점) 표기법을 사용하여 해당 객체에 대한 메소드를 호출\n",
        "    - 메소드는 첫 번째 매개변수로 self를 사용하여 객체 자체를 참조 (클래스 내부에서 메소드를 정의할 때)\n",
        "- 주요 차이점\n",
        "    - 정의: 함수는 독립적으로 정의되지만, 메소드는 클래스 내부에서 정의\n",
        "    - 호출: 함수는 이름만으로 호출될 수 있지만, 메소드는 객체를 통해 호출\n",
        "    - 참조: 메소드는 첫 번째 매개변수로 객체 자신을 참조(self), 반면 함수는 이런 자체 참조 매개변수를 갖지 않는다."
      ],
      "metadata": {
        "id": "AbwO8cpSd0hw"
      }
    },
    {
      "cell_type": "code",
      "source": [
        "def my_function():\n",
        "    print(\"Hello from a function\")\n",
        "\n",
        "my_function()"
      ],
      "metadata": {
        "id": "AMfLMvI0Id_i",
        "colab": {
          "base_uri": "https://localhost:8080/"
        },
        "outputId": "7694b194-180d-4f42-d99a-4ee3a92602c5"
      },
      "execution_count": null,
      "outputs": [
        {
          "output_type": "stream",
          "name": "stdout",
          "text": [
            "Hello from a function\n"
          ]
        }
      ]
    },
    {
      "cell_type": "code",
      "source": [
        "# 메소드 호출\n",
        "class MyClass:\n",
        "    def my_method(self):\n",
        "        print(\"Hello form a method\")\n",
        "\n",
        "obj = MyClass()\n",
        "obj.my_method()"
      ],
      "metadata": {
        "id": "FfpRcAqDTbjO",
        "colab": {
          "base_uri": "https://localhost:8080/"
        },
        "outputId": "edcdf9d9-1a50-4922-dbdc-b1160ed4676e"
      },
      "execution_count": null,
      "outputs": [
        {
          "output_type": "stream",
          "name": "stdout",
          "text": [
            "Hello form a method\n"
          ]
        }
      ]
    },
    {
      "cell_type": "code",
      "source": [
        "# 내장함수 연습\n",
        "print(abs(-3))\n",
        "print(all([1, 2, 3, 0]))\n",
        "print(any([1, 2, 3, 0]))\n",
        "print(chr(65))\n",
        "print(float(3))\n",
        "print(int(3.9))\n",
        "print(max(1, 10))\n",
        "print(min(1, 10))\n",
        "print(pow(10, 2))\n",
        "print(round(2.675,2))"
      ],
      "metadata": {
        "id": "Z5QMdji8Tblm",
        "colab": {
          "base_uri": "https://localhost:8080/"
        },
        "outputId": "7475cebf-e645-455e-e8f3-4e589c3ac7f4"
      },
      "execution_count": null,
      "outputs": [
        {
          "output_type": "stream",
          "name": "stdout",
          "text": [
            "3\n",
            "False\n",
            "True\n",
            "A\n",
            "3.0\n",
            "3\n",
            "10\n",
            "1\n",
            "100\n",
            "2.67\n"
          ]
        }
      ]
    },
    {
      "cell_type": "code",
      "source": [
        "# 함수가 다른 객체와 마찬가지로 변수에 할당되거나, 다른 함수로 전달되거나, 다른 함수로부터 반환될 수 있음\n",
        "# pow를 다른 변수에 할당\n",
        "my_pow = pow\n",
        "result = my_pow(2,3)\n",
        "print(result)\n",
        "# 함수를 인자로 전달\n",
        "def apply_func(func, x, y):\n",
        "    return func(x, y)\n",
        "result = apply_func(pow, 3, 4)\n",
        "print(result)"
      ],
      "metadata": {
        "id": "wHkvoxAITbnv",
        "colab": {
          "base_uri": "https://localhost:8080/"
        },
        "outputId": "1724e81e-6def-4975-8050-f131ec559f63"
      },
      "execution_count": null,
      "outputs": [
        {
          "output_type": "stream",
          "name": "stdout",
          "text": [
            "8\n",
            "81\n"
          ]
        }
      ]
    },
    {
      "cell_type": "code",
      "source": [
        "age = 30\n",
        "print(\"I am \" + str(age) + \" years old.\")"
      ],
      "metadata": {
        "id": "PTZdtJmFTbpy",
        "colab": {
          "base_uri": "https://localhost:8080/"
        },
        "outputId": "65b75bed-02ae-4618-cfef-4fed5468c087"
      },
      "execution_count": null,
      "outputs": [
        {
          "output_type": "stream",
          "name": "stdout",
          "text": [
            "I am 30 years old.\n"
          ]
        }
      ]
    },
    {
      "cell_type": "markdown",
      "source": [
        "sort, sorted 모두 key, reverse 매개변수를 갖고 있다.\n",
        "\n",
        "* reverse : 기본값은 reverse=False(오름차순), reverse=True를 매개변수로 입력하면 내림차순으로 정렬\n",
        "* key : 정렬을 목적으로 하는 함수를 값으로 넣는다. lambda를 이용할 수 있고 key값을 기준으로 정렬되고 기본값은 오름차순"
      ],
      "metadata": {
        "id": "rs_lGBQMlkJ4"
      }
    },
    {
      "cell_type": "code",
      "source": [
        "my_list = [3, 1, 4, 2]\n",
        "print(sorted(my_list))\n",
        "my_list"
      ],
      "metadata": {
        "colab": {
          "base_uri": "https://localhost:8080/"
        },
        "id": "BA1w8lyLjOWs",
        "outputId": "f546de9c-44ba-49d9-c015-50e1e8bc42fd"
      },
      "execution_count": null,
      "outputs": [
        {
          "output_type": "stream",
          "name": "stdout",
          "text": [
            "[1, 2, 3, 4]\n"
          ]
        },
        {
          "output_type": "execute_result",
          "data": {
            "text/plain": [
              "[3, 1, 4, 2]"
            ]
          },
          "metadata": {},
          "execution_count": 8
        }
      ]
    },
    {
      "cell_type": "code",
      "source": [
        "# Q. students = [('Alice', 90), ('Bob', 85), ('Charlie', 88)]를 점수를 기준으로 정렬하세요.\n",
        "students = [('Alice', 90), ('Bob', 85), ('charlie', 88)]\n",
        "# sorted_students = sorted(students, key=lambda x:x[1]) #key는 sort 기준\n",
        "sorted_students = sorted(students, key=lambda x:x[1], reverse=True)\n",
        "print(sorted_students)"
      ],
      "metadata": {
        "colab": {
          "base_uri": "https://localhost:8080/",
          "height": 181
        },
        "id": "VwAokYpcjOZm",
        "outputId": "df2d6c4a-331b-48d1-a5c3-fb0a9011b2e1"
      },
      "execution_count": null,
      "outputs": [
        {
          "output_type": "error",
          "ename": "AttributeError",
          "evalue": "'list' object has no attribute 'item'",
          "traceback": [
            "\u001b[0;31m---------------------------------------------------------------------------\u001b[0m",
            "\u001b[0;31mAttributeError\u001b[0m                            Traceback (most recent call last)",
            "\u001b[0;32m<ipython-input-15-c5a6ecb4c7ef>\u001b[0m in \u001b[0;36m<cell line: 3>\u001b[0;34m()\u001b[0m\n\u001b[1;32m      1\u001b[0m \u001b[0;31m# Q. students = [('Alice', 90), ('Bob', 85), ('Charlie', 88)]를 점수를 기준으로 정렬하세요.\u001b[0m\u001b[0;34m\u001b[0m\u001b[0;34m\u001b[0m\u001b[0m\n\u001b[1;32m      2\u001b[0m \u001b[0mstudents\u001b[0m \u001b[0;34m=\u001b[0m \u001b[0;34m[\u001b[0m\u001b[0;34m(\u001b[0m\u001b[0;34m'Alice'\u001b[0m\u001b[0;34m,\u001b[0m \u001b[0;36m90\u001b[0m\u001b[0;34m)\u001b[0m\u001b[0;34m,\u001b[0m \u001b[0;34m(\u001b[0m\u001b[0;34m'Bob'\u001b[0m\u001b[0;34m,\u001b[0m \u001b[0;36m85\u001b[0m\u001b[0;34m)\u001b[0m\u001b[0;34m,\u001b[0m \u001b[0;34m(\u001b[0m\u001b[0;34m'charlie'\u001b[0m\u001b[0;34m,\u001b[0m \u001b[0;36m88\u001b[0m\u001b[0;34m)\u001b[0m\u001b[0;34m]\u001b[0m\u001b[0;34m\u001b[0m\u001b[0;34m\u001b[0m\u001b[0m\n\u001b[0;32m----> 3\u001b[0;31m \u001b[0mprint\u001b[0m\u001b[0;34m(\u001b[0m\u001b[0mstudents\u001b[0m\u001b[0;34m.\u001b[0m\u001b[0mitem\u001b[0m\u001b[0;34m)\u001b[0m\u001b[0;34m\u001b[0m\u001b[0;34m\u001b[0m\u001b[0m\n\u001b[0m",
            "\u001b[0;31mAttributeError\u001b[0m: 'list' object has no attribute 'item'"
          ]
        }
      ]
    },
    {
      "cell_type": "code",
      "source": [
        "print(list(range(5)))\n",
        "print(list(range(1, 6)))\n",
        "print(list(range(1, 10, 2)))\n",
        "print(list(range(0, -10, -1)))"
      ],
      "metadata": {
        "id": "07Tw990CjOcD",
        "colab": {
          "base_uri": "https://localhost:8080/"
        },
        "outputId": "6a8cec32-8ed9-428d-c632-17056417f416"
      },
      "execution_count": null,
      "outputs": [
        {
          "output_type": "stream",
          "name": "stdout",
          "text": [
            "[0, 1, 2, 3, 4]\n",
            "[1, 2, 3, 4, 5]\n",
            "[1, 3, 5, 7, 9]\n",
            "[0, -1, -2, -3, -4, -5, -6, -7, -8, -9]\n"
          ]
        }
      ]
    },
    {
      "cell_type": "code",
      "source": [
        "# Q. 실행가능한 숫자를 문자열('5+5') 입력으로 받아 문자열을 숫자 연산으로 실행한 결과괎을 출력하세요.\n",
        "print(eval(input('연산을 입력하세요.>')))"
      ],
      "metadata": {
        "id": "JVTMga2kp6Eg",
        "colab": {
          "base_uri": "https://localhost:8080/"
        },
        "outputId": "5e61b7ac-ec44-4ff6-d724-f463a0037498"
      },
      "execution_count": null,
      "outputs": [
        {
          "output_type": "stream",
          "name": "stdout",
          "text": [
            "연산을 입력하세요.>5+5\n",
            "10\n"
          ]
        }
      ]
    },
    {
      "cell_type": "code",
      "source": [
        "data = [1, 2, 3, 4, 5]\n",
        "operation = input(\"실행할 리스트 연산을 입력하세요(예: 'data.append(6) 'data.pop()')\")\n",
        "eval(operation)\n",
        "print(f'수정된 데이터: {data}')"
      ],
      "metadata": {
        "colab": {
          "base_uri": "https://localhost:8080/"
        },
        "id": "FKV2JfXvvL5t",
        "outputId": "d6231521-ea9f-4748-9ad9-b539520cd524"
      },
      "execution_count": null,
      "outputs": [
        {
          "output_type": "stream",
          "name": "stdout",
          "text": [
            "실행할 리스트 연산을 입력하세요(예: 'data.append(6) 'data.pop()')data.append(6)\n",
            "수정된 데이터: [1, 2, 3, 4, 5, 6]\n"
          ]
        }
      ]
    },
    {
      "cell_type": "code",
      "source": [
        "for idx, element in enumerate(['ele1', 'ele2', 'ele3']):\n",
        "    print(idx+1, element)"
      ],
      "metadata": {
        "id": "DTpt_W9gjOeb",
        "colab": {
          "base_uri": "https://localhost:8080/"
        },
        "outputId": "6deec376-6390-406a-e206-966efe971d8a"
      },
      "execution_count": null,
      "outputs": [
        {
          "output_type": "stream",
          "name": "stdout",
          "text": [
            "1 ele1\n",
            "2 ele2\n",
            "3 ele3\n"
          ]
        }
      ]
    },
    {
      "cell_type": "code",
      "source": [
        "# Q. enumerate와 f-string을 사용하여 특정 리스트에서 원하는 형태로 출력을 하세요.(인덱스와 내용을 믹스하여)\n",
        "list02 = ['사과', '키위', '딸기', '참외', '수박']\n",
        "\n",
        "print(\"과일의 종류\")\n",
        "for i, a in enumerate(list02):\n",
        "    print(f' {i}. {a}')"
      ],
      "metadata": {
        "id": "moiFTA9YwRXw",
        "colab": {
          "base_uri": "https://localhost:8080/"
        },
        "outputId": "09eeccb1-eea8-4241-8355-8fbd3becfbb8"
      },
      "execution_count": 27,
      "outputs": [
        {
          "output_type": "stream",
          "name": "stdout",
          "text": [
            "과일의 종류\n",
            " 0. 사과\n",
            " 1. 키위\n",
            " 2. 딸기\n",
            " 3. 참외\n",
            " 4. 수박\n"
          ]
        }
      ]
    },
    {
      "cell_type": "code",
      "source": [],
      "metadata": {
        "id": "RNbk_YNmwRaU"
      },
      "execution_count": null,
      "outputs": []
    },
    {
      "cell_type": "code",
      "source": [],
      "metadata": {
        "id": "8TUSqVCPwRc4"
      },
      "execution_count": null,
      "outputs": []
    },
    {
      "cell_type": "code",
      "source": [],
      "metadata": {
        "id": "cL6Xj6E4wRfJ"
      },
      "execution_count": null,
      "outputs": []
    },
    {
      "cell_type": "code",
      "source": [],
      "metadata": {
        "id": "wmRK2fyIwRhN"
      },
      "execution_count": null,
      "outputs": []
    },
    {
      "cell_type": "code",
      "source": [],
      "metadata": {
        "id": "s_qkRTrCwRjU"
      },
      "execution_count": null,
      "outputs": []
    }
  ]
}