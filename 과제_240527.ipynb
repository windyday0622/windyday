{
  "nbformat": 4,
  "nbformat_minor": 0,
  "metadata": {
    "colab": {
      "provenance": [],
      "authorship_tag": "ABX9TyPeLVaLJO8KigQnQNrouba9",
      "include_colab_link": true
    },
    "kernelspec": {
      "name": "python3",
      "display_name": "Python 3"
    },
    "language_info": {
      "name": "python"
    }
  },
  "cells": [
    {
      "cell_type": "markdown",
      "metadata": {
        "id": "view-in-github",
        "colab_type": "text"
      },
      "source": [
        "<a href=\"https://colab.research.google.com/github/windyday0622/windyday/blob/main/%EA%B3%BC%EC%A0%9C_240527.ipynb\" target=\"_parent\"><img src=\"https://colab.research.google.com/assets/colab-badge.svg\" alt=\"Open In Colab\"/></a>"
      ]
    },
    {
      "cell_type": "markdown",
      "source": [
        "Task1_0527. 4개의 Series를 결합하여 데이터프레임을 생성하여 출력하세요.\n",
        "- 출력한 데이터프레임에서 추출하고 싶은 5개의 데이터를 인덱싱하여 출력\n",
        "- null값을 3개 추가\n",
        "- null값의 개수를 확인하고 삭제\n",
        "- 2개의 데이터를 수정\n",
        "- 1개의 행을 삭제"
      ],
      "metadata": {
        "id": "HhW3l5bj0bdt"
      }
    },
    {
      "cell_type": "code",
      "execution_count": 2,
      "metadata": {
        "colab": {
          "base_uri": "https://localhost:8080/"
        },
        "id": "5kNGLMgs0Ws-",
        "outputId": "bf39cceb-4e7a-44ca-c33f-7b45cba2f938"
      },
      "outputs": [
        {
          "output_type": "stream",
          "name": "stdout",
          "text": [
            "초기 데이터프레임:\n",
            "   Column1 Column2  Column3  Column4\n",
            "0       10       a      1.1     True\n",
            "1       20       b      2.2    False\n",
            "2       30       c      3.3     True\n",
            "3       40       d      4.4    False\n",
            "4       50       e      5.5     True\n",
            "\n",
            "특정 데이터 5개:\n",
            "   Column1 Column2  Column3  Column4\n",
            "0       10       a      1.1     True\n",
            "1       20       b      2.2    False\n",
            "2       30       c      3.3     True\n",
            "3       40       d      4.4    False\n",
            "4       50       e      5.5     True\n",
            "\n",
            "null 값 추가된 데이터프레임:\n",
            "   Column1 Column2  Column3 Column4\n",
            "0     10.0       a      1.1     1.0\n",
            "1     20.0       b      2.2     0.0\n",
            "2     30.0       c      3.3     1.0\n",
            "3     40.0       d      4.4     0.0\n",
            "4     50.0       e      5.5     1.0\n",
            "5      NaN     NaN      NaN     NaN\n",
            "6      NaN       f      6.6   False\n",
            "7     70.0     NaN      7.7    True\n",
            "\n",
            "null 값의 총 개수: 6\n",
            "\n",
            "null 값이 있는 행이 삭제된 데이터프레임:\n",
            "   Column1 Column2  Column3 Column4\n",
            "0     10.0       a      1.1     1.0\n",
            "1     20.0       b      2.2     0.0\n",
            "2     30.0       c      3.3     1.0\n",
            "3     40.0       d      4.4     0.0\n",
            "4     50.0       e      5.5     1.0\n",
            "\n",
            "데이터 2개 수정된 데이터프레임:\n",
            "   Column1 Column2  Column3 Column4\n",
            "0    100.0       a      1.1     1.0\n",
            "1     20.0       z      2.2     0.0\n",
            "2     30.0       c      3.3     1.0\n",
            "3     40.0       d      4.4     0.0\n",
            "4     50.0       e      5.5     1.0\n",
            "\n",
            "1개의 행이 삭제된 데이터프레임:\n",
            "   Column1 Column2  Column3 Column4\n",
            "0    100.0       a      1.1     1.0\n",
            "1     20.0       z      2.2     0.0\n",
            "3     40.0       d      4.4     0.0\n",
            "4     50.0       e      5.5     1.0\n"
          ]
        }
      ],
      "source": [
        "import pandas as pd\n",
        "import numpy as np\n",
        "\n",
        "# 4개의 Series 생성\n",
        "series1 = pd.Series([10, 20, 30, 40, 50])\n",
        "series2 = pd.Series(['a', 'b', 'c', 'd', 'e'])\n",
        "series3 = pd.Series([1.1, 2.2, 3.3, 4.4, 5.5])\n",
        "series4 = pd.Series([True, False, True, False, True])\n",
        "\n",
        "# Series를 결합하여 데이터프레임 생성\n",
        "df = pd.DataFrame({\n",
        "    'Column1': series1,\n",
        "    'Column2': series2,\n",
        "    'Column3': series3,\n",
        "    'Column4': series4\n",
        "})\n",
        "\n",
        "# 데이터프레임 출력\n",
        "print(\"초기 데이터프레임:\")\n",
        "print(df)\n",
        "\n",
        "\n",
        "# 특정 데이터 5개 인덱싱하여 출력\n",
        "print(\"\\n특정 데이터 5개:\")\n",
        "print(df.iloc[0:5])\n",
        "\n",
        "\n",
        "# null 값 3개 추가\n",
        "df.loc[5] = [np.nan, np.nan, np.nan, np.nan]\n",
        "df.loc[6] = [np.nan, 'f', 6.6, False]\n",
        "df.loc[7] = [70, np.nan, 7.7, True]\n",
        "\n",
        "print(\"\\nnull 값 추가된 데이터프레임:\")\n",
        "print(df)\n",
        "\n",
        "\n",
        "# null 값 개수 확인\n",
        "null_count = df.isnull().sum().sum()\n",
        "print(\"\\nnull 값의 총 개수:\", null_count)\n",
        "\n",
        "# null 값이 있는 행 삭제\n",
        "df_cleaned = df.dropna()\n",
        "print(\"\\nnull 값이 있는 행이 삭제된 데이터프레임:\")\n",
        "print(df_cleaned)\n",
        "\n",
        "\n",
        "# 데이터 2개 수정\n",
        "df_cleaned.at[0, 'Column1'] = 100\n",
        "df_cleaned.at[1, 'Column2'] = 'z'\n",
        "\n",
        "print(\"\\n데이터 2개 수정된 데이터프레임:\")\n",
        "print(df_cleaned)\n",
        "\n",
        "\n",
        "# 1개의 행 삭제\n",
        "df_final = df_cleaned.drop(2)\n",
        "\n",
        "print(\"\\n1개의 행이 삭제된 데이터프레임:\")\n",
        "print(df_final)"
      ]
    },
    {
      "cell_type": "markdown",
      "source": [
        "Task2_0527. 학생별 성적 데이터셋으로 의미있게 데이터 셋을 수정하세요.(아래 사항 반영)\n",
        "- S1 ~ S10은 평균 점수를 기준으로 1등급에서 10등급이고 등급간 점수 차는 5점\n",
        "- 결시자가 국어 3명, 수학 2명 있음\n",
        "- 영어, 수학의 평균 점수가 국어 대비 5점 낮음"
      ],
      "metadata": {
        "id": "x-bZuuFF0c28"
      }
    },
    {
      "cell_type": "code",
      "source": [
        "import pandas as pd\n",
        "import numpy as np\n",
        "df = np.random.randint(1,5,size=(10,5))\n",
        "df=pd.DataFrame(df,index=['s1','s2','s3','s4','s5','s6','s7','s8','s9','s10'],\n",
        "               columns=['국어','영어','수학','과학','사회'])\n",
        "df"
      ],
      "metadata": {
        "id": "D--Kbu5X0dCE"
      },
      "execution_count": null,
      "outputs": []
    },
    {
      "cell_type": "code",
      "source": [
        "import pandas as pd\n",
        "import numpy as np\n",
        "\n",
        "# 초기 데이터 프레임 생성\n",
        "np.random.seed(42)  # 재현성을 위해 시드 설정\n",
        "df = np.random.randint(1, 5, size=(10, 5))\n",
        "df = pd.DataFrame(df, index=['s1', 's2', 's3', 's4', 's5', 's6', 's7', 's8', 's9', 's10'],\n",
        "                  columns=['국어', '영어', '수학', '과학', '사회'])\n",
        "\n",
        "# 국어 점수를 기준으로 등급 부여 (1등급 ~ 10등급, 등급 간 점수 차이는 5점)\n",
        "df['국어'] = [100, 95, 90, 85, 80, 75, 70, 65, 60, 55]\n",
        "\n",
        "# 국어에서 3명의 결시자 설정\n",
        "absent_korean_students = np.random.choice(df.index, 3, replace=False)\n",
        "df.loc[absent_korean_students, '국어'] = np.nan\n",
        "\n",
        "# 영어, 수학 평균 점수가 국어보다 5점 낮도록 설정\n",
        "korean_mean = df['국어'].mean()\n",
        "english_mean = korean_mean - 5\n",
        "math_mean = korean_mean - 5\n",
        "\n",
        "# 영어, 수학 점수를 평균 5점 낮게 설정\n",
        "df['영어'] = english_mean + np.random.randint(-10, 10, size=df.shape[0])\n",
        "df['수학'] = math_mean + np.random.randint(-10, 10, size=df.shape[0])\n",
        "\n",
        "# 수학에서 2명의 결시자 설정\n",
        "absent_math_students = np.random.choice(df.index, 2, replace=False)\n",
        "df.loc[absent_math_students, '수학'] = np.nan\n",
        "\n",
        "# 결과 출력\n",
        "print(df)"
      ],
      "metadata": {
        "colab": {
          "base_uri": "https://localhost:8080/"
        },
        "id": "Tj4zL0Pd26vF",
        "outputId": "b91aad39-cf63-4b35-fd5d-1badcff58834"
      },
      "execution_count": 3,
      "outputs": [
        {
          "output_type": "stream",
          "name": "stdout",
          "text": [
            "        국어         영어         수학  과학  사회\n",
            "s1   100.0  72.285714        NaN   3   3\n",
            "s2     NaN  70.285714  75.285714   3   2\n",
            "s3    90.0  81.285714        NaN   3   4\n",
            "s4    85.0  67.285714  78.285714   4   3\n",
            "s5    80.0  77.285714  66.285714   4   4\n",
            "s6    75.0  81.285714  77.285714   4   4\n",
            "s7    70.0  72.285714  80.285714   2   2\n",
            "s8     NaN  65.285714  67.285714   1   3\n",
            "s9     NaN  83.285714  81.285714   4   4\n",
            "s10   55.0  78.285714  71.285714   2   2\n"
          ]
        }
      ]
    },
    {
      "cell_type": "markdown",
      "source": [
        "Task3_0527. df1에서 결측값 처리 후 딕셔너리, 리스트로 변환하여 출력하세요."
      ],
      "metadata": {
        "id": "ofnfx0gT0dH0"
      }
    },
    {
      "cell_type": "code",
      "source": [
        "df1 = pd.DataFrame({\n",
        "    \"Name\": [\"Alice\", \"Bob\", \"Charlie\", \"David\", \"Eve\"],\n",
        "    \"Math\": [85, np.nan, 88, 90, 76],\n",
        "    \"English\": [92, 85, 89, np.nan, 80],\n",
        "    \"Science\": [78, 90, 95, 85, 89],\n",
        "    \"History\": [88, 92, 85, 91, np.nan]\n",
        "})"
      ],
      "metadata": {
        "id": "d1d9an1B0dPN"
      },
      "execution_count": null,
      "outputs": []
    },
    {
      "cell_type": "code",
      "source": [
        "import pandas as pd\n",
        "import numpy as np\n",
        "\n",
        "# 데이터프레임 생성\n",
        "df1 = pd.DataFrame({\n",
        "    \"Name\": [\"Alice\", \"Bob\", \"Charlie\", \"David\", \"Eve\"],\n",
        "    \"Math\": [85, np.nan, 88, 90, 76],\n",
        "    \"English\": [92, 85, 89, np.nan, 80],\n",
        "    \"Science\": [78, 90, 95, 85, 89],\n",
        "    \"History\": [88, 92, 85, 91, np.nan]\n",
        "})\n",
        "\n",
        "# 이름 열을 제외한 열의 결측값을 열의 평균값으로 대체\n",
        "df1_filled = df1.copy()\n",
        "df1_filled.iloc[:, 1:] = df1.iloc[:, 1:].fillna(df1.iloc[:, 1:].mean())\n",
        "\n",
        "# 딕셔너리로 변환\n",
        "df_dict = df1_filled.to_dict(orient='records')\n",
        "\n",
        "# 리스트로 변환\n",
        "df_list = df1_filled.values.tolist()\n",
        "\n",
        "print(\"DataFrame:\")\n",
        "print(df1_filled)\n",
        "print(\"\\nAs dictionary:\")\n",
        "print(df_dict)\n",
        "print(\"\\nAs list:\")\n",
        "print(df_list)"
      ],
      "metadata": {
        "colab": {
          "base_uri": "https://localhost:8080/"
        },
        "id": "bfWhuLWh2_fl",
        "outputId": "aadc68fa-d2c4-42dc-c3db-4e64f0fe5f10"
      },
      "execution_count": 5,
      "outputs": [
        {
          "output_type": "stream",
          "name": "stdout",
          "text": [
            "DataFrame:\n",
            "      Name   Math  English  Science  History\n",
            "0    Alice  85.00     92.0       78     88.0\n",
            "1      Bob  84.75     85.0       90     92.0\n",
            "2  Charlie  88.00     89.0       95     85.0\n",
            "3    David  90.00     86.5       85     91.0\n",
            "4      Eve  76.00     80.0       89     89.0\n",
            "\n",
            "As dictionary:\n",
            "[{'Name': 'Alice', 'Math': 85.0, 'English': 92.0, 'Science': 78, 'History': 88.0}, {'Name': 'Bob', 'Math': 84.75, 'English': 85.0, 'Science': 90, 'History': 92.0}, {'Name': 'Charlie', 'Math': 88.0, 'English': 89.0, 'Science': 95, 'History': 85.0}, {'Name': 'David', 'Math': 90.0, 'English': 86.5, 'Science': 85, 'History': 91.0}, {'Name': 'Eve', 'Math': 76.0, 'English': 80.0, 'Science': 89, 'History': 89.0}]\n",
            "\n",
            "As list:\n",
            "[['Alice', 85.0, 92.0, 78, 88.0], ['Bob', 84.75, 85.0, 90, 92.0], ['Charlie', 88.0, 89.0, 95, 85.0], ['David', 90.0, 86.5, 85, 91.0], ['Eve', 76.0, 80.0, 89, 89.0]]\n"
          ]
        }
      ]
    },
    {
      "cell_type": "markdown",
      "source": [
        "Task4_0527. df2에서 아래와 같이 데이터 필터링 및 정렬 후 배열, 딕셔너리, 리스트로 변환하여 출력하세요.\n",
        "- Math 점수가 80 이상인 학생만 선택\n",
        "- English 점수를 기준으로 내림차순 정렬"
      ],
      "metadata": {
        "id": "2iHtd7bx0dUk"
      }
    },
    {
      "cell_type": "code",
      "source": [
        "df2 = pd.DataFrame({\n",
        "    \"Name\": [\"Alice\", \"Bob\", \"Charlie\", \"David\", \"Eve\"],\n",
        "    \"Math\": [85, 79, 88, 90, 76],\n",
        "    \"English\": [92, 85, 89, 93, 80],\n",
        "    \"Science\": [78, 90, 95, 85, 89],\n",
        "    \"History\": [88, 92, 85, 91, 84]\n",
        "})"
      ],
      "metadata": {
        "id": "706HaCWK0da0"
      },
      "execution_count": null,
      "outputs": []
    },
    {
      "cell_type": "code",
      "source": [
        "import pandas as pd\n",
        "\n",
        "# 주어진 데이터프레임 생성\n",
        "df2 = pd.DataFrame({\n",
        "    \"Name\": [\"Alice\", \"Bob\", \"Charlie\", \"David\", \"Eve\"],\n",
        "    \"Math\": [85, 79, 88, 90, 76],\n",
        "    \"English\": [92, 85, 89, 93, 80],\n",
        "    \"Science\": [78, 90, 95, 85, 89],\n",
        "    \"History\": [88, 92, 85, 91, 84]\n",
        "})\n",
        "\n",
        "# Math 점수가 80 이상인 학생만 선택\n",
        "filtered_df = df2[df2['Math'] >= 80]\n",
        "\n",
        "# English 점수를 기준으로 내림차순 정렬\n",
        "sorted_df = filtered_df.sort_values(by='English', ascending=False)\n",
        "\n",
        "# 배열로 변환\n",
        "array_result = sorted_df.values\n",
        "\n",
        "# 딕셔너리로 변환\n",
        "dict_result = sorted_df.to_dict(orient='records')\n",
        "\n",
        "# 리스트로 변환\n",
        "list_result = sorted_df.values.tolist()\n",
        "\n",
        "print(\"배열:\")\n",
        "print(array_result)\n",
        "print(\"\\n딕셔너리:\")\n",
        "print(dict_result)\n",
        "print(\"\\n리스트:\")\n",
        "print(list_result)"
      ],
      "metadata": {
        "colab": {
          "base_uri": "https://localhost:8080/"
        },
        "id": "ig8RNhL33CWN",
        "outputId": "2f1c5070-4f2d-476f-9d1b-7a35cf1244f8"
      },
      "execution_count": 6,
      "outputs": [
        {
          "output_type": "stream",
          "name": "stdout",
          "text": [
            "배열:\n",
            "[['David' 90 93 85 91]\n",
            " ['Alice' 85 92 78 88]\n",
            " ['Charlie' 88 89 95 85]]\n",
            "\n",
            "딕셔너리:\n",
            "[{'Name': 'David', 'Math': 90, 'English': 93, 'Science': 85, 'History': 91}, {'Name': 'Alice', 'Math': 85, 'English': 92, 'Science': 78, 'History': 88}, {'Name': 'Charlie', 'Math': 88, 'English': 89, 'Science': 95, 'History': 85}]\n",
            "\n",
            "리스트:\n",
            "[['David', 90, 93, 85, 91], ['Alice', 85, 92, 78, 88], ['Charlie', 88, 89, 95, 85]]\n"
          ]
        }
      ]
    },
    {
      "cell_type": "markdown",
      "source": [
        "Task5_0527. df3에서 각 학생의 평균 점수 계산 후 배열, 딕셔너리, 리스트로 변환하여 출력하세요."
      ],
      "metadata": {
        "id": "ych1XyZc0dgl"
      }
    },
    {
      "cell_type": "code",
      "source": [
        "df3 = pd.DataFrame({\n",
        "    \"Name\": [\"Alice\", \"Bob\", \"Charlie\", \"David\", \"Eve\", \"Alice\", \"Bob\", \"Charlie\", \"David\", \"Eve\"],\n",
        "    \"Subject\": [\"Math\", \"Math\", \"Math\", \"Math\", \"Math\", \"English\", \"English\", \"English\", \"English\", \"English\"],\n",
        "    \"Score\": [85, 79, 88, 90, 76, 92, 85, 89, 93, 80]\n",
        "})"
      ],
      "metadata": {
        "id": "CV3duNi_0dl9"
      },
      "execution_count": null,
      "outputs": []
    },
    {
      "cell_type": "code",
      "source": [
        "import pandas as pd\n",
        "\n",
        "# DataFrame 생성\n",
        "df3 = pd.DataFrame({\n",
        "    \"Name\": [\"Alice\", \"Bob\", \"Charlie\", \"David\", \"Eve\", \"Alice\", \"Bob\", \"Charlie\", \"David\", \"Eve\"],\n",
        "    \"Subject\": [\"Math\", \"Math\", \"Math\", \"Math\", \"Math\", \"English\", \"English\", \"English\", \"English\", \"English\"],\n",
        "    \"Score\": [85, 79, 88, 90, 76, 92, 85, 89, 93, 80]\n",
        "})\n",
        "\n",
        "# 각 학생의 평균 점수 계산\n",
        "average_scores = df3.groupby('Name')['Score'].mean()\n",
        "\n",
        "# 배열로 변환\n",
        "average_scores_array = average_scores.values\n",
        "\n",
        "# 딕셔너리로 변환\n",
        "average_scores_dict = average_scores.to_dict()\n",
        "\n",
        "# 리스트로 변환\n",
        "average_scores_list = average_scores.reset_index().values.tolist()\n",
        "\n",
        "print(\"배열:\")\n",
        "print(average_scores_array)\n",
        "print(\"\\n딕셔너리:\")\n",
        "print(average_scores_dict)\n",
        "print(\"\\n리스트:\")\n",
        "print(average_scores_list)"
      ],
      "metadata": {
        "colab": {
          "base_uri": "https://localhost:8080/"
        },
        "id": "IufGN9_73Gpd",
        "outputId": "f75e4052-1387-4ef3-c871-96c4fd868a3b"
      },
      "execution_count": 7,
      "outputs": [
        {
          "output_type": "stream",
          "name": "stdout",
          "text": [
            "배열:\n",
            "[88.5 82.  88.5 91.5 78. ]\n",
            "\n",
            "딕셔너리:\n",
            "{'Alice': 88.5, 'Bob': 82.0, 'Charlie': 88.5, 'David': 91.5, 'Eve': 78.0}\n",
            "\n",
            "리스트:\n",
            "[['Alice', 88.5], ['Bob', 82.0], ['Charlie', 88.5], ['David', 91.5], ['Eve', 78.0]]\n"
          ]
        }
      ]
    },
    {
      "cell_type": "markdown",
      "source": [
        "Task6_0527. df4에서 특정 열의 데이터 타입을 변환한 후 변환된 타입을 확인하세요."
      ],
      "metadata": {
        "id": "g5uMIrX50dqc"
      }
    },
    {
      "cell_type": "code",
      "source": [
        "df4 = pd.DataFrame({\n",
        "    'A': ['1', '2', '3', '4'],\n",
        "    'B': ['5.1', '6.2', '7.3', '8.4'],\n",
        "    'C': ['2021-01-01', '2021-02-01', '2021-03-01', '2021-04-01']\n",
        "})"
      ],
      "metadata": {
        "id": "xMhYUk6y0dvk"
      },
      "execution_count": null,
      "outputs": []
    },
    {
      "cell_type": "code",
      "source": [
        "import pandas as pd\n",
        "\n",
        "df4 = pd.DataFrame({\n",
        "    'A': ['1', '2', '3', '4'],\n",
        "    'B': ['5.1', '6.2', '7.3', '8.4'],\n",
        "    'C': ['2021-01-01', '2021-02-01', '2021-03-01', '2021-04-01']\n",
        "})\n",
        "\n",
        "# 'B' 열의 데이터 타입을 실수(float)로 변환\n",
        "df4['B'] = df4['B'].astype(float)\n",
        "\n",
        "# 변환된 데이터프레임 정보 확인\n",
        "print(df4.info())"
      ],
      "metadata": {
        "colab": {
          "base_uri": "https://localhost:8080/"
        },
        "id": "hsNVXQ3k3Nll",
        "outputId": "33f20631-7ccf-4012-cdcd-299ac53fe05d"
      },
      "execution_count": 8,
      "outputs": [
        {
          "output_type": "stream",
          "name": "stdout",
          "text": [
            "<class 'pandas.core.frame.DataFrame'>\n",
            "RangeIndex: 4 entries, 0 to 3\n",
            "Data columns (total 3 columns):\n",
            " #   Column  Non-Null Count  Dtype  \n",
            "---  ------  --------------  -----  \n",
            " 0   A       4 non-null      object \n",
            " 1   B       4 non-null      float64\n",
            " 2   C       4 non-null      object \n",
            "dtypes: float64(1), object(2)\n",
            "memory usage: 224.0+ bytes\n",
            "None\n"
          ]
        }
      ]
    },
    {
      "cell_type": "markdown",
      "source": [
        "Task7_0527. df5에서 나이가 25 이상인 행을 출력하세요."
      ],
      "metadata": {
        "id": "Zt4ggLAJ0dz9"
      }
    },
    {
      "cell_type": "code",
      "source": [
        "df5 = pd.DataFrame({\n",
        "    'Name': ['Alice', 'Bob', 'Charlie', 'David', 'Eve'],\n",
        "    'Age': [24, 27, 22, 32, 29],\n",
        "    'City': ['New York', 'Los Angeles', 'Chicago', 'Houston', 'Phoenix']\n",
        "})"
      ],
      "metadata": {
        "id": "CHq506KY0d5N"
      },
      "execution_count": null,
      "outputs": []
    },
    {
      "cell_type": "code",
      "source": [
        "import pandas as pd\n",
        "\n",
        "df5 = pd.DataFrame({\n",
        "    'Name': ['Alice', 'Bob', 'Charlie', 'David', 'Eve'],\n",
        "    'Age': [24, 27, 22, 32, 29],\n",
        "    'City': ['New York', 'Los Angeles', 'Chicago', 'Houston', 'Phoenix']\n",
        "})\n",
        "\n",
        "# 나이가 25 이상인 행 출력\n",
        "result = df5[df5['Age'] >= 25]\n",
        "print(result)"
      ],
      "metadata": {
        "colab": {
          "base_uri": "https://localhost:8080/"
        },
        "id": "l-WtKFZ_0eDk",
        "outputId": "5df93355-eea1-45fd-c195-7c2c677e03fe"
      },
      "execution_count": 9,
      "outputs": [
        {
          "output_type": "stream",
          "name": "stdout",
          "text": [
            "    Name  Age         City\n",
            "1    Bob   27  Los Angeles\n",
            "3  David   32      Houston\n",
            "4    Eve   29      Phoenix\n"
          ]
        }
      ]
    }
  ]
}