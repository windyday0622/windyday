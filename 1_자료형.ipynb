{
  "nbformat": 4,
  "nbformat_minor": 0,
  "metadata": {
    "colab": {
      "provenance": [],
      "authorship_tag": "ABX9TyOKx6KCp9UfWIzOuxrUqS4k",
      "include_colab_link": true
    },
    "kernelspec": {
      "name": "python3",
      "display_name": "Python 3"
    },
    "language_info": {
      "name": "python"
    }
  },
  "cells": [
    {
      "cell_type": "markdown",
      "metadata": {
        "id": "view-in-github",
        "colab_type": "text"
      },
      "source": [
        "<a href=\"https://colab.research.google.com/github/windyday0622/windyday/blob/main/1_%EC%9E%90%EB%A3%8C%ED%98%95.ipynb\" target=\"_parent\"><img src=\"https://colab.research.google.com/assets/colab-badge.svg\" alt=\"Open In Colab\"/></a>"
      ]
    },
    {
      "cell_type": "code",
      "execution_count": null,
      "metadata": {
        "id": "nsslSpF8vtgI",
        "colab": {
          "base_uri": "https://localhost:8080/",
          "height": 112
        },
        "outputId": "73286efe-7e13-4d23-b07a-1a1919c69a5b"
      },
      "outputs": [
        {
          "output_type": "error",
          "ename": "SyntaxError",
          "evalue": "invalid decimal literal (<ipython-input-7-0b6cd532b9c2>, line 2)",
          "traceback": [
            "\u001b[0;36m  File \u001b[0;32m\"<ipython-input-7-0b6cd532b9c2>\"\u001b[0;36m, line \u001b[0;32m2\u001b[0m\n\u001b[0;31m    - 1990년 암스테르담의 귀도 반 로섬(Guido Van Rossum)이 개발한 인터프리터 언어\u001b[0m\n\u001b[0m         ^\u001b[0m\n\u001b[0;31mSyntaxError\u001b[0m\u001b[0;31m:\u001b[0m invalid decimal literal\n"
          ]
        }
      ],
      "source": [
        "#### 파이썬 이란\n",
        "- 1990년 암스테르담의 귀도 반 로섬(Guido Van Rossum)이 개발한 인터프리터 언어\n",
        "- 컴퓨터 프로그래밍 교육을 위해 많이 사용하지만, 기업의 실무를 위해서도 많이 사용하는 언어. 구글에서 만든 소프트웨어의 50%이상이 파이썬으로 작성\n",
        "\n",
        "#### 파이썬의 특징\n",
        "- 파이썬은 인간다운 언어이다 (=고수준 언어)\n",
        "- 파이썬은 문법이 쉬워 빠르게 배울 수 있다\n",
        "- 파이썬은 무료이지만 강력하다\n",
        "- 파이썬은 간결하다\n",
        "- 파이썬은 프로그래밍을 즐기게 해준다\n",
        "- 파이썬은 개발 속도가 빠르다\n",
        "\n",
        "#### 파이썬으로 할 수 있는 일\n",
        "- 웹 개발: Django, Flask 등의 프레임워크를 사용하여 웹 애플리케이션을 개발할 수 있습니다.\n",
        "- 데이터 분석: Pandas, NumPy(수치), SciPy(통계, 수리)와 같은 라이브러리를 사용하여 데이터를 분석하고 처리할 수 있습니다.\n",
        "- 머신 러닝과 인공지능: TensorFlow, PyTorch, Scikit-learn 등의 라이브러리를 활용하여 머신 러닝 모델을 구축하고 훈련시킬 수 있습니다.\n",
        "- 자동화: 파이썬 스크립트를 작성하여 일상적인 작업을 자동화하고, 시스템 관리 작업을 수행할 수 있습니다.\n",
        "- 게임 개발: Pygame과 같은 라이브러리를 사용하여 간단한 게임을 개발할 수 있습니다.\n",
        "- 모바일 애플리케이션 개발: Kivy 또는 BeeWare와 같은 라이브러리를 사용하여 모바일 애플리케이션을 개발할 수 있습니다.\n",
        "- 데스크탑 애플리케이션 개발: PyQt, Tkinter 등의 라이브러리를 활용하여 데스크탑 애플리케이션을 개발할 수 있습니다.\n",
        "- 시스템 스크립팅과 네트워킹: 시스템 유틸리티를 개발하거나 네트워크 프로토콜을 구현할 수 있습니다.\n",
        "- 임베디드 시스템과 하드웨어 제어: 라즈베리 파이와 같은 임베디드 시스템을 제어하고 하드웨어를 프로그래밍할 수 있습니다.\n",
        "- 사이언티픽 컴퓨팅: 과학적 연산과 시뮬레이션을 위해 파이썬을 활용할 수 있습니다.\n",
        "- 교육: 파이썬은 초보자에게 프로그래밍을 가르치는 데 이상적인 언어로 평가받고 있습니다.\n",
        "- 파이썬의 다양한 라이브러리와 프레임워크 덕분에, 이러한 분야에서의 작업이 더욱 쉽고 효율적으로 수행될 수 있습니다."
      ]
    },
    {
      "cell_type": "code",
      "source": [
        "# ! 기호는 Colab셀에서 Unix/Linux 셀 명령어를 실행\n",
        "!python--version"
      ],
      "metadata": {
        "colab": {
          "base_uri": "https://localhost:8080/"
        },
        "id": "rLxvPE8411QS",
        "outputId": "8343dbb1-de45-4709-99db-af727cfadad1"
      },
      "execution_count": null,
      "outputs": [
        {
          "output_type": "stream",
          "name": "stdout",
          "text": [
            "/bin/bash: line 1: python--version: command not found\n"
          ]
        }
      ]
    },
    {
      "cell_type": "code",
      "source": [
        "# % 기호는 IPython 환경(즉, colab이 포함된 Jupyter 환경)에서 제공하는 매직 명령어를 사용\n",
        "# 라인 매직은 단일 라인에 대해 실행되며 % 하나를 사용하고 셀 매직은 셀 전체에 적용되며 %%를 사용\n",
        "# 현재 작업폴더 확인\n",
        "%pwd"
      ],
      "metadata": {
        "id": "Fhe1CZp02D0i",
        "colab": {
          "base_uri": "https://localhost:8080/",
          "height": 36
        },
        "outputId": "c43b9af8-99cc-465c-d6c2-614220f3782c"
      },
      "execution_count": null,
      "outputs": [
        {
          "output_type": "execute_result",
          "data": {
            "text/plain": [
              "'/content'"
            ],
            "application/vnd.google.colaboratory.intrinsic+json": {
              "type": "string"
            }
          },
          "metadata": {},
          "execution_count": 9
        }
      ]
    },
    {
      "cell_type": "code",
      "source": [
        "%%time\n",
        "#간단한 for 루프를 사용한 계산\n",
        "sum = 0\n",
        "for i in range(100000):\n",
        "  sum += i\n",
        "print(sum)"
      ],
      "metadata": {
        "colab": {
          "base_uri": "https://localhost:8080/"
        },
        "id": "2kEsNzZV2-xR",
        "outputId": "b6ad45be-ec80-4556-f979-31012c7d15c9"
      },
      "execution_count": null,
      "outputs": [
        {
          "output_type": "stream",
          "name": "stdout",
          "text": [
            "4999950000\n",
            "CPU times: user 19.7 ms, sys: 825 µs, total: 20.5 ms\n",
            "Wall time: 20.5 ms\n"
          ]
        }
      ]
    },
    {
      "cell_type": "code",
      "source": [
        "#### 용어\n",
        "- 식별자 : 프로그램밍 언어에서 이름을 붙일 때 사용하는 단어. 주로 변수 또는 함수 이름 등으로 사용\n",
        "- 주석 : 프로그램을 설명하기 위해 사용. # 기호로 주석 처리\n",
        "- 연산자 : 스스로 값이 되는 것이 아니고 값과 값 사이에 무언가 기능을 적용할 때 사용\n",
        "- 자료 : 리터럴이라고 하는데 숫자이든 문자이든 어떠한 값 자체를 의미. 1, 10, \"Hello\"\n",
        "- 키워드 : 파이썬이 만들어질 때 이미 사용하겠다고 예약해 놓는 것. False, None, True, ...\n",
        "- 프로그램밍 언어에서 사용자가 이름을 정할 때 키워드는 사용할 수 없음(식별자를 키워드로 사용할 수 없음.)\n",
        "#### 식별자\n",
        "count, user_name, _is_valid, calculate_area, Car, model, year, math 및 m 모두 유효한 식별자. 각각의 식별자는 특정한 데이터 또는 기능에 이름을 부여하여 코드 내에서 해당 데이터나 기능을 참조할 수 있게하며 코드의 가독성과 유지 보수성을 높이는 데 중요한 역할"
      ],
      "metadata": {
        "id": "1p7V6arx3xIj",
        "colab": {
          "base_uri": "https://localhost:8080/",
          "height": 112
        },
        "outputId": "ccdd4b45-bd89-467c-8f6d-4dd832554504"
      },
      "execution_count": null,
      "outputs": [
        {
          "output_type": "error",
          "ename": "SyntaxError",
          "evalue": "illegal target for annotation (<ipython-input-11-4070495c74c8>, line 2)",
          "traceback": [
            "\u001b[0;36m  File \u001b[0;32m\"<ipython-input-11-4070495c74c8>\"\u001b[0;36m, line \u001b[0;32m2\u001b[0m\n\u001b[0;31m    - 식별자 : 프로그램밍 언어에서 이름을 붙일 때 사용하는 단어. 주로 변수 또는 함수 이름 등으로 사용\u001b[0m\n\u001b[0m    ^\u001b[0m\n\u001b[0;31mSyntaxError\u001b[0m\u001b[0;31m:\u001b[0m illegal target for annotation\n"
          ]
        }
      ]
    },
    {
      "cell_type": "code",
      "source": [
        "# 변수 식별자\n",
        "count = 10\n",
        "user_name = \"Alice\"\n",
        "_is_vaild + True\n",
        "\n",
        "# 함수 식별자\n",
        "def calculate_area(radius):\n",
        "  return 3.14159 * radius * radius\n",
        "\n",
        "# 클래스 식별자\n",
        "class Car:\n",
        "  def__init__(self, model, year):\n",
        "    self.model = model\n",
        "    self.year = year\n",
        "\n",
        "# 모듈 식별자\n",
        "import math as m\n"
      ],
      "metadata": {
        "id": "8NkRNeMW3ydi"
      },
      "execution_count": null,
      "outputs": []
    },
    {
      "cell_type": "code",
      "source": [
        "## 식별자 기본규칙\n",
        "* 키워드를 사용하면 안된다.\n",
        "* 특수문자는 언더 바(_)만 사용\n",
        "* 숫자로 시작하면 안된다.\n",
        "* 공백을 포함할 수 없다."
      ],
      "metadata": {
        "id": "KU1HliAE3ygF"
      },
      "execution_count": null,
      "outputs": []
    },
    {
      "cell_type": "code",
      "source": [
        "import keyword\n",
        "print(keyword.kwlist)\n",
        "len(keyword.kwlist)"
      ],
      "metadata": {
        "id": "7lAP3lGn3yk6"
      },
      "execution_count": null,
      "outputs": []
    },
    {
      "cell_type": "code",
      "source": [
        "alpha\n",
        "break #키워드\n",
        "alpha10\n",
        "_alpha\n",
        "273alpha #숫자\n",
        "AlpHa\n",
        "ALPHA\n",
        "has space #공백"
      ],
      "metadata": {
        "id": "tyfxrwFl3yol"
      },
      "execution_count": null,
      "outputs": []
    },
    {
      "cell_type": "code",
      "source": [
        "Q. 주어진 문자열 리스트에서 유효한 Python 변수 이름만을 추출하여 반환하는 함수를 작성하세요."
      ],
      "metadata": {
        "id": "9LLyxHqt3yrE"
      },
      "execution_count": null,
      "outputs": []
    },
    {
      "cell_type": "code",
      "source": [
        "identifiers = [\"var1\", \"2things\", \"variable_name\", \"time!\"]"
      ],
      "metadata": {
        "id": "5x4gY8W-Hz5S"
      },
      "execution_count": null,
      "outputs": []
    },
    {
      "cell_type": "code",
      "source": [
        "# isidentifier()는 파이썬의 문자열 메서드로, 주어진 문자열이 유효한 식별자인지를 확인\n",
        "# isidentifier()는 예약어인지는 따로 체크하지 않음\n",
        "import keyword\n",
        "def valid_identifiers(identifiers):\n",
        "  valid = []\n",
        "  for identifier in identifiers:\n",
        "    if identifier.isidentifier() and not keyword.iskeyword(identifier):\n",
        "      valid.append(identifier)\n",
        "    return valid\n",
        "\n",
        "\n",
        "# 예제 실행\n",
        "identifiers = [\"var1\", \"2things\", \"variable_name\", \"time!\", \"True\"]\n",
        "print(valid_identifiers(identifiers))"
      ],
      "metadata": {
        "id": "KPfXsqtO_KvG"
      },
      "execution_count": null,
      "outputs": []
    },
    {
      "cell_type": "code",
      "source": [
        "파이썬은 snake_case와 CamelCase를 모두 사용\n",
        "- itemlist : item_list itemList\n",
        "- loginstatus : login_status loginStatus\n",
        "- 캐멀 케이스(대문자로 시작) 클래스\n",
        "- 스네이크 케이스(소문자로 시작) 뒤에 ()가 있다 - 함수\n",
        "- 스네이크 케이스(소문자로 시작) 뒤에 ()가 없다 - 변수"
      ],
      "metadata": {
        "id": "P-RWi_wN6Nx3"
      },
      "execution_count": null,
      "outputs": []
    },
    {
      "cell_type": "code",
      "source": [
        "# 연산자\n",
        "a = 5\n",
        "b = 3\n",
        "c = b % a  #몫\n",
        "d = b // a #나머지\n",
        "e = b / a\n",
        "print(c)\n",
        "print(d)\n",
        "print(e)"
      ],
      "metadata": {
        "id": "MQaPaoSv7IqJ"
      },
      "execution_count": null,
      "outputs": []
    },
    {
      "cell_type": "code",
      "source": [
        "a = 3\n",
        "b = 5\n",
        "\n",
        "if a > b:\n",
        "  print(a)"
      ],
      "metadata": {
        "id": "QjU2bOsF7Ijh"
      },
      "execution_count": null,
      "outputs": []
    },
    {
      "cell_type": "markdown",
      "source": [
        "자료형"
      ],
      "metadata": {
        "id": "Pcg8P-C6Ah2e"
      }
    },
    {
      "cell_type": "code",
      "source": [
        "#### 자료형\n",
        "- 자료형 또는 데이터 타입이란 숫자, 문자 등과 같이 여러 종류의 데이터를 구분하기 위한 분류\n",
        "- 파이썬의 자료형은 크게 숫자(numbers), 시퀀스(sequence), 매핑(mapping) 등으로 나눌 수 있다.\n",
        "- 파이썬의 기본 자료형\n",
        "  - 수치형\n",
        "    - 정수형 : int는 정수(integer)를 나타낸다. 양의 정수와 음의 정수, 숫자 0\n",
        "    - 실수형 : float는 원래 부동소수점수(floating-point number)를 가리키는데, 지금은 단순히 소수점 이하를 표현할 수 있는 수이다.\n",
        "    - 복소수형 : 복소수를 complex로 나타내고 제곱하면 -1이 되는 수 i를 ‘허수(imaginary number)’라고 하는데 허수 i를 j로 표현\n",
        "  - 시퀀스 : 문자열(str), 리스트(list), 튜플(tuple), 사용자 정의 클래스가 시퀀스에 속한다. for 문에서 사용할 수 있는 것들이 바로 시퀀스\n",
        "    - 문자열 : 문자를 한 줄로 표현하며 문자열 인덱스를 이용해 문자열의 일부를 복사\n",
        "    - 리스트 : 대괄호([ ])로 감싸 주고 각 요솟값은 쉼표(,)로 구분\n",
        "    - 튜플 : 튜플은 ( )으로 둘러싸고 각 요솟값은 쉼표(,)로 구분\n",
        "  - 매핑\n",
        "    - 사전 : 딕셔너리(dict)는 키(key)와 값(value)의 짝으로 이뤄지는데 이런 것을 매핑\n",
        "  - 집합 : 집합을 표현하는 세트(set)\n",
        "  - 블린 : 참, 거짓을 표현"
      ],
      "metadata": {
        "id": "Js-KPO647Ibp"
      },
      "execution_count": null,
      "outputs": []
    },
    {
      "cell_type": "code",
      "source": [
        "#정수형, 실수형\n",
        "i1 = 3\n",
        "f1 = 3.5\n",
        "print(i1)\n",
        "print(f1)"
      ],
      "metadata": {
        "id": "ClFUcx-G7IWQ"
      },
      "execution_count": null,
      "outputs": []
    },
    {
      "cell_type": "code",
      "source": [
        "#정수(int)\n",
        "print(int(True))\n",
        "print(int(False))\n",
        "print(int('100'))\n",
        "print(int(3.14))"
      ],
      "metadata": {
        "id": "exyD9jTo7IPJ"
      },
      "execution_count": null,
      "outputs": []
    },
    {
      "cell_type": "code",
      "source": [
        "#실수(float)\n",
        "print(float(True))\n",
        "print(float(False))\n",
        "print(float('100'))\n",
        "print(float(3.14))"
      ],
      "metadata": {
        "id": "eUI9g6gRC2a2"
      },
      "execution_count": null,
      "outputs": []
    },
    {
      "cell_type": "code",
      "source": [
        "# 사칙연산 : +, *, /, //, %, **\n",
        "a = 10\n",
        "b = 2.3\n",
        "print(a+b)\n",
        "print(a*b)\n",
        "print(a/b)\n",
        "print(a//b)\n",
        "print(a%b)\n",
        "print(a**b)"
      ],
      "metadata": {
        "id": "7ytsE4UKC2Yt"
      },
      "execution_count": null,
      "outputs": []
    },
    {
      "cell_type": "code",
      "source": [
        "# 문자열\n",
        "string = '문자열'\n",
        "a = \"100\""
      ],
      "metadata": {
        "id": "wirtAisZC2WV"
      },
      "execution_count": null,
      "outputs": []
    },
    {
      "cell_type": "code",
      "source": [
        "print(string)\n",
        "a"
      ],
      "metadata": {
        "id": "tjVS0g2yF-nl"
      },
      "execution_count": null,
      "outputs": []
    },
    {
      "cell_type": "code",
      "source": [
        "a = 100\n",
        "b = 50\n",
        "print(a+b)\n",
        "a = '100'\n",
        "b = '50'\n",
        "print(a+b)"
      ],
      "metadata": {
        "id": "nyxraozhC2Tl"
      },
      "execution_count": null,
      "outputs": []
    },
    {
      "cell_type": "code",
      "source": [
        "a = int('100')\n",
        "b = int('50')\n",
        "print(a+b)"
      ],
      "metadata": {
        "id": "0AGTmTi-C2QG"
      },
      "execution_count": null,
      "outputs": []
    },
    {
      "cell_type": "code",
      "source": [
        "# 사용자 입력\n",
        "input('인사말을 입력하세요')"
      ],
      "metadata": {
        "id": "oTIzouU-C2KF"
      },
      "execution_count": null,
      "outputs": []
    },
    {
      "cell_type": "code",
      "source": [
        "input('안녕하세요')"
      ],
      "metadata": {
        "id": "Y-2-fBZLC2DV"
      },
      "execution_count": null,
      "outputs": []
    },
    {
      "cell_type": "code",
      "source": [
        "a = input()\n",
        "b = input()\n",
        "print(a+b)"
      ],
      "metadata": {
        "id": "sK-JnnBnGnts"
      },
      "execution_count": null,
      "outputs": []
    },
    {
      "cell_type": "code",
      "source": [
        "#input() 함수는 입력받은 데이터를 string으로 처리한다.\n",
        "a = int(input())\n",
        "b = int(input())\n",
        "print(a+b)"
      ],
      "metadata": {
        "id": "E5Z9R9ZWGnot"
      },
      "execution_count": null,
      "outputs": []
    },
    {
      "cell_type": "code",
      "source": [
        "# 실수 + 실수 -> 실수\n",
        "# Q. 3과 3.3을 입력하고 숫자 연산을 수행하여 6.3을 출력하세요.\n",
        "a = 3\n",
        "b = 3.3\n",
        "print(a+b)"
      ],
      "metadata": {
        "id": "9Fhy_iynGngt"
      },
      "execution_count": null,
      "outputs": []
    },
    {
      "cell_type": "code",
      "source": [
        "# 정수 + 실수 -> 실수\n",
        "# Q. 3과 3.3을 입력하고 숫자 연산을 수행하여 6.3을 출력하세요.\n",
        "num1 = int(input(\"정수를 입력하세요 : \"))\n",
        "num2 = float(input(\"소수점 이하를 포함한 실수를 입력하세요 : \"))\n",
        "print(num1 + num2)"
      ],
      "metadata": {
        "id": "Ox10tfr5Izy9"
      },
      "execution_count": null,
      "outputs": []
    },
    {
      "cell_type": "code",
      "source": [
        "#Q.a = 54와 b=52.273일때 a+b는 5252.273으로 출력되도록 a와 b를 문자열 자료형으로 변환하세요.\n",
        "a = 52\n",
        "b =52.273\n",
        "a = str(a)\n",
        "b = str(b)\n",
        "print(a+b)"
      ],
      "metadata": {
        "id": "9kNykZcNIzst"
      },
      "execution_count": null,
      "outputs": []
    },
    {
      "cell_type": "code",
      "source": [
        "# 문자열 : \"\", '', \"\"\"\"\"\", ''''''\n",
        "# p1 = 'python's value is great'\n",
        "p1 = \"python's value is great\"\n",
        "print(p1)"
      ],
      "metadata": {
        "id": "bdtPIVuKIzqe"
      },
      "execution_count": null,
      "outputs": []
    },
    {
      "cell_type": "code",
      "source": [
        "# 백슬래시 (\\)는 문자열 안에서 작은따옴표 (')를 문자열의 끝을 의미하지 않는 일반 문자로 포함시키기 위해 사용\n",
        "# 이 기술을 이스케이프라고 함.\n",
        "p1 = 'python\\'s value is great'\n",
        "print(p1)"
      ],
      "metadata": {
        "id": "m1Sky0tsIzn9"
      },
      "execution_count": null,
      "outputs": []
    },
    {
      "cell_type": "code",
      "source": [
        "# \\n 행 바꿈\n",
        "# y1 = \"Once you study data analysis You need Python\"\n",
        "y1 = \"Once you study data analysis\\nYou need Python\"\n",
        "print(y1)\n",
        "y2 = \"Once you study data analysis\\tYou need Python\"\n",
        "print(y2)"
      ],
      "metadata": {
        "id": "owGskmcpOLCl"
      },
      "execution_count": null,
      "outputs": []
    },
    {
      "cell_type": "code",
      "source": [
        "y2 ='''\n",
        "Once you study data analysis\n",
        "You need Python\n",
        "'''\n",
        "print(y2)\n",
        "y3 =\"\"\"\n",
        "Once you study data analysis\n",
        "You need Python\n",
        "\"\"\"\n",
        "print(y3)"
      ],
      "metadata": {
        "id": "hVTTiD9FOK-N"
      },
      "execution_count": null,
      "outputs": []
    },
    {
      "cell_type": "code",
      "source": [
        "a1 = 'Python'\n",
        "a2 =  ' is easy to learn'\n",
        "print(a1+a2)\n",
        "print(\"=\"*25)"
      ],
      "metadata": {
        "id": "KbZdiJhZOK7d"
      },
      "execution_count": null,
      "outputs": []
    },
    {
      "cell_type": "code",
      "source": [
        "a1 = '현지니는'\n",
        "a2 = '지금 커피가 먹고 싶다 '\n",
        "print(a2+a1)"
      ],
      "metadata": {
        "id": "jfrttp2PQc31"
      },
      "execution_count": null,
      "outputs": []
    },
    {
      "cell_type": "code",
      "source": [
        "# Q. 아래와 같이 출력할 수 있는 string을 만드세요\n",
        "string = '''\n",
        "\"What a wonderful world!\"\n",
        "he said loudly\n",
        "'''\n",
        "print(string)"
      ],
      "metadata": {
        "id": "lGusrXnjQcw4"
      },
      "execution_count": null,
      "outputs": []
    },
    {
      "cell_type": "code",
      "source": [
        "# Q. 다른 타입의 숫자 2개를 입력받아 큰 수를 출력하세요.\n",
        "num1 = int(input(\"정수를 입력하세요\"))\n",
        "num2 = int(input(\"정수를 입력하세요\"))\n",
        "print(num1) if num1>num2 else print(num2)"
      ],
      "metadata": {
        "id": "2AIuRLERQct9"
      },
      "execution_count": null,
      "outputs": []
    },
    {
      "cell_type": "code",
      "source": [
        "\n",
        "num1 = int(input(\"첫번째 숫자\"))\n",
        "num2 = int(input(\"두번째 숫자\"))\n",
        "if num1>num2:\n",
        "  print(num1)\n",
        "elif num1<num2:\n",
        "  print(num2)\n",
        "else:\n",
        "  print(\"큰 수가 없습니다.\")"
      ],
      "metadata": {
        "colab": {
          "base_uri": "https://localhost:8080/"
        },
        "id": "IfZLdx6jSfqN",
        "outputId": "b5d42ed5-4636-432d-b5c1-fe307407ca26"
      },
      "execution_count": null,
      "outputs": [
        {
          "output_type": "stream",
          "name": "stdout",
          "text": [
            "첫번째 숫자3\n",
            "두번째 숫자3\n",
            "큰 수가 없습니다.\n"
          ]
        }
      ]
    },
    {
      "cell_type": "markdown",
      "source": [
        "자료형 - List\n",
        "\n",
        "리스트는 [ ]로 표시하며 [ ]안의 요소를 콤마로 구분하여 순서있게 나열"
      ],
      "metadata": {
        "id": "sGOJZsOrJpyx"
      }
    },
    {
      "cell_type": "code",
      "source": [
        "list1 = [1, 2, 3, 4, 5]\n",
        "list2 = ['a', 'b', 'c']\n",
        "list3 = [1, 'a', 'abc', [1, 2, 3, 4, 5], ['a', 'b', 'c']]\n",
        "print(list1)\n",
        "print(list2)\n",
        "print(list3)"
      ],
      "metadata": {
        "colab": {
          "base_uri": "https://localhost:8080/"
        },
        "id": "hLb0iSH0SflM",
        "outputId": "14caf156-4bf2-4830-dc51-45c7c4565013"
      },
      "execution_count": null,
      "outputs": [
        {
          "output_type": "stream",
          "name": "stdout",
          "text": [
            "[1, 2, 3, 4, 5]\n",
            "['a', 'b', 'c']\n",
            "[1, 'a', 'abc', [1, 2, 3, 4, 5], ['a', 'b', 'c']]\n"
          ]
        }
      ]
    },
    {
      "cell_type": "code",
      "source": [
        "# 인덱싱\n",
        "list1 = [1, 2, 3, 4, 5]\n",
        "list1[2]\n",
        "list1[0:2]\n",
        "list1[:4]"
      ],
      "metadata": {
        "colab": {
          "base_uri": "https://localhost:8080/"
        },
        "id": "LsZjYc60Sfit",
        "outputId": "6fccbb1c-7ec5-4ebf-b5aa-dfe890102c44"
      },
      "execution_count": null,
      "outputs": [
        {
          "output_type": "execute_result",
          "data": {
            "text/plain": [
              "[1, 2, 3, 4]"
            ]
          },
          "metadata": {},
          "execution_count": 16
        }
      ]
    },
    {
      "cell_type": "code",
      "source": [
        "list3 = [1, 'a', 'abc', [1, 2, 3, 4, 5], ['a', 'b', 'c']]\n",
        "print(list3[3][2])\n",
        "print(list3[4][0])"
      ],
      "metadata": {
        "colab": {
          "base_uri": "https://localhost:8080/"
        },
        "id": "wBWNsuGqoRC-",
        "outputId": "cc3effa6-64cd-483a-c6cc-0d5b02e7cfc9"
      },
      "execution_count": null,
      "outputs": [
        {
          "output_type": "stream",
          "name": "stdout",
          "text": [
            "3\n",
            "a\n"
          ]
        }
      ]
    },
    {
      "cell_type": "code",
      "source": [
        "# 리스트 수정, 삭제\n",
        "a = [0, 1, 2, 3, 4, 5, 6, 7, 8, 9]\n",
        "b = ['a', 'b', 'c']\n",
        "a[0] = 1\n",
        "print(a)\n",
        "b[1] = 'a'\n",
        "print(b)\n",
        "del a[0]\n",
        "print(a)\n",
        "del b[1]\n",
        "print(b)"
      ],
      "metadata": {
        "colab": {
          "base_uri": "https://localhost:8080/"
        },
        "id": "0vKgVBmUoKXt",
        "outputId": "fa6b0f2c-b0ed-40b2-f81a-80bc8e87e782"
      },
      "execution_count": null,
      "outputs": [
        {
          "output_type": "stream",
          "name": "stdout",
          "text": [
            "[1, 1, 2, 3, 4, 5, 6, 7, 8, 9]\n",
            "['a', 'a', 'c']\n",
            "[1, 2, 3, 4, 5, 6, 7, 8, 9]\n",
            "['a', 'c']\n"
          ]
        }
      ]
    },
    {
      "cell_type": "code",
      "source": [
        "# 끝에서 부터 인덱싱 : -1\n",
        "a = [0, 1, 2, 3, 4, 5, 6, 7, 8, 9]\n",
        "b = ['a', 'b', 'c']\n",
        "print(a[-2])\n",
        "print(a[-4:-1])\n",
        "print(a[-4:])"
      ],
      "metadata": {
        "colab": {
          "base_uri": "https://localhost:8080/"
        },
        "id": "gAwrwYZRsi5j",
        "outputId": "6a29c145-8579-40ac-9ee8-36f225fcf1d4"
      },
      "execution_count": null,
      "outputs": [
        {
          "output_type": "stream",
          "name": "stdout",
          "text": [
            "8\n",
            "[6, 7, 8]\n",
            "[6, 7, 8, 9]\n"
          ]
        }
      ]
    },
    {
      "cell_type": "code",
      "source": [
        "# 리스트 확장\n",
        "h = [1, 2, 3]\n",
        "h.extend([4,5]) # 반복 가능한 객체의 모든 요소를 리스트에 추가\n",
        "print(h)\n",
        "h.append(6) # 단일 객체를 추가\n",
        "print(h)\n",
        "h.insert(0,5)\n",
        "print(h)"
      ],
      "metadata": {
        "colab": {
          "base_uri": "https://localhost:8080/"
        },
        "id": "OXIyZ6Cpsi38",
        "outputId": "d44123c8-8d51-46d5-ed56-e707433d17d6"
      },
      "execution_count": null,
      "outputs": [
        {
          "output_type": "stream",
          "name": "stdout",
          "text": [
            "[1, 2, 3, 4, 5]\n",
            "[1, 2, 3, 4, 5, 6]\n",
            "[5, 1, 2, 3, 4, 5, 6]\n"
          ]
        }
      ]
    },
    {
      "cell_type": "code",
      "source": [
        "Q. list1에서 다음을 수행하세요\n",
        "- 33을 출력\n",
        "- 82를 리스트에 추가\n",
        "- 87의 인덱스 구하기 - 도전\n",
        "- 인덱스 3에서 10까지의 값을 출력하고 list2에 저장한 후 내림차순 정렬하기 - 도전\n",
        "- 39를 11로 변경\n",
        "- [69,45,58] 출력\n",
        "- 짝수 인덱스의 값으로 구성된 리스트 출력하기\n",
        "- 인덱스가 가장 큰수를 삭제하기\n",
        "- 인덱스 3, 5인 값으로 4칙 연산하기\n",
        "\n",
        "list1 = [58, 45, 69, 19,  4, 87, 29, 13, 39, 15, 54, [8, 33, 11], 27, 49, 63, 98, 22, 82]"
      ],
      "metadata": {
        "colab": {
          "base_uri": "https://localhost:8080/",
          "height": 112
        },
        "id": "WooXaCLIsi1u",
        "outputId": "5a544262-cda0-4225-cd9d-23ef2d5ec0e3"
      },
      "execution_count": null,
      "outputs": [
        {
          "output_type": "error",
          "ename": "SyntaxError",
          "evalue": "invalid decimal literal (<ipython-input-43-0026c5ab9eb5>, line 2)",
          "traceback": [
            "\u001b[0;36m  File \u001b[0;32m\"<ipython-input-43-0026c5ab9eb5>\"\u001b[0;36m, line \u001b[0;32m2\u001b[0m\n\u001b[0;31m    - 33을 출력\u001b[0m\n\u001b[0m       ^\u001b[0m\n\u001b[0;31mSyntaxError\u001b[0m\u001b[0;31m:\u001b[0m invalid decimal literal\n"
          ]
        }
      ]
    },
    {
      "cell_type": "code",
      "source": [
        "list1 = [58, 45, 69, 19,  4, 87, 29, 13, 39, 15, 54, [8, 33, 11], 27, 49, 63, 98, 22, 82]\n",
        "\n",
        "print(list1[11][1])\n",
        "list1.append(82)\n",
        "print(list1)\n",
        "print(list1.index(87))\n",
        "list2 = list1[3:11]\n",
        "print(list2)\n",
        "list2.sort(reverse=True)\n",
        "print(\"list2.sort(reverse=True)\")\n",
        "print(list2)\n",
        "list1[8] = 11\n",
        "print(list1)\n",
        "list3 = list1[:-16]\n",
        "list3.sort(reverse=True)\n",
        "print(\"list3.sort(reverse=True)\")\n",
        "print(list3)\n",
        "list1[0::2]\n",
        "del list1[-1]\n",
        "print(list1)\n",
        "a = list1[3]\n",
        "b = list1[5]\n",
        "print(a+b)\n",
        "print(a*b)\n",
        "print(a/b)\n",
        "print(a-b)"
      ],
      "metadata": {
        "colab": {
          "base_uri": "https://localhost:8080/"
        },
        "id": "LkQUi069sizz",
        "outputId": "48e48a43-03ac-474c-c377-6acc19d11a23"
      },
      "execution_count": null,
      "outputs": [
        {
          "output_type": "stream",
          "name": "stdout",
          "text": [
            "33\n",
            "[58, 45, 69, 19, 4, 87, 29, 13, 39, 15, 54, [8, 33, 11], 27, 49, 63, 98, 22, 82, 82]\n",
            "5\n",
            "[19, 4, 87, 29, 13, 39, 15, 54]\n",
            "list2.sort(reverse=True)\n",
            "[87, 54, 39, 29, 19, 15, 13, 4]\n",
            "[58, 45, 69, 19, 4, 87, 29, 13, 11, 15, 54, [8, 33, 11], 27, 49, 63, 98, 22, 82, 82]\n",
            "list3.sort(reverse=True)\n",
            "[69, 58, 45]\n",
            "[58, 45, 69, 19, 4, 87, 29, 13, 11, 15, 54, [8, 33, 11], 27, 49, 63, 98, 22, 82]\n",
            "106\n",
            "1653\n",
            "0.21839080459770116\n",
            "-68\n"
          ]
        }
      ]
    },
    {
      "cell_type": "code",
      "source": [
        "print(list1)\n",
        "print(list1[7::-1])\n",
        "print(list1[7::2])\n",
        "print(list1[7::-2])"
      ],
      "metadata": {
        "colab": {
          "base_uri": "https://localhost:8080/"
        },
        "id": "Nj08ncqusiyE",
        "outputId": "75922424-87aa-4773-fdea-c5f64ee8249a"
      },
      "execution_count": null,
      "outputs": [
        {
          "output_type": "stream",
          "name": "stdout",
          "text": [
            "[58, 45, 69, 19, 4, 87, 29, 13, 11, 15, 54, [8, 33, 11], 27, 49, 63, 98, 22, 82]\n",
            "[13, 29, 87, 4, 19, 69, 45, 58]\n",
            "[13, 15, [8, 33, 11], 49, 98, 82]\n",
            "[13, 87, 19, 45]\n"
          ]
        }
      ]
    },
    {
      "cell_type": "code",
      "source": [
        "1. 메서드 vs 함수:\n",
        "- sort(): 리스트 객체의 내장 메서드입니다. 즉, 리스트에서만 사용할 수 있습니다.\n",
        "- sorted(): 내장 함수로, 어떤 반복 가능한(iterable) 객체에도 사용될 수 있습니다. 예를 들면 리스트, 튜플, 딕셔너리, 문자열 등에 사용할 수 있습니다.\n",
        "\n",
        "2. 반환 값:\n",
        "- sort(): 리스트를 원 위치에서(in-place) 정렬하고 None을 반환합니다. 따라서 원래의 리스트 자체가 변경됩니다.\n",
        "- sorted(): 정렬된 새로운 리스트를 반환합니다. 원래의 객체는 변경되지 않습니다.\n",
        "\n",
        "3. 유용성:\n",
        "- sort(): 리스트에서만 작동하기 때문에 리스트만 정렬할 수 있습니다.\n",
        "- sorted(): 다양한 객체를 정렬할 수 있으며 결과는 항상 리스트로 반환됩니다."
      ],
      "metadata": {
        "id": "br9WsdmVsiwM"
      },
      "execution_count": null,
      "outputs": []
    },
    {
      "cell_type": "code",
      "source": [
        "# sort()\n",
        "my_list = [3, 1, 2]\n",
        "my_list.sort()\n",
        "print(my_list)\n",
        "\n",
        "# sorted()\n",
        "my_tuple = (3, 1, 2)\n",
        "new_list = sorted(my_tuple)\n",
        "print(my_tuple)\n",
        "print(new_list)"
      ],
      "metadata": {
        "colab": {
          "base_uri": "https://localhost:8080/"
        },
        "id": "IQvt8mpzsiuN",
        "outputId": "d0ec9e20-1689-48f1-88c9-cbb067d2e459"
      },
      "execution_count": null,
      "outputs": [
        {
          "output_type": "stream",
          "name": "stdout",
          "text": [
            "[1, 2, 3]\n",
            "(3, 1, 2)\n",
            "[1, 2, 3]\n"
          ]
        }
      ]
    },
    {
      "cell_type": "code",
      "source": [
        "list = [5, 6, 7, 8, 9]\n",
        "new_list = list.sort()\n",
        "print(list)\n",
        "print(new_list)"
      ],
      "metadata": {
        "colab": {
          "base_uri": "https://localhost:8080/"
        },
        "id": "mcKrIic6sisi",
        "outputId": "1453ccae-23d8-4b75-c5f8-7568d6f19175"
      },
      "execution_count": null,
      "outputs": [
        {
          "output_type": "stream",
          "name": "stdout",
          "text": [
            "[5, 6, 7, 8, 9]\n",
            "None\n"
          ]
        }
      ]
    },
    {
      "cell_type": "code",
      "source": [
        "list = [5, 6, 9, 7, 8]\n",
        "new_list = sorted(list)\n",
        "print(list)\n",
        "print(new_list)"
      ],
      "metadata": {
        "colab": {
          "base_uri": "https://localhost:8080/"
        },
        "id": "y4mnvmmwsiqU",
        "outputId": "aed82083-78d8-441f-a508-7755131b28d6"
      },
      "execution_count": null,
      "outputs": [
        {
          "output_type": "stream",
          "name": "stdout",
          "text": [
            "[5, 6, 9, 7, 8]\n",
            "[5, 6, 7, 8, 9]\n"
          ]
        }
      ]
    },
    {
      "cell_type": "code",
      "source": [
        "list1 = [58, 45, 69, 19,  4, 87, 29, 13, 39, 15, 54, [8, 33, 11], 27, 49, 63, 98, 22, 82]\n",
        "list2 = list1[3:11]\n",
        "print(list2)\n",
        "l_sort = sorted(list2,reverse=True)\n",
        "l_sort"
      ],
      "metadata": {
        "colab": {
          "base_uri": "https://localhost:8080/"
        },
        "id": "oiUhIWDXsioU",
        "outputId": "0045a897-8143-4d5a-8acf-1fcee18e342a"
      },
      "execution_count": null,
      "outputs": [
        {
          "output_type": "stream",
          "name": "stdout",
          "text": [
            "[19, 4, 87, 29, 13, 39, 15, 54]\n"
          ]
        },
        {
          "output_type": "execute_result",
          "data": {
            "text/plain": [
              "[87, 54, 39, 29, 19, 15, 13, 4]"
            ]
          },
          "metadata": {},
          "execution_count": 5
        }
      ]
    },
    {
      "cell_type": "code",
      "source": [
        "list3 = list1[3:11]\n",
        "list3.sort(reverse=True)\n",
        "print(list3)"
      ],
      "metadata": {
        "colab": {
          "base_uri": "https://localhost:8080/"
        },
        "id": "44xEEdU6simM",
        "outputId": "97ea9944-d3d1-4024-be17-6c62255dc832"
      },
      "execution_count": null,
      "outputs": [
        {
          "output_type": "stream",
          "name": "stdout",
          "text": [
            "[87, 54, 29, 19, 15, 13, 11, 4]\n"
          ]
        }
      ]
    },
    {
      "cell_type": "code",
      "source": [
        "Task1_0425. 주어진 숫자 리스트에서 최소값과 최대값을 찾아 출력하세요.\n",
        "\n",
        "numbers = [58, 45, 69, 19, 4, 87, 29, 13, 39, 15]"
      ],
      "metadata": {
        "id": "eCMoBVyNHML3"
      },
      "execution_count": null,
      "outputs": []
    },
    {
      "cell_type": "code",
      "source": [
        "numbers = [58, 45, 69, 19, 4, 87, 29, 13, 39, 15]\n",
        "l_sort = sorted(numbers,reverse=True)\n",
        "l_sort\n",
        "print(l_sort[0])\n",
        "print(l_sort[-1])"
      ],
      "metadata": {
        "colab": {
          "base_uri": "https://localhost:8080/"
        },
        "id": "ASsfAK11Hba6",
        "outputId": "f8a664c1-2bac-4043-e56f-fcaa82311ea1"
      },
      "execution_count": null,
      "outputs": [
        {
          "output_type": "stream",
          "name": "stdout",
          "text": [
            "87\n",
            "4\n"
          ]
        }
      ]
    },
    {
      "cell_type": "code",
      "source": [
        "#리스트 정의\n",
        "numbers = [58, 45, 69, 19, 4, 87, 29, 13, 39, 15]\n",
        "\n",
        "#최소값과 최대갑 찾기\n",
        "min_value = min(numbers)\n",
        "max_value = max(numbers)\n",
        "\n",
        "# 결과 출력\n",
        "print(f\"최소값: {min_value}, 최대값 : {max_value}\")"
      ],
      "metadata": {
        "colab": {
          "base_uri": "https://localhost:8080/"
        },
        "id": "GBD8wsW1xmUc",
        "outputId": "475d3623-9988-479d-b33b-caeec4950446"
      },
      "execution_count": null,
      "outputs": [
        {
          "output_type": "stream",
          "name": "stdout",
          "text": [
            "chlthrkqt: 4, 최대값 : 87\n"
          ]
        }
      ]
    },
    {
      "cell_type": "code",
      "source": [
        "# 최소값과 최대값을 첫 번째 요소로 초기화합니다,\n",
        "min_value = numbers[0]\n",
        "max_value = naumbers[0]\n",
        "\n",
        "# 리스트의 모든 요소를 순회합니다.\n",
        "for number in numbers:\n",
        "  # 현재 요소가 현재 최소값보다 작으면 최소값을 갱신합니다.\n",
        "  if number < min_value:\n",
        "    min_value"
      ],
      "metadata": {
        "colab": {
          "base_uri": "https://localhost:8080/",
          "height": 224
        },
        "id": "48IjKQHOy4KF",
        "outputId": "c4e86a37-c6d6-4d32-de21-10655e05ee8f"
      },
      "execution_count": null,
      "outputs": [
        {
          "output_type": "error",
          "ename": "NameError",
          "evalue": "name 'naumbers' is not defined",
          "traceback": [
            "\u001b[0;31m---------------------------------------------------------------------------\u001b[0m",
            "\u001b[0;31mNameError\u001b[0m                                 Traceback (most recent call last)",
            "\u001b[0;32m<ipython-input-7-f2d165dff1ac>\u001b[0m in \u001b[0;36m<cell line: 3>\u001b[0;34m()\u001b[0m\n\u001b[1;32m      1\u001b[0m \u001b[0;31m# 최소값과 최대값을 첫 번째 요소로 초기화합니다,\u001b[0m\u001b[0;34m\u001b[0m\u001b[0;34m\u001b[0m\u001b[0m\n\u001b[1;32m      2\u001b[0m \u001b[0mmin_value\u001b[0m \u001b[0;34m=\u001b[0m \u001b[0mnumbers\u001b[0m\u001b[0;34m[\u001b[0m\u001b[0;36m0\u001b[0m\u001b[0;34m]\u001b[0m\u001b[0;34m\u001b[0m\u001b[0;34m\u001b[0m\u001b[0m\n\u001b[0;32m----> 3\u001b[0;31m \u001b[0mmax_value\u001b[0m \u001b[0;34m=\u001b[0m \u001b[0mnaumbers\u001b[0m\u001b[0;34m[\u001b[0m\u001b[0;36m0\u001b[0m\u001b[0;34m]\u001b[0m\u001b[0;34m\u001b[0m\u001b[0;34m\u001b[0m\u001b[0m\n\u001b[0m\u001b[1;32m      4\u001b[0m \u001b[0;34m\u001b[0m\u001b[0m\n\u001b[1;32m      5\u001b[0m \u001b[0;31m# 리스트의 모든 요소를 순회합니다.\u001b[0m\u001b[0;34m\u001b[0m\u001b[0;34m\u001b[0m\u001b[0m\n",
            "\u001b[0;31mNameError\u001b[0m: name 'naumbers' is not defined"
          ]
        }
      ]
    },
    {
      "cell_type": "code",
      "source": [
        "Task2_0425. 주어진 숫자 리스트의 모든 요소의 합계와 평균을 계산하고 출력하세요\n",
        "\n",
        "numbers = [58, 45, 69, 19, 4, 87, 29, 13, 39, 15]"
      ],
      "metadata": {
        "id": "v22fl_h_HMOM"
      },
      "execution_count": null,
      "outputs": []
    },
    {
      "cell_type": "code",
      "source": [
        "numbers = [58, 45, 69, 19, 4, 87, 29, 13, 39, 15]\n",
        "result = sum(numbers)\n",
        "print(result)\n",
        "\n",
        "result1 = len(numbers)\n",
        "print(result1)\n",
        "print(result/result1)"
      ],
      "metadata": {
        "colab": {
          "base_uri": "https://localhost:8080/"
        },
        "id": "deUr3tO4Hq2B",
        "outputId": "fb2a3063-5035-46b7-891e-ba6440d0aeda"
      },
      "execution_count": null,
      "outputs": [
        {
          "output_type": "stream",
          "name": "stdout",
          "text": [
            "378\n",
            "10\n",
            "37.8\n"
          ]
        }
      ]
    },
    {
      "cell_type": "code",
      "source": [
        "Task3_0425. 주어진 리스트에서 특정 요소가 등장하는 모든 인덱스를 리스트로 만들어 출력하세요.\n",
        "\n",
        "items = ['apple', 'banana', 'cherry', 'apple', 'cherry', 'apple']\n",
        "target = 'apple'"
      ],
      "metadata": {
        "id": "GwrSd-iyHMP9"
      },
      "execution_count": null,
      "outputs": []
    },
    {
      "cell_type": "code",
      "source": [
        "items = ['apple', 'banana', 'cherry', 'apple', 'cherry', 'apple']\n",
        "target = 'apple'\n",
        "indices = [index for index, item in enumerate(items) if item == target]\n",
        "print(indices)"
      ],
      "metadata": {
        "colab": {
          "base_uri": "https://localhost:8080/"
        },
        "id": "6HtoRH_tHrQq",
        "outputId": "739e9cb7-ddba-457e-c038-99df7b1efc14"
      },
      "execution_count": null,
      "outputs": [
        {
          "output_type": "stream",
          "name": "stdout",
          "text": [
            "[0, 3, 5]\n"
          ]
        }
      ]
    },
    {
      "cell_type": "code",
      "source": [
        "Task4_0425. 주어진 리스트에서 연속해서 반복되는 요소만 제거하고, 결과 리스트를 반환하세요. 단, 처음 등장하는 요소는 유지해야 합니다.\n",
        "\n",
        "예를 들어, ['a', 'a', 'b', 'c', 'c', 'c', 'd', 'e', 'e']가 입력되면, ['a', 'b', 'c', 'd', 'e']를 출력해야 합니다."
      ],
      "metadata": {
        "id": "qDFZFO88HMRz"
      },
      "execution_count": null,
      "outputs": []
    },
    {
      "cell_type": "code",
      "source": [
        "li = ['a', 'a', 'b', 'c', 'c', 'c', 'd', 'e', 'e']\n",
        "result = [li[0]]\n",
        "for i in li[1:]:\n",
        "  if i != result[-1]:\n",
        "    result.append(i)\n",
        "print(result)\n"
      ],
      "metadata": {
        "id": "XnaOXEJ-VcVm",
        "colab": {
          "base_uri": "https://localhost:8080/"
        },
        "outputId": "020d68bd-37e9-4461-b569-dda6ef5d9cb1"
      },
      "execution_count": null,
      "outputs": [
        {
          "output_type": "stream",
          "name": "stdout",
          "text": [
            "['a', 'b', 'c', 'd', 'e']\n"
          ]
        }
      ]
    },
    {
      "cell_type": "code",
      "source": [
        "Task5_0425 주어진 정수 리스트와 회전 횟수 k에 대해 리스트를 오른쪽으로 k만큼 회전(이동)시킨 결과를 반환하세요. k가 리스트의 길이보다 클 수 있으며, 이 경우 k를 리스트 길이로 나눈 나머지만큼 실제 회전시키면 됩니다.\n",
        "\n",
        "예를 들어, [1, 2, 3, 4, 5]와 k=2가 주어지면, 결과는 [4, 5, 1, 2, 3]이 되어야 합니다."
      ],
      "metadata": {
        "id": "V5GLRTItHMTz"
      },
      "execution_count": null,
      "outputs": []
    },
    {
      "cell_type": "code",
      "source": [
        "def rotate_list(nums, k):\n",
        "  if not nums:\n",
        "    return nums\n",
        "  # 회전 횟수를 리스트 길이로 나눈 나머지로 계산\n",
        "  k = k % len(nums)\n",
        "  # 리스트의 끝부분을 앞으로, 앞부분을 끝으로 옮김\n",
        "  rotated = nums[-k:] + nums[:-k]\n",
        "  return rotated\n",
        "\n",
        "# 리스트의 정의\n",
        "nums =[1, 2, 3, 4, 5]\n",
        "k = 2\n",
        "# 결과 출력\n",
        "print(rotate_list(nums, k))"
      ],
      "metadata": {
        "id": "wV28h2LVUJs2",
        "colab": {
          "base_uri": "https://localhost:8080/"
        },
        "outputId": "adfba4b3-ed7b-4588-b1ac-2c1e267eae31"
      },
      "execution_count": null,
      "outputs": [
        {
          "output_type": "stream",
          "name": "stdout",
          "text": [
            "[4, 5, 1, 2, 3]\n"
          ]
        }
      ]
    },
    {
      "cell_type": "markdown",
      "source": [
        "자료형 - Tuple\n",
        "\n",
        "- 튜플은 변경할 수 없는 (immutable) 순서가 있는 컬렉션\n",
        "- 프로그램에서 그 값이 항상 변하지 않아야되는 경우 사용"
      ],
      "metadata": {
        "id": "VpSyFe5tJBfR"
      }
    },
    {
      "cell_type": "code",
      "source": [
        "tuple1 = (1, 2, 3, 4, 5)\n",
        "tuple2 = ('a', 'b', 'c')\n",
        "tuple3 = (1, 'a', 'abc', [1, 2, 3, 4, 5], ['a', 'b', 'c'])\n",
        "\n",
        "print(tuple1[:])\n",
        "print(tuple1[2])\n",
        "tuple3[3][2]"
      ],
      "metadata": {
        "id": "vgg2LXpfHr-Z",
        "colab": {
          "base_uri": "https://localhost:8080/"
        },
        "outputId": "662d5e84-e7f8-41c4-83ce-21ba4ca390fd"
      },
      "execution_count": null,
      "outputs": [
        {
          "output_type": "stream",
          "name": "stdout",
          "text": [
            "(1, 2, 3, 4, 5)\n",
            "3\n"
          ]
        },
        {
          "output_type": "execute_result",
          "data": {
            "text/plain": [
              "3"
            ]
          },
          "metadata": {},
          "execution_count": 16
        }
      ]
    },
    {
      "cell_type": "code",
      "source": [
        "list = [1, 2, 3, 4, 5]\n",
        "list[0] = 0\n",
        "list"
      ],
      "metadata": {
        "id": "EJcEmwchHMV0",
        "colab": {
          "base_uri": "https://localhost:8080/"
        },
        "outputId": "89109641-c2fa-4ce8-c392-f3013274bb30"
      },
      "execution_count": null,
      "outputs": [
        {
          "output_type": "execute_result",
          "data": {
            "text/plain": [
              "[0, 2, 3, 4, 5]"
            ]
          },
          "metadata": {},
          "execution_count": 18
        }
      ]
    },
    {
      "cell_type": "code",
      "source": [
        "# 튜플의 요소 값은 변경할 수 없음\n",
        "tuple = (1, 2, 3, 4, 5)\n",
        "tuple[0] = 0\n",
        "tuple"
      ],
      "metadata": {
        "id": "96Z_CO07HMXq",
        "colab": {
          "base_uri": "https://localhost:8080/",
          "height": 205
        },
        "outputId": "6211b83c-4f98-46f1-e85d-a66848de2470"
      },
      "execution_count": null,
      "outputs": [
        {
          "output_type": "error",
          "ename": "TypeError",
          "evalue": "'tuple' object does not support item assignment",
          "traceback": [
            "\u001b[0;31m---------------------------------------------------------------------------\u001b[0m",
            "\u001b[0;31mTypeError\u001b[0m                                 Traceback (most recent call last)",
            "\u001b[0;32m<ipython-input-20-edd3f64f67c9>\u001b[0m in \u001b[0;36m<cell line: 3>\u001b[0;34m()\u001b[0m\n\u001b[1;32m      1\u001b[0m \u001b[0;31m# 튜플의 요소 값은 변경할 수 없음\u001b[0m\u001b[0;34m\u001b[0m\u001b[0;34m\u001b[0m\u001b[0m\n\u001b[1;32m      2\u001b[0m \u001b[0mtuple\u001b[0m \u001b[0;34m=\u001b[0m \u001b[0;34m(\u001b[0m\u001b[0;36m1\u001b[0m\u001b[0;34m,\u001b[0m \u001b[0;36m2\u001b[0m\u001b[0;34m,\u001b[0m \u001b[0;36m3\u001b[0m\u001b[0;34m,\u001b[0m \u001b[0;36m4\u001b[0m\u001b[0;34m,\u001b[0m \u001b[0;36m5\u001b[0m\u001b[0;34m)\u001b[0m\u001b[0;34m\u001b[0m\u001b[0;34m\u001b[0m\u001b[0m\n\u001b[0;32m----> 3\u001b[0;31m \u001b[0mtuple\u001b[0m\u001b[0;34m[\u001b[0m\u001b[0;36m0\u001b[0m\u001b[0;34m]\u001b[0m \u001b[0;34m=\u001b[0m \u001b[0;36m0\u001b[0m\u001b[0;34m\u001b[0m\u001b[0;34m\u001b[0m\u001b[0m\n\u001b[0m\u001b[1;32m      4\u001b[0m \u001b[0mtuple\u001b[0m\u001b[0;34m\u001b[0m\u001b[0;34m\u001b[0m\u001b[0m\n",
            "\u001b[0;31mTypeError\u001b[0m: 'tuple' object does not support item assignment"
          ]
        }
      ]
    },
    {
      "cell_type": "code",
      "source": [
        "t1 = (1,) # 1개의 요소만 가질 때에는 요소 뒤에 콤마를 붙여야 함.\n",
        "print(t1)\n",
        "type(t1)"
      ],
      "metadata": {
        "id": "3HKcKZOjHMZb",
        "colab": {
          "base_uri": "https://localhost:8080/"
        },
        "outputId": "28e6df2e-a7be-416b-fc2b-5a1b44715059"
      },
      "execution_count": null,
      "outputs": [
        {
          "output_type": "stream",
          "name": "stdout",
          "text": [
            "(1,)\n"
          ]
        },
        {
          "output_type": "execute_result",
          "data": {
            "text/plain": [
              "tuple"
            ]
          },
          "metadata": {},
          "execution_count": 21
        }
      ]
    },
    {
      "cell_type": "code",
      "source": [
        "t2 = 1, 2, 3\n",
        "print(t2)\n",
        "type(t2)"
      ],
      "metadata": {
        "colab": {
          "base_uri": "https://localhost:8080/"
        },
        "id": "nDItfCqtLcZp",
        "outputId": "9d0f99f9-edd1-47b8-f443-5f33bc19d0ad"
      },
      "execution_count": null,
      "outputs": [
        {
          "output_type": "stream",
          "name": "stdout",
          "text": [
            "(1, 2, 3)\n"
          ]
        },
        {
          "output_type": "execute_result",
          "data": {
            "text/plain": [
              "tuple"
            ]
          },
          "metadata": {},
          "execution_count": 22
        }
      ]
    },
    {
      "cell_type": "code",
      "source": [
        "print(t2*3)"
      ],
      "metadata": {
        "colab": {
          "base_uri": "https://localhost:8080/"
        },
        "id": "I7eiJP5pLcXX",
        "outputId": "35f2c61c-82a2-4b59-9bd8-1bf3683abcf1"
      },
      "execution_count": null,
      "outputs": [
        {
          "output_type": "stream",
          "name": "stdout",
          "text": [
            "(1, 2, 3, 1, 2, 3, 1, 2, 3)\n"
          ]
        }
      ]
    },
    {
      "cell_type": "code",
      "source": [
        "t1+t2"
      ],
      "metadata": {
        "colab": {
          "base_uri": "https://localhost:8080/"
        },
        "id": "4IB6sjv7LcVw",
        "outputId": "e15e1a96-9c5f-4aaf-d1ea-a5710b2227b4"
      },
      "execution_count": null,
      "outputs": [
        {
          "output_type": "execute_result",
          "data": {
            "text/plain": [
              "(1, 1, 2, 3)"
            ]
          },
          "metadata": {},
          "execution_count": 24
        }
      ]
    },
    {
      "cell_type": "markdown",
      "source": [
        "Q. 'red', 'green', 'blue' 값을 갖는 튜플에서 각 값을 각각 r, g, b변수에 할당하고 출력하세요"
      ],
      "metadata": {
        "id": "Guj4a81lOJof"
      }
    },
    {
      "cell_type": "code",
      "source": [
        "colors = ('red', 'green', 'blue')\n",
        "r, g, b = colors\n",
        "print(r)\n",
        "print(g)\n",
        "print(b)"
      ],
      "metadata": {
        "colab": {
          "base_uri": "https://localhost:8080/"
        },
        "id": "7aT2LZpwLcPA",
        "outputId": "318b6f06-8acb-415e-ddb4-279667d0369a"
      },
      "execution_count": null,
      "outputs": [
        {
          "output_type": "stream",
          "name": "stdout",
          "text": [
            "red\n",
            "green\n",
            "blue\n"
          ]
        }
      ]
    },
    {
      "cell_type": "markdown",
      "source": [
        "함수에서 여러 값을 반환할 때 튜플을 사용하는 것이 일반적입니다.\n",
        "\n",
        "Q. 주어진 리스트의 총합과 평균을 동시에 반환하는 함수를 작성하세요.\n",
        "\n",
        "numbers = [10, 20, 30, 40, 50]"
      ],
      "metadata": {
        "id": "VNbLV9ItOzCn"
      }
    },
    {
      "cell_type": "code",
      "source": [
        "def calculate_sum_and_average(numbers):\n",
        "  total = sum(numbers)\n",
        "  average = total / len(numbers)\n",
        "  return (total, average) # 튜플로 총합과 평균 반환\n",
        "\n",
        "  numbers = [10, 20, 30, 40, 50]\n",
        "  total, average = calculate_sum_and_average(numbers)\n",
        "  print(\"총합:\", total, \"평균:\", average)"
      ],
      "metadata": {
        "id": "E1XP-YV1LcNA"
      },
      "execution_count": null,
      "outputs": []
    },
    {
      "cell_type": "markdown",
      "source": [
        "자료형- 사전\n",
        "\n",
        "- 키와 값을 하나의 요소로 하는 순서가 없는 집합"
      ],
      "metadata": {
        "id": "Fg-UQ_TLROBf"
      }
    },
    {
      "cell_type": "code",
      "source": [
        "{a:1, b:2}"
      ],
      "metadata": {
        "id": "BxPTN9HtLcKg"
      },
      "execution_count": null,
      "outputs": []
    },
    {
      "cell_type": "code",
      "source": [
        "d1 = {'a':1, 'b':2, 'c':3}\n",
        "print(d1['a'])"
      ],
      "metadata": {
        "colab": {
          "base_uri": "https://localhost:8080/"
        },
        "id": "gtQ7G4frRYIX",
        "outputId": "4f7a9693-7f32-4fa3-c331-e32b7afbcc8e"
      },
      "execution_count": null,
      "outputs": [
        {
          "output_type": "stream",
          "name": "stdout",
          "text": [
            "1\n"
          ]
        }
      ]
    },
    {
      "cell_type": "code",
      "source": [
        "d1.keys()"
      ],
      "metadata": {
        "colab": {
          "base_uri": "https://localhost:8080/"
        },
        "id": "cZJRmcVJRYD-",
        "outputId": "85849779-0742-4590-fe27-1ece242b52f5"
      },
      "execution_count": null,
      "outputs": [
        {
          "output_type": "execute_result",
          "data": {
            "text/plain": [
              "dict_keys(['a', 'b', 'c'])"
            ]
          },
          "metadata": {},
          "execution_count": 32
        }
      ]
    },
    {
      "cell_type": "code",
      "source": [
        "d1.values()"
      ],
      "metadata": {
        "colab": {
          "base_uri": "https://localhost:8080/"
        },
        "id": "1Vw-uW4PRYCW",
        "outputId": "a69c25af-a26d-4e43-a645-93e1aea72bba"
      },
      "execution_count": null,
      "outputs": [
        {
          "output_type": "execute_result",
          "data": {
            "text/plain": [
              "dict_values([1, 2, 3])"
            ]
          },
          "metadata": {},
          "execution_count": 33
        }
      ]
    },
    {
      "cell_type": "code",
      "source": [
        "d1.items()"
      ],
      "metadata": {
        "colab": {
          "base_uri": "https://localhost:8080/"
        },
        "id": "MHokhCtMRYAN",
        "outputId": "d863b26a-ea95-4c49-830a-a451b2bd4683"
      },
      "execution_count": null,
      "outputs": [
        {
          "output_type": "execute_result",
          "data": {
            "text/plain": [
              "dict_items([('a', 1), ('b', 2), ('c', 3)])"
            ]
          },
          "metadata": {},
          "execution_count": 34
        }
      ]
    },
    {
      "cell_type": "code",
      "source": [
        "d1['d'] = 4\n",
        "d1"
      ],
      "metadata": {
        "colab": {
          "base_uri": "https://localhost:8080/"
        },
        "id": "2SG4igadSMB_",
        "outputId": "33461573-4c1f-4e25-e8ef-0bfdf7967dfe"
      },
      "execution_count": null,
      "outputs": [
        {
          "output_type": "execute_result",
          "data": {
            "text/plain": [
              "{'a': 1, 'b': 2, 'c': 3, 'd': 4}"
            ]
          },
          "metadata": {},
          "execution_count": 36
        }
      ]
    },
    {
      "cell_type": "code",
      "source": [
        "d1['b'] = 7\n",
        "d1"
      ],
      "metadata": {
        "colab": {
          "base_uri": "https://localhost:8080/"
        },
        "id": "JcN6UOLuSL_w",
        "outputId": "3ff459fa-e3ce-4c84-dab7-c0ad4f2f86ef"
      },
      "execution_count": null,
      "outputs": [
        {
          "output_type": "execute_result",
          "data": {
            "text/plain": [
              "{'a': 1, 'b': 7, 'c': 3, 'd': 4}"
            ]
          },
          "metadata": {},
          "execution_count": 37
        }
      ]
    },
    {
      "cell_type": "code",
      "source": [
        "del d1['b']\n",
        "d1"
      ],
      "metadata": {
        "colab": {
          "base_uri": "https://localhost:8080/"
        },
        "id": "uYvNziA-SL7e",
        "outputId": "2a17dfd0-99a2-49e6-8e4f-1b2a18843fff"
      },
      "execution_count": null,
      "outputs": [
        {
          "output_type": "execute_result",
          "data": {
            "text/plain": [
              "{'a': 1, 'c': 3, 'd': 4}"
            ]
          },
          "metadata": {},
          "execution_count": 40
        }
      ]
    },
    {
      "cell_type": "markdown",
      "source": [
        "Q. 딕셔너리 d 에서 'b'의 값을 확인하면서 그 값을 삭제하세요."
      ],
      "metadata": {
        "id": "MrmbrFaLft9M"
      }
    },
    {
      "cell_type": "code",
      "source": [
        "d = {'a': 1, 'b': 7, 'c':3, 'd': 4}\n",
        "value = d.pop('b')\n",
        "print(\"삭제 값:\", value)\n",
        "print(d)"
      ],
      "metadata": {
        "colab": {
          "base_uri": "https://localhost:8080/"
        },
        "id": "hTP5WVcvf3JT",
        "outputId": "288b00a7-807b-44fb-cfbb-e1a6f95b17f6"
      },
      "execution_count": null,
      "outputs": [
        {
          "output_type": "stream",
          "name": "stdout",
          "text": [
            "삭제 값: 7\n",
            "{'a': 1, 'c': 3, 'd': 4}\n"
          ]
        }
      ]
    },
    {
      "cell_type": "markdown",
      "source": [
        "Q. 다음과 같이 학생의 이름과 점수를 튜플로 묶은 리스트가 있습니다.:[(\"Tom\", 85), (\"Jane\", 90),(\"Bob\", 75)]\n",
        "\n",
        "이 리스트를 사용해 학생 이름을 키로, 점수를 값으로 하는 딕셔너리를 생성하고 출력하세요."
      ],
      "metadata": {
        "id": "wB0A849HWqVt"
      }
    },
    {
      "cell_type": "code",
      "source": [
        "students = [(\"Tom\", 85), (\"Jane\", 90),(\"Bob\", 75)]\n",
        "student_dict = dict(students)\n",
        "print(student_dict)"
      ],
      "metadata": {
        "colab": {
          "base_uri": "https://localhost:8080/"
        },
        "id": "D7CEHkzASL0-",
        "outputId": "e0abe7dc-32e9-4be6-c270-8bf3a998173f"
      },
      "execution_count": null,
      "outputs": [
        {
          "output_type": "stream",
          "name": "stdout",
          "text": [
            "{'Tom': 85, 'Jane': 90, 'Bob': 75}\n"
          ]
        }
      ]
    },
    {
      "cell_type": "markdown",
      "source": [
        "Q. 튜플의 불변성 때문에 튜플은 딕셔너리의 키로 사용될 수 있습니다.\n",
        "\n",
        "주어진 위치 좌표 리스트에서 각 위치가 몇 번 나타나는지 계산하는 딕셔너리를 만드세요."
      ],
      "metadata": {
        "id": "ig7hsGraXSbe"
      }
    },
    {
      "cell_type": "code",
      "source": [
        "# 위치 좌표의 리스트\n",
        "positions = [(1, 1), (2, 2), (1, 1), (3, 3), (2, 2)]\n",
        "\n",
        "# 각 위치의 출현 횟수를 저장할 딕셔너리\n",
        "position_count = {}\n",
        "\n",
        "for pos in positions:\n",
        "    if pos in positions_count:\n",
        "        position_count[pos] += 1\n",
        "    else:\n",
        "        position_count[pos] = 1\n",
        "\n",
        "print(position_count)"
      ],
      "metadata": {
        "colab": {
          "base_uri": "https://localhost:8080/",
          "height": 224
        },
        "id": "mhFQOUKESLyu",
        "outputId": "ba224b0a-c563-418d-c6db-c8c6bd02c180"
      },
      "execution_count": null,
      "outputs": [
        {
          "output_type": "error",
          "ename": "NameError",
          "evalue": "name 'positions_count' is not defined",
          "traceback": [
            "\u001b[0;31m---------------------------------------------------------------------------\u001b[0m",
            "\u001b[0;31mNameError\u001b[0m                                 Traceback (most recent call last)",
            "\u001b[0;32m<ipython-input-56-847de12cad05>\u001b[0m in \u001b[0;36m<cell line: 7>\u001b[0;34m()\u001b[0m\n\u001b[1;32m      6\u001b[0m \u001b[0;34m\u001b[0m\u001b[0m\n\u001b[1;32m      7\u001b[0m \u001b[0;32mfor\u001b[0m \u001b[0mpos\u001b[0m \u001b[0;32min\u001b[0m \u001b[0mpositions\u001b[0m\u001b[0;34m:\u001b[0m\u001b[0;34m\u001b[0m\u001b[0;34m\u001b[0m\u001b[0m\n\u001b[0;32m----> 8\u001b[0;31m     \u001b[0;32mif\u001b[0m \u001b[0mpos\u001b[0m \u001b[0;32min\u001b[0m \u001b[0mpositions_count\u001b[0m\u001b[0;34m:\u001b[0m\u001b[0;34m\u001b[0m\u001b[0;34m\u001b[0m\u001b[0m\n\u001b[0m\u001b[1;32m      9\u001b[0m         \u001b[0mposition_count\u001b[0m\u001b[0;34m[\u001b[0m\u001b[0mpos\u001b[0m\u001b[0;34m]\u001b[0m \u001b[0;34m+=\u001b[0m \u001b[0;36m1\u001b[0m\u001b[0;34m\u001b[0m\u001b[0;34m\u001b[0m\u001b[0m\n\u001b[1;32m     10\u001b[0m     \u001b[0;32melse\u001b[0m\u001b[0;34m:\u001b[0m\u001b[0;34m\u001b[0m\u001b[0;34m\u001b[0m\u001b[0m\n",
            "\u001b[0;31mNameError\u001b[0m: name 'positions_count' is not defined"
          ]
        }
      ]
    },
    {
      "cell_type": "markdown",
      "source": [
        "자료형-집합, set\n",
        "\n",
        "- 중복을 허용하지 않으며 순서가 없다."
      ],
      "metadata": {
        "id": "Ov4nSMmOy6TT"
      }
    },
    {
      "cell_type": "code",
      "source": [
        "s1 = set ([1, 2, 5, 4, 3])\n",
        "s2 = set('hello')\n",
        "print(s1)\n",
        "print(s2)"
      ],
      "metadata": {
        "colab": {
          "base_uri": "https://localhost:8080/"
        },
        "id": "enaR5D2hhAor",
        "outputId": "f08a3ae6-388a-4c8b-c8b6-a07e031377b7"
      },
      "execution_count": null,
      "outputs": [
        {
          "output_type": "stream",
          "name": "stdout",
          "text": [
            "{1, 2, 3, 4, 5}\n",
            "{'h', 'e', 'l', 'o'}\n"
          ]
        }
      ]
    },
    {
      "cell_type": "code",
      "source": [
        "l1 = list(s1)\n",
        "print(l1)\n",
        "print(l1[1])"
      ],
      "metadata": {
        "colab": {
          "base_uri": "https://localhost:8080/"
        },
        "id": "04mUzPgchAmr",
        "outputId": "803b264e-cb64-4e4b-9606-eb6cfa5f5183"
      },
      "execution_count": null,
      "outputs": [
        {
          "output_type": "stream",
          "name": "stdout",
          "text": [
            "[1, 2, 3, 4, 5]\n",
            "2\n"
          ]
        }
      ]
    },
    {
      "cell_type": "code",
      "source": [
        "l2 = list(s2)\n",
        "print(l2[2])"
      ],
      "metadata": {
        "colab": {
          "base_uri": "https://localhost:8080/"
        },
        "id": "AggnF3FjhAkb",
        "outputId": "cebdd243-9736-4f4f-819d-da49459279f3"
      },
      "execution_count": null,
      "outputs": [
        {
          "output_type": "stream",
          "name": "stdout",
          "text": [
            "l\n"
          ]
        }
      ]
    },
    {
      "cell_type": "markdown",
      "source": [
        "Q. 주어진 리스트에서 중복 요소를 제거하고 결과를 출력하세요.\n",
        "\n",
        "nums = [1, 2, 2, 3, 4, 4, 4, 5]"
      ],
      "metadata": {
        "id": "kWr5vRy01ndp"
      }
    },
    {
      "cell_type": "code",
      "source": [
        "nums = [1, 2, 2, 3, 4, 4, 4, 5]\n",
        "s3 = set(nums)\n",
        "print(s3)"
      ],
      "metadata": {
        "colab": {
          "base_uri": "https://localhost:8080/"
        },
        "id": "bNcL9FdzhAib",
        "outputId": "d6dc38bd-0c32-4566-d8e3-052f92e1bb4c"
      },
      "execution_count": null,
      "outputs": [
        {
          "output_type": "stream",
          "name": "stdout",
          "text": [
            "{1, 2, 3, 4, 5}\n"
          ]
        }
      ]
    },
    {
      "cell_type": "markdown",
      "source": [
        "Q. s1, s2의 합집합과 교집합을 각각 리스트로 출력하세요.\n",
        "\n",
        "s1 = set([1, 2, 3, 4, 5, 6])\n",
        "s2 = set([4, 5, 6, 7, 8, 9])"
      ],
      "metadata": {
        "id": "56cZZh7w2kZR"
      }
    },
    {
      "cell_type": "code",
      "source": [
        "s1 = set([1, 2, 3, 4, 5, 6])\n",
        "s2 = set([4, 5, 6, 7, 8, 9])\n",
        "print(s1 & s2)\n",
        "print(s1 | s2)"
      ],
      "metadata": {
        "colab": {
          "base_uri": "https://localhost:8080/"
        },
        "id": "rnZRvH3ChAgD",
        "outputId": "24e637b1-53d7-4cce-d586-a2cf70c70959"
      },
      "execution_count": null,
      "outputs": [
        {
          "output_type": "stream",
          "name": "stdout",
          "text": [
            "{4, 5, 6}\n",
            "{1, 2, 3, 4, 5, 6, 7, 8, 9}\n"
          ]
        }
      ]
    },
    {
      "cell_type": "markdown",
      "source": [
        "Q. 첫 번째 집합에서 두 번째 집합의 요소를 제외한 차집합을 구하고 출력하세요.\n",
        "\n",
        "set1 = {1, 2, 3, 4, 5}\n",
        "set2 = {4, 5, 6, 7}"
      ],
      "metadata": {
        "id": "XC5m2zcL5ERZ"
      }
    },
    {
      "cell_type": "code",
      "source": [
        "set1 = {1, 2, 3, 4, 5}\n",
        "set2 = {4, 5, 6, 7}\n",
        "print(set1 - set2)"
      ],
      "metadata": {
        "colab": {
          "base_uri": "https://localhost:8080/"
        },
        "id": "lX98nsVNhAcj",
        "outputId": "a72b5ca4-701e-4a53-ee95-1eec32b5c6a9"
      },
      "execution_count": null,
      "outputs": [
        {
          "output_type": "stream",
          "name": "stdout",
          "text": [
            "{1, 2, 3}\n"
          ]
        }
      ]
    },
    {
      "cell_type": "markdown",
      "source": [
        "Task1_0426. 주어진 리스트에서 중복된 요소를 제외하고 고유한 요소의 개수를 세는 프로그램을 작성하세요.\n",
        "\n",
        "data = [1, 2, 2, 3, 4, 4, 4, 5]"
      ],
      "metadata": {
        "id": "EGm0jk4n5m-Z"
      }
    },
    {
      "cell_type": "code",
      "source": [
        "data = [1, 2, 2, 3, 4, 4, 4, 5]\n",
        "s1 = set(data)\n",
        "print(s1)\n",
        "len(s1)"
      ],
      "metadata": {
        "colab": {
          "base_uri": "https://localhost:8080/"
        },
        "id": "XMaEX28EhAWL",
        "outputId": "0d7691bd-987a-484f-fcec-426d451e21af"
      },
      "execution_count": null,
      "outputs": [
        {
          "output_type": "stream",
          "name": "stdout",
          "text": [
            "{1, 2, 3, 4, 5}\n"
          ]
        },
        {
          "output_type": "execute_result",
          "data": {
            "text/plain": [
              "5"
            ]
          },
          "metadata": {},
          "execution_count": 13
        }
      ]
    },
    {
      "cell_type": "markdown",
      "source": [
        "Task2_0426. 두 개의 리스트에서 공통으로 나타나는 요소들을 찾아 리스트로 반환하는 프로그램을 작성하세요.\n",
        "\n",
        "예시 입력: list1 = [1, 2, 3, 4, 5], list2 = [4, 5, 6, 7, 8]\n",
        "\n",
        "예시 출력: [4, 5]"
      ],
      "metadata": {
        "id": "YIR9YOu_6jxo"
      }
    },
    {
      "cell_type": "code",
      "source": [
        "list1 = [10, 100, 1000, 10000, 100000]; list2 = [100, 101, 102, 1000, 1004, 100000]\n",
        "s1 = set(list1); s2 = set(list2)\n",
        "list3 = print(list(s1 & s2))"
      ],
      "metadata": {
        "colab": {
          "base_uri": "https://localhost:8080/"
        },
        "id": "PYgWnF8hhAUL",
        "outputId": "07b48534-3be9-4242-d446-385a9860415e"
      },
      "execution_count": null,
      "outputs": [
        {
          "output_type": "stream",
          "name": "stdout",
          "text": [
            "[100000, 1000, 100]\n"
          ]
        }
      ]
    },
    {
      "cell_type": "markdown",
      "source": [
        "자료형 - 논리(Bool) True와 False\n",
        "\n",
        "- 파이썬에서 참과 거짓을 나타내는 상수. True는 1, False는 0의 값을 가짐.\n",
        "- 조건을 판단해서 그 조건이 참이면 True, 거짓이면 False를 return."
      ],
      "metadata": {
        "id": "qv42VVqv69zA"
      }
    },
    {
      "cell_type": "code",
      "source": [
        "print(bool(0))\n",
        "print(bool(''))\n",
        "print(bool([]))\n",
        "print(bool(1))\n",
        "print(bool(100))"
      ],
      "metadata": {
        "colab": {
          "base_uri": "https://localhost:8080/"
        },
        "id": "Le7IN_QhhAP8",
        "outputId": "3314cf3a-dc81-4bdf-e4ed-fed1afda1063"
      },
      "execution_count": null,
      "outputs": [
        {
          "output_type": "stream",
          "name": "stdout",
          "text": [
            "False\n",
            "False\n",
            "False\n",
            "True\n",
            "True\n"
          ]
        }
      ]
    },
    {
      "cell_type": "markdown",
      "source": [
        "아스키코드\n",
        "ASCII 값에서 'a'는 97이고 'p'는 112입니다. 'a'는 'p'보다 작으므로 str1<str2는 True를 반환"
      ],
      "metadata": {
        "id": "e1tcux8p9xPx"
      }
    },
    {
      "cell_type": "code",
      "source": [
        "# 관계 연산자\n",
        "x =1; y = 2\n",
        "str1 = 'abc'; str2 = 'python'\n",
        "print(x == y)\n",
        "print(x != y)\n",
        "print(str1 == str2)\n",
        "print(str2 == 'python')\n",
        "print(str1 < str2)"
      ],
      "metadata": {
        "colab": {
          "base_uri": "https://localhost:8080/"
        },
        "id": "lOVbby-i69do",
        "outputId": "44037621-6a8f-4cfb-898a-2db7ae6cdcfc"
      },
      "execution_count": null,
      "outputs": [
        {
          "output_type": "stream",
          "name": "stdout",
          "text": [
            "False\n",
            "True\n",
            "False\n",
            "True\n",
            "True\n"
          ]
        }
      ]
    },
    {
      "cell_type": "code",
      "source": [
        "# 논리 연산자\n",
        "bool1 = True; bool2 = False; bool3 = True; bool4 = False\n",
        "print(bool1 and bool2)\n",
        "print(bool1 or bool2)\n",
        "print(not bool3)\n",
        "print(not bool4)"
      ],
      "metadata": {
        "colab": {
          "base_uri": "https://localhost:8080/"
        },
        "id": "yY7B23_HhAN0",
        "outputId": "27e14320-88a1-47f9-edc6-4d6505be5114"
      },
      "execution_count": null,
      "outputs": [
        {
          "output_type": "stream",
          "name": "stdout",
          "text": [
            "False\n",
            "True\n",
            "False\n",
            "True\n"
          ]
        }
      ]
    },
    {
      "cell_type": "markdown",
      "source": [
        "Task3_0426. 주어진 숫자 리스트에서 특정 값보다 큰 요소가 하나라도 존재하는지 검사하고, 그 결과를 불 값으로 반환하는 함수를 작성하세요.\n",
        "\n",
        "- numbers = [1, 2, 3, 10, 20]\n",
        "- threshold = 15"
      ],
      "metadata": {
        "id": "0vRzieQwBLmX"
      }
    },
    {
      "cell_type": "code",
      "source": [
        "numbers = [1, 2, 3, 10, 20]\n",
        "threshold = 15\n",
        "for i in numbers:\n",
        "  if i > threshold:\n",
        "    print(\"True\")"
      ],
      "metadata": {
        "colab": {
          "base_uri": "https://localhost:8080/"
        },
        "id": "BvKIej1o67f4",
        "outputId": "f5853c71-cfcd-49a4-92fd-fdb279e66f7b"
      },
      "execution_count": null,
      "outputs": [
        {
          "output_type": "stream",
          "name": "stdout",
          "text": [
            "True\n"
          ]
        }
      ]
    },
    {
      "cell_type": "markdown",
      "source": [
        "Task4_0426. 주어진 문자열이 특정 문자열을 포함하는지 확인하고 결과를 불 값으로 반환하는 함수를 작성하세요.\n",
        "\n",
        "- text = \"hello world\"\n",
        "- substring = \"world\""
      ],
      "metadata": {
        "id": "AErj0r-RBO3f"
      }
    },
    {
      "cell_type": "code",
      "source": [
        "text = \"hello world\"\n",
        "substring = \"world\"\n",
        "if substring in text:\n",
        "    print(\"True\")"
      ],
      "metadata": {
        "colab": {
          "base_uri": "https://localhost:8080/"
        },
        "id": "JHtflcdz7uH4",
        "outputId": "3c84bc6e-876e-476d-9968-22d088568fa5"
      },
      "execution_count": null,
      "outputs": [
        {
          "output_type": "stream",
          "name": "stdout",
          "text": [
            "True\n"
          ]
        }
      ]
    },
    {
      "cell_type": "markdown",
      "source": [
        "Task5_0426. 주어진 연도가 윤년인지 판별하는 함수를 작성하세요. 윤년은 다음의 조건을 만족해야 합니다:\n",
        "- 4로 나누어 떨어진다.\n",
        "- 100으로 나누어 떨어지지 않거나, 400으로 나누어 떨어지면 윤년이다.\n",
        "\n",
        "year = 2020\n",
        "\n",
        "True"
      ],
      "metadata": {
        "id": "Kl2_Zea_BsfO"
      }
    },
    {
      "cell_type": "code",
      "source": [
        "def is_leap_year(year):\n",
        "    if year % 4 == 0:\n",
        "        if year % 100 == 0:\n",
        "            if year % 400 == 0:\n",
        "                return True\n",
        "            else:\n",
        "                return False\n",
        "        else:\n",
        "            return True\n",
        "    else:\n",
        "        return False\n",
        "year = 2024\n",
        "if is_leap_year(year):\n",
        "    print(f\"{year}년은 윤년입니다.\")\n",
        "else:\n",
        "    print(f\"{year}년은 윤년이 아닙니다.\")"
      ],
      "metadata": {
        "colab": {
          "base_uri": "https://localhost:8080/"
        },
        "id": "9sWQDnsCDLj2",
        "outputId": "b72b79a1-6ae8-4f3c-fd25-1c232d3e9d17"
      },
      "execution_count": null,
      "outputs": [
        {
          "output_type": "stream",
          "name": "stdout",
          "text": [
            "2024년은 윤년입니다.\n"
          ]
        }
      ]
    },
    {
      "cell_type": "markdown",
      "source": [
        "#### 파이썬에서 들여쓰기\n",
        "\n",
        "\n",
        "- 파이썬에는 실행 코드 부분을 묶어주는 {} 괄호가 없다.\n",
        "- 대신 들여쓰기(indentation)로 {}를 대신한다.\n",
        "- 제어문이나 함수이름, 클래스 이름 뒤에 콜론(':')으로 제어문, 함수이름, 클래스 이름의 끝을 표시하며 ':' 다음에 실행 코드를 작성"
      ],
      "metadata": {
        "id": "HE8tcpRECp9W"
      }
    },
    {
      "cell_type": "code",
      "source": [
        "li = ['a', 'b', 'c']\n",
        "if 'a' in li:\n",
        "  print('a가 li에 있습니다.')\n",
        "else:\n",
        "  print('a가 li에 없습니다.')"
      ],
      "metadata": {
        "colab": {
          "base_uri": "https://localhost:8080/"
        },
        "id": "Zc64FOeg7uF6",
        "outputId": "d47077c8-7043-45cd-a332-9d3a12d0aa54"
      },
      "execution_count": null,
      "outputs": [
        {
          "output_type": "stream",
          "name": "stdout",
          "text": [
            "a가 li에 있습니다.\n"
          ]
        }
      ]
    },
    {
      "cell_type": "markdown",
      "source": [
        "사용자 함수"
      ],
      "metadata": {
        "id": "N58frEQHFOee"
      }
    },
    {
      "cell_type": "code",
      "source": [
        "numbers = [1,2,3]\n",
        "sum(numbers) #파이썬 내장함수"
      ],
      "metadata": {
        "colab": {
          "base_uri": "https://localhost:8080/"
        },
        "id": "hm6sO5bA7uDg",
        "outputId": "b07a5326-038a-4cb9-aba4-8612b535cbd3"
      },
      "execution_count": null,
      "outputs": [
        {
          "output_type": "execute_result",
          "data": {
            "text/plain": [
              "6"
            ]
          },
          "metadata": {},
          "execution_count": 22
        }
      ]
    },
    {
      "cell_type": "code",
      "source": [
        "# 사용자 함수\n",
        "def add(a,b,c):\n",
        "  return a + b + c\n",
        "\n",
        "add(1,2,3)"
      ],
      "metadata": {
        "colab": {
          "base_uri": "https://localhost:8080/"
        },
        "id": "Yh_I9f5eExnO",
        "outputId": "60ce6806-7948-401a-aab6-7876562d2c33"
      },
      "execution_count": null,
      "outputs": [
        {
          "output_type": "execute_result",
          "data": {
            "text/plain": [
              "6"
            ]
          },
          "metadata": {},
          "execution_count": 23
        }
      ]
    },
    {
      "cell_type": "code",
      "source": [
        "def mul(a,b,c):\n",
        "  return a * b * c\n",
        "\n",
        "mul(1,2,3)"
      ],
      "metadata": {
        "colab": {
          "base_uri": "https://localhost:8080/"
        },
        "id": "QSyZmctJExlN",
        "outputId": "29dd146f-23f6-48d3-b944-f8ac59fa1a97"
      },
      "execution_count": null,
      "outputs": [
        {
          "output_type": "execute_result",
          "data": {
            "text/plain": [
              "6"
            ]
          },
          "metadata": {},
          "execution_count": 24
        }
      ]
    },
    {
      "cell_type": "markdown",
      "source": [
        "Q. 뺄셈, 나눗셈을 수행하는 사용자 함수를 작성하세요."
      ],
      "metadata": {
        "id": "DwEj3RK2HQzO"
      }
    },
    {
      "cell_type": "code",
      "source": [
        "def subtract(a,b,c):\n",
        "  return a - b - c\n",
        "\n",
        "subtract(1,2,3)"
      ],
      "metadata": {
        "colab": {
          "base_uri": "https://localhost:8080/"
        },
        "id": "xg6I73hlExjW",
        "outputId": "551b1287-2010-4b3b-9a1b-e84942f742b6"
      },
      "execution_count": null,
      "outputs": [
        {
          "output_type": "execute_result",
          "data": {
            "text/plain": [
              "-4"
            ]
          },
          "metadata": {},
          "execution_count": 26
        }
      ]
    },
    {
      "cell_type": "code",
      "source": [
        "def divide(a,b,c):\n",
        "  if b == 0 or c == 0:\n",
        "    return \"Error : Division by Zero\"\n",
        "  else:\n",
        "    return a / b / c\n",
        "\n",
        "round(divide(1,2,3),2)"
      ],
      "metadata": {
        "colab": {
          "base_uri": "https://localhost:8080/"
        },
        "id": "5GlAxRAvExhF",
        "outputId": "c852b285-6752-470e-bf21-8d1c7d12ccea"
      },
      "execution_count": null,
      "outputs": [
        {
          "output_type": "execute_result",
          "data": {
            "text/plain": [
              "0.17"
            ]
          },
          "metadata": {},
          "execution_count": 28
        }
      ]
    },
    {
      "cell_type": "markdown",
      "source": [
        "클래스"
      ],
      "metadata": {
        "id": "2DVylDN1JSoz"
      }
    },
    {
      "cell_type": "code",
      "source": [
        "class AddMul:\n",
        "  def add(self,n1,n2):\n",
        "      return n1 + n2\n",
        "  def mul(self,n1,n2):\n",
        "      return n1*n2\n",
        "\n",
        "obj1 = AddMul() #객체\n",
        "print(obj1.add(1,1))\n",
        "obj2 =AddMul()\n",
        "print(obj2.mul(3,2))"
      ],
      "metadata": {
        "colab": {
          "base_uri": "https://localhost:8080/"
        },
        "id": "j5NG3TywIijH",
        "outputId": "7c64091d-5ca4-4e4f-bfdc-a190f57905f8"
      },
      "execution_count": null,
      "outputs": [
        {
          "output_type": "stream",
          "name": "stdout",
          "text": [
            "2\n",
            "6\n"
          ]
        }
      ]
    },
    {
      "cell_type": "markdown",
      "source": [
        "Task6_0426. Calculator 클래스를 작성하고 4칙연산을 수행하는 객체 4개를 작성하여 결과를 출력하세요."
      ],
      "metadata": {
        "id": "OVEqSIUdLYCF"
      }
    },
    {
      "cell_type": "code",
      "source": [
        "class Calculator:\n",
        "  def add(self,n1,n2):\n",
        "    return n1 + n2\n",
        "  def subtract(self,n1,n2):\n",
        "    return n1 - n2\n",
        "  def mul(self,n1,n2):\n",
        "    return n1 * n2\n",
        "  def divmod(self,n1,n2):\n",
        "    return n1 // n2\n",
        "\n",
        "obj1 = Calculator()\n",
        "print(obj1.add(1,2))\n",
        "obj2 = Calculator()\n",
        "print(obj2.subtract(4,3))\n",
        "obj3 = Calculator()\n",
        "print(obj3.mul(5,6))\n",
        "obj4 = Calculator()\n",
        "print(obj4.divmod(8,2))"
      ],
      "metadata": {
        "colab": {
          "base_uri": "https://localhost:8080/"
        },
        "id": "zDM6JJ9UIihV",
        "outputId": "e75d696f-97dd-425c-ac5d-5f985455a0ce"
      },
      "execution_count": null,
      "outputs": [
        {
          "output_type": "stream",
          "name": "stdout",
          "text": [
            "3\n",
            "1\n",
            "30\n",
            "4\n"
          ]
        }
      ]
    },
    {
      "cell_type": "markdown",
      "source": [
        "Task7_0426. 다음 과제를 수행하세요.\n",
        "- 사용자로 부터 텍스트를 입력 받는다. input 함수 사용\n",
        "- 문자을 단어 단위로 분리 : split()\n",
        "- 단어의 빈도수를 저장할 딕셔너리를 생성\n",
        "- 각 단어의 빈도 수를 계산(for 문 / if else문): word = word.lower()\n",
        "- 결과 출력\n",
        "\n",
        "[ 예시 ]\n",
        "\n",
        "문장을 입력하세요: I love apple. I love orange. Apple is tasty\n",
        "\n",
        "{'i': 2, 'love': 2, 'apple.': 1, 'orange.': 1, 'apple': 1, 'is': 1, 'tasty': 1}"
      ],
      "metadata": {
        "id": "JxXljF8TNXmf"
      }
    },
    {
      "cell_type": "code",
      "source": [
        "text = input(\"텍스트를 입력하세요: \")\n",
        "words = text.split()\n",
        "word_freq = {}\n",
        "for word in words:\n",
        "  if word in word_freq:\n",
        "        word_freq[word] += 1\n",
        "  else:\n",
        "        word_freq[word] = 1\n",
        "print(\"단어 빈도수:\")\n",
        "for word, freq in word_freq.items():\n",
        "    print(f\"{word}: {freq}번\")"
      ],
      "metadata": {
        "colab": {
          "base_uri": "https://localhost:8080/"
        },
        "id": "tRWM1HwMIifM",
        "outputId": "9217d5b0-a489-4bf6-88c6-c94f525ca526"
      },
      "execution_count": null,
      "outputs": [
        {
          "output_type": "stream",
          "name": "stdout",
          "text": [
            "텍스트를 입력하세요: 나는 너를 좋아해\n",
            "단어 빈도수:\n",
            "나는: 1번\n",
            "너를: 1번\n",
            "좋아해: 1번\n"
          ]
        }
      ]
    },
    {
      "cell_type": "code",
      "source": [],
      "metadata": {
        "id": "55H2Ip0UIidM"
      },
      "execution_count": null,
      "outputs": []
    },
    {
      "cell_type": "code",
      "source": [],
      "metadata": {
        "id": "HZJDes6nIibW"
      },
      "execution_count": null,
      "outputs": []
    },
    {
      "cell_type": "code",
      "source": [],
      "metadata": {
        "id": "2OoUIVMEIiZW"
      },
      "execution_count": null,
      "outputs": []
    },
    {
      "cell_type": "code",
      "source": [],
      "metadata": {
        "id": "ABSDcleiIiXd"
      },
      "execution_count": null,
      "outputs": []
    },
    {
      "cell_type": "code",
      "source": [],
      "metadata": {
        "id": "Fi18z5gIIiVd"
      },
      "execution_count": null,
      "outputs": []
    }
  ]
}