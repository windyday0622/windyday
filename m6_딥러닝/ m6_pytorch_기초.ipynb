{
  "nbformat": 4,
  "nbformat_minor": 0,
  "metadata": {
    "colab": {
      "provenance": [],
      "gpuType": "T4",
      "authorship_tag": "ABX9TyNK1dN0CBW1myGVzxybcrAG",
      "include_colab_link": true
    },
    "kernelspec": {
      "name": "python3",
      "display_name": "Python 3"
    },
    "language_info": {
      "name": "python"
    },
    "accelerator": "GPU"
  },
  "cells": [
    {
      "cell_type": "markdown",
      "metadata": {
        "id": "view-in-github",
        "colab_type": "text"
      },
      "source": [
        "<a href=\"https://colab.research.google.com/github/windyday0622/windyday/blob/main/m6_%EB%94%A5%EB%9F%AC%EB%8B%9D/%20m6_pytorch_%EA%B8%B0%EC%B4%88.ipynb\" target=\"_parent\"><img src=\"https://colab.research.google.com/assets/colab-badge.svg\" alt=\"Open In Colab\"/></a>"
      ]
    },
    {
      "cell_type": "markdown",
      "source": [
        "## PyTorch vs. Tensorflow/Keras\n",
        "\n",
        "### 1. **PyTorch**\n",
        "\n",
        "#### 1.1. **개요**\n",
        "PyTorch는 Facebook의 AI Research Lab에서 개발한 오픈 소스 딥러닝 프레임워크입니다. Pythonic한 인터페이스와 동적 계산 그래프(dynamic computational graph) 특성 덕분에 학습 곡선이 상대적으로 완만하고, Python 스타일의 코드를 사용할 수 있어서 자연스럽게 익숙해질 수 있습니다. 주로 연구 커뮤니티에서 인기를 얻었고, 최근에는 산업적 사용도 점점 증가하고 있습니다.\n",
        "\n",
        "#### 1.2. **주요 특징**\n",
        "- **동적 계산 그래프 (Dynamic Computation Graph)**\n",
        "  - PyTorch의 가장 큰 특징 중 하나는 동적 계산 그래프입니다. 이를 통해 런타임에 그래프가 생성되므로, 코드 디버깅이나 변경이 훨씬 용이합니다. 이 특성 덕분에 PyTorch는 특히 연구에서 새로운 아이디어를 실험하기에 적합합니다.\n",
        "  \n",
        "- **직관적인 인터페이스**\n",
        "  - Pythonic한 코딩 스타일을 가지고 있으며, 익숙한 Python 문법을 사용합니다. 이로 인해 TensorFlow보다 코드 작성이 상대적으로 간결하고 직관적입니다.\n",
        "  \n",
        "- **TorchScript**\n",
        "  - PyTorch는 TorchScript를 사용하여 Python과 독립적으로 모델을 실행할 수 있게 해줍니다. 이는 모델을 실제 프로덕션 환경에 배포할 때 유용합니다.\n",
        "  \n",
        "- **Autograd**\n",
        "  - PyTorch의 Autograd 기능은 자동 미분을 처리하는데, 이를 통해 백프로퍼게이션 과정에서 파생되는 모든 미분을 자동으로 계산할 수 있습니다.\n",
        "\n",
        "- **커뮤니티**\n",
        "  - 연구 커뮤니티와 긴밀하게 연계되어 있어 많은 논문에서 PyTorch로 구현된 코드가 제공됩니다. 딥러닝 연구에 적합한 프레임워크로 자리 잡고 있습니다.\n",
        "\n",
        "### 2. **TensorFlow / Keras**\n",
        "\n",
        "#### 2.1. **개요**\n",
        "TensorFlow는 Google Brain 팀에서 개발한 오픈 소스 딥러닝 프레임워크로, Keras는 TensorFlow와 통합되어 사용되는 고수준 API입니다. TensorFlow는 생산 환경에서 대규모로 딥러닝 모델을 구축하고 배포하기에 적합하며, Keras는 사용자 친화적인 인터페이스를 제공하여 초보자들도 쉽게 사용할 수 있도록 설계되었습니다.\n",
        "\n",
        "#### 2.2. **주요 특징**\n",
        "- **정적 계산 그래프 (Static Computation Graph)**\n",
        "  - TensorFlow는 초기에는 정적 계산 그래프를 사용했습니다. 즉, 그래프를 먼저 정의하고 나중에 실행하는 방식으로, 한 번 그래프를 정의하면 고정되어 변형이 어렵습니다. 최근에는 TensorFlow 2.0 이후 동적 계산 그래프(Eager Execution)를 도입해 PyTorch처럼 동적 그래프를 지원합니다.\n",
        "  \n",
        "- **확장성과 배포**\n",
        "  - TensorFlow는 대규모 배포 환경에서 매우 강력합니다. TensorFlow Serving, TensorFlow Lite, TensorFlow.js 등 다양한 배포 옵션을 제공하여 모바일, 웹, 임베디드 디바이스까지 모델을 배포할 수 있습니다.\n",
        "  \n",
        "- **Keras (TensorFlow의 고수준 API)**\n",
        "  - Keras는 TensorFlow와 통합된 고수준 API로, 사용자 친화적이고 빠르게 모델을 설계, 구축, 학습할 수 있습니다. 특히 Keras는 초보자들이 쉽게 딥러닝 모델을 시작할 수 있게 해줍니다.\n",
        "  \n",
        "- **TensorBoard**\n",
        "  - TensorFlow는 강력한 시각화 도구인 TensorBoard를 제공합니다. 이를 통해 모델의 학습 과정을 실시간으로 모니터링하고, 그래프 및 파라미터의 변화를 시각적으로 확인할 수 있습니다.\n",
        "\n",
        "- **TensorFlow Hub**\n",
        "  - TensorFlow Hub는 사전 학습된 모델을 재사용할 수 있는 플랫폼으로, 연구자나 개발자들이 이미 학습된 모델을 쉽게 가져와 사용하거나 재학습할 수 있게 도와줍니다.\n",
        "\n",
        "### 3. **PyTorch와 TensorFlow/Keras의 비교**\n",
        "\n",
        "| **비교 항목**           | **PyTorch**                           | **TensorFlow/Keras**                |\n",
        "|------------------------|---------------------------------------|-------------------------------------|\n",
        "| **계산 그래프**         | 동적 계산 그래프 (Dynamic Graph)       | 정적 계산 그래프 (Static Graph) + 동적 지원 (Eager Execution) |\n",
        "| **코딩 스타일**         | Pythonic, 간결하고 직관적             | Keras: 간결, TensorFlow: 다소 복잡함 |\n",
        "| **배포 및 확장성**      | TorchScript로 배포 가능                | TensorFlow Serving, Lite, JS 등 다양한 배포 옵션 |\n",
        "| **자동 미분 (Autograd)**| 매우 직관적                            | 자동 미분 제공하지만, PyTorch만큼 직관적이지 않음 |\n",
        "| **성능**                | 연구 중심, 모델 실험에 적합            | 대규모 배포 환경에서 강력한 성능 제공 |\n",
        "| **커뮤니티**            | 연구 중심, 최신 논문 구현 많이 제공    | 산업계와 연구계 모두 널리 사용됨    |\n",
        "| **시각화 도구**         | TensorBoard 대안은 부족함              | TensorBoard 제공, 강력한 시각화 도구 |\n",
        "| **모바일 및 웹 지원**   | 비교적 미약한 지원                    | TensorFlow Lite, TensorFlow.js 등 폭넓은 지원 |\n",
        "| **프로덕션 환경 지원**  | TorchServe로 배포 가능하지만 한정적     | TensorFlow Extended(TFX)로 대규모 배포 지원 |\n",
        "\n",
        "### 4. **결론**\n",
        "\n",
        "- **PyTorch**는 직관적인 코드 작성과 동적 계산 그래프 덕분에 **연구 및 실험**에 적합합니다. 새로운 아이디어를 빠르게 실험하고 싶거나, 딥러닝 모델을 배우는 데 자연스럽게 접근하고 싶다면 PyTorch가 좋은 선택입니다.\n",
        "- **TensorFlow/Keras**는 **대규모 배포**와 **프로덕션 환경**에서 딥러닝 모델을 사용하는 데 더 적합합니다. 특히 TensorFlow는 다양한 배포 옵션과 확장성을 지원하며, Keras는 간결한 API로 초보자들이 쉽게 접근할 수 있는 장점이 있습니다.\n",
        "\n",
        "둘 다 매우 강력한 딥러닝 프레임워크로, 연구 목적인지, 대규모 배포 목적에 맞는지에 따라 선택할 수 있습니다."
      ],
      "metadata": {
        "id": "m9icPt-wYPtA"
      }
    },
    {
      "cell_type": "markdown",
      "source": [
        "PyTorch의 **동적 계산 그래프 (Dynamic Computation Graph)**는 딥러닝 모델을 구축하고 학습할 때 PyTorch가 제공하는 매우 중요한 기능 중 하나입니다. 이는 \"즉시 실행 (eager execution)\"이라고도 불리며, TensorFlow와 같은 프레임워크의 정적 계산 그래프(static computation graph)와 대비됩니다.\n",
        "\n",
        "### 동적 계산 그래프의 핵심 개념\n",
        "동적 계산 그래프는 학습 중에 그래프를 즉시 정의하고 실행하는 방식입니다. 즉, 계산을 수행할 때마다 새로운 그래프를 만들고, 이를 바로 실행하는 특징을 갖고 있습니다. 이를 통해 계산 과정 중 변수나 모델 구조의 변경이 매우 유연하게 이루어질 수 있습니다.\n",
        "\n",
        "#### 1. **즉시 실행 (Eager Execution)**\n",
        "PyTorch는 코드가 실행될 때마다 계산 그래프를 동적으로 생성하고, 이를 즉시 실행합니다. 즉, 딥러닝 모델에서 데이터를 전방 패스로 전달할 때, 해당 연산이 바로 수행되고 그 결과가 즉시 반환됩니다. 이런 즉시 실행 방식은 디버깅을 매우 용이하게 만들어 줍니다.\n",
        "\n",
        "예를 들어, 다음과 같은 코드를 생각해 봅시다:\n",
        "\n",
        "```python\n",
        "import torch\n",
        "\n",
        "x = torch.tensor(2.0, requires_grad=True)\n",
        "y = torch.tensor(3.0, requires_grad=True)\n",
        "\n",
        "z = x * y + y\n",
        "```\n",
        "\n",
        "여기서 `z`를 계산할 때 `x * y + y`가 바로 실행되고, 이 과정에서 계산 그래프가 동적으로 생성됩니다. 이후 `z.backward()`를 호출하면, PyTorch는 자동으로 그래프를 통해 미분을 수행하여 각 변수의 gradient를 계산합니다.\n",
        "\n",
        "#### 2. **유연성 (Flexibility)**\n",
        "동적 계산 그래프는 모델 구조를 즉석에서 정의하고, 계산 과정 중에도 그래프의 변경이 가능합니다. 이는 복잡한 구조를 가진 모델을 구현할 때 매우 유용합니다. 예를 들어, if문이나 for문을 통해 네트워크의 구조를 유연하게 변경할 수 있습니다.\n",
        "\n",
        "```python\n",
        "for i in range(5):\n",
        "    if i % 2 == 0:\n",
        "        z = z * x\n",
        "    else:\n",
        "        z = z + y\n",
        "```\n",
        "\n",
        "이 코드는 실행할 때마다 그래프의 구조가 바뀔 수 있는데, PyTorch의 동적 계산 그래프는 이러한 경우에도 문제없이 작동합니다. 이는 정적 계산 그래프에서 불가능하거나 복잡한 코드로 구현해야 하는 것을 동적 계산 그래프에서는 자연스럽게 구현할 수 있게 해줍니다.\n",
        "\n",
        "#### 3. **Autograd: 자동 미분 기능**\n",
        "PyTorch에서 동적 계산 그래프는 **Autograd** 기능과 밀접하게 연결되어 있습니다. Autograd는 계산 그래프를 추적하여, 미분이 필요한 연산에 대한 그래프를 자동으로 만들어 줍니다. 연산이 수행되면 PyTorch는 이를 기록하고, `backward()` 함수를 호출할 때 그래프를 따라 역전파를 통해 기울기(gradient)를 계산합니다.\n",
        "\n",
        "```python\n",
        "z.backward()  # z의 연산을 바탕으로 역전파 수행\n",
        "print(x.grad)  # x의 gradient 값 출력\n",
        "```\n",
        "\n",
        "Autograd는 동적으로 그래프를 구성하기 때문에, 계산 그래프는 전방 패스(forward pass) 중에 실시간으로 생성되고, 역전파(backward pass)가 끝나면 필요에 따라 버려집니다. 이는 메모리 효율성을 높이고, 메모리 관리를 쉽게 해줍니다.\n",
        "\n",
        "### 동적 계산 그래프의 장점\n",
        "- **디버깅이 용이함**: 계산이 즉시 실행되므로, 중간 결과를 쉽게 확인할 수 있어 디버깅 과정이 매우 직관적입니다. 오류가 발생하면 즉시 알 수 있습니다.\n",
        "- **유연한 모델 설계**: 반복문, 조건문 등을 사용해 네트워크 구조를 동적으로 변경할 수 있으며, 이는 매우 복잡한 모델을 쉽게 구현하는 데 도움을 줍니다.\n",
        "- **학습 시 효율적**: 필요할 때만 그래프가 생성되고 역전파에 사용되며, 이후 메모리에서 제거되므로 메모리 사용이 효율적입니다.\n",
        "\n",
        "### 정적 계산 그래프와의 차이점\n",
        "- **정적 계산 그래프 (TensorFlow, Theano)**는 모델을 먼저 정의한 후, 그래프 전체를 컴파일하여 실행합니다. 이런 방식은 실행 전에 최적화된 모델을 만들 수 있지만, 그래프를 수정하려면 다시 컴파일해야 하므로 덜 유연합니다.\n",
        "- 반면, **동적 계산 그래프 (PyTorch)**는 실행 시점에서 그래프를 생성하므로 더 유연하지만, 실행 속도는 정적 그래프에 비해 다소 느릴 수 있습니다. 하지만 최근에는 PyTorch에서도 정적 그래프처럼 최적화를 할 수 있는 방법이 연구되고 있습니다(예: TorchScript).\n",
        "\n",
        "### PyTorch의 동적 계산 그래프 작동 방식\n",
        "PyTorch의 동적 계산 그래프는 연산을 할 때마다 다음과 같은 과정을 거칩니다:\n",
        "\n",
        "1. **Tensor와 연산 정의**: 계산 그래프는 Tensor와 연산으로 구성됩니다. Tensor는 `requires_grad=True` 옵션을 통해 그라디언트를 추적할지 여부를 설정할 수 있습니다.\n",
        "2. **전방 패스 실행**: 전방 패스가 실행되면서 연산 결과가 생성되고, 그와 동시에 계산 그래프가 생성됩니다.\n",
        "3. **역전파 실행**: `backward()` 호출 시, 계산 그래프를 타고 내려가면서 그라디언트가 자동으로 계산됩니다.\n",
        "\n",
        "결론적으로, PyTorch의 동적 계산 그래프는 코드가 실행될 때마다 실시간으로 그래프를 구성하여 유연한 모델 설계와 디버깅을 가능하게 합니다. 이 특성 덕분에 PyTorch는 연구나 개발 환경에서 널리 사용되며, 특히 복잡하고 유연한 모델 설계에 적합한 딥러닝 프레임워크로 자리 잡았습니다."
      ],
      "metadata": {
        "id": "R2QU99sVaG2Q"
      }
    },
    {
      "cell_type": "code",
      "execution_count": null,
      "metadata": {
        "id": "K_HK7ucbYLkd"
      },
      "outputs": [],
      "source": [
        "# 여기서 z를 계산할 때 x * y + y가 바로 실행되고, 이 과정에서 계산 그래프가 동적으로 생성.\n",
        "# 이후 z.backward()를 호출하면, PyTorch는 자동으로 그래프를 통해 미분을 수행하여 각 변수의 gradient를 계산합니다.\n",
        "import torch\n",
        "\n",
        "x = torch.tensor(2.0, requires_grad=True)\n",
        "y = torch.tensor(3.0, requires_grad=True)\n",
        "\n",
        "z = x * y + y"
      ]
    },
    {
      "cell_type": "code",
      "source": [
        "# 동적 계산 그래프는 모델 구조를 즉석에서 정의하고, 계산 과정 중에도 그래프의 변경이 가능.\n",
        "# if 문이나 for 문을 통해 네트워크의 구조를 유연하게 변경할 수 있습니다.\n",
        "for i in range(5):\n",
        "    if i % 2 == 0:\n",
        "        z = z * x\n",
        "    else:\n",
        "        z = z + y"
      ],
      "metadata": {
        "id": "xHpIW4r8aCdY"
      },
      "execution_count": null,
      "outputs": []
    },
    {
      "cell_type": "code",
      "source": [
        "# autograd는 계산 그래프를 추적하여, 미분이 필요한 연산에 대해 그래프를 자동으로 만들어줍니다.\n",
        "# 연산이 수행되면 PyTorch는 이를 기록하고, backward() 함수를 호출할 때 그래프를 따라 역전파를 통해 기울기(gradient)를 계산합니다.\n",
        "z.backward() #z의 연산을 바탕으로 역전파 수행\n",
        "print(x.grad)  # x에 대한 gradient 값 출력, z이 x에 대해 어떻게 변환했는지를 나타내는 기울기 값."
      ],
      "metadata": {
        "colab": {
          "base_uri": "https://localhost:8080/"
        },
        "id": "YvOdJPP6aCaQ",
        "outputId": "2dab8fe9-442b-43fd-e43c-9adea55590b1"
      },
      "execution_count": null,
      "outputs": [
        {
          "output_type": "stream",
          "name": "stdout",
          "text": [
            "tensor(147.)\n"
          ]
        }
      ]
    },
    {
      "cell_type": "markdown",
      "source": [
        "계산 그래프의 사례를 간단한 수식과 함께 살펴볼 수 있습니다. 예를 들어, 다음과 같은 수식을 고려해 보겠습니다:\n",
        "\n",
        "\\[\n",
        "z = (x + y) * w\n",
        "\\]\n",
        "\n",
        "여기서 \\(x\\), \\(y\\), \\(w\\)는 입력 변수이고, \\(z\\)는 결과입니다. 이 수식을 계산 그래프로 나타내면, 각 연산이 그래프의 노드로 표현되고, 변수와 연산 사이의 의존 관계가 엣지로 연결됩니다. 이제 이 수식을 계산 그래프로 표현한 사례를 보여드리겠습니다:\n",
        "\n",
        "### 수식: \\( z = (x + y) * w \\)\n",
        "\n",
        "1. **입력 노드**: \\(x\\), \\(y\\), \\(w\\)는 그래프의 입력 변수입니다.\n",
        "2. **덧셈 연산 노드**: 먼저, \\(x\\)와 \\(y\\)를 더하는 연산이 일어납니다.\n",
        "3. **곱셈 연산 노드**: 그다음, 덧셈 결과와 \\(w\\)를 곱하는 연산이 일어납니다.\n",
        "4. **출력 노드**: 최종 결과인 \\(z\\)가 나옵니다.\n",
        "\n",
        "### 계산 그래프의 시각적 표현\n",
        "다음과 같이 계산 과정을 그래프로 나타낼 수 있습니다:\n",
        "\n",
        "```\n",
        "   x -----\n",
        "          |\n",
        "          + ----> (x + y) -----> * ----> z\n",
        "          |                      |\n",
        "   y -----                       w\n",
        "```\n",
        "\n",
        "여기서 각 단계는 다음과 같습니다:\n",
        "- **덧셈 연산**: \\(x + y\\)는 하나의 노드로 표현됩니다.\n",
        "- **곱셈 연산**: 그다음 덧셈 결과와 \\(w\\)의 곱이 또 다른 노드로 표현됩니다.\n",
        "- **출력**: 최종 결과인 \\(z\\)가 마지막에 나옵니다.\n",
        "\n",
        "### 역전파 과정\n",
        "이 계산 그래프는 **역전파** 과정에서 중요한 역할을 합니다. 예를 들어, 손실 함수에서 \\(z\\)에 대한 기울기를 계산할 때, 연쇄 법칙에 따라 각 연산에 대한 기울기를 차례대로 계산하여 전달합니다.\n",
        "\n",
        "1. **\\(z\\)에 대한 기울기 계산**: 먼저, \\(z\\)에 대한 손실 함수의 기울기를 구합니다.\n",
        "2. **곱셈 연산의 기울기**: \\(z\\)의 기울기를 \\(w\\)와 \\((x + y)\\) 각각에 대해 계산하여 전달합니다.\n",
        "3. **덧셈 연산의 기울기**: \\((x + y)\\)의 기울기를 \\(x\\)와 \\(y\\)에 대해 계산하여 전달합니다.\n",
        "\n",
        "이 과정에서 PyTorch와 같은 프레임워크는 자동으로 역전파를 수행해 각 파라미터에 대한 기울기를 구할 수 있습니다.\n",
        "\n",
        "### 더 복잡한 사례\n",
        "실제 딥러닝 모델에서는 이보다 훨씬 복잡한 계산 그래프가 형성됩니다. 예를 들어, **합성곱 신경망(CNN)**이나 **순환 신경망(RNN)**은 여러 층(layer)과 비선형 활성화 함수, 매트릭스 연산 등이 포함되어 있으며, 이러한 모든 연산이 하나의 거대한 계산 그래프로 연결됩니다. 각 층의 가중치와 입력 간의 연산들이 일련의 계산 그래프를 형성하고, 이 그래프를 통해 역전파가 이루어집니다.\n",
        "\n",
        "---\n",
        "\n",
        "### 요약\n",
        "계산 그래프는 모델의 연산을 시각적으로 표현한 것이며, 이 그래프를 통해 딥러닝 모델의 학습 과정에서 자동 미분과 역전파가 가능합니다."
      ],
      "metadata": {
        "id": "mSbYMAz7dt2O"
      }
    },
    {
      "cell_type": "markdown",
      "source": [
        "# 파이토치의 구성요소"
      ],
      "metadata": {
        "id": "0aOzD1pBgZ01"
      }
    },
    {
      "cell_type": "markdown",
      "source": [
        "## 파이토치의 구성요소\n",
        "\n",
        "- `torch`: 메인 네임스페이스, 텐서 등의 다양한 수학 함수가 포함\n",
        "- `torch.autograd`: 자동 미분 기능을 제공하는 라이브러리\n",
        "- `torch.nn`: 신경망 구축을 위한 데이터 구조나 레이어 등의 라이브러리\n",
        "- `torch.multiprocessing`: 병럴처리 기능을 제공하는 라이브러리\n",
        "- `torch.optim`: SGD(Stochastic Gradient Descent)를 중심으로 한 파라미터 최적화 알고리즘 제공\n",
        "- `torch.utils`: 데이터 조작 등 유틸리티 기능 제공\n",
        "- `torch.onnx`: ONNX(Open Neural Network Exchange), 서로 다른 프레임워크 간의 모델을 공유할 때 사용"
      ],
      "metadata": {
        "id": "cRSlbq6_geNd"
      }
    },
    {
      "cell_type": "markdown",
      "source": [
        "## 텐서(Tensors)\n",
        "\n",
        "* 데이터 표현을 위한 기본 구조로 텐서(tensor)를 사용\n",
        "* 텐서는 데이터를 담기위한 컨테이너(container)로서 일반적으로 수치형 데이터를 저장\n",
        "* 넘파이(NumPy)의 ndarray와 유사\n",
        "* GPU를 사용한 연산 가속 가능\n",
        "\n",
        "[ ndarray와 텐서 비교 ]\n",
        "- GPU 지원: PyTorch의 Tensor와 TensorFlow의 텐서는 GPU를 통한 가속을 지원. 이는 대규모 배열 연산에서 상당한 성능 향상을 가져올 수 있는 반면, NumPy ndarray는 기본적으로 CPU에서만 작동.\n",
        "- 자동 미분 지원: PyTorch와 TensorFlow는 딥러닝 모델 학습을 위해 자동 미분을 지원하는 반면, NumPy는 이러한 기능을 내장하고 있지 않다. 이는 신경망의 역전파와 같은 복잡한 연산을 구현할 때 중요한 차이점이다.\n",
        "- API 호환성: PyTorch와 TensorFlow/Keras는 NumPy와의 호환성을 중시하며, 많은 경우에 NumPy의 API를 모방. 이는 NumPy 사용자가 쉽게 이러한 프레임워크로 전환할 수 있도록 돕는다. 그러나 각 프레임워크는 자체적인 최적화와 기능을 제공하기 때문에, 모든 NumPy 연산이 그대로 사용될 수 있는 것은 아니다.\n",
        "\n",
        "[ PyTorch와 TensorFlow/Keras에서의 ndarray 사용 ]\n",
        "- PyTorch에서의 사용: PyTorch는 torch.from_numpy() 함수를 통해 NumPy ndarray를 PyTorch의 Tensor로 변환할 수 있다. 변환된 텐서는 원래 ndarray와 메모리를 공유하기 때문에, 한 객체의 변경이 다른 객체에도 반영된다. 반대로, .numpy() 메소드를 사용하여 PyTorch 텐서를 NumPy 배열로 변환할 수 있다.\n",
        "- TensorFlow/Keras에서의 사용: TensorFlow에서는 tf.convert_to_tensor() 함수를 사용하여 NumPy ndarray를 TensorFlow의 텐서로 변환할 수 있다. 이 변환된 텐서는 TensorFlow 연산에 사용될 수 있다. TensorFlow 텐서를 NumPy 배열로 변환하기 위해서는 .numpy() 메소드를 사용할 수 있다.\n",
        "\n",
        "PyTorch와 TensorFlow/Keras 모두 NumPy ndarray와의 상호 운용성을 지원하며, 이를 통해 각 프레임워크의 텐서로 쉽게 변환할 수 있다. 각 프레임워크의 텐서는 GPU 지원과 자동 미분과 같은 추가적인 기능을 제공하여 딥러닝 모델의 개발과 학습을 효율적으로 할 수 있게 한다."
      ],
      "metadata": {
        "id": "xNKigCkkhS5U"
      }
    },
    {
      "cell_type": "markdown",
      "source": [
        "3D Tensor\n",
        "\n",
        "* 큐브(cube)와 같은 모양으로 세개의 축이 존재\n",
        "* 데이터가 연속된 시퀀스 데이터나 시간 축이 포함된 시계열 데이터에 해당\n",
        "* 주식 가격 데이터셋, 시간에 따른 질병 발병 데이터 등이 존재\n",
        "* 주로 샘플(samples), 타임스텝(timesteps), 특성(features)을 가진 구조로 사용\n",
        "\n",
        "4D Tensor\n",
        "\n",
        "* 4개의 축\n",
        "* 컬러 이미지 데이터가 대표적인 사례 (흑백 이미지 데이터는 3D Tensor로 가능)\n",
        "* 주로 샘플(samples), 높이(height), 너비(width), 컬러 채널(channel)을 가진 구조로 사용\n",
        "\n",
        "5D Tensor\n",
        "\n",
        "* 5개의 축\n",
        "* 비디오 데이터가 대표적인 사례\n",
        "* 주로 샘플(samples), 프레임(frames), 높이(height), 너비(width), 컬러 채널(channel)을 가진 구조로 사용"
      ],
      "metadata": {
        "id": "lk1i2krMhZuU"
      }
    },
    {
      "cell_type": "code",
      "source": [
        "# 텐서에 대한 수학 연산, 삼각함수, 비트 연산, 비교 연산, 집계 등 제공\n",
        "import torch\n",
        "\n",
        "a = torch.randn(1, 2) * 2 - 1 # 표준 정규 분포(평균=0, 표준편차=1)에서 가져온 값의 각 요소에 2를 곱한 다음 1을 뺀다.\n",
        "print(a)\n",
        "print(torch.abs(a)) # 절대값\n",
        "print(torch.ceil(a)) # 텐서  a의 각 요소에 천장 함수를 적용\n",
        "print(torch.floor(a)) # 텐서 a의 각 요소에 바닥 함수를 적용\n",
        "print(torch.clamp(a,-0.5,0.5)) # '-0.5' 이하의 값은 '-0.5'로 설정되고, '0.5' 이상의 값은 '0.5'로 설정"
      ],
      "metadata": {
        "colab": {
          "base_uri": "https://localhost:8080/"
        },
        "id": "8nPToFpSaCXf",
        "outputId": "d4c197cf-7355-4e5f-af55-4ee7d1aa1fa1"
      },
      "execution_count": null,
      "outputs": [
        {
          "output_type": "stream",
          "name": "stdout",
          "text": [
            "tensor([[-7.4225, -2.3374]])\n",
            "tensor([[7.4225, 2.3374]])\n",
            "tensor([[-7., -2.]])\n",
            "tensor([[-8., -3.]])\n",
            "tensor([[-0.5000, -0.5000]])\n"
          ]
        }
      ]
    },
    {
      "cell_type": "code",
      "source": [
        "import torch\n",
        "\n",
        "x = torch.tensor([1.0, -1.0, 0.5])\n",
        "\n",
        "# 일반 연산(새로운 텐서 생성)\n",
        "y = x.abs()  # 절대값을 구하지만 x는 그대로\n",
        "print(x) # tensor([1.0, -1.0, 0.5])\n",
        "print(y) # tensor([1.0, 1.0, 0.5])\n",
        "\n",
        "# in-place 연산\n",
        "x.abs_()  # 기존 텐서 x의 값을 직접 변경\n",
        "print(x) # tensor([1.0, 1.0, 0.5])"
      ],
      "metadata": {
        "colab": {
          "base_uri": "https://localhost:8080/"
        },
        "id": "NbZuGSnzaCUw",
        "outputId": "bed38f80-0e8b-4726-f627-4055c7e299ae"
      },
      "execution_count": null,
      "outputs": [
        {
          "output_type": "stream",
          "name": "stdout",
          "text": [
            "tensor([ 1.0000, -1.0000,  0.5000])\n",
            "tensor([1.0000, 1.0000, 0.5000])\n",
            "tensor([1.0000, 1.0000, 0.5000])\n"
          ]
        }
      ]
    },
    {
      "cell_type": "code",
      "source": [
        "x = torch.rand(2,2) # 0과 1 사이의 값을 가지는 균등분포로부터 무작위로 생성된 행렬을 반환\n",
        "print(x)\n",
        "y = torch.randn(2,2)\n",
        "print(y)\n",
        "print(x)\n",
        "print()\n",
        "y.add_(x) # _가 있는 add_ 매서드는 y 자체를 변경한다는 의미이며 y의 값이 변경\n",
        "print(y)"
      ],
      "metadata": {
        "colab": {
          "base_uri": "https://localhost:8080/"
        },
        "id": "31_6k3rAaCSv",
        "outputId": "eefef241-40b1-410d-9ca6-f76d3c8f13f9"
      },
      "execution_count": null,
      "outputs": [
        {
          "output_type": "stream",
          "name": "stdout",
          "text": [
            "tensor([[0.5459, 0.9559],\n",
            "        [0.5011, 0.8086]])\n",
            "tensor([[-0.0559,  0.4168],\n",
            "        [-0.4210, -1.2797]])\n",
            "tensor([[0.5459, 0.9559],\n",
            "        [0.5011, 0.8086]])\n",
            "\n",
            "tensor([[ 0.4900,  1.3727],\n",
            "        [ 0.0800, -0.4710]])\n"
          ]
        }
      ]
    },
    {
      "cell_type": "markdown",
      "source": [
        "torch.mm: 내적"
      ],
      "metadata": {
        "id": "qrvx8xVAo7LR"
      }
    },
    {
      "cell_type": "code",
      "source": [
        "print(x)\n",
        "print(y,'\\n')\n",
        "print(torch.matmul(x,y)) # 행렬곱\n",
        "z = torch.mm(x,y) # 행렬곱\n",
        "print(z)"
      ],
      "metadata": {
        "colab": {
          "base_uri": "https://localhost:8080/"
        },
        "id": "Acnt4H5faCRA",
        "outputId": "19b96380-1bae-4ccd-9f0f-9aca2fb564c1"
      },
      "execution_count": null,
      "outputs": [
        {
          "output_type": "stream",
          "name": "stdout",
          "text": [
            "tensor([[0.5459, 0.9559],\n",
            "        [0.5011, 0.8086]])\n",
            "tensor([[ 0.4900,  1.3727],\n",
            "        [ 0.0800, -0.4710]]) \n",
            "\n",
            "tensor([[0.3440, 0.2991],\n",
            "        [0.3103, 0.3069]])\n",
            "tensor([[0.3440, 0.2991],\n",
            "        [0.3103, 0.3069]])\n"
          ]
        }
      ]
    },
    {
      "cell_type": "markdown",
      "source": [
        "인덱싱: NumPy 처럼 인덱싱 형태로 사용가능"
      ],
      "metadata": {
        "id": "FAFgvtSuo_1R"
      }
    },
    {
      "cell_type": "code",
      "source": [
        "import torch\n",
        "x = torch.Tensor([[1,2],[3,4]])\n",
        "print(x)\n",
        "\n",
        "print(x[0,0])\n",
        "print(x[0,1])\n",
        "print(x[1,0])\n",
        "print(x[1,1])\n",
        "print(x[:,0])\n",
        "print(x[:,1])\n",
        "print(x[0,:])\n",
        "print(x[1,:])"
      ],
      "metadata": {
        "colab": {
          "base_uri": "https://localhost:8080/"
        },
        "id": "a8iZIurOaCO_",
        "outputId": "250a4a7c-3c17-4fec-fac7-dd32a6ea7dde"
      },
      "execution_count": null,
      "outputs": [
        {
          "output_type": "stream",
          "name": "stdout",
          "text": [
            "tensor([[1., 2.],\n",
            "        [3., 4.]])\n",
            "tensor(1.)\n",
            "tensor(2.)\n",
            "tensor(3.)\n",
            "tensor(4.)\n",
            "tensor([1., 3.])\n",
            "tensor([2., 4.])\n",
            "tensor([1., 2.])\n",
            "tensor([3., 4.])\n"
          ]
        }
      ]
    },
    {
      "cell_type": "markdown",
      "source": [
        "º 랜덤한 값을 가지는 텐서 생성\n",
        "\n",
        "1. torch.rand() : 0과 1 사이의 숫자를 균등하게 생성\n",
        "\n",
        "2. torch.rand_like() : 사이즈를 튜플로 입력하지 않고 기존의 텐서로 정의\n",
        "\n",
        "3. torch.randn() : 평균이 0이고 표준편차가 1인 가우시안 정규분포를 이용해 생성\n",
        "\n",
        "4. torch.randn_like() :  사이즈를 튜플로 입력하지 않고 기존의 텐서로 정의\n",
        "\n",
        "5. torch.randint() : 주어진 범위 내의 정수를 균등하게 생성\n",
        "\n",
        "6. torch.randint_like() : 사이즈를 튜플로 입력하지 않고 기존의 텐서로 정의\n",
        "\n",
        "7. torch.randperm() : 주어진 범위 내의 정수를 랜덤하게 생성"
      ],
      "metadata": {
        "id": "oNBysgXerT3Y"
      }
    },
    {
      "cell_type": "code",
      "source": [
        "import torch\n",
        "\n",
        "# Create a tensor with random values\n",
        "tensor_rand = torch.rand(3, 3) # 1\n",
        "existing_tensor = torch.tensor([[1,2],[3,4]])\n",
        "tensor_rand_like = torch.randn_like(existing_tensor, dtype=torch.float) # 2\n",
        "tensor_randn = torch.randn(3, 3) # 3\n",
        "tensor_randn_like = torch.randn_like(existing_tensor, dtype=torch.float) # 4\n",
        "tensor_ranint = torch.randint(0, 10, (3, 3)) # 5\n",
        "tensor_ranint_like = torch.randint_like(existing_tensor, low=0, high=10, dtype=torch.int) # 6\n",
        "tensor_randperm = torch.randperm(10) # 0 부터 n-1까지의 정수를 무작위로 섞은 순열을 반환, 중복 없는 무작위 정수 시퀀스.\n",
        "\n",
        "tensor_rand, tensor_rand_like, tensor_randn, tensor_randn_like, tensor_ranint, tensor_ranint_like, tensor_randperm,"
      ],
      "metadata": {
        "colab": {
          "base_uri": "https://localhost:8080/"
        },
        "id": "jIARcCIyaCMv",
        "outputId": "a3f37aec-a120-46a0-ebb3-f9bd34fc1a2c"
      },
      "execution_count": null,
      "outputs": [
        {
          "output_type": "execute_result",
          "data": {
            "text/plain": [
              "(tensor([[0.0170, 0.1065, 0.0577],\n",
              "         [0.1244, 0.1972, 0.7401],\n",
              "         [0.1818, 0.6895, 0.2429]]),\n",
              " tensor([[-0.1458, -1.9910],\n",
              "         [ 0.5910,  0.7741]]),\n",
              " tensor([[-1.1138, -0.5286, -0.4805],\n",
              "         [-1.2169, -0.7656, -1.4156],\n",
              "         [ 0.0495, -1.1863, -0.4858]]),\n",
              " tensor([[ 0.2468, -0.3030],\n",
              "         [ 0.0847,  0.0586]]),\n",
              " tensor([[5, 5, 6],\n",
              "         [3, 3, 6],\n",
              "         [5, 1, 2]]),\n",
              " tensor([[3, 0],\n",
              "         [0, 7]], dtype=torch.int32),\n",
              " tensor([2, 3, 9, 6, 5, 8, 0, 1, 4, 7]))"
            ]
          },
          "metadata": {},
          "execution_count": 13
        }
      ]
    },
    {
      "cell_type": "markdown",
      "source": [
        "º 특정한 값을 가지는 텐서 생성\n",
        "\n",
        "1. torch.arange() : 주어진 범위 내의 정수를 순서대로 생성\n",
        "\n",
        "2. torch.ones() : 주어진 사이즈의 1로 이루어진 텐서 생성\n",
        "\n",
        "3. torch.zeros() : 주어진 사이즈의 0으로 이루어진 텐서 생성\n",
        "\n",
        "4. torch.ones_like() : 사이즈를 튜플로 입력하지 않고 기존의 텐서로 정의\n",
        "\n",
        "5. torch.zeros_like() : 사이즈를 튜플로 입력하지 않고 기존의 텐서로 정의\n",
        "\n",
        "6. torch.linspace() : 시작점과 끝점을 주어진 갯수만큼 균등하게 나눈 간격점을 행벡터로 출력\n",
        "\n",
        "7. torch.logspace() : 시작점과 끝점을 주어진 갯수만큼 로그간격으로 나눈 간격점을 행벡터로 출력"
      ],
      "metadata": {
        "id": "iMFqNMCdsd0g"
      }
    },
    {
      "cell_type": "code",
      "source": [
        "import torch\n",
        "\n",
        "# Create a tensor with a specific value\n",
        "tensor_arange = torch.arange(0, 10)\n",
        "tensor_ones = torch.ones(3, 3)\n",
        "tensor_zeros = torch.zeros(3, 3)\n",
        "tensor_ones_like = torch.ones_like(existing_tensor)\n",
        "tensor_zeros_like = torch.zeros_like(existing_tensor)\n",
        "tensor_linspace = torch.linspace(0, 10, steps=5)\n",
        "tensor_logspace = torch.logspace(start=-1, end=1, steps=5)\n",
        "\n",
        "# Output for demonstration\n",
        "tensor_arange, tensor_ones, tensor_zeros, tensor_ones_like, tensor_zeros_like, tensor_linspace, tensor_logspace"
      ],
      "metadata": {
        "colab": {
          "base_uri": "https://localhost:8080/"
        },
        "id": "0DKH9GZwaCKP",
        "outputId": "6a18e613-d6f9-4a94-f654-5685482f0ef0"
      },
      "execution_count": null,
      "outputs": [
        {
          "output_type": "execute_result",
          "data": {
            "text/plain": [
              "(tensor([0, 1, 2, 3, 4, 5, 6, 7, 8, 9]),\n",
              " tensor([[1., 1., 1.],\n",
              "         [1., 1., 1.],\n",
              "         [1., 1., 1.]]),\n",
              " tensor([[0., 0., 0.],\n",
              "         [0., 0., 0.],\n",
              "         [0., 0., 0.]]),\n",
              " tensor([[1, 1],\n",
              "         [1, 1]]),\n",
              " tensor([[0, 0],\n",
              "         [0, 0]]),\n",
              " tensor([ 0.0000,  2.5000,  5.0000,  7.5000, 10.0000]),\n",
              " tensor([ 0.1000,  0.3162,  1.0000,  3.1623, 10.0000]))"
            ]
          },
          "metadata": {},
          "execution_count": 15
        }
      ]
    },
    {
      "cell_type": "markdown",
      "source": [
        "`view`: 텐서의 크기(size)나 모양(shape)을 변경\n",
        "\n",
        "- 기본적으로 변경 전과 후에 텐서 안의 원소 개수가 유지되어야 함\n",
        "- -1로 설정되면 계산을 통해 해당 크기값을 유추"
      ],
      "metadata": {
        "id": "jAqXfVT-uPDA"
      }
    },
    {
      "cell_type": "code",
      "source": [
        "x = torch.randn(4,5)\n",
        "print(x, '\\n')\n",
        "\n",
        "y = x.view(20) # view() 함수는 텐서의 크기를 변경\n",
        "print(y, '\\n')\n",
        "z = x.view(5,-1) # -1은 다른 차원에서 계산된 값에 따라 자동으로 결정\n",
        "print(z)"
      ],
      "metadata": {
        "colab": {
          "base_uri": "https://localhost:8080/"
        },
        "id": "xBY7cv88aCHn",
        "outputId": "94acd720-dd2a-44e2-a74d-ef74b9e4ec22"
      },
      "execution_count": null,
      "outputs": [
        {
          "output_type": "stream",
          "name": "stdout",
          "text": [
            "tensor([[-0.3070,  1.7022,  0.4849,  0.6610, -0.3172],\n",
            "        [ 1.8159,  0.1946, -0.3486, -0.4460, -0.6909],\n",
            "        [-0.2292,  0.7246, -0.1984,  1.0816, -0.2144],\n",
            "        [-0.3890, -0.1636, -0.2202,  1.7115, -0.7940]]) \n",
            "\n",
            "tensor([-0.3070,  1.7022,  0.4849,  0.6610, -0.3172,  1.8159,  0.1946, -0.3486,\n",
            "        -0.4460, -0.6909, -0.2292,  0.7246, -0.1984,  1.0816, -0.2144, -0.3890,\n",
            "        -0.1636, -0.2202,  1.7115, -0.7940]) \n",
            "\n",
            "tensor([[-0.3070,  1.7022,  0.4849,  0.6610],\n",
            "        [-0.3172,  1.8159,  0.1946, -0.3486],\n",
            "        [-0.4460, -0.6909, -0.2292,  0.7246],\n",
            "        [-0.1984,  1.0816, -0.2144, -0.3890],\n",
            "        [-0.1636, -0.2202,  1.7115, -0.7940]])\n"
          ]
        }
      ]
    },
    {
      "cell_type": "code",
      "source": [
        "# 'item' : 텐서에 값이 단 하나라도 존재하면 숫자값을 얻을 수 있음.\n",
        "x = torch.randn(1)\n",
        "print(x)\n",
        "print(x.item()) # item() 함수는 텐서의 값을 Python 숫자로 반환하며 텐서에서 값만 추출\n",
        "print(x.dtype)"
      ],
      "metadata": {
        "colab": {
          "base_uri": "https://localhost:8080/"
        },
        "id": "mI6fcqLEaCFB",
        "outputId": "0b352148-3e9d-4791-890f-b638d7c6e251"
      },
      "execution_count": null,
      "outputs": [
        {
          "output_type": "stream",
          "name": "stdout",
          "text": [
            "tensor([0.2130])\n",
            "0.2130080759525299\n",
            "torch.float32\n"
          ]
        }
      ]
    },
    {
      "cell_type": "markdown",
      "source": [
        "squeeze() 함수는 크기가 1인 입력 텐서의 모든 차원을 제거하는 데 사용\n",
        "- dim이 제공되지 않으면 squeeze()는 텐서에서 크기 1의 모든 차원을 제거\n",
        "- dim이 제공되면 크기가 1인 경우에만 지정된 차원만 제거. 즉 (1, 2, 1, 3)인 텐서가 있고 dim이 2이면 결과의 크기는 (1, 2, 3)"
      ],
      "metadata": {
        "id": "_tvFhK7tvDA3"
      }
    },
    {
      "cell_type": "code",
      "source": [
        "# 'squeeze' : 차원을 축수(제거)\n",
        "tensor = torch.rand(1, 3, 3)\n",
        "print(tensor)\n",
        "print(tensor.shape)\n",
        "t = tensor.squeeze()\n",
        "print(t)\n",
        "print(t.shape)"
      ],
      "metadata": {
        "colab": {
          "base_uri": "https://localhost:8080/"
        },
        "id": "tf_6R9L5aCCX",
        "outputId": "f4cdedbe-8ba4-4f9a-b904-d3f40931b4f0"
      },
      "execution_count": null,
      "outputs": [
        {
          "output_type": "stream",
          "name": "stdout",
          "text": [
            "tensor([[[0.3570, 0.2035, 0.0731],\n",
            "         [0.7569, 0.4327, 0.8649],\n",
            "         [0.1795, 0.7521, 0.4555]]])\n",
            "torch.Size([1, 3, 3])\n",
            "tensor([[0.3570, 0.2035, 0.0731],\n",
            "        [0.7569, 0.4327, 0.8649],\n",
            "        [0.1795, 0.7521, 0.4555]])\n",
            "torch.Size([3, 3])\n"
          ]
        }
      ]
    },
    {
      "cell_type": "markdown",
      "source": [
        "tensor.unsqueeze(dim=2)\n",
        "\n",
        "- unsqueeze 함수는 텐서에 새로운 차원을 추가. 여기서 dim=2는 새로운 차원이 추가될 위치를 나타내며 기존 텐서의 모든 차원의 인덱스를 증가시키고, 새로운 차원은 dim=2에 위치.\n",
        "\n",
        "- 원래 텐서의 모양(shape)이 (3, 4)이었다면, unsqueeze(dim=2)를 적용한 후의 모양은 (3, 4, 1)이 됩니다. 따라서, 이 코드에서는 기존 텐서에 1차원을 추가"
      ],
      "metadata": {
        "id": "WniYD1YBvr3m"
      }
    },
    {
      "cell_type": "code",
      "source": [
        "t = torch.rand(3, 3)\n",
        "print(t)\n",
        "print(t.shape)\n",
        "tensor = t.unsqueeze(dim=0)\n",
        "print(tensor)\n",
        "print(tensor.shape)"
      ],
      "metadata": {
        "colab": {
          "base_uri": "https://localhost:8080/"
        },
        "id": "aaYICC7NaB_o",
        "outputId": "c76308a7-5078-4d93-e043-3412f66ce617"
      },
      "execution_count": null,
      "outputs": [
        {
          "output_type": "stream",
          "name": "stdout",
          "text": [
            "tensor([[0.0276, 0.2011, 0.7821],\n",
            "        [0.4610, 0.8337, 0.9031],\n",
            "        [0.9554, 0.7572, 0.4099]])\n",
            "torch.Size([3, 3])\n",
            "tensor([[[0.0276, 0.2011, 0.7821],\n",
            "         [0.4610, 0.8337, 0.9031],\n",
            "         [0.9554, 0.7572, 0.4099]]])\n",
            "torch.Size([1, 3, 3])\n"
          ]
        }
      ]
    },
    {
      "cell_type": "code",
      "source": [
        "tensor.shape"
      ],
      "metadata": {
        "colab": {
          "base_uri": "https://localhost:8080/"
        },
        "id": "WY-2_2plaB8g",
        "outputId": "d3f9309b-fb23-4eff-eacb-725e11a36834"
      },
      "execution_count": null,
      "outputs": [
        {
          "output_type": "execute_result",
          "data": {
            "text/plain": [
              "torch.Size([1, 3, 3])"
            ]
          },
          "metadata": {},
          "execution_count": 21
        }
      ]
    },
    {
      "cell_type": "code",
      "source": [
        "tensor = tensor.unsqueeze(dim=2)\n",
        "print(tensor)\n",
        "print(tensor.shape)"
      ],
      "metadata": {
        "colab": {
          "base_uri": "https://localhost:8080/"
        },
        "id": "z3EeIpTdaB6Q",
        "outputId": "bed40777-df4e-4c93-bdfb-09a787bdcb8a"
      },
      "execution_count": null,
      "outputs": [
        {
          "output_type": "stream",
          "name": "stdout",
          "text": [
            "tensor([[[[0.0276, 0.2011, 0.7821]],\n",
            "\n",
            "         [[0.4610, 0.8337, 0.9031]],\n",
            "\n",
            "         [[0.9554, 0.7572, 0.4099]]]])\n",
            "torch.Size([1, 3, 1, 3])\n"
          ]
        }
      ]
    },
    {
      "cell_type": "markdown",
      "source": [
        "Q. 아래 텐서를 torch.Size([3,5])로 변경하세요"
      ],
      "metadata": {
        "id": "Du-J9T6n2kdK"
      }
    },
    {
      "cell_type": "code",
      "source": [
        "import torch\n",
        "\n",
        "# 초기 텐서 생성\n",
        "tensor_for_squeeze = torch.randn(1, 3, 1, 5)\n",
        "print(\"차원 축소 전 텐서 (squeeze 전):\", tensor_for_squeeze)\n",
        "print(\"차원 축소 전 형태\", tensor_for_squeeze.shape)"
      ],
      "metadata": {
        "colab": {
          "base_uri": "https://localhost:8080/"
        },
        "id": "LvXeTabsaB3w",
        "outputId": "19e5d5c8-e480-440e-8109-60a350cc8ce0"
      },
      "execution_count": null,
      "outputs": [
        {
          "output_type": "stream",
          "name": "stdout",
          "text": [
            "차원 축소 전 텐서 (squeeze 전): tensor([[[[-0.0995, -0.2563, -1.6806,  0.3176, -0.2511]],\n",
            "\n",
            "         [[ 1.2418, -0.2236,  2.1539,  0.4396,  1.1434]],\n",
            "\n",
            "         [[-2.1019,  0.2155, -1.8998,  0.7468,  0.2406]]]])\n",
            "차원 축소 전 형태 torch.Size([1, 3, 1, 5])\n"
          ]
        }
      ]
    },
    {
      "cell_type": "code",
      "source": [
        "# torch.squeeze()는 모든 크기 1인 차원을 자동으로 제거하지만, 특정 차원만 제거하고 싶다면 차원을 지정할 수도 있습니다.\n",
        "squeeze_tensor = torch.squeeze(tensor_for_squeeze)\n",
        "print(squeeze_tensor.shape)"
      ],
      "metadata": {
        "colab": {
          "base_uri": "https://localhost:8080/"
        },
        "id": "YNTJYYTqaBzY",
        "outputId": "b88fb040-e30b-4e29-81e5-e23e641e8a4a"
      },
      "execution_count": null,
      "outputs": [
        {
          "output_type": "stream",
          "name": "stdout",
          "text": [
            "torch.Size([3, 5])\n"
          ]
        }
      ]
    },
    {
      "cell_type": "markdown",
      "source": [
        "Q. 아래 텐서를 torch.Size([1,3,5])로 변경하세요."
      ],
      "metadata": {
        "id": "5F4fInUd3guT"
      }
    },
    {
      "cell_type": "code",
      "source": [
        "import torch\n",
        "\n",
        "# 초기 텐서 생성\n",
        "tensor_for_unsqueeze = torch.randn(3,5)\n",
        "print(\"차원 축소 전 텐서 (squeeze 전):\", tensor_for_unsqueeze)\n",
        "print(\"차원 축소 전 형태\", tensor_for_unsqueeze.shape)"
      ],
      "metadata": {
        "colab": {
          "base_uri": "https://localhost:8080/"
        },
        "id": "3dzYYjGfaBxQ",
        "outputId": "914521bc-6c7b-4889-c4e4-f05e9771fe67"
      },
      "execution_count": null,
      "outputs": [
        {
          "output_type": "stream",
          "name": "stdout",
          "text": [
            "차원 축소 전 텐서 (squeeze 전): tensor([[-0.2437, -2.0381,  1.3812,  1.0127,  0.4539],\n",
            "        [-0.1267,  2.6175, -0.1964,  1.0544,  1.7656],\n",
            "        [-0.2522, -1.1112, -1.0110,  1.2428,  0.7256]])\n",
            "차원 축소 전 형태 torch.Size([3, 5])\n"
          ]
        }
      ]
    },
    {
      "cell_type": "code",
      "source": [
        "unsqueezed_tensor = torch.unsqueeze(tensor_for_unsqueeze, 0)\n",
        "print(unsqueezed_tensor.shape)"
      ],
      "metadata": {
        "colab": {
          "base_uri": "https://localhost:8080/"
        },
        "id": "fFs4YMlmaBuo",
        "outputId": "316a795e-8a17-422a-a030-3a466ac81fd2"
      },
      "execution_count": null,
      "outputs": [
        {
          "output_type": "stream",
          "name": "stdout",
          "text": [
            "torch.Size([1, 3, 5])\n"
          ]
        }
      ]
    },
    {
      "cell_type": "markdown",
      "source": [
        "Task1_0827. 2행 3열 텐서의 크기를 3행 2열로 변경하세요.\n",
        "- view 사용\n",
        "- reshape 사용\n",
        "- transpose 사용"
      ],
      "metadata": {
        "id": "E_EA0j-_34zi"
      }
    },
    {
      "cell_type": "code",
      "source": [
        "import torch\n",
        "\n",
        "# 크기가 2x3인 텐서를 생성합니다.\n",
        "tensor = torch.tensor([[1, 2, 3], [4, 5, 6]])\n",
        "\n",
        "# view를 사용하여 텐서의 크기를 3x2로 변경합니다.\n",
        "reshaped_tensor_view = tensor.view(3, 2)\n",
        "\n",
        "# reshape를 사용하여 텐서의 크기를 3x2로 변경합니다.\n",
        "reshaped_tensor_reshape = tensor.reshape(3, 2)\n",
        "\n",
        "# transpose를 사용하여 텐서의 차원을 교환합니다.\n",
        "transposed_tensor = tensor.transpose(0, 1)\n",
        "\n",
        "reshaped_tensor_view, reshaped_tensor_reshape, transposed_tensor"
      ],
      "metadata": {
        "colab": {
          "base_uri": "https://localhost:8080/"
        },
        "id": "LKG7mAzZaBqg",
        "outputId": "6d751eea-2814-4218-dbd7-516e54ef0f2d"
      },
      "execution_count": 2,
      "outputs": [
        {
          "output_type": "execute_result",
          "data": {
            "text/plain": [
              "(tensor([[1, 2],\n",
              "         [3, 4],\n",
              "         [5, 6]]),\n",
              " tensor([[1, 2],\n",
              "         [3, 4],\n",
              "         [5, 6]]),\n",
              " tensor([[1, 4],\n",
              "         [2, 5],\n",
              "         [3, 6]]))"
            ]
          },
          "metadata": {},
          "execution_count": 2
        }
      ]
    },
    {
      "cell_type": "markdown",
      "source": [
        "stack은 새로운 차원을 추가하여 텐서들을 결합하는 반면, cat은 기존 차원을 따라 텐서들을 연결\n",
        "\n",
        "- stack : torch.stack()은 새로운 차원을 추가한 후 텐서를 결합합니다. 즉, 텐서들의 차원 수가 1 증가하며, 지정된 차원에 새로운 차원을 추가한 뒤 해당 차원을 따라 텐서들을 쌓습니다.\n",
        "- cat: torch.cat()은 기존의 차원을 따라 텐서들을 연결합니다. 즉, 텐서의 차원 수는 그대로 유지되며, 지정된 차원(axis)에서 텐서들이 연결됩니다."
      ],
      "metadata": {
        "id": "HOrFaF4OWAn_"
      }
    },
    {
      "cell_type": "code",
      "source": [
        "x = torch.FloatTensor([1,4])\n",
        "print(x)\n",
        "y = torch.FloatTensor([2,5])\n",
        "print(y)\n",
        "z = torch.FloatTensor([3,6])\n",
        "print(z)\n",
        "print(torch.stack([x,y,z]))"
      ],
      "metadata": {
        "colab": {
          "base_uri": "https://localhost:8080/"
        },
        "id": "utVHXPlUVuj_",
        "outputId": "3aaa3e7a-0bf1-4b2f-b18e-1586facb954a"
      },
      "execution_count": 3,
      "outputs": [
        {
          "output_type": "stream",
          "name": "stdout",
          "text": [
            "tensor([1., 4.])\n",
            "tensor([2., 5.])\n",
            "tensor([3., 6.])\n",
            "tensor([[1., 4.],\n",
            "        [2., 5.],\n",
            "        [3., 6.]])\n"
          ]
        }
      ]
    },
    {
      "cell_type": "code",
      "source": [
        "torch.tensor([1,4])"
      ],
      "metadata": {
        "colab": {
          "base_uri": "https://localhost:8080/"
        },
        "id": "tUQG7mYbXQdH",
        "outputId": "baa189a3-e4bd-4805-99f3-f5e2d80242d6"
      },
      "execution_count": 4,
      "outputs": [
        {
          "output_type": "execute_result",
          "data": {
            "text/plain": [
              "tensor([1, 4])"
            ]
          },
          "metadata": {},
          "execution_count": 4
        }
      ]
    },
    {
      "cell_type": "code",
      "source": [
        "t = torch.tensor([1,4], dtype=torch.float32)\n",
        "print(t, t.dtype)"
      ],
      "metadata": {
        "colab": {
          "base_uri": "https://localhost:8080/"
        },
        "id": "k_mIm3jLX_QG",
        "outputId": "7d13b006-f00a-4b3c-e43d-cbbf5a5ae78f"
      },
      "execution_count": 6,
      "outputs": [
        {
          "output_type": "stream",
          "name": "stdout",
          "text": [
            "tensor([1., 4.]) torch.float32\n"
          ]
        }
      ]
    },
    {
      "cell_type": "code",
      "source": [
        "a = torch.randn(1,3,3)\n",
        "print(a,'\\n')\n",
        "b = torch.randn(1,3,3)\n",
        "print(b,'\\n')\n",
        "c = torch.cat([a,b], dim=0)\n",
        "print(c,'\\n')\n",
        "print(c.size())"
      ],
      "metadata": {
        "colab": {
          "base_uri": "https://localhost:8080/"
        },
        "id": "Rju7poqfVuh-",
        "outputId": "2be76892-16f4-46a2-8fce-8ee3bac61d05"
      },
      "execution_count": 5,
      "outputs": [
        {
          "output_type": "stream",
          "name": "stdout",
          "text": [
            "tensor([[[-0.6072,  0.7648, -1.1986],\n",
            "         [ 0.1529,  0.9990,  1.9443],\n",
            "         [ 0.9240, -0.2821,  1.3880]]]) \n",
            "\n",
            "tensor([[[ 0.2805, -0.7762,  0.3210],\n",
            "         [-1.8162, -1.8211,  1.8112],\n",
            "         [-1.4127, -0.2883, -1.5152]]]) \n",
            "\n",
            "tensor([[[-0.6072,  0.7648, -1.1986],\n",
            "         [ 0.1529,  0.9990,  1.9443],\n",
            "         [ 0.9240, -0.2821,  1.3880]],\n",
            "\n",
            "        [[ 0.2805, -0.7762,  0.3210],\n",
            "         [-1.8162, -1.8211,  1.8112],\n",
            "         [-1.4127, -0.2883, -1.5152]]]) \n",
            "\n",
            "torch.Size([2, 3, 3])\n"
          ]
        }
      ]
    },
    {
      "cell_type": "markdown",
      "source": [
        "chunk: torch.chunk()는 텐서를 주어진 개수의 균등한 크기로 나눕니다. 나누어진 텐서들의 크기는 가능한 한 동일하게 유지되며, 전체 크기를 나누어 떨어지지 않으면 마지막 텐서는 더 작은 크기가 될 수 있습니다.(몇 개로 나눌 것인가?)\n",
        "\n",
        "split: torch.split()은 텐서를 주어진 크기를 기준으로 나눕니다. 분할되는 각 텐서의 크기를 직접 지정할 수 있습니다. 크기가 균등하지 않아도 되며, 마지막 텐서의 크기는 자동으로 조정됩니다. (텐서의 크기는 몇인가?)"
      ],
      "metadata": {
        "id": "oRnFjbkGY6vl"
      }
    },
    {
      "cell_type": "code",
      "source": [
        "tensor = torch.rand(3,6)\n",
        "print(tensor)\n",
        "\n",
        "t1, t2 = torch.chunk(tensor, 2, dim=1)\n",
        "print(t1, t1.shape)\n",
        "print(t2)\n",
        "# print(t3)"
      ],
      "metadata": {
        "colab": {
          "base_uri": "https://localhost:8080/"
        },
        "id": "i2ABMhOGVufu",
        "outputId": "9e5b8255-b1d4-4dfb-bd6d-18d0cac1cffb"
      },
      "execution_count": 7,
      "outputs": [
        {
          "output_type": "stream",
          "name": "stdout",
          "text": [
            "tensor([[0.8007, 0.9998, 0.0710, 0.3831, 0.6344, 0.8976],\n",
            "        [0.1420, 0.9004, 0.0533, 0.4146, 0.1304, 0.0572],\n",
            "        [0.0510, 0.9486, 0.8641, 0.6834, 0.2748, 0.3813]])\n",
            "tensor([[0.8007, 0.9998, 0.0710],\n",
            "        [0.1420, 0.9004, 0.0533],\n",
            "        [0.0510, 0.9486, 0.8641]]) torch.Size([3, 3])\n",
            "tensor([[0.3831, 0.6344, 0.8976],\n",
            "        [0.4146, 0.1304, 0.0572],\n",
            "        [0.6834, 0.2748, 0.3813]])\n"
          ]
        }
      ]
    },
    {
      "cell_type": "code",
      "source": [
        "tensor = torch.rand(3, 6)\n",
        "t1, t2, t3 = torch.split(tensor, 2, dim=1)\n",
        "\n",
        "print(tensor)\n",
        "print(t1, t1.shape)\n",
        "print(t2)\n",
        "print(t3)"
      ],
      "metadata": {
        "colab": {
          "base_uri": "https://localhost:8080/"
        },
        "id": "0_rRILyEVudu",
        "outputId": "6e72e0c6-10c3-4b32-e592-ef0bb81dca45"
      },
      "execution_count": 8,
      "outputs": [
        {
          "output_type": "stream",
          "name": "stdout",
          "text": [
            "tensor([[0.7896, 0.0888, 0.0958, 0.0521, 0.3430, 0.2383],\n",
            "        [0.4046, 0.4241, 0.3955, 0.3471, 0.3254, 0.4082],\n",
            "        [0.3522, 0.7685, 0.4637, 0.9775, 0.9875, 0.4433]])\n",
            "tensor([[0.7896, 0.0888],\n",
            "        [0.4046, 0.4241],\n",
            "        [0.3522, 0.7685]]) torch.Size([3, 2])\n",
            "tensor([[0.0958, 0.0521],\n",
            "        [0.3955, 0.3471],\n",
            "        [0.4637, 0.9775]])\n",
            "tensor([[0.3430, 0.2383],\n",
            "        [0.3254, 0.4082],\n",
            "        [0.9875, 0.4433]])\n"
          ]
        }
      ]
    },
    {
      "cell_type": "code",
      "source": [
        "tensor = torch.rand(3, 6)\n",
        "t1, t2 = torch.chunk(tensor, 2, dim=1)\n",
        "\n",
        "print(tensor)\n",
        "print(t1, t1.shape)\n",
        "print(t2)\n",
        "print(t3)"
      ],
      "metadata": {
        "colab": {
          "base_uri": "https://localhost:8080/"
        },
        "id": "sf-qrezbVubm",
        "outputId": "e0bf3e95-c341-4c32-bdac-55d8e73d4142"
      },
      "execution_count": 10,
      "outputs": [
        {
          "output_type": "stream",
          "name": "stdout",
          "text": [
            "tensor([[0.7444, 0.3987, 0.8050, 0.6403, 0.1055, 0.5700],\n",
            "        [0.7539, 0.5832, 0.5417, 0.8544, 0.0687, 0.5327],\n",
            "        [0.9689, 0.8658, 0.1488, 0.9451, 0.4372, 0.5396]])\n",
            "tensor([[0.7444, 0.3987, 0.8050],\n",
            "        [0.7539, 0.5832, 0.5417],\n",
            "        [0.9689, 0.8658, 0.1488]]) torch.Size([3, 3])\n",
            "tensor([[0.6403, 0.1055, 0.5700],\n",
            "        [0.8544, 0.0687, 0.5327],\n",
            "        [0.9451, 0.4372, 0.5396]])\n",
            "tensor([[0.3430, 0.2383],\n",
            "        [0.3254, 0.4082],\n",
            "        [0.9875, 0.4433]])\n"
          ]
        }
      ]
    },
    {
      "cell_type": "markdown",
      "source": [
        "### PyTorch 데이터 타입\n",
        "PyTorch에서 Tensor는 다양한 데이터 타입을 가질 수 있으며, 각 데이터 타입은 Tensor의 저장 및 연산 방식에 영향을 미칩니다. PyTorch에서 지원하는 주요 데이터 타입은 각기 다른 크기와 표현 방식으로 데이터를 처리하는 데 사용되며, 특히 GPU와 CPU 간의 효율적인 메모리 사용과 성능 최적화에 중요합니다.\n",
        "\n",
        "아래는 PyTorch에서 지원하는 주요 데이터 타입들을 정리한 표입니다.\n",
        "\n",
        "| 데이터 타입                | 설명                              | 약어  |\n",
        "|----------------------------|-----------------------------------|-------|\n",
        "| `torch.float32` (기본값)    | 32비트 부동 소수점                | `torch.float` 또는 `torch.FloatTensor` |\n",
        "| `torch.float64`             | 64비트 부동 소수점 (double precision) | `torch.double` 또는 `torch.DoubleTensor` |\n",
        "| `torch.float16`             | 16비트 부동 소수점 (half precision) | `torch.half` 또는 `torch.HalfTensor` |\n",
        "| `torch.int8`                | 8비트 정수                       | `torch.int8` |\n",
        "| `torch.uint8`               | 8비트 부호 없는 정수             | `torch.uint8` |\n",
        "| `torch.int16`               | 16비트 정수                      | `torch.short` 또는 `torch.ShortTensor` |\n",
        "| `torch.int32`               | 32비트 정수                      | `torch.int` 또는 `torch.IntTensor` |\n",
        "| `torch.int64`               | 64비트 정수 (long precision)     | `torch.long` 또는 `torch.LongTensor` |\n",
        "| `torch.bool`                | Boolean 타입 (True/False)         | `torch.bool` |\n",
        "| `torch.bfloat16`            | 16비트 블록 부동 소수점 (bfloat16) | `torch.bfloat16` |\n",
        "\n",
        "### 데이터 타입 설명\n",
        "\n",
        "1. **부동 소수점 타입 (Floating-Point Types)**\n",
        "   - `torch.float32` (기본값): 32비트 부동 소수점 타입입니다. 딥러닝에서 일반적으로 사용되는 데이터 타입이며, 많은 연산의 기본 데이터 타입입니다.\n",
        "   - `torch.float64`: 64비트 부동 소수점 타입으로, 더 높은 정밀도를 필요로 하는 연산에 사용됩니다. 메모리 사용량은 `torch.float32`에 비해 2배이지만, 연산 속도는 느릴 수 있습니다.\n",
        "   - `torch.float16`: 16비트 부동 소수점 타입으로, 메모리 사용량을 줄이고 빠른 연산을 위해 사용됩니다. 주로 GPU에서 사용되며, 정밀도가 낮아 질 수 있지만, 최근의 GPU들은 이를 효율적으로 처리합니다.\n",
        "   - `torch.bfloat16`: 16비트 블록 부동 소수점 타입으로, 부동 소수점보다 적은 비트로 표현하지만, 적은 정밀도로도 더 넓은 범위를 표현할 수 있습니다. 주로 메모리 최적화와 성능 향상 목적으로 사용됩니다.\n",
        "\n",
        "2. **정수 타입 (Integer Types)**\n",
        "   - `torch.int8`: 8비트 정수 타입으로, 매우 작은 메모리 공간을 차지하는 정수 연산에 사용됩니다.\n",
        "   - `torch.uint8`: 8비트 부호 없는 정수 타입으로, 음수를 표현하지 않고 0에서 255 범위의 양수만 표현하는 정수형입니다. 주로 이미지 데이터에서 픽셀 값으로 사용됩니다.\n",
        "   - `torch.int16`: 16비트 정수 타입으로, 음수를 포함한 정수 표현이 가능합니다.\n",
        "   - `torch.int32`: 32비트 정수 타입으로, 딥러닝에서 주로 사용되는 정수 타입입니다.\n",
        "   - `torch.int64`: 64비트 정수 타입으로, 더 큰 범위의 정수를 필요로 하는 연산에 사용됩니다. PyTorch에서는 `torch.long`이 기본적으로 `torch.int64`를 가리킵니다.\n",
        "\n",
        "3. **Boolean 타입**\n",
        "   - `torch.bool`: Boolean 타입으로, 참(True)과 거짓(False) 값만을 가집니다. 논리 연산에 사용되며, 메모리 효율적입니다.\n",
        "\n",
        "### 데이터 타입 선택 가이드\n",
        "- **`float32`**: 딥러닝에서 기본적으로 사용되는 타입. 대부분의 모델에서 연산 성능과 메모리 사용량의 균형이 잘 맞음.\n",
        "- **`float64`**: 높은 정밀도가 필요한 계산에서 사용. 연산 성능은 떨어지지만, 정밀도가 중요할 때 선택.\n",
        "- **`float16`** 및 **`bfloat16`**: 메모리 절약과 속도를 위해 주로 GPU 환경에서 사용. 특히 큰 모델에서 메모리 부족 문제를 해결하는 데 유용.\n",
        "- **`int32` 및 `int64`**: 정수 계산에서 사용. 기본적으로 `int64`는 큰 정수를 다룰 수 있지만 메모리 사용량이 크므로, `int32`를 사용할 수 있는 경우 선택.\n",
        "- **`bool`**: 논리 연산 및 마스크 연산에 사용. True/False를 표현하는 데 매우 효율적."
      ],
      "metadata": {
        "id": "1fj_ckbsgJlZ"
      }
    },
    {
      "cell_type": "markdown",
      "source": [
        "torch ↔ numpy\n",
        "- Torch Tensor(텐서)를 NumPy array(배열)로 변환 가능\n",
        "  - `numpy()`\n",
        "  - `from_numpy()`\n",
        "- Tensor가 CPU상에 있다면 NumPy 배열과 메모리 공간을 공유하므로 하나가 변하면, 다른 하나도 변함"
      ],
      "metadata": {
        "id": "hWLwUoxbcilZ"
      }
    },
    {
      "cell_type": "code",
      "source": [
        "import torch\n",
        "device = torch.device(\"cuda\" if torch.cuda.is_available() else \"cpu\")\n",
        "print(device)"
      ],
      "metadata": {
        "colab": {
          "base_uri": "https://localhost:8080/"
        },
        "id": "z-hVlD2ZVuZm",
        "outputId": "3c2a4c42-9b50-45a2-ecc6-f25337101447"
      },
      "execution_count": 11,
      "outputs": [
        {
          "output_type": "stream",
          "name": "stdout",
          "text": [
            "cuda\n"
          ]
        }
      ]
    },
    {
      "cell_type": "code",
      "source": [
        "a = torch.ones(7)\n",
        "print(a)\n",
        "print(a.dtype)"
      ],
      "metadata": {
        "colab": {
          "base_uri": "https://localhost:8080/"
        },
        "id": "Se0iqWiuVuXe",
        "outputId": "90818fce-2cf1-49bb-9118-66ff9a073467"
      },
      "execution_count": 12,
      "outputs": [
        {
          "output_type": "stream",
          "name": "stdout",
          "text": [
            "tensor([1., 1., 1., 1., 1., 1., 1.])\n",
            "torch.float32\n"
          ]
        }
      ]
    },
    {
      "cell_type": "code",
      "source": [
        "print(a.to('cpu', torch.double)) # 텐서 'a'가 아직 CPU에 없으면 CPU로 이동. 텐서 a의 데이터 유형을 PyTorch의 데이터 유형인 torch.double로 변환\n",
        "print(type(a))"
      ],
      "metadata": {
        "colab": {
          "base_uri": "https://localhost:8080/"
        },
        "id": "4GeO9d-bVuVm",
        "outputId": "b17dea33-c9d5-49dd-e740-c7fcc7d58f3a"
      },
      "execution_count": 13,
      "outputs": [
        {
          "output_type": "stream",
          "name": "stdout",
          "text": [
            "tensor([1., 1., 1., 1., 1., 1., 1.], dtype=torch.float64)\n",
            "<class 'torch.Tensor'>\n"
          ]
        }
      ]
    },
    {
      "cell_type": "code",
      "source": [
        "b = a.numpy()\n",
        "print(b)\n",
        "print(type(b))"
      ],
      "metadata": {
        "colab": {
          "base_uri": "https://localhost:8080/"
        },
        "id": "g1Z23vPgVuTu",
        "outputId": "89356bce-f5c1-4852-c1fe-ce1878bffb8e"
      },
      "execution_count": 14,
      "outputs": [
        {
          "output_type": "stream",
          "name": "stdout",
          "text": [
            "[1. 1. 1. 1. 1. 1. 1.]\n",
            "<class 'numpy.ndarray'>\n"
          ]
        }
      ]
    },
    {
      "cell_type": "code",
      "source": [
        "a.add_(1)\n",
        "print(a)\n",
        "print(type(a))\n",
        "print(b)\n",
        "print(type(b))"
      ],
      "metadata": {
        "colab": {
          "base_uri": "https://localhost:8080/"
        },
        "id": "zK_TUgucVuR3",
        "outputId": "62b0508f-9671-4278-fd4b-a873900edf51"
      },
      "execution_count": 15,
      "outputs": [
        {
          "output_type": "stream",
          "name": "stdout",
          "text": [
            "tensor([2., 2., 2., 2., 2., 2., 2.])\n",
            "<class 'torch.Tensor'>\n",
            "[2. 2. 2. 2. 2. 2. 2.]\n",
            "<class 'numpy.ndarray'>\n"
          ]
        }
      ]
    },
    {
      "cell_type": "markdown",
      "source": [
        "https://tutorials.pytorch.kr/beginner/basics/quickstart_tutorial.html"
      ],
      "metadata": {
        "id": "wKf0vA8cjX94"
      }
    },
    {
      "cell_type": "markdown",
      "source": [
        "파이토치(PyTorch)에는 데이터 작업을 위한 기본 요소 두가지인\n",
        "torch.utils.data.DataLoader 와 torch.utils.data.Dataset 가 있습니다.\n",
        "- Dataset 은 샘플과 정답(label)을 저장하고,\n",
        "- DataLoader 는 Dataset 을 순회 가능한 객체(iterable)로 감쌉니다."
      ],
      "metadata": {
        "id": "o5KORcCijYfx"
      }
    },
    {
      "cell_type": "markdown",
      "source": [
        "ToTensor는 PyTorch의 torchvision.transforms 모듈에 포함된 클래스 중 하나로, 이미지 데이터를 PyTorch에서 사용할 수 있는 Tensor로 변환하는 역할."
      ],
      "metadata": {
        "id": "KEYEVjZnkFbA"
      }
    },
    {
      "cell_type": "code",
      "source": [
        "import torch\n",
        "from torch import nn\n",
        "from torch.utils.data import DataLoader\n",
        "from torchvision import datasets\n",
        "from torchvision.transforms import ToTensor"
      ],
      "metadata": {
        "id": "uQF8EbSMVuPe"
      },
      "execution_count": 16,
      "outputs": []
    },
    {
      "cell_type": "markdown",
      "source": [
        "#### 데이터셋 불러오기\n",
        "TorchVision 에서 Fashion-MNIST 데이터셋을 불러오는 예제를 살펴보겠습니다. Fashion-MNIST는 Zalando의 기사 이미지 데이터셋으로 60,000개의 학습 예제와 10,000개의 테스트 예제로 이루어져 있습니다. 각 예제는 흑백(grayscale)의 28x28 이미지와 10개 분류(class) 중 하나인 정답(label)으로 구성됩니다.\n",
        "\n",
        "다음 매개변수들을 사용하여 FashionMNIST 데이터셋 을 불러옵니다:\n",
        "- root 는 학습/테스트 데이터가 저장되는 경로입니다.\n",
        "- train 은 학습용 또는 테스트용 데이터셋 여부를 지정합니다.\n",
        "- download=True 는 root 에 데이터가 없는 경우 인터넷에서 다운로드합니다.\n",
        "- transform 과 target_transform 은 특징(feature)과 정답(label) 변형(transform)을 지정합니다."
      ],
      "metadata": {
        "id": "7CaESBOJjyMJ"
      }
    },
    {
      "cell_type": "code",
      "source": [
        "# 공개 데이터셋에서 학습 데이터를 내려받습니다.\n",
        "training_data = datasets.FashionMNIST(\n",
        "    root=\"data\",\n",
        "    train=True,\n",
        "    download=True,\n",
        "    transform=ToTensor()\n",
        ")\n",
        "\n",
        "# 공개 데이터셋에서 테스트 데이터를 내려받습니다.\n",
        "test_data = datasets.FashionMNIST(\n",
        "    root=\"data\",\n",
        "    train=False,\n",
        "    download=True,\n",
        "    transform=ToTensor()\n",
        ")"
      ],
      "metadata": {
        "colab": {
          "base_uri": "https://localhost:8080/"
        },
        "id": "G4OoUCaCVuNn",
        "outputId": "11a9c92e-5f8b-42be-e486-7865982d9a4c"
      },
      "execution_count": 17,
      "outputs": [
        {
          "output_type": "stream",
          "name": "stdout",
          "text": [
            "Downloading http://fashion-mnist.s3-website.eu-central-1.amazonaws.com/train-images-idx3-ubyte.gz\n",
            "Downloading http://fashion-mnist.s3-website.eu-central-1.amazonaws.com/train-images-idx3-ubyte.gz to data/FashionMNIST/raw/train-images-idx3-ubyte.gz\n"
          ]
        },
        {
          "output_type": "stream",
          "name": "stderr",
          "text": [
            "100%|██████████| 26421880/26421880 [00:01<00:00, 13468579.36it/s]\n"
          ]
        },
        {
          "output_type": "stream",
          "name": "stdout",
          "text": [
            "Extracting data/FashionMNIST/raw/train-images-idx3-ubyte.gz to data/FashionMNIST/raw\n",
            "\n",
            "Downloading http://fashion-mnist.s3-website.eu-central-1.amazonaws.com/train-labels-idx1-ubyte.gz\n",
            "Downloading http://fashion-mnist.s3-website.eu-central-1.amazonaws.com/train-labels-idx1-ubyte.gz to data/FashionMNIST/raw/train-labels-idx1-ubyte.gz\n"
          ]
        },
        {
          "output_type": "stream",
          "name": "stderr",
          "text": [
            "100%|██████████| 29515/29515 [00:00<00:00, 212631.45it/s]\n"
          ]
        },
        {
          "output_type": "stream",
          "name": "stdout",
          "text": [
            "Extracting data/FashionMNIST/raw/train-labels-idx1-ubyte.gz to data/FashionMNIST/raw\n",
            "\n",
            "Downloading http://fashion-mnist.s3-website.eu-central-1.amazonaws.com/t10k-images-idx3-ubyte.gz\n",
            "Downloading http://fashion-mnist.s3-website.eu-central-1.amazonaws.com/t10k-images-idx3-ubyte.gz to data/FashionMNIST/raw/t10k-images-idx3-ubyte.gz\n"
          ]
        },
        {
          "output_type": "stream",
          "name": "stderr",
          "text": [
            "100%|██████████| 4422102/4422102 [00:01<00:00, 3936989.14it/s]\n"
          ]
        },
        {
          "output_type": "stream",
          "name": "stdout",
          "text": [
            "Extracting data/FashionMNIST/raw/t10k-images-idx3-ubyte.gz to data/FashionMNIST/raw\n",
            "\n",
            "Downloading http://fashion-mnist.s3-website.eu-central-1.amazonaws.com/t10k-labels-idx1-ubyte.gz\n",
            "Downloading http://fashion-mnist.s3-website.eu-central-1.amazonaws.com/t10k-labels-idx1-ubyte.gz to data/FashionMNIST/raw/t10k-labels-idx1-ubyte.gz\n"
          ]
        },
        {
          "output_type": "stream",
          "name": "stderr",
          "text": [
            "100%|██████████| 5148/5148 [00:00<00:00, 24790214.69it/s]"
          ]
        },
        {
          "output_type": "stream",
          "name": "stdout",
          "text": [
            "Extracting data/FashionMNIST/raw/t10k-labels-idx1-ubyte.gz to data/FashionMNIST/raw\n",
            "\n"
          ]
        },
        {
          "output_type": "stream",
          "name": "stderr",
          "text": [
            "\n"
          ]
        }
      ]
    },
    {
      "cell_type": "code",
      "source": [
        "training_data"
      ],
      "metadata": {
        "colab": {
          "base_uri": "https://localhost:8080/"
        },
        "id": "JZ-nixbCqogF",
        "outputId": "2e40378c-2f7a-44c4-8a97-0326d3783d39"
      },
      "execution_count": 20,
      "outputs": [
        {
          "output_type": "execute_result",
          "data": {
            "text/plain": [
              "Dataset FashionMNIST\n",
              "    Number of datapoints: 60000\n",
              "    Root location: data\n",
              "    Split: Train\n",
              "    StandardTransform\n",
              "Transform: ToTensor()"
            ]
          },
          "metadata": {},
          "execution_count": 20
        }
      ]
    },
    {
      "cell_type": "code",
      "source": [
        "!ls data"
      ],
      "metadata": {
        "colab": {
          "base_uri": "https://localhost:8080/"
        },
        "id": "FPF4tUMnVuLe",
        "outputId": "cb4ed187-1e13-4d1f-f164-f32bc19836bb"
      },
      "execution_count": 18,
      "outputs": [
        {
          "output_type": "stream",
          "name": "stdout",
          "text": [
            "FashionMNIST\n"
          ]
        }
      ]
    },
    {
      "cell_type": "markdown",
      "source": [
        "Dataset에 리스트(list)처럼 직접 접근(index)할 수 있습니다 : training_data[index].matplotlib 을 사용하여 학습 데이터의 일부를 시각화해보겠습니다."
      ],
      "metadata": {
        "id": "uc0bcgyBqM6u"
      }
    },
    {
      "cell_type": "code",
      "source": [
        "import matplotlib.pyplot as plt\n",
        "\n",
        "labels_map = {\n",
        "    0: \"T-Shirt\",\n",
        "    1: \"Trouser\",\n",
        "    2: \"Pullover\",\n",
        "    3: \"Dress\",\n",
        "    4: \"Coat\",\n",
        "    5: \"Sandal\",\n",
        "    6: \"Shirt\",\n",
        "    7: \"Sneaker\",\n",
        "    8: \"Bag\",\n",
        "    9: \"Ankle Boot\",\n",
        "}\n",
        "figure = plt.figure(figsize=(8, 8))\n",
        "cols, rows = 3, 3\n",
        "for i in range(1, cols * rows + 1):\n",
        "    sample_idx = torch.randint(len(training_data), size=(1,)).item()\n",
        "    img, label = training_data[sample_idx]\n",
        "    figure.add_subplot(rows, cols, i)\n",
        "    plt.title(labels_map[label])\n",
        "    plt.axis(\"off\")\n",
        "    plt.imshow(img.squeeze(), cmap=\"gray\")\n",
        "plt.show()"
      ],
      "metadata": {
        "colab": {
          "base_uri": "https://localhost:8080/",
          "height": 675
        },
        "id": "vsC4ELlaVuJe",
        "outputId": "012cd5c5-a2b7-4345-eefa-e25d2ca1b11c"
      },
      "execution_count": 19,
      "outputs": [
        {
          "output_type": "display_data",
          "data": {
            "text/plain": [
              "<Figure size 800x800 with 9 Axes>"
            ],
            "image/png": "[encoded data removed]"
          },
          "metadata": {}
        }
      ]
    },
    {
      "cell_type": "markdown",
      "source": [
        " PyTorch의 DataLoader를 사용하여 학습 데이터(training_data)와 테스트 데이터(test_data)를 배치로 로딩하고, 테스트 데이터로더에서 첫 번째 배치의 형태(shape)와 데이터 타입을 출력하는 과정\n",
        "\n",
        "Dataset 을 DataLoader 의 인자로 전달합니다. 이는 데이터셋을 순회 가능한 객체(iterable)로 감싸고, 자동화된 배치(batch), 샘플링(sampling),\n",
        "섞기(shuffle) 및 다중 프로세스로 데이터 불러오기(multiprocess data loading)를 지원합니다. 여기서는 배치 크기(batch size)를 64로 정의합니다.\n",
        "즉, 데이터로더(dataloader) 객체의 각 요소는 64개의 특징(feature)과 정답(label)을 묶음(batch)으로 반환합니다."
      ],
      "metadata": {
        "id": "iFj_3VX_q0A1"
      }
    },
    {
      "cell_type": "code",
      "source": [
        "batch_size = 64\n",
        "\n",
        "# 데이터로더를 생성합니다.\n",
        "train_dataloader = DataLoader(training_data, batch_size=batch_size)\n",
        "test_dataloader = DataLoader(test_data, batch_size=batch_size)\n",
        "\n",
        "for X, y in test_dataloader:\n",
        "    print(f\"Shape of X [N, C, H, W]: , {X.shape}\") # [N, C, H, W]는 일반적으로 이미지 데이터의 차원, 각각 배치 크기(N), 채널 수(C), 높이(H), 너비(W)를 의미.\n",
        "    print(f\"Shape of y: {y.shape}, {y.dtype}\")\n",
        "    break"
      ],
      "metadata": {
        "colab": {
          "base_uri": "https://localhost:8080/"
        },
        "id": "wZmAOba2VuHd",
        "outputId": "018b5fce-ff1d-40b1-d1d9-2dc7a83d8cf1"
      },
      "execution_count": 21,
      "outputs": [
        {
          "output_type": "stream",
          "name": "stdout",
          "text": [
            "Shape of X [N, C, H, W]: , torch.Size([64, 1, 28, 28])\n",
            "Shape of y: torch.Size([64]), torch.int64\n"
          ]
        }
      ]
    },
    {
      "cell_type": "markdown",
      "source": [
        "PyTorch에서 딥러닝 모델을 구성하는 방법은 매우 직관적이며, 주요 방식은 클래스를 정의하여 모델을 설계하는 것입니다. PyTorch의 모든 모델은 torch.nn.Module 클래스를 기반으로 하며, 이 클래스를 상속하여 사용자 정의 모델을 구성할 수 있습니다. 아래는 PyTorch에서 모델을 구성하는 주요 단계와 방식에 대한 설명입니다.\n",
        "\n",
        "### 1. 순전파 (Forward Propagation)\n",
        "순전파는 입력 데이터를 모델에 전달해 예측값을 계산하는 과정입니다. 이때 PyTorch는 각 연산에 대한 계산 그래프를 내부적으로 생성하고, 이 그래프를 통해 역전파를 진행할 준비를 합니다.\n",
        "\n",
        "```python\n",
        "output = model(input_data)  # 순전파\n",
        "```\n",
        "\n",
        "### 2. 손실 함수 계산\n",
        "순전파 결과인 예측값을 기반으로 손실(loss)을 계산합니다. 손실 함수는 예측값과 실제값 간의 차이를 측정하는 함수입니다.\n",
        "\n",
        "```python\n",
        "loss = loss_fn(output, target)  # 예측값과 실제값의 차이로 손실 계산\n",
        "```\n",
        "\n",
        "### 3. 역전파 (Backward Propagation)\n",
        "역전파는 모델의 각 매개변수에 대한 기울기(gradient)를 계산하는 과정입니다. 손실 함수에 대한 각 매개변수의 편미분 값을 구하여 가중치를 업데이트할 수 있는 방향을 결정합니다. PyTorch에서는 `loss.backward()`를 호출함으로써 자동으로 역전파가 수행됩니다.\n",
        "\n",
        "```python\n",
        "loss.backward()  # 역전파 실행, 각 매개변수에 대한 기울기 계산\n",
        "```\n",
        "\n",
        "이 과정을 통해 **모델의 매개변수(가중치)**에 대해 손실 함수의 기울기가 계산되며, 계산된 기울기는 `parameter.grad` 속성에 저장됩니다.\n",
        "\n",
        "### 4. 옵티마이저를 사용한 가중치 갱신\n",
        "역전파를 통해 계산된 기울기를 바탕으로 옵티마이저(optimizer)가 가중치를 갱신합니다. 이를 위해 옵티마이저의 `step()` 함수를 호출합니다.\n",
        "\n",
        "```python\n",
        "optimizer.step()  # 기울기를 이용해 가중치 업데이트\n",
        "```\n",
        "\n",
        "### 역전파의 내부 동작\n",
        "역전파가 어떻게 동작하는지를 자세히 설명하면 다음과 같습니다:\n",
        "\n",
        "1. **계산 그래프 생성**: 순전파에서 각 연산이 수행될 때, PyTorch는 각 연산을 노드로 하는 계산 그래프를 생성합니다. 이 그래프는 텐서 간의 연산을 추적하며, 역전파를 위해 각 연산에 대한 미분 방법도 저장합니다.\n",
        "\n",
        "2. **체인 룰 (Chain Rule)**: 역전파는 체인 룰(연쇄 법칙)을 이용하여 손실에 대한 각 매개변수의 기울기를 계산합니다. 체인 룰이란 복합 함수의 미분을 계산할 때, 각 함수의 미분을 곱하는 방법입니다. PyTorch는 이 체인 룰을 자동으로 적용해, 순전파에서 쌓인 연산들을 역순으로 따라가며 미분을 계산합니다.\n",
        "\n",
        "3. **기울기 저장**: 각 연산을 역으로 추적하면서, 각 매개변수에 대해 손실 함수의 기울기를 계산하고, 이를 해당 매개변수의 `.grad` 속성에 저장합니다. 이 기울기는 이후 옵티마이저에 의해 사용되어 가중치가 갱신됩니다.\n",
        "\n",
        "### 예시 코드\n",
        "\n",
        "```python\n",
        "import torch\n",
        "import torch.nn as nn\n",
        "import torch.optim as optim\n",
        "\n",
        "# 간단한 선형 모델 정의\n",
        "model = nn.Linear(2, 1)  # 입력 2, 출력 1\n",
        "\n",
        "# 입력과 타겟 데이터 생성\n",
        "input_data = torch.tensor([[1.0, 2.0]], requires_grad=True)\n",
        "target = torch.tensor([[1.0]])\n",
        "\n",
        "# 손실 함수와 옵티마이저 정의\n",
        "loss_fn = nn.MSELoss()  # Mean Squared Error Loss\n",
        "optimizer = optim.SGD(model.parameters(), lr=0.01)\n",
        "\n",
        "# 순전파\n",
        "output = model(input_data)\n",
        "loss = loss_fn(output, target)\n",
        "\n",
        "# 역전파\n",
        "optimizer.zero_grad()  # 기울기 초기화\n",
        "loss.backward()        # 역전파 실행\n",
        "optimizer.step()       # 옵티마이저를 통한 가중치 갱신\n",
        "```\n",
        "\n",
        "### `requires_grad`와 계산 기록\n",
        "PyTorch에서는 텐서의 `requires_grad` 속성을 `True`로 설정하면 해당 텐서와 관련된 모든 연산을 추적하여 자동 미분을 가능하게 합니다.\n",
        "\n",
        "- 텐서 `input_data`에서 `requires_grad=True`로 설정했기 때문에, 역전파 시 해당 텐서에 대한 기울기도 계산됩니다.\n",
        "- 계산 그래프를 추적하고 싶지 않은 경우, `torch.no_grad()` 블록 안에서 연산을 수행할 수 있습니다.\n",
        "\n",
        "```python\n",
        "with torch.no_grad():\n",
        "    output = model(input_data)  # 역전파 없이 순전파만 수행\n",
        "```\n",
        "\n",
        "### 중요 개념 요약\n",
        "1. **순전파**: 입력 데이터를 모델에 전달해 출력을 계산하고, 각 연산을 추적하여 계산 그래프를 만듭니다.\n",
        "2. **손실 계산**: 예측값과 실제값의 차이를 계산하여 손실(loss)을 구합니다.\n",
        "3. **역전파**: 손실 함수에 대한 각 매개변수의 기울기를 계산합니다. PyTorch는 자동으로 체인 룰을 적용해 기울기를 계산합니다.\n",
        "4. **기울기 업데이트**: 옵티마이저가 계산된 기울기를 사용하여 매개변수(가중치)를 갱신합니다.\n",
        "\n",
        "이 과정이 반복되면서 모델의 성능이 점차 개선되게 됩니다."
      ],
      "metadata": {
        "id": "HD7oDOlMuJTc"
      }
    },
    {
      "cell_type": "markdown",
      "source": [
        "## 모델 만들기\n",
        "PyTorch에서 신경망 모델은 nn.Module을 상속받는 클래스(class)를 생성하여 정의합니다. ``__init__`` 함수에서 신경망의 계층(layer)들을 정의하고 ``forward`` 함수에서 신경망에 데이터를 어떻게 전달할지 지정합니다. 가능한 경우 GPU로 신경망을 이동시켜 연산을 가속(accelerate)합니다."
      ],
      "metadata": {
        "id": "ycewQ0qJzhoM"
      }
    },
    {
      "cell_type": "markdown",
      "source": [
        "#### 학습을 위한 장치 얻기\n",
        "가능한 경우 GPU와 같은 하드웨어 가속기에서 모델을 학습하려고 합니다. torch.cuda가 사용 가능한지 확인해보고, 그렇지 않으면 CPU를 계속 사용합니다.\n",
        "\n",
        "#### 클래스 정의하기\n",
        "신경망 모델을 nn.Module 의 하위클래스로 정의하고, __init__ 에서 신경망 계층들을 초기화합니다. nn.Module 을 상속받은 모든 클래스는 forward 메소드에 입력 데이터에 대한 연산들을 구현합니다."
      ],
      "metadata": {
        "id": "nirFgFRPziT6"
      }
    },
    {
      "cell_type": "code",
      "source": [
        "# 학습에 사용할 CPU나 GPU, MPS 장치를 얻습니다.\n",
        "device = (\n",
        "    \"cuda\"\n",
        "    if torch.cuda.is_available()\n",
        "    else \"cpu\"\n",
        ")\n",
        "print(f\"Using {device} device\")\n",
        "\n",
        "# 모델을 정의합니다.\n",
        "class NeuralNetwork(nn.Module):\n",
        "    def __init__(self):\n",
        "        super().__init__()\n",
        "        self.flatten = nn.Flatten()\n",
        "        self.linear_relu_stack = nn.Sequential(\n",
        "            nn.Linear(28*28, 512),\n",
        "            nn.ReLU(),\n",
        "            nn.Linear(512, 512),\n",
        "            nn.ReLU(),\n",
        "            nn.Linear(512, 10),\n",
        "            nn.ReLU()\n",
        "        )\n",
        "\n",
        "    def forward(self, x):\n",
        "        x = self.flatten(x)\n",
        "        logits = self.linear_relu_stack(x)\n",
        "        return logits\n",
        "\n",
        "model = NeuralNetwork().to(device)\n",
        "print(model)"
      ],
      "metadata": {
        "colab": {
          "base_uri": "https://localhost:8080/"
        },
        "id": "AZpFneGLVuFe",
        "outputId": "f4ae0877-2fec-4b0b-83dd-069bad9f4d5a"
      },
      "execution_count": 22,
      "outputs": [
        {
          "output_type": "stream",
          "name": "stdout",
          "text": [
            "Using cuda device\n",
            "NeuralNetwork(\n",
            "  (flatten): Flatten(start_dim=1, end_dim=-1)\n",
            "  (linear_relu_stack): Sequential(\n",
            "    (0): Linear(in_features=784, out_features=512, bias=True)\n",
            "    (1): ReLU()\n",
            "    (2): Linear(in_features=512, out_features=512, bias=True)\n",
            "    (3): ReLU()\n",
            "    (4): Linear(in_features=512, out_features=10, bias=True)\n",
            "    (5): ReLU()\n",
            "  )\n",
            ")\n"
          ]
        }
      ]
    },
    {
      "cell_type": "code",
      "source": [
        "import torch\n",
        "import torch.nn as nn\n",
        "\n",
        "class NeuralNetwork(nn.Module):\n",
        "    def __init__(self):\n",
        "        super().__init__()\n",
        "        # 각 레이어를 개별적으로 정의\n",
        "        self.flatten = nn.Flatten()\n",
        "        self.fc1 = nn.Linear(28 * 28, 512) # 첫 번째 선형 계층\n",
        "        self.relu1 = nn.ReLU() # 첫 번째 ReLU 활성화 함수\n",
        "        self.fc2 = nn.Linear(512, 512) # 두 번째 선형 계층\n",
        "        self.relu2 = nn.ReLU() # 두 번째 ReLU 활성화 함수\n",
        "        self.fc3 = nn.Linear(512, 10) # 세 번째 선형 계층(출력 레이어)\n",
        "\n",
        "    def forward(self, x):\n",
        "        x = self.flatten(x) # 입력 이미지를 평탄화\n",
        "        x = self.fc1(x) # 첫 번째 선형 계층 통과\n",
        "        x = self.relu1(x) # 첫 번째 ReLU 활성화\n",
        "        x = self.fc2(x) # 두 번째 선형 계층 통과\n",
        "        x = self.relu2(x) # 두 번째 ReLU 활성화\n",
        "        x = self.fc3(x) # 세 번째 선형 계층 (출력)\n",
        "        return x\n",
        "\n",
        "# 모델을 정의하고 장치에 할당\n",
        "device = torch.device('cuda' if torch.cuda.is_available() else 'cpu')\n",
        "model = NeuralNetwork().to(device)\n",
        "\n",
        "# 모델 구조 출력\n",
        "print(model)"
      ],
      "metadata": {
        "colab": {
          "base_uri": "https://localhost:8080/"
        },
        "id": "0KRCqRZO405A",
        "outputId": "f75145de-87ec-40af-9883-7b6fe6f58d83"
      },
      "execution_count": 26,
      "outputs": [
        {
          "output_type": "stream",
          "name": "stdout",
          "text": [
            "NeuralNetwork(\n",
            "  (flatten): Flatten(start_dim=1, end_dim=-1)\n",
            "  (fc1): Linear(in_features=784, out_features=512, bias=True)\n",
            "  (relu1): ReLU()\n",
            "  (fc2): Linear(in_features=512, out_features=512, bias=True)\n",
            "  (relu2): ReLU()\n",
            "  (fc3): Linear(in_features=512, out_features=10, bias=True)\n",
            ")\n"
          ]
        }
      ]
    },
    {
      "cell_type": "code",
      "source": [
        "# 학습에 사용할 CPU나 GPU, MPS 장치를 얻습니다.\n",
        "device = (\n",
        "    \"cuda\"\n",
        "    if torch.cuda.is_available()\n",
        "    else \"cpu\"\n",
        ")\n",
        "print(f\"Using {device} device\")\n",
        "\n",
        "# 모델을 정의합니다.\n",
        "class NeuralNetwork(nn.Module):\n",
        "    def __init__(self):\n",
        "        super().__init__()\n",
        "        self.flatten = nn.Flatten()\n",
        "        self.linear = nn.Linear(28*28, 10)\n",
        "\n",
        "    def forward(self, x):\n",
        "        x = self.flatten(x)\n",
        "        logits = self.linear(x)\n",
        "        return logits\n",
        "\n",
        "model = NeuralNetwork().to(device)\n",
        "print(model)"
      ],
      "metadata": {
        "colab": {
          "base_uri": "https://localhost:8080/"
        },
        "id": "S69dZ4op2f44",
        "outputId": "62ac51bd-314e-425a-f391-224fc17a4f87"
      },
      "execution_count": 23,
      "outputs": [
        {
          "output_type": "stream",
          "name": "stdout",
          "text": [
            "Using cuda device\n",
            "NeuralNetwork(\n",
            "  (flatten): Flatten(start_dim=1, end_dim=-1)\n",
            "  (linear): Linear(in_features=784, out_features=10, bias=True)\n",
            ")\n"
          ]
        }
      ]
    },
    {
      "cell_type": "markdown",
      "source": [
        "모델을 학습하려면 손실함수(loss function)와 옵티마이저(optimizer)가 필요합니다."
      ],
      "metadata": {
        "id": "cMYG72-62ZeH"
      }
    },
    {
      "cell_type": "code",
      "source": [
        "loss_fn = nn.CrossEntropyLoss()\n",
        "optimizer = torch.optim.SGD(model.parameters(), lr=1e-3)"
      ],
      "metadata": {
        "id": "9N-ZGOvhVuDe"
      },
      "execution_count": 30,
      "outputs": []
    },
    {
      "cell_type": "markdown",
      "source": [
        "각 학습 단계(training loop)에서 모델은 (배치(batch)로 제공되는) 학습 데이터 셋에 대한 예측을 수행하고, 예측 오류를 역전파하여 모델의 매개변수를 조정합니다."
      ],
      "metadata": {
        "id": "OullHB8_8dpW"
      }
    },
    {
      "cell_type": "code",
      "source": [
        "def train(data_loader, model, loss_fn, optimizer):\n",
        "    size = len(data_loader.dataset)\n",
        "    for batch, (X, y) in enumerate(data_loader):\n",
        "        X, y = X.to(device), y.to(device)\n",
        "\n",
        "        # 예측 오류 계산\n",
        "        pred = model(X)\n",
        "        loss = loss_fn(pred, y)\n",
        "\n",
        "        # 역전파\n",
        "        optimizer.zero_grad()\n",
        "        loss.backward()\n",
        "        optimizer.step()\n",
        "\n",
        "        if batch % 100 == 0:\n",
        "            loss, current = loss.item(), (batch + 1) * len(X)\n",
        "            print(f\"loss: {loss:>7f}  [{current:>5d}/{size:>5d}]\")"
      ],
      "metadata": {
        "id": "QIABNG8VVuBu"
      },
      "execution_count": 35,
      "outputs": []
    },
    {
      "cell_type": "markdown",
      "source": [
        "모델이 학습하고 있는지를 확인하기 위해 테스트 데이터셋으로 모델의 성능을 확인합니다."
      ],
      "metadata": {
        "id": "9UilC6Ew9uuq"
      }
    },
    {
      "cell_type": "code",
      "source": [
        "def test(data_loader, model, loss_fn):\n",
        "    size = len(data_loader.dataset)\n",
        "    num_batches = len(data_loader)\n",
        "    model.eval()\n",
        "    test_loss, correct = 0, 0\n",
        "    with torch.no_grad():\n",
        "        for X, y in data_loader:\n",
        "            X, y = X.to(device), y.to(device)\n",
        "            pred = model(X)\n",
        "            test_loss += loss_fn(pred, y).item()\n",
        "            correct += (pred.argmax(1) == y).type(torch.float).sum().item()\n",
        "    test_loss /= num_batches\n",
        "    correct /= size\n",
        "    print(f\"Test Error: \\n Accuracy: {(100*correct):>0.1f}%, Avg loss: {test_loss:>8f} \\n\")"
      ],
      "metadata": {
        "id": "su2XjBXqVt_2"
      },
      "execution_count": 38,
      "outputs": []
    },
    {
      "cell_type": "markdown",
      "source": [
        "학습 단계는 여러번의 반복 단계 (에폭(epochs))를 거쳐서 수행됩니다. 각 에폭에서는 모델은 더 나은 예측을 하기 위해 매개변수를 학습합니다.\n",
        "각 에폭마다 모델의 정확도(accuracy)와 손실(loss)을 출력합니다; 에폭마다 정확도가 증가하고 손실이 감소하는 것을 보려고 합니다.\n"
      ],
      "metadata": {
        "id": "EQRRsK6u-grF"
      }
    },
    {
      "cell_type": "code",
      "source": [
        "epochs = 5\n",
        "for t in range(epochs):\n",
        "    print(f\"Epoch {t+1}\\n-------------------------------\")\n",
        "    train(train_dataloader, model, loss_fn, optimizer)\n",
        "    test(test_dataloader, model, loss_fn)\n",
        "print(\"Done!\")"
      ],
      "metadata": {
        "colab": {
          "base_uri": "https://localhost:8080/"
        },
        "id": "IU1MImGTVt9l",
        "outputId": "fb879bfd-f694-46fd-d8f1-53cc27b8aeda"
      },
      "execution_count": 39,
      "outputs": [
        {
          "output_type": "stream",
          "name": "stdout",
          "text": [
            "Epoch 1\n",
            "-------------------------------\n",
            "loss: 2.176591  [   64/60000]\n",
            "loss: 2.164154  [ 6464/60000]\n",
            "loss: 2.116575  [12864/60000]\n",
            "loss: 2.125376  [19264/60000]\n",
            "loss: 2.072242  [25664/60000]\n",
            "loss: 2.012704  [32064/60000]\n",
            "loss: 2.038290  [38464/60000]\n",
            "loss: 1.970014  [44864/60000]\n",
            "loss: 1.974607  [51264/60000]\n",
            "loss: 1.898357  [57664/60000]\n",
            "Test Error: \n",
            " Accuracy: 56.6%, Avg loss: 1.904144 \n",
            "\n",
            "Epoch 2\n",
            "-------------------------------\n",
            "loss: 1.943685  [   64/60000]\n",
            "loss: 1.912588  [ 6464/60000]\n",
            "loss: 1.807403  [12864/60000]\n",
            "loss: 1.838297  [19264/60000]\n",
            "loss: 1.718806  [25664/60000]\n",
            "loss: 1.674354  [32064/60000]\n",
            "loss: 1.692375  [38464/60000]\n",
            "loss: 1.602667  [44864/60000]\n",
            "loss: 1.627686  [51264/60000]\n",
            "loss: 1.510255  [57664/60000]\n",
            "Test Error: \n",
            " Accuracy: 60.2%, Avg loss: 1.535104 \n",
            "\n",
            "Epoch 3\n",
            "-------------------------------\n",
            "loss: 1.611651  [   64/60000]\n",
            "loss: 1.569562  [ 6464/60000]\n",
            "loss: 1.423110  [12864/60000]\n",
            "loss: 1.485464  [19264/60000]\n",
            "loss: 1.358756  [25664/60000]\n",
            "loss: 1.356852  [32064/60000]\n",
            "loss: 1.367766  [38464/60000]\n",
            "loss: 1.296580  [44864/60000]\n",
            "loss: 1.332585  [51264/60000]\n",
            "loss: 1.222077  [57664/60000]\n",
            "Test Error: \n",
            " Accuracy: 63.5%, Avg loss: 1.256389 \n",
            "\n",
            "Epoch 4\n",
            "-------------------------------\n",
            "loss: 1.342039  [   64/60000]\n",
            "loss: 1.318144  [ 6464/60000]\n",
            "loss: 1.150650  [12864/60000]\n",
            "loss: 1.251042  [19264/60000]\n",
            "loss: 1.128005  [25664/60000]\n",
            "loss: 1.148261  [32064/60000]\n",
            "loss: 1.168405  [38464/60000]\n",
            "loss: 1.108509  [44864/60000]\n",
            "loss: 1.146974  [51264/60000]\n",
            "loss: 1.054826  [57664/60000]\n",
            "Test Error: \n",
            " Accuracy: 64.9%, Avg loss: 1.085222 \n",
            "\n",
            "Epoch 5\n",
            "-------------------------------\n",
            "loss: 1.159679  [   64/60000]\n",
            "loss: 1.160180  [ 6464/60000]\n",
            "loss: 0.974321  [12864/60000]\n",
            "loss: 1.107097  [19264/60000]\n",
            "loss: 0.988607  [25664/60000]\n",
            "loss: 1.010281  [32064/60000]\n",
            "loss: 1.046311  [38464/60000]\n",
            "loss: 0.991484  [44864/60000]\n",
            "loss: 1.029111  [51264/60000]\n",
            "loss: 0.952451  [57664/60000]\n",
            "Test Error: \n",
            " Accuracy: 65.8%, Avg loss: 0.977073 \n",
            "\n",
            "Done!\n"
          ]
        }
      ]
    },
    {
      "cell_type": "code",
      "source": [
        "from google.colab import drive\n",
        "drive.mount('/content/drive')"
      ],
      "metadata": {
        "colab": {
          "base_uri": "https://localhost:8080/"
        },
        "id": "J4Wfn9C-Vt5e",
        "outputId": "2bf7dd86-b771-4215-999a-a5130f6ae7b1"
      },
      "execution_count": 40,
      "outputs": [
        {
          "output_type": "stream",
          "name": "stdout",
          "text": [
            "Mounted at /content/drive\n"
          ]
        }
      ]
    },
    {
      "cell_type": "markdown",
      "source": [
        "## 모델 저장하기\n",
        "모델을 저장하는 일반적인 방법은 (모델의 매개변수들을 포함하여) 내부 상태 사전(internal state dictionary)을\n",
        "직렬화(serialize)하는 것입니다."
      ],
      "metadata": {
        "id": "AV6_85zrCQrU"
      }
    },
    {
      "cell_type": "code",
      "source": [
        "import os\n",
        "save_path = '/content/drive/MyDrive/kdt_240424/m6_dl/data/model/model.pth'\n",
        "\n",
        "os.makedirs(os.path.dirname(save_path), exist_ok=True)"
      ],
      "metadata": {
        "id": "d4IZFo4uVt3W"
      },
      "execution_count": 41,
      "outputs": []
    },
    {
      "cell_type": "code",
      "source": [
        "torch.save(model.state_dict(), save_path)\n",
        "print(\"Saved PyTorch Model State to model.pth\")"
      ],
      "metadata": {
        "colab": {
          "base_uri": "https://localhost:8080/"
        },
        "id": "tQByaNeCpUZV",
        "outputId": "d827511f-96b6-4534-9170-6e4f677a4a08"
      },
      "execution_count": 42,
      "outputs": [
        {
          "output_type": "stream",
          "name": "stdout",
          "text": [
            "Saved PyTorch Model State to model.pth\n"
          ]
        }
      ]
    },
    {
      "cell_type": "markdown",
      "source": [
        "## 모델 불러오기\n",
        "\n",
        "모델을 불러오는 과정에는 모델 구조를 다시 만들고 상태 사전을 모델에 불러오는 과정이 포함됩니다."
      ],
      "metadata": {
        "id": "lJIKRNM2Da8i"
      }
    },
    {
      "cell_type": "code",
      "source": [
        "model = NeuralNetwork().to(device)\n",
        "model.load_state_dict(torch.load(save_path))"
      ],
      "metadata": {
        "colab": {
          "base_uri": "https://localhost:8080/"
        },
        "id": "HY5ZP5t6pUXW",
        "outputId": "3b612a1d-c41d-4104-a1f9-90668fe3da4a"
      },
      "execution_count": 43,
      "outputs": [
        {
          "output_type": "stream",
          "name": "stderr",
          "text": [
            "<ipython-input-43-42f33774d763>:2: FutureWarning: You are using `torch.load` with `weights_only=False` (the current default value), which uses the default pickle module implicitly. It is possible to construct malicious pickle data which will execute arbitrary code during unpickling (See https://github.com/pytorch/pytorch/blob/main/SECURITY.md#untrusted-models for more details). In a future release, the default value for `weights_only` will be flipped to `True`. This limits the functions that could be executed during unpickling. Arbitrary objects will no longer be allowed to be loaded via this mode unless they are explicitly allowlisted by the user via `torch.serialization.add_safe_globals`. We recommend you start setting `weights_only=True` for any use case where you don't have full control of the loaded file. Please open an issue on GitHub for any issues related to this experimental feature.\n",
            "  model.load_state_dict(torch.load(save_path))\n"
          ]
        },
        {
          "output_type": "execute_result",
          "data": {
            "text/plain": [
              "<All keys matched successfully>"
            ]
          },
          "metadata": {},
          "execution_count": 43
        }
      ]
    },
    {
      "cell_type": "markdown",
      "source": [
        "이제 이 모델을 사용해서 예측을 할 수 있습니다."
      ],
      "metadata": {
        "id": "MHedK8InDwDC"
      }
    },
    {
      "cell_type": "code",
      "source": [
        "classes = [\n",
        "    \"T-shirt/top\",\n",
        "    \"Trouser\",\n",
        "    \"Pullover\",\n",
        "    \"Dress\",\n",
        "    \"Coat\",\n",
        "    \"Sandal\",\n",
        "    \"Shirt\",\n",
        "    \"Sneaker\",\n",
        "    \"Bag\",\n",
        "    \"Ankle boot\",\n",
        "]\n",
        "\n",
        "model.eval() # 모델을 평가 모드로 설정\n",
        "x, y = test_data[0][0], test_data[0][1] # 테스트 데이터셋에서 첫 번째 샘플(이미지)과 그에 해당하는 레이블을 가져옴\n",
        "with torch.no_grad(): # 평가 또는 추론 시에는 모델을 업데이트할 필요가 없으므로 그라디언트를 계산할 필요가 없음\n",
        "    x = x.to(device) # 테스트 샘플을 현재 설정된 장치(CPU 또는 GPU)로 이동\n",
        "    pred = model(x)\n",
        "    predicted, actual = classes[pred[0].argmax(0)], classes[y] # 모델의 예측 결과 중 가장 높은 값을 가지는 인덱스와 실제 레이블에 해당하는 클래스 이름을 가져옴\n",
        "    print(f'Predicted: \"{predicted}\", Actual: \"{actual}\"')"
      ],
      "metadata": {
        "colab": {
          "base_uri": "https://localhost:8080/"
        },
        "id": "wc-tpoZqpUVP",
        "outputId": "6b87e484-c980-4103-f5b4-8f87bd04a7b9"
      },
      "execution_count": 44,
      "outputs": [
        {
          "output_type": "stream",
          "name": "stdout",
          "text": [
            "Predicted: \"Ankle boot\", Actual: \"Ankle boot\"\n"
          ]
        }
      ]
    },
    {
      "cell_type": "markdown",
      "source": [
        "- torch: 이것은 메인 PyTorch 라이브러리입니다. 여기에는 GPU를 통한 가속을 통한 텐서 계산 지원, 신경망 훈련을 용이하게 하는 자동 차별화, 모델 구축 및 훈련을 위한 다양한 유틸리티가 포함됩니다.\n",
        "- torch.nn: 레이어, 활성화 함수, 손실 함수와 같은 신경망의 구성 요소를 제공하는 PyTorch의 하위 모듈입니다. 신경망의 아키텍처를 정의하는 데 필수적입니다.\n",
        "- torch.nn.function: 이 모듈에는 torch.nn 레이어에서 사용되는 기능이 포함되어 있습니다. 입력 데이터 및 가중치에 이러한 함수를 직접 사용할 수 있으므로 일부 작업에 더 많은 유연성을 제공합니다. 여기에는 활성화, 손실 계산 및 상태(즉, 가중치)를 유지하지 않는 다양한 기타 작업을 위한 함수가 포함됩니다.\n",
        "- torch.optim: 이 하위 모듈은 SGD(Stochastic Gradient Descent), Adam 등과 같은 신경망 훈련을 위한 최적화 알고리즘을 제공합니다. 이러한 최적화 프로그램은 계산된 기울기를 기반으로 네트워크의 가중치를 업데이트하는 데 사용됩니다.\n",
        "- torchvision: 이미지 데이터 작업을 위한 유틸리티를 제공하는 PyTorch 프로젝트의 패키지입니다. 여기에는 사전 정의된 데이터세트(예: MNIST, CIFAR10, FashionMNIST), 모델 아키텍처(예: ResNet, AlexNet) 및 전처리를 위한 일반적인 이미지 변환이 포함됩니다.\n",
        "- torchvision.transforms: 일반적인 이미지 변환을 제공하는 torchvision 내의 모듈입니다. 이는 이미지를 신경망에 공급하기 전에 데이터 증대 및 이미지 전처리에 사용될 수 있습니다. 예로는 크기 조정, 정규화, 텐서로 변환 등이 있습니다.\n",
        "- SubsetRandomSampler: 교체 없이 데이터세트에서 요소를 무작위로 샘플링하는 데 사용되는 도구입니다. 데이터 세트를 훈련 및 검증/테스트 세트로 분할하거나 모델 훈련을 위해 사용자 정의 데이터 샘플링 전략을 구현하려는 경우에 특히 유용"
      ],
      "metadata": {
        "id": "92386wLxE7ny"
      }
    }
  ]
}