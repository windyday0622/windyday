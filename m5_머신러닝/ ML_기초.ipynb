{
  "nbformat": 4,
  "nbformat_minor": 0,
  "metadata": {
    "colab": {
      "provenance": [],
      "authorship_tag": "ABX9TyPLN4OqL8PXXbAmVCsFME6l",
      "include_colab_link": true
    },
    "kernelspec": {
      "name": "python3",
      "display_name": "Python 3"
    },
    "language_info": {
      "name": "python"
    }
  },
  "cells": [
    {
      "cell_type": "markdown",
      "metadata": {
        "id": "view-in-github",
        "colab_type": "text"
      },
      "source": [
        "<a href=\"https://colab.research.google.com/github/windyday0622/windyday/blob/main/m5_%EB%A8%B8%EC%8B%A0%EB%9F%AC%EB%8B%9D/%20ML_%EA%B8%B0%EC%B4%88.ipynb\" target=\"_parent\"><img src=\"https://colab.research.google.com/assets/colab-badge.svg\" alt=\"Open In Colab\"/></a>"
      ]
    },
    {
      "cell_type": "markdown",
      "source": [
        "## 머신러닝 개요\n",
        "\n",
        "- 데이터를 기반으로 학습하고 예측하는 알고리즘의 한 분야\n",
        "- 머신러닝은 컴퓨터가 명시적으로 프로그래밍되지 않고도 데이터에서 학습하고 예측 가능\n",
        "- 머신러닝의 핵심 사항\n",
        "    - 데이터: 머신러닝은 데이터를 기반으로 학습. 즉 좋은 데이터가 좋은 모델의 핵심\n",
        "    - 알고리즘: 머신러닝에는 다양한 알고리즘이 있습니다. 각 알고리즘은 특정 유형의 문제에 더 적합\n",
        "    - 하이퍼파라미터: 알고리즘의 성능에 영향을 미치는 매개변수를 하이퍼파라미터라고 하는데 하이퍼파라미터는 실험을 통해 최적화\n",
        "    - 평가 지표: 모델의 성능을 측정하는 방법으로 분류모델은 정확도, 정밀도, 재현율,  F1 점수, 회귀모델은 평균 절대 오차, 회귀 작업의 평균 제곱근 오차와 같은 메트릭을 포함\n",
        "- 머신러닝 유형\n",
        "  - 지도 학습: 선형 회귀, 로지스틱 회귀, 결정 트리, 랜덤 포레스트, 그래디언트 부스팅, SVM(Support Vector Machines) 및 k-NN(k-nearest neighbours)과 같은 알고리즘은 레이블이 지정된 학습 데이터를 사용하여 입력 기능을 기반으로 대상 변수를 예측하는 데 사용됩니다.\n",
        "  - 비지도 학습: k-평균, 계층적 클러스터링 및 DBSCAN과 같은 클러스터링 기법 및 PCA(Principal Component Analysis), LDA, SVD 등의 차원 축소 기법\n",
        "  - 강화 학습: 에이전트가 조치를 취하고 그 대가로 보상이나 처벌을 받음으로써 환경에서 행동하는 방법을 배우는 기계 학습으로 목표는 시간이 지남에 따라 누적 보상을 최대화하는 것이다.  \n",
        "  - 신경망 및 딥러닝: 신경망, 역전파 및 CNN(Convolutional Neural Networks), RNN(Recurrent Neural Networks), Long Short-Term 메모리(LSTM) 네트워크\n",
        "  - 자연어 : 트랜스포머 기반의 BERT, GPT Series의 발전으로 자연어 처리의 급속한 발전 진행\n",
        "  - LLM : 거대 생성 언어모델 기반의 ChatGPT 시리즈의 발전으로 인간과 상호작용할 수 있는 수준으로 발전\n",
        "  - 비전 : Yolo를 이용한 다양한 객체탐지솔루션이 폭넓게 활용되고 Stable Diffusion이 이미지 생성을 위한 주요 솔루션으로 확대 예정"
      ],
      "metadata": {
        "id": "4lHF-pK616-G"
      }
    },
    {
      "cell_type": "markdown",
      "source": [
        "## 지도 학습\n",
        "\n",
        "- 학습의 원리\n",
        "    - 지도 학습에서 알고리즘은 레이블이 지정된 학습 데이터에서 학습하고 해당 데이터를 기반으로 예측을 수행.\n",
        "    - 지도 학습 알고리즘은 알려진 입력 데이터 세트(특징)와 데이터에 대한 알려진 응답(대상 또는 레이블)을 입력받아 모델을 훈련하여 새 데이터에 대한 응답에 대한 합리적인 예측을 생성.\n",
        "- 회귀 및 분류라는 두 가지 유형의 문제에 사용.\n",
        "    - 회귀: 회귀는 대상 또는 종속 변수가 연속적이거나 정렬된 전체 값일 때 사용. 회귀에 사용되는 알고리즘에는 선형 회귀, 결정 트리, 랜덤 포레스트 및 GBM 계열의 회귀트리 모델 포함.\n",
        "    - 분류: 분류는 대상 변수가 범주형일 때, 간단히 말해서 입력 데이터를 범주로 분류할 때 사용. 분류에 사용되는 알고리즘에는 Logistic Regression, Naive Bayes, Decision Trees, Random Forests, Support Vector Machines 및 Neural Networks 및 GBM 계열의 Boosting 모델 포함.\n",
        "- 알고리즘이 작동하는 방식\n",
        "    - 데이터 수집: 데이터를 수집하고 전처리. 데이터는 feature와 label로 구분. 이를 위해 사용되는 데이터는 출력 데이터 세트도 제공되기 때문에 레이블이 지정된 데이터라고 한다.\n",
        "    - 모델 훈련: 알고리즘은 훈련 데이터를 통해 학습. feature와 label 간의 패턴 또는 관계를 발견하려고 시도.\n",
        "    - 모델 예측: 모델이 훈련되면 본 적이 없는 새로운 데이터의 결과를 예측하는 데 사용. 이 새 데이터에 대한 입력을 테스트 데이터라고 한다.\n",
        "    - 평가: 모델의 예측을 실제 값과 비교하여 모델의 정확도를 평가. 정확도, 정밀도, 재현율, F1 점수(분류용), 평균 절대 오차(MAE), 평균 제곱 오차(MSE), 평균 제곱근 오차(RMSE)(회귀용)와 같은 다양한 메트릭이 모델을 평가하는 데 사용.\n",
        "    - 조정: 모델의 성능이 만족스럽지 않으면 모델로 돌아가 하이퍼파라미터를 조정하거나 다른 모델을 모두 선택 가능\n",
        "    - 예측: 만족스러운 성능이 달성되면 이제 모델을 사용하여 보이지 않는 새로운 데이터를 예측할 수 있다."
      ],
      "metadata": {
        "id": "izjoE9yVEzwk"
      }
    },
    {
      "cell_type": "markdown",
      "source": [
        "## 지도학습 - 분류\n",
        "사이킷런을 사용하여 붓꽃 데이터셋을 로드하고, 이를 사용해 의사결정나무 알고리즘을 이용하여 붓꽃의 종류를 분류합니다."
      ],
      "metadata": {
        "id": "1L0pzGT3H20r"
      }
    },
    {
      "cell_type": "code",
      "source": [
        "from sklearn.datasets import load_iris\n",
        "from sklearn.model_selection import train_test_split\n",
        "from sklearn.tree import DecisionTreeClassifier\n",
        "from sklearn.metrics import accuracy_score\n",
        "\n",
        "# 데이터 로드\n",
        "iris = load_iris()\n",
        "X = iris.data\n",
        "y = iris.target\n",
        "\n",
        "# 학습 데이터와 테스트 데이터로 분리\n",
        "X_train, X_test, y_train, y_test = train_test_split(X, y, test_size=0.3, random_state=0)\n",
        "\n",
        "# 모델 초기화 및 학습\n",
        "dt = DecisionTreeClassifier()\n",
        "dt.fit(X_train, y_train)\n",
        "\n",
        "# 예측\n",
        "y_pred = dt.predict(X_test)\n",
        "\n",
        "# 정확도 평가\n",
        "accuracy = accuracy_score(y_test, y_pred)\n",
        "print(\"Accuracy:\", accuracy)"
      ],
      "metadata": {
        "colab": {
          "base_uri": "https://localhost:8080/"
        },
        "id": "rRs1WUZG16ou",
        "outputId": "ddef4452-ac06-413b-956a-40d121e20f11"
      },
      "execution_count": null,
      "outputs": [
        {
          "output_type": "stream",
          "name": "stdout",
          "text": [
            "Accuracy: 0.9777777777777777\n"
          ]
        }
      ]
    },
    {
      "cell_type": "markdown",
      "source": [
        "#### 지도학습 - 회귀분석\n",
        "- 캘리포니아 주택 가격 데이터셋을 로드합니다.\n",
        "- 데이터를 학습용 데이터와 테스트용 데이터로 나눕니다.\n",
        "- 선형 회귀 모델을 초기화하고 학습시킵니다.\n",
        "- 학습된 모델을 사용하여 테스트 데이터의 주택 가격을 예측합니다.\n",
        "- 예측값과 실제값을 비교하여 모델의 성능을 평가합니다.\n",
        "\n",
        "결과 해석\n",
        "- Mean Squared Error는 예측값과 실제값의 차이의 제곱의 평균으로, 값이 작을수록 모델의 예측이 정확함을 의미합니다.\n",
        "- 결과 데이터프레임은 실제 주택 가격과 예측된 주택 가격을 나란히 보여줍니다."
      ],
      "metadata": {
        "id": "4p3m1MdLL_4B"
      }
    },
    {
      "cell_type": "code",
      "execution_count": null,
      "metadata": {
        "colab": {
          "base_uri": "https://localhost:8080/",
          "height": 224
        },
        "id": "ZgJ3gX8E13M5",
        "outputId": "2bfe5d22-b1a5-4ef9-e28e-3edf2ce9cb54"
      },
      "outputs": [
        {
          "output_type": "stream",
          "name": "stdout",
          "text": [
            "Mean Squared Error:  0.53\n"
          ]
        },
        {
          "output_type": "execute_result",
          "data": {
            "text/plain": [
              "    Actual  Predicted\n",
              "0  0.47700   0.726049\n",
              "1  0.45800   1.767434\n",
              "2  5.00001   2.710922\n",
              "3  2.18600   2.835147\n",
              "4  2.78000   2.606958"
            ],
            "text/html": [
              "\n",
              "  <div id=\"df-d47cc7da-051e-4163-a2bb-c443d58d8144\" class=\"colab-df-container\">\n",
              "    <div>\n",
              "<style scoped>\n",
              "    .dataframe tbody tr th:only-of-type {\n",
              "        vertical-align: middle;\n",
              "    }\n",
              "\n",
              "    .dataframe tbody tr th {\n",
              "        vertical-align: top;\n",
              "    }\n",
              "\n",
              "    .dataframe thead th {\n",
              "        text-align: right;\n",
              "    }\n",
              "</style>\n",
              "<table border=\"1\" class=\"dataframe\">\n",
              "  <thead>\n",
              "    <tr style=\"text-align: right;\">\n",
              "      <th></th>\n",
              "      <th>Actual</th>\n",
              "      <th>Predicted</th>\n",
              "    </tr>\n",
              "  </thead>\n",
              "  <tbody>\n",
              "    <tr>\n",
              "      <th>0</th>\n",
              "      <td>0.47700</td>\n",
              "      <td>0.726049</td>\n",
              "    </tr>\n",
              "    <tr>\n",
              "      <th>1</th>\n",
              "      <td>0.45800</td>\n",
              "      <td>1.767434</td>\n",
              "    </tr>\n",
              "    <tr>\n",
              "      <th>2</th>\n",
              "      <td>5.00001</td>\n",
              "      <td>2.710922</td>\n",
              "    </tr>\n",
              "    <tr>\n",
              "      <th>3</th>\n",
              "      <td>2.18600</td>\n",
              "      <td>2.835147</td>\n",
              "    </tr>\n",
              "    <tr>\n",
              "      <th>4</th>\n",
              "      <td>2.78000</td>\n",
              "      <td>2.606958</td>\n",
              "    </tr>\n",
              "  </tbody>\n",
              "</table>\n",
              "</div>\n",
              "    <div class=\"colab-df-buttons\">\n",
              "\n",
              "  <div class=\"colab-df-container\">\n",
              "    <button class=\"colab-df-convert\" onclick=\"convertToInteractive('df-d47cc7da-051e-4163-a2bb-c443d58d8144')\"\n",
              "            title=\"Convert this dataframe to an interactive table.\"\n",
              "            style=\"display:none;\">\n",
              "\n",
              "  <svg xmlns=\"http://www.w3.org/2000/svg\" height=\"24px\" viewBox=\"0 -960 960 960\">\n",
              "    <path d=\"M120-120v-720h720v720H120Zm60-500h600v-160H180v160Zm220 220h160v-160H400v160Zm0 220h160v-160H400v160ZM180-400h160v-160H180v160Zm440 0h160v-160H620v160ZM180-180h160v-160H180v160Zm440 0h160v-160H620v160Z\"/>\n",
              "  </svg>\n",
              "    </button>\n",
              "\n",
              "  <style>\n",
              "    .colab-df-container {\n",
              "      display:flex;\n",
              "      gap: 12px;\n",
              "    }\n",
              "\n",
              "    .colab-df-convert {\n",
              "      background-color: #E8F0FE;\n",
              "      border: none;\n",
              "      border-radius: 50%;\n",
              "      cursor: pointer;\n",
              "      display: none;\n",
              "      fill: #1967D2;\n",
              "      height: 32px;\n",
              "      padding: 0 0 0 0;\n",
              "      width: 32px;\n",
              "    }\n",
              "\n",
              "    .colab-df-convert:hover {\n",
              "      background-color: #E2EBFA;\n",
              "      box-shadow: 0px 1px 2px rgba(60, 64, 67, 0.3), 0px 1px 3px 1px rgba(60, 64, 67, 0.15);\n",
              "      fill: #174EA6;\n",
              "    }\n",
              "\n",
              "    .colab-df-buttons div {\n",
              "      margin-bottom: 4px;\n",
              "    }\n",
              "\n",
              "    [theme=dark] .colab-df-convert {\n",
              "      background-color: #3B4455;\n",
              "      fill: #D2E3FC;\n",
              "    }\n",
              "\n",
              "    [theme=dark] .colab-df-convert:hover {\n",
              "      background-color: #434B5C;\n",
              "      box-shadow: 0px 1px 3px 1px rgba(0, 0, 0, 0.15);\n",
              "      filter: drop-shadow(0px 1px 2px rgba(0, 0, 0, 0.3));\n",
              "      fill: #FFFFFF;\n",
              "    }\n",
              "  </style>\n",
              "\n",
              "    <script>\n",
              "      const buttonEl =\n",
              "        document.querySelector('#df-d47cc7da-051e-4163-a2bb-c443d58d8144 button.colab-df-convert');\n",
              "      buttonEl.style.display =\n",
              "        google.colab.kernel.accessAllowed ? 'block' : 'none';\n",
              "\n",
              "      async function convertToInteractive(key) {\n",
              "        const element = document.querySelector('#df-d47cc7da-051e-4163-a2bb-c443d58d8144');\n",
              "        const dataTable =\n",
              "          await google.colab.kernel.invokeFunction('convertToInteractive',\n",
              "                                                    [key], {});\n",
              "        if (!dataTable) return;\n",
              "\n",
              "        const docLinkHtml = 'Like what you see? Visit the ' +\n",
              "          '<a target=\"_blank\" href=https://colab.research.google.com/notebooks/data_table.ipynb>data table notebook</a>'\n",
              "          + ' to learn more about interactive tables.';\n",
              "        element.innerHTML = '';\n",
              "        dataTable['output_type'] = 'display_data';\n",
              "        await google.colab.output.renderOutput(dataTable, element);\n",
              "        const docLink = document.createElement('div');\n",
              "        docLink.innerHTML = docLinkHtml;\n",
              "        element.appendChild(docLink);\n",
              "      }\n",
              "    </script>\n",
              "  </div>\n",
              "\n",
              "\n",
              "<div id=\"df-0af30049-a82a-4f60-bb45-d0a30a3daa25\">\n",
              "  <button class=\"colab-df-quickchart\" onclick=\"quickchart('df-0af30049-a82a-4f60-bb45-d0a30a3daa25')\"\n",
              "            title=\"Suggest charts\"\n",
              "            style=\"display:none;\">\n",
              "\n",
              "<svg xmlns=\"http://www.w3.org/2000/svg\" height=\"24px\"viewBox=\"0 0 24 24\"\n",
              "     width=\"24px\">\n",
              "    <g>\n",
              "        <path d=\"M19 3H5c-1.1 0-2 .9-2 2v14c0 1.1.9 2 2 2h14c1.1 0 2-.9 2-2V5c0-1.1-.9-2-2-2zM9 17H7v-7h2v7zm4 0h-2V7h2v10zm4 0h-2v-4h2v4z\"/>\n",
              "    </g>\n",
              "</svg>\n",
              "  </button>\n",
              "\n",
              "<style>\n",
              "  .colab-df-quickchart {\n",
              "      --bg-color: #E8F0FE;\n",
              "      --fill-color: #1967D2;\n",
              "      --hover-bg-color: #E2EBFA;\n",
              "      --hover-fill-color: #174EA6;\n",
              "      --disabled-fill-color: #AAA;\n",
              "      --disabled-bg-color: #DDD;\n",
              "  }\n",
              "\n",
              "  [theme=dark] .colab-df-quickchart {\n",
              "      --bg-color: #3B4455;\n",
              "      --fill-color: #D2E3FC;\n",
              "      --hover-bg-color: #434B5C;\n",
              "      --hover-fill-color: #FFFFFF;\n",
              "      --disabled-bg-color: #3B4455;\n",
              "      --disabled-fill-color: #666;\n",
              "  }\n",
              "\n",
              "  .colab-df-quickchart {\n",
              "    background-color: var(--bg-color);\n",
              "    border: none;\n",
              "    border-radius: 50%;\n",
              "    cursor: pointer;\n",
              "    display: none;\n",
              "    fill: var(--fill-color);\n",
              "    height: 32px;\n",
              "    padding: 0;\n",
              "    width: 32px;\n",
              "  }\n",
              "\n",
              "  .colab-df-quickchart:hover {\n",
              "    background-color: var(--hover-bg-color);\n",
              "    box-shadow: 0 1px 2px rgba(60, 64, 67, 0.3), 0 1px 3px 1px rgba(60, 64, 67, 0.15);\n",
              "    fill: var(--button-hover-fill-color);\n",
              "  }\n",
              "\n",
              "  .colab-df-quickchart-complete:disabled,\n",
              "  .colab-df-quickchart-complete:disabled:hover {\n",
              "    background-color: var(--disabled-bg-color);\n",
              "    fill: var(--disabled-fill-color);\n",
              "    box-shadow: none;\n",
              "  }\n",
              "\n",
              "  .colab-df-spinner {\n",
              "    border: 2px solid var(--fill-color);\n",
              "    border-color: transparent;\n",
              "    border-bottom-color: var(--fill-color);\n",
              "    animation:\n",
              "      spin 1s steps(1) infinite;\n",
              "  }\n",
              "\n",
              "  @keyframes spin {\n",
              "    0% {\n",
              "      border-color: transparent;\n",
              "      border-bottom-color: var(--fill-color);\n",
              "      border-left-color: var(--fill-color);\n",
              "    }\n",
              "    20% {\n",
              "      border-color: transparent;\n",
              "      border-left-color: var(--fill-color);\n",
              "      border-top-color: var(--fill-color);\n",
              "    }\n",
              "    30% {\n",
              "      border-color: transparent;\n",
              "      border-left-color: var(--fill-color);\n",
              "      border-top-color: var(--fill-color);\n",
              "      border-right-color: var(--fill-color);\n",
              "    }\n",
              "    40% {\n",
              "      border-color: transparent;\n",
              "      border-right-color: var(--fill-color);\n",
              "      border-top-color: var(--fill-color);\n",
              "    }\n",
              "    60% {\n",
              "      border-color: transparent;\n",
              "      border-right-color: var(--fill-color);\n",
              "    }\n",
              "    80% {\n",
              "      border-color: transparent;\n",
              "      border-right-color: var(--fill-color);\n",
              "      border-bottom-color: var(--fill-color);\n",
              "    }\n",
              "    90% {\n",
              "      border-color: transparent;\n",
              "      border-bottom-color: var(--fill-color);\n",
              "    }\n",
              "  }\n",
              "</style>\n",
              "\n",
              "  <script>\n",
              "    async function quickchart(key) {\n",
              "      const quickchartButtonEl =\n",
              "        document.querySelector('#' + key + ' button');\n",
              "      quickchartButtonEl.disabled = true;  // To prevent multiple clicks.\n",
              "      quickchartButtonEl.classList.add('colab-df-spinner');\n",
              "      try {\n",
              "        const charts = await google.colab.kernel.invokeFunction(\n",
              "            'suggestCharts', [key], {});\n",
              "      } catch (error) {\n",
              "        console.error('Error during call to suggestCharts:', error);\n",
              "      }\n",
              "      quickchartButtonEl.classList.remove('colab-df-spinner');\n",
              "      quickchartButtonEl.classList.add('colab-df-quickchart-complete');\n",
              "    }\n",
              "    (() => {\n",
              "      let quickchartButtonEl =\n",
              "        document.querySelector('#df-0af30049-a82a-4f60-bb45-d0a30a3daa25 button');\n",
              "      quickchartButtonEl.style.display =\n",
              "        google.colab.kernel.accessAllowed ? 'block' : 'none';\n",
              "    })();\n",
              "  </script>\n",
              "</div>\n",
              "\n",
              "    </div>\n",
              "  </div>\n"
            ],
            "application/vnd.google.colaboratory.intrinsic+json": {
              "type": "dataframe",
              "variable_name": "results",
              "summary": "{\n  \"name\": \"results\",\n  \"rows\": 6192,\n  \"fields\": [\n    {\n      \"column\": \"Actual\",\n      \"properties\": {\n        \"dtype\": \"number\",\n        \"std\": 1.1457539507173728,\n        \"min\": 0.14999,\n        \"max\": 5.00001,\n        \"num_unique_values\": 2689,\n        \"samples\": [\n          2.033,\n          2.022,\n          2.711\n        ],\n        \"semantic_type\": \"\",\n        \"description\": \"\"\n      }\n    },\n    {\n      \"column\": \"Predicted\",\n      \"properties\": {\n        \"dtype\": \"number\",\n        \"std\": 0.9001798086193142,\n        \"min\": -1.0005102052580739,\n        \"max\": 11.507401374151286,\n        \"num_unique_values\": 6192,\n        \"samples\": [\n          1.3860845127437145,\n          0.8062015603120614,\n          2.0390445434596884\n        ],\n        \"semantic_type\": \"\",\n        \"description\": \"\"\n      }\n    }\n  ]\n}"
            }
          },
          "metadata": {},
          "execution_count": 7
        }
      ],
      "source": [
        "import pandas as pd\n",
        "from sklearn.model_selection import train_test_split\n",
        "from sklearn.linear_model import LinearRegression\n",
        "from sklearn.metrics import mean_squared_error\n",
        "from sklearn.datasets import fetch_california_housing\n",
        "\n",
        "# 데이터 로드\n",
        "califonia = fetch_california_housing()\n",
        "X, y = califonia.data, califonia.target\n",
        "\n",
        "# 학습 데이터와 테스트 데이터로 분리\n",
        "X_train, X_test, y_train, y_test = train_test_split(X, y, test_size=0.3, random_state=42)\n",
        "\n",
        "# 모델 초기화 및 학습\n",
        "model = LinearRegression()\n",
        "model.fit(X_train, y_train)\n",
        "\n",
        "# 예측\n",
        "y_pred = model.predict(X_test)\n",
        "\n",
        "# 모델 평가\n",
        "mse = mean_squared_error(y_test, y_pred)\n",
        "print(f'Mean Squared Error: {mse: .2f}')\n",
        "\n",
        "# 결과 일부 출력\n",
        "results = pd.DataFrame({'Actual': y_test, 'Predicted': y_pred})\n",
        "results.head()"
      ]
    },
    {
      "cell_type": "markdown",
      "source": [
        "## 비지도학습\n",
        "- 비지도 학습(Unsupervised Learning)은 레이블이 지정되지 않은 데이터를 사용하여 모델을 학습하는 방법\n",
        "- 지도 학습과 달리 비지도 학습은 모델의 성능을 평가하기 위한 레이블이 불필요.\n",
        "- 비지도 학습 알고리즘  \n",
        "    - 클러스터링: 클러스터링 알고리즘에는 K-평균, 평균-점 클러스터링, 밀도기반 군집(DBSCAN) 등\n",
        "    - 차원 축소: 차원 축소 알고리즘에는 주성분 분석(PCA), 선형판별분석(LDA),   특이값 분해(SVD) 등\n",
        "    \n",
        "- 비지도 학습은 머신 러닝에서 강력한 도구입니다. 비지도 학습은 데이터를 이해하고 데이터에서 패턴을 찾는 데 사용."
      ],
      "metadata": {
        "id": "P35ApFxwPD35"
      }
    },
    {
      "cell_type": "markdown",
      "source": [
        "## 비지도학습 - 군집화(Clustering)\n",
        "사이킷런을 이용하여 붓꽃 데이터셋을 로드하고, 이를 사용해 K-평균(K-Means) 알고리즘을 이용하여 데이터를 군집화합니다."
      ],
      "metadata": {
        "id": "FmZnLfNUQjHY"
      }
    },
    {
      "cell_type": "code",
      "source": [
        "from sklearn.datasets import load_iris\n",
        "from sklearn.cluster import KMeans\n",
        "import matplotlib.pyplot as plt\n",
        "import pandas as pd\n",
        "\n",
        "# Load the Iris dataset\n",
        "iris = load_iris()\n",
        "X = iris.data\n",
        "\n",
        "# Create a K-Means clustering model\n",
        "kmeans = KMeans(n_clusters=3, n_init='auto', random_state=42)\n",
        "kmeans.fit(X)\n",
        "labels = kmeans.labels_\n",
        "print(pd.Series(labels).value_counts(), '\\n')\n",
        "\n",
        "# Fit the model to the data\n",
        "plt.scatter(X[:,0], X[:,1], c=labels, cmap='viridis')\n",
        "plt.xlabel('Sepal Length')\n",
        "plt.ylabel('Sepal Width')\n",
        "plt.title('K-Means Clustering')\n",
        "plt.show()\n",
        "print()\n",
        "\n",
        "# Get the cluster labels for each data point\n",
        "df = pd.DataFrame(X, columns=iris.feature_names)\n",
        "df['cluster'] = labels\n",
        "df.head()"
      ],
      "metadata": {
        "colab": {
          "base_uri": "https://localhost:8080/",
          "height": 773
        },
        "id": "3mG3cg2NMEBo",
        "outputId": "265822d5-3334-4a3c-8fa0-2a9036d01a21"
      },
      "execution_count": null,
      "outputs": [
        {
          "output_type": "stream",
          "name": "stdout",
          "text": [
            "2    61\n",
            "1    50\n",
            "0    39\n",
            "Name: count, dtype: int64 \n",
            "\n"
          ]
        },
        {
          "output_type": "display_data",
          "data": {
            "text/plain": [
              "<Figure size 640x480 with 1 Axes>"
            ],
            "image/png": "[encoded data removed]"
          },
          "metadata": {}
        },
        {
          "output_type": "stream",
          "name": "stdout",
          "text": [
            "\n"
          ]
        },
        {
          "output_type": "execute_result",
          "data": {
            "text/plain": [
              "   sepal length (cm)  sepal width (cm)  petal length (cm)  petal width (cm)  \\\n",
              "0                5.1               3.5                1.4               0.2   \n",
              "1                4.9               3.0                1.4               0.2   \n",
              "2                4.7               3.2                1.3               0.2   \n",
              "3                4.6               3.1                1.5               0.2   \n",
              "4                5.0               3.6                1.4               0.2   \n",
              "\n",
              "   cluster  \n",
              "0        1  \n",
              "1        1  \n",
              "2        1  \n",
              "3        1  \n",
              "4        1  "
            ],
            "text/html": [
              "\n",
              "  <div id=\"df-0fa8e27a-e9fa-41f8-9e97-fb49b486b2ff\" class=\"colab-df-container\">\n",
              "    <div>\n",
              "<style scoped>\n",
              "    .dataframe tbody tr th:only-of-type {\n",
              "        vertical-align: middle;\n",
              "    }\n",
              "\n",
              "    .dataframe tbody tr th {\n",
              "        vertical-align: top;\n",
              "    }\n",
              "\n",
              "    .dataframe thead th {\n",
              "        text-align: right;\n",
              "    }\n",
              "</style>\n",
              "<table border=\"1\" class=\"dataframe\">\n",
              "  <thead>\n",
              "    <tr style=\"text-align: right;\">\n",
              "      <th></th>\n",
              "      <th>sepal length (cm)</th>\n",
              "      <th>sepal width (cm)</th>\n",
              "      <th>petal length (cm)</th>\n",
              "      <th>petal width (cm)</th>\n",
              "      <th>cluster</th>\n",
              "    </tr>\n",
              "  </thead>\n",
              "  <tbody>\n",
              "    <tr>\n",
              "      <th>0</th>\n",
              "      <td>5.1</td>\n",
              "      <td>3.5</td>\n",
              "      <td>1.4</td>\n",
              "      <td>0.2</td>\n",
              "      <td>1</td>\n",
              "    </tr>\n",
              "    <tr>\n",
              "      <th>1</th>\n",
              "      <td>4.9</td>\n",
              "      <td>3.0</td>\n",
              "      <td>1.4</td>\n",
              "      <td>0.2</td>\n",
              "      <td>1</td>\n",
              "    </tr>\n",
              "    <tr>\n",
              "      <th>2</th>\n",
              "      <td>4.7</td>\n",
              "      <td>3.2</td>\n",
              "      <td>1.3</td>\n",
              "      <td>0.2</td>\n",
              "      <td>1</td>\n",
              "    </tr>\n",
              "    <tr>\n",
              "      <th>3</th>\n",
              "      <td>4.6</td>\n",
              "      <td>3.1</td>\n",
              "      <td>1.5</td>\n",
              "      <td>0.2</td>\n",
              "      <td>1</td>\n",
              "    </tr>\n",
              "    <tr>\n",
              "      <th>4</th>\n",
              "      <td>5.0</td>\n",
              "      <td>3.6</td>\n",
              "      <td>1.4</td>\n",
              "      <td>0.2</td>\n",
              "      <td>1</td>\n",
              "    </tr>\n",
              "  </tbody>\n",
              "</table>\n",
              "</div>\n",
              "    <div class=\"colab-df-buttons\">\n",
              "\n",
              "  <div class=\"colab-df-container\">\n",
              "    <button class=\"colab-df-convert\" onclick=\"convertToInteractive('df-0fa8e27a-e9fa-41f8-9e97-fb49b486b2ff')\"\n",
              "            title=\"Convert this dataframe to an interactive table.\"\n",
              "            style=\"display:none;\">\n",
              "\n",
              "  <svg xmlns=\"http://www.w3.org/2000/svg\" height=\"24px\" viewBox=\"0 -960 960 960\">\n",
              "    <path d=\"M120-120v-720h720v720H120Zm60-500h600v-160H180v160Zm220 220h160v-160H400v160Zm0 220h160v-160H400v160ZM180-400h160v-160H180v160Zm440 0h160v-160H620v160ZM180-180h160v-160H180v160Zm440 0h160v-160H620v160Z\"/>\n",
              "  </svg>\n",
              "    </button>\n",
              "\n",
              "  <style>\n",
              "    .colab-df-container {\n",
              "      display:flex;\n",
              "      gap: 12px;\n",
              "    }\n",
              "\n",
              "    .colab-df-convert {\n",
              "      background-color: #E8F0FE;\n",
              "      border: none;\n",
              "      border-radius: 50%;\n",
              "      cursor: pointer;\n",
              "      display: none;\n",
              "      fill: #1967D2;\n",
              "      height: 32px;\n",
              "      padding: 0 0 0 0;\n",
              "      width: 32px;\n",
              "    }\n",
              "\n",
              "    .colab-df-convert:hover {\n",
              "      background-color: #E2EBFA;\n",
              "      box-shadow: 0px 1px 2px rgba(60, 64, 67, 0.3), 0px 1px 3px 1px rgba(60, 64, 67, 0.15);\n",
              "      fill: #174EA6;\n",
              "    }\n",
              "\n",
              "    .colab-df-buttons div {\n",
              "      margin-bottom: 4px;\n",
              "    }\n",
              "\n",
              "    [theme=dark] .colab-df-convert {\n",
              "      background-color: #3B4455;\n",
              "      fill: #D2E3FC;\n",
              "    }\n",
              "\n",
              "    [theme=dark] .colab-df-convert:hover {\n",
              "      background-color: #434B5C;\n",
              "      box-shadow: 0px 1px 3px 1px rgba(0, 0, 0, 0.15);\n",
              "      filter: drop-shadow(0px 1px 2px rgba(0, 0, 0, 0.3));\n",
              "      fill: #FFFFFF;\n",
              "    }\n",
              "  </style>\n",
              "\n",
              "    <script>\n",
              "      const buttonEl =\n",
              "        document.querySelector('#df-0fa8e27a-e9fa-41f8-9e97-fb49b486b2ff button.colab-df-convert');\n",
              "      buttonEl.style.display =\n",
              "        google.colab.kernel.accessAllowed ? 'block' : 'none';\n",
              "\n",
              "      async function convertToInteractive(key) {\n",
              "        const element = document.querySelector('#df-0fa8e27a-e9fa-41f8-9e97-fb49b486b2ff');\n",
              "        const dataTable =\n",
              "          await google.colab.kernel.invokeFunction('convertToInteractive',\n",
              "                                                    [key], {});\n",
              "        if (!dataTable) return;\n",
              "\n",
              "        const docLinkHtml = 'Like what you see? Visit the ' +\n",
              "          '<a target=\"_blank\" href=https://colab.research.google.com/notebooks/data_table.ipynb>data table notebook</a>'\n",
              "          + ' to learn more about interactive tables.';\n",
              "        element.innerHTML = '';\n",
              "        dataTable['output_type'] = 'display_data';\n",
              "        await google.colab.output.renderOutput(dataTable, element);\n",
              "        const docLink = document.createElement('div');\n",
              "        docLink.innerHTML = docLinkHtml;\n",
              "        element.appendChild(docLink);\n",
              "      }\n",
              "    </script>\n",
              "  </div>\n",
              "\n",
              "\n",
              "<div id=\"df-d8efca71-b9f5-4de4-9a4f-5feab6ff47bd\">\n",
              "  <button class=\"colab-df-quickchart\" onclick=\"quickchart('df-d8efca71-b9f5-4de4-9a4f-5feab6ff47bd')\"\n",
              "            title=\"Suggest charts\"\n",
              "            style=\"display:none;\">\n",
              "\n",
              "<svg xmlns=\"http://www.w3.org/2000/svg\" height=\"24px\"viewBox=\"0 0 24 24\"\n",
              "     width=\"24px\">\n",
              "    <g>\n",
              "        <path d=\"M19 3H5c-1.1 0-2 .9-2 2v14c0 1.1.9 2 2 2h14c1.1 0 2-.9 2-2V5c0-1.1-.9-2-2-2zM9 17H7v-7h2v7zm4 0h-2V7h2v10zm4 0h-2v-4h2v4z\"/>\n",
              "    </g>\n",
              "</svg>\n",
              "  </button>\n",
              "\n",
              "<style>\n",
              "  .colab-df-quickchart {\n",
              "      --bg-color: #E8F0FE;\n",
              "      --fill-color: #1967D2;\n",
              "      --hover-bg-color: #E2EBFA;\n",
              "      --hover-fill-color: #174EA6;\n",
              "      --disabled-fill-color: #AAA;\n",
              "      --disabled-bg-color: #DDD;\n",
              "  }\n",
              "\n",
              "  [theme=dark] .colab-df-quickchart {\n",
              "      --bg-color: #3B4455;\n",
              "      --fill-color: #D2E3FC;\n",
              "      --hover-bg-color: #434B5C;\n",
              "      --hover-fill-color: #FFFFFF;\n",
              "      --disabled-bg-color: #3B4455;\n",
              "      --disabled-fill-color: #666;\n",
              "  }\n",
              "\n",
              "  .colab-df-quickchart {\n",
              "    background-color: var(--bg-color);\n",
              "    border: none;\n",
              "    border-radius: 50%;\n",
              "    cursor: pointer;\n",
              "    display: none;\n",
              "    fill: var(--fill-color);\n",
              "    height: 32px;\n",
              "    padding: 0;\n",
              "    width: 32px;\n",
              "  }\n",
              "\n",
              "  .colab-df-quickchart:hover {\n",
              "    background-color: var(--hover-bg-color);\n",
              "    box-shadow: 0 1px 2px rgba(60, 64, 67, 0.3), 0 1px 3px 1px rgba(60, 64, 67, 0.15);\n",
              "    fill: var(--button-hover-fill-color);\n",
              "  }\n",
              "\n",
              "  .colab-df-quickchart-complete:disabled,\n",
              "  .colab-df-quickchart-complete:disabled:hover {\n",
              "    background-color: var(--disabled-bg-color);\n",
              "    fill: var(--disabled-fill-color);\n",
              "    box-shadow: none;\n",
              "  }\n",
              "\n",
              "  .colab-df-spinner {\n",
              "    border: 2px solid var(--fill-color);\n",
              "    border-color: transparent;\n",
              "    border-bottom-color: var(--fill-color);\n",
              "    animation:\n",
              "      spin 1s steps(1) infinite;\n",
              "  }\n",
              "\n",
              "  @keyframes spin {\n",
              "    0% {\n",
              "      border-color: transparent;\n",
              "      border-bottom-color: var(--fill-color);\n",
              "      border-left-color: var(--fill-color);\n",
              "    }\n",
              "    20% {\n",
              "      border-color: transparent;\n",
              "      border-left-color: var(--fill-color);\n",
              "      border-top-color: var(--fill-color);\n",
              "    }\n",
              "    30% {\n",
              "      border-color: transparent;\n",
              "      border-left-color: var(--fill-color);\n",
              "      border-top-color: var(--fill-color);\n",
              "      border-right-color: var(--fill-color);\n",
              "    }\n",
              "    40% {\n",
              "      border-color: transparent;\n",
              "      border-right-color: var(--fill-color);\n",
              "      border-top-color: var(--fill-color);\n",
              "    }\n",
              "    60% {\n",
              "      border-color: transparent;\n",
              "      border-right-color: var(--fill-color);\n",
              "    }\n",
              "    80% {\n",
              "      border-color: transparent;\n",
              "      border-right-color: var(--fill-color);\n",
              "      border-bottom-color: var(--fill-color);\n",
              "    }\n",
              "    90% {\n",
              "      border-color: transparent;\n",
              "      border-bottom-color: var(--fill-color);\n",
              "    }\n",
              "  }\n",
              "</style>\n",
              "\n",
              "  <script>\n",
              "    async function quickchart(key) {\n",
              "      const quickchartButtonEl =\n",
              "        document.querySelector('#' + key + ' button');\n",
              "      quickchartButtonEl.disabled = true;  // To prevent multiple clicks.\n",
              "      quickchartButtonEl.classList.add('colab-df-spinner');\n",
              "      try {\n",
              "        const charts = await google.colab.kernel.invokeFunction(\n",
              "            'suggestCharts', [key], {});\n",
              "      } catch (error) {\n",
              "        console.error('Error during call to suggestCharts:', error);\n",
              "      }\n",
              "      quickchartButtonEl.classList.remove('colab-df-spinner');\n",
              "      quickchartButtonEl.classList.add('colab-df-quickchart-complete');\n",
              "    }\n",
              "    (() => {\n",
              "      let quickchartButtonEl =\n",
              "        document.querySelector('#df-d8efca71-b9f5-4de4-9a4f-5feab6ff47bd button');\n",
              "      quickchartButtonEl.style.display =\n",
              "        google.colab.kernel.accessAllowed ? 'block' : 'none';\n",
              "    })();\n",
              "  </script>\n",
              "</div>\n",
              "\n",
              "    </div>\n",
              "  </div>\n"
            ],
            "application/vnd.google.colaboratory.intrinsic+json": {
              "type": "dataframe",
              "variable_name": "df",
              "summary": "{\n  \"name\": \"df\",\n  \"rows\": 150,\n  \"fields\": [\n    {\n      \"column\": \"sepal length (cm)\",\n      \"properties\": {\n        \"dtype\": \"number\",\n        \"std\": 0.828066127977863,\n        \"min\": 4.3,\n        \"max\": 7.9,\n        \"num_unique_values\": 35,\n        \"samples\": [\n          6.2,\n          4.5,\n          5.6\n        ],\n        \"semantic_type\": \"\",\n        \"description\": \"\"\n      }\n    },\n    {\n      \"column\": \"sepal width (cm)\",\n      \"properties\": {\n        \"dtype\": \"number\",\n        \"std\": 0.4358662849366982,\n        \"min\": 2.0,\n        \"max\": 4.4,\n        \"num_unique_values\": 23,\n        \"samples\": [\n          2.3,\n          4.0,\n          3.5\n        ],\n        \"semantic_type\": \"\",\n        \"description\": \"\"\n      }\n    },\n    {\n      \"column\": \"petal length (cm)\",\n      \"properties\": {\n        \"dtype\": \"number\",\n        \"std\": 1.7652982332594662,\n        \"min\": 1.0,\n        \"max\": 6.9,\n        \"num_unique_values\": 43,\n        \"samples\": [\n          6.7,\n          3.8,\n          3.7\n        ],\n        \"semantic_type\": \"\",\n        \"description\": \"\"\n      }\n    },\n    {\n      \"column\": \"petal width (cm)\",\n      \"properties\": {\n        \"dtype\": \"number\",\n        \"std\": 0.7622376689603465,\n        \"min\": 0.1,\n        \"max\": 2.5,\n        \"num_unique_values\": 22,\n        \"samples\": [\n          0.2,\n          1.2,\n          1.3\n        ],\n        \"semantic_type\": \"\",\n        \"description\": \"\"\n      }\n    },\n    {\n      \"column\": \"cluster\",\n      \"properties\": {\n        \"dtype\": \"int32\",\n        \"num_unique_values\": 3,\n        \"samples\": [\n          1,\n          0,\n          2\n        ],\n        \"semantic_type\": \"\",\n        \"description\": \"\"\n      }\n    }\n  ]\n}"
            }
          },
          "metadata": {},
          "execution_count": 10
        }
      ]
    },
    {
      "cell_type": "markdown",
      "source": [
        "## 머신러닝 Framework - 사이킷런\n",
        "- 사이킷런(scikit-learn)은 파이썬 머신러닝 라이브러리 중 가장 많이 사용되는 라이브러리.\n",
        "- 사이킷런은 파이썬 기반의 머신러닝을 위한 가장 쉽고 효율적인 개발 라이브러리를 제공.\n",
        "\n",
        "- 사이킷런의 특징\n",
        "    - 파이썬 기반의 다른 머신러닝 패키지도 사이킷런 스타일의 API를 지향할 정도로 쉽고 가장 파이썬스러운 API를 제공.\n",
        "    - 머신러닝을 위한 매우 다양한 알고리즘과 개발을 위한 편리한 프레임워크와 API를 제공.\n",
        "    - 많은 머신러닝 알고리즘이 효율적으로 구현되어 있기에 머신러닝을 처음 배울 때 사용하기 유용.\n",
        "    - 사이킷런은 오픈 소스 라이브러리이기 때문에 누구나 자유롭게 사용 가능\n",
        "    - 사이킷런은 다음과 같은 다양한 머신러닝 알고리즘을 제공.\n",
        "        - 분류\n",
        "        - 회귀\n",
        "        - 클러스터링\n",
        "        - 차원 축소\n",
        "        - 특징 추출\n",
        "        - 모델 선택 및 평가\n",
        "    - 사이킷런은 또한 다음과 같은 다양한 프레임워크와 API를 제공합니다.\n",
        "        - 데이터 전처리\n",
        "        - 모델 학습 및 예측\n",
        "        - 모델 저장 및 복원\n",
        "        - 모델 모니터링\n",
        "        - 모델 배포\n"
      ],
      "metadata": {
        "id": "pcm1XIThSdZQ"
      }
    },
    {
      "cell_type": "markdown",
      "source": [
        "### Python의 기계 학습 라이브러리인 Scikit-Learn을 효과적으로 이해하기 위해 배워야 할 주요 사항\n",
        "\n",
        "- Python 프로그래밍: Scikit-Learn은 Python 라이브러리이므로 Python 숙련도가 중요. 데이터 유형, 제어 흐름, 기능 이해 및 패키지 작업이 포함.\n",
        "- 데이터 구조: 목록, 사전 및 집합과 같은 Python의 기본 데이터 구조를 이해하는 것이 중요. 데이터 분석 라이브러리인 Pandas는 특히 DataFrames와 함께 Scikit-Learn에서 사용할 데이터 조작에 필수적.\n",
        "- NumPy 및 Matplotlib: Scikit-Learn은 숫자 데이터를 효율적으로 처리하는 데 사용되는 NumPy 배열과 잘 작동. 플로팅 라이브러리인 Matplotlib는 데이터를 시각화하고 결과를 모델링하는 데 사용.\n",
        "- 기본 통계 및 확률: 평균, 중앙값, 모드, 표준 편차, 확률 분포, 가설 테스트 및 상관 계수가 포함.\n",
        "- 머신 러닝 개념: 지도 학습, 비지도 학습, 강화 학습 등 머신 러닝의 기본 사항을 숙지하고 회귀, 분류, 클러스터링, 차원 감소 및 앙상블 방법과 같은 일반적인 알고리즘 및 개념을 이해.\n",
        "- Scikit-Learn API: Scikit-Learn API와 일관된 인터페이스를 이해하는 것이 중요. 여기에는 라이브러리를 가져오고, 모델을 만들고, 모델을 데이터에 맞추고, 새 데이터 포인트를 예측하고, 모델의 성능을 평가하는 방법을 아는 것이 포함.\n",
        "- 데이터 전처리: 크기 조정, 정규화, 범주형 변수 인코딩 및 누락된 값 처리를 위한 Scikit-Learn의 전처리 도구를 사용하는 방법.\n",
        "- 모델 평가 및 조정: 교차 검증, 혼동 행렬, ROC 곡선, 정밀도, 재현율, F1 점수 등과 같은 모델 평가를 위한 Scikit-Learn 도구를 사용하는 방법과 GridSearch 및 RandomizedSearch와 같은 기술을 사용하여 모델을 조정하는 방법 이해.\n",
        "- 파이프라인 생성: Scikit-Learn은 전처리 및 모델 교육 프로세스를 간소화하는 파이프라인을 생성하는 유틸리티를 제공. 이것은 효율적이고 재현 가능한 코드를 만들기 위해 배워야 할 중요한 측면이다.\n",
        "- 딥 러닝: Scikit-Learn은 주로 딥 러닝에 사용되지 않지만 알아두면 유용할 수 있는 신경망에 대한 일부 지원을 제공."
      ],
      "metadata": {
        "id": "_04QXETcV1la"
      }
    },
    {
      "cell_type": "markdown",
      "source": [
        "### 사이킷런의 주요 모듈\n",
        "- model_selection: 학습 데이터와 테스트 데이터를 분리하거나 교차 검증, 그리고 Estimator의 하이퍼 파라미터를 튜닝하기 위해서 다양한 함수와 클래스를 제공.\n",
        "- preprocessing: 데이터를 정규화, 스케일링, 인코딩하는 등 다양한 기능을 제공.\n",
        "- datasets: 다양한 데이터 세트를 제공.\n",
        "- linear_model: 선형 회귀, 로지스틱 회귀, 릿지 회귀, 라쏘 회귀 등 다양한 선형 모델을 제공.\n",
        "- tree: 의사 결정 트리, 랜덤 포레스트, 그래디언트 부스팅 트리 등 다양한 트리 기반 모델을 제공.\n",
        "- svm: 서포트 벡터 머신, 커널 서포트 벡터 머신 등 다양한 서포트 벡터 머신을 제공.\n",
        "- neighbors: K-최근접 이웃 알고리즘을 제공.\n",
        "- ensemble: 앙상블 방법을 제공.\n",
        "- cluster: 클러스터링 알고리즘을 제공."
      ],
      "metadata": {
        "id": "E6fqkjxjV1ew"
      }
    },
    {
      "cell_type": "markdown",
      "source": [
        "## 데이터 전처리: 스케일링과 정규화"
      ],
      "metadata": {
        "id": "ADbMnTQhV1Aa"
      }
    },
    {
      "cell_type": "code",
      "source": [
        "# 사이킷런의 StandardScaler를 사용하여 데이터의 평균과 표준 편차를 계산하고 이를 사용하여 데이터를 표준화할 수 있습니다.\n",
        "\n",
        "from sklearn.preprocessing import StandardScaler\n",
        "import numpy as np\n",
        "\n",
        "# 예제 테이터\n",
        "data = np.array([[1, 2], [3, 4], [5, 6], [7, 8], [9, 10]])\n",
        "\n",
        "# 표준화\n",
        "scaler = StandardScaler()\n",
        "scaled_data = scaler.fit_transform(data)\n",
        "\n",
        "# 평균과 표준 편차 출력\n",
        "print('Mean:', scaler.mean_)\n",
        "print('Standard Deviation:', scaler.scale_)\n",
        "print('Scaled Data:')"
      ],
      "metadata": {
        "colab": {
          "base_uri": "https://localhost:8080/"
        },
        "id": "SThp5DRKSdQA",
        "outputId": "efc9161e-f56c-42df-a8e1-1167a4568dd0"
      },
      "execution_count": null,
      "outputs": [
        {
          "output_type": "stream",
          "name": "stdout",
          "text": [
            "Mean: [5. 6.]\n",
            "Standard Deviation: [2.82842712 2.82842712]\n",
            "Scaled Data:\n"
          ]
        }
      ]
    },
    {
      "cell_type": "code",
      "source": [
        "from sklearn.preprocessing import StandardScaler, MinMaxScaler\n",
        "import numpy as np\n",
        "\n",
        "# 예제 테이터\n",
        "data = np.array([[1, 2, 3,], [4, 5, 6], [7, 8, 9]])\n",
        "\n",
        "# 표준화\n",
        "scaler = StandardScaler()\n",
        "scaled_data = scaler.fit_transform(data)\n",
        "print(\"Standard Scaled Data:\\n\", scaled_data)\n",
        "\n",
        "# 정규화\n",
        "minmax_scaler = MinMaxScaler()\n",
        "normalized_data = minmax_scaler.fit_transform(data)\n",
        "print(\"Min-Max Normalized Data:\\n\", normalized_data)"
      ],
      "metadata": {
        "colab": {
          "base_uri": "https://localhost:8080/"
        },
        "id": "QzmEutaIUgRw",
        "outputId": "a8647fea-7579-4359-cd0f-0fef3000f0a4"
      },
      "execution_count": null,
      "outputs": [
        {
          "output_type": "stream",
          "name": "stdout",
          "text": [
            "Standard Scaled Data:\n",
            " [[-1.22474487 -1.22474487 -1.22474487]\n",
            " [ 0.          0.          0.        ]\n",
            " [ 1.22474487  1.22474487  1.22474487]]\n",
            "Min-Max Normalized Data:\n",
            " [[0.  0.  0. ]\n",
            " [0.5 0.5 0.5]\n",
            " [1.  1.  1. ]]\n"
          ]
        }
      ]
    },
    {
      "cell_type": "markdown",
      "source": [
        "Q. 와인 데이터셋을 이용한 와인의 종류를 예측하는 모델을 학습한 후 정확도로 평가를 수행하세요."
      ],
      "metadata": {
        "id": "gduDgFlmcYUn"
      }
    },
    {
      "cell_type": "code",
      "source": [
        "from sklearn.datasets import load_wine\n",
        "from sklearn.model_selection import train_test_split\n",
        "from sklearn.tree import DecisionTreeClassifier\n",
        "from sklearn.metrics import accuracy_score\n",
        "\n",
        "# 1. 데이터 로드\n",
        "wine = load_wine()\n",
        "X = wine.data\n",
        "y = wine.target\n",
        "\n",
        "# 2. 학습용과 테스트용 데이터셋으로 나누기\n",
        "X_train, X_test, y_train, y_test = train_test_split(X, y, test_size=0.2, random_state=0)\n",
        "\n",
        "# 3. 로지스틱 회귀 모델 생성 및 학습\n",
        "dt = DecisionTreeClassifier()\n",
        "dt.fit(X_train, y_train)\n",
        "\n",
        "# 4. 예측 및 정확도 계산\n",
        "y_pred = dt.predict(X_test)\n",
        "accuracy = accuracy_score(y_test, y_pred)\n",
        "\n",
        "print(f'Accuracy: {accuracy:.2f}')"
      ],
      "metadata": {
        "colab": {
          "base_uri": "https://localhost:8080/"
        },
        "id": "0WwCuqVccXQH",
        "outputId": "3e972027-1663-404f-f180-6eee31bec7d6"
      },
      "execution_count": null,
      "outputs": [
        {
          "output_type": "stream",
          "name": "stdout",
          "text": [
            "Accuracy: 0.97\n"
          ]
        }
      ]
    },
    {
      "cell_type": "markdown",
      "source": [
        "Q. 당뇨병 데이터셋을 이용하여 당뇨병 진행도를 예측하는 회귀모델을 학습시킨 후 MSE로 평가를 수행하세요. (단, 독립변수들에 대하여 표준화를 적용)"
      ],
      "metadata": {
        "id": "uqlsCamKSdBY"
      }
    },
    {
      "cell_type": "code",
      "source": [
        "import numpy as np\n",
        "import pandas as pd\n",
        "from sklearn.datasets import load_diabetes\n",
        "from sklearn.model_selection import train_test_split\n",
        "from sklearn.linear_model import LinearRegression\n",
        "from sklearn.metrics import mean_squared_error\n",
        "from sklearn.preprocessing import StandardScaler\n",
        "\n",
        "# 데이터 로드\n",
        "diabetes = load_diabetes()\n",
        "\n",
        "# Create a pandas DataFrame from the dataset\n",
        "df = pd.DataFrame(data=diabetes.data, columns=diabetes.feature_names)\n",
        "df['target'] = diabetes.target\n",
        "\n",
        "# 학습용과 테스트용 데이터셋으로 나누기\n",
        "X_train, X_test, y_train, y_test = train_test_split(df.drop('target', axis=1), df['target'], test_size=0.2, random_state=42)\n",
        "\n",
        "# 표준화\n",
        "scaler = StandardScaler()\n",
        "X_train_scaled = scaler.fit_transform(X_train)\n",
        "X_test_scaled = scaler.transform(X_test)\n",
        "\n",
        "# 선형 회귀 모델 생성 및 학습\n",
        "model = LinearRegression()\n",
        "model.fit(X_train_scaled, y_train)\n",
        "\n",
        "# 예측\n",
        "y_pred = model.predict(X_test_scaled)\n",
        "\n",
        "# MSE 계산\n",
        "mse = mean_squared_error(y_test, y_pred)\n",
        "print(\"Mean Squared Error:\", mse)"
      ],
      "metadata": {
        "colab": {
          "base_uri": "https://localhost:8080/"
        },
        "id": "r9AtiB29ct6w",
        "outputId": "ba7b62d8-0f1b-40e0-d609-80a1dfd5331d"
      },
      "execution_count": null,
      "outputs": [
        {
          "output_type": "stream",
          "name": "stdout",
          "text": [
            "Mean Squared Error: 2900.1936284934823\n"
          ]
        }
      ]
    },
    {
      "cell_type": "markdown",
      "source": [
        "데이터셋 로드 및 분할"
      ],
      "metadata": {
        "id": "KKc5bTjtcuMH"
      }
    },
    {
      "cell_type": "code",
      "source": [
        "from sklearn.datasets import load_iris\n",
        "from sklearn.model_selection import train_test_split\n",
        "\n",
        "# 데이터 로드\n",
        "iris = load_iris()\n",
        "X, y = iris.data, iris.target"
      ],
      "metadata": {
        "id": "xPzEUNrofJmX"
      },
      "execution_count": null,
      "outputs": []
    },
    {
      "cell_type": "markdown",
      "source": [
        "#### 로지스틱 회귀(Logistic Regression)\n",
        "\n",
        "- 분류 문제를 해결하기 위한 알고리즘으로, 선형 회귀와 마찬가지로 입력 특성의 가중치 합을 계산하는데, 선형 회귀와 달리 결과를 이진 분류(0 또는 1, 참 또는 거짓 등)에 사용할 수 있는 확률로 변환.\n",
        "\n",
        "- 로지스틱 회귀는 선형 회귀와 비슷하게 모델의 예측과 실제 값 사이의 차이를 최소화하도록 가중치를 학습. 하지만 로지스틱 회귀는 선형 회귀와는 달리 결과를 0과 1 사이의 값으로 제한하는 로지스틱 함수(또는 시그모이드 함수)를 사용.\n",
        "\n",
        "- 로지스틱 회귀는 각 클래스에 속할 확률을 제공하며, 특정 임계값(일반적으로 0.5)을 초과하는 경우 데이터 포인트를 해당 클래스에 할당. 이는 이진 분류뿐만 아니라 다중 클래스 분류에도 적용될 수 있다(이 경우에는 일대다(OvR) 또는 다항 로지스틱 회귀를 사용할 수 있다).\n",
        "\n",
        "- 로지스틱 회귀는 출력이 확률이기 때문에, 결과의 해석이 직관적이며 모델의 예측이 불확실한 경우에도 그 정도를 측정할 수 있다. 또한 로지스틱 회귀는 선형 회귀보다 이상치에 덜 민감하며, 모델이 과적합되는 것을 방지하기 위해 규제를 적용할 수 있다는 장점도 있다.\n",
        "\n",
        "- 로지스틱 함수, 또는 시그모이드 함수는 S-자 형태를 띠는 함수로, 실수 입력값을 0과 1 사이의 출력값으로 변환하는 데 사용. 이 함수는 머신러닝, 특히 이진 분류 문제에서 중요한 역할을 한다.\n",
        "\n",
        "- 로지스틱 함수의 정의\n",
        "\n",
        "    - f(x) = 1 / (1 + e^-x)\n",
        "\n",
        "    - e는 자연 상수(약 2.71828). x는 어떤 실수 값도 가능하며, -무한대에서 무한대까지의 범위를 가지며 이 함수는 모든 실수 입력에 대해 0과 1 사이의 값을 반환.\n",
        "\n",
        "    - 함수가 결과를 0과 1 사이로 제한하기 때문에, 이는 확률에 대해 논의할 때 특히 유용. 로지스틱 회귀 분석에서 이 함수는 선형 함수의 결과를 확률로 변환하는데 사용.\n",
        "\n",
        "    - 입력값 x가 커질수록 로지스틱 함수의 출력은 1에 가까워지고, x가 작아질수록 출력은 0에 가까워진다. x가 0일 때 로지스틱 함수의 값은 0.5입니다. 이러한 특성 때문에 로지스틱 함수는 이진 분류 문제에 널리 사용."
      ],
      "metadata": {
        "id": "EnWBIj6D6bgG"
      }
    },
    {
      "cell_type": "markdown",
      "source": [
        "#### 데이터셋을 로드하고, 전처리한 후, 로지스틱 회귀 모델을 학습시키고, 모델의 성능을 평가하는 과정\n",
        "- 타이타닉 데이터셋을 로드하고 필요한 컬럼만 선택합니다.\n",
        "- 결측치를 처리하고 범주형 변수를 인코딩합니다.\n",
        "- 데이터를 학습용과 테스트용으로 분리합니다.\n",
        "- 로지스틱 회귀 모델을 학습시키고 예측을 수행합니다.\n",
        "- 모델의 정확도, 혼동 행렬, 분류 보고서를 출력합니다.\n",
        "- ROC AUC 성능을 출력합니다."
      ],
      "metadata": {
        "id": "opvOhV5J8PR2"
      }
    },
    {
      "cell_type": "code",
      "source": [
        "from sklearn.model_selection import train_test_split\n",
        "from sklearn.linear_model import LogisticRegression\n",
        "from sklearn.metrics import accuracy_score, confusion_matrix, classification_report\n",
        "\n",
        "data = data_org.copy()\n",
        "\n",
        "# 필요한 컬럼 선택 및 결측치 처리\n",
        "data = data[['Survived', 'Pclass', 'Sex', 'Age', 'SibSp', 'Parch', 'Fare']]\n",
        "data = data.dropna()\n",
        "\n",
        "# 범주형 변수 인코딩\n",
        "data['Sex'] = data['Sex'].map({'male': 0, 'female': 1})\n",
        "\n",
        "# 특성과 레이블 분리\n",
        "X = data.drop('Survived', axis=1)\n",
        "y = data['Survived']\n",
        "\n",
        "# 학습 데이터와 테스트 데이터 분리\n",
        "X_train, X_test, y_train, y_test = train_test_split(X, y, test_size=0.2, random_state=42)\n",
        "\n",
        "# 로지스틱 회귀 모델 학습\n",
        "model = LogisticRegression()\n",
        "model.fit(X_train, y_train)\n",
        "\n",
        "# 예측\n",
        "y_pred = model.predict(X_test)\n",
        "\n",
        "# 모델 평가\n",
        "accuracy = accuracy_score(y_test, y_pred)\n",
        "conf_matrix = confusion_matrix(y_test, y_pred)\n",
        "class_report = classification_report(y_test, y_pred)\n",
        "\n",
        "print(f'Accuracy: {round(accuracy,4)}')\n",
        "print('Confusion Matrix:')\n",
        "print(conf_matrix,'\\n')\n",
        "print('Classification Report:')\n",
        "print(class_report,'\\n')\n",
        "\n",
        "# 확률값 확인\n",
        "y_pred_prob = model.predict_proba(X_test)[:, 1]\n",
        "\n",
        "# ROC AUC 평가\n",
        "from sklearn.metrics import roc_curve, roc_auc_score\n",
        "\n",
        "fpr, tpr, thresholds = roc_curve(y_test, y_pred_prob)\n",
        "roc_auc = roc_auc_score(y_test, y_pred_prob)\n",
        "print(f'ROC_AUC : {round(roc_auc,4)}')"
      ],
      "metadata": {
        "colab": {
          "base_uri": "https://localhost:8080/"
        },
        "id": "kJ28-3to9yEu",
        "outputId": "1bf2422a-ca07-4243-a115-6934c1b9fc13"
      },
      "execution_count": null,
      "outputs": [
        {
          "output_type": "stream",
          "name": "stdout",
          "text": [
            "Accuracy: 0.7483\n",
            "Confusion Matrix:\n",
            "[[71 16]\n",
            " [20 36]] \n",
            "\n",
            "Classification Report:\n",
            "              precision    recall  f1-score   support\n",
            "\n",
            "           0       0.78      0.82      0.80        87\n",
            "           1       0.69      0.64      0.67        56\n",
            "\n",
            "    accuracy                           0.75       143\n",
            "   macro avg       0.74      0.73      0.73       143\n",
            "weighted avg       0.75      0.75      0.75       143\n",
            " \n",
            "\n",
            "ROC_AUC : 0.8164\n"
          ]
        }
      ]
    },
    {
      "cell_type": "markdown",
      "source": [
        "#### 교차 검증\n",
        "\n",
        "모델의 성능을 평가하기 위한 기법으로, 데이터를 여러 번 나누어 여러 모델을 학습시키고 검증하는 방법입니다. 교차 검증을 통해 모델의 일반화 성능을 더 잘 추정할 수 있습니다.\n",
        "\n",
        "교차 검증의 과정\n",
        "- 데이터 분할:\n",
        "  - 전체 데이터를 여러 개의 폴드(fold)로 나눕니다. 예를 들어, 5-폴드 교차 검증에서는 데이터를 5개의 폴드로 나눕니다.\n",
        "- 모델 학습 및 평가:\n",
        "  - 각 폴드에 대해 한 번씩 테스트 데이터로 사용하고 나머지 폴드는 학습 데이터로 사용합니다.\n",
        "  - 즉, 5-폴드 교차 검증에서는 5번의 학습 및 평가 과정을 거칩니다.\n",
        "- 성능 측정:\n",
        "  - 각 폴드에서 얻은 평가 점수를 기록하고, 이를 평균하여 최종 성능을 객관적으로 측정합니다.\n",
        "- 장점\n",
        "  - 일반화 성능 추정: 모델이 새로운 데이터에 대해 얼마나 잘 작동할지를 더 객관적으로 추정할 수 있습니다.\n",
        "  - 데이터 효율성: 데이터를 반복해서 사용하므로 데이터 낭비가 적습니다.\n",
        "  - 모델 튜닝: 모델의 하이퍼파라미터를 튜닝할 때 유용합니다."
      ],
      "metadata": {
        "id": "YXy3lSc-6cnG"
      }
    },
    {
      "cell_type": "code",
      "source": [
        "import numpy as np\n",
        "from sklearn.model_selection import cross_val_score\n",
        "from sklearn.linear_model import LogisticRegression\n",
        "\n",
        "# 모델 초기화\n",
        "model = LogisticRegression(max_iter=200)\n",
        "\n",
        "# 교차 검증\n",
        "scores = cross_val_score(model, X, y, cv=5)\n",
        "print(f\"Cross-Validation Scores: {scores}\")\n",
        "print(f\"Average Score: {np.mean(scores):.2f}\")"
      ],
      "metadata": {
        "colab": {
          "base_uri": "https://localhost:8080/"
        },
        "id": "Rpe6u7v7EwA9",
        "outputId": "bccd4668-b803-4a10-e837-0c526c330ea1"
      },
      "execution_count": null,
      "outputs": [
        {
          "output_type": "stream",
          "name": "stdout",
          "text": [
            "Cross-Validation Scores: [0.76223776 0.81818182 0.78321678 0.76923077 0.81690141]\n",
            "Average Score: 0.79\n"
          ]
        }
      ]
    },
    {
      "cell_type": "markdown",
      "source": [
        "### 서포트 벡터 머신(Support Vector Machines, SVM)\n",
        "\n",
        "- 분류나 회귀, 이상치 탐지 등에 사용되는 강력한 머신러닝 알고리즘 중 하나입니다. SVM은 주로 분류 문제에 사용되며, 이 알고리즘의 핵심 아이디어는 데이터를 고차원 공간으로 변환하여 서로 다른 클래스 간의 최대 마진을 찾는 것입니다.\n",
        "\n",
        "- SVM은 데이터를 두 개의 클래스로 나누는 결정 경계(결정 초평면이라고도 함)를 찾습니다. 이 결정 경계는 각 클래스의 가장 가까운 훈련 샘플(서포트 벡터라고 함)까지의 거리가 최대가 되는 선을 찾는 것을 목표로 합니다. 이를 '마진 최대화'라고 하며, 이 마진 최대화는 오류를 최소화하고 모델의 일반화 성능을 향상시키는 데 중요한 역할을 합니다.\n",
        "\n",
        "- SVM은 선형 뿐만 아니라 비선형 분류 문제에도 사용할 수 있습니다. 비선형 문제를 해결하기 위해, SVM은 커널 트릭이라는 기법을 사용하여 데이터를 고차원 공간으로 변환하고, 그 고차원에서 선형 결정 경계를 찾습니다. 이 커널 트릭 덕분에 SVM은 복잡한 분류 문제를 처리할 수 있습니다.\n",
        "\n",
        "- SVM은 작은 데이터셋에서도 잘 작동하며, 높은 차원의 데이터에 대해 강력한 성능을 발휘합니다. 그러나 데이터셋이 크거나 노이즈가 많은 경우, 그리고 데이터가 선형적으로 구분되지 않는 경우에는 다른 알고리즘(예: 랜덤 포레스트나 신경망)에 비해 성능이 떨어질 수 있습니다."
      ],
      "metadata": {
        "id": "UvDdgMsQDL72"
      }
    },
    {
      "cell_type": "markdown",
      "source": [
        "#### 그리드 서치를 통한 하이퍼파라미터 튜닝\n",
        "\n",
        "GridSearchCV는 사이킷런에서 제공하는 하이퍼파라미터 튜닝 기법으로, 모델의 성능을 최적화하기 위해 다양한 하이퍼파라미터 조합을 시도하는 방법입니다. GridSearchCV는 사용자가 제공한 하이퍼파라미터 값들의 조합을 모두 시도하여, 가장 좋은 성능을 내는 조합을 찾습니다\n",
        "\n",
        "GridSearchCV의 과정\n",
        "- 하이퍼파라미터 그리드 설정: 튜닝할 하이퍼파라미터와 그 후보 값들의 집합을 정의합니다.\n",
        "- 모델 초기화: 튜닝할 머신러닝 모델을 초기화합니다.\n",
        "- 교차 검증을 통한 모델 학습 및 평가:\n",
        "  - 각 하이퍼파라미터 조합에 대해 교차 검증을 수행합니다.\n",
        "  - 교차 검증을 통해 얻은 평균 성능 점수를 기록합니다.\n",
        "- 최적의 하이퍼파라미터 선택: 교차 검증 결과를 바탕으로 가장 높은 성능을 보인 하이퍼파라미터 조합을 선택합니다.\n",
        "- 최적 모델로 학습: 최적의 하이퍼파라미터를 사용하여 모델을 학습시킵니다.\n",
        "\n",
        "GridSearchCV의 장점\n",
        "- 자동화된 하이퍼파라미터 튜닝: 다양한 하이퍼파라미터 조합을 자동으로 시도하여 최적의 조합을 찾을 수 있습니다.\n",
        "- 교차 검증 사용: 교차 검증을 통해 모델의 일반화 성능을 평가하므로, 데이터셋에 대한 과적합을 방지합니다.\n",
        "- 다양한 모델 지원: 사이킷런의 다양한 모델과 함께 사용할 수 있습니다"
      ],
      "metadata": {
        "id": "n_JbRPKlFPGO"
      }
    },
    {
      "cell_type": "markdown",
      "source": [
        "아래 코드에서는 다음과 같은 작업을 수행합니다:\n",
        "\n",
        "- 파라미터 그리드 설정: param_grid 변수에 SVM(Support Vector Machine) 모델의 하이퍼파라미터 C와 kernel의 후보 값들을 정의합니다.\n",
        "\n",
        "  - C: 규제 파라미터로, 값이 작을수록 규제가 강해집니다.\n",
        "  - kernel: SVM에서 사용할 커널 함수로, 여기서는 'linear'와 'rbf'를 시도합니다.\n",
        "  \n",
        "- 모델 초기화: SVC 모델을 초기화합니다.\n",
        "\n",
        "- 그리드 서치 초기화 및 학습:\n",
        "  - GridSearchCV 객체를 초기화하고, svc 모델과 param_grid를 전달합니다.\n",
        "  - cv=5는 5-폴드 교차 검증을 의미합니다.\n",
        "  - fit 메서드를 호출하여 그리드 서치를 수행하고 모델을 학습시킵니다.\n",
        "\n",
        "- 최적 파라미터와 점수 출력:\n",
        "  - grid_search.best_params_를 사용하여 최적의 하이퍼파라미터 조합을 출력합니다.\n",
        "  - grid_search.best_score_를 사용하여 최적 조합에서의 교차 검증 평균 점수를 출력합니다."
      ],
      "metadata": {
        "id": "zPMmWvR1FQsN"
      }
    },
    {
      "cell_type": "markdown",
      "source": [
        "Task1_0722. Adult Income 데이터셋을 이용한 전처리 및 분류 모델(소득이 50K 이상인지 예측)을 아래 설명을 참조하여 수행하세요.\n",
        "\n",
        "[ 문제 설명 ]\n",
        "\n",
        "- Adult Income 데이터셋을 로드합니다.\n",
        "- 결측치를 처리합니다.\n",
        "- 이상치를 제외합니다.\n",
        "- 파생 변수를 작성합니다.\n",
        "- 범주형 변수를 인코딩합니다.\n",
        "- 변수 선택 및 독립변수 종속변수를 분리합니다.\n",
        "- 데이터를 표준화합니다.\n",
        "- 데이터셋을 학습용과 테스트용으로 나눕니다.\n",
        "- Logistic Regression 모델 생성 및 학습합니다.\n",
        "- 예측 및 평가합니다."
      ],
      "metadata": {
        "id": "lqDdjLOl-WiR"
      }
    },
    {
      "cell_type": "code",
      "source": [
        "# 1. 데이터 로드\n",
        "url = 'https://archive.ics.uci.edu/ml/machine-learning-databases/adult/adult.data'\n",
        "columns = ['age', 'workclass', 'fnlwgt', 'education', 'education-num', 'marital-status',\n",
        "           'occupation', 'relationship', 'race', 'sex', 'capital-gain', 'capital-loss',\n",
        "           'hours-per-week', 'native-country', 'income']\n",
        "data = pd.read_csv(url, header=None, names=columns, na_values='?', skipinitialspace=True)"
      ],
      "metadata": {
        "id": "D7gAQU9t-aOJ"
      },
      "execution_count": null,
      "outputs": []
    },
    {
      "cell_type": "markdown",
      "source": [
        "QR 방법을 사용한 이상치 제거 가이드\n",
        "\n",
        "IQR 계산\n",
        "- IQR(Interquartile Range)은 데이터의 중앙 50%를 나타내며, 데이터의 변동성을 측정하는 데 사용됩니다. IQR은 3사분위수(Q3)와 1사분위수(Q1)의 차이로 계산됩니다.\n",
        "  - Q1: 데이터의 25번째 백분위수(1사분위수)\n",
        "  - Q3: 데이터의 75번째 백분위수(3사분위수)\n",
        "  - IQR: Q3 - Q1\n",
        "\n",
        "이상치 경계 계산\n",
        "- 일반적으로 IQR의 1.5배를 사용하여 이상치 경계를 설정합니다.\n",
        "  - Lower Bound: Q1 - 1.5 * IQR\n",
        "  - Upper Bound: Q3 + 1.5 * IQR\n",
        "- 이 경계를 벗어나는 데이터 포인트는 이상치로 간주됩니다.\n",
        "\n",
        "이상치를 제거는 데이터의 분포를 왜곡하는 극단적인 값을 제거하여 데이터 분석 및 모델 성능을 향상시키는 데 도움이 됩니다. 도메인 지식과 데이터의 특성을 고려해서 이상치 제거를 진행합니다."
      ],
      "metadata": {
        "id": "C3wITWSU-AkQ"
      }
    },
    {
      "cell_type": "markdown",
      "source": [
        "Adult Income 데이터셋(또는 \"Census Income\" 데이터셋)은 미국 인구 조사 데이터를 바탕으로 각 개인의 특성에 따른 소득 수준을 예측하는 데 사용됩니다. 이 데이터셋의 컬럼들은 다음과 같습니다:\n",
        "\n",
        "- age: 나이 (숫자)\n",
        "개인의 나이를 나타냅니다.\n",
        "- workclass: 직업 유형 (범주형)\n",
        "개인의 직업 유형을 나타냅니다. 예를 들어, 'Private', 'Self-emp-not-inc', 'Self-emp-inc', 'Federal-gov', 'Local-gov', 'State-gov', 'Without-pay', 'Never-worked' 등이 있습니다.\n",
        "- fnlwgt: 최종 가중치 (숫자)\n",
        "인구 조사에서 각 행이 전체 인구를 대표하는 비율을 나타내는 가중치입니다. 더 큰 값은 더 큰 대표성을 의미합니다.\n",
        "- education: 교육 수준 (범주형)\n",
        "개인의 교육 수준을 나타냅니다. 예를 들어, 'Bachelors', 'Some-college', '11th', 'HS-grad', 'Prof-school', 'Assoc-acdm', 'Assoc-voc', '9th', '7th-8th', '12th', 'Masters', '1st-4th', '10th', 'Doctorate', '5th-6th', 'Preschool' 등이 있습니다.\n",
        "- education-num: 교육 수준(숫자) (숫자)\n",
        "교육 수준을 숫자로 나타낸 것입니다. 예를 들어, 'Bachelors'는 13, 'HS-grad'는 9 등으로 교육의 연수를 나타냅니다.\n",
        "- marital-status: 결혼 상태 (범주형)\n",
        "개인의 결혼 상태를 나타냅니다. 예를 들어, 'Married-civ-spouse', 'Divorced', 'Never-married', 'Separated', 'Widowed', 'Married-spouse-absent', 'Married-AF-spouse' 등이 있습니다.\n",
        "- occupation: 직업 (범주형)\n",
        "개인의 직업을 나타냅니다. 예를 들어, 'Tech-support', 'Craft-repair', 'Other-service', 'Sales', 'Exec-managerial', 'Prof-specialty', 'Handlers-cleaners', 'Machine-op-inspct', 'Adm-clerical', 'Farming-fishing', 'Transport-moving', 'Priv-house-serv', 'Protective-serv', 'Armed-Forces' 등이 있습니다.\n",
        "- relationship: 가족 관계 (범주형)\n",
        "개인의 가족 관계를 나타냅니다. 예를 들어, 'Wife', 'Own-child', 'Husband', 'Not-in-family', 'Other-relative', 'Unmarried' 등이 있습니다.\n",
        "- race: 인종 (범주형)\n",
        "개인의 인종을 나타냅니다. 예를 들어, 'White', 'Asian-Pac-Islander', 'Amer-Indian-Eskimo', 'Other', 'Black' 등이 있습니다.\n",
        "- sex: 성별 (범주형)\n",
        "개인의 성별을 나타냅니다. 'Male' 또는 'Female'입니다.\n",
        "- capital-gain: 자본 이득 (숫자)\n",
        "개인의 자본 이득을 나타냅니다. 자본 자산의 매매에서 발생하는 이익입니다.\n",
        "- capital-loss: 자본 손실 (숫자)\n",
        "개인의 자본 손실을 나타냅니다. 자본 자산의 매매에서 발생하는 손실입니다.\n",
        "- hours-per-week: 주당 근무 시간 (숫자)\n",
        "개인이 주당 일하는 시간을 나타냅니다.\n",
        "- native-country: 출생 국가 (범주형)\n",
        "개인의 출생 국가를 나타냅니다. 예를 들어, 'United-States', 'Cambodia', 'England', 'Puerto-Rico', 'Canada', 'Germany', 'Outlying-US(Guam-USVI-etc)', 'India', 'Japan', 'Greece', 'South', 'China', 'Cuba', 'Iran', 'Honduras', 'Philippines', 'Italy', 'Poland', 'Jamaica', 'Vietnam', 'Mexico', 'Portugal', 'Ireland', 'France', 'Dominican-Republic', 'Laos', 'Ecuador', 'Taiwan', 'Haiti', 'Columbia', 'Hungary', 'Guatemala', 'Nicaragua', 'Scotland', 'Thailand', 'Yugoslavia', 'El-Salvador', 'Trinadad&Tobago', 'Peru', 'Hong', 'Holand-Netherlands' 등이 있습니다.\n",
        "- income: 소득 수준 (범주형)\n",
        "개인의 소득 수준을 나타냅니다. ' <=50K' 또는 ' >50K'로, 연 소득이 50,000달러 이하인지 초과인지를 나타냅니다."
      ],
      "metadata": {
        "id": "ZKsZnu_07hEa"
      }
    },
    {
      "cell_type": "markdown",
      "source": [
        "QR 방법을 사용한 이상치 제거 가이드\n",
        "\n",
        "IQR 계산\n",
        "- IQR(Interquartile Range)은 데이터의 중앙 50%를 나타내며, 데이터의 변동성을 측정하는 데 사용됩니다. IQR은 3사분위수(Q3)와 1사분위수(Q1)의 차이로 계산됩니다.\n",
        "  - Q1: 데이터의 25번째 백분위수(1사분위수)\n",
        "  - Q3: 데이터의 75번째 백분위수(3사분위수)\n",
        "  - IQR: Q3 - Q1\n",
        "\n",
        "이상치 경계 계산\n",
        "- 일반적으로 IQR의 1.5배를 사용하여 이상치 경계를 설정합니다.\n",
        "  - Lower Bound: Q1 - 1.5 * IQR\n",
        "  - Upper Bound: Q3 + 1.5 * IQR\n",
        "- 이 경계를 벗어나는 데이터 포인트는 이상치로 간주됩니다.\n",
        "\n",
        "이상치를 제거는 데이터의 분포를 왜곡하는 극단적인 값을 제거하여 데이터 분석 및 모델 성능을 향상시키는 데 도움이 됩니다. 도메인 지식과 데이터의 특성을 고려해서 이상치 제거를 진행합니다."
      ],
      "metadata": {
        "id": "JP2yVULv9xTR"
      }
    },
    {
      "cell_type": "code",
      "source": [
        "from sklearn.model_selection import GridSearchCV\n",
        "from sklearn.svm import SVC\n",
        "\n",
        "param_grid = {'C': [0.1, 1, 10], 'kernel': ['linear', 'rbf']}\n",
        "\n",
        "svc = SVC()\n",
        "\n",
        "grid_search = GridSearchCV(svc, param_grid, cv=5)\n",
        "grid_search.fit(X, y)\n",
        "\n",
        "print(f\"Best Parameters: {grid_search.best_params_}\")\n",
        "print(f\"Best Score: {grid_search.best_score_:.2f}\")"
      ],
      "metadata": {
        "colab": {
          "base_uri": "https://localhost:8080/",
          "height": 224
        },
        "id": "X5wWHMTrDMPW",
        "outputId": "329deef5-ce33-4af0-a9ed-6d097a6520f2"
      },
      "execution_count": null,
      "outputs": [
        {
          "output_type": "error",
          "ename": "NameError",
          "evalue": "name 'X' is not defined",
          "traceback": [
            "\u001b[0;31m---------------------------------------------------------------------------\u001b[0m",
            "\u001b[0;31mNameError\u001b[0m                                 Traceback (most recent call last)",
            "\u001b[0;32m<ipython-input-2-9a5c6d3e31a8>\u001b[0m in \u001b[0;36m<cell line: 9>\u001b[0;34m()\u001b[0m\n\u001b[1;32m      7\u001b[0m \u001b[0;34m\u001b[0m\u001b[0m\n\u001b[1;32m      8\u001b[0m \u001b[0mgrid_search\u001b[0m \u001b[0;34m=\u001b[0m \u001b[0mGridSearchCV\u001b[0m\u001b[0;34m(\u001b[0m\u001b[0msvc\u001b[0m\u001b[0;34m,\u001b[0m \u001b[0mparam_grid\u001b[0m\u001b[0;34m,\u001b[0m \u001b[0mcv\u001b[0m\u001b[0;34m=\u001b[0m\u001b[0;36m5\u001b[0m\u001b[0;34m)\u001b[0m\u001b[0;34m\u001b[0m\u001b[0;34m\u001b[0m\u001b[0m\n\u001b[0;32m----> 9\u001b[0;31m \u001b[0mgrid_search\u001b[0m\u001b[0;34m.\u001b[0m\u001b[0mfit\u001b[0m\u001b[0;34m(\u001b[0m\u001b[0mX\u001b[0m\u001b[0;34m,\u001b[0m \u001b[0my\u001b[0m\u001b[0;34m)\u001b[0m\u001b[0;34m\u001b[0m\u001b[0;34m\u001b[0m\u001b[0m\n\u001b[0m\u001b[1;32m     10\u001b[0m \u001b[0;34m\u001b[0m\u001b[0m\n\u001b[1;32m     11\u001b[0m \u001b[0mprint\u001b[0m\u001b[0;34m(\u001b[0m\u001b[0;34mf\"Best Parameters: {grid_search.best_params_}\"\u001b[0m\u001b[0;34m)\u001b[0m\u001b[0;34m\u001b[0m\u001b[0;34m\u001b[0m\u001b[0m\n",
            "\u001b[0;31mNameError\u001b[0m: name 'X' is not defined"
          ]
        }
      ]
    },
    {
      "cell_type": "code",
      "source": [
        "from sklearn.model_selection import GridSearchCV\n",
        "from sklearn.svm import SVC\n",
        "from sklearn.datasets import load_iris\n",
        "\n",
        "# Load example data\n",
        "data = load_iris()\n",
        "X = data.data\n",
        "y = data.target\n",
        "\n",
        "# Define the parameter grid\n",
        "param_grid = {'C': [0.1, 1, 10], 'kernel': ['linear', 'rbf']}\n",
        "\n",
        "# Initialize the SVC\n",
        "svc = SVC()\n",
        "\n",
        "# Set up the grid search\n",
        "grid_search = GridSearchCV(svc, param_grid, cv=5)\n",
        "\n",
        "# Fit the grid search\n",
        "grid_search.fit(X, y)\n",
        "\n",
        "# Print the best parameters and best score\n",
        "print(f\"Best Parameters: {grid_search.best_params_}\")\n",
        "print(f\"Best Score: {grid_search.best_score_:.2f}\")\n"
      ],
      "metadata": {
        "colab": {
          "base_uri": "https://localhost:8080/"
        },
        "id": "wCQF74xrKXZt",
        "outputId": "00816e87-4b3c-454b-bde8-f5b0fe69fe0d"
      },
      "execution_count": null,
      "outputs": [
        {
          "output_type": "stream",
          "name": "stdout",
          "text": [
            "Best Parameters: {'C': 1, 'kernel': 'linear'}\n",
            "Best Score: 0.98\n"
          ]
        }
      ]
    },
    {
      "cell_type": "code",
      "source": [
        "import pandas as pd\n",
        "from sklearn.model_selection import train_test_split\n",
        "from sklearn.preprocessing import StandardScaler, OneHotEncoder\n",
        "from sklearn.compose import ColumnTransformer\n",
        "from sklearn.pipeline import Pipeline\n",
        "from sklearn.linear_model import LogisticRegression\n",
        "from sklearn.metrics import classification_report\n",
        "\n",
        "# 데이터셋 로드\n",
        "url = 'https://archive.ics.uci.edu/ml/machine-learning-databases/adult/adult.data'\n",
        "columns = ['age', 'workclass', 'fnlwgt', 'education', 'education-num', 'marital-status', 'occupation', 'relationship', 'race', 'sex', 'capital-gain', 'capital-loss', 'hours-per-week', 'native-country', 'income']\n",
        "data = pd.read_csv(url, header=None, names=columns, na_values='?', skipinitialspace=True)\n",
        "\n",
        "# 결측치가 있는 행 삭제\n",
        "data.dropna(inplace=True)\n",
        "\n",
        "# 새로운 파생 변수 생성: capital-diff (capital-gain - capital-loss)\n",
        "data['capital-diff'] = data['capital-gain'] - data['capital-loss']\n",
        "\n",
        "# 타겟 변수 인코딩: income (소득이 50K 이상인지 여부)\n",
        "data['income'] = data['income'].apply(lambda x: 1 if x == '>50K' else 0)\n",
        "\n",
        "# 피처(특징) 열과 타겟(목표) 정의\n",
        "X = data.drop('income', axis=1)\n",
        "y = data['income']\n",
        "\n",
        "# 숫자형 및 범주형 피처 선택\n",
        "numeric_features = ['age', 'fnlwgt', 'education-num', 'capital-gain', 'capital-loss', 'hours-per-week', 'capital-diff']\n",
        "categorical_features = ['workclass', 'education', 'marital-status', 'occupation', 'relationship', 'race', 'sex', 'native-country']\n",
        "\n",
        "# 전처리 파이프라인 설정\n",
        "preprocessor = ColumnTransformer(\n",
        "    transformers=[\n",
        "        ('num', StandardScaler(), numeric_features),\n",
        "        ('cat', OneHotEncoder(handle_unknown='ignore'), categorical_features)\n",
        "    ])\n",
        "\n",
        "# 로지스틱 회귀 모델 파이프라인 생성\n",
        "clf = Pipeline(steps=[\n",
        "    ('preprocessor', preprocessor),\n",
        "    ('classifier', LogisticRegression(max_iter=1000))\n",
        "])\n",
        "\n",
        "# 데이터를 학습용과 테스트용으로 분리\n",
        "X_train, X_test, y_train, y_test = train_test_split(X, y, test_size=0.2, random_state=42)\n",
        "\n",
        "# 모델 학습\n",
        "clf.fit(X_train, y_train)\n",
        "\n",
        "# 예측 및 평가\n",
        "y_pred = clf.predict(X_test)\n",
        "report = classification_report(y_test, y_pred)\n",
        "\n",
        "# 평가 결과 출력\n",
        "print(report)\n"
      ],
      "metadata": {
        "id": "7uamq8OqKcIE",
        "colab": {
          "base_uri": "https://localhost:8080/"
        },
        "outputId": "c02e57f2-4a0c-41c2-8348-4c2489751869"
      },
      "execution_count": null,
      "outputs": [
        {
          "output_type": "stream",
          "name": "stdout",
          "text": [
            "              precision    recall  f1-score   support\n",
            "\n",
            "           0       0.88      0.93      0.90      4503\n",
            "           1       0.76      0.62      0.68      1530\n",
            "\n",
            "    accuracy                           0.85      6033\n",
            "   macro avg       0.82      0.78      0.79      6033\n",
            "weighted avg       0.85      0.85      0.85      6033\n",
            "\n"
          ]
        }
      ]
    },
    {
      "cell_type": "code",
      "source": [
        "import pandas as pd\n",
        "\n",
        "# 데이터 로드\n",
        "url = 'https://archive.ics.uci.edu/ml/machine-learning-databases/adult/adult.data'\n",
        "columns = ['age', 'workclass', 'fnlwgt', 'education', 'education-num', 'marital-status',\n",
        "           'occupation', 'relationship', 'race', 'sex', 'capital-gain', 'capital-loss',\n",
        "           'hours-per-week', 'native-country', 'income']\n",
        "data = pd.read_csv(url, header=None, names=columns, na_values='?', skipinitialspace=True)\n",
        "\n",
        "# 결측치 처리\n",
        "data.dropna(inplace=True)\n",
        "\n",
        "# 이상치 제거\n",
        "Q1 = data['capital-gain'].quantile(0.25)\n",
        "Q3 = data['capital-gain'].quantile(0.75)\n",
        "IQR = Q3 - Q1\n",
        "capital_gain_outliers = data[(data['capital-gain'] < (Q1 - 1.5 * IQR)) | (data['capital-gain'] > (Q3 + 1.5 * IQR))]\n",
        "\n",
        "Q1 = data['capital-loss'].quantile(0.25)\n",
        "Q3 = data['capital-loss'].quantile(0.75)\n",
        "IQR = Q3 - Q1\n",
        "capital_loss_outliers = data[(data['capital-loss'] < (Q1 - 1.5 * IQR)) | (data['capital-loss'] > (Q3 + 1.5 * IQR))]\n",
        "\n",
        "data = data.drop(capital_gain_outliers.index)\n",
        "data = data.drop(capital_loss_outliers.index)\n",
        "\n",
        "# 데이터프레임의 일부를 출력하여 확인\n",
        "print(data.head())\n"
      ],
      "metadata": {
        "colab": {
          "base_uri": "https://localhost:8080/"
        },
        "id": "8OyYVmWCA2RR",
        "outputId": "854526a6-67a9-451a-c70f-467a52c0351f"
      },
      "execution_count": null,
      "outputs": [
        {
          "output_type": "stream",
          "name": "stdout",
          "text": [
            "   age         workclass  fnlwgt  education  education-num  \\\n",
            "1   50  Self-emp-not-inc   83311  Bachelors             13   \n",
            "2   38           Private  215646    HS-grad              9   \n",
            "3   53           Private  234721       11th              7   \n",
            "4   28           Private  338409  Bachelors             13   \n",
            "5   37           Private  284582    Masters             14   \n",
            "\n",
            "       marital-status         occupation   relationship   race     sex  \\\n",
            "1  Married-civ-spouse    Exec-managerial        Husband  White    Male   \n",
            "2            Divorced  Handlers-cleaners  Not-in-family  White    Male   \n",
            "3  Married-civ-spouse  Handlers-cleaners        Husband  Black    Male   \n",
            "4  Married-civ-spouse     Prof-specialty           Wife  Black  Female   \n",
            "5  Married-civ-spouse    Exec-managerial           Wife  White  Female   \n",
            "\n",
            "   capital-gain  capital-loss  hours-per-week native-country income  \n",
            "1             0             0              13  United-States  <=50K  \n",
            "2             0             0              40  United-States  <=50K  \n",
            "3             0             0              40  United-States  <=50K  \n",
            "4             0             0              40           Cuba  <=50K  \n",
            "5             0             0              40  United-States  <=50K  \n"
          ]
        }
      ]
    },
    {
      "cell_type": "code",
      "source": [
        "data['capital-diff'] = data['capital-gain'] - data['capital-loss']"
      ],
      "metadata": {
        "id": "o4VCSEITKcK2"
      },
      "execution_count": null,
      "outputs": []
    },
    {
      "cell_type": "markdown",
      "source": [
        "One-Hot Encoding\n",
        "- 비순서형 범주형 변수: 대부분의 범주형 변수는 순서가 없습니다. 예를 들어, workclass, occupation, race, sex 등의 변수는 순서가 없습니다. 이 경우, 각 범주를 고유한 이진 벡터로 변환하는 것이 적합합니다.\n",
        "- 모델의 가정: Logistic Regression과 같은 선형 모델은 입력 변수들이 서로 독립적이라고 가정합니다. One-hot encoding은 이러한 가정을 유지하는 데 도움이 됩니다.\n",
        "- 다중공선성 방지: One-hot encoding은 다중공선성 문제를 피하기 위해 첫 번째 범주를 제거할 수 있습니다. 이 방법은 drop_first=True 옵션을 사용하여 구현됩니다.\n",
        "\n",
        "Label Encoding\n",
        "- 순서형 범주형 변수: Label encoding은 범주에 순서가 있는 경우에 적합합니다. 예를 들어, 교육 수준(예: 초등학교 < 중학교 < 고등학교 < 대학교)은 순서가 있는 범주형 변수입니다.\n",
        "- 트리 기반 모델: 결정 트리, 랜덤 포레스트, XGBoost와 같은 트리 기반 모델은 label encoding된 변수를 더 잘 처리할 수 있습니다. 이는 트리 기반 모델이 변수 간의 순서를 처리할 수 있기 때문입니다.\n",
        "\n",
        "Adult Income 데이터셋의 경우, 대부분의 범주형 변수는 순서가 없으므로 one-hot encoding을 사용하는 것이 적절"
      ],
      "metadata": {
        "id": "rQHq2nDTBJBY"
      }
    },
    {
      "cell_type": "code",
      "source": [
        "# 변주형 범수 인코딩\n",
        "category_features = ['workclass', 'education', 'marital-status', 'occupation', 'relationship', 'race', 'sex', 'native-country', 'income']\n",
        "data = pd.get_dummies(data, columns=category_features, drop_first=True)"
      ],
      "metadata": {
        "id": "dR8S93nWBcEB"
      },
      "execution_count": null,
      "outputs": []
    },
    {
      "cell_type": "code",
      "source": [
        "data.info()"
      ],
      "metadata": {
        "colab": {
          "base_uri": "https://localhost:8080/"
        },
        "id": "XkIIGZEOCDPh",
        "outputId": "5a7268e2-edff-4f46-b15a-96470c8039be"
      },
      "execution_count": null,
      "outputs": [
        {
          "output_type": "stream",
          "name": "stdout",
          "text": [
            "<class 'pandas.core.frame.DataFrame'>\n",
            "Index: 26197 entries, 1 to 32559\n",
            "Data columns (total 97 columns):\n",
            " #   Column                                     Non-Null Count  Dtype\n",
            "---  ------                                     --------------  -----\n",
            " 0   age                                        26197 non-null  int64\n",
            " 1   fnlwgt                                     26197 non-null  int64\n",
            " 2   education-num                              26197 non-null  int64\n",
            " 3   capital-gain                               26197 non-null  int64\n",
            " 4   capital-loss                               26197 non-null  int64\n",
            " 5   hours-per-week                             26197 non-null  int64\n",
            " 6   capital-diff                               26197 non-null  int64\n",
            " 7   workclass_Local-gov                        26197 non-null  bool \n",
            " 8   workclass_Private                          26197 non-null  bool \n",
            " 9   workclass_Self-emp-inc                     26197 non-null  bool \n",
            " 10  workclass_Self-emp-not-inc                 26197 non-null  bool \n",
            " 11  workclass_State-gov                        26197 non-null  bool \n",
            " 12  workclass_Without-pay                      26197 non-null  bool \n",
            " 13  education_11th                             26197 non-null  bool \n",
            " 14  education_12th                             26197 non-null  bool \n",
            " 15  education_1st-4th                          26197 non-null  bool \n",
            " 16  education_5th-6th                          26197 non-null  bool \n",
            " 17  education_7th-8th                          26197 non-null  bool \n",
            " 18  education_9th                              26197 non-null  bool \n",
            " 19  education_Assoc-acdm                       26197 non-null  bool \n",
            " 20  education_Assoc-voc                        26197 non-null  bool \n",
            " 21  education_Bachelors                        26197 non-null  bool \n",
            " 22  education_Doctorate                        26197 non-null  bool \n",
            " 23  education_HS-grad                          26197 non-null  bool \n",
            " 24  education_Masters                          26197 non-null  bool \n",
            " 25  education_Preschool                        26197 non-null  bool \n",
            " 26  education_Prof-school                      26197 non-null  bool \n",
            " 27  education_Some-college                     26197 non-null  bool \n",
            " 28  marital-status_Married-AF-spouse           26197 non-null  bool \n",
            " 29  marital-status_Married-civ-spouse          26197 non-null  bool \n",
            " 30  marital-status_Married-spouse-absent       26197 non-null  bool \n",
            " 31  marital-status_Never-married               26197 non-null  bool \n",
            " 32  marital-status_Separated                   26197 non-null  bool \n",
            " 33  marital-status_Widowed                     26197 non-null  bool \n",
            " 34  occupation_Armed-Forces                    26197 non-null  bool \n",
            " 35  occupation_Craft-repair                    26197 non-null  bool \n",
            " 36  occupation_Exec-managerial                 26197 non-null  bool \n",
            " 37  occupation_Farming-fishing                 26197 non-null  bool \n",
            " 38  occupation_Handlers-cleaners               26197 non-null  bool \n",
            " 39  occupation_Machine-op-inspct               26197 non-null  bool \n",
            " 40  occupation_Other-service                   26197 non-null  bool \n",
            " 41  occupation_Priv-house-serv                 26197 non-null  bool \n",
            " 42  occupation_Prof-specialty                  26197 non-null  bool \n",
            " 43  occupation_Protective-serv                 26197 non-null  bool \n",
            " 44  occupation_Sales                           26197 non-null  bool \n",
            " 45  occupation_Tech-support                    26197 non-null  bool \n",
            " 46  occupation_Transport-moving                26197 non-null  bool \n",
            " 47  relationship_Not-in-family                 26197 non-null  bool \n",
            " 48  relationship_Other-relative                26197 non-null  bool \n",
            " 49  relationship_Own-child                     26197 non-null  bool \n",
            " 50  relationship_Unmarried                     26197 non-null  bool \n",
            " 51  relationship_Wife                          26197 non-null  bool \n",
            " 52  race_Asian-Pac-Islander                    26197 non-null  bool \n",
            " 53  race_Black                                 26197 non-null  bool \n",
            " 54  race_Other                                 26197 non-null  bool \n",
            " 55  race_White                                 26197 non-null  bool \n",
            " 56  sex_Male                                   26197 non-null  bool \n",
            " 57  native-country_Canada                      26197 non-null  bool \n",
            " 58  native-country_China                       26197 non-null  bool \n",
            " 59  native-country_Columbia                    26197 non-null  bool \n",
            " 60  native-country_Cuba                        26197 non-null  bool \n",
            " 61  native-country_Dominican-Republic          26197 non-null  bool \n",
            " 62  native-country_Ecuador                     26197 non-null  bool \n",
            " 63  native-country_El-Salvador                 26197 non-null  bool \n",
            " 64  native-country_England                     26197 non-null  bool \n",
            " 65  native-country_France                      26197 non-null  bool \n",
            " 66  native-country_Germany                     26197 non-null  bool \n",
            " 67  native-country_Greece                      26197 non-null  bool \n",
            " 68  native-country_Guatemala                   26197 non-null  bool \n",
            " 69  native-country_Haiti                       26197 non-null  bool \n",
            " 70  native-country_Honduras                    26197 non-null  bool \n",
            " 71  native-country_Hong                        26197 non-null  bool \n",
            " 72  native-country_Hungary                     26197 non-null  bool \n",
            " 73  native-country_India                       26197 non-null  bool \n",
            " 74  native-country_Iran                        26197 non-null  bool \n",
            " 75  native-country_Ireland                     26197 non-null  bool \n",
            " 76  native-country_Italy                       26197 non-null  bool \n",
            " 77  native-country_Jamaica                     26197 non-null  bool \n",
            " 78  native-country_Japan                       26197 non-null  bool \n",
            " 79  native-country_Laos                        26197 non-null  bool \n",
            " 80  native-country_Mexico                      26197 non-null  bool \n",
            " 81  native-country_Nicaragua                   26197 non-null  bool \n",
            " 82  native-country_Outlying-US(Guam-USVI-etc)  26197 non-null  bool \n",
            " 83  native-country_Peru                        26197 non-null  bool \n",
            " 84  native-country_Philippines                 26197 non-null  bool \n",
            " 85  native-country_Poland                      26197 non-null  bool \n",
            " 86  native-country_Portugal                    26197 non-null  bool \n",
            " 87  native-country_Puerto-Rico                 26197 non-null  bool \n",
            " 88  native-country_Scotland                    26197 non-null  bool \n",
            " 89  native-country_South                       26197 non-null  bool \n",
            " 90  native-country_Taiwan                      26197 non-null  bool \n",
            " 91  native-country_Thailand                    26197 non-null  bool \n",
            " 92  native-country_Trinadad&Tobago             26197 non-null  bool \n",
            " 93  native-country_United-States               26197 non-null  bool \n",
            " 94  native-country_Vietnam                     26197 non-null  bool \n",
            " 95  native-country_Yugoslavia                  26197 non-null  bool \n",
            " 96  income_>50K                                26197 non-null  bool \n",
            "dtypes: bool(90), int64(7)\n",
            "memory usage: 3.8 MB\n"
          ]
        }
      ]
    },
    {
      "cell_type": "code",
      "source": [
        "# 변수 선택 및 데이터 분리\n",
        "X = data.drop('income_>50K', axis=1)\n",
        "y = data['income_>50K']"
      ],
      "metadata": {
        "id": "kc04v6o_CjPp"
      },
      "execution_count": null,
      "outputs": []
    },
    {
      "cell_type": "code",
      "source": [
        "# 데이터 표준화\n",
        "scaler = StandardScaler()\n",
        "X_scaled = scaler.fit_transform(X)\n",
        "\n",
        "# 학습용과 테스트용 데이터 셋으로 나누기\n",
        "X_train, X_test, y_train, y_test = train_test_split(X_scaled, y, test_size=0.2, random_state=42)\n",
        "# Logistic Regression 모델 생성 및 학습\n",
        "model = LogisticRegression(random_state=42)\n",
        "model.fit(X_train, y_train)"
      ],
      "metadata": {
        "colab": {
          "base_uri": "https://localhost:8080/",
          "height": 74
        },
        "id": "_qP-C32pC3Sw",
        "outputId": "43bae8bb-9235-454d-b1bd-baf33a9b1c53"
      },
      "execution_count": null,
      "outputs": [
        {
          "output_type": "execute_result",
          "data": {
            "text/plain": [
              "LogisticRegression(random_state=42)"
            ],
            "text/html": [
              "<style>#sk-container-id-1 {color: black;background-color: white;}#sk-container-id-1 pre{padding: 0;}#sk-container-id-1 div.sk-toggleable {background-color: white;}#sk-container-id-1 label.sk-toggleable__label {cursor: pointer;display: block;width: 100%;margin-bottom: 0;padding: 0.3em;box-sizing: border-box;text-align: center;}#sk-container-id-1 label.sk-toggleable__label-arrow:before {content: \"▸\";float: left;margin-right: 0.25em;color: #696969;}#sk-container-id-1 label.sk-toggleable__label-arrow:hover:before {color: black;}#sk-container-id-1 div.sk-estimator:hover label.sk-toggleable__label-arrow:before {color: black;}#sk-container-id-1 div.sk-toggleable__content {max-height: 0;max-width: 0;overflow: hidden;text-align: left;background-color: #f0f8ff;}#sk-container-id-1 div.sk-toggleable__content pre {margin: 0.2em;color: black;border-radius: 0.25em;background-color: #f0f8ff;}#sk-container-id-1 input.sk-toggleable__control:checked~div.sk-toggleable__content {max-height: 200px;max-width: 100%;overflow: auto;}#sk-container-id-1 input.sk-toggleable__control:checked~label.sk-toggleable__label-arrow:before {content: \"▾\";}#sk-container-id-1 div.sk-estimator input.sk-toggleable__control:checked~label.sk-toggleable__label {background-color: #d4ebff;}#sk-container-id-1 div.sk-label input.sk-toggleable__control:checked~label.sk-toggleable__label {background-color: #d4ebff;}#sk-container-id-1 input.sk-hidden--visually {border: 0;clip: rect(1px 1px 1px 1px);clip: rect(1px, 1px, 1px, 1px);height: 1px;margin: -1px;overflow: hidden;padding: 0;position: absolute;width: 1px;}#sk-container-id-1 div.sk-estimator {font-family: monospace;background-color: #f0f8ff;border: 1px dotted black;border-radius: 0.25em;box-sizing: border-box;margin-bottom: 0.5em;}#sk-container-id-1 div.sk-estimator:hover {background-color: #d4ebff;}#sk-container-id-1 div.sk-parallel-item::after {content: \"\";width: 100%;border-bottom: 1px solid gray;flex-grow: 1;}#sk-container-id-1 div.sk-label:hover label.sk-toggleable__label {background-color: #d4ebff;}#sk-container-id-1 div.sk-serial::before {content: \"\";position: absolute;border-left: 1px solid gray;box-sizing: border-box;top: 0;bottom: 0;left: 50%;z-index: 0;}#sk-container-id-1 div.sk-serial {display: flex;flex-direction: column;align-items: center;background-color: white;padding-right: 0.2em;padding-left: 0.2em;position: relative;}#sk-container-id-1 div.sk-item {position: relative;z-index: 1;}#sk-container-id-1 div.sk-parallel {display: flex;align-items: stretch;justify-content: center;background-color: white;position: relative;}#sk-container-id-1 div.sk-item::before, #sk-container-id-1 div.sk-parallel-item::before {content: \"\";position: absolute;border-left: 1px solid gray;box-sizing: border-box;top: 0;bottom: 0;left: 50%;z-index: -1;}#sk-container-id-1 div.sk-parallel-item {display: flex;flex-direction: column;z-index: 1;position: relative;background-color: white;}#sk-container-id-1 div.sk-parallel-item:first-child::after {align-self: flex-end;width: 50%;}#sk-container-id-1 div.sk-parallel-item:last-child::after {align-self: flex-start;width: 50%;}#sk-container-id-1 div.sk-parallel-item:only-child::after {width: 0;}#sk-container-id-1 div.sk-dashed-wrapped {border: 1px dashed gray;margin: 0 0.4em 0.5em 0.4em;box-sizing: border-box;padding-bottom: 0.4em;background-color: white;}#sk-container-id-1 div.sk-label label {font-family: monospace;font-weight: bold;display: inline-block;line-height: 1.2em;}#sk-container-id-1 div.sk-label-container {text-align: center;}#sk-container-id-1 div.sk-container {/* jupyter's `normalize.less` sets `[hidden] { display: none; }` but bootstrap.min.css set `[hidden] { display: none !important; }` so we also need the `!important` here to be able to override the default hidden behavior on the sphinx rendered scikit-learn.org. See: https://github.com/scikit-learn/scikit-learn/issues/21755 */display: inline-block !important;position: relative;}#sk-container-id-1 div.sk-text-repr-fallback {display: none;}</style><div id=\"sk-container-id-1\" class=\"sk-top-container\"><div class=\"sk-text-repr-fallback\"><pre>LogisticRegression(random_state=42)</pre><b>In a Jupyter environment, please rerun this cell to show the HTML representation or trust the notebook. <br />On GitHub, the HTML representation is unable to render, please try loading this page with nbviewer.org.</b></div><div class=\"sk-container\" hidden><div class=\"sk-item\"><div class=\"sk-estimator sk-toggleable\"><input class=\"sk-toggleable__control sk-hidden--visually\" id=\"sk-estimator-id-1\" type=\"checkbox\" checked><label for=\"sk-estimator-id-1\" class=\"sk-toggleable__label sk-toggleable__label-arrow\">LogisticRegression</label><div class=\"sk-toggleable__content\"><pre>LogisticRegression(random_state=42)</pre></div></div></div></div></div>"
            ]
          },
          "metadata": {},
          "execution_count": 9
        }
      ]
    },
    {
      "cell_type": "code",
      "source": [
        "from sklearn.metrics import accuracy_score, confusion_matrix, classification_report\n",
        "\n",
        "# 예측 수행\n",
        "y_pred = model.predict(X_test)\n",
        "\n",
        "# 정확도 계산\n",
        "accuracy = accuracy_score(y_test, y_pred)\n",
        "\n",
        "# 혼동 행렬 계산\n",
        "conf_matrix = confusion_matrix(y_test, y_pred)\n",
        "\n",
        "# 분류 보고서 생성\n",
        "class_report = classification_report(y_test, y_pred)\n",
        "\n",
        "# 결과 출력\n",
        "print(f\"Accuracy: {accuracy:.2f}\")\n",
        "print('Confusion Matrix:')\n",
        "print(conf_matrix)\n",
        "print('Classification Report:')\n",
        "print(class_report)"
      ],
      "metadata": {
        "colab": {
          "base_uri": "https://localhost:8080/"
        },
        "id": "_S0kk2bMGnSg",
        "outputId": "c70ff354-dd71-4923-986d-4d296ed925f8"
      },
      "execution_count": null,
      "outputs": [
        {
          "output_type": "stream",
          "name": "stdout",
          "text": [
            "Accuracy: 0.85\n",
            "Confusion Matrix:\n",
            "[[3943  264]\n",
            " [ 514  519]]\n",
            "Classification Report:\n",
            "              precision    recall  f1-score   support\n",
            "\n",
            "       False       0.88      0.94      0.91      4207\n",
            "        True       0.66      0.50      0.57      1033\n",
            "\n",
            "    accuracy                           0.85      5240\n",
            "   macro avg       0.77      0.72      0.74      5240\n",
            "weighted avg       0.84      0.85      0.84      5240\n",
            "\n"
          ]
        }
      ]
    }
  ]
}