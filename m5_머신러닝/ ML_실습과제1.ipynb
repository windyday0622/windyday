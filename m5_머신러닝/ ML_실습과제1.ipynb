{
  "nbformat": 4,
  "nbformat_minor": 0,
  "metadata": {
    "colab": {
      "provenance": [],
      "authorship_tag": "ABX9TyOhVG6ptkj5OpnMl6eRA9Wk",
      "include_colab_link": true
    },
    "kernelspec": {
      "name": "python3",
      "display_name": "Python 3"
    },
    "language_info": {
      "name": "python"
    }
  },
  "cells": [
    {
      "cell_type": "markdown",
      "metadata": {
        "id": "view-in-github",
        "colab_type": "text"
      },
      "source": [
        "<a href=\"https://colab.research.google.com/github/windyday0622/windyday/blob/main/m5_%EB%A8%B8%EC%8B%A0%EB%9F%AC%EB%8B%9D/%20ML_%EC%8B%A4%EC%8A%B5%EA%B3%BC%EC%A0%9C1.ipynb\" target=\"_parent\"><img src=\"https://colab.research.google.com/assets/colab-badge.svg\" alt=\"Open In Colab\"/></a>"
      ]
    },
    {
      "cell_type": "markdown",
      "source": [
        "# california_housing 데이터 셋으로 아래사항을 참조하여 주택가격을 예측하는 회귀모델을 개발하세요.(9개정도의 모델을 다 해야 함. 실습에서)\n",
        "- 전체 회귀모델을 적용하여 최적 모델 선정\n",
        "- 각 모델별 최적 하이퍼파라미터 선정 - GridSearchCV 활용(파이프라인도 사용해도 됨)\n",
        "- 평가지수 MSE 기준으로 가장 성능이 좋은 모델과 파라미터를 적용하여 평가 결과를 출력"
      ],
      "metadata": {
        "id": "BDNr4tm1XXii"
      }
    },
    {
      "cell_type": "code",
      "execution_count": null,
      "metadata": {
        "id": "zDAQjWsiXRp5",
        "colab": {
          "base_uri": "https://localhost:8080/"
        },
        "outputId": "3772f231-366a-426f-eba9-5a57b6824b82"
      },
      "outputs": [
        {
          "output_type": "stream",
          "name": "stdout",
          "text": [
            "Linear Regression MSE: 0.5558915986952444\n",
            "Decision Tree Regression MSE: 0.4565857103929165\n",
            "Random Forest Regression MSE: 0.3777064239717286\n",
            "Best Decision Tree Regressor: {'regressor__max_depth': 7}\n",
            "Best Random Forest Regressor: {'regressor__max_depth': 7, 'regressor__n_estimators': 100}\n"
          ]
        }
      ],
      "source": [
        "import pandas as pd\n",
        "from sklearn.datasets import fetch_california_housing\n",
        "from sklearn.model_selection import train_test_split\n",
        "from sklearn.pipeline import Pipeline\n",
        "from sklearn.linear_model import LinearRegression\n",
        "from sklearn.tree import DecisionTreeRegressor\n",
        "from sklearn.ensemble import RandomForestRegressor\n",
        "from sklearn.metrics import mean_squared_error\n",
        "from sklearn.model_selection import GridSearchCV\n",
        "\n",
        "# 캘리포니아 주택 데이터셋 로드\n",
        "california = fetch_california_housing(as_frame=True)\n",
        "X = california.data\n",
        "y = california.target\n",
        "\n",
        "# 데이터셋을 학습 및 테스트 셋으로 분리\n",
        "X_train, X_test, y_train, y_test = train_test_split(X, y, test_size=0.2, random_state=42)\n",
        "\n",
        "# 선형 회귀 모델 파이프라인\n",
        "linear_pipeline = Pipeline([\n",
        "    ('regressor', LinearRegression())\n",
        "])\n",
        "linear_pipeline.fit(X_train, y_train)\n",
        "linear_reg_pred = linear_pipeline.predict(X_test)\n",
        "linear_reg_mse = mean_squared_error(y_test, linear_reg_pred)\n",
        "\n",
        "# 결정 트리 회귀 모델 파이프라인\n",
        "dt_pipeline = Pipeline([\n",
        "    ('regressor', DecisionTreeRegressor(random_state=42))\n",
        "])\n",
        "dt_param_grid = {'regressor__max_depth': [3, 5, 7]}\n",
        "dt_grid_search = GridSearchCV(dt_pipeline, dt_param_grid, scoring='neg_mean_squared_error', cv=5)\n",
        "dt_grid_search.fit(X_train, y_train)\n",
        "dt_reg_best = dt_grid_search.best_estimator_\n",
        "dt_reg_pred = dt_reg_best.predict(X_test)\n",
        "dt_reg_mse = mean_squared_error(y_test, dt_reg_pred)\n",
        "\n",
        "# 랜덤 포레스트 회귀 모델 파이프라인\n",
        "rf_pipeline = Pipeline([\n",
        "    ('regressor', RandomForestRegressor(random_state=42))\n",
        "])\n",
        "rf_param_grid = {\n",
        "    'regressor__n_estimators': [100, 300, 500],\n",
        "    'regressor__max_depth': [3, 5, 7]\n",
        "}\n",
        "rf_grid_search = GridSearchCV(rf_pipeline, rf_param_grid, scoring='neg_mean_squared_error', cv=5)\n",
        "rf_grid_search.fit(X_train, y_train)\n",
        "rf_reg_best = rf_grid_search.best_estimator_\n",
        "rf_reg_pred = rf_reg_best.predict(X_test)\n",
        "rf_reg_mse = mean_squared_error(y_test, rf_reg_pred)\n",
        "\n",
        "# 각 모델의 MSE 출력\n",
        "print(\"Linear Regression MSE:\", linear_reg_mse)\n",
        "print(\"Decision Tree Regression MSE:\", dt_reg_mse)\n",
        "print(\"Random Forest Regression MSE:\", rf_reg_mse)\n",
        "\n",
        "# 최적 모델과 하이퍼파라미터 출력\n",
        "print(\"Best Decision Tree Regressor:\", dt_grid_search.best_params_)\n",
        "print(\"Best Random Forest Regressor:\", rf_grid_search.best_params_)\n"
      ]
    },
    {
      "cell_type": "code",
      "source": [
        "# 수정한 코드\n",
        "import numpy as np\n",
        "import pandas as pd\n",
        "from sklearn.datasets import fetch_california_housing\n",
        "from sklearn.model_selection import train_test_split, GridSearchCV\n",
        "from sklearn.pipeline import Pipeline\n",
        "from sklearn.preprocessing import StandardScaler\n",
        "from sklearn.linear_model import LinearRegression, Ridge, Lasso, ElasticNet\n",
        "from sklearn.tree import DecisionTreeRegressor\n",
        "from sklearn.ensemble import RandomForestRegressor, GradientBoostingRegressor\n",
        "from sklearn.svm import SVR\n",
        "from sklearn.neighbors import KNeighborsRegressor\n",
        "from sklearn.metrics import mean_squared_error\n",
        "\n",
        "# 데이터 로드\n",
        "california = fetch_california_housing(as_frame=True)\n",
        "X = california.data\n",
        "y = california.target\n",
        "\n",
        "# 데이터셋 분리\n",
        "X_train, X_test, y_train, y_test = train_test_split(X, y, test_size=0.2, random_state=42)\n",
        "\n",
        "# 모델 및 하이퍼파라미터 그리드 정의\n",
        "models = [\n",
        "    ('Linear Regression', LinearRegression(), {}),\n",
        "    ('Ridge Regression', Ridge(), {'regressor__alpha': [0.1, 1.0, 10.0]}),\n",
        "    ('Lasso Regression', Lasso(), {'regressor__alpha': [0.1, 1.0, 10.0]}),\n",
        "    ('ElasticNet Regression', ElasticNet(), {'regressor__alpha': [0.1, 1.0, 10.0]}),\n",
        "    ('Decision Tree Regression', DecisionTreeRegressor(random_state=42), {'regressor__max_depth': [3, 5, 7]}),\n",
        "    ('Random Forest Regression', RandomForestRegressor(random_state=42), {\n",
        "        'regressor__n_estimators': [100, 300, 500],\n",
        "        'regressor__max_depth': [3, 5, 7]\n",
        "    }),\n",
        "    ('Gradient Boosting Regression', GradientBoostingRegressor(random_state=42), {\n",
        "        'regressor__n_estimators': [100, 300, 500],\n",
        "        'regressor__max_depth': [3, 5, 7]\n",
        "    }),\n",
        "    ('Support Vector Regression', SVR(), {\n",
        "        'regressor__C': [0.1, 1.0, 10.0],\n",
        "        'regressor__epsilon': [0.01, 0.1, 1.0]\n",
        "    }),\n",
        "    ('K-Nearest Neighbors Regression', KNeighborsRegressor(), {\n",
        "        'regressor__n_neighbors': [3, 5, 7]\n",
        "    })\n",
        "]\n",
        "\n",
        "# 결과 저장용 리스트\n",
        "results = []\n",
        "\n",
        "# 모델별 그리드 서치 수행\n",
        "for name, model, param_grid in models:\n",
        "    pipeline = Pipeline([\n",
        "        ('scaler', StandardScaler()),\n",
        "        ('regressor', model)\n",
        "    ])\n",
        "    grid_search = GridSearchCV(pipeline, param_grid=param_grid, cv=5, scoring='neg_mean_squared_error', n_jobs=-1)\n",
        "    grid_search.fit(X_train, y_train)\n",
        "\n",
        "    # 최적 모델 평가\n",
        "    best_model = grid_search.best_estimator_\n",
        "    y_pred = best_model.predict(X_test)\n",
        "    mse = mean_squared_error(y_test, y_pred)\n",
        "\n",
        "    results.append({\n",
        "        'model': name,\n",
        "        'best_params': grid_search.best_params_,\n",
        "        'mse': mse\n",
        "    })\n",
        "\n",
        "# 결과 출력\n",
        "results_df = pd.DataFrame(results)\n",
        "results_df = results_df.sort_values(by='mse')\n",
        "print(results_df)\n",
        "\n",
        "# 최적 모델 평가 결과 출력\n",
        "best_model_name = results_df.iloc[0]['model']\n",
        "best_params = results_df.iloc[0]['best_params']\n",
        "best_mse = results_df.iloc[0]['mse']\n",
        "\n",
        "print(f\"Best Model: {best_model_name}\")\n",
        "print(f\"Best Parameters: {best_params}\")\n",
        "print(f\"Test MSE: {best_mse:.4f}\")"
      ],
      "metadata": {
        "colab": {
          "base_uri": "https://localhost:8080/"
        },
        "id": "JOOsdZMfQEwX",
        "outputId": "50471eff-cc58-45fe-f696-0e181d8fe972"
      },
      "execution_count": null,
      "outputs": [
        {
          "output_type": "stream",
          "name": "stdout",
          "text": [
            "                            model  \\\n",
            "6    Gradient Boosting Regression   \n",
            "7       Support Vector Regression   \n",
            "5        Random Forest Regression   \n",
            "8  K-Nearest Neighbors Regression   \n",
            "4        Decision Tree Regression   \n",
            "1                Ridge Regression   \n",
            "0               Linear Regression   \n",
            "3           ElasticNet Regression   \n",
            "2                Lasso Regression   \n",
            "\n",
            "                                         best_params       mse  \n",
            "6  {'regressor__max_depth': 5, 'regressor__n_esti...  0.209262  \n",
            "7  {'regressor__C': 10.0, 'regressor__epsilon': 0.1}  0.323697  \n",
            "5  {'regressor__max_depth': 7, 'regressor__n_esti...  0.377614  \n",
            "8                      {'regressor__n_neighbors': 7}  0.428334  \n",
            "4                        {'regressor__max_depth': 7}  0.456586  \n",
            "1                          {'regressor__alpha': 0.1}  0.555888  \n",
            "0                                                 {}  0.555892  \n",
            "3                          {'regressor__alpha': 0.1}  0.635857  \n",
            "2                          {'regressor__alpha': 0.1}  0.679629  \n",
            "Best Model: Gradient Boosting Regression\n",
            "Best Parameters: {'regressor__max_depth': 5, 'regressor__n_estimators': 500}\n",
            "Test MSE: 0.2093\n"
          ]
        }
      ]
    },
    {
      "cell_type": "markdown",
      "source": [
        "실습과제 예시"
      ],
      "metadata": {
        "id": "bMlw8ym5L-e3"
      }
    },
    {
      "cell_type": "code",
      "source": [
        "import numpy as np\n",
        "import pandas as pd\n",
        "from sklearn.datasets import load_breast_cancer\n",
        "from sklearn.model_selection import train_test_split, GridSearchCV\n",
        "from sklearn.preprocessing import StandardScaler\n",
        "from sklearn.decomposition import TruncatedSVD\n",
        "from sklearn.linear_model import LogisticRegression\n",
        "from sklearn.pipeline import Pipeline\n",
        "from sklearn.metrics import classification_report, accuracy_score, roc_auc_score\n",
        "\n",
        "# 데이터 로드\n",
        "data = load_breast_cancer()\n",
        "X = data.data\n",
        "y = data.target\n",
        "\n",
        "# 데이터 분할\n",
        "X_train, X_test, y_train, y_test = train_test_split(X, y, test_size=0.2, random_state=42)\n",
        "\n",
        "# 파이프라인 구성\n",
        "pipeline = Pipeline([\n",
        "    ('scaler', StandardScaler()),\n",
        "    ('svd', TruncatedSVD(n_components=2)),\n",
        "    ('clf', LogisticRegression(max_iter=1000))\n",
        "])\n",
        "\n",
        "# 하이퍼 파라미터 그리드 설정\n",
        "param_grid = {\n",
        "    'svd__n_components': [2, 5, 10],\n",
        "    'logreg__C': [0.1, 1.0, 10.0]\n",
        "}\n",
        "\n",
        "# GridSearchCV를 사용한 하이퍼 파라미터 튜닝\n",
        "grid_search = GridSearchCV(pipeline, param_grid=param_grid, cv=5, scoring='accuracy')\n",
        "grid_search.fit(X_train, y_train)\n",
        "\n",
        "# 최적의 하이퍼파라미터 출력\n",
        "print('Best parameters found:', grid_search.best_params_)\n",
        "\n",
        "# 평가 사용자 함수 정의\n",
        "def evaluate_model(model, X_test, y_test):\n",
        "    # 예측 수행\n",
        "    y_pred = model.predict(X_test)\n",
        "    # 정확도 계산\n",
        "    accuracy = accuracy_score(y_test, y_pred)\n",
        "    # 분류 보고서 생성\n",
        "    report = classification_report(y_test, y_pred)\n",
        "    # ROC AUC 계산\n",
        "    y_pred_proba = model.predict_proba(X_test)[:, 1]\n",
        "    roc_auc = roc_auc_score(y_test, y_pred_proba)\n",
        "\n",
        "    # 결과 출력\n",
        "    print(f\"Test Accuracy: {accuracy:.4f}\")\n",
        "    print(\"\\nClassification Report:\")\n",
        "    print(report)\n",
        "    print(f\"Test ROC AUC: {roc_auc:.4f}\")\n",
        "\n",
        "# 최적의 모델을 사용하여 테스트 데이터 평가\n",
        "evaluate_model(grid_search, X_test, y_test)"
      ],
      "metadata": {
        "id": "lWSKBDfOMAOG"
      },
      "execution_count": null,
      "outputs": []
    },
    {
      "cell_type": "code",
      "source": [],
      "metadata": {
        "id": "KnsibrkFX4LC"
      },
      "execution_count": null,
      "outputs": []
    },
    {
      "cell_type": "code",
      "source": [],
      "metadata": {
        "id": "VrbJbf2SX4IO"
      },
      "execution_count": null,
      "outputs": []
    },
    {
      "cell_type": "code",
      "source": [],
      "metadata": {
        "id": "GPHwhtGeX4Fo"
      },
      "execution_count": null,
      "outputs": []
    },
    {
      "cell_type": "code",
      "source": [],
      "metadata": {
        "id": "-rrLJ-_xX4Cu"
      },
      "execution_count": null,
      "outputs": []
    },
    {
      "cell_type": "code",
      "source": [],
      "metadata": {
        "id": "3SBF0PkpX4AI"
      },
      "execution_count": null,
      "outputs": []
    }
  ]
}