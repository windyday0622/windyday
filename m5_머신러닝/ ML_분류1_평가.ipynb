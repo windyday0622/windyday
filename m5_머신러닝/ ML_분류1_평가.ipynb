{
  "nbformat": 4,
  "nbformat_minor": 0,
  "metadata": {
    "colab": {
      "provenance": [],
      "mount_file_id": "1rvylQullllVEGjN3ZIwJOL-Gm26MVWgz",
      "authorship_tag": "ABX9TyNbWc2MLYgp02BQiQBeLOaW",
      "include_colab_link": true
    },
    "kernelspec": {
      "name": "python3",
      "display_name": "Python 3"
    },
    "language_info": {
      "name": "python"
    }
  },
  "cells": [
    {
      "cell_type": "markdown",
      "metadata": {
        "id": "view-in-github",
        "colab_type": "text"
      },
      "source": [
        "<a href=\"https://colab.research.google.com/github/windyday0622/windyday/blob/main/m5_%EB%A8%B8%EC%8B%A0%EB%9F%AC%EB%8B%9D/%20ML_%EB%B6%84%EB%A5%981_%ED%8F%89%EA%B0%80.ipynb\" target=\"_parent\"><img src=\"https://colab.research.google.com/assets/colab-badge.svg\" alt=\"Open In Colab\"/></a>"
      ]
    },
    {
      "cell_type": "markdown",
      "source": [
        "## 분류 평가\n",
        "\n",
        "분류 모델 평가 지표\n",
        "\n",
        "정확도(Accuracy), 정밀도(Precision), 재현율(Recall), F1 Score, ROC AUC. 이러한 지표들은 모델의 성능을 다양한 관점에서 평가하는 데 중요.\n",
        "\n",
        "정확도 (Accuracy):\n",
        "- 정확도는 가장 직관적인 분류 성능 평가 지표. 모델이 전체 데이터 중 얼마나 정확하게 예측했는지를 나타낸다.\n",
        "- 계산 방법: (정확히 예측된 데이터의 수) / (전체 데이터의 수)\n",
        "\n",
        "정밀도 (Precision):\n",
        "- 정밀도는 양성(Positive)으로 예측된 데이터 중 실제로 양성인 데이터의 비율. 즉, 모델이 '양성'이라고 예측한 것들 중 실제 '양성'인 경우의 비율.\n",
        "- 계산 방법: TP / (TP + FP)\n",
        "여기서 TP(True Positive)는 실제 양성을 양성으로 올바르게 예측한 경우, FP(False Positive)는 실제 음성을 잘못해서 양성으로 예측한 경우.\n",
        "\n",
        "재현율 (Recall) 또는 감도 (Sensitivity):\n",
        "- 재현율은 실제 양성인 데이터 중 모델이 양성으로 올바르게 예측한 데이터의 비율. 즉, 실제 '양성'인 경우들 중 모델이 얼마나 잘 잡아내는지를 나타낸다.\n",
        "- 계산 방법: TP / (TP + FN)\n",
        "여기서 FN(False Negative)는 실제 양성을 잘못해서 음성으로 예측한 경우.\n",
        "\n",
        "F1 Score:\n",
        "- F1 Score는 정밀도와 재현율의 조화 평균(harmonic mean). 모델이 양성 데이터를 얼마나 잘 예측하는지에 대한 전반적인 측정치로, 특히 불균형 데이터셋에서 유용.\n",
        "- 계산 방법: 2 * (Precision * Recall) / (Precision + Recall)\n",
        "\n",
        "ROC AUC (Receiver Operating Characteristic - Area Under Curve):\n",
        "- ROC 곡선은 모델이 양성 클래스를 어떻게 잘 예측하는지에 대한 성능을 그래프로 나타낸 것. 이 곡선은 재현율과 1-특이성(실제 음성 중 잘못 양성으로 예측한 비율)의 관계를 나타낸다.\n",
        "- AUC(Area Under the ROC Curve) 값은 ROC 곡선 아래의 면적을 의미하며, 이 값이 클수록 모델의 성능이 좋다고 평가. AUC는 0과 1 사이의 값을 가지며, 1에 가까울수록 더 좋은 모델."
      ],
      "metadata": {
        "id": "vcElMWyvHu15"
      }
    },
    {
      "cell_type": "markdown",
      "source": [
        "* TP, FP, FN, TN는 예측 클래스와 실제 클래스의 Positive 결정 값과 Negative 결정 값의 결합에 따라 결정\n",
        "* 앞문자 True/False는 예측값과 실제값이 같은가/틀린가를 의미하고 뒤 문자 Negative/Positive는 예측 결과 값이 부정/긍정을 의미\n",
        "* TN는 예측값을 Negative 값 0으로 예측했고 실제값 역시 Negative 값 0\n",
        "* FP는 예측값을 Positive 값 1로 예측했고 실제값은 Negative 값 0\n",
        "* FN은 예측값을 Negative 값 0으로 예측했고 실제값은 Positive 값 1\n",
        "* TP는 예측값을 Positive 값 1로 예측했고 실제값 역시 Positive 값 1\n",
        "* 정확도 = (TP + TN) / ( TP + TN + FP + FN)\n",
        "* 정밀도 = TP / ( TP + FP)\n",
        "* 재현율 = TP / ( TP + FN) : 정밀도와 재현율이 어느 한쪽으로 치우치지 않는 수치를 나타낼때 높아짐.\n",
        "* F1 = 2 * ( 정밀도 * 재현율) / (정밀도 + 재현율)\n",
        "* 정밀도와 재현율은 Positive 데이터 세트의 예측 성능에 좀 더 초점을 맞춘 평가 지표\n",
        "* 재현율이 중요 지표인 경우는 실제 Positive 양성 데이터를 Negative로 잘못 판단하게 되면 업무상 큰 영향이 발생하는 경우(ex. 보험사기, 암진단)\n",
        "* 정밀도가 더 중요한 지표인 사례는 스팸 메일 여부를 판단하는 경우로 스팸 메일이 아닌데 스팸 메일로 분류해서 업무 차질 발생\n"
      ],
      "metadata": {
        "id": "BB3COD8YH1Q3"
      }
    },
    {
      "cell_type": "markdown",
      "source": [
        "#### 정밀도/제현율 트레이드오프\n",
        "* 정밀도 또는 재현율이 특별히 강조돼야 할 경우 분류의 결정 임곗값(Threshold)을 조정해 정밀도 또는 재현율의 수치를 높일 수 있음\n",
        "* 정밀도와 재현율은 한쪽을 높이면 다른 하나의 수치는 낮아지므로 트레이드오프(Trade-off) 관계임\n",
        "\n",
        "#### 예측 확률을 반환하는 predict_proba()\n",
        "* 사이킷런 분류 알고리즘은 예측 데이터가 특정 레이블(결정 클래스 값)에 속하는지를 계산하기 위해 먼저 개별 레이블별로 결정 확률을 구함\n",
        "* 그리고 예측 확률이 큰 레이블 값으로 예측\n",
        "* 이진 분류 모델에서 특정 데이터가 0이 될 확률이 10%, 1이 될 확률이 90%로 예측되었다면 최종 예측은 더 큰 확률을 가진 1로 예측\n",
        "* 이진 분류에서는 이 임곗값을 0.5로 정하고 이 기준 값보다 확률이 크면 Positive, 작으면 Negative로 결정함\n",
        "* 사이킷런은 개별 데이터별로 예측 확률을 반환하는 메서드인 predict_prob()를 제공 - 학습이 완료된 사이킷런 Classifier 객체에서 호출\n",
        "* predict() 메서드와 유사하지만 단지 반환 결과가 예측 결과 클래스값이 아닌 예측 확률 결과임"
      ],
      "metadata": {
        "id": "nA9BUdk-H5AW"
      }
    },
    {
      "cell_type": "code",
      "source": [
        "# 일괄 전처리 사용자 함수(null 처리, 불필요 칼럼 삭제, 레이블 인코딩)\n",
        "import pandas as pd\n",
        "from sklearn.preprocessing import LabelEncoder\n",
        "\n",
        "# Null 처리 함수\n",
        "# Age(평균), Cabin('N'), Embarked('N'), Fare(0)\n",
        "def fillna(df):\n",
        "    df['Age'].fillna(df['Age'].mean(),inplace=True)\n",
        "    df['Cabin'].fillna('N',inplace=True)\n",
        "    df['Embarked'].fillna('N',inplace=True)\n",
        "    df['Fare'].fillna(0,inplace=True)\n",
        "    return df\n",
        "\n",
        "# 머신러닝 알고리즘에 불필요한 속성 제거\n",
        "# PassengerId, Name, Ticket(티켓번호)\n",
        "def drop_features(df):\n",
        "    df.drop(['PassengerId','Name','Ticket'],axis=1,inplace=True)\n",
        "    return df\n",
        "\n",
        "# 레이블 인코딩 수행.\n",
        "# Cabin(선실번호 첫문자만 추출 후 인코딩), Sex(성별), Embarked(중간 정착 항구)\n",
        "def format_features(df):\n",
        "    df['Cabin'] = df['Cabin'].str[:1]\n",
        "    features = ['Cabin','Sex','Embarked']\n",
        "    for feature in features:\n",
        "        le = LabelEncoder()\n",
        "        le = le.fit(df[feature])\n",
        "        df[feature] = le.transform(df[feature])\n",
        "    return df\n",
        "\n",
        "# 앞에서 설정한 Data Preprocessing 함수 호출\n",
        "def transform_features(df):\n",
        "    df = fillna(df)\n",
        "    df = drop_features(df)\n",
        "    df = format_features(df)\n",
        "    return df"
      ],
      "metadata": {
        "id": "7DvshG-4H03v"
      },
      "execution_count": 3,
      "outputs": []
    },
    {
      "cell_type": "code",
      "execution_count": 4,
      "metadata": {
        "colab": {
          "base_uri": "https://localhost:8080/"
        },
        "id": "kAF-lScTHQ3o",
        "outputId": "7edb1a44-51a2-4c85-9f2e-33cc789c870b"
      },
      "outputs": [
        {
          "output_type": "stream",
          "name": "stdout",
          "text": [
            "Drive already mounted at /content/drive; to attempt to forcibly remount, call drive.mount(\"/content/drive\", force_remount=True).\n"
          ]
        }
      ],
      "source": [
        "from google.colab import drive\n",
        "drive.mount('/content/drive')"
      ]
    },
    {
      "cell_type": "code",
      "source": [
        "from sklearn.model_selection import train_test_split\n",
        "from sklearn.linear_model import LogisticRegression\n",
        "from sklearn.metrics import accuracy_score\n",
        "\n",
        "titanic_df = pd.read_csv('/content/drive/MyDrive/kdt_240424/m5_머신러닝/dataset/train.csv')\n",
        "y_titanic_df = titanic_df['Survived']\n",
        "X_titanic_df = titanic_df.drop('Survived', axis=1)\n",
        "X_titanic_df = transform_features(X_titanic_df)\n",
        "\n",
        "X_train, X_test, y_train, y_test = train_test_split(X_titanic_df, y_titanic_df, test_size=0.20, random_state=11)\n",
        "\n",
        "lr_clf = LogisticRegression(max_iter=500, solver='lbfgs', random_state=42)\n",
        "lr_clf.fit(X_train, y_train)\n",
        "pred = lr_clf.predict(X_test)\n",
        "\n",
        "accuracy_lr = accuracy_score(y_test,pred)\n",
        "print(round(accuracy_lr,4))"
      ],
      "metadata": {
        "colab": {
          "base_uri": "https://localhost:8080/"
        },
        "id": "oUVAbAZlOzdO",
        "outputId": "8fdf8b68-1a2e-4b73-f324-4a1ff4bee2fd"
      },
      "execution_count": 5,
      "outputs": [
        {
          "output_type": "stream",
          "name": "stdout",
          "text": [
            "0.8492\n"
          ]
        }
      ]
    },
    {
      "cell_type": "code",
      "source": [
        "pred_proba = lr_clf.predict_proba(X_test)\n",
        "pred_proba[:3]"
      ],
      "metadata": {
        "colab": {
          "base_uri": "https://localhost:8080/"
        },
        "id": "dKq8hW3KOzal",
        "outputId": "471aa857-b149-4a17-f119-7473ce74173a"
      },
      "execution_count": 6,
      "outputs": [
        {
          "output_type": "execute_result",
          "data": {
            "text/plain": [
              "array([[0.4621693 , 0.5378307 ],\n",
              "       [0.87879062, 0.12120938],\n",
              "       [0.87724729, 0.12275271]])"
            ]
          },
          "metadata": {},
          "execution_count": 6
        }
      ]
    },
    {
      "cell_type": "code",
      "source": [
        "pred = lr_clf.predict(X_test)\n",
        "print(pred[:3])\n",
        "pred.reshape(-1,1)[:3]"
      ],
      "metadata": {
        "colab": {
          "base_uri": "https://localhost:8080/"
        },
        "id": "cETxCxTSOzYG",
        "outputId": "ff8939b9-6161-4a1e-becb-30a4feaa0580"
      },
      "execution_count": 7,
      "outputs": [
        {
          "output_type": "stream",
          "name": "stdout",
          "text": [
            "[1 0 0]\n"
          ]
        },
        {
          "output_type": "execute_result",
          "data": {
            "text/plain": [
              "array([[1],\n",
              "       [0],\n",
              "       [0]])"
            ]
          },
          "metadata": {},
          "execution_count": 7
        }
      ]
    },
    {
      "cell_type": "code",
      "source": [
        "import numpy as np\n",
        "pred_proba_result = np.concatenate([pred_proba, pred.reshape(-1,1)], axis=1)\n",
        "print('두 개의 class 중에서 더 큰 확율을 클래스 값으로 예측 \\n', pred_proba_result[:3])\n",
        "type(pred_proba_result)"
      ],
      "metadata": {
        "colab": {
          "base_uri": "https://localhost:8080/"
        },
        "id": "pk0697-yOzVm",
        "outputId": "ef6d1be1-a81e-498f-d4a8-bddf100e5cf2"
      },
      "execution_count": 8,
      "outputs": [
        {
          "output_type": "stream",
          "name": "stdout",
          "text": [
            "두 개의 class 중에서 더 큰 확율을 클래스 값으로 예측 \n",
            " [[0.4621693  0.5378307  1.        ]\n",
            " [0.87879062 0.12120938 0.        ]\n",
            " [0.87724729 0.12275271 0.        ]]\n"
          ]
        },
        {
          "output_type": "execute_result",
          "data": {
            "text/plain": [
              "numpy.ndarray"
            ]
          },
          "metadata": {},
          "execution_count": 8
        }
      ]
    },
    {
      "cell_type": "code",
      "source": [
        "# 사이킷런은 분류 결정 임계값을 조절해 정밀도와 재현율의 성능 수치를 상호 보완적으로 조정\n",
        "# threshold 변수를 특정 값으로 설정하고 사이킷런의 Binarizer 클래스를 객체로 생성\n",
        "# fit_transform()메서드를 이용해 넘파이 ndarray를 입력하면 입력된 ndarray의 값이\n",
        "# threshold보다 같거나 작으면 0, 크면 1값 반환\n",
        "\n",
        "from sklearn.preprocessing import Binarizer\n",
        "\n",
        "X = [[1, -1, 2],\n",
        "     [2, 0, 0],\n",
        "     [0, 1.1, 1.2]]\n",
        "\n",
        "# threshold 기준값보다 같거나 작으면 0을, 크면 1을 반환\n",
        "binarizer = Binarizer(threshold=1.1)\n",
        "print(binarizer.fit_transform(X))"
      ],
      "metadata": {
        "colab": {
          "base_uri": "https://localhost:8080/"
        },
        "id": "A2Vx0wRvOzS-",
        "outputId": "45955e64-ead6-4320-be85-9f00154a82ad"
      },
      "execution_count": 9,
      "outputs": [
        {
          "output_type": "stream",
          "name": "stdout",
          "text": [
            "[[0. 0. 1.]\n",
            " [1. 0. 0.]\n",
            " [0. 0. 1.]]\n"
          ]
        }
      ]
    },
    {
      "cell_type": "code",
      "source": [
        "# 생존 확률을 선택해서 임곗값 0.5를 기준으로 비료하여 옟,ㄱ\n",
        "from sklearn.preprocessing import Binarizer\n",
        "custom_threshold = 0.5\n",
        "print('pred_proba: \\n', pred_proba[0:5])\n",
        "print()\n",
        "# 생존 확룰 추출 후 2차원 배열로 변환\n",
        "pred_proba_1 = pred_proba[:1].reshape(-1,1)\n",
        "# pred_proba_1 = pred_proba[:,1]\n",
        "print('생존확률: \\n', pred_proba_1[0:5])\n",
        "print()\n",
        "binarizer = Binarizer(threshold=custom_threshold)\n",
        "custom_predict = binarizer.fit_transform(pred_proba_1)\n",
        "custom_predict[0:5]"
      ],
      "metadata": {
        "colab": {
          "base_uri": "https://localhost:8080/"
        },
        "id": "_BFfieQpVOn5",
        "outputId": "3c77a253-f966-45ed-c602-acdf282f8868"
      },
      "execution_count": 10,
      "outputs": [
        {
          "output_type": "stream",
          "name": "stdout",
          "text": [
            "pred_proba: \n",
            " [[0.4621693  0.5378307 ]\n",
            " [0.87879062 0.12120938]\n",
            " [0.87724729 0.12275271]\n",
            " [0.88248085 0.11751915]\n",
            " [0.85524966 0.14475034]]\n",
            "\n",
            "생존확률: \n",
            " [[0.4621693]\n",
            " [0.5378307]]\n",
            "\n"
          ]
        },
        {
          "output_type": "execute_result",
          "data": {
            "text/plain": [
              "array([[0.],\n",
              "       [1.]])"
            ]
          },
          "metadata": {},
          "execution_count": 10
        }
      ]
    },
    {
      "cell_type": "code",
      "source": [
        "# get_clf_eval 평가 사용자 정의 함수(강사가 알려준 코드인데 오류가 나서 아래의 코드로 수정함)\n",
        "\n",
        "from sklearn.metrics import accuracy_score, precision_score, recall_score, f1_score, confusion_matrix\n",
        "\n",
        "def get_clf_eval(y_test, pred):\n",
        "    confusion = confusion_matrix(y_test, pred)\n",
        "    accuracy = accuracy_score(y_test, pred)\n",
        "    precision = precision_score(y_test, pred)\n",
        "    recall = recall_score(y_test, pred)\n",
        "    f1 = f1_score(y_test, pred)\n",
        "    print('오차 행렬')\n",
        "    print(confusion)\n",
        "    print('정확도: {0:.4f}, 정밀도: {1:.4f}, 재현율: {2:.4f}, F1: {3:.4f}'.format(accuracy, precision, recall, f1))\n",
        "\n",
        "# get_clf_eval 호출\n",
        "get_clf_eval(y_test, custom_predict)"
      ],
      "metadata": {
        "colab": {
          "base_uri": "https://localhost:8080/",
          "height": 341
        },
        "id": "v6LRiyi7VOk5",
        "outputId": "27cba709-ff71-4827-ff4d-d0dc98843fd3"
      },
      "execution_count": 11,
      "outputs": [
        {
          "output_type": "error",
          "ename": "ValueError",
          "evalue": "Found input variables with inconsistent numbers of samples: [179, 2]",
          "traceback": [
            "\u001b[0;31m---------------------------------------------------------------------------\u001b[0m",
            "\u001b[0;31mValueError\u001b[0m                                Traceback (most recent call last)",
            "\u001b[0;32m<ipython-input-11-721ce3f1c69b>\u001b[0m in \u001b[0;36m<cell line: 16>\u001b[0;34m()\u001b[0m\n\u001b[1;32m     14\u001b[0m \u001b[0;34m\u001b[0m\u001b[0m\n\u001b[1;32m     15\u001b[0m \u001b[0;31m# get_clf_eval 호출\u001b[0m\u001b[0;34m\u001b[0m\u001b[0;34m\u001b[0m\u001b[0m\n\u001b[0;32m---> 16\u001b[0;31m \u001b[0mget_clf_eval\u001b[0m\u001b[0;34m(\u001b[0m\u001b[0my_test\u001b[0m\u001b[0;34m,\u001b[0m \u001b[0mcustom_predict\u001b[0m\u001b[0;34m)\u001b[0m\u001b[0;34m\u001b[0m\u001b[0;34m\u001b[0m\u001b[0m\n\u001b[0m",
            "\u001b[0;32m<ipython-input-11-721ce3f1c69b>\u001b[0m in \u001b[0;36mget_clf_eval\u001b[0;34m(y_test, pred)\u001b[0m\n\u001b[1;32m      4\u001b[0m \u001b[0;34m\u001b[0m\u001b[0m\n\u001b[1;32m      5\u001b[0m \u001b[0;32mdef\u001b[0m \u001b[0mget_clf_eval\u001b[0m\u001b[0;34m(\u001b[0m\u001b[0my_test\u001b[0m\u001b[0;34m,\u001b[0m \u001b[0mpred\u001b[0m\u001b[0;34m)\u001b[0m\u001b[0;34m:\u001b[0m\u001b[0;34m\u001b[0m\u001b[0;34m\u001b[0m\u001b[0m\n\u001b[0;32m----> 6\u001b[0;31m     \u001b[0mconfusion\u001b[0m \u001b[0;34m=\u001b[0m \u001b[0mconfusion_matrix\u001b[0m\u001b[0;34m(\u001b[0m\u001b[0my_test\u001b[0m\u001b[0;34m,\u001b[0m \u001b[0mpred\u001b[0m\u001b[0;34m)\u001b[0m\u001b[0;34m\u001b[0m\u001b[0;34m\u001b[0m\u001b[0m\n\u001b[0m\u001b[1;32m      7\u001b[0m     \u001b[0maccuracy\u001b[0m \u001b[0;34m=\u001b[0m \u001b[0maccuracy_score\u001b[0m\u001b[0;34m(\u001b[0m\u001b[0my_test\u001b[0m\u001b[0;34m,\u001b[0m \u001b[0mpred\u001b[0m\u001b[0;34m)\u001b[0m\u001b[0;34m\u001b[0m\u001b[0;34m\u001b[0m\u001b[0m\n\u001b[1;32m      8\u001b[0m     \u001b[0mprecision\u001b[0m \u001b[0;34m=\u001b[0m \u001b[0mprecision_score\u001b[0m\u001b[0;34m(\u001b[0m\u001b[0my_test\u001b[0m\u001b[0;34m,\u001b[0m \u001b[0mpred\u001b[0m\u001b[0;34m)\u001b[0m\u001b[0;34m\u001b[0m\u001b[0;34m\u001b[0m\u001b[0m\n",
            "\u001b[0;32m/usr/local/lib/python3.10/dist-packages/sklearn/metrics/_classification.py\u001b[0m in \u001b[0;36mconfusion_matrix\u001b[0;34m(y_true, y_pred, labels, sample_weight, normalize)\u001b[0m\n\u001b[1;32m    315\u001b[0m     \u001b[0;34m(\u001b[0m\u001b[0;36m0\u001b[0m\u001b[0;34m,\u001b[0m \u001b[0;36m2\u001b[0m\u001b[0;34m,\u001b[0m \u001b[0;36m1\u001b[0m\u001b[0;34m,\u001b[0m \u001b[0;36m1\u001b[0m\u001b[0;34m)\u001b[0m\u001b[0;34m\u001b[0m\u001b[0;34m\u001b[0m\u001b[0m\n\u001b[1;32m    316\u001b[0m     \"\"\"\n\u001b[0;32m--> 317\u001b[0;31m     \u001b[0my_type\u001b[0m\u001b[0;34m,\u001b[0m \u001b[0my_true\u001b[0m\u001b[0;34m,\u001b[0m \u001b[0my_pred\u001b[0m \u001b[0;34m=\u001b[0m \u001b[0m_check_targets\u001b[0m\u001b[0;34m(\u001b[0m\u001b[0my_true\u001b[0m\u001b[0;34m,\u001b[0m \u001b[0my_pred\u001b[0m\u001b[0;34m)\u001b[0m\u001b[0;34m\u001b[0m\u001b[0;34m\u001b[0m\u001b[0m\n\u001b[0m\u001b[1;32m    318\u001b[0m     \u001b[0;32mif\u001b[0m \u001b[0my_type\u001b[0m \u001b[0;32mnot\u001b[0m \u001b[0;32min\u001b[0m \u001b[0;34m(\u001b[0m\u001b[0;34m\"binary\"\u001b[0m\u001b[0;34m,\u001b[0m \u001b[0;34m\"multiclass\"\u001b[0m\u001b[0;34m)\u001b[0m\u001b[0;34m:\u001b[0m\u001b[0;34m\u001b[0m\u001b[0;34m\u001b[0m\u001b[0m\n\u001b[1;32m    319\u001b[0m         \u001b[0;32mraise\u001b[0m \u001b[0mValueError\u001b[0m\u001b[0;34m(\u001b[0m\u001b[0;34m\"%s is not supported\"\u001b[0m \u001b[0;34m%\u001b[0m \u001b[0my_type\u001b[0m\u001b[0;34m)\u001b[0m\u001b[0;34m\u001b[0m\u001b[0;34m\u001b[0m\u001b[0m\n",
            "\u001b[0;32m/usr/local/lib/python3.10/dist-packages/sklearn/metrics/_classification.py\u001b[0m in \u001b[0;36m_check_targets\u001b[0;34m(y_true, y_pred)\u001b[0m\n\u001b[1;32m     84\u001b[0m     \u001b[0my_pred\u001b[0m \u001b[0;34m:\u001b[0m \u001b[0marray\u001b[0m \u001b[0;32mor\u001b[0m \u001b[0mindicator\u001b[0m \u001b[0mmatrix\u001b[0m\u001b[0;34m\u001b[0m\u001b[0;34m\u001b[0m\u001b[0m\n\u001b[1;32m     85\u001b[0m     \"\"\"\n\u001b[0;32m---> 86\u001b[0;31m     \u001b[0mcheck_consistent_length\u001b[0m\u001b[0;34m(\u001b[0m\u001b[0my_true\u001b[0m\u001b[0;34m,\u001b[0m \u001b[0my_pred\u001b[0m\u001b[0;34m)\u001b[0m\u001b[0;34m\u001b[0m\u001b[0;34m\u001b[0m\u001b[0m\n\u001b[0m\u001b[1;32m     87\u001b[0m     \u001b[0mtype_true\u001b[0m \u001b[0;34m=\u001b[0m \u001b[0mtype_of_target\u001b[0m\u001b[0;34m(\u001b[0m\u001b[0my_true\u001b[0m\u001b[0;34m,\u001b[0m \u001b[0minput_name\u001b[0m\u001b[0;34m=\u001b[0m\u001b[0;34m\"y_true\"\u001b[0m\u001b[0;34m)\u001b[0m\u001b[0;34m\u001b[0m\u001b[0;34m\u001b[0m\u001b[0m\n\u001b[1;32m     88\u001b[0m     \u001b[0mtype_pred\u001b[0m \u001b[0;34m=\u001b[0m \u001b[0mtype_of_target\u001b[0m\u001b[0;34m(\u001b[0m\u001b[0my_pred\u001b[0m\u001b[0;34m,\u001b[0m \u001b[0minput_name\u001b[0m\u001b[0;34m=\u001b[0m\u001b[0;34m\"y_pred\"\u001b[0m\u001b[0;34m)\u001b[0m\u001b[0;34m\u001b[0m\u001b[0;34m\u001b[0m\u001b[0m\n",
            "\u001b[0;32m/usr/local/lib/python3.10/dist-packages/sklearn/utils/validation.py\u001b[0m in \u001b[0;36mcheck_consistent_length\u001b[0;34m(*arrays)\u001b[0m\n\u001b[1;32m    395\u001b[0m     \u001b[0muniques\u001b[0m \u001b[0;34m=\u001b[0m \u001b[0mnp\u001b[0m\u001b[0;34m.\u001b[0m\u001b[0munique\u001b[0m\u001b[0;34m(\u001b[0m\u001b[0mlengths\u001b[0m\u001b[0;34m)\u001b[0m\u001b[0;34m\u001b[0m\u001b[0;34m\u001b[0m\u001b[0m\n\u001b[1;32m    396\u001b[0m     \u001b[0;32mif\u001b[0m \u001b[0mlen\u001b[0m\u001b[0;34m(\u001b[0m\u001b[0muniques\u001b[0m\u001b[0;34m)\u001b[0m \u001b[0;34m>\u001b[0m \u001b[0;36m1\u001b[0m\u001b[0;34m:\u001b[0m\u001b[0;34m\u001b[0m\u001b[0;34m\u001b[0m\u001b[0m\n\u001b[0;32m--> 397\u001b[0;31m         raise ValueError(\n\u001b[0m\u001b[1;32m    398\u001b[0m             \u001b[0;34m\"Found input variables with inconsistent numbers of samples: %r\"\u001b[0m\u001b[0;34m\u001b[0m\u001b[0;34m\u001b[0m\u001b[0m\n\u001b[1;32m    399\u001b[0m             \u001b[0;34m%\u001b[0m \u001b[0;34m[\u001b[0m\u001b[0mint\u001b[0m\u001b[0;34m(\u001b[0m\u001b[0ml\u001b[0m\u001b[0;34m)\u001b[0m \u001b[0;32mfor\u001b[0m \u001b[0ml\u001b[0m \u001b[0;32min\u001b[0m \u001b[0mlengths\u001b[0m\u001b[0;34m]\u001b[0m\u001b[0;34m\u001b[0m\u001b[0;34m\u001b[0m\u001b[0m\n",
            "\u001b[0;31mValueError\u001b[0m: Found input variables with inconsistent numbers of samples: [179, 2]"
          ]
        }
      ]
    },
    {
      "cell_type": "code",
      "source": [
        "# GPT로 수정한 코드\n",
        "from sklearn.metrics import accuracy_score, precision_score, recall_score, f1_score, confusion_matrix\n",
        "from sklearn.model_selection import train_test_split\n",
        "from sklearn.ensemble import RandomForestClassifier\n",
        "import numpy as np\n",
        "\n",
        "# 예제 데이터 생성\n",
        "X, y = np.random.rand(1000, 10), np.random.randint(0, 2, 1000)\n",
        "X_train, X_test, y_train, y_test = train_test_split(X, y, test_size=0.2, random_state=42)\n",
        "\n",
        "# 모델 학습 및 예측\n",
        "model = RandomForestClassifier()\n",
        "model.fit(X_train, y_train)\n",
        "custom_predict = model.predict(X_test)\n",
        "\n",
        "# 평가 함수 정의\n",
        "def get_clf_eval(y_test, pred):\n",
        "    confusion = confusion_matrix(y_test, pred)\n",
        "    accuracy = accuracy_score(y_test, pred)\n",
        "    precision = precision_score(y_test, pred)\n",
        "    recall = recall_score(y_test, pred)\n",
        "    f1 = f1_score(y_test, pred)\n",
        "    print('오차 행렬')\n",
        "    print(confusion)\n",
        "    print('정확도: {0:.4f}, 정밀도: {1:.4f}, 재현율: {2:.4f}, F1: {3:.4f}'.format(accuracy, precision, recall, f1))\n",
        "\n",
        "# 예측값과 실제값의 길이 확인\n",
        "print(f\"y_test 길이: {len(y_test)}, custom_predict 길이: {len(custom_predict)}\")\n",
        "\n",
        "# get_clf_eval 호출\n",
        "get_clf_eval(y_test, custom_predict)\n"
      ],
      "metadata": {
        "colab": {
          "base_uri": "https://localhost:8080/"
        },
        "id": "fyGOChPnVOhD",
        "outputId": "e9990891-00a8-4e82-d89f-f3163056951e"
      },
      "execution_count": 12,
      "outputs": [
        {
          "output_type": "stream",
          "name": "stdout",
          "text": [
            "y_test 길이: 200, custom_predict 길이: 200\n",
            "오차 행렬\n",
            "[[59 43]\n",
            " [54 44]]\n",
            "정확도: 0.5150, 정밀도: 0.5057, 재현율: 0.4490, F1: 0.4757\n"
          ]
        }
      ]
    },
    {
      "cell_type": "code",
      "source": [
        "# 오차 행렬을 통해 직접 좌표 계산\n",
        "TN=104;TP=48;FP=14;FN=13\n",
        "\n",
        "accuracy = (TP+TN)/(TP+TN+FP+FN)\n",
        "precision = TP/(TP+FP)\n",
        "recall = TP/(TP+FN)\n",
        "f1 = 2 * (precision * recall) / (precision + recall)\n",
        "print(f'정확도: {round(accuracy, 2)}, 정밀도: {round(precision, 2)}, 재현율: {round(recall, 2)}, F1: {round(f1, 2)}')"
      ],
      "metadata": {
        "colab": {
          "base_uri": "https://localhost:8080/"
        },
        "id": "UCbJRXNjVOex",
        "outputId": "82e47220-82b7-4f7e-d304-1752e5f503bf"
      },
      "execution_count": 13,
      "outputs": [
        {
          "output_type": "stream",
          "name": "stdout",
          "text": [
            "정확도: 0.85, 정밀도: 0.77, 재현율: 0.79, F1: 0.78\n"
          ]
        }
      ]
    },
    {
      "cell_type": "code",
      "source": [
        "# Q. pred와 y_test를 배열로 만든 후 동일한 인덱스에서 0이 일치하는 경우와 1이 모두 일치하는 경우의 수를 산출하세요.\n",
        "\n",
        "import numpy as np\n",
        "\n",
        "# 예시 배열\n",
        "array1 = pred\n",
        "array2 = y_test\n",
        "\n",
        "# 0이 일치하는 경우의 수\n",
        "matching_zeros = np.sum((array1 == 0) & (array2 == 0))\n",
        "\n",
        "# 1이 일치하는 경우의 수\n",
        "matching_ones = np.sum((array1 == 1) & (array2 == 1))\n",
        "\n",
        "matching_zeros, matching_ones"
      ],
      "metadata": {
        "colab": {
          "base_uri": "https://localhost:8080/",
          "height": 224
        },
        "id": "DPTHD8cydDCr",
        "outputId": "02f4c176-ba20-4b1f-c5a2-84fcbaed7295"
      },
      "execution_count": 14,
      "outputs": [
        {
          "output_type": "error",
          "ename": "ValueError",
          "evalue": "operands could not be broadcast together with shapes (179,) (200,) ",
          "traceback": [
            "\u001b[0;31m---------------------------------------------------------------------------\u001b[0m",
            "\u001b[0;31mValueError\u001b[0m                                Traceback (most recent call last)",
            "\u001b[0;32m<ipython-input-14-19e3684194e0>\u001b[0m in \u001b[0;36m<cell line: 10>\u001b[0;34m()\u001b[0m\n\u001b[1;32m      8\u001b[0m \u001b[0;34m\u001b[0m\u001b[0m\n\u001b[1;32m      9\u001b[0m \u001b[0;31m# 0이 일치하는 경우의 수\u001b[0m\u001b[0;34m\u001b[0m\u001b[0;34m\u001b[0m\u001b[0m\n\u001b[0;32m---> 10\u001b[0;31m \u001b[0mmatching_zeros\u001b[0m \u001b[0;34m=\u001b[0m \u001b[0mnp\u001b[0m\u001b[0;34m.\u001b[0m\u001b[0msum\u001b[0m\u001b[0;34m(\u001b[0m\u001b[0;34m(\u001b[0m\u001b[0marray1\u001b[0m \u001b[0;34m==\u001b[0m \u001b[0;36m0\u001b[0m\u001b[0;34m)\u001b[0m \u001b[0;34m&\u001b[0m \u001b[0;34m(\u001b[0m\u001b[0marray2\u001b[0m \u001b[0;34m==\u001b[0m \u001b[0;36m0\u001b[0m\u001b[0;34m)\u001b[0m\u001b[0;34m)\u001b[0m\u001b[0;34m\u001b[0m\u001b[0;34m\u001b[0m\u001b[0m\n\u001b[0m\u001b[1;32m     11\u001b[0m \u001b[0;34m\u001b[0m\u001b[0m\n\u001b[1;32m     12\u001b[0m \u001b[0;31m# 1이 일치하는 경우의 수\u001b[0m\u001b[0;34m\u001b[0m\u001b[0;34m\u001b[0m\u001b[0m\n",
            "\u001b[0;31mValueError\u001b[0m: operands could not be broadcast together with shapes (179,) (200,) "
          ]
        }
      ]
    },
    {
      "cell_type": "code",
      "source": [
        "from sklearn.preprocessing import Binarizer\n",
        "from sklearn.metrics import accuracy_score, precision_score, recall_score, f1_score\n",
        "\n",
        "def get_clf_eval(y_test, custom_predict):\n",
        "    accuracy = accuracy_score(y_test, custom_predict)\n",
        "    precision = precision_score(y_test, custom_predict)\n",
        "    recall = recall_score(y_test, custom_predict)\n",
        "    f1 = f1_score(y_test, custom_predict)\n",
        "    print(f'Accuracy: {accuracy:.4f}')\n",
        "    print(f'Precision: {precision:.4f}')\n",
        "    print(f'Recall: {recall:.4f}')\n",
        "    print(f'F1: {f1:.4f}')\n",
        "\n",
        "# 모델의 예측 확률을 올바르게 가져오는지 확인하는 예시 코드\n",
        "# model.predict_proba(X_test)로 pred_proba 생성한다고 가정\n",
        "# pred_proba = model.predict_proba(X_test)\n",
        "\n",
        "# 확인용 임시 데이터 (실제 모델 예측 확률로 대체해야 함)\n",
        "pred_proba = np.random.rand(6, 2)  # 예시 데이터, 실제 모델 출력으로 대체 필요\n",
        "y_test = np.array([0, 1, 0, 1, 0, 1])  # 실제 테스트 데이터 레이블\n",
        "\n",
        "custom_threshold = 0.4\n",
        "pred_proba_1 = pred_proba[:, 1].reshape(-1, 1)\n",
        "binarizer = Binarizer(threshold=custom_threshold)\n",
        "custom_predict = binarizer.fit_transform(pred_proba_1).reshape(-1)\n",
        "\n",
        "# Shape을 확인하여 샘플 수가 일치하는지 확인\n",
        "print(f\"y_test shape: {y_test.shape}\")\n",
        "print(f\"custom_predict shape: {custom_predict.shape}\")\n",
        "\n",
        "# y_test와 custom_predict의 샘플 수가 일치하는지 확인\n",
        "assert y_test.shape[0] == custom_predict.shape[0], \"y_test와 custom_predict의 샘플 수가 일치하지 않습니다.\"\n",
        "\n",
        "# 평가 함수 호출\n",
        "get_clf_eval(y_test, custom_predict)\n",
        "\n"
      ],
      "metadata": {
        "colab": {
          "base_uri": "https://localhost:8080/"
        },
        "id": "xgCzSpash_hC",
        "outputId": "f6f458da-7cdf-4994-dd89-32f079b95ddb"
      },
      "execution_count": 15,
      "outputs": [
        {
          "output_type": "stream",
          "name": "stdout",
          "text": [
            "y_test shape: (6,)\n",
            "custom_predict shape: (6,)\n",
            "Accuracy: 0.3333\n",
            "Precision: 0.3333\n",
            "Recall: 0.3333\n",
            "F1: 0.3333\n"
          ]
        }
      ]
    },
    {
      "cell_type": "code",
      "source": [
        "pred_proba[:,1]"
      ],
      "metadata": {
        "colab": {
          "base_uri": "https://localhost:8080/"
        },
        "id": "iEr9Rayhic-C",
        "outputId": "309ef44c-60ab-456a-eb28-1bdc622d37f6"
      },
      "execution_count": 16,
      "outputs": [
        {
          "output_type": "execute_result",
          "data": {
            "text/plain": [
              "array([0.31222238, 0.0044568 , 0.90549688, 0.32140948, 0.84260157,\n",
              "       0.89008408])"
            ]
          },
          "metadata": {},
          "execution_count": 16
        }
      ]
    },
    {
      "cell_type": "code",
      "source": [
        "# 분류 결정 임곘값은 Postitive 예측값을 결정하는 확률의 기준\n",
        "# 임곗값을 낮출수록 True 값이 많아지게 되며 Positive 예측값이 많아지면 FN은 하락해서 재현율은 올라감\n",
        "# Binarizer의 threshold 설정값을 0.4로 설정, 즉 분류 결정 임곗갑을 0.5에서 0.4로 낮춤\n",
        "\n",
        "custom_threshold = 0.4\n",
        "pred_proba_1 = pred_proba[:,1].reshape(-1,1)\n",
        "binarizer = Binarizer(threshold=custom_threshold)\n",
        "custom_predict = binarizer.fit_transform(pred_proba_1)\n",
        "\n",
        "get_clf_eval(y_test , custom_predict)"
      ],
      "metadata": {
        "colab": {
          "base_uri": "https://localhost:8080/"
        },
        "id": "EUqAQE_pdC-C",
        "outputId": "641a00ec-927e-42a5-d061-7f6975d1492e"
      },
      "execution_count": 17,
      "outputs": [
        {
          "output_type": "stream",
          "name": "stdout",
          "text": [
            "Accuracy: 0.3333\n",
            "Precision: 0.3333\n",
            "Recall: 0.3333\n",
            "F1: 0.3333\n"
          ]
        }
      ]
    },
    {
      "cell_type": "code",
      "source": [
        "# 테스트를 수행할 모든 임곗값을 리스트 객체로 저장\n",
        "thresholds = [0.4, 0.45, 0.50, 0.55, 0.60]\n",
        "\n",
        "def get_eval_by_threshold(y_test, pred_proba_c1, thresholds):\n",
        "    # thresholds list객체내의 값을 차례로 iteration하면서 Evaluation 수행\n",
        "    for custom_threshold in thresholds:\n",
        "        binarizer = Binarizer(threshold=custom_threshold)\n",
        "        custom_predict = binarizer.fit_transform(pred_proba_c1)\n",
        "        print('임곗값:', custom_threshold)\n",
        "\n",
        "        get_clf_eval(y_test, custom_predict)\n",
        "        print()\n",
        "\n",
        "get_eval_by_threshold(y_test, pred_proba[:, 1].reshape(-1, 1), thresholds)"
      ],
      "metadata": {
        "colab": {
          "base_uri": "https://localhost:8080/"
        },
        "id": "re0NnAZ_dC7s",
        "outputId": "54b25e05-4bd0-4c21-dc99-a9ffc99cb3cc"
      },
      "execution_count": 18,
      "outputs": [
        {
          "output_type": "stream",
          "name": "stdout",
          "text": [
            "임곗값: 0.4\n",
            "Accuracy: 0.3333\n",
            "Precision: 0.3333\n",
            "Recall: 0.3333\n",
            "F1: 0.3333\n",
            "\n",
            "임곗값: 0.45\n",
            "Accuracy: 0.3333\n",
            "Precision: 0.3333\n",
            "Recall: 0.3333\n",
            "F1: 0.3333\n",
            "\n",
            "임곗값: 0.5\n",
            "Accuracy: 0.3333\n",
            "Precision: 0.3333\n",
            "Recall: 0.3333\n",
            "F1: 0.3333\n",
            "\n",
            "임곗값: 0.55\n",
            "Accuracy: 0.3333\n",
            "Precision: 0.3333\n",
            "Recall: 0.3333\n",
            "F1: 0.3333\n",
            "\n",
            "임곗값: 0.6\n",
            "Accuracy: 0.3333\n",
            "Precision: 0.3333\n",
            "Recall: 0.3333\n",
            "F1: 0.3333\n",
            "\n"
          ]
        }
      ]
    },
    {
      "cell_type": "code",
      "source": [
        "import numpy as np\n",
        "import pandas as pd\n",
        "from sklearn.model_selection import train_test_split\n",
        "from sklearn.linear_model import LogisticRegression\n",
        "from sklearn.metrics import accuracy_score, precision_recall_curve\n",
        "import matplotlib.pyplot as plt\n",
        "\n",
        "# 데이터 전처리 함수 정의 (필요에 따라 수정)\n",
        "def transform_features(df):\n",
        "    # 간단한 예시 전처리 - 필요한 전처리를 여기에 추가\n",
        "    df = df.drop(['PassengerId', 'Name', 'Ticket', 'Cabin'], axis=1)\n",
        "    df['Age'].fillna(df['Age'].mean(), inplace=True)\n",
        "    df['Embarked'].fillna('S', inplace=True)\n",
        "    df = pd.get_dummies(df, columns=['Sex', 'Embarked'])\n",
        "    return df\n",
        "\n",
        "# 데이터 로드 및 전처리\n",
        "titanic_df = pd.read_csv('/content/drive/MyDrive/kdt_240424/m5_머신러닝/dataset/train.csv')\n",
        "y_titanic_df = titanic_df['Survived']\n",
        "X_titanic_df = titanic_df.drop('Survived', axis=1)\n",
        "X_titanic_df = transform_features(X_titanic_df)\n",
        "\n",
        "# 훈련 데이터와 테스트 데이터 분리\n",
        "X_train, X_test, y_train, y_test = train_test_split(X_titanic_df, y_titanic_df, test_size=0.20, random_state=11)\n",
        "\n",
        "# 모델 훈련\n",
        "lr_clf = LogisticRegression(max_iter=500, solver='lbfgs', random_state=42)\n",
        "lr_clf.fit(X_train, y_train)\n",
        "\n",
        "# 예측 및 정확도 계산\n",
        "pred = lr_clf.predict(X_test)\n",
        "accuracy_lr = accuracy_score(y_test, pred)\n",
        "print(\"Accuracy:\", round(accuracy_lr, 4))\n",
        "\n",
        "# 예측 확률 계산\n",
        "pred_proba_c1 = lr_clf.predict_proba(X_test)[:, 1]"
      ],
      "metadata": {
        "colab": {
          "base_uri": "https://localhost:8080/"
        },
        "id": "sPA0kdgNexxq",
        "outputId": "a5915fbb-364d-4213-8806-1ebad90d85eb"
      },
      "execution_count": 19,
      "outputs": [
        {
          "output_type": "stream",
          "name": "stdout",
          "text": [
            "Accuracy: 0.8715\n"
          ]
        }
      ]
    },
    {
      "cell_type": "code",
      "source": [
        "# precision_recall_curve() API는 정밀도와 재현율의 임곗값에 따른 값 변화를 곡선 형대의 그래프로 시각화하는데 이용\n",
        "\n",
        "from sklearn.metrics import precision_recall_curve\n",
        "import matplotlib.pyplot as plt\n",
        "import matplotlib.ticker as ticker\n",
        "\n",
        "def precision_recall_curve_plot(y_test, pred_proba_c1):\n",
        "    # threshold ndarray와 이 threshold에 따른 정밀도, 재현율 ndarray 추출\n",
        "    precisions, recalls, thresholds = precision_recall_curve(y_test, pred_proba_c1)\n",
        "    print(list(thresholds))\n",
        "    print(thresholds.shape)\n",
        "    threshold_boundary = thresholds.shape[0]\n",
        "    print(threshold_boundary)\n",
        "    # X축을 threshold값으로, Y축은 정밀도, 재현율 값으로 각각 plot 수행. 정밀도는 점선으로 표시\n",
        "    plt.figure(figsize=(8, 6))\n",
        "    threshold_boundary = thresholds.shape[0]\n",
        "    plt.plot(thresholds, precisions[0:threshold_boundary], linestyle='--', label='precision')\n",
        "    plt.plot(thresholds, recalls[0:threshold_boundary], label='recall')\n",
        "\n",
        "    # threshold 값 X축의 Scale을 0.1 단위로 변경\n",
        "    start, end = plt.xlim()\n",
        "    plt.xticks(np.round(np.arange(start, end, 0.1), 2))\n",
        "\n",
        "    # x축, y축 label과 legend, 그리고 grid 설정\n",
        "    plt.xlabel('Threshold value'); plt.ylabel('Precision and Recall value')\n",
        "    plt.legend(); plt.grid()\n",
        "    plt.show()\n",
        "\n",
        "precision_recall_curve_plot(y_test, lr_clf.predict_proba(X_test)[:, 1])"
      ],
      "metadata": {
        "colab": {
          "base_uri": "https://localhost:8080/",
          "height": 618
        },
        "id": "Q_wRp-bXextD",
        "outputId": "d53aacd8-6f52-4326-e13d-435f07fdb224"
      },
      "execution_count": 20,
      "outputs": [
        {
          "output_type": "stream",
          "name": "stdout",
          "text": [
            "[0.011146164499460433, 0.04981533005711369, 0.05962941250310231, 0.06559104693900648, 0.06660608946133065, 0.06953602480403889, 0.07009989520498609, 0.071814603345319, 0.07222675404708642, 0.07232155105632292, 0.08046239150979971, 0.08650807013266584, 0.08726382694380067, 0.08730432392378656, 0.08915725611307448, 0.0900888347686502, 0.09277022021299575, 0.09501373434068879, 0.09583459292345964, 0.09619322195890768, 0.09885320997883325, 0.0988579195446071, 0.09891076867836965, 0.10217064587481495, 0.10354891718840087, 0.10431310125447027, 0.10602703764224812, 0.10610485410468297, 0.1061234420650285, 0.10690352824485203, 0.10697635045330264, 0.111016641850447, 0.11140085843029866, 0.1152985010367452, 0.11756089671107223, 0.11922557261681307, 0.12123700691288568, 0.12129507501402917, 0.12286998413236414, 0.12597696269607886, 0.12632018682061924, 0.12774457141273426, 0.1295891000302721, 0.13131898724151184, 0.13266248419989615, 0.13279048530214524, 0.13279292931146292, 0.1328045205809692, 0.13372687783627207, 0.1338256635649279, 0.13384039540300163, 0.1355751877929472, 0.13736430012299225, 0.1379428267897326, 0.13968896294717392, 0.13968960439261466, 0.1421025966511359, 0.14469950455295202, 0.1462084475472852, 0.14671993763214894, 0.1474677088083896, 0.154421816089161, 0.15516506488814308, 0.1597824506233771, 0.16212977687716282, 0.17449043927902724, 0.1833010259081291, 0.1893769512990449, 0.20173116775824088, 0.21544008350150537, 0.21597758179617024, 0.22895722271659513, 0.23514492904775594, 0.2506202677487995, 0.25162917406686697, 0.25504258527075774, 0.25713973336351564, 0.2653404191150657, 0.2689053916051097, 0.2795633698286167, 0.2864989374660678, 0.28783824716832285, 0.30003848852094667, 0.30070615377607623, 0.309405195633188, 0.3264972168143324, 0.33028103781748575, 0.3303777638391281, 0.33747548307698017, 0.35195497321738817, 0.3580352935233882, 0.35884173069687836, 0.36446471023379007, 0.36597972866668316, 0.37072857651628416, 0.3711701432870505, 0.3748656548065958, 0.3837414518342659, 0.4114035440382011, 0.41161367526991227, 0.44296999403811355, 0.4467876622384412, 0.45341847496373444, 0.48794765943276425, 0.4903288895064165, 0.498564340370435, 0.498762908217556, 0.4998442053548558, 0.5000178634684365, 0.5068482180229125, 0.5249428063037376, 0.5314351733574041, 0.5628220115478147, 0.5667519856148299, 0.5779729645870618, 0.5879445478677089, 0.6025083343470438, 0.6083280659787423, 0.6085591302331723, 0.6292101714266443, 0.6415895515093394, 0.6446208847596967, 0.657811592071554, 0.6578461474168374, 0.6596995247367569, 0.6598492909164327, 0.6672508479862692, 0.6725080556301637, 0.6997081482283943, 0.7145222599372496, 0.7159567219086038, 0.7254494568550098, 0.735086857853864, 0.7438215340270377, 0.7755740346886635, 0.7831925198472116, 0.7868881363631618, 0.7958945145502557, 0.7997878365005036, 0.8142019252024846, 0.8160357363948042, 0.820308284005102, 0.8237643966623016, 0.8482515434082004, 0.852153790823691, 0.8595105496022526, 0.8730580155344402, 0.8814366278270113, 0.8896329954290727, 0.8953610769883523, 0.8968180726903809, 0.9067037433503204, 0.9094833485785346, 0.9123510879681601, 0.9375143032706146, 0.937929767543081, 0.9418069180631985, 0.9431355527417548, 0.9472788204876965, 0.9476249182888232, 0.9492498196303404, 0.9501006924377146, 0.9501614872243372, 0.9564343382440423]\n",
            "(164,)\n",
            "164\n"
          ]
        },
        {
          "output_type": "display_data",
          "data": {
            "text/plain": [
              "<Figure size 800x600 with 1 Axes>"
            ],
            "image/png": "[encoded data removed]"
          },
          "metadata": {}
        }
      ]
    },
    {
      "cell_type": "markdown",
      "source": [
        "#### 결과 해석\n",
        "* 임계값이 낮을수록 많은 수의 양성 예측으로 인해 재현율 값이 극도로 높아지고 정밀도 값이 낮아짐.(FN이 작아지고 FP가 커짐)\n",
        "* 로지스틱 회귀 기반의 타이타닉 생존자 예측 모델의 경우 임곗값이 약 0.5 지점에서 재현율과 정밀도가 비슷해지는 모습을 보임.\n",
        "* 단순히 하나의 성능 지표 수치를 높이기 위한 수단으로 사용하는 것은 지양하고 업무 환경에 맞게 두 개의 수치를 상호 보완할 수 있는 수준에서 적용\n",
        "\n",
        "#### 정밀도 및 재현율 활용시 유의 사항\n",
        "* 정밀도와 재현율 성능 수치는 어느 한쪽만 참조하면 극단적인 수치 조작이 가능\n",
        "* 정밀도 100%가 되는 방법:\n",
        "  확실한 기준이 되는 경우만 Positive로 예측하고 나머지는 모두 Negative로 예측\n",
        "  전체 환자 1000명중 확실한 Positive 징후만 가진 환자는 단 1명이라고 하면 이 한 명만 P로 예측하고 나머지는 모두 N으로 예측\n",
        "  FP는 0, TP는 1이 되며 정밀도(TP/(TP+FP)는 1/(1+0) = 1\n",
        "* 재현율이 100%가 되는 방법:\n",
        "  모든 환자를 Positive로 예측\n",
        "  1000명의 환자중 실제 양성인 사람이 30명 정도라도 TN이 수치에 포함되지 않고 FN은 0이므로 재현율(TP/(TP+FN)은 30/(30+0) = 1\n",
        "* 분류가 정밀도, 재현율 중 하나에 상대적인 중요도를 부여할 수 있지만 하나만 강조해서는 안됨\n",
        "* 암 예측 모델에서 재현율을 높인다고 주로 양성만 판정한다면 환자의 부담과 불평이 커지게 됨"
      ],
      "metadata": {
        "id": "3EnTpAcbsGDw"
      }
    },
    {
      "cell_type": "code",
      "source": [
        "# F1 스코어는 정밀도와 재현율을 결합한 지표 : 정밀도와 재현율의 균형이 필요한 경우: 특히, 불균형이 있을 때 유용\n",
        "# F1 스코어는 정밀도와 재현율이 어느 한쪽으로 치우치지 않는 수치를 나타낼 때 상대적으로 높은 값을 가짐\n",
        "from sklearn.metrics import f1_score\n",
        "f1 = f1_score(y_test, pred)\n",
        "print('F1 스코어: {0:.4f}'.format(f1))"
      ],
      "metadata": {
        "colab": {
          "base_uri": "https://localhost:8080/"
        },
        "id": "Gu5O2_ekexqr",
        "outputId": "76acefc5-cc18-40f6-9623-02a7661ee6e2"
      },
      "execution_count": 21,
      "outputs": [
        {
          "output_type": "stream",
          "name": "stdout",
          "text": [
            "F1 스코어: 0.8067\n"
          ]
        }
      ]
    },
    {
      "cell_type": "markdown",
      "source": [
        "#### ROC 곡선과 AUC\n",
        "* 수신자 판단 곡선이라고 하며 ML의 이진 분류 모델의 예측 성능을 판단하는 중요한 평가 지표.\n",
        "* FPR이 변할 때 TPR이 어떻게 변하는지를 나타내는 곡선으로 FPR은 1- 특이성(TNR), (TN + FP)/(TN + FP) - TN/(TN+FP) = FP/(TN+FP), TPR은 재현율(민감도)를 나타냄.\n",
        "* 특이성은 실제로 음성인 사례들 중에서 모델이 음성으로 예측한 사례의 비율\n",
        "* TNR은 TN/(TN+FP)이며 FPR은 FP/(TN+FP)임\n",
        "* ROC 곡선은 FPR을 0부터 1까지 변경하면서 FPR을 구하고 이 FPR값의 변화에 따른 TPR의 변화 값을 구함.\n",
        "* FPR을 0에서 1까지 변경하는 것은 Positive 예측값을 결정하는 기준인 분류 결정 임곗값을 변경하면 됨.\n",
        "* FPR을 0으로 만들려면 임곗값을 1로 지정하고 반대로 FPR을 1로 만들려면 임곗값을 0으로 지정하면 됨."
      ],
      "metadata": {
        "id": "KMYUCn3_BseL"
      }
    },
    {
      "cell_type": "code",
      "source": [
        "import pandas as pd\n",
        "import numpy as np\n",
        "from sklearn.model_selection import train_test_split\n",
        "from sklearn.linear_model import LogisticRegression\n",
        "from sklearn.metrics import accuracy_score\n",
        "import warnings\n",
        "warnings.filterwarnings('ignore')\n",
        "titanic_df = pd.read_csv('/train.csv')\n",
        "y_titanic_df = titanic_df['Survived']\n",
        "X_titanic_df = titanic_df.drop('Survived',axis=1)\n",
        "X_titanic_df = transform_features(X_titanic_df)\n",
        "\n",
        "X_train, X_test, y_train, y_test = \\\n",
        "                        train_test_split(X_titanic_df, y_titanic_df, test_size= 0.20, random_state=11)\n",
        "lr_clf = LogisticRegression()\n",
        "lr_clf.fit(X_train,y_train)\n",
        "pred = lr_clf.predict(X_test)\n",
        "accuracy_lr = accuracy_score(y_test, pred)\n",
        "accuracy_lr"
      ],
      "metadata": {
        "colab": {
          "base_uri": "https://localhost:8080/"
        },
        "id": "FR6qrEHltKp_",
        "outputId": "12c58d96-ca19-445a-d74a-501f807a1edc"
      },
      "execution_count": 22,
      "outputs": [
        {
          "output_type": "execute_result",
          "data": {
            "text/plain": [
              "0.8659217877094972"
            ]
          },
          "metadata": {},
          "execution_count": 22
        }
      ]
    },
    {
      "cell_type": "code",
      "source": [
        "from sklearn.metrics import roc_curve\n",
        "pred_proba_c1 = lr_clf.predict_proba(X_test)[:, 1]\n",
        "fprs, tprs, thresholds = roc_curve(y_test, pred_proba_c1)\n",
        "thr_index = np.arange(1, thresholds.shape[0], 5)\n",
        "print(thr_index)\n",
        "print(np.round(thresholds[thr_index], 2))\n",
        "print(np.round(fprs[thr_index], 2))\n",
        "print(np.round(tprs[thr_index], 2))"
      ],
      "metadata": {
        "colab": {
          "base_uri": "https://localhost:8080/"
        },
        "id": "1sY1qP5jtKmZ",
        "outputId": "4468a55e-a7b0-4185-a7ef-ec4682f055af"
      },
      "execution_count": 23,
      "outputs": [
        {
          "output_type": "stream",
          "name": "stdout",
          "text": [
            "[ 1  6 11 16 21 26 31 36 41 46]\n",
            "[0.96 0.67 0.57 0.45 0.39 0.33 0.15 0.12 0.11 0.11]\n",
            "[0.   0.02 0.07 0.14 0.18 0.21 0.46 0.64 0.68 0.79]\n",
            "[0.03 0.66 0.74 0.79 0.82 0.89 0.9  0.93 0.97 0.98]\n"
          ]
        }
      ]
    },
    {
      "cell_type": "code",
      "source": [
        "# ROC_Curve_plot()는 임곗값이 1에 가까운 값에서 점점 작아지면서 FPR이 점점 커지는데\n",
        "# FPR이 조금씩 커질 때 얼마나 TPR은 가파르게 커짐을 알 수 있음\n",
        "# AUC가 커지려면 FPR이 작은 상태에서 얼마나 큰 TPR을 얻을 수 있느냐가 관건\n",
        "# 가운데 대각선 직선은 랜덤 수준의 이진 분류 AUC 값으로 0.5이며 일반적으로 분류는 0.5이상의 값을 가짐\n",
        "import matplotlib.pyplot as plt\n",
        "def roc_curve_plot(y_test, pred_proba_c1):\n",
        "    fprs, tprs, thresholds = roc_curve(y_test, pred_proba_c1)\n",
        "    plt.plot(fprs, tprs, label='ROC')\n",
        "    plt.plot([0, 1], [0, 1], 'k--', label='Random')\n",
        "\n",
        "    start, end = plt.xlim()\n",
        "    plt.xticks(np.round(np.arange(start, end, 0.1), 2))\n",
        "    plt.xlim(0, 1); plt.ylim(0, 1)\n",
        "    plt.xlabel('FPR(1-Sensitivity)'); plt.ylabel('TPR(Recall)')\n",
        "    plt.legend()\n",
        "    plt.show()\n",
        "\n",
        "roc_curve_plot(y_test, lr_clf.predict_proba(X_test)[:, 1])"
      ],
      "metadata": {
        "colab": {
          "base_uri": "https://localhost:8080/",
          "height": 455
        },
        "id": "oM_IUhxNtKkY",
        "outputId": "e1eb429d-d7bb-4128-a509-3d04a249dd1f"
      },
      "execution_count": 25,
      "outputs": [
        {
          "output_type": "display_data",
          "data": {
            "text/plain": [
              "<Figure size 640x480 with 1 Axes>"
            ],
            "image/png": "[encoded data removed]"
          },
          "metadata": {}
        }
      ]
    },
    {
      "cell_type": "code",
      "source": [
        "from sklearn.metrics import roc_auc_score\n",
        "\n",
        "pred_proba = lr_clf.predict_proba(X_test)[:, 1]\n",
        "roc_score = roc_auc_score(y_test, pred_proba)\n",
        "print('ROC AUC 값: {0:.4f}'.format(roc_score))"
      ],
      "metadata": {
        "colab": {
          "base_uri": "https://localhost:8080/"
        },
        "id": "o1iuBkZgtKiQ",
        "outputId": "3ed0f34a-0053-4d86-9358-0e7b40ba7a8a"
      },
      "execution_count": 27,
      "outputs": [
        {
          "output_type": "stream",
          "name": "stdout",
          "text": [
            "ROC AUC 값: 0.8991\n"
          ]
        }
      ]
    },
    {
      "cell_type": "code",
      "source": [
        "y_test"
      ],
      "metadata": {
        "colab": {
          "base_uri": "https://localhost:8080/"
        },
        "id": "08_0czGHtnUK",
        "outputId": "be2f07e9-1000-4178-cd0d-6b9d46f70826"
      },
      "execution_count": 28,
      "outputs": [
        {
          "output_type": "execute_result",
          "data": {
            "text/plain": [
              "431    1\n",
              "821    1\n",
              "629    0\n",
              "626    0\n",
              "665    0\n",
              "      ..\n",
              "638    0\n",
              "771    0\n",
              "521    0\n",
              "711    0\n",
              "484    1\n",
              "Name: Survived, Length: 179, dtype: int64"
            ]
          },
          "metadata": {},
          "execution_count": 28
        }
      ]
    },
    {
      "cell_type": "code",
      "source": [
        "from sklearn.metrics import accuracy_score, precision_score, recall_score, confusion_matrix, f1_score, roc_auc_score\n",
        "\n",
        "def get_clf_eval(y_test, pred, pred_proba):\n",
        "  confusion = confusion_matrix(y_test, pred)\n",
        "  accuracy = accuracy_score(y_test, pred)\n",
        "  precision = precision_score(y_test, pred)\n",
        "  recall = recall_score(y_test, pred)\n",
        "  f1 = f1_score(y_test,pred)\n",
        "  # ROC-AUC 추가\n",
        "  roc_auc = roc_auc_score(y_test, pred_proba)\n",
        "  print(\"오차 행렬\")\n",
        "  print(confusion)\n",
        "\n",
        "  # ROC-AUC print 추가\n",
        "  print(\"\\n정확도 : {0:.4f} \\n정밀도 : {1:.4f} \\n재현율 : {2:.4f} \\nF1 : {3:.4f} \\nROC AUC: {4:.4f}\".format(accuracy, precision, recall, f1, roc_auc))\n",
        "\n",
        "get_clf_eval(y_test, pred,pred_proba)"
      ],
      "metadata": {
        "colab": {
          "base_uri": "https://localhost:8080/"
        },
        "id": "HQYWi1rGtnSH",
        "outputId": "caf3cc88-ebef-4699-9793-0acbdca557bf"
      },
      "execution_count": 29,
      "outputs": [
        {
          "output_type": "stream",
          "name": "stdout",
          "text": [
            "오차 행렬\n",
            "[[108  10]\n",
            " [ 14  47]]\n",
            "\n",
            "정확도 : 0.8659 \n",
            "정밀도 : 0.8246 \n",
            "재현율 : 0.7705 \n",
            "F1 : 0.7966 \n",
            "ROC AUC: 0.8991\n"
          ]
        }
      ]
    },
    {
      "cell_type": "code",
      "source": [
        "import numpy as np\n",
        "from sklearn.datasets import make_classification\n",
        "from sklearn.model_selection import train_test_split\n",
        "from sklearn.ensemble import RandomForestClassifier\n",
        "from sklearn.metrics import roc_auc_score\n",
        "from sklearn.preprocessing import label_binarize\n",
        "\n",
        "# 데이터 생성\n",
        "X, y = make_classification(n_samples=1000, n_features=20, n_classes=3, n_informative=15, random_state=42)\n",
        "\n",
        "# 데이터 분할\n",
        "X_train, X_test, y_train, y_test = train_test_split(X, y, test_size=0.2, random_state=42)\n",
        "\n",
        "# 모델 훈련\n",
        "model = RandomForestClassifier()\n",
        "model.fit(X_train, y_train)\n",
        "\n",
        "# 예측 확률\n",
        "y_score = model.predict_proba(X_test)\n",
        "\n",
        "# 다중 클래스 라벨을 이진화\n",
        "y_test_binarized = label_binarize(y_test, classes=[0, 1, 2])\n",
        "\n",
        "# ROC-AUC 계산\n",
        "roc_auc_ovr = roc_auc_score(y_test_binarized, y_score, multi_class = 'ovr')\n",
        "\n",
        "print(f\"ROC AUC (One-vs-Rest): {roc_auc_ovr}\")"
      ],
      "metadata": {
        "colab": {
          "base_uri": "https://localhost:8080/"
        },
        "id": "bikKjxI1tnPw",
        "outputId": "f7bb6e90-1021-424d-b3e1-a7e3ce4b4609"
      },
      "execution_count": 33,
      "outputs": [
        {
          "output_type": "stream",
          "name": "stdout",
          "text": [
            "ROC AUC (One-vs-Rest): 0.8807338982000731\n"
          ]
        }
      ]
    },
    {
      "cell_type": "markdown",
      "source": [
        "Task1_0723. 'Breast Cancer Wisconsin (Diagnostic) Data Set'을 사용하여 이진 분류 문제를 해결하고, 평가 지표(정확도, 정밀도, 재현율, F1 스코어, ROC AUC)를 계산하세요.\n",
        "\n",
        "# 데이터 로드\n",
        "from sklearn.datasets import load_breast_cancer\n",
        "data = load_breast_cancer()"
      ],
      "metadata": {
        "id": "wtwYGj2eRASg"
      }
    },
    {
      "cell_type": "code",
      "source": [
        "# 데이터 로드\n",
        "from sklearn.datasets import load_breast_cancer\n",
        "data = load_breast_cancer()\n",
        "\n",
        "# 데이터 분할\n",
        "X = data.data\n",
        "y = data.target\n",
        "\n",
        "# 훈련 데이터와 테스트 데이터로 분할\n",
        "from sklearn.model_selection import train_test_split\n",
        "X_train, X_test, y_train, y_test = train_test_split(X, y, test_size=0.2, random_state=42)\n",
        "\n",
        "# 모델 훈련\n",
        "from sklearn.ensemble import RandomForestClassifier\n",
        "model = RandomForestClassifier()\n",
        "model.fit(X_train, y_train)\n",
        "\n",
        "# 예측\n",
        "y_pred = model.predict(X_test)\n",
        "\n",
        "# 평가 지표 계산\n",
        "from sklearn.metrics import accuracy_score, precision_score, recall_score, f1_score, roc_auc_score\n",
        "accuracy = accuracy_score(y_test, y_pred)\n",
        "precision = precision_score(y_test, y_pred)\n",
        "recall = recall_score(y_test, y_pred)\n",
        "f1 = f1_score(y_test, y_pred)\n",
        "roc_auc = roc_auc_score(y_test, model.predict_proba(X_test)[:, 1])\n",
        "\n",
        "# 결과 출력\n",
        "print(f\"정확도: {accuracy:.4f}\")\n",
        "print(f\"정밀도: {precision:.4f}\")\n",
        "print(f\"재현율: {recall:.4f}\")\n",
        "print(f\"F1 스코어: {f1:.4f}\")\n",
        "print(f\"ROC AUC: {roc_auc:.4f}\")"
      ],
      "metadata": {
        "colab": {
          "base_uri": "https://localhost:8080/"
        },
        "id": "aM-o3WG6tnNZ",
        "outputId": "c9da5fd3-3968-4b59-cd46-dfc460bf52cc"
      },
      "execution_count": 34,
      "outputs": [
        {
          "output_type": "stream",
          "name": "stdout",
          "text": [
            "정확도: 0.9561\n",
            "정밀도: 0.9583\n",
            "재현율: 0.9718\n",
            "F1 스코어: 0.9650\n",
            "ROC AUC: 0.9959\n"
          ]
        }
      ]
    },
    {
      "cell_type": "markdown",
      "source": [
        "Task2_0723.\n",
        "가상의 데이터셋을 생성하고, 이를 사용하여 다중 클래스 분류 모델을 훈련시킨 후 평가 지표를 계산하세요. 평가 지표는 정확도, 정밀도, 재현율, F1 스코어, ROC AUC입니다.\n",
        "\n",
        "# 데이터 생성 (5개의 클래스)\n",
        "X, y = make_classification(n_samples=1500, n_features=20, n_classes=5, n_informative=15, random_state=42)"
      ],
      "metadata": {
        "id": "AFtQppEkRC03"
      }
    },
    {
      "cell_type": "markdown",
      "source": [
        "- n_samples=1500: 데이터셋에 포함될 샘플의 수를 1500개로 지정합니다.\n",
        "- n_features=20: 각 샘플이 가질 특성(feature)의 수를 20개로 지정합니다.\n",
        "- n_classes=5: 타겟 라벨의 클래스 수를 5개로 지정합니다.\n",
        "- n_informative=15: 20개의 특성 중 15개는 타겟 라벨과 관련된 유용한 정보를 포함하도록 지정합니다. 나머지 5개의 특성은 유용하지 않거나 무작위로 생성된 특성입니다.\n",
        "- random_state=42: 재현성을 위해 난수 생성 seed를 설정합니다."
      ],
      "metadata": {
        "id": "ba7WVi84RLkZ"
      }
    },
    {
      "cell_type": "code",
      "source": [
        "# 데이터 생성 (5개의 클래스)\n",
        "X, y = make_classification(n_samples=1500, n_features=20, n_classes=5, n_informative=15, random_state=42)\n",
        "\n",
        "# 데이터 분할\n",
        "X_train, X_test, y_train, y_test = train_test_split(X, y, test_size=0.2, random_state=42)\n",
        "\n",
        "# 모델 훈련\n",
        "model = RandomForestClassifier()\n",
        "model.fit(X_train, y_train)\n",
        "\n",
        "# 예측\n",
        "y_pred = model.predict(X_test)\n",
        "\n",
        "# 평가 지표 계산\n",
        "accuracy = accuracy_score(y_test, y_pred)\n",
        "precision = precision_score(y_test, y_pred, average='weighted')\n",
        "recall = recall_score(y_test, y_pred, average='weighted')\n",
        "f1 = f1_score(y_test, y_pred, average='weighted')\n",
        "roc_auc = roc_auc_score(label_binarize(y_test, classes=[0, 1, 2, 3, 4]), model.predict_proba(X_test), average='weighted', multi_class='ovr')\n",
        "\n",
        "# 결과 출력\n",
        "print(f\"정확도: {accuracy:.4f}\")\n",
        "print(f\"정밀도: {precision:.4f}\")\n",
        "print(f\"재현율: {recall:.4f}\")\n",
        "print(f\"F1 스코어: {f1:.4f}\")\n",
        "print(f\"ROC AUC: {roc_auc:.4f}\")"
      ],
      "metadata": {
        "colab": {
          "base_uri": "https://localhost:8080/"
        },
        "id": "D_t48cORtnKw",
        "outputId": "471432d8-a0d5-4d0c-8cea-7ee13e76dcc3"
      },
      "execution_count": 35,
      "outputs": [
        {
          "output_type": "stream",
          "name": "stdout",
          "text": [
            "정확도: 0.7633\n",
            "정밀도: 0.7712\n",
            "재현율: 0.7633\n",
            "F1 스코어: 0.7640\n",
            "ROC AUC: 0.9451\n"
          ]
        }
      ]
    },
    {
      "cell_type": "markdown",
      "source": [
        "Task3_0723. 주어진 코드를 수정하여 모델의 성능을 개선하세요."
      ],
      "metadata": {
        "id": "YNNYK2-FRvzW"
      }
    },
    {
      "cell_type": "code",
      "source": [
        "import pandas as pd\n",
        "import numpy as np\n",
        "from sklearn.model_selection import train_test_split, GridSearchCV\n",
        "from sklearn.preprocessing import StandardScaler, OneHotEncoder\n",
        "from sklearn.impute import SimpleImputer\n",
        "from sklearn.linear_model import LogisticRegression\n",
        "from sklearn.metrics import accuracy_score, confusion_matrix, classification_report\n",
        "\n",
        "# 1. 데이터 로드\n",
        "url = 'https://archive.ics.uci.edu/ml/machine-learning-databases/adult/adult.data'\n",
        "columns = ['age', 'workclass', 'fnlwgt', 'education', 'education-num', 'marital-status',\n",
        "           'occupation', 'relationship', 'race', 'sex', 'capital-gain', 'capital-loss',\n",
        "           'hours-per-week', 'native-country', 'income']\n",
        "data = pd.read_csv(url, header=None, names=columns, na_values=' ?', skipinitialspace=True)\n",
        "\n",
        "# 2. 결측치 처리\n",
        "# 수치형 변수의 결측치를 중앙값으로 대체\n",
        "numeric_features = data.select_dtypes(include=[np.number]).columns.tolist()\n",
        "imputer_numeric = SimpleImputer(strategy='median')\n",
        "data[numeric_features] = imputer_numeric.fit_transform(data[numeric_features])\n",
        "\n",
        "# 범주형 변수의 결측치를 최빈값으로 대체\n",
        "categorical_features = data.select_dtypes(include=[object]).columns.tolist()\n",
        "categorical_features.remove('income')\n",
        "imputer_categorical = SimpleImputer(strategy='most_frequent')\n",
        "data[categorical_features] = imputer_categorical.fit_transform(data[categorical_features])\n",
        "\n",
        "# 3. 이상치 제거 (여기서는 'capital-gain'과 'capital-loss'에서 극단적인 값들을 이상치로 가정)\n",
        "def replace_outliers_with_median(df, column):\n",
        "    Q1 = df[column].quantile(0.25)\n",
        "    Q3 = df[column].quantile(0.75)\n",
        "    IQR = Q3 - Q1\n",
        "    lower_bound = Q1 - 1.5 * IQR\n",
        "    upper_bound = Q3 + 1.5 * IQR\n",
        "    median = df[column].median()\n",
        "    df[column] = np.where((df[column] < lower_bound) | (df[column] > upper_bound), median, df[column])\n",
        "    return df\n",
        "\n",
        "for col in numeric_features:\n",
        "    data = replace_outliers_with_median(data, col)\n",
        "\n",
        "# 4. 파생변수 작성\n",
        "data['capital_diff'] = data['capital-gain'] - data['capital-loss']\n",
        "\n",
        "# 5. 범주형 변수 인코딩\n",
        "categorical_features = ['workclass', 'education', 'marital-status', 'occupation', 'relationship', 'race', 'sex', 'native-country']\n",
        "encoder = OneHotEncoder(drop='first', sparse=False)\n",
        "encoded_categorical_data = encoder.fit_transform(data[categorical_features])\n",
        "encoded_categorical_df = pd.DataFrame(encoded_categorical_data, columns=encoder.get_feature_names_out(categorical_features))\n",
        "\n",
        "# 원래 데이터프레임에서 범주형 열을 제거하고 인코딩된 데이터프레임을 병합\n",
        "data = data.drop(columns=categorical_features)\n",
        "data = pd.concat([data, encoded_categorical_df], axis=1)\n",
        "\n",
        "# 6. 변수 선택 및 데이터 분리\n",
        "# 'income' 변수를 0과 1로 변환\n",
        "data['income'] = data['income'].apply(lambda x: 1 if x.strip() == '>50K' else 0)\n",
        "X = data.drop('income', axis=1)\n",
        "y = data['income']\n",
        "\n",
        "# 7. 데이터 표준화\n",
        "scaler = StandardScaler()\n",
        "X_scaled = scaler.fit_transform(X)\n",
        "\n",
        "# 8. 학습용과 테스트용 데이터셋으로 나누기\n",
        "X_train, X_test, y_train, y_test = train_test_split(X_scaled, y, test_size=0.2, random_state=42, stratify=y)\n",
        "\n",
        "# 9. Logistic Regression 모델 생성 및 학습\n",
        "model = LogisticRegression(random_state=42)\n",
        "model.fit(X_train, y_train)\n",
        "\n",
        "# 10. 예측 및 평가\n",
        "y_pred = model.predict(X_test)\n",
        "accuracy = accuracy_score(y_test, y_pred)\n",
        "conf_matrix = confusion_matrix(y_test, y_pred)\n",
        "class_report = classification_report(y_test, y_pred)\n",
        "\n",
        "print(f'Accuracy: {accuracy:.2f}')\n",
        "print('Confusion Matrix:')\n",
        "print(conf_matrix)\n",
        "print('Classification Report:')\n",
        "print(class_report)"
      ],
      "metadata": {
        "colab": {
          "base_uri": "https://localhost:8080/"
        },
        "id": "kXuawCMsSTag",
        "outputId": "34e0e859-839d-4f56-fced-fbf1bdc92b44"
      },
      "execution_count": 37,
      "outputs": [
        {
          "output_type": "stream",
          "name": "stdout",
          "text": [
            "Accuracy: 0.83\n",
            "Confusion Matrix:\n",
            "[[4556  389]\n",
            " [ 689  879]]\n",
            "Classification Report:\n",
            "              precision    recall  f1-score   support\n",
            "\n",
            "           0       0.87      0.92      0.89      4945\n",
            "           1       0.69      0.56      0.62      1568\n",
            "\n",
            "    accuracy                           0.83      6513\n",
            "   macro avg       0.78      0.74      0.76      6513\n",
            "weighted avg       0.83      0.83      0.83      6513\n",
            "\n"
          ]
        }
      ]
    },
    {
      "cell_type": "code",
      "source": [
        "# Task3_0723. 주어진 코드를 수정하여 모델의 성능을 개선하세요.\n",
        "import pandas as pd\n",
        "import numpy as np\n",
        "from sklearn.model_selection import train_test_split, GridSearchCV\n",
        "from sklearn.preprocessing import StandardScaler, OneHotEncoder\n",
        "from sklearn.impute import SimpleImputer\n",
        "from sklearn.linear_model import LogisticRegression\n",
        "from sklearn.metrics import accuracy_score, confusion_matrix, classification_report\n",
        "\n",
        "# 1. 데이터 로드\n",
        "url = 'https://archive.ics.uci.edu/ml/machine-learning-databases/adult/adult.data'\n",
        "columns = ['age', 'workclass', 'fnlwgt', 'education', 'education-num', 'marital-status',\n",
        "           'occupation', 'relationship', 'race', 'sex', 'capital-gain', 'capital-loss',\n",
        "           'hours-per-week', 'native-country', 'income']\n",
        "data = pd.read_csv(url, header=None, names=columns, na_values=' ?', skipinitialspace=True)\n",
        "\n",
        "# 2. 결측치 처리\n",
        "# 수치형 변수의 결측치를 중앙값으로 대체\n",
        "numeric_features = data.select_dtypes(include=[np.number]).columns.tolist()\n",
        "imputer_numeric = SimpleImputer(strategy='median')\n",
        "data[numeric_features] = imputer_numeric.fit_transform(data[numeric_features])\n",
        "\n",
        "# 범주형 변수의 결측치를 최빈값으로 대체\n",
        "categorical_features = data.select_dtypes(include=[object]).columns.tolist()\n",
        "categorical_features.remove('income')\n",
        "imputer_categorical = SimpleImputer(strategy='most_frequent')\n",
        "data[categorical_features] = imputer_categorical.fit_transform(data[categorical_features])\n",
        "\n",
        "# 3. 이상치 제거 (여기서는 'capital-gain'과 'capital-loss'에서 극단적인 값들을 이상치로 가정)\n",
        "def replace_outliers_with_median(df, column):\n",
        "    Q1 = df[column].quantile(0.25)\n",
        "    Q3 = df[column].quantile(0.75)\n",
        "    IQR = Q3 - Q1\n",
        "    lower_bound = Q1 - 1.5 * IQR\n",
        "    upper_bound = Q3 + 1.5 * IQR\n",
        "    median = df[column].median()\n",
        "    df[column] = np.where((df[column] < lower_bound) | (df[column] > upper_bound), median, df[column])\n",
        "    return df\n",
        "\n",
        "for col in numeric_features:\n",
        "    data = replace_outliers_with_median(data, col)\n",
        "\n",
        "# 4. 파생변수 작성\n",
        "data['capital_diff'] = data['capital-gain'] - data['capital-loss']\n",
        "\n",
        "# 5. 범주형 변수 인코딩\n",
        "categorical_features = ['workclass', 'education', 'marital-status', 'occupation', 'relationship', 'race', 'sex', 'native-country']\n",
        "encoder = OneHotEncoder(drop='first', sparse=False)\n",
        "encoded_categorical_data = encoder.fit_transform(data[categorical_features])\n",
        "encoded_categorical_df = pd.DataFrame(encoded_categorical_data, columns=encoder.get_feature_names_out(categorical_features))\n",
        "\n",
        "# 원래 데이터프레임에서 범주형 열을 제거하고 인코딩된 데이터프레임을 병합\n",
        "data = data.drop(columns=categorical_features)\n",
        "data = pd.concat([data, encoded_categorical_df], axis=1)\n",
        "\n",
        "# 6. 변수 선택 및 데이터 분리\n",
        "# 'income' 변수를 0과 1로 변환\n",
        "data['income'] = data['income'].apply(lambda x: 1 if x.strip() == '>50K' else 0)\n",
        "X = data.drop('income', axis=1)\n",
        "y = data['income']\n",
        "\n",
        "# 7. 데이터 표준화\n",
        "scaler = StandardScaler()\n",
        "X_scaled = scaler.fit_transform(X)\n",
        "\n",
        "# 8. 학습용과 테스트용 데이터셋으로 나누기\n",
        "X_train, X_test, y_train, y_test = train_test_split(X_scaled, y, test_size=0.2, random_state=42, stratify=y)\n",
        "\n",
        "# 9. Logistic Regression 모델 생성 및 학습\n",
        "model = LogisticRegression(random_state=42, max_iter=1000)\n",
        "model.fit(X_train, y_train)\n",
        "\n",
        "# 10. 예측 및 평가\n",
        "y_pred = model.predict(X_test)\n",
        "accuracy = accuracy_score(y_test, y_pred)\n",
        "conf_matrix = confusion_matrix(y_test, y_pred)\n",
        "class_report = classification_report(y_test, y_pred)\n",
        "\n",
        "print(f'Accuracy: {accuracy:.2f}')\n",
        "print('Confusion Matrix:')\n",
        "print(conf_matrix)\n",
        "print('Classification Report:')\n",
        "print(class_report)"
      ],
      "metadata": {
        "colab": {
          "base_uri": "https://localhost:8080/"
        },
        "id": "LZeJJ48VTE5Y",
        "outputId": "c675f4b2-4308-4955-d7d5-1378bae8ed18"
      },
      "execution_count": 36,
      "outputs": [
        {
          "output_type": "stream",
          "name": "stdout",
          "text": [
            "Accuracy: 0.83\n",
            "Confusion Matrix:\n",
            "[[4556  389]\n",
            " [ 689  879]]\n",
            "Classification Report:\n",
            "              precision    recall  f1-score   support\n",
            "\n",
            "           0       0.87      0.92      0.89      4945\n",
            "           1       0.69      0.56      0.62      1568\n",
            "\n",
            "    accuracy                           0.83      6513\n",
            "   macro avg       0.78      0.74      0.76      6513\n",
            "weighted avg       0.83      0.83      0.83      6513\n",
            "\n"
          ]
        }
      ]
    }
  ]
}