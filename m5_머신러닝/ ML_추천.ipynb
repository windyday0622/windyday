{
  "nbformat": 4,
  "nbformat_minor": 0,
  "metadata": {
    "colab": {
      "provenance": [],
      "authorship_tag": "ABX9TyOmy1Kjmk8YQ7qwOw9udjwQ",
      "include_colab_link": true
    },
    "kernelspec": {
      "name": "python3",
      "display_name": "Python 3"
    },
    "language_info": {
      "name": "python"
    }
  },
  "cells": [
    {
      "cell_type": "markdown",
      "metadata": {
        "id": "view-in-github",
        "colab_type": "text"
      },
      "source": [
        "<a href=\"https://colab.research.google.com/github/windyday0622/windyday/blob/main/m5_%EB%A8%B8%EC%8B%A0%EB%9F%AC%EB%8B%9D/%20ML_%EC%B6%94%EC%B2%9C.ipynb\" target=\"_parent\"><img src=\"https://colab.research.google.com/assets/colab-badge.svg\" alt=\"Open In Colab\"/></a>"
      ]
    },
    {
      "cell_type": "markdown",
      "source": [
        "## 추천 알고리즘\n",
        "크게 세 가지 주요 범주로 나눌 수 있습니다: 콘텐츠 기반 필터링(Content-Based Filtering), 협업 필터링(Collaborative Filtering), 그리고 하이브리드 필터링(Hybrid Filtering)입니다.\n",
        "\n",
        "콘텐츠 기반 필터링 (Content-Based Filtering)<br>\n",
        "콘텐츠 기반 필터링은 아이템의 특성(속성)을 기반으로 사용자가 선호할 만한 아이템을 추천하는 방법입니다.\n",
        "- 특징:\n",
        "  - 각 아이템의 속성을 벡터로 표현합니다.\n",
        "  - 사용자의 이전 행동(예: 사용자가 좋아한 아이템)으로부터 프로필을 생성합니다.\n",
        "  - 사용자가 좋아하는 아이템과 유사한 아이템을 추천합니다.\n",
        "- 예시:\n",
        "  - 영화 추천에서, 사용자가 좋아하는 영화의 장르, 감독, 배우 등의 특성을 기반으로 유사한 영화를 추천.\n",
        "  - 문서 추천에서, 사용자가 읽은 문서의 키워드, 주제 등을 분석하여 유사한 문서를 추천.\n",
        "- 장점:\n",
        "  - 새로운 아이템도 쉽게 추천할 수 있습니다(콜드 스타트 문제 해결 가능).\n",
        "  - 사용자의 개별 취향을 잘 반영합니다.\n",
        "- 단점:\n",
        "  - 아이템의 모든 속성을 정의하고 분석하는 것이 어려울 수 있습니다.\n",
        "  - 사용자가 관심을 보이지 않은 속성은 추천하기 어렵습니다.\n",
        "\n",
        "협업 필터링 (Collaborative Filtering)<br>\n",
        "협업 필터링은 사용자와 아이템 간의 상호작용 데이터를 바탕으로 추천을 수행하는 방법입니다. 주로 사용자 간의 유사성 또는 아이템 간의 유사성을 이용합니다.\n",
        "- 사용자 기반 협업 필터링 (User-Based Collaborative Filtering):\n",
        "  - 사용자가 유사한 다른 사용자가 좋아한 아이템을 추천합니다.\n",
        "  - 예: 사용자 A와 B가 유사하다면, B가 좋아한 아이템을 A에게 추천.\n",
        "- 아이템 기반 협업 필터링 (Item-Based Collaborative Filtering):\n",
        "  - 사용자가 이전에 좋아한 아이템과 유사한 아이템을 추천합니다.\n",
        "  - 예: 영화 X와 Y가 유사하다면, X를 본 사용자는 Y도 좋아할 가능성이 높음.\n",
        "- 잠재요인 협업 필터링 (Latent Factor Collaborative Filtering):\n",
        "  - 행렬 분해(Matrix Factorization) 기법을 사용하여 사용자와 아이템의 잠재요인을 학습합니다.\n",
        "  - 예: SVD (Singular Value Decomposition), NMF (Non-negative Matrix Factorization).\n",
        "- 장점:\n",
        "  - 아이템의 속성 정보 없이도 추천이 가능합니다.\n",
        "  - 다양한 사용자 행동 데이터를 활용하여 추천 성능이 좋습니다.\n",
        "- 단점:\n",
        "  - 새로운 사용자나 아이템에 대한 정보가 부족한 경우(콜드 스타트 문제) 추천이 어려움.\n",
        "  - 사용자나 아이템의 수가 많아질수록 계산량이 증가.\n",
        "\n",
        "하이브리드 필터링 (Hybrid Filtering)<br>\n",
        "하이브리드 필터링은 콘텐츠 기반 필터링과 협업 필터링을 결합하여 각 접근 방식의 단점을 보완하고 장점을 극대화하는 방법입니다.\n",
        "- 방법:\n",
        "  - 두 가지 방법의 결과를 결합하여 최종 추천을 생성합니다.\n",
        "  - 콘텐츠 기반 추천을 초기 단계에서 사용하고, 이후 협업 필터링을 적용하는 방법.\n",
        "  - 모델을 결합하여 새로운 하이브리드 모델을 학습하는 방법.\n",
        "- 장점:\n",
        "  - 각 방법의 장점을 결합하여 더 정확한 추천을 제공.\n",
        "  - 콜드 스타트 문제를 완화.\n",
        "  - 다양한 데이터 소스를 활용하여 추천의 다양성과 정확성 증가.\n",
        "- 단점:\n",
        "  - 구현이 복잡하고 계산 비용이 증가할 수 있음.\n",
        "  - 두 가지 방법의 적절한 조합을 찾기 어려울 수 있음."
      ],
      "metadata": {
        "id": "N3TwBx9vwoGJ"
      }
    },
    {
      "cell_type": "markdown",
      "source": [
        "## Surprise 패키지\n",
        "- 파이썬으로 작성된 추천 시스템 라이브러리로, 다양한 추천 알고리즘을 쉽게 사용할 수 있게 도와줍니다.\n",
        "- Surprise는 특히 행렬 분해(Matrix Factorization)와 같은 협업 필터링 알고리즘을 구현하는 데 강력한 기능을 제공합니다.\n",
        "- 이 패키지는 사용자-아이템 상호작용 데이터를 기반으로 추천 모델을 구축하고 평가하는 과정을 매우 단순화합니다.\n",
        "\n",
        "- Surprise 패키지의 주요 기능\n",
        "  - 다양한 알고리즘 지원: Surprise는 다양한 추천 알고리즘을 제공합니다. 대표적인 알고리즘으로는 다음이 있습니다.\n",
        "    - 기본 알고리즘: NormalPredictor\n",
        "    - 협업 필터링: KNNBasic, KNNWithMeans, KNNBaseline\n",
        "    - 행렬 분해: SVD, SVD++, NMF\n",
        "    - 베이스라인 알고리즘: BaselineOnly\n",
        "  - 사용자 정의 데이터셋 지원: Surprise는 내장된 데이터셋 외에도 사용자 정의 데이터셋을 로드할 수 있는 기능을 제공합니다. CSV 파일이나 데이터프레임을 로드하여 사용할 수 있습니다.\n",
        "  - 모델 평가: Surprise는 다양한 평가 지표를 제공합니다. RMSE, MAE와 같은 지표를 사용하여 모델 성능을 평가할 수 있습니다. 또한, 교차 검증(Cross-validation)과 같은 평가 방법도 지원합니다.\n",
        "  - 쉽고 직관적인 API: Surprise는 간단하고 직관적인 API를 제공하여 추천 시스템을 쉽게 구현할 수 있도록 도와줍니다.\n",
        "\n",
        "- Surprise 패키지의 주요 모듈\n",
        "  - Dataset 모듈:\n",
        "    - Dataset.load_builtin(name): 내장된 데이터셋을 로드합니다.\n",
        "    - Dataset.load_from_file(file_path, reader): 파일로부터 데이터셋을 로드합니다.\n",
        "    - Dataset.load_from_df(df, reader): 데이터프레임으로부터 데이터셋을 로드합니다.\n",
        "  - Reader 모듈:\n",
        "    - Reader(line_format, sep, rating_scale): 사용자 정의 데이터셋을 로드할 때 사용되는 클래스입니다.\n",
        "  - Trainset 클래스:\n",
        "    - build_full_trainset(): 전체 데이터셋을 학습 데이터로 사용합니다.\n",
        "    - build_testset(): 전체 데이터셋을 테스트 데이터로 사용합니다.\n",
        "  - Prediction 모듈:\n",
        "    - accuracy.rmse(predictions): RMSE를 계산합니다.\n",
        "    - accuracy.mae(predictions): MAE를 계산합니다."
      ],
      "metadata": {
        "id": "8tcnOBJew5Xw"
      }
    },
    {
      "cell_type": "code",
      "execution_count": 2,
      "metadata": {
        "colab": {
          "base_uri": "https://localhost:8080/"
        },
        "id": "uvsa9N0Owl0X",
        "outputId": "0ff5a28c-9881-4268-fb13-6f97bf8593ad"
      },
      "outputs": [
        {
          "output_type": "stream",
          "name": "stdout",
          "text": [
            "Collecting scikit-surprise\n",
            "  Downloading scikit_surprise-1.1.4.tar.gz (154 kB)\n",
            "\u001b[?25l     \u001b[90m━━━━━━━━━━━━━━━━━━━━━━━━━━━━━━━━━━━━━━━━\u001b[0m \u001b[32m0.0/154.4 kB\u001b[0m \u001b[31m?\u001b[0m eta \u001b[36m-:--:--\u001b[0m\r\u001b[2K     \u001b[91m━━━━━━━━━━━━━━━━━━━━━━━━━━━━━━━━━━━━━━━\u001b[0m\u001b[91m╸\u001b[0m \u001b[32m153.6/154.4 kB\u001b[0m \u001b[31m6.1 MB/s\u001b[0m eta \u001b[36m0:00:01\u001b[0m\r\u001b[2K     \u001b[90m━━━━━━━━━━━━━━━━━━━━━━━━━━━━━━━━━━━━━━━━\u001b[0m \u001b[32m154.4/154.4 kB\u001b[0m \u001b[31m3.8 MB/s\u001b[0m eta \u001b[36m0:00:00\u001b[0m\n",
            "\u001b[?25h  Installing build dependencies ... \u001b[?25l\u001b[?25hdone\n",
            "  Getting requirements to build wheel ... \u001b[?25l\u001b[?25hdone\n",
            "  Preparing metadata (pyproject.toml) ... \u001b[?25l\u001b[?25hdone\n",
            "Requirement already satisfied: joblib>=1.2.0 in /usr/local/lib/python3.10/dist-packages (from scikit-surprise) (1.4.2)\n",
            "Requirement already satisfied: numpy>=1.19.5 in /usr/local/lib/python3.10/dist-packages (from scikit-surprise) (1.26.4)\n",
            "Requirement already satisfied: scipy>=1.6.0 in /usr/local/lib/python3.10/dist-packages (from scikit-surprise) (1.13.1)\n",
            "Building wheels for collected packages: scikit-surprise\n",
            "  Building wheel for scikit-surprise (pyproject.toml) ... \u001b[?25l\u001b[?25hdone\n",
            "  Created wheel for scikit-surprise: filename=scikit_surprise-1.1.4-cp310-cp310-linux_x86_64.whl size=2357246 sha256=70853284c0350965281d43b723c6a370d1057862ec24859abdb9ace35979931f\n",
            "  Stored in directory: /root/.cache/pip/wheels/4b/3f/df/6acbf0a40397d9bf3ff97f582cc22fb9ce66adde75bc71fd54\n",
            "Successfully built scikit-surprise\n",
            "Installing collected packages: scikit-surprise\n",
            "Successfully installed scikit-surprise-1.1.4\n"
          ]
        }
      ],
      "source": [
        "%pip install scikit-surprise"
      ]
    },
    {
      "cell_type": "markdown",
      "source": [
        "Surprise 패키지에서 제공하는 MovieLens 100k 데이터셋\n",
        "\n",
        "raw_ratings 속성을 사용하여 데이터셋의 원시 평점 데이터를 가져옵니다. 이 데이터는 사용자 ID, 아이템 ID, 평점, 타임스탬프로 구성된 튜플의 리스트입니다."
      ],
      "metadata": {
        "id": "pp5gSflo05-i"
      }
    },
    {
      "cell_type": "code",
      "source": [
        "import pandas as pd\n",
        "from surprise import Dataset\n",
        "\n",
        "# MovieLens 100k 데이터셋 로드\n",
        "data = Dataset.load_builtin('ml-100k')\n",
        "\n",
        "# Surprise 데이터셋의 raw_ratings 속성을 사용하여 데이터 확인\n",
        "raw_ratings = data.raw_ratings\n",
        "\n",
        "# raw_ratings를 DataFrame으로 변환\n",
        "df = pd.DataFrame(raw_ratings, columns=['user_id', 'item_id', 'rating', 'timestamp'])\n",
        "\n",
        "# 데이터 확인\n",
        "print(df.head())"
      ],
      "metadata": {
        "colab": {
          "base_uri": "https://localhost:8080/"
        },
        "id": "jc6BhumRwylx",
        "outputId": "27ad18cc-36f2-4d26-f126-d83c6cc2c821"
      },
      "execution_count": 3,
      "outputs": [
        {
          "output_type": "stream",
          "name": "stdout",
          "text": [
            "Dataset ml-100k could not be found. Do you want to download it? [Y/n] ㅛ\n",
            "Dataset ml-100k could not be found. Do you want to download it? [Y/n] y\n",
            "Trying to download dataset from https://files.grouplens.org/datasets/movielens/ml-100k.zip...\n",
            "Done! Dataset ml-100k has been saved to /root/.surprise_data/ml-100k\n",
            "  user_id item_id  rating  timestamp\n",
            "0     196     242     3.0  881250949\n",
            "1     186     302     3.0  891717742\n",
            "2      22     377     1.0  878887116\n",
            "3     244      51     2.0  880606923\n",
            "4     166     346     1.0  886397596\n"
          ]
        }
      ]
    },
    {
      "cell_type": "code",
      "source": [
        "df.info()"
      ],
      "metadata": {
        "colab": {
          "base_uri": "https://localhost:8080/"
        },
        "id": "93ld_JMJwyjB",
        "outputId": "03f3ddbd-45b1-4800-a5a4-06d5e09e0559"
      },
      "execution_count": 4,
      "outputs": [
        {
          "output_type": "stream",
          "name": "stdout",
          "text": [
            "<class 'pandas.core.frame.DataFrame'>\n",
            "RangeIndex: 100000 entries, 0 to 99999\n",
            "Data columns (total 4 columns):\n",
            " #   Column     Non-Null Count   Dtype  \n",
            "---  ------     --------------   -----  \n",
            " 0   user_id    100000 non-null  object \n",
            " 1   item_id    100000 non-null  object \n",
            " 2   rating     100000 non-null  float64\n",
            " 3   timestamp  100000 non-null  object \n",
            "dtypes: float64(1), object(3)\n",
            "memory usage: 3.1+ MB\n"
          ]
        }
      ]
    },
    {
      "cell_type": "markdown",
      "source": [
        "NormalPredictor:\n",
        "- 사용자나 아이템의 특성을 고려하지 않고, 단순히 평점의 분포를 기반으로 임의의 예측을 수행합니다. 평점의 평균과 표준편차를 사용하여 임의의 예측 값을 생성합니다.\n",
        "- 실제 추천 시스템에서는 잘 사용되지 않지만, 비교 기준으로 사용할 수 있습니다.\n",
        "- 데이터 형태: 사용자 ID, 아이템 ID, 평점, 타임스탬프\n",
        "- 작동 방식: 주어진 데이터의 평균과 표준편차를 기반으로 무작위 예측을 수행합니다."
      ],
      "metadata": {
        "id": "XXtC6UPY2JFX"
      }
    },
    {
      "cell_type": "code",
      "source": [
        "from surprise import Dataset, NormalPredictor\n",
        "from surprise.model_selection import train_test_split\n",
        "from surprise import accuracy\n",
        "\n",
        "# 데이터 로드 및 준비\n",
        "data = Dataset.load_builtin('ml-100k')\n",
        "trainset, testset = train_test_split(data, test_size=0.25)\n",
        "\n",
        "# NormalPredictor 모델\n",
        "algo = NormalPredictor()\n",
        "algo.fit(trainset)\n",
        "\n",
        "# 예측 및 평가\n",
        "predictions = algo.test(testset)\n",
        "print('Nomal Predictor RMSE:', accuracy.rmse(predictions))"
      ],
      "metadata": {
        "colab": {
          "base_uri": "https://localhost:8080/"
        },
        "id": "XEuQml4zwygq",
        "outputId": "dcd3402a-3096-420c-9105-ee1704c6b7bc"
      },
      "execution_count": 5,
      "outputs": [
        {
          "output_type": "stream",
          "name": "stdout",
          "text": [
            "RMSE: 1.5230\n",
            "Nomal Predictor RMSE: 1.52297560621774\n"
          ]
        }
      ]
    },
    {
      "cell_type": "markdown",
      "source": [
        "KNNBasic:\n",
        "- 사용자 기반 또는 아이템 기반의 최근접 이웃 협업 필터링을 수행합니다. 사용자가 유사한 사용자 또는 유사한 아이템을 찾고, 그들의 평점을 기반으로 추천합니다.\n",
        "- 데이터 형태: 사용자 ID, 아이템 ID, 평점, 타임스탬프\n",
        "- 작동 방식: 유사도를 계산하여 최근접 이웃을 찾고, 이웃의 평점을 기반으로 예측합니다."
      ],
      "metadata": {
        "id": "JMQMhjte6wse"
      }
    },
    {
      "cell_type": "code",
      "source": [
        "from surprise import KNNBasic\n",
        "\n",
        "# KNNBasic 모델\n",
        "algo_knnbasic = KNNBasic()\n",
        "algo_knnbasic.fit(trainset)\n",
        "\n",
        "# 예측 및 평가\n",
        "predictions_knnbasic = algo_knnbasic.test(testset)\n",
        "print('KNNBasic RMSE:', accuracy.rmse(predictions_knnbasic))"
      ],
      "metadata": {
        "colab": {
          "base_uri": "https://localhost:8080/"
        },
        "id": "-jBluLjYwydQ",
        "outputId": "a6dff025-5233-4d9a-e1c8-fb14f10fa67d"
      },
      "execution_count": 6,
      "outputs": [
        {
          "output_type": "stream",
          "name": "stdout",
          "text": [
            "Computing the msd similarity matrix...\n",
            "Done computing similarity matrix.\n",
            "RMSE: 0.9882\n",
            "KNNBasic RMSE: 0.9881752898199566\n"
          ]
        }
      ]
    },
    {
      "cell_type": "markdown",
      "source": [
        "KNNWithMeans\n",
        "- KNNWithMeans는 KNNBasic과 유사하지만, 각 사용자의 평균 평점을 고려하여 평점을 예측합니다.\n",
        "- 데이터 형태: 사용자 ID, 아이템 ID, 평점, 타임스탬프\n",
        "- 작동 방식: 유사도를 계산하여 최근접 이웃을 찾고, 이웃의 평점과 평균 평점을 사용하여 예측합니다."
      ],
      "metadata": {
        "id": "iYjWAH9f8Fa-"
      }
    },
    {
      "cell_type": "code",
      "source": [
        "from surprise import KNNWithMeans\n",
        "\n",
        "# KNNWithMeans 모델\n",
        "algo_knnmeans = KNNWithMeans()\n",
        "algo_knnmeans.fit(trainset)\n",
        "\n",
        "# 예측 및 평가\n",
        "predictions_knnmeans = algo_knnmeans.test(testset)\n",
        "rmse = accuracy.rmse(predictions_knnmeans, verbose=False)\n",
        "print('KNNWithMeans RMSE:', rmse)"
      ],
      "metadata": {
        "colab": {
          "base_uri": "https://localhost:8080/"
        },
        "id": "Q4GkSNWXwybJ",
        "outputId": "e6fe9ae4-8061-470e-c212-a520d996d120"
      },
      "execution_count": 7,
      "outputs": [
        {
          "output_type": "stream",
          "name": "stdout",
          "text": [
            "Computing the msd similarity matrix...\n",
            "Done computing similarity matrix.\n",
            "KNNWithMeans RMSE: 0.9557080233355244\n"
          ]
        }
      ]
    },
    {
      "cell_type": "markdown",
      "source": [
        "SVD (Singular Value Decomposition):\n",
        "- SVD는 행렬 분해 기반의 협업 필터링 알고리즘입니다. 사용자-아이템 평점 행렬을 분해하여 잠재 요인을 추출하고 이를 기반으로 평점을 예측합니다.\n",
        "- 데이터 형태: 사용자 ID, 아이템 ID, 평점, 타임스탬프\n",
        "- 작동 방식: 행렬 분해를 통해 사용자와 아이템의 잠재 요인을 학습하고, 이를 사용하여 평점을 예측합니다."
      ],
      "metadata": {
        "id": "iT4O1dmU8JX-"
      }
    },
    {
      "cell_type": "code",
      "source": [
        "from surprise import SVD\n",
        "\n",
        "# SVD 모델\n",
        "algo_svd = SVD()\n",
        "algo_svd.fit(trainset)\n",
        "\n",
        "# 예측 및 평가\n",
        "predictions_svd = algo_svd.test(testset)\n",
        "rmse = accuracy.rmse(predictions_svd, verbose=False)\n",
        "print('SVD RMSE:', rmse)"
      ],
      "metadata": {
        "colab": {
          "base_uri": "https://localhost:8080/"
        },
        "id": "C4XI_8iawyXY",
        "outputId": "3ececd55-5bb7-4a94-84a1-16cf51b57d77"
      },
      "execution_count": 8,
      "outputs": [
        {
          "output_type": "stream",
          "name": "stdout",
          "text": [
            "SVD RMSE: 0.9417782399825123\n"
          ]
        }
      ]
    },
    {
      "cell_type": "markdown",
      "source": [
        "NMF (Non-negative Matrix Factorization):\n",
        "- 비음수 행렬 분해를 사용하는 알고리즘으로, 사용자와 아이템의 잠재 요인을 추출합니다.\n",
        "- 데이터 형태: 사용자 ID, 아이템 ID, 평점, 타임스탬프\n",
        "- 작동 방식: 행렬 분해를 통해 비음수 잠재 요인을 학습하고, 이를 사용하여 평점을 예측합니다."
      ],
      "metadata": {
        "id": "PsTneonZ8UAG"
      }
    },
    {
      "cell_type": "code",
      "source": [
        "from surprise import NMF\n",
        "\n",
        "# NMF 모델\n",
        "algo_nmf = NMF()\n",
        "algo_nmf.fit(trainset)\n",
        "\n",
        "# 예측 및 평가\n",
        "predictions_nmf = algo_nmf.test(testset)\n",
        "rmse = accuracy.rmse(predictions_nmf, verbose=False)\n",
        "print('NMF RMSE:', rmse)"
      ],
      "metadata": {
        "colab": {
          "base_uri": "https://localhost:8080/"
        },
        "id": "DB6CXLEkwyVY",
        "outputId": "487fb93f-8a40-4ce5-c518-c9d248596110"
      },
      "execution_count": 9,
      "outputs": [
        {
          "output_type": "stream",
          "name": "stdout",
          "text": [
            "NMF RMSE: 0.9710242939563448\n"
          ]
        }
      ]
    },
    {
      "cell_type": "code",
      "source": [
        "# 모든 영화에 대해 예측\n",
        "user_id = '196'\n",
        "items = trainset.all_items()\n",
        "inner_id_list = [lid for lid in items]\n",
        "raw_id_list = [trainset.to_raw_iid(iid) for iid in inner_id_list]\n",
        "\n",
        "predictions = [algo.predict(user_id, raw_id) for raw_id in raw_id_list]\n",
        "\n",
        "# 예측된 평점 순으로 정렬\n",
        "predictions.sort(key=lambda x: x.est, reverse=True)\n",
        "\n",
        "# 상위 10개의 추천 영화 출력\n",
        "top_n = 10\n",
        "for pred in predictions[:top_n]:\n",
        "    print(f\"Movide: {pred.iid}, Estimated Rating: {pred.est}\")"
      ],
      "metadata": {
        "colab": {
          "base_uri": "https://localhost:8080/"
        },
        "id": "pWcAvFu7wyTY",
        "outputId": "eefa1d02-4651-422a-dd5d-7db38de94057"
      },
      "execution_count": 10,
      "outputs": [
        {
          "output_type": "stream",
          "name": "stdout",
          "text": [
            "Movide: 767, Estimated Rating: 5\n",
            "Movide: 72, Estimated Rating: 5\n",
            "Movide: 590, Estimated Rating: 5\n",
            "Movide: 419, Estimated Rating: 5\n",
            "Movide: 255, Estimated Rating: 5\n",
            "Movide: 100, Estimated Rating: 5\n",
            "Movide: 358, Estimated Rating: 5\n",
            "Movide: 125, Estimated Rating: 5\n",
            "Movide: 689, Estimated Rating: 5\n",
            "Movide: 323, Estimated Rating: 5\n"
          ]
        }
      ]
    },
    {
      "cell_type": "markdown",
      "source": [
        "추천 시스템 구현\n",
        "\n",
        "KNNBasic 알고리즘을 사용하여 추천 모델을 훈련합니다."
      ],
      "metadata": {
        "id": "dM4c_xlFCBLS"
      }
    },
    {
      "cell_type": "code",
      "source": [
        "algo = KNNBasic() # 디폴트는 user_based=True 유사한 사용자를 찾아 이들의 평점을 기반으로 예측\n",
        "                  # user_based=False 유사한 아이템을 찾아 사용자가 해당 아이템에 매긴 평점을 기반으로 예측\n",
        "\n",
        "# 모델훈련\n",
        "algo.fit(trainset)"
      ],
      "metadata": {
        "colab": {
          "base_uri": "https://localhost:8080/"
        },
        "id": "tWxQduiFwyRg",
        "outputId": "ec3f99f6-ba27-426b-d2bb-48a14769bb41"
      },
      "execution_count": 11,
      "outputs": [
        {
          "output_type": "stream",
          "name": "stdout",
          "text": [
            "Computing the msd similarity matrix...\n",
            "Done computing similarity matrix.\n"
          ]
        },
        {
          "output_type": "execute_result",
          "data": {
            "text/plain": [
              "<surprise.prediction_algorithms.knns.KNNBasic at 0x7ea8fc84edd0>"
            ]
          },
          "metadata": {},
          "execution_count": 11
        }
      ]
    },
    {
      "cell_type": "markdown",
      "source": [
        "Surprise의 SVD 알고리즘을 사용하여 모델을 훈련시키고 평가"
      ],
      "metadata": {
        "id": "GSScZ470DFv0"
      }
    },
    {
      "cell_type": "code",
      "source": [
        "from surprise import SVD\n",
        "from surprise import Dataset\n",
        "from surprise.model_selection import cross_validate\n",
        "\n",
        "# 데이터셋 로드\n",
        "data = Dataset.load_builtin('ml-100k')\n",
        "\n",
        "# SVD 알고리즘 정의\n",
        "algo = SVD()\n",
        "\n",
        "# 교차 검증 수행\n",
        "cross_validate(algo, data, measures=['RMSE', 'MAE'], cv=5, verbose=True)\n",
        "\n",
        "# 모든 영화에 대해 예측\n",
        "user_id = '196'\n",
        "items = trainset.all_items()\n",
        "inner_id_list = [lid for lid in items]\n",
        "raw_id_list = [trainset.to_raw_iid(iid) for iid in inner_id_list]\n",
        "\n",
        "# 예측을 수행하여 평점 리스트 작성\n",
        "predictions = [algo.predict(user_id, raw_id) for raw_id in raw_id_list]\n",
        "\n",
        "# 예측된 평점 순으로 정렬\n",
        "predictions.sort(key=lambda x: x.est, reverse=True)\n",
        "\n",
        "# 상위 10개의 추천 영화 출력\n",
        "top_n = 10\n",
        "for pred in predictions[:top_n]:\n",
        "    print(f\"Movie: {pred.iid}, Estimated Rating: {pred.est}\")"
      ],
      "metadata": {
        "colab": {
          "base_uri": "https://localhost:8080/"
        },
        "id": "kfAaP-uCwyPZ",
        "outputId": "77d8cf98-1fd3-4737-96dc-a14d0ccbdda9"
      },
      "execution_count": 12,
      "outputs": [
        {
          "output_type": "stream",
          "name": "stdout",
          "text": [
            "Evaluating RMSE, MAE of algorithm SVD on 5 split(s).\n",
            "\n",
            "                  Fold 1  Fold 2  Fold 3  Fold 4  Fold 5  Mean    Std     \n",
            "RMSE (testset)    0.9306  0.9379  0.9369  0.9405  0.9360  0.9364  0.0033  \n",
            "MAE (testset)     0.7340  0.7382  0.7388  0.7416  0.7355  0.7376  0.0027  \n",
            "Fit time          1.50    2.25    1.69    1.53    1.53    1.70    0.28    \n",
            "Test time         0.26    0.23    0.13    0.26    0.12    0.20    0.06    \n",
            "Movie: 483, Estimated Rating: 4.614091263469661\n",
            "Movie: 114, Estimated Rating: 4.547950021788373\n",
            "Movie: 48, Estimated Rating: 4.474586370675064\n",
            "Movie: 169, Estimated Rating: 4.452763460676224\n",
            "Movie: 663, Estimated Rating: 4.444950400390013\n",
            "Movie: 603, Estimated Rating: 4.441886648915789\n",
            "Movie: 318, Estimated Rating: 4.4019558114346715\n",
            "Movie: 657, Estimated Rating: 4.38264917895788\n",
            "Movie: 654, Estimated Rating: 4.368647135900273\n",
            "Movie: 408, Estimated Rating: 4.361260975966601\n"
          ]
        }
      ]
    },
    {
      "cell_type": "markdown",
      "source": [
        "SVD를 사용한 영화 추천 시스템 구현"
      ],
      "metadata": {
        "id": "hoC8FlCNb6hd"
      }
    },
    {
      "cell_type": "code",
      "source": [
        "import pandas as pd\n",
        "from surprise import SVD, Dataset, Reader, accuracy\n",
        "from surprise.dataset import DatasetAutoFolds\n",
        "from google.colab import drive\n",
        "\n",
        "# Google Drive 마운트\n",
        "drive.mount('/content/drive')\n",
        "\n",
        "# CSV 파일 경로 설정\n",
        "ratings_file_path = '/content/ratings.csv'\n",
        "movies_file_path = '/content/movies.csv'\n",
        "\n",
        "# ratings 데이터 로드\n",
        "ratings = pd.read_csv(ratings_file_path)\n",
        "\n",
        "# DatasetAutoFolds 클래스를 ratings.csv 파일 기반으로 생성\n",
        "reader = Reader(line_format='user item rating timestamp', sep=',', rating_scale=(0.5, 5.0))\n",
        "data_folds = DatasetAutoFolds(ratings_file='/content/ratings_noh.csv', reader=reader)\n",
        "\n",
        "# 전체 데이터를 학습 데이터로 생성\n",
        "trainset = data_folds.build_full_trainset()\n",
        "algo = SVD(n_epochs=20, n_factors=50, random_state=0)\n",
        "algo.fit(trainset)\n",
        "\n",
        "# movies 데이터 로드\n",
        "movies = pd.read_csv(movies_file_path)\n",
        "\n",
        "# userId=9 의 movieId 데이터 추출하여 movieId=42 데이터가 있는지 확인\n",
        "movieIds = ratings[ratings['userId'] == 9]['movieId']\n",
        "\n",
        "if movieIds[movieIds == 42].count() == 0:\n",
        "    print('사용자 아이디 9는 영화 아이디 42의 평점 없음')\n",
        "\n",
        "print(movies[movies['movieId'] == 42])\n",
        "\n",
        "uid = str(9)\n",
        "iid = str(42)\n",
        "\n",
        "pred = algo.predict(uid, iid, verbose=True)\n",
        "print(ratings[ratings['userId'] == 9]['movieId'].tolist())\n",
        "\n",
        "# 사용자가 보지 않은 영화 목록 생성 함수\n",
        "def get_unseen_surprise(ratings, movies, userId):\n",
        "    seen_movies = ratings[ratings['userId'] == userId]['movieId'].tolist()\n",
        "    total_movies = movies['movieId'].tolist()\n",
        "    unseen_movies = [movie for movie in total_movies if movie not in seen_movies]\n",
        "    print('평점 매긴 영화수:', len(seen_movies), '추천대상 영화수:', len(unseen_movies), '전체 영화수:', len(total_movies))\n",
        "    return unseen_movies\n",
        "\n",
        "unseen_movies = get_unseen_surprise(ratings, movies, 9)\n",
        "\n",
        "# 영화 추천 함수\n",
        "def recomm_movie_by_surprise(algo, userId, unseen_movies, top_n=10):\n",
        "    predictions = [algo.predict(str(userId), str(movieId)) for movieId in unseen_movies]\n",
        "\n",
        "    def sortkey_est(pred):\n",
        "        return pred.est\n",
        "\n",
        "    predictions.sort(key=sortkey_est, reverse=True)\n",
        "    top_predictions = predictions[:top_n]\n",
        "\n",
        "    top_movie_ids = [int(pred.iid) for pred in top_predictions]\n",
        "    top_movie_rating = [pred.est for pred in top_predictions]\n",
        "    top_movie_titles = movies[movies.movieId.isin(top_movie_ids)]['title']\n",
        "    top_movie_preds = [(id, title, rating) for id, title, rating in zip(top_movie_ids, top_movie_titles, top_movie_rating)]\n",
        "\n",
        "    return top_movie_preds\n",
        "\n",
        "unseen_movies = get_unseen_surprise(ratings, movies, 9)\n",
        "top_movie_preds = recomm_movie_by_surprise(algo, 9, unseen_movies, top_n=10)\n",
        "\n",
        "print('##### Top-10 추천 영화 리스트 #####')\n",
        "for top_movie in top_movie_preds:\n",
        "    print(top_movie[1], \":\", top_movie[2])\n"
      ],
      "metadata": {
        "colab": {
          "base_uri": "https://localhost:8080/"
        },
        "id": "SuBGDZ4DwyNg",
        "outputId": "81689497-4a9a-4e66-e44e-645b3d7d7bdd"
      },
      "execution_count": 14,
      "outputs": [
        {
          "output_type": "stream",
          "name": "stdout",
          "text": [
            "Drive already mounted at /content/drive; to attempt to forcibly remount, call drive.mount(\"/content/drive\", force_remount=True).\n",
            "사용자 아이디 9는 영화 아이디 42의 평점 없음\n",
            "    movieId                   title              genres\n",
            "38       42  Dead Presidents (1995)  Action|Crime|Drama\n",
            "user: 9          item: 42         r_ui = None   est = 3.13   {'was_impossible': False}\n",
            "[41, 187, 223, 371, 627, 922, 923, 1037, 1095, 1198, 1270, 1674, 1987, 2011, 2012, 2023, 2300, 2877, 2901, 3173, 3328, 3735, 4131, 4558, 4993, 5218, 5378, 5445, 5447, 5451, 5481, 5507, 5841, 5843, 5872, 5890, 5891, 5893, 5902, 5952, 5956, 5962, 5965, 5988, 6001, 6044]\n",
            "평점 매긴 영화수: 46 추천대상 영화수: 9696 전체 영화수: 9742\n",
            "평점 매긴 영화수: 46 추천대상 영화수: 9696 전체 영화수: 9742\n",
            "##### Top-10 추천 영화 리스트 #####\n",
            "Usual Suspects, The (1995) : 4.306302135700814\n",
            "Star Wars: Episode IV - A New Hope (1977) : 4.281663842987387\n",
            "Pulp Fiction (1994) : 4.278152632122759\n",
            "Silence of the Lambs, The (1991) : 4.226073566460876\n",
            "Godfather, The (1972) : 4.1918097904381995\n",
            "Streetcar Named Desire, A (1951) : 4.154746591122657\n",
            "Star Wars: Episode V - The Empire Strikes Back (1980) : 4.122016128534504\n",
            "Star Wars: Episode VI - Return of the Jedi (1983) : 4.108009609093436\n",
            "Goodfellas (1990) : 4.083464936588478\n",
            "Glory (1989) : 4.07887165526957\n"
          ]
        }
      ]
    }
  ]
}