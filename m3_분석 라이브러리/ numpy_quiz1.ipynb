{
  "cells": [
    {
      "cell_type": "markdown",
      "metadata": {
        "id": "view-in-github",
        "colab_type": "text"
      },
      "source": [
        "<a href=\"https://colab.research.google.com/github/windyday0622/windyday/blob/main/m3_%EB%B6%84%EC%84%9D%20%EB%9D%BC%EC%9D%B4%EB%B8%8C%EB%9F%AC%EB%A6%AC/%20numpy_quiz1.ipynb\" target=\"_parent\"><img src=\"https://colab.research.google.com/assets/colab-badge.svg\" alt=\"Open In Colab\"/></a>"
      ]
    },
    {
      "cell_type": "markdown",
      "source": [
        "## Numpy Quiz1"
      ],
      "metadata": {
        "id": "RoOMFkDduWog"
      }
    },
    {
      "cell_type": "markdown",
      "source": [
        "Q1. arange(), reshape() 이용 1차원 2차원 3차원 배열 생성"
      ],
      "metadata": {
        "id": "A6oIhoWUdNJG"
      }
    },
    {
      "cell_type": "code",
      "source": [
        "import numpy as np\n",
        "\n",
        "array_1d = np.arange(10)\n",
        "print(\"1차원 배열:\\n\", array_1d)\n",
        "\n",
        "array_2d = array_1d.reshape((2, 5))\n",
        "print(\"2차원 배열:\\n\", array_2d)\n",
        "\n",
        "array_3d = array_1d.reshape((1, 2, 5))\n",
        "print(\"3차원 배열:\\n\", array_3d)"
      ],
      "metadata": {
        "id": "QXZMZJ59wP79",
        "colab": {
          "base_uri": "https://localhost:8080/"
        },
        "outputId": "ea203501-3ed7-4644-ac1b-67cc99f18c56"
      },
      "execution_count": null,
      "outputs": [
        {
          "output_type": "stream",
          "name": "stdout",
          "text": [
            "1차원 배열:\n",
            " [0 1 2 3 4 5 6 7 8 9]\n",
            "2차원 배열:\n",
            " [[0 1 2 3 4]\n",
            " [5 6 7 8 9]]\n",
            "3차원 배열:\n",
            " [[[0 1 2 3 4]\n",
            "  [5 6 7 8 9]]]\n"
          ]
        }
      ]
    },
    {
      "cell_type": "markdown",
      "source": [
        "Q2. reshape(-1,-1)을 이용 1차원을 2차원, 3차원으로 2차원을 1차원 3차원으로 3차원을 1차원 2차원으로 변환"
      ],
      "metadata": {
        "id": "761tjFT9dZg5"
      }
    },
    {
      "cell_type": "code",
      "source": [
        "import numpy as np\n",
        "\n",
        "array_1d = np.array([1, 2, 3, 4, 5, 6])\n",
        "\n",
        "array_2d = array_1d.reshape(2, 3)\n",
        "print(array_2d)\n",
        "\n",
        "array_3d = array_1d.reshape(2, 1, 3)\n",
        "print(array_3d)\n",
        "\n",
        "\n",
        "array_2d = np.array([[1, 2, 3], [4, 5, 6]])\n",
        "\n",
        "array_1d = array_2d.reshape(-1)\n",
        "print(array_1d)\n",
        "\n",
        "array_3d = array_2d.reshape(2, 1, 3)\n",
        "print(array_3d)\n",
        "\n",
        "\n",
        "array_3d = np.array([[[1, 2, 3], [4, 5, 6]], [[7, 8, 9], [10, 11, 12]]])\n",
        "\n",
        "array_1d = array_3d.reshape(-1)\n",
        "print(array_1d)\n",
        "\n",
        "array_2d = array_3d.reshape(4, 3)\n",
        "print(array_2d)"
      ],
      "metadata": {
        "id": "l0lNaxrqwQ6T",
        "colab": {
          "base_uri": "https://localhost:8080/"
        },
        "outputId": "3e75bca6-382b-456c-ac2d-02af062b28df"
      },
      "execution_count": null,
      "outputs": [
        {
          "output_type": "stream",
          "name": "stdout",
          "text": [
            "[[1 2 3]\n",
            " [4 5 6]]\n",
            "[[[1 2 3]]\n",
            "\n",
            " [[4 5 6]]]\n",
            "[1 2 3 4 5 6]\n",
            "[[[1 2 3]]\n",
            "\n",
            " [[4 5 6]]]\n",
            "[ 1  2  3  4  5  6  7  8  9 10 11 12]\n",
            "[[ 1  2  3]\n",
            " [ 4  5  6]\n",
            " [ 7  8  9]\n",
            " [10 11 12]]\n"
          ]
        }
      ]
    },
    {
      "cell_type": "markdown",
      "source": [
        "Q3. Q1 1차원 배열을 실수형으로 변환"
      ],
      "metadata": {
        "id": "zSZkXeKydhb0"
      }
    },
    {
      "cell_type": "code",
      "source": [
        "import numpy as np\n",
        "\n",
        "array_1d = np.arange(10)\n",
        "\n",
        "float_array_1d = array_1d.astype(float)\n",
        "\n",
        "print(\"실수형 1차원 배열:\\n\", float_array_1d)"
      ],
      "metadata": {
        "id": "qjj2Xg89wRY7",
        "colab": {
          "base_uri": "https://localhost:8080/"
        },
        "outputId": "c228b2a1-9b64-437c-dc00-2203114b0cc6"
      },
      "execution_count": null,
      "outputs": [
        {
          "output_type": "stream",
          "name": "stdout",
          "text": [
            "실수형 1차원 배열:\n",
            " [0. 1. 2. 3. 4. 5. 6. 7. 8. 9.]\n"
          ]
        }
      ]
    },
    {
      "cell_type": "markdown",
      "source": [
        "Q4. Q1 1차원 배열의 dtype을 확인"
      ],
      "metadata": {
        "id": "Rm-fFE20ds8N"
      }
    },
    {
      "cell_type": "code",
      "source": [
        "import numpy as np\n",
        "\n",
        "arr = np.array([1, 2, 3, 4, 5])\n",
        "\n",
        "print(arr.dtype)"
      ],
      "metadata": {
        "id": "3rLbXHhdwR3U",
        "colab": {
          "base_uri": "https://localhost:8080/"
        },
        "outputId": "682d6bd4-dacc-4281-b85e-b8e9b488effb"
      },
      "execution_count": null,
      "outputs": [
        {
          "output_type": "stream",
          "name": "stdout",
          "text": [
            "int64\n"
          ]
        }
      ]
    },
    {
      "cell_type": "markdown",
      "source": [
        "Q5. 주어진 배열에서 음수 값을 모두 0으로 변경하세요.\n",
        "\n",
        "arr = np.array([-5, -3, -1, 0, 1, 3, 5])"
      ],
      "metadata": {
        "id": "nMX4Xp7Md3_1"
      }
    },
    {
      "cell_type": "code",
      "source": [
        "import numpy as np\n",
        "\n",
        "arr = np.array([-5, -3, -1, 0, 1, 3, 5])\n",
        "\n",
        "arr[arr < 0] = 0\n",
        "\n",
        "print(arr)"
      ],
      "metadata": {
        "id": "AWWRAHJfwSaM",
        "colab": {
          "base_uri": "https://localhost:8080/"
        },
        "outputId": "65167e51-647a-4ffb-a822-df15dd54a40a"
      },
      "execution_count": null,
      "outputs": [
        {
          "output_type": "stream",
          "name": "stdout",
          "text": [
            "[0 0 0 0 1 3 5]\n"
          ]
        }
      ]
    },
    {
      "cell_type": "markdown",
      "source": [
        "Q6. 1 ~ 100 까지 배열에서 3의 배수인 것만을 출력"
      ],
      "metadata": {
        "id": "NMOy9R4Cd_3v"
      }
    },
    {
      "cell_type": "code",
      "source": [
        "import numpy as np\n",
        "\n",
        "array = np.arange(1, 101)\n",
        "\n",
        "multiples_of_three = array[array % 3 == 0]\n",
        "\n",
        "print(multiples_of_three)"
      ],
      "metadata": {
        "id": "9Oh16RkQwUVE",
        "colab": {
          "base_uri": "https://localhost:8080/"
        },
        "outputId": "bfa957aa-64e4-4337-9750-c8437da13b61"
      },
      "execution_count": null,
      "outputs": [
        {
          "output_type": "stream",
          "name": "stdout",
          "text": [
            "[ 3  6  9 12 15 18 21 24 27 30 33 36 39 42 45 48 51 54 57 60 63 66 69 72\n",
            " 75 78 81 84 87 90 93 96 99]\n"
          ]
        }
      ]
    },
    {
      "cell_type": "markdown",
      "source": [
        "Q7. 1 ~ 100 까지 배열에서 5의 배수이면서 2의 배수인 것만을 출력"
      ],
      "metadata": {
        "id": "reO7jBwqeX1W"
      }
    },
    {
      "cell_type": "code",
      "source": [
        "import numpy as np\n",
        "\n",
        "arr = np.arange(1, 101)\n",
        "\n",
        "result = arr[(arr % 5 == 0) & (arr % 2 == 0)]\n",
        "\n",
        "print(result)"
      ],
      "metadata": {
        "id": "hdjt0vvYwUyU",
        "colab": {
          "base_uri": "https://localhost:8080/"
        },
        "outputId": "aaebc28b-e30f-4803-eb7c-2344904153be"
      },
      "execution_count": null,
      "outputs": [
        {
          "output_type": "stream",
          "name": "stdout",
          "text": [
            "[ 10  20  30  40  50  60  70  80  90 100]\n"
          ]
        }
      ]
    },
    {
      "cell_type": "markdown",
      "source": [
        "Q8. 1 ~ 100 까지 배열에서 3의 배수이거나 5의 배수인 것만을 출력"
      ],
      "metadata": {
        "id": "Gg-SJytKefVU"
      }
    },
    {
      "cell_type": "code",
      "source": [
        "for i in range(1, 101):\n",
        "    if i % 3 == 0 or i % 5 == 0:\n",
        "        print(i)"
      ],
      "metadata": {
        "id": "_AmNH1lfwVLc",
        "colab": {
          "base_uri": "https://localhost:8080/"
        },
        "outputId": "464c993d-89be-4356-8c4a-1d07e43a6806"
      },
      "execution_count": null,
      "outputs": [
        {
          "output_type": "stream",
          "name": "stdout",
          "text": [
            "3\n",
            "5\n",
            "6\n",
            "9\n",
            "10\n",
            "12\n",
            "15\n",
            "18\n",
            "20\n",
            "21\n",
            "24\n",
            "25\n",
            "27\n",
            "30\n",
            "33\n",
            "35\n",
            "36\n",
            "39\n",
            "40\n",
            "42\n",
            "45\n",
            "48\n",
            "50\n",
            "51\n",
            "54\n",
            "55\n",
            "57\n",
            "60\n",
            "63\n",
            "65\n",
            "66\n",
            "69\n",
            "70\n",
            "72\n",
            "75\n",
            "78\n",
            "80\n",
            "81\n",
            "84\n",
            "85\n",
            "87\n",
            "90\n",
            "93\n",
            "95\n",
            "96\n",
            "99\n",
            "100\n"
          ]
        }
      ]
    },
    {
      "cell_type": "markdown",
      "source": [
        "Q9. 101 ~ 150 사이의 정수를 랜덤하게 추출, 2행 5열 다차원 배열을 생성 후 전치하세요"
      ],
      "metadata": {
        "id": "Skud3jRrfJ2z"
      }
    },
    {
      "cell_type": "code",
      "source": [
        "import numpy as np\n",
        "\n",
        "random_numbers = np.random.randint(101, 151, size=10)\n",
        "\n",
        "array_2x5 = random_numbers.reshape(2, 5)\n",
        "\n",
        "transposed_array = array_2x5.T\n",
        "\n",
        "print(\"원본 배열 (2행 5열):\")\n",
        "print(array_2x5)\n",
        "print(\"\\n전치된 배열 (5행 2열):\")\n",
        "print(transposed_array)"
      ],
      "metadata": {
        "id": "ighNe4N2wVvE",
        "colab": {
          "base_uri": "https://localhost:8080/"
        },
        "outputId": "d324c6d6-0ebd-493e-c8de-05de753245f9"
      },
      "execution_count": null,
      "outputs": [
        {
          "output_type": "stream",
          "name": "stdout",
          "text": [
            "원본 배열 (2행 5열):\n",
            "[[121 124 120 113 146]\n",
            " [102 113 117 134 108]]\n",
            "\n",
            "전치된 배열 (5행 2열):\n",
            "[[121 102]\n",
            " [124 113]\n",
            " [120 117]\n",
            " [113 134]\n",
            " [146 108]]\n"
          ]
        }
      ]
    },
    {
      "cell_type": "markdown",
      "source": [
        "Q10. 표준정규분포로 구성된 5행 5열 다차원 배열을 생성하세요."
      ],
      "metadata": {
        "id": "CD2vUOIofTBW"
      }
    },
    {
      "cell_type": "code",
      "source": [
        "import numpy as np\n",
        "\n",
        "array = np.random.normal(loc=0, scale=1, size=(5, 5))\n",
        "\n",
        "print(array)"
      ],
      "metadata": {
        "id": "XM5goJ-cwWbE",
        "colab": {
          "base_uri": "https://localhost:8080/"
        },
        "outputId": "87a8f49f-dea0-4bc2-fcb4-9c021550679b"
      },
      "execution_count": null,
      "outputs": [
        {
          "output_type": "stream",
          "name": "stdout",
          "text": [
            "[[-0.15201838  0.57609565  0.30375304 -0.25763831 -0.48922731]\n",
            " [ 1.11642113 -0.54032564 -0.60489979  0.00455034 -0.39557179]\n",
            " [-1.31929134 -0.76360369  0.91740771  0.46707944  1.09890379]\n",
            " [-0.49313465 -1.38670327 -1.87613324  0.509768   -0.65599905]\n",
            " [ 0.67961533  1.37987322  0.3717366   0.55160966  1.11092486]]\n"
          ]
        }
      ]
    },
    {
      "cell_type": "markdown",
      "source": [
        "Q11. original_array를 1차원 배열로 변환하여 출력하세요."
      ],
      "metadata": {
        "id": "bXiDz5anfs5o"
      }
    },
    {
      "cell_type": "code",
      "source": [
        "original_array = np.array([[1, 2, 3], [4, 5, 6]])"
      ],
      "metadata": {
        "id": "YmDWSLzkftkJ"
      },
      "execution_count": null,
      "outputs": []
    },
    {
      "cell_type": "code",
      "source": [
        "import numpy as np\n",
        "\n",
        "original_array = np.array([[1, 2, 3], [4, 5, 6]])\n",
        "\n",
        "flattened_array = original_array.flatten()\n",
        "\n",
        "print(flattened_array)"
      ],
      "metadata": {
        "colab": {
          "base_uri": "https://localhost:8080/"
        },
        "id": "aqXVHg9PzG6j",
        "outputId": "66633bca-124e-49ae-c6bb-ed2f7291bb79"
      },
      "execution_count": null,
      "outputs": [
        {
          "output_type": "stream",
          "name": "stdout",
          "text": [
            "[1 2 3 4 5 6]\n"
          ]
        }
      ]
    },
    {
      "cell_type": "markdown",
      "source": [
        "Q12. 주어진 2차원 배열에서 첫 번째 행을 view로 생성하고, 이 view를 수정하여 원본 배열에 반영되도록 하세요.\n",
        "\n",
        "original_array = np.array([[1, 2, 3], [4, 5, 6]])"
      ],
      "metadata": {
        "id": "0Nep-d7VgFSW"
      }
    },
    {
      "cell_type": "code",
      "source": [
        "import numpy as np\n",
        "\n",
        "original_array = np.array([[1, 2, 3], [4, 5, 6]])\n",
        "\n",
        "view_first_row = original_array[0, :]\n",
        "\n",
        "view_first_row[0] = 10\n",
        "view_first_row[1] = 20\n",
        "view_first_row[2] = 30\n",
        "\n",
        "print(\"수정된 원본 배열:\")\n",
        "print(original_array)"
      ],
      "metadata": {
        "id": "R0xYBL37wXLM",
        "colab": {
          "base_uri": "https://localhost:8080/"
        },
        "outputId": "14be991c-d0be-4113-df61-f1c44e779e8a"
      },
      "execution_count": null,
      "outputs": [
        {
          "output_type": "stream",
          "name": "stdout",
          "text": [
            "수정된 원본 배열:\n",
            "[[10 20 30]\n",
            " [ 4  5  6]]\n"
          ]
        }
      ]
    },
    {
      "cell_type": "markdown",
      "source": [
        "Q13. 주어진 3차원 배열에서 첫 번째 2차원 배열을 view로 생성하고, 이 view를 수정하여 원본 배열에 반영되도록 하세요.\n",
        "\n",
        "original_array = np.array([[[1, 2, 3], [4, 5, 6]], [[7, 8, 9], [10, 11, 12]]])"
      ],
      "metadata": {
        "id": "Lsou3ZeIgS__"
      }
    },
    {
      "cell_type": "code",
      "source": [
        "import numpy as np\n",
        "\n",
        "original_array = np.array([[[1, 2, 3], [4, 5, 6]], [[7, 8, 9], [10, 11, 12]]])\n",
        "\n",
        "first_2d_view = original_array[0]\n",
        "\n",
        "first_2d_view[0, 0] = 99\n",
        "\n",
        "print(\"수정된 원본 배열:\")\n",
        "print(original_array)"
      ],
      "metadata": {
        "id": "JVgoibMNwXr8",
        "colab": {
          "base_uri": "https://localhost:8080/"
        },
        "outputId": "e0845b34-7b33-41af-9182-66f2b34cde75"
      },
      "execution_count": null,
      "outputs": [
        {
          "output_type": "stream",
          "name": "stdout",
          "text": [
            "수정된 원본 배열:\n",
            "[[[99  2  3]\n",
            "  [ 4  5  6]]\n",
            "\n",
            " [[ 7  8  9]\n",
            "  [10 11 12]]]\n"
          ]
        }
      ]
    },
    {
      "cell_type": "markdown",
      "source": [
        "Q14. 주어진 2차원 배열을 1차원 배열 view로 reshape하고, 이 view를 수정하여 원본 배열에 반영되도록 하세요.\n",
        "\n",
        "original_array = np.array([[1, 2, 3], [4, 5, 6]])"
      ],
      "metadata": {
        "id": "Jd8VaOGmgjhx"
      }
    },
    {
      "cell_type": "code",
      "source": [
        "import numpy as np\n",
        "\n",
        "original_array = np.array([[1, 2, 3], [4, 5, 6]])\n",
        "\n",
        "reshaped_view = original_array.reshape(-1)\n",
        "\n",
        "reshaped_view[0] = 10\n",
        "reshaped_view[5] = 60\n",
        "\n",
        "print(\"수정된 원본 배열:\")\n",
        "print(original_array)"
      ],
      "metadata": {
        "id": "xIbTCMDYwYJE",
        "colab": {
          "base_uri": "https://localhost:8080/"
        },
        "outputId": "7b861470-e320-4fc4-edef-adf785d0ad20"
      },
      "execution_count": null,
      "outputs": [
        {
          "output_type": "stream",
          "name": "stdout",
          "text": [
            "수정된 원본 배열:\n",
            "[[10  2  3]\n",
            " [ 4  5 60]]\n"
          ]
        }
      ]
    },
    {
      "cell_type": "markdown",
      "source": [
        "Q15. np.ones((10,10))을 아래와 같이 출력하세요.\n",
        "```\n",
        "[[1. 1. 1. 1. 1. 1. 1. 1. 1. 1.]\n",
        " [1. 0. 0. 0. 0. 0. 0. 0. 0. 1.]\n",
        " [1. 0. 0. 0. 0. 0. 0. 0. 0. 1.]\n",
        " [1. 0. 0. 0. 0. 0. 0. 0. 0. 1.]\n",
        " [1. 0. 0. 0. 0. 0. 0. 0. 0. 1.]\n",
        " [1. 0. 0. 0. 0. 0. 0. 0. 0. 1.]\n",
        " [1. 0. 0. 0. 0. 0. 0. 0. 0. 1.]\n",
        " [1. 0. 0. 0. 0. 0. 0. 0. 0. 1.]\n",
        " [1. 0. 0. 0. 0. 0. 0. 0. 0. 1.]\n",
        " [1. 1. 1. 1. 1. 1. 1. 1. 1. 1.]]\n",
        " ```"
      ],
      "metadata": {
        "id": "-MLdPdHGpxFv"
      }
    },
    {
      "cell_type": "code",
      "source": [
        "import numpy as np\n",
        "\n",
        "array = np.ones((10, 10))\n",
        "\n",
        "array[1:-1, 1:-1] = 0\n",
        "\n",
        "print(array)"
      ],
      "metadata": {
        "id": "ZtT6N75GwY-z",
        "colab": {
          "base_uri": "https://localhost:8080/"
        },
        "outputId": "b49341fc-72f8-40d1-c21e-21e602d64b05"
      },
      "execution_count": null,
      "outputs": [
        {
          "output_type": "stream",
          "name": "stdout",
          "text": [
            "[[1. 1. 1. 1. 1. 1. 1. 1. 1. 1.]\n",
            " [1. 0. 0. 0. 0. 0. 0. 0. 0. 1.]\n",
            " [1. 0. 0. 0. 0. 0. 0. 0. 0. 1.]\n",
            " [1. 0. 0. 0. 0. 0. 0. 0. 0. 1.]\n",
            " [1. 0. 0. 0. 0. 0. 0. 0. 0. 1.]\n",
            " [1. 0. 0. 0. 0. 0. 0. 0. 0. 1.]\n",
            " [1. 0. 0. 0. 0. 0. 0. 0. 0. 1.]\n",
            " [1. 0. 0. 0. 0. 0. 0. 0. 0. 1.]\n",
            " [1. 0. 0. 0. 0. 0. 0. 0. 0. 1.]\n",
            " [1. 1. 1. 1. 1. 1. 1. 1. 1. 1.]]\n"
          ]
        }
      ]
    },
    {
      "cell_type": "markdown",
      "source": [
        "Q16. Q. 1 ~ 100을 아래와 같이 출력하세요.\n",
        "\n",
        "```\n",
        "[[  1   2   3   4   5   6   7   8   9  10]\n",
        " [ 20  19  18  17  16  15  14  13  12  11]\n",
        " [ 21  22  23  24  25  26  27  28  29  30]\n",
        " [ 40  39  38  37  36  35  34  33  32  31]\n",
        " [ 41  42  43  44  45  46  47  48  49  50]\n",
        " [ 60  59  58  57  56  55  54  53  52  51]\n",
        " [ 61  62  63  64  65  66  67  68  69  70]\n",
        " [ 80  79  78  77  76  75  74  73  72  71]\n",
        " [ 81  82  83  84  85  86  87  88  89  90]\n",
        " [100  99  98  97  96  95  94  93  92  91]]\n",
        " ```"
      ],
      "metadata": {
        "id": "bF2o4HI6p7yS"
      }
    },
    {
      "cell_type": "code",
      "source": [
        "import numpy as np\n",
        "\n",
        "numbers = np.arange(1, 101).reshape(10, 10)\n",
        "\n",
        "for i in range(numbers.shape[0]):\n",
        "    if i % 2 != 0:\n",
        "        numbers[i] = numbers[i][::-1]\n",
        "\n",
        "print(numbers)"
      ],
      "metadata": {
        "id": "GJNezDsnwZaD",
        "colab": {
          "base_uri": "https://localhost:8080/"
        },
        "outputId": "c7232180-3344-4856-b9ad-1c525041779e"
      },
      "execution_count": null,
      "outputs": [
        {
          "output_type": "stream",
          "name": "stdout",
          "text": [
            "[[  1   2   3   4   5   6   7   8   9  10]\n",
            " [ 20  19  18  17  16  15  14  13  12  11]\n",
            " [ 21  22  23  24  25  26  27  28  29  30]\n",
            " [ 40  39  38  37  36  35  34  33  32  31]\n",
            " [ 41  42  43  44  45  46  47  48  49  50]\n",
            " [ 60  59  58  57  56  55  54  53  52  51]\n",
            " [ 61  62  63  64  65  66  67  68  69  70]\n",
            " [ 80  79  78  77  76  75  74  73  72  71]\n",
            " [ 81  82  83  84  85  86  87  88  89  90]\n",
            " [100  99  98  97  96  95  94  93  92  91]]\n"
          ]
        }
      ]
    },
    {
      "cell_type": "markdown",
      "source": [
        "Q17. np.ones((5,5))을 아래와 같이 출력하세요.\n",
        "```\n",
        "[[0., 0., 0., 0., 0., 0., 0., 0., 0.],\n",
        "       [0., 0., 0., 0., 0., 0., 0., 0., 0.],\n",
        "       [0., 0., 1., 1., 1., 1., 1., 0., 0.],\n",
        "       [0., 0., 1., 1., 1., 1., 1., 0., 0.],\n",
        "       [0., 0., 1., 1., 1., 1., 1., 0., 0.],\n",
        "       [0., 0., 1., 1., 1., 1., 1., 0., 0.],\n",
        "       [0., 0., 1., 1., 1., 1., 1., 0., 0.],\n",
        "       [0., 0., 0., 0., 0., 0., 0., 0., 0.],\n",
        "       [0., 0., 0., 0., 0., 0., 0., 0., 0.]]\n",
        "```"
      ],
      "metadata": {
        "id": "8XTX6_u2qI2p"
      }
    },
    {
      "cell_type": "code",
      "source": [
        "import numpy as np\n",
        "\n",
        "array = np.zeros((9, 9))\n",
        "\n",
        "array[2:7, 2:7] = np.ones((5, 5))\n",
        "\n",
        "print(array)"
      ],
      "metadata": {
        "id": "V2JTQrNDwZ6k",
        "colab": {
          "base_uri": "https://localhost:8080/"
        },
        "outputId": "e5014625-ce1f-4990-b826-a10f8af289f3"
      },
      "execution_count": null,
      "outputs": [
        {
          "output_type": "stream",
          "name": "stdout",
          "text": [
            "[[0. 0. 0. 0. 0. 0. 0. 0. 0.]\n",
            " [0. 0. 0. 0. 0. 0. 0. 0. 0.]\n",
            " [0. 0. 1. 1. 1. 1. 1. 0. 0.]\n",
            " [0. 0. 1. 1. 1. 1. 1. 0. 0.]\n",
            " [0. 0. 1. 1. 1. 1. 1. 0. 0.]\n",
            " [0. 0. 1. 1. 1. 1. 1. 0. 0.]\n",
            " [0. 0. 1. 1. 1. 1. 1. 0. 0.]\n",
            " [0. 0. 0. 0. 0. 0. 0. 0. 0.]\n",
            " [0. 0. 0. 0. 0. 0. 0. 0. 0.]]\n"
          ]
        }
      ]
    },
    {
      "cell_type": "markdown",
      "source": [
        "Q18. np.arange(4)을 이용해서 아래와 같이 출력하세요.\n",
        "```\n",
        "[[0, 0, 0, 0, 0],\n",
        " [1, 0, 0, 0, 0],\n",
        " [0, 2, 0, 0, 0],\n",
        " [0, 0, 3, 0, 0],\n",
        " [0, 0, 0, 4, 0]]\n",
        "```"
      ],
      "metadata": {
        "id": "a0ydxK-RqWS9"
      }
    },
    {
      "cell_type": "code",
      "source": [
        "import numpy as np\n",
        "\n",
        "matrix = np.zeros((5, 5), dtype=int)\n",
        "\n",
        "for i in range(4):\n",
        "    matrix[i+1, i] = i + 1\n",
        "\n",
        "print(matrix)"
      ],
      "metadata": {
        "id": "c-Kk1FYRwads",
        "colab": {
          "base_uri": "https://localhost:8080/"
        },
        "outputId": "4fa8e67e-d79a-49a4-edda-d068c673b7df"
      },
      "execution_count": null,
      "outputs": [
        {
          "output_type": "stream",
          "name": "stdout",
          "text": [
            "[[0 0 0 0 0]\n",
            " [1 0 0 0 0]\n",
            " [0 2 0 0 0]\n",
            " [0 0 3 0 0]\n",
            " [0 0 0 4 0]]\n"
          ]
        }
      ]
    },
    {
      "cell_type": "markdown",
      "source": [
        "Q19. Q. np.zeros((8,8))을 이용해서 아래와 같이 출력하세요(두가지 방식:인덱싱, tile 함수)\n",
        "```\n",
        "[[0, 1, 0, 1, 0, 1, 0, 1],\n",
        "[1, 0, 1, 0, 1, 0, 1, 0],\n",
        "[0, 1, 0, 1, 0, 1, 0, 1],\n",
        "[1, 0, 1, 0, 1, 0, 1, 0],\n",
        "[0, 1, 0, 1, 0, 1, 0, 1],\n",
        "[1, 0, 1, 0, 1, 0, 1, 0],\n",
        "[0, 1, 0, 1, 0, 1, 0, 1],\n",
        "[1, 0, 1, 0, 1, 0, 1, 0]]\n",
        "```"
      ],
      "metadata": {
        "id": "HeOK3cm3qr1U"
      }
    },
    {
      "cell_type": "code",
      "source": [
        "import numpy as np\n",
        "\n",
        "board = np.zeros((8, 8), dtype=int)\n",
        "\n",
        "board[1::2, ::2] = 1\n",
        "board[::2, 1::2] = 1\n",
        "\n",
        "print(board)"
      ],
      "metadata": {
        "id": "E5PnAUCywa6z",
        "colab": {
          "base_uri": "https://localhost:8080/"
        },
        "outputId": "1dd4e938-5d75-4e3e-e1c8-98b2089fcc45"
      },
      "execution_count": null,
      "outputs": [
        {
          "output_type": "stream",
          "name": "stdout",
          "text": [
            "[[0 1 0 1 0 1 0 1]\n",
            " [1 0 1 0 1 0 1 0]\n",
            " [0 1 0 1 0 1 0 1]\n",
            " [1 0 1 0 1 0 1 0]\n",
            " [0 1 0 1 0 1 0 1]\n",
            " [1 0 1 0 1 0 1 0]\n",
            " [0 1 0 1 0 1 0 1]\n",
            " [1 0 1 0 1 0 1 0]]\n"
          ]
        }
      ]
    },
    {
      "cell_type": "markdown",
      "source": [
        "Q20. np.arange(336).reshape(6,7,8)에서 100번째 요소의 인덱스를 구하세요."
      ],
      "metadata": {
        "id": "8CSHIUxPrzmE"
      }
    },
    {
      "cell_type": "code",
      "source": [
        "import numpy as np\n",
        "\n",
        "arr = np.arange(336).reshape(6, 7, 8)\n",
        "\n",
        "index = np.unravel_index(100, arr.shape)\n",
        "\n",
        "print(index)"
      ],
      "metadata": {
        "id": "VRZc6j6pwbkE",
        "colab": {
          "base_uri": "https://localhost:8080/"
        },
        "outputId": "863e7639-aa3e-4c17-a651-e4e904e20434"
      },
      "execution_count": null,
      "outputs": [
        {
          "output_type": "stream",
          "name": "stdout",
          "text": [
            "(1, 5, 4)\n"
          ]
        }
      ]
    }
  ],
  "metadata": {
    "kernelspec": {
      "display_name": "Python 3 (ipykernel)",
      "language": "python",
      "name": "python3"
    },
    "language_info": {
      "codemirror_mode": {
        "name": "ipython",
        "version": 3
      },
      "file_extension": ".py",
      "mimetype": "text/x-python",
      "name": "python",
      "nbconvert_exporter": "python",
      "pygments_lexer": "ipython3",
      "version": "3.8.13"
    },
    "colab": {
      "provenance": [],
      "include_colab_link": true
    }
  },
  "nbformat": 4,
  "nbformat_minor": 0
}