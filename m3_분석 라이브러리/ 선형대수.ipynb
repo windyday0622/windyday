{
  "nbformat": 4,
  "nbformat_minor": 0,
  "metadata": {
    "colab": {
      "provenance": [],
      "authorship_tag": "ABX9TyMDIyXlMJy3HTrUeUlxj2LA",
      "include_colab_link": true
    },
    "kernelspec": {
      "name": "python3",
      "display_name": "Python 3"
    },
    "language_info": {
      "name": "python"
    }
  },
  "cells": [
    {
      "cell_type": "markdown",
      "metadata": {
        "id": "view-in-github",
        "colab_type": "text"
      },
      "source": [
        "<a href=\"https://colab.research.google.com/github/windyday0622/windyday/blob/main/m3_%EB%B6%84%EC%84%9D%20%EB%9D%BC%EC%9D%B4%EB%B8%8C%EB%9F%AC%EB%A6%AC/%20%EC%84%A0%ED%98%95%EB%8C%80%EC%88%98.ipynb\" target=\"_parent\"><img src=\"https://colab.research.google.com/assets/colab-badge.svg\" alt=\"Open In Colab\"/></a>"
      ]
    },
    {
      "cell_type": "markdown",
      "source": [
        "# 선형대수\n",
        "- 데이터 분석 및 머신 러닝에서 매우 중요한 역할을 한다. 데이터를 벡터와 행렬로 표현하고, 이를 기반으로 다양한 알고리즘을 구현하며, 효율적인 계산을 수행하는 데 필수적.\n",
        "- 선형대수의 기본 개념을 이해하면 데이터 분석과 머신 러닝의 많은 기법을 더 깊이 이해하고 활용할 수 있다."
      ],
      "metadata": {
        "id": "N8VwyNxzqE1e"
      }
    },
    {
      "cell_type": "markdown",
      "source": [
        "#### 벡터 (Vector)\n",
        "\n",
        "- **정의**: 크기와 방향을 가지는 물리량. 보통 1차원 배열로 표현.\n",
        "- **용도**: 데이터 포인트를 표현하거나, 특성 벡터(feature vector)로 사용.\n",
        "- **예시**: $[x_1, x_2, \\ldots, x_n]은 n 차원의 벡터.$\n",
        "\n",
        "#### 행렬 (Matrix)\n",
        "\n",
        "- **정의**: 행과 열로 구성된 2차원 배열.\n",
        "- **용도**: 데이터 셋, 변환 행렬, 가중치 행렬 등으로 사용.\n",
        "- **예시**: $\\begin{bmatrix} a & b \\\\ c & d \\end{bmatrix}$ 은 2x2 행렬입니다.\n",
        "\n",
        "#### 스칼라 (Scalar)\n",
        "\n",
        "- **정의**: 하나의 수치.\n",
        "- **용도**: 벡터나 행렬의 요소로 사용.\n",
        "- **예시**: 5, -3.2 등."
      ],
      "metadata": {
        "id": "lcCnLu-uqF29"
      }
    },
    {
      "cell_type": "code",
      "execution_count": 3,
      "metadata": {
        "colab": {
          "base_uri": "https://localhost:8080/"
        },
        "id": "RMh0IXtTnpU5",
        "outputId": "b2fe19f4-3c76-4cea-abb3-38573045261f"
      },
      "outputs": [
        {
          "output_type": "stream",
          "name": "stdout",
          "text": [
            "Vectoer: [1 2 3]\n"
          ]
        }
      ],
      "source": [
        "import numpy as np\n",
        "\n",
        "vector = np.array([1,2,3])\n",
        "print(\"Vectoer:\", vector)"
      ]
    },
    {
      "cell_type": "code",
      "source": [
        "matrix = np.array([[1,2,3],[4,5,6],[7,8,9]])\n",
        "print(\"Matrix:\\n\", matrix)"
      ],
      "metadata": {
        "colab": {
          "base_uri": "https://localhost:8080/"
        },
        "id": "iPIjWYaZqGgV",
        "outputId": "a2f920c1-51c9-4bde-9d23-7e755f1af980"
      },
      "execution_count": 5,
      "outputs": [
        {
          "output_type": "stream",
          "name": "stdout",
          "text": [
            "Matrix:\n",
            " [[1 2 3]\n",
            " [4 5 6]\n",
            " [7 8 9]]\n"
          ]
        }
      ]
    },
    {
      "cell_type": "code",
      "source": [
        "scalar=5\n",
        "print(\"scalar:\",scalar)"
      ],
      "metadata": {
        "colab": {
          "base_uri": "https://localhost:8080/"
        },
        "id": "Xp8eyPK9qGil",
        "outputId": "74400f93-0741-4fe3-b57d-9e1dd8ac2098"
      },
      "execution_count": 6,
      "outputs": [
        {
          "output_type": "stream",
          "name": "stdout",
          "text": [
            "scalar: 5\n"
          ]
        }
      ]
    },
    {
      "cell_type": "markdown",
      "source": [
        "#### 벡터\n",
        "일반적으로 데이터를 배열한 형태를 의미하며, 행벡터(row vector)와 열벡터(column vector) 모두를 포함할 수 있습니다. 특정 문맥에 따라 두 가지 형태 중 하나가 선호될 수 있습니다.\n",
        "- 행벡터 (Row Vector): 행벡터는 하나의 행으로 구성된 벡터.\n",
        "- 열벡터 (Column Vector): 열벡터는 하나의 열로 구성된 벡터.\n",
        "\n",
        "벡터의 사용 유형\n",
        "- 수학적 표기: 수학적 연산이나 이론적 배경에서 행벡터와 열벡터 중 하나를 선택. 예를 들어, 벡터 간의 내적(dot product)은 보통 행벡터와 열벡터의 곱으로 표현.\n",
        "- 프로그래밍 관습: 프로그래밍 언어나 라이브러리에 따라 벡터를 행벡터나 열벡터로 다루는 방식이 다를 수 있다. 예를 들어, Python의 NumPy에서는 1차원 배열을 벡터로 사용하며, 이를 행벡터나 열벡터로 해석할 수 있다.\n",
        "- 데이터 형태: 데이터가 테이블 형태로 주어졌을 때, 행(row)이나 열(column)을 벡터로 선택할 수 있다. 일반적으로 데이터베이스나 CSV 파일에서 행이 개별 샘플을 나타내는 경우가 많다.\n",
        "\n",
        "데이터 분석이나 기계 학습에서는 데이터의 형식과 분석의 편의성에 따라 행벡터나 열벡터를 선택."
      ],
      "metadata": {
        "id": "DL51WxZTuvmz"
      }
    },
    {
      "cell_type": "code",
      "source": [
        "# 넘파이를 사용한 벡터 표현 : 벡터를 열 개수가 하나인 2차원 배열 객체로 표현. 배열의 차원(2)은 벡터의 차원(4)과 다른 의미임\n",
        "# 벡터의 차원은 벡터가 포함하는 요소의 개수를 의미하며, 배열의 차원은 배열이 가지는 축의 수 (행과열)을 의미\n",
        "import numpy as np\n",
        "x1 = np.array([[5,1],[3,5],[1,4],[0,2]])\n",
        "print(x1,x1.shape)"
      ],
      "metadata": {
        "colab": {
          "base_uri": "https://localhost:8080/"
        },
        "id": "QWfWIc80qGkV",
        "outputId": "a956c9e5-8621-43a5-c127-ff783b426740"
      },
      "execution_count": 8,
      "outputs": [
        {
          "output_type": "stream",
          "name": "stdout",
          "text": [
            "[[5 1]\n",
            " [3 5]\n",
            " [1 4]\n",
            " [0 2]] (4, 2)\n"
          ]
        }
      ]
    },
    {
      "cell_type": "markdown",
      "source": [
        "벡터는 데이터 분석과 수학, 물리학 등 다양한 분야에서 중요한 역할\n",
        "\n",
        "- 벡터의 정의\n",
        "  - 수학적 정의: 크기와 방향을 가진 양입니다. 벡터는 일반적으로 화살표로 표현되며, 시작점에서 끝점까지의 방향과 거리로 정의\n",
        "  - 좌표로의 표현: 벡터는 종종 숫자의 배열 또는 목록으로 표현. 예를 들어, 2차원 벡터 [x, y]는 x축과 y축에 대한 구성 요소를 갖는다.\n",
        "  - 크기와 방향: 벡터의 크기는 벡터의 길이 혹은 노름(norm)을 의미하고, 방향은 벡터가 가리키는 방향을 의미.\n",
        "- 벡터의 연산\n",
        "  - 덧셈과 뺄셈: 같은 크기의 두 벡터는 각 요소별로 더하거나 뺄 수 있다.\n",
        "  - 스칼라 곱셈: 벡터는 스칼라(단순 숫자 값)와 곱할 수 있으며, 이는 벡터의 길이를 스칼라만큼 늘리거나 줄인다.\n",
        "  - 내적(Dot Product): 두 벡터의 각 요소의 곱을 모두 더하는 연산으로, 두 벡터 간의 관계를 측정하는 데 사용.\n",
        "- 벡터의 응용\n",
        "  - 물리학: 속도, 가속도, 힘 등은 벡터로 표현.\n",
        "  - 컴퓨터 그래픽스: 이미지나 애니메이션에서 객체의 위치, 이동, 회전을 표현하는 데 벡터가 사용.\n",
        "  - 데이터 분석 및 기계 학습: 특징 벡터(feature vector)는 데이터 포인트의 속성을 나타내며, 여러 알고리즘에서 중요한 역할을 한다.\n"
      ],
      "metadata": {
        "id": "S8c5sdeZwAFM"
      }
    },
    {
      "cell_type": "markdown",
      "source": [
        "- 벡터의 실용적 예: 데이터 분석에서의 특징 벡터\n",
        "  - 데이터 포인트의 표현: 예를 들어, 사람에 대한 데이터가 있다고 가정하면 나이, 키, 몸무게 등의 특성을 가진다면, 이를 [나이, 키, 몸무게]와 같은 벡터로 표현할 수 있다. data_point = np.array([나이, 키, 몸무게])\n",
        "  - 기계 학습 모델의 입력: 이러한 벡터는 기계 학습 모델의 입력으로 사용될 수 있다. 예를 들어, 의료 데이터를 기반으로 질병을 예측하는 모델에서 각 환자의 데이터 포인트는 하나의 벡터로 표현될 수 있다.\n",
        "- 배치 데이터용 행렬\n",
        "  - 여러 데이터 포인트를 처리할 때 각 행은 데이터 포인트를 나타내고 각 열은 기능을 나타내는 행렬이 사용된다.\n",
        "  - batch_data = np.array([[feature1_data1, feature2_data1, feature3_data1],[feature1_data2, feature2_data2, feature3_data2],...])"
      ],
      "metadata": {
        "id": "3M6M24mCwKPc"
      }
    },
    {
      "cell_type": "code",
      "source": [
        "# 사람의 나이, 키, 몸무게를 백터로 표현\n",
        "import numpy as np\n",
        "\n",
        "person = np.array([30, 175, 70])\n",
        "\n",
        "another_person = np.array([25, 160, 55])\n",
        "\n",
        "difference = person - another_person\n",
        "print(difference)"
      ],
      "metadata": {
        "colab": {
          "base_uri": "https://localhost:8080/"
        },
        "id": "OJOcVZvdvZkq",
        "outputId": "831e61c5-e89a-460a-e239-1bf03426c595"
      },
      "execution_count": 9,
      "outputs": [
        {
          "output_type": "stream",
          "name": "stdout",
          "text": [
            "[ 5 15 15]\n"
          ]
        }
      ]
    },
    {
      "cell_type": "code",
      "source": [
        "# Q. 두 행벡터를 정의하고 두 벡터의 합을 구하세요.\n",
        "def problem1():\n",
        "    row_vector1 = np.array([1, 2, 3])\n",
        "    row_vector2 = np.array([4, 5, 6])\n",
        "\n",
        "    sum_vector = row_vector1 + row_vector2\n",
        "    print(f\"첫 번째 행벡터: {row_vector1}\")\n",
        "    print(f\"두 번째 행벡터: {row_vector2}\")\n",
        "    print(f\"벡터의 합: {sum_vector}\")\n",
        "problem1()"
      ],
      "metadata": {
        "colab": {
          "base_uri": "https://localhost:8080/"
        },
        "id": "jP_lFkZCqGme",
        "outputId": "e712b3f8-849f-431b-b73a-1c770b057321"
      },
      "execution_count": 11,
      "outputs": [
        {
          "output_type": "stream",
          "name": "stdout",
          "text": [
            "첫 번째 행벡터: [1 2 3]\n",
            "두 번째 행벡터: [4 5 6]\n",
            "벡터의 합: [5 7 9]\n"
          ]
        }
      ]
    },
    {
      "cell_type": "code",
      "source": [
        "import numpy as np\n",
        "\n",
        "def scalar_multplication_example():\n",
        "    row_vector = np.array([1, 2, 3])\n",
        "    column_vector = np.array([[4], [5], [6]])\n",
        "    scalar = 3\n",
        "\n",
        "    scaled_row_vector + scalar * row_vector\n",
        "    scaled_column_vector + scalar * column_vector\n",
        "\n",
        "    print(f\"원래 행벡터: {row_vector}\")\n",
        "    print(f\"스칼라 곱셈 후 행벡터: {scaled_row_vector}\")\n",
        "    print(\"\\n\")\n",
        "    print(f\"원래 열벡터: {column_vector}\")\n",
        "    print(f\"스칼라 곱셈 후 열벡터: \\n{scaled_column_vector}\")"
      ],
      "metadata": {
        "id": "0d-CeLkQqGoV"
      },
      "execution_count": 13,
      "outputs": []
    },
    {
      "cell_type": "markdown",
      "source": [
        "특징 벡터의 정의 및 용도\n",
        "- 정의:\n",
        "  - 특징 벡터는 여러 개의 특성(feature)들로 구성된 벡터.\n",
        "  - 이 벡터의 각 요소는 데이터의 특정 속성을 나타낸다.\n",
        "- 용도:\n",
        "  - 특징 벡터는 머신 러닝 모델의 입력으로 사용.\n",
        "  - 데이터를 수치적으로 표현하여 모델이 이해할 수 있도록 한다.\n",
        "  - 다양한 특성을 결합하여 데이터 포인트를 다차원 공간의 한 점으로 표현."
      ],
      "metadata": {
        "id": "T9SZbeD73Cvy"
      }
    },
    {
      "cell_type": "code",
      "source": [
        "# 특징 벡터 : 데이터 벡터가 예측 문제에서 입력 데이터로 사용되면 특징 벡터라고 함\n",
        "from sklearn.datasets import load_iris\n",
        "iris = load_iris()\n",
        "\n",
        "x1 = iris.data[0, :]\n",
        "x1"
      ],
      "metadata": {
        "colab": {
          "base_uri": "https://localhost:8080/"
        },
        "id": "QPu9FitYqGqN",
        "outputId": "6659084b-dcea-40b4-f37f-adfb6ddf2b16"
      },
      "execution_count": 15,
      "outputs": [
        {
          "output_type": "execute_result",
          "data": {
            "text/plain": [
              "array([5.1, 3.5, 1.4, 0.2])"
            ]
          },
          "metadata": {},
          "execution_count": 15
        }
      ]
    },
    {
      "cell_type": "code",
      "source": [
        "import pandas as pd\n",
        "df = pd.DataFrame(iris.data, columns=iris.feature_names)\n",
        "df.head()"
      ],
      "metadata": {
        "colab": {
          "base_uri": "https://localhost:8080/",
          "height": 206
        },
        "id": "BKiBcYQgqGsN",
        "outputId": "c6dba98d-b9e6-4b90-af1f-01bb827a3c94"
      },
      "execution_count": 16,
      "outputs": [
        {
          "output_type": "execute_result",
          "data": {
            "text/plain": [
              "   sepal length (cm)  sepal width (cm)  petal length (cm)  petal width (cm)\n",
              "0                5.1               3.5                1.4               0.2\n",
              "1                4.9               3.0                1.4               0.2\n",
              "2                4.7               3.2                1.3               0.2\n",
              "3                4.6               3.1                1.5               0.2\n",
              "4                5.0               3.6                1.4               0.2"
            ],
            "text/html": [
              "\n",
              "  <div id=\"df-157322f8-45e2-4da5-b83b-7556d4e0d9eb\" class=\"colab-df-container\">\n",
              "    <div>\n",
              "<style scoped>\n",
              "    .dataframe tbody tr th:only-of-type {\n",
              "        vertical-align: middle;\n",
              "    }\n",
              "\n",
              "    .dataframe tbody tr th {\n",
              "        vertical-align: top;\n",
              "    }\n",
              "\n",
              "    .dataframe thead th {\n",
              "        text-align: right;\n",
              "    }\n",
              "</style>\n",
              "<table border=\"1\" class=\"dataframe\">\n",
              "  <thead>\n",
              "    <tr style=\"text-align: right;\">\n",
              "      <th></th>\n",
              "      <th>sepal length (cm)</th>\n",
              "      <th>sepal width (cm)</th>\n",
              "      <th>petal length (cm)</th>\n",
              "      <th>petal width (cm)</th>\n",
              "    </tr>\n",
              "  </thead>\n",
              "  <tbody>\n",
              "    <tr>\n",
              "      <th>0</th>\n",
              "      <td>5.1</td>\n",
              "      <td>3.5</td>\n",
              "      <td>1.4</td>\n",
              "      <td>0.2</td>\n",
              "    </tr>\n",
              "    <tr>\n",
              "      <th>1</th>\n",
              "      <td>4.9</td>\n",
              "      <td>3.0</td>\n",
              "      <td>1.4</td>\n",
              "      <td>0.2</td>\n",
              "    </tr>\n",
              "    <tr>\n",
              "      <th>2</th>\n",
              "      <td>4.7</td>\n",
              "      <td>3.2</td>\n",
              "      <td>1.3</td>\n",
              "      <td>0.2</td>\n",
              "    </tr>\n",
              "    <tr>\n",
              "      <th>3</th>\n",
              "      <td>4.6</td>\n",
              "      <td>3.1</td>\n",
              "      <td>1.5</td>\n",
              "      <td>0.2</td>\n",
              "    </tr>\n",
              "    <tr>\n",
              "      <th>4</th>\n",
              "      <td>5.0</td>\n",
              "      <td>3.6</td>\n",
              "      <td>1.4</td>\n",
              "      <td>0.2</td>\n",
              "    </tr>\n",
              "  </tbody>\n",
              "</table>\n",
              "</div>\n",
              "    <div class=\"colab-df-buttons\">\n",
              "\n",
              "  <div class=\"colab-df-container\">\n",
              "    <button class=\"colab-df-convert\" onclick=\"convertToInteractive('df-157322f8-45e2-4da5-b83b-7556d4e0d9eb')\"\n",
              "            title=\"Convert this dataframe to an interactive table.\"\n",
              "            style=\"display:none;\">\n",
              "\n",
              "  <svg xmlns=\"http://www.w3.org/2000/svg\" height=\"24px\" viewBox=\"0 -960 960 960\">\n",
              "    <path d=\"M120-120v-720h720v720H120Zm60-500h600v-160H180v160Zm220 220h160v-160H400v160Zm0 220h160v-160H400v160ZM180-400h160v-160H180v160Zm440 0h160v-160H620v160ZM180-180h160v-160H180v160Zm440 0h160v-160H620v160Z\"/>\n",
              "  </svg>\n",
              "    </button>\n",
              "\n",
              "  <style>\n",
              "    .colab-df-container {\n",
              "      display:flex;\n",
              "      gap: 12px;\n",
              "    }\n",
              "\n",
              "    .colab-df-convert {\n",
              "      background-color: #E8F0FE;\n",
              "      border: none;\n",
              "      border-radius: 50%;\n",
              "      cursor: pointer;\n",
              "      display: none;\n",
              "      fill: #1967D2;\n",
              "      height: 32px;\n",
              "      padding: 0 0 0 0;\n",
              "      width: 32px;\n",
              "    }\n",
              "\n",
              "    .colab-df-convert:hover {\n",
              "      background-color: #E2EBFA;\n",
              "      box-shadow: 0px 1px 2px rgba(60, 64, 67, 0.3), 0px 1px 3px 1px rgba(60, 64, 67, 0.15);\n",
              "      fill: #174EA6;\n",
              "    }\n",
              "\n",
              "    .colab-df-buttons div {\n",
              "      margin-bottom: 4px;\n",
              "    }\n",
              "\n",
              "    [theme=dark] .colab-df-convert {\n",
              "      background-color: #3B4455;\n",
              "      fill: #D2E3FC;\n",
              "    }\n",
              "\n",
              "    [theme=dark] .colab-df-convert:hover {\n",
              "      background-color: #434B5C;\n",
              "      box-shadow: 0px 1px 3px 1px rgba(0, 0, 0, 0.15);\n",
              "      filter: drop-shadow(0px 1px 2px rgba(0, 0, 0, 0.3));\n",
              "      fill: #FFFFFF;\n",
              "    }\n",
              "  </style>\n",
              "\n",
              "    <script>\n",
              "      const buttonEl =\n",
              "        document.querySelector('#df-157322f8-45e2-4da5-b83b-7556d4e0d9eb button.colab-df-convert');\n",
              "      buttonEl.style.display =\n",
              "        google.colab.kernel.accessAllowed ? 'block' : 'none';\n",
              "\n",
              "      async function convertToInteractive(key) {\n",
              "        const element = document.querySelector('#df-157322f8-45e2-4da5-b83b-7556d4e0d9eb');\n",
              "        const dataTable =\n",
              "          await google.colab.kernel.invokeFunction('convertToInteractive',\n",
              "                                                    [key], {});\n",
              "        if (!dataTable) return;\n",
              "\n",
              "        const docLinkHtml = 'Like what you see? Visit the ' +\n",
              "          '<a target=\"_blank\" href=https://colab.research.google.com/notebooks/data_table.ipynb>data table notebook</a>'\n",
              "          + ' to learn more about interactive tables.';\n",
              "        element.innerHTML = '';\n",
              "        dataTable['output_type'] = 'display_data';\n",
              "        await google.colab.output.renderOutput(dataTable, element);\n",
              "        const docLink = document.createElement('div');\n",
              "        docLink.innerHTML = docLinkHtml;\n",
              "        element.appendChild(docLink);\n",
              "      }\n",
              "    </script>\n",
              "  </div>\n",
              "\n",
              "\n",
              "<div id=\"df-10b3d4d9-f273-4b61-85a7-8d0dc7bca90c\">\n",
              "  <button class=\"colab-df-quickchart\" onclick=\"quickchart('df-10b3d4d9-f273-4b61-85a7-8d0dc7bca90c')\"\n",
              "            title=\"Suggest charts\"\n",
              "            style=\"display:none;\">\n",
              "\n",
              "<svg xmlns=\"http://www.w3.org/2000/svg\" height=\"24px\"viewBox=\"0 0 24 24\"\n",
              "     width=\"24px\">\n",
              "    <g>\n",
              "        <path d=\"M19 3H5c-1.1 0-2 .9-2 2v14c0 1.1.9 2 2 2h14c1.1 0 2-.9 2-2V5c0-1.1-.9-2-2-2zM9 17H7v-7h2v7zm4 0h-2V7h2v10zm4 0h-2v-4h2v4z\"/>\n",
              "    </g>\n",
              "</svg>\n",
              "  </button>\n",
              "\n",
              "<style>\n",
              "  .colab-df-quickchart {\n",
              "      --bg-color: #E8F0FE;\n",
              "      --fill-color: #1967D2;\n",
              "      --hover-bg-color: #E2EBFA;\n",
              "      --hover-fill-color: #174EA6;\n",
              "      --disabled-fill-color: #AAA;\n",
              "      --disabled-bg-color: #DDD;\n",
              "  }\n",
              "\n",
              "  [theme=dark] .colab-df-quickchart {\n",
              "      --bg-color: #3B4455;\n",
              "      --fill-color: #D2E3FC;\n",
              "      --hover-bg-color: #434B5C;\n",
              "      --hover-fill-color: #FFFFFF;\n",
              "      --disabled-bg-color: #3B4455;\n",
              "      --disabled-fill-color: #666;\n",
              "  }\n",
              "\n",
              "  .colab-df-quickchart {\n",
              "    background-color: var(--bg-color);\n",
              "    border: none;\n",
              "    border-radius: 50%;\n",
              "    cursor: pointer;\n",
              "    display: none;\n",
              "    fill: var(--fill-color);\n",
              "    height: 32px;\n",
              "    padding: 0;\n",
              "    width: 32px;\n",
              "  }\n",
              "\n",
              "  .colab-df-quickchart:hover {\n",
              "    background-color: var(--hover-bg-color);\n",
              "    box-shadow: 0 1px 2px rgba(60, 64, 67, 0.3), 0 1px 3px 1px rgba(60, 64, 67, 0.15);\n",
              "    fill: var(--button-hover-fill-color);\n",
              "  }\n",
              "\n",
              "  .colab-df-quickchart-complete:disabled,\n",
              "  .colab-df-quickchart-complete:disabled:hover {\n",
              "    background-color: var(--disabled-bg-color);\n",
              "    fill: var(--disabled-fill-color);\n",
              "    box-shadow: none;\n",
              "  }\n",
              "\n",
              "  .colab-df-spinner {\n",
              "    border: 2px solid var(--fill-color);\n",
              "    border-color: transparent;\n",
              "    border-bottom-color: var(--fill-color);\n",
              "    animation:\n",
              "      spin 1s steps(1) infinite;\n",
              "  }\n",
              "\n",
              "  @keyframes spin {\n",
              "    0% {\n",
              "      border-color: transparent;\n",
              "      border-bottom-color: var(--fill-color);\n",
              "      border-left-color: var(--fill-color);\n",
              "    }\n",
              "    20% {\n",
              "      border-color: transparent;\n",
              "      border-left-color: var(--fill-color);\n",
              "      border-top-color: var(--fill-color);\n",
              "    }\n",
              "    30% {\n",
              "      border-color: transparent;\n",
              "      border-left-color: var(--fill-color);\n",
              "      border-top-color: var(--fill-color);\n",
              "      border-right-color: var(--fill-color);\n",
              "    }\n",
              "    40% {\n",
              "      border-color: transparent;\n",
              "      border-right-color: var(--fill-color);\n",
              "      border-top-color: var(--fill-color);\n",
              "    }\n",
              "    60% {\n",
              "      border-color: transparent;\n",
              "      border-right-color: var(--fill-color);\n",
              "    }\n",
              "    80% {\n",
              "      border-color: transparent;\n",
              "      border-right-color: var(--fill-color);\n",
              "      border-bottom-color: var(--fill-color);\n",
              "    }\n",
              "    90% {\n",
              "      border-color: transparent;\n",
              "      border-bottom-color: var(--fill-color);\n",
              "    }\n",
              "  }\n",
              "</style>\n",
              "\n",
              "  <script>\n",
              "    async function quickchart(key) {\n",
              "      const quickchartButtonEl =\n",
              "        document.querySelector('#' + key + ' button');\n",
              "      quickchartButtonEl.disabled = true;  // To prevent multiple clicks.\n",
              "      quickchartButtonEl.classList.add('colab-df-spinner');\n",
              "      try {\n",
              "        const charts = await google.colab.kernel.invokeFunction(\n",
              "            'suggestCharts', [key], {});\n",
              "      } catch (error) {\n",
              "        console.error('Error during call to suggestCharts:', error);\n",
              "      }\n",
              "      quickchartButtonEl.classList.remove('colab-df-spinner');\n",
              "      quickchartButtonEl.classList.add('colab-df-quickchart-complete');\n",
              "    }\n",
              "    (() => {\n",
              "      let quickchartButtonEl =\n",
              "        document.querySelector('#df-10b3d4d9-f273-4b61-85a7-8d0dc7bca90c button');\n",
              "      quickchartButtonEl.style.display =\n",
              "        google.colab.kernel.accessAllowed ? 'block' : 'none';\n",
              "    })();\n",
              "  </script>\n",
              "</div>\n",
              "\n",
              "    </div>\n",
              "  </div>\n"
            ],
            "application/vnd.google.colaboratory.intrinsic+json": {
              "type": "dataframe",
              "variable_name": "df",
              "summary": "{\n  \"name\": \"df\",\n  \"rows\": 150,\n  \"fields\": [\n    {\n      \"column\": \"sepal length (cm)\",\n      \"properties\": {\n        \"dtype\": \"number\",\n        \"std\": 0.828066127977863,\n        \"min\": 4.3,\n        \"max\": 7.9,\n        \"num_unique_values\": 35,\n        \"samples\": [\n          6.2,\n          4.5,\n          5.6\n        ],\n        \"semantic_type\": \"\",\n        \"description\": \"\"\n      }\n    },\n    {\n      \"column\": \"sepal width (cm)\",\n      \"properties\": {\n        \"dtype\": \"number\",\n        \"std\": 0.4358662849366982,\n        \"min\": 2.0,\n        \"max\": 4.4,\n        \"num_unique_values\": 23,\n        \"samples\": [\n          2.3,\n          4.0,\n          3.5\n        ],\n        \"semantic_type\": \"\",\n        \"description\": \"\"\n      }\n    },\n    {\n      \"column\": \"petal length (cm)\",\n      \"properties\": {\n        \"dtype\": \"number\",\n        \"std\": 1.7652982332594662,\n        \"min\": 1.0,\n        \"max\": 6.9,\n        \"num_unique_values\": 43,\n        \"samples\": [\n          6.7,\n          3.8,\n          3.7\n        ],\n        \"semantic_type\": \"\",\n        \"description\": \"\"\n      }\n    },\n    {\n      \"column\": \"petal width (cm)\",\n      \"properties\": {\n        \"dtype\": \"number\",\n        \"std\": 0.7622376689603465,\n        \"min\": 0.1,\n        \"max\": 2.5,\n        \"num_unique_values\": 22,\n        \"samples\": [\n          0.2,\n          1.2,\n          1.3\n        ],\n        \"semantic_type\": \"\",\n        \"description\": \"\"\n      }\n    }\n  ]\n}"
            }
          },
          "metadata": {},
          "execution_count": 16
        }
      ]
    },
    {
      "cell_type": "code",
      "source": [
        "df.iloc[0].values"
      ],
      "metadata": {
        "colab": {
          "base_uri": "https://localhost:8080/"
        },
        "id": "QHg3V_-AqGuF",
        "outputId": "f5f6d136-9e84-4844-cc3a-cde0b3f3160c"
      },
      "execution_count": 17,
      "outputs": [
        {
          "output_type": "execute_result",
          "data": {
            "text/plain": [
              "array([5.1, 3.5, 1.4, 0.2])"
            ]
          },
          "metadata": {},
          "execution_count": 17
        }
      ]
    },
    {
      "cell_type": "code",
      "source": [
        "ar = df.iloc[[0],:].values\n",
        "print(ar,ar.shape,type(ar))"
      ],
      "metadata": {
        "colab": {
          "base_uri": "https://localhost:8080/"
        },
        "id": "HGfoJ4kXqGwF",
        "outputId": "a1761aaa-6fb1-48cd-c91f-bd76c102e8b0"
      },
      "execution_count": 18,
      "outputs": [
        {
          "output_type": "stream",
          "name": "stdout",
          "text": [
            "[[5.1 3.5 1.4 0.2]] (1, 4) <class 'numpy.ndarray'>\n"
          ]
        }
      ]
    },
    {
      "cell_type": "markdown",
      "source": [
        "#### 행렬과 벡터\n",
        "선형대수학에서 매우 중요한 개념으로, 서로 밀접한 관계를 가지고 있으며 그 관계를 이해하기 위한 핵심 개념을 알아야 한다:\n",
        "\n",
        "벡터의 정의:\n",
        "- 벡터는 크기와 방향을 가진 수학적 객체. 보통 1차원 배열로 표현.\n",
        "- 벡터는 n차원 공간에서의 한 점으로 생각할 수 있으며, 좌표로 나타낼 수 있다.\n",
        "- 예를 들어, 3차원 벡터 $v=[v1,v2,v3]$는 3차원 공간에서의 한 점을 나타낸다.\n",
        "\n",
        "행렬의 정의:\n",
        "- 행렬은 수나 변수를 직사각형 배열로 배치한 것입니다. 보통 2차원 배열로 표현.\n",
        "- 행렬은 m개의 행과 n개의 열로 구성된 $m×n$ 배열이다.\n",
        "\n",
        "벡터와 행렬의 관계:\n",
        "\n",
        "- 벡터는 행렬의 특수한 경우로 간주될 수 있다. n차원 벡터는 $1×n$ 행렬(행벡터) 또는 $n×1$ 행렬(열벡터)로 표현할 수 있다.\n",
        "- 행렬은 여러 벡터를 하나의 구조로 결합한 것이다.\n",
        "- 예를 들어, 행렬의 각 행이나 열을 벡터로 볼 수 있다. $m×n$ 행렬에서 각 행은 n차원 행벡터이고, 각 열은 m차원 열벡터이다.\n",
        "\n",
        "행렬과 벡터의 연산:\n",
        "- 행렬-벡터 곱: 행렬A와 벡터v의 곱은 또 다른 벡터를 생성합니다.  - 예를 들어, A가 m×n 행렬이고 v가 n차원(nx1) 열벡터일 때, Av는 m차원(mx1) 열벡터가 된다.\n",
        "- 벡터의 내적: 두 벡터 u와 v의 내적은 행벡터 u와 열벡터 v의 곱으로 계산할 수 있고 그 결과는 스칼라 값.\n",
        "\n",
        "행렬의 역할:\n",
        "- 벡터에 행렬을 곱하면, 선형 변환을 하여 해당 벡터가 변환된 새로운 벡터를 얻을 수 있다. 예를 들어, 회전 행렬은 벡터를 회전시키는 역할을 한다.\n",
        "- 데이터셋을 처리할 때, 행렬을 사용하여 여러 데이터 포인트(벡터)를 동시에 변환하거나 조작할 수 있다.\n",
        "- 신경망에서 각 층은 기본적으로 선형 변환(가중치 행렬)과 비선형 활성화 함수의 조합으로 구성. 선형 변환을 통해 입력 데이터를 다음 계층으로 전달하고, 비선형 활성화 함수를 통해 모델의 표현력을 높인다."
      ],
      "metadata": {
        "id": "Gnme8uFH6CZI"
      }
    },
    {
      "cell_type": "code",
      "source": [
        "import numpy as np\n",
        "A = np.array([\n",
        "    [1, 2, 3],\n",
        "    [4, 5, 6]\n",
        "])\n",
        "\n",
        "v = np.array([\n",
        "    [1],\n",
        "    [0],\n",
        "    [-1]\n",
        "])\n",
        "result = np.dot(A,v)\n",
        "\n",
        "print(result)"
      ],
      "metadata": {
        "colab": {
          "base_uri": "https://localhost:8080/"
        },
        "id": "DWcBKl2LqGyF",
        "outputId": "91145917-4441-4750-d611-549b913616cd"
      },
      "execution_count": 19,
      "outputs": [
        {
          "output_type": "stream",
          "name": "stdout",
          "text": [
            "[[-2]\n",
            " [-2]]\n"
          ]
        }
      ]
    },
    {
      "cell_type": "markdown",
      "source": [
        "## 행렬의 종류\n",
        "\n",
        "- 단위행렬(항등행렬)은 행렬 곱셈 연산에 항등원으로 작용하는 행렬로서 대각선 요소는 모두 1이고, 나머지 요소는 모두 0인 정사각 행렬\n",
        "- 대각행렬은 주대각선 원소를 제외한 모든 원소들이 0인 정방행렬\n",
        "- 영행렬은 모든 원소가 0인 행렬로 곱셈 연산에서 영원으로 작용하는 행렬\n",
        "- 전치행렬은 주대각선 원소를 기준으로 행과 열을 바꿔주는 행렬\n",
        "- 대칭행렬은 주대각선을 기준으로 대칭을 이루는 행렬로서 전치 행렬이 자기 자신과 같은 행렬\n",
        "- 정방행렬은 행과 열의 수가 같은 행렬\n",
        "- 대각합은 정사각 행렬의 대각선 요소의 합\n",
        "- 역행렬은 원래 행렬 A와 곱할 때 단위 행렬이 되는 행렬\n",
        "- 삼각행렬은 주대각선 위 또는 아래의 모든 요소가 0인 특별한 종류의 정방행렬\n",
        "- 상삼각행렬은 대각선 아래 모든 요소가 0인 행렬\n",
        "- 하삼각행렬은 대각선 위 모든 요소가 0인 행렬"
      ],
      "metadata": {
        "id": "PCXTIbZiD5KG"
      }
    },
    {
      "cell_type": "code",
      "source": [
        "# 항등행렬 : 단위 행렬 또는 항등 행렬은 주대각선의 원소가 모두 1이며 나머지 원소는 모두 0인 정방행렬\n",
        "um = np.identity(3)"
      ],
      "metadata": {
        "id": "RL232d1_qGz9"
      },
      "execution_count": 26,
      "outputs": []
    },
    {
      "cell_type": "code",
      "source": [
        "# Q. 단위 행렬을 정의하고, 임의의 행렬과 곱한 후 출력하세요.\n",
        "def problem1():\n",
        "    I = np.eye(3)\n",
        "    print(I,'\\n')\n",
        "    A = np.array([[1,2,3],[4,5,6],[7,8,9]])\n",
        "    result = np.dot(I,A)"
      ],
      "metadata": {
        "id": "L2yUpaqIqG19"
      },
      "execution_count": 32,
      "outputs": []
    },
    {
      "cell_type": "code",
      "source": [
        "import numpy as np\n",
        "I = np.eye(3)\n",
        "\n",
        "print(I,'\\n')\n",
        "print(np.linalg.inv(I),'\\n')\n",
        "\n",
        "print(np.allclose(I, np.linalg.inv(I)))"
      ],
      "metadata": {
        "colab": {
          "base_uri": "https://localhost:8080/"
        },
        "id": "vUN3nPgNqG4F",
        "outputId": "dcaa3f5e-c218-4779-9b7e-ea9237917112"
      },
      "execution_count": 33,
      "outputs": [
        {
          "output_type": "stream",
          "name": "stdout",
          "text": [
            "[[1. 0. 0.]\n",
            " [0. 1. 0.]\n",
            " [0. 0. 1.]] \n",
            "\n",
            "[[1. 0. 0.]\n",
            " [0. 1. 0.]\n",
            " [0. 0. 1.]] \n",
            "\n",
            "True\n"
          ]
        }
      ]
    },
    {
      "cell_type": "code",
      "source": [
        "# 대각행렬: 주대각선 원소들을 제외한 원소들이 모두 0인 정방행렬\n",
        "np.diag([1, 2, 3])"
      ],
      "metadata": {
        "colab": {
          "base_uri": "https://localhost:8080/"
        },
        "id": "R-xq0MmPqG8m",
        "outputId": "68ea38cd-465e-49a9-9576-e2098bbc2ffa"
      },
      "execution_count": 34,
      "outputs": [
        {
          "output_type": "execute_result",
          "data": {
            "text/plain": [
              "array([[1, 0, 0],\n",
              "       [0, 2, 0],\n",
              "       [0, 0, 3]])"
            ]
          },
          "metadata": {},
          "execution_count": 34
        }
      ]
    },
    {
      "cell_type": "code",
      "source": [
        "# 1부터 5까지의 숫자를 대각선에 갖는 대각행렬을 만드세요\n",
        "\n",
        "a = np.diag([1, 2, 3, 4, 5])\n",
        "print(a)"
      ],
      "metadata": {
        "colab": {
          "base_uri": "https://localhost:8080/"
        },
        "id": "cq4eA5GZqHAN",
        "outputId": "6332998c-e9da-4343-8d68-71d32b32494d"
      },
      "execution_count": 35,
      "outputs": [
        {
          "output_type": "stream",
          "name": "stdout",
          "text": [
            "[[1 0 0 0 0]\n",
            " [0 2 0 0 0]\n",
            " [0 0 3 0 0]\n",
            " [0 0 0 4 0]\n",
            " [0 0 0 0 5]]\n"
          ]
        }
      ]
    },
    {
      "cell_type": "code",
      "source": [
        "# 2부터 10까지의 짝수를 대각선에 갖는 대각행렬을 만드세요\n",
        "\n",
        "a = np.diag([2, 4, 6, 8, 10])\n",
        "print(a)"
      ],
      "metadata": {
        "colab": {
          "base_uri": "https://localhost:8080/"
        },
        "id": "bRK5sV6LqHCX",
        "outputId": "d9ef8421-7240-4add-86d8-57b7722f4239"
      },
      "execution_count": 36,
      "outputs": [
        {
          "output_type": "stream",
          "name": "stdout",
          "text": [
            "[[ 2  0  0  0  0]\n",
            " [ 0  4  0  0  0]\n",
            " [ 0  0  6  0  0]\n",
            " [ 0  0  0  8  0]\n",
            " [ 0  0  0  0 10]]\n"
          ]
        }
      ]
    },
    {
      "cell_type": "code",
      "source": [
        "# Q. 대각행렬을 정의하고, 임의의 벡터와 곱한 후 출력하세요.\n",
        "import numpy as np\n",
        "\n",
        "# 대각행렬 정의\n",
        "diagonal_elements = [1, 2, 3, 4]\n",
        "diagonal_matrix = np.diag(diagonal_elements)\n",
        "\n",
        "# 임의의 벡터 정의\n",
        "vector = np.array([1, 0, -1, 2])\n",
        "\n",
        "# 대각행렬과 벡터의 곱\n",
        "result = np.dot(diagonal_matrix, vector)\n",
        "\n",
        "# 결과 출력\n",
        "print(\"대각행렬:\")\n",
        "print(diagonal_matrix)\n",
        "print(\"벡터:\")\n",
        "print(vector)\n",
        "print(\"곱한 결과:\")\n",
        "print(result)"
      ],
      "metadata": {
        "colab": {
          "base_uri": "https://localhost:8080/"
        },
        "id": "gPy1WfY8qHEN",
        "outputId": "89eb2ed7-8225-49e2-84e6-76cc0b8933e0"
      },
      "execution_count": 37,
      "outputs": [
        {
          "output_type": "stream",
          "name": "stdout",
          "text": [
            "대각행렬:\n",
            "[[1 0 0 0]\n",
            " [0 2 0 0]\n",
            " [0 0 3 0]\n",
            " [0 0 0 4]]\n",
            "벡터:\n",
            "[ 1  0 -1  2]\n",
            "곱한 결과:\n",
            "[ 1  0 -3  8]\n"
          ]
        }
      ]
    },
    {
      "cell_type": "code",
      "source": [
        "# Q. 1부터 10까지의 숫자를 대각선에 갖는 대각행렬을 만들고, 그 대각행렬을 제곱하세요.\n",
        "import numpy as np\n",
        "\n",
        "a = np.diag([1, 2, 3, 4, 5, 6, 7 ,8 ,9, 10])\n",
        "print(a,'\\n')\n",
        "b = np.square(a)\n",
        "print(b)"
      ],
      "metadata": {
        "colab": {
          "base_uri": "https://localhost:8080/"
        },
        "id": "tvuY98-BqHGF",
        "outputId": "8fe6fd4c-afbd-487e-a38d-44f16ee4725b"
      },
      "execution_count": 39,
      "outputs": [
        {
          "output_type": "stream",
          "name": "stdout",
          "text": [
            "[[ 1  0  0  0  0  0  0  0  0  0]\n",
            " [ 0  2  0  0  0  0  0  0  0  0]\n",
            " [ 0  0  3  0  0  0  0  0  0  0]\n",
            " [ 0  0  0  4  0  0  0  0  0  0]\n",
            " [ 0  0  0  0  5  0  0  0  0  0]\n",
            " [ 0  0  0  0  0  6  0  0  0  0]\n",
            " [ 0  0  0  0  0  0  7  0  0  0]\n",
            " [ 0  0  0  0  0  0  0  8  0  0]\n",
            " [ 0  0  0  0  0  0  0  0  9  0]\n",
            " [ 0  0  0  0  0  0  0  0  0 10]] \n",
            "\n",
            "[[  1   0   0   0   0   0   0   0   0   0]\n",
            " [  0   4   0   0   0   0   0   0   0   0]\n",
            " [  0   0   9   0   0   0   0   0   0   0]\n",
            " [  0   0   0  16   0   0   0   0   0   0]\n",
            " [  0   0   0   0  25   0   0   0   0   0]\n",
            " [  0   0   0   0   0  36   0   0   0   0]\n",
            " [  0   0   0   0   0   0  49   0   0   0]\n",
            " [  0   0   0   0   0   0   0  64   0   0]\n",
            " [  0   0   0   0   0   0   0   0  81   0]\n",
            " [  0   0   0   0   0   0   0   0   0 100]]\n"
          ]
        }
      ]
    },
    {
      "cell_type": "code",
      "source": [
        "# 영행렬\n",
        "import numpy as np\n",
        "\n",
        "Z = np.zeros((3,3))\n",
        "\n",
        "print(Z)\n",
        "\n",
        "print(np.all(Z == 0))"
      ],
      "metadata": {
        "colab": {
          "base_uri": "https://localhost:8080/"
        },
        "id": "2PxGawaIqHIN",
        "outputId": "a2e4ecb7-4dd3-4073-856a-7d9cf3e16634"
      },
      "execution_count": 40,
      "outputs": [
        {
          "output_type": "stream",
          "name": "stdout",
          "text": [
            "[[0. 0. 0.]\n",
            " [0. 0. 0.]\n",
            " [0. 0. 0.]]\n",
            "True\n"
          ]
        }
      ]
    },
    {
      "cell_type": "code",
      "source": [
        "# Q. 영행렬을 정의하고, 임의의 행렬과 더한 후 출력하세요.\n",
        "import numpy as np\n",
        "\n",
        "# 3x3 영행렬 생성\n",
        "zero_matrix = np.zeros((3, 3))\n",
        "\n",
        "# 임의의 3x3 행렬 생성\n",
        "random_matrix = np.random.rand(3, 3)\n",
        "\n",
        "# 두 행렬 더하기\n",
        "result_matrix = zero_matrix + random_matrix\n",
        "\n",
        "# 결과 출력\n",
        "print(\"영행렬:\")\n",
        "print(zero_matrix)\n",
        "print(\"\\n임의의 행렬:\")\n",
        "print(random_matrix)\n",
        "print(\"\\n더한 결과 행렬:\")\n",
        "print(result_matrix)"
      ],
      "metadata": {
        "colab": {
          "base_uri": "https://localhost:8080/"
        },
        "id": "AyKQUyPTqHKn",
        "outputId": "4bdb4413-7277-4be7-d674-f488f6069c38"
      },
      "execution_count": 41,
      "outputs": [
        {
          "output_type": "stream",
          "name": "stdout",
          "text": [
            "영행렬:\n",
            "[[0. 0. 0.]\n",
            " [0. 0. 0.]\n",
            " [0. 0. 0.]]\n",
            "\n",
            "임의의 행렬:\n",
            "[[0.13450529 0.28113268 0.86232615]\n",
            " [0.16291781 0.05420119 0.13362899]\n",
            " [0.67636107 0.40471444 0.88711397]]\n",
            "\n",
            "더한 결과 행렬:\n",
            "[[0.13450529 0.28113268 0.86232615]\n",
            " [0.16291781 0.05420119 0.13362899]\n",
            " [0.67636107 0.40471444 0.88711397]]\n"
          ]
        }
      ]
    },
    {
      "cell_type": "code",
      "source": [
        "# 전치\n",
        "a = np.arange(9).reshape(3,3)\n",
        "print(a,'\\n')\n",
        "a.T"
      ],
      "metadata": {
        "colab": {
          "base_uri": "https://localhost:8080/"
        },
        "id": "gsLpRdqaqHMd",
        "outputId": "f38bf2e2-47f4-41c3-e9e2-1dac2eda2a85"
      },
      "execution_count": 42,
      "outputs": [
        {
          "output_type": "stream",
          "name": "stdout",
          "text": [
            "[[0 1 2]\n",
            " [3 4 5]\n",
            " [6 7 8]] \n",
            "\n"
          ]
        },
        {
          "output_type": "execute_result",
          "data": {
            "text/plain": [
              "array([[0, 3, 6],\n",
              "       [1, 4, 7],\n",
              "       [2, 5, 8]])"
            ]
          },
          "metadata": {},
          "execution_count": 42
        }
      ]
    },
    {
      "cell_type": "code",
      "source": [
        "#Q. 임의의 행렬을 생성 후 전치 행렬을 구하세요.\n",
        "import numpy as np\n",
        "\n",
        "# 임의의 행렬 생성\n",
        "original_matrix = np.random.rand(3, 3)\n",
        "print(\"원본 행렬:\")\n",
        "print(original_matrix)\n",
        "\n",
        "# 전치 행렬 구하기\n",
        "transpose_matrix = np.transpose(original_matrix)\n",
        "print(\"전치 행렬:\")\n",
        "print(transpose_matrix)"
      ],
      "metadata": {
        "colab": {
          "base_uri": "https://localhost:8080/"
        },
        "id": "J-jdMdWXM5cl",
        "outputId": "0ea1ab74-121b-44c3-bc31-128720e2b3e2"
      },
      "execution_count": 43,
      "outputs": [
        {
          "output_type": "stream",
          "name": "stdout",
          "text": [
            "원본 행렬:\n",
            "[[0.76133651 0.74003271 0.38152485]\n",
            " [0.30394676 0.79131908 0.1781759 ]\n",
            " [0.55798713 0.14790211 0.94158826]]\n",
            "전치 행렬:\n",
            "[[0.76133651 0.30394676 0.55798713]\n",
            " [0.74003271 0.79131908 0.14790211]\n",
            " [0.38152485 0.1781759  0.94158826]]\n"
          ]
        }
      ]
    },
    {
      "cell_type": "code",
      "source": [
        "# Q. 1부터 10까지의 숫자를 대각선에 갖는 대각행렬을 만들고, 그 대각행렬을 전치행렬로 바꾸세요.\n",
        "\n",
        "a = np.diag([1, 2, 3, 4, 5, 6, 7, 8, 9, 10])\n",
        "print(a,'\\n')\n",
        "b = a.transpose()\n",
        "print(b)"
      ],
      "metadata": {
        "colab": {
          "base_uri": "https://localhost:8080/"
        },
        "id": "2aRZitWAM5fF",
        "outputId": "1f066dae-4bfc-4956-dd5d-f640b8a8b799"
      },
      "execution_count": 45,
      "outputs": [
        {
          "output_type": "stream",
          "name": "stdout",
          "text": [
            "[[ 1  0  0  0  0  0  0  0  0  0]\n",
            " [ 0  2  0  0  0  0  0  0  0  0]\n",
            " [ 0  0  3  0  0  0  0  0  0  0]\n",
            " [ 0  0  0  4  0  0  0  0  0  0]\n",
            " [ 0  0  0  0  5  0  0  0  0  0]\n",
            " [ 0  0  0  0  0  6  0  0  0  0]\n",
            " [ 0  0  0  0  0  0  7  0  0  0]\n",
            " [ 0  0  0  0  0  0  0  8  0  0]\n",
            " [ 0  0  0  0  0  0  0  0  9  0]\n",
            " [ 0  0  0  0  0  0  0  0  0 10]] \n",
            "\n",
            "[[ 1  0  0  0  0  0  0  0  0  0]\n",
            " [ 0  2  0  0  0  0  0  0  0  0]\n",
            " [ 0  0  3  0  0  0  0  0  0  0]\n",
            " [ 0  0  0  4  0  0  0  0  0  0]\n",
            " [ 0  0  0  0  5  0  0  0  0  0]\n",
            " [ 0  0  0  0  0  6  0  0  0  0]\n",
            " [ 0  0  0  0  0  0  7  0  0  0]\n",
            " [ 0  0  0  0  0  0  0  8  0  0]\n",
            " [ 0  0  0  0  0  0  0  0  9  0]\n",
            " [ 0  0  0  0  0  0  0  0  0 10]]\n"
          ]
        }
      ]
    },
    {
      "cell_type": "code",
      "source": [
        "# Q. 대칭행렬을 생성하고 대칭행렬인지 확인하세요.\n",
        "import numpy as np\n",
        "\n",
        "def create_symmetric_matrix(n):\n",
        "    A = np.random.rand(n, n)\n",
        "    symmetric_matrix = (A + A.T) / 2\n",
        "    return symmetric_matrix\n",
        "\n",
        "def is_symmetric(matrix):\n",
        "    return np.allclose(matrix, matrix.T)\n",
        "\n",
        "n = 4\n",
        "symmetric_matrix = create_symmetric_matrix(n)\n",
        "print(\"생성된 대칭행렬:\")\n",
        "print(symmetric_matrix)\n",
        "\n",
        "if is_symmetric(symmetric_matrix):\n",
        "    print(\"이 행렬은 대칭행렬입니다.\")\n",
        "else:\n",
        "    print(\"이 행렬은 대칭행렬이 아닙니다.\")"
      ],
      "metadata": {
        "colab": {
          "base_uri": "https://localhost:8080/"
        },
        "id": "qWxILLiUM5gt",
        "outputId": "3678edd3-9c38-4b1b-c7ab-b0b23d581216"
      },
      "execution_count": 48,
      "outputs": [
        {
          "output_type": "stream",
          "name": "stdout",
          "text": [
            "생성된 대칭행렬:\n",
            "[[0.07839243 0.72776232 0.51962675 0.66187382]\n",
            " [0.72776232 0.52602386 0.67446487 0.53755436]\n",
            " [0.51962675 0.67446487 0.1440023  0.91969095]\n",
            " [0.66187382 0.53755436 0.91969095 0.93666286]]\n",
            "이 행렬은 대칭행렬입니다.\n"
          ]
        }
      ]
    },
    {
      "cell_type": "code",
      "source": [
        "# 정방행렬\n",
        "np.arange(9).reshape(3,3)"
      ],
      "metadata": {
        "colab": {
          "base_uri": "https://localhost:8080/"
        },
        "id": "MQLtUxQMM5jF",
        "outputId": "9b2fab8e-964d-4537-c28f-7b65050f966a"
      },
      "execution_count": 49,
      "outputs": [
        {
          "output_type": "execute_result",
          "data": {
            "text/plain": [
              "array([[0, 1, 2],\n",
              "       [3, 4, 5],\n",
              "       [6, 7, 8]])"
            ]
          },
          "metadata": {},
          "execution_count": 49
        }
      ]
    },
    {
      "cell_type": "code",
      "source": [
        "# 정방 행렬\n",
        "a = np.full((2,2),7)\n",
        "a"
      ],
      "metadata": {
        "colab": {
          "base_uri": "https://localhost:8080/"
        },
        "id": "HD8cAK7gM5lN",
        "outputId": "06f71573-15ae-4e29-fae1-48fcfa5f48de"
      },
      "execution_count": 50,
      "outputs": [
        {
          "output_type": "execute_result",
          "data": {
            "text/plain": [
              "array([[7, 7],\n",
              "       [7, 7]])"
            ]
          },
          "metadata": {},
          "execution_count": 50
        }
      ]
    },
    {
      "cell_type": "code",
      "source": [
        "# 대각합 계산\n",
        "np.trace(np.diag([2, 4, 6, 8, 10]))"
      ],
      "metadata": {
        "colab": {
          "base_uri": "https://localhost:8080/"
        },
        "id": "_Z44jMIdM5nG",
        "outputId": "f62fccaa-20e1-4564-87f6-f009b388996e"
      },
      "execution_count": 51,
      "outputs": [
        {
          "output_type": "execute_result",
          "data": {
            "text/plain": [
              "30"
            ]
          },
          "metadata": {},
          "execution_count": 51
        }
      ]
    },
    {
      "cell_type": "code",
      "source": [
        "# Q. 임의의 행렬을 생성후 대각합을 구하세요.\n",
        "import numpy as np\n",
        "\n",
        "matrix = np.random.randint(1, 11, size=(3, 3))\n",
        "\n",
        "print(\"생성된 행렬:\")\n",
        "print(matrix)\n",
        "\n",
        "trace = np.trace(matrix)\n",
        "\n",
        "print(\"대각합:\", trace)"
      ],
      "metadata": {
        "colab": {
          "base_uri": "https://localhost:8080/"
        },
        "id": "KxjuiEKHM5pG",
        "outputId": "fd0b8fee-6578-434f-cd8d-172acc067279"
      },
      "execution_count": 52,
      "outputs": [
        {
          "output_type": "stream",
          "name": "stdout",
          "text": [
            "생성된 행렬:\n",
            "[[ 4 10  6]\n",
            " [ 7  1  5]\n",
            " [ 1  6  1]]\n",
            "대각합: 6\n"
          ]
        }
      ]
    },
    {
      "cell_type": "code",
      "source": [
        "# 역행렬\n",
        "import numpy as np\n",
        "\n",
        "A = np.array([[1,2], [3,4]])\n",
        "print(A,'\\n')\n",
        "\n",
        "A_inverse = np.linalg.inv(A)\n",
        "\n",
        "print(A_inverse,'\\n')\n",
        "print(A @ A_inverse)"
      ],
      "metadata": {
        "colab": {
          "base_uri": "https://localhost:8080/"
        },
        "id": "N7nBifrdM5rN",
        "outputId": "e9225031-1549-4935-cf84-85008a6dacef"
      },
      "execution_count": 54,
      "outputs": [
        {
          "output_type": "stream",
          "name": "stdout",
          "text": [
            "[[1 2]\n",
            " [3 4]] \n",
            "\n",
            "[[-2.   1. ]\n",
            " [ 1.5 -0.5]] \n",
            "\n",
            "[[1.0000000e+00 0.0000000e+00]\n",
            " [8.8817842e-16 1.0000000e+00]]\n"
          ]
        }
      ]
    },
    {
      "cell_type": "code",
      "source": [
        "# Q. 임의의 3x3행렬 의 역행렬을 구하여 출력하세요\n",
        "def mx7():\n",
        "    A = np.array([[1, 2, 3], [0, 1, 4], [5, 6, 0]])\n",
        "    print(A,'\\n')\n",
        "    result = np.linalg.inv(A)\n",
        "    print(result)\n",
        "mx7()"
      ],
      "metadata": {
        "colab": {
          "base_uri": "https://localhost:8080/"
        },
        "id": "TnlBIdxtU44r",
        "outputId": "127d9066-097b-4fe3-f35a-7d1dfc40b8ba"
      },
      "execution_count": 56,
      "outputs": [
        {
          "output_type": "stream",
          "name": "stdout",
          "text": [
            "[[1 2 3]\n",
            " [0 1 4]\n",
            " [5 6 0]] \n",
            "\n",
            "[[-24.  18.   5.]\n",
            " [ 20. -15.  -4.]\n",
            " [ -5.   4.   1.]]\n"
          ]
        }
      ]
    },
    {
      "cell_type": "code",
      "source": [
        "# 행렬식 결과가 0이면 역행렬이 존재하지 않는다.\n",
        "np.linalg.det(A)"
      ],
      "metadata": {
        "colab": {
          "base_uri": "https://localhost:8080/"
        },
        "id": "utNF0dt_U48j",
        "outputId": "3585e0f9-3936-4cf2-e527-91f1b79e8cf4"
      },
      "execution_count": 62,
      "outputs": [
        {
          "output_type": "execute_result",
          "data": {
            "text/plain": [
              "-2.0000000000000004"
            ]
          },
          "metadata": {},
          "execution_count": 62
        }
      ]
    },
    {
      "cell_type": "code",
      "source": [
        "import numpy as np\n",
        "\n",
        "# 상삼각 행렬 정의\n",
        "A = np.triu(np.ones((3,3)))\n",
        "\n",
        "# 하삼각 행렬 정의\n",
        "B = np.tril(np.ones((3,3)))\n",
        "\n",
        "# 상삼각 행렬 출력\n",
        "print(A,'\\n')\n",
        "\n",
        "# 하삼각 행렬 출력\n",
        "print(B)"
      ],
      "metadata": {
        "colab": {
          "base_uri": "https://localhost:8080/"
        },
        "id": "yFXu8-W7M5tN",
        "outputId": "96bd461a-1768-478e-e7b4-6c1351e29266"
      },
      "execution_count": 63,
      "outputs": [
        {
          "output_type": "stream",
          "name": "stdout",
          "text": [
            "[[1. 1. 1.]\n",
            " [0. 1. 1.]\n",
            " [0. 0. 1.]] \n",
            "\n",
            "[[1. 0. 0.]\n",
            " [1. 1. 0.]\n",
            " [1. 1. 1.]]\n"
          ]
        }
      ]
    },
    {
      "cell_type": "code",
      "source": [
        "# Q. 임의의 행렬을 생성 후 상삼각 행렬을 구하세요\n",
        "import numpy as np\n",
        "\n",
        "np.random.seed(0)\n",
        "matrix = np.random.randint(1, 10, size=(5, 5))\n",
        "print(\"임의의 행렬:\")\n",
        "print(matrix)\n",
        "\n",
        "upper_triangular_matrix = np.triu(matrix)\n",
        "print(\"상삼각 행렬:\")\n",
        "print(upper_triangular_matrix)"
      ],
      "metadata": {
        "colab": {
          "base_uri": "https://localhost:8080/"
        },
        "id": "Qo-Wnoq6YMss",
        "outputId": "980644cc-ffb4-4bee-cf30-e32feb63d7a0"
      },
      "execution_count": 64,
      "outputs": [
        {
          "output_type": "stream",
          "name": "stdout",
          "text": [
            "임의의 행렬:\n",
            "[[6 1 4 4 8]\n",
            " [4 6 3 5 8]\n",
            " [7 9 9 2 7]\n",
            " [8 8 9 2 6]\n",
            " [9 5 4 1 4]]\n",
            "상삼각 행렬:\n",
            "[[6 1 4 4 8]\n",
            " [0 6 3 5 8]\n",
            " [0 0 9 2 7]\n",
            " [0 0 0 2 6]\n",
            " [0 0 0 0 4]]\n"
          ]
        }
      ]
    },
    {
      "cell_type": "code",
      "source": [
        "# Q. 임의의 행렬을 생성 후 하삼각 행렬을 구하세요\n",
        "import numpy as np\n",
        "\n",
        "np.random.seed(0)\n",
        "matrix = np.random.randint(1, 11, size=(5, 5))\n",
        "print(\"원본 행렬:\")\n",
        "print(matrix)\n",
        "\n",
        "lower_triangular_matrix = np.tril(matrix)\n",
        "print(\"하삼각 행렬:\")\n",
        "print(lower_triangular_matrix)"
      ],
      "metadata": {
        "colab": {
          "base_uri": "https://localhost:8080/"
        },
        "id": "8MNqjrLfYMuy",
        "outputId": "6641fe64-d03e-4544-da1f-01530f44552f"
      },
      "execution_count": 66,
      "outputs": [
        {
          "output_type": "stream",
          "name": "stdout",
          "text": [
            "원본 행렬:\n",
            "[[ 6  1  4  4  8]\n",
            " [10  4  6  3  5]\n",
            " [ 8  7  9  9  2]\n",
            " [ 7  8  8  9  2]\n",
            " [ 6 10  9 10  5]]\n",
            "하삼각 행렬:\n",
            "[[ 6  0  0  0  0]\n",
            " [10  4  0  0  0]\n",
            " [ 8  7  9  0  0]\n",
            " [ 7  8  8  9  0]\n",
            " [ 6 10  9 10  5]]\n"
          ]
        }
      ]
    },
    {
      "cell_type": "markdown",
      "source": [
        "## 벡터와 행렬의 연산\n",
        "- 벡터/행렬의 덧셈과 뺄셈 : 같은 위치에 있는 원소끼리 요소별 연산\n",
        "- 스칼라와 벡터/행렬의 곱셈\n",
        "- 브로드캐스팅 : 스칼라를 벡터로 변환한 연산을 허용\n",
        "- 벡터와 벡터의 곱셈. 내적\n",
        " - 두 벡터의 차원(길이)이 같아야 한다.\n",
        " - 앞의 벡터가 행벡터이고 뒤의 벡터가 열벡터여야 한다.\n",
        " - 내적의 결과는 스칼라 값이 됨. dot() 또는 @ 연산자로 계산"
      ],
      "metadata": {
        "id": "0lmgTL5csSP7"
      }
    },
    {
      "cell_type": "code",
      "source": [
        "import numpy as np\n",
        "x = np.array([10, 11, 12, 13,14])\n",
        "y = np.array([0, 1, 2, 3, 4])\n",
        "print(x + y)\n",
        "print(x - y)"
      ],
      "metadata": {
        "colab": {
          "base_uri": "https://localhost:8080/"
        },
        "id": "FKTjZ_kWYMy5",
        "outputId": "57d2d518-3d32-454b-e943-e20e43404044"
      },
      "execution_count": 2,
      "outputs": [
        {
          "output_type": "stream",
          "name": "stdout",
          "text": [
            "[10 12 14 16 18]\n",
            "[10 10 10 10 10]\n"
          ]
        }
      ]
    },
    {
      "cell_type": "code",
      "source": [
        "# 넘파이에서 벡터와 행렬은 dot() 또는 @ 연산자로 계산\n",
        "x = np.array([[1], [2], [3]])\n",
        "y = np.array([[4], [5], [6]])\n",
        "print(x, '\\n')\n",
        "print(x.T, '\\n')\n",
        "print(y, '\\n')\n",
        "x.T @ y"
      ],
      "metadata": {
        "colab": {
          "base_uri": "https://localhost:8080/"
        },
        "id": "i0B9tRZitRoV",
        "outputId": "fc92135e-c696-4de8-c487-f098220b59e2"
      },
      "execution_count": 3,
      "outputs": [
        {
          "output_type": "stream",
          "name": "stdout",
          "text": [
            "[[1]\n",
            " [2]\n",
            " [3]] \n",
            "\n",
            "[[1 2 3]] \n",
            "\n",
            "[[4]\n",
            " [5]\n",
            " [6]] \n",
            "\n"
          ]
        },
        {
          "output_type": "execute_result",
          "data": {
            "text/plain": [
              "array([[32]])"
            ]
          },
          "metadata": {},
          "execution_count": 3
        }
      ]
    },
    {
      "cell_type": "code",
      "source": [
        "# 넘파이에서는 1차원 배열끼리도 내적을 계산하는데 넘파이가 앞의 벡터는 행벡터이고 뒤는 열벡터라고 가정함\n",
        "# 1차원 ndarray는 전치연산이 정의되지 않는다.\n",
        "x = np.array([1, 2, 3])\n",
        "y = np.array([4, 5, 6])\n",
        "\n",
        "x @ y"
      ],
      "metadata": {
        "colab": {
          "base_uri": "https://localhost:8080/"
        },
        "id": "sceYj6EctRq1",
        "outputId": "753a4466-4b10-40e4-b272-c824e2a661e2"
      },
      "execution_count": 4,
      "outputs": [
        {
          "output_type": "execute_result",
          "data": {
            "text/plain": [
              "32"
            ]
          },
          "metadata": {},
          "execution_count": 4
        }
      ]
    },
    {
      "cell_type": "markdown",
      "source": [
        "#### 행렬 곱셈 (Matrix Multiplication)\n",
        "\n",
        "- **정의**: 두 행렬을 곱하는 연산. 첫 번째 행렬의 열 수와 두 번째 행렬의 행 수가 같아야 한다.\n",
        "- **용도**: 선형 변환, 뉴럴 네트워크의 가중치 계산 등에 사용.\n",
        "- **예시**: $(A \\cdot B)_{ij} = \\sum_{k} A_{ik} B_{kj}$"
      ],
      "metadata": {
        "id": "1ojtDnCGvxla"
      }
    },
    {
      "cell_type": "code",
      "source": [
        "from google.colab import files\n",
        "uploaded = files.upload()"
      ],
      "metadata": {
        "colab": {
          "base_uri": "https://localhost:8080/",
          "height": 77
        },
        "id": "okYQJaLPtRs4",
        "outputId": "56c76d90-5352-434c-aef3-c3290c1be41c"
      },
      "execution_count": 7,
      "outputs": [
        {
          "output_type": "display_data",
          "data": {
            "text/plain": [
              "<IPython.core.display.HTML object>"
            ],
            "text/html": [
              "\n",
              "     <input type=\"file\" id=\"files-4c280c9f-b5f2-4711-a9da-45bc99fadbf7\" name=\"files[]\" multiple disabled\n",
              "        style=\"border:none\" />\n",
              "     <output id=\"result-4c280c9f-b5f2-4711-a9da-45bc99fadbf7\">\n",
              "      Upload widget is only available when the cell has been executed in the\n",
              "      current browser session. Please rerun this cell to enable.\n",
              "      </output>\n",
              "      <script>// Copyright 2017 Google LLC\n",
              "//\n",
              "// Licensed under the Apache License, Version 2.0 (the \"License\");\n",
              "// you may not use this file except in compliance with the License.\n",
              "// You may obtain a copy of the License at\n",
              "//\n",
              "//      http://www.apache.org/licenses/LICENSE-2.0\n",
              "//\n",
              "// Unless required by applicable law or agreed to in writing, software\n",
              "// distributed under the License is distributed on an \"AS IS\" BASIS,\n",
              "// WITHOUT WARRANTIES OR CONDITIONS OF ANY KIND, either express or implied.\n",
              "// See the License for the specific language governing permissions and\n",
              "// limitations under the License.\n",
              "\n",
              "/**\n",
              " * @fileoverview Helpers for google.colab Python module.\n",
              " */\n",
              "(function(scope) {\n",
              "function span(text, styleAttributes = {}) {\n",
              "  const element = document.createElement('span');\n",
              "  element.textContent = text;\n",
              "  for (const key of Object.keys(styleAttributes)) {\n",
              "    element.style[key] = styleAttributes[key];\n",
              "  }\n",
              "  return element;\n",
              "}\n",
              "\n",
              "// Max number of bytes which will be uploaded at a time.\n",
              "const MAX_PAYLOAD_SIZE = 100 * 1024;\n",
              "\n",
              "function _uploadFiles(inputId, outputId) {\n",
              "  const steps = uploadFilesStep(inputId, outputId);\n",
              "  const outputElement = document.getElementById(outputId);\n",
              "  // Cache steps on the outputElement to make it available for the next call\n",
              "  // to uploadFilesContinue from Python.\n",
              "  outputElement.steps = steps;\n",
              "\n",
              "  return _uploadFilesContinue(outputId);\n",
              "}\n",
              "\n",
              "// This is roughly an async generator (not supported in the browser yet),\n",
              "// where there are multiple asynchronous steps and the Python side is going\n",
              "// to poll for completion of each step.\n",
              "// This uses a Promise to block the python side on completion of each step,\n",
              "// then passes the result of the previous step as the input to the next step.\n",
              "function _uploadFilesContinue(outputId) {\n",
              "  const outputElement = document.getElementById(outputId);\n",
              "  const steps = outputElement.steps;\n",
              "\n",
              "  const next = steps.next(outputElement.lastPromiseValue);\n",
              "  return Promise.resolve(next.value.promise).then((value) => {\n",
              "    // Cache the last promise value to make it available to the next\n",
              "    // step of the generator.\n",
              "    outputElement.lastPromiseValue = value;\n",
              "    return next.value.response;\n",
              "  });\n",
              "}\n",
              "\n",
              "/**\n",
              " * Generator function which is called between each async step of the upload\n",
              " * process.\n",
              " * @param {string} inputId Element ID of the input file picker element.\n",
              " * @param {string} outputId Element ID of the output display.\n",
              " * @return {!Iterable<!Object>} Iterable of next steps.\n",
              " */\n",
              "function* uploadFilesStep(inputId, outputId) {\n",
              "  const inputElement = document.getElementById(inputId);\n",
              "  inputElement.disabled = false;\n",
              "\n",
              "  const outputElement = document.getElementById(outputId);\n",
              "  outputElement.innerHTML = '';\n",
              "\n",
              "  const pickedPromise = new Promise((resolve) => {\n",
              "    inputElement.addEventListener('change', (e) => {\n",
              "      resolve(e.target.files);\n",
              "    });\n",
              "  });\n",
              "\n",
              "  const cancel = document.createElement('button');\n",
              "  inputElement.parentElement.appendChild(cancel);\n",
              "  cancel.textContent = 'Cancel upload';\n",
              "  const cancelPromise = new Promise((resolve) => {\n",
              "    cancel.onclick = () => {\n",
              "      resolve(null);\n",
              "    };\n",
              "  });\n",
              "\n",
              "  // Wait for the user to pick the files.\n",
              "  const files = yield {\n",
              "    promise: Promise.race([pickedPromise, cancelPromise]),\n",
              "    response: {\n",
              "      action: 'starting',\n",
              "    }\n",
              "  };\n",
              "\n",
              "  cancel.remove();\n",
              "\n",
              "  // Disable the input element since further picks are not allowed.\n",
              "  inputElement.disabled = true;\n",
              "\n",
              "  if (!files) {\n",
              "    return {\n",
              "      response: {\n",
              "        action: 'complete',\n",
              "      }\n",
              "    };\n",
              "  }\n",
              "\n",
              "  for (const file of files) {\n",
              "    const li = document.createElement('li');\n",
              "    li.append(span(file.name, {fontWeight: 'bold'}));\n",
              "    li.append(span(\n",
              "        `(${file.type || 'n/a'}) - ${file.size} bytes, ` +\n",
              "        `last modified: ${\n",
              "            file.lastModifiedDate ? file.lastModifiedDate.toLocaleDateString() :\n",
              "                                    'n/a'} - `));\n",
              "    const percent = span('0% done');\n",
              "    li.appendChild(percent);\n",
              "\n",
              "    outputElement.appendChild(li);\n",
              "\n",
              "    const fileDataPromise = new Promise((resolve) => {\n",
              "      const reader = new FileReader();\n",
              "      reader.onload = (e) => {\n",
              "        resolve(e.target.result);\n",
              "      };\n",
              "      reader.readAsArrayBuffer(file);\n",
              "    });\n",
              "    // Wait for the data to be ready.\n",
              "    let fileData = yield {\n",
              "      promise: fileDataPromise,\n",
              "      response: {\n",
              "        action: 'continue',\n",
              "      }\n",
              "    };\n",
              "\n",
              "    // Use a chunked sending to avoid message size limits. See b/62115660.\n",
              "    let position = 0;\n",
              "    do {\n",
              "      const length = Math.min(fileData.byteLength - position, MAX_PAYLOAD_SIZE);\n",
              "      const chunk = new Uint8Array(fileData, position, length);\n",
              "      position += length;\n",
              "\n",
              "      const base64 = btoa(String.fromCharCode.apply(null, chunk));\n",
              "      yield {\n",
              "        response: {\n",
              "          action: 'append',\n",
              "          file: file.name,\n",
              "          data: base64,\n",
              "        },\n",
              "      };\n",
              "\n",
              "      let percentDone = fileData.byteLength === 0 ?\n",
              "          100 :\n",
              "          Math.round((position / fileData.byteLength) * 100);\n",
              "      percent.textContent = `${percentDone}% done`;\n",
              "\n",
              "    } while (position < fileData.byteLength);\n",
              "  }\n",
              "\n",
              "  // All done.\n",
              "  yield {\n",
              "    response: {\n",
              "      action: 'complete',\n",
              "    }\n",
              "  };\n",
              "}\n",
              "\n",
              "scope.google = scope.google || {};\n",
              "scope.google.colab = scope.google.colab || {};\n",
              "scope.google.colab._files = {\n",
              "  _uploadFiles,\n",
              "  _uploadFilesContinue,\n",
              "};\n",
              "})(self);\n",
              "</script> "
            ]
          },
          "metadata": {}
        },
        {
          "output_type": "stream",
          "name": "stdout",
          "text": [
            "Saving KakaoTalk_20240611_142900873.jpg to KakaoTalk_20240611_142900873 (1).jpg\n"
          ]
        }
      ]
    },
    {
      "cell_type": "code",
      "source": [
        "# 행렬 곱을 응용하여 신경망에 적용\n",
        "from PIL import Image\n",
        "import matplotlib.pyplot as plt\n",
        "\n",
        "# 이미지 파일 경로\n",
        "image_path = '행렬곱.jpg'\n",
        "\n",
        "# 이미지를 불러옵니다.\n",
        "image = Image.open('/content/KakaoTalk_20240611_142900873.jpg')\n",
        "plt.imshow(image)\n",
        "plt.axis('off')  # Turn off axis numbers\n",
        "plt.show()"
      ],
      "metadata": {
        "colab": {
          "base_uri": "https://localhost:8080/",
          "height": 406
        },
        "id": "U8ng8VlAtRuu",
        "outputId": "175f9575-ace2-4840-a5d6-4dcd51b8c893"
      },
      "execution_count": 8,
      "outputs": [
        {
          "output_type": "display_data",
          "data": {
            "text/plain": [
              "<Figure size 640x480 with 1 Axes>"
            ],
            "image/png": "[encoded data removed]"
          },
          "metadata": {}
        }
      ]
    },
    {
      "cell_type": "code",
      "source": [
        "# 행렬 곱셈 : 두 행렬을 곱하는 연산\n",
        "matrix1 = np.array([[1,2],[3,4]])\n",
        "matrix2 = np.array([[5,6],[7,8]])\n",
        "product = np.dot(matrix1, matrix2)\n",
        "print(\"Matrix Multiplication:\\n\", product)\n",
        "# (2,2)@(2,2)=> (2,2)"
      ],
      "metadata": {
        "colab": {
          "base_uri": "https://localhost:8080/"
        },
        "id": "FzjREx0_tRwv",
        "outputId": "3a97d0c6-f30d-4d62-b802-706980c69f61"
      },
      "execution_count": 11,
      "outputs": [
        {
          "output_type": "stream",
          "name": "stdout",
          "text": [
            "Matrix Multiplication:\n",
            " [[19 22]\n",
            " [43 50]]\n"
          ]
        }
      ]
    },
    {
      "cell_type": "markdown",
      "source": [
        "#### np.dot과 np.matmul의 차이\n",
        "- np.dot은 1차원 배열에 대해서는 내적을, 2차원 배열에 대해서는 행렬 곱셈을, 그리고 더 높은 차원의 배열에 대해서는 일반화된 내적을 수행.\n",
        "- np.matmul (또는 @ 연산자)은 모든 경우에 행렬 곱셈을 수행하며, 더 직관적인 행렬 곱셈 동작을 제공.\n",
        "- 행렬 곱셈에 관한 코드를 작성할 때, 명확성을 위해 np.matmul이나 @ 연산자를 사용하는 것이 좋다.\n",
        "- 3차원 이상 배열에서 dot은 입력 배열의 차원을 변경시키는 반면 matmul은 입력 배열의 차원을 보존.\n",
        "\n",
        "\n",
        "| 기능/특징      | `np.dot`                                    | `np.matmul`                              |\n",
        "|----------------|---------------------------------------------|------------------------------------------|\n",
        "| **기본 기능**  | 벡터 내적, 행렬 곱                          | 행렬 곱                                  |\n",
        "| **벡터 내적**  | 지원                                        | 지원하지 않음                            |\n",
        "| **행렬 곱**    | 지원                                        | 지원                                     |\n",
        "| **다차원 배열**| 마지막 두 축을 기준으로 곱셈 수행            | 마지막 두 축을 기준으로 행렬 곱 수행      |\n",
        "| **브로드캐스팅**| 지원하지 않음                               | 지원                                     |\n",
        "| **사용 예**    | - `np.dot(vec1, vec2)`<br>  - `np.dot(mat1, mat2)` | - `np.matmul(mat1, mat2)`<br> - `np.matmul(arr1, arr2)` |\n",
        "| **용도**       | 일반적인 벡터 내적 및 행렬 곱                | 행렬 곱 및 다차원 배열의 행렬 곱          |\n"
      ],
      "metadata": {
        "id": "iQZijWctzVkL"
      }
    },
    {
      "cell_type": "code",
      "source": [
        "import numpy as np\n",
        "\n",
        "vec1 = np.array([1,2,3])\n",
        "vec2 = np.array([4, 5, 6])\n",
        "dot_product = np.dot(vec1,vec2)\n",
        "print(f\"벡터 내적: {dot_product}\")"
      ],
      "metadata": {
        "colab": {
          "base_uri": "https://localhost:8080/"
        },
        "id": "hQ5M9lUMtR2e",
        "outputId": "a39514ad-6f20-4c85-d698-c519f7055438"
      },
      "execution_count": 12,
      "outputs": [
        {
          "output_type": "stream",
          "name": "stdout",
          "text": [
            "벡터 내적: 32\n"
          ]
        }
      ]
    },
    {
      "cell_type": "code",
      "source": [
        "mat1 = np.array([[1,2],[3,4]])\n",
        "mat2 = np.array([[5,6],[7,8]])\n",
        "matrix_product = np.dot(mat1,mat2)\n",
        "print(f\"행렬 곱:\\n{matrix_product}\")"
      ],
      "metadata": {
        "colab": {
          "base_uri": "https://localhost:8080/"
        },
        "id": "WKt0WY03tR6c",
        "outputId": "f82e0373-66fd-456b-864f-30dbbd404aa4"
      },
      "execution_count": 13,
      "outputs": [
        {
          "output_type": "stream",
          "name": "stdout",
          "text": [
            "행렬 곱:\n",
            "[[19 22]\n",
            " [43 50]]\n"
          ]
        }
      ]
    },
    {
      "cell_type": "code",
      "source": [
        "vec = np.array([1,2])\n",
        "mat = np.array([[3,4],[5,6]])\n",
        "result = np.dot(vec,mat)\n",
        "print(f\"벡터와 행렬의 곱: {result}\")"
      ],
      "metadata": {
        "colab": {
          "base_uri": "https://localhost:8080/"
        },
        "id": "vQ2w-gXgtR-N",
        "outputId": "3d78abd0-6072-4a6d-991c-dc4f53a981b1"
      },
      "execution_count": 14,
      "outputs": [
        {
          "output_type": "stream",
          "name": "stdout",
          "text": [
            "벡터와 행렬의 곱: [13 16]\n"
          ]
        }
      ]
    },
    {
      "cell_type": "code",
      "source": [
        "arr1 = np.ones((2,3,4))\n",
        "arr2 = np.ones((2,4,5))\n",
        "result = np.dot(arr1,arr2)\n",
        "print(result.shape)"
      ],
      "metadata": {
        "colab": {
          "base_uri": "https://localhost:8080/"
        },
        "id": "WUWsFDSGtSAk",
        "outputId": "b3c4d3c6-ea88-44da-ae9f-6ff61b97d564"
      },
      "execution_count": 15,
      "outputs": [
        {
          "output_type": "stream",
          "name": "stdout",
          "text": [
            "(2, 3, 2, 5)\n"
          ]
        }
      ]
    },
    {
      "cell_type": "code",
      "source": [
        "mat1 = np.array([[1,2],[3,4]])\n",
        "mat1 = np.array([[5,6],[7,8]])\n",
        "matrix_product = np.matmul(mat1,mat2)\n",
        "print(f\"행렬 곱:\\n{matrix_product}\")"
      ],
      "metadata": {
        "colab": {
          "base_uri": "https://localhost:8080/"
        },
        "id": "A4r7nhz5YM0_",
        "outputId": "136c5f16-963a-4892-a8b2-afb4ee811e14"
      },
      "execution_count": 16,
      "outputs": [
        {
          "output_type": "stream",
          "name": "stdout",
          "text": [
            "행렬 곱:\n",
            "[[ 67  78]\n",
            " [ 91 106]]\n"
          ]
        }
      ]
    },
    {
      "cell_type": "code",
      "source": [
        "vec = np.array([1,2])\n",
        "mat = np.array([[3,4],[5,6]])\n",
        "result = np.matmul(vec,mat)\n",
        "print(f\"벡터와 행렬의 곱: {result}\")"
      ],
      "metadata": {
        "colab": {
          "base_uri": "https://localhost:8080/"
        },
        "id": "Gq0I7TeBYM9Q",
        "outputId": "fd2da63d-f961-41dd-915c-1d4c2b895b3a"
      },
      "execution_count": 17,
      "outputs": [
        {
          "output_type": "stream",
          "name": "stdout",
          "text": [
            "벡터와 행렬의 곱: [13 16]\n"
          ]
        }
      ]
    },
    {
      "cell_type": "code",
      "source": [
        "arr1 = np.ones((2,3,4))\n",
        "arr2 = np.ones((2,4,5))\n",
        "result = np.matmul(arr1,arr2)\n",
        "print(result.shape)"
      ],
      "metadata": {
        "colab": {
          "base_uri": "https://localhost:8080/"
        },
        "id": "ZPtaI7D7YM_w",
        "outputId": "e6472edc-8b6c-4d04-f18a-355ca24a23dc"
      },
      "execution_count": 18,
      "outputs": [
        {
          "output_type": "stream",
          "name": "stdout",
          "text": [
            "(2, 3, 5)\n"
          ]
        }
      ]
    },
    {
      "cell_type": "code",
      "source": [],
      "metadata": {
        "id": "nL0VhQKfYNB4"
      },
      "execution_count": null,
      "outputs": []
    },
    {
      "cell_type": "code",
      "source": [],
      "metadata": {
        "id": "iTorq2bK536J"
      },
      "execution_count": null,
      "outputs": []
    },
    {
      "cell_type": "code",
      "source": [],
      "metadata": {
        "id": "xH9ik4Qw538J"
      },
      "execution_count": null,
      "outputs": []
    },
    {
      "cell_type": "code",
      "source": [],
      "metadata": {
        "id": "7bILbFRe53-C"
      },
      "execution_count": null,
      "outputs": []
    },
    {
      "cell_type": "code",
      "source": [],
      "metadata": {
        "id": "pIh4TJtc54Bp"
      },
      "execution_count": null,
      "outputs": []
    },
    {
      "cell_type": "code",
      "source": [],
      "metadata": {
        "id": "hQ6Fg2PB54D1"
      },
      "execution_count": null,
      "outputs": []
    },
    {
      "cell_type": "code",
      "source": [],
      "metadata": {
        "id": "u6FVRTKK54Fh"
      },
      "execution_count": null,
      "outputs": []
    },
    {
      "cell_type": "code",
      "source": [],
      "metadata": {
        "id": "LI9Cphvn54Hh"
      },
      "execution_count": null,
      "outputs": []
    },
    {
      "cell_type": "code",
      "source": [],
      "metadata": {
        "id": "aWdRHdwHqHOO"
      },
      "execution_count": null,
      "outputs": []
    },
    {
      "cell_type": "code",
      "source": [],
      "metadata": {
        "id": "7HNv7cpPqHQd"
      },
      "execution_count": null,
      "outputs": []
    },
    {
      "cell_type": "code",
      "source": [],
      "metadata": {
        "id": "9w-q-pXGqHSV"
      },
      "execution_count": null,
      "outputs": []
    },
    {
      "cell_type": "code",
      "source": [],
      "metadata": {
        "id": "4fjL07IIqHUN"
      },
      "execution_count": null,
      "outputs": []
    },
    {
      "cell_type": "code",
      "source": [],
      "metadata": {
        "id": "Ra8rYbiOqHWN"
      },
      "execution_count": null,
      "outputs": []
    }
  ]
}