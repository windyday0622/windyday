{
  "nbformat": 4,
  "nbformat_minor": 0,
  "metadata": {
    "colab": {
      "provenance": [],
      "authorship_tag": "ABX9TyMYKhUvdm/NO8Q0TIgUIP79",
      "include_colab_link": true
    },
    "kernelspec": {
      "name": "python3",
      "display_name": "Python 3"
    },
    "language_info": {
      "name": "python"
    }
  },
  "cells": [
    {
      "cell_type": "markdown",
      "metadata": {
        "id": "view-in-github",
        "colab_type": "text"
      },
      "source": [
        "<a href=\"https://colab.research.google.com/github/windyday0622/windyday/blob/main/m3_%EB%B6%84%EC%84%9D%20%EB%9D%BC%EC%9D%B4%EB%B8%8C%EB%9F%AC%EB%A6%AC/%20%ED%86%B5%EA%B3%84_%ED%99%9C%EC%9A%A9.ipynb\" target=\"_parent\"><img src=\"https://colab.research.google.com/assets/colab-badge.svg\" alt=\"Open In Colab\"/></a>"
      ]
    },
    {
      "cell_type": "markdown",
      "source": [
        "Q. 한 학급의 학생 10명의 수학 시험 점수는 다음과 같습니다:\n",
        "\n",
        "[85, 72, 90, 68, 88, 76, 95, 89, 77, 84].\n",
        "\n",
        "학급의 평균 점수와 표준편차를 계산하여 전체 성적 수준과 변동성을 파악하세요. 이 데이터에서 어떤 인사이트를 얻을 수 있습니까?"
      ],
      "metadata": {
        "id": "nLuZoEjV6NPj"
      }
    },
    {
      "cell_type": "code",
      "execution_count": 22,
      "metadata": {
        "colab": {
          "base_uri": "https://localhost:8080/"
        },
        "id": "lwSN72Fq6MNn",
        "outputId": "60cf1f48-28df-4bf2-e8ff-f17f28179cf5"
      },
      "outputs": [
        {
          "output_type": "stream",
          "name": "stdout",
          "text": [
            "평균 점수: 82.40\n",
            "표준편차: 8.73\n",
            "최고 점수: 95\n",
            "최저 점수: 68\n",
            "점수 범위: 27\n",
            "\n",
            "인사이트:\n",
            "1. 전체 성적 수준:\n",
            " - 평균 점수가 82.40로, 학급의 전반적인 수학 성적 수준은 비교적 높은 편입니다.\n",
            "\n",
            "2. 성적의 변동성:\n",
            " - 표준편차가 8.73이므로, 학생들의 점수는 평균으로부터 약 ±8.73 점 정도의 범위 내에서 분포하고 있습니다.\n",
            " - 대부분의 학생들이 평균 점수인 82.40점에서 ±8.73점 범위 내에 위치할 것으로 예상할 수 있습니다.\n",
            "\n",
            "추가 인사이트:\n",
            " - 최고 점수는 95점, 최저 점수는 68점으로, 가장 높은 점수와 가장 낮은 점수 사이의 차이는 27점입니다.\n",
            " - 평균 이하의 점수를 받은 학생들에게 추가적인 학습 지원이나 보충 수업이 필요할 수 있습니다.\n",
            " - 90점 이상을 받은 학생들은 현재 학습 방식이 효과적임을 나타내며, 더 높은 수준의 도전 과제가 필요할 수 있습니다.\n"
          ]
        }
      ],
      "source": [
        "import numpy as np\n",
        "\n",
        "scores = np.array([85, 72, 90, 68, 88, 76, 95, 89, 77, 84])\n",
        "\n",
        "mean_score = np.mean(scores)\n",
        "\n",
        "std_deviation = np.std(scores, ddof=1)\n",
        "\n",
        "print(f\"평균 점수: {mean_score:.2f}\")\n",
        "print(f\"표준편차: {std_deviation:.2f}\")\n",
        "\n",
        "highest_score = np.max(scores)\n",
        "lowest_score = np.min(scores)\n",
        "range_of_scores = highest_score - lowest_score\n",
        "\n",
        "print(f\"최고 점수: {highest_score}\")\n",
        "print(f\"최저 점수: {lowest_score}\")\n",
        "print(f\"점수 범위: {range_of_scores}\")\n",
        "\n",
        "print(\"\\n인사이트:\")\n",
        "print(\"1. 전체 성적 수준:\")\n",
        "print(f\" - 평균 점수가 {mean_score:.2f}로, 학급의 전반적인 수학 성적 수준은 비교적 높은 편입니다.\")\n",
        "print(\"\\n2. 성적의 변동성:\")\n",
        "print(f\" - 표준편차가 {std_deviation:.2f}이므로, 학생들의 점수는 평균으로부터 약 ±{std_deviation:.2f} 점 정도의 범위 내에서 분포하고 있습니다.\")\n",
        "print(\" - 대부분의 학생들이 평균 점수인 {:.2f}점에서 ±{:.2f}점 범위 내에 위치할 것으로 예상할 수 있습니다.\".format(mean_score, std_deviation))\n",
        "\n",
        "print(\"\\n추가 인사이트:\")\n",
        "print(\" - 최고 점수는 {}점, 최저 점수는 {}점으로, 가장 높은 점수와 가장 낮은 점수 사이의 차이는 {}점입니다.\".format(highest_score, lowest_score, range_of_scores))\n",
        "print(\" - 평균 이하의 점수를 받은 학생들에게 추가적인 학습 지원이나 보충 수업이 필요할 수 있습니다.\")\n",
        "print(\" - 90점 이상을 받은 학생들은 현재 학습 방식이 효과적임을 나타내며, 더 높은 수준의 도전 과제가 필요할 수 있습니다.\")\n"
      ]
    },
    {
      "cell_type": "markdown",
      "source": [
        "Q. 어느 도시에 지난 1년간 매달 내린 강수량 데이터는 다음과 같습니다:\n",
        "\n",
        "[85, 90, 78, 110, 88, 76, 120, 89, 77, 91, 100, 95].\n",
        "\n",
        "이 데이터를 이용해 중간값과 1사분위수, 3사분위수를 계산하여 강수량의 분포를 파악하세요. 이 데이터에서 어떤 인사이트를 얻을 수 있습니까?"
      ],
      "metadata": {
        "id": "QlHsgBW26OIq"
      }
    },
    {
      "cell_type": "code",
      "source": [
        "import numpy as np\n",
        "\n",
        "rainfall_data = [85, 90, 78, 110, 88, 76, 120, 89, 77, 91, 100, 95]\n",
        "\n",
        "rainfall_array = np.array(rainfall_data)\n",
        "\n",
        "median = np.median(rainfall_array)\n",
        "\n",
        "q1 = np.percentile(rainfall_array, 25)\n",
        "\n",
        "q3 = np.percentile(rainfall_array, 75)\n",
        "\n",
        "print(f\"중간값 (Median): {median}\")\n",
        "print(f\"1사분위수 (Q1): {q1}\")\n",
        "print(f\"3사분위수 (Q3): {q3}\")\n"
      ],
      "metadata": {
        "colab": {
          "base_uri": "https://localhost:8080/"
        },
        "id": "LFMb_P2K6OOJ",
        "outputId": "0370ce69-99e2-4be6-fabf-4d702f95085d"
      },
      "execution_count": 21,
      "outputs": [
        {
          "output_type": "stream",
          "name": "stdout",
          "text": [
            "중간값 (Median): 89.5\n",
            "1사분위수 (Q1): 83.25\n",
            "3사분위수 (Q3): 96.25\n"
          ]
        }
      ]
    },
    {
      "cell_type": "markdown",
      "source": [
        "# 인사이트\n",
        "\n",
        "중간값(Median): 89.5mm\n",
        "중간값은 데이터의 중앙값을 나타내며, 데이터셋의 중간에 위치하는 값입니다. 이 값은 강수량 데이터의 절반이 89.5mm 이하이고 나머지 절반이 89.5mm 이상임을 의미합니다. 이는 강수량이 전반적으로 큰 변동 없이 중간 정도에 몰려 있음을 보여줍니다.\n",
        "\n",
        "1사분위수(Q1): 83.25mm\n",
        "1사분위수는 하위 25%의 데이터를 나타냅니다. 강수량이 83.25mm 이하인 달이 전체의 25%를 차지합니다. 이는 강수량이 적은 달의 범위를 이해하는 데 도움이 됩니다.\n",
        "\n",
        "3사분위수(Q3): 96.25mm\n",
        "3사분위수는 상위 25%의 데이터를 나타냅니다. 강수량이 96.25mm 이상인 달이 전체의 25%를 차지합니다. 이는 강수량이 많은 달의 범위를 이해하는 데 도움이 됩니다.\n",
        "\n",
        "# 분포에 대한 인사이트\n",
        "\n",
        "중간값과 사분위수 범위:\n",
        "데이터의 중간값이 89.5mm이며, 1사분위수(Q1)와 3사분위수(Q3) 사이의 범위(즉, 83.25mm에서 96.25mm)가 비교적 좁습니다. 이는 대부분의 달이 이 범위 내에 있다는 것을 의미하며, 강수량의 변동성이 상대적으로 작다는 것을 나타냅니다.\n",
        "\n",
        "데이터의 집중도:\n",
        "데이터가 Q1(83.25mm)과 Q3(96.25mm) 사이에 집중되어 있어, 강수량의 극단적인 변동이 적음을 보여줍니다. 이는 강수량이 일정하게 분포되어 있으며, 극단적인 비나 가뭄 현상이 적다는 것을 의미할 수 있습니다.\n",
        "\n",
        "정책적 시사점:\n",
        "이러한 분석 결과는 도시의 물 관리 및 자원 배분 계획을 수립하는 데 유용합니다. 예를 들어, 강수량이 비교적 안정적이므로, 물 저장 및 배수 시스템을 설계할 때 큰 변동성을 고려할 필요가 적을 수 있습니다.\n",
        "\n",
        "결론\n",
        "이 분석은 도시의 강수량이 큰 변동 없이 일정하게 분포되어 있음을 시사합니다.\n",
        "이러한 정보는 물 자원 관리, 농업 계획, 도시 설계 등 다양한 분야에서 유용하게 사용될 수 있습니다."
      ],
      "metadata": {
        "id": "RSxS700O7Pxp"
      }
    },
    {
      "cell_type": "markdown",
      "source": [
        "Q. 한 온라인 쇼핑몰의 지난 10일간 일일 방문자 수는 다음과 같습니다:\n",
        "\n",
        "[150, 200, 220, 180, 190, 170, 210, 230, 160, 175].\n",
        "\n",
        "방문자 수의 분포를 시각화하기 위해 히스토그램을 그리고, 방문자 수의 변동성에 대한 인사이트를 도출하세요."
      ],
      "metadata": {
        "id": "PJYngoUG6OSy"
      }
    },
    {
      "cell_type": "code",
      "source": [
        "import matplotlib.pyplot as plt\n",
        "from matplotlib import rcParams\n",
        "\n",
        "visitors = [150, 200, 220, 180, 190, 170, 210, 230, 160, 175]\n",
        "\n",
        "plt.figure(figsize=(10, 6))\n",
        "plt.hist(visitors, bins=5, edgecolor='black', color='skyblue')\n",
        "plt.title('일일 방문자 수 히스토그램')\n",
        "plt.xlabel('방문자 수')\n",
        "plt.ylabel('빈도')\n",
        "plt.grid(True)\n",
        "plt.show()\n"
      ],
      "metadata": {
        "colab": {
          "base_uri": "https://localhost:8080/",
          "height": 1000
        },
        "id": "uBML_Sk36Obb",
        "outputId": "ec116a78-0ca6-47cd-eb48-f266f9be4ad1"
      },
      "execution_count": 20,
      "outputs": [
        {
          "output_type": "stream",
          "name": "stderr",
          "text": [
            "WARNING:matplotlib.font_manager:findfont: Font family 'Malgun Gothic' not found.\n",
            "WARNING:matplotlib.font_manager:findfont: Font family 'Malgun Gothic' not found.\n",
            "WARNING:matplotlib.font_manager:findfont: Font family 'Malgun Gothic' not found.\n",
            "WARNING:matplotlib.font_manager:findfont: Font family 'Malgun Gothic' not found.\n",
            "WARNING:matplotlib.font_manager:findfont: Font family 'Malgun Gothic' not found.\n",
            "WARNING:matplotlib.font_manager:findfont: Font family 'Malgun Gothic' not found.\n",
            "WARNING:matplotlib.font_manager:findfont: Font family 'Malgun Gothic' not found.\n",
            "WARNING:matplotlib.font_manager:findfont: Font family 'Malgun Gothic' not found.\n",
            "WARNING:matplotlib.font_manager:findfont: Font family 'Malgun Gothic' not found.\n",
            "/usr/local/lib/python3.10/dist-packages/IPython/core/pylabtools.py:151: UserWarning: Glyph 48712 (\\N{HANGUL SYLLABLE BIN}) missing from current font.\n",
            "  fig.canvas.print_figure(bytes_io, **kw)\n",
            "/usr/local/lib/python3.10/dist-packages/IPython/core/pylabtools.py:151: UserWarning: Glyph 46020 (\\N{HANGUL SYLLABLE DO}) missing from current font.\n",
            "  fig.canvas.print_figure(bytes_io, **kw)\n",
            "WARNING:matplotlib.font_manager:findfont: Font family 'Malgun Gothic' not found.\n",
            "WARNING:matplotlib.font_manager:findfont: Font family 'Malgun Gothic' not found.\n",
            "/usr/local/lib/python3.10/dist-packages/IPython/core/pylabtools.py:151: UserWarning: Glyph 51068 (\\N{HANGUL SYLLABLE IL}) missing from current font.\n",
            "  fig.canvas.print_figure(bytes_io, **kw)\n",
            "/usr/local/lib/python3.10/dist-packages/IPython/core/pylabtools.py:151: UserWarning: Glyph 48169 (\\N{HANGUL SYLLABLE BANG}) missing from current font.\n",
            "  fig.canvas.print_figure(bytes_io, **kw)\n",
            "/usr/local/lib/python3.10/dist-packages/IPython/core/pylabtools.py:151: UserWarning: Glyph 47928 (\\N{HANGUL SYLLABLE MUN}) missing from current font.\n",
            "  fig.canvas.print_figure(bytes_io, **kw)\n",
            "/usr/local/lib/python3.10/dist-packages/IPython/core/pylabtools.py:151: UserWarning: Glyph 51088 (\\N{HANGUL SYLLABLE JA}) missing from current font.\n",
            "  fig.canvas.print_figure(bytes_io, **kw)\n",
            "/usr/local/lib/python3.10/dist-packages/IPython/core/pylabtools.py:151: UserWarning: Glyph 49688 (\\N{HANGUL SYLLABLE SU}) missing from current font.\n",
            "  fig.canvas.print_figure(bytes_io, **kw)\n",
            "/usr/local/lib/python3.10/dist-packages/IPython/core/pylabtools.py:151: UserWarning: Glyph 55176 (\\N{HANGUL SYLLABLE HI}) missing from current font.\n",
            "  fig.canvas.print_figure(bytes_io, **kw)\n",
            "/usr/local/lib/python3.10/dist-packages/IPython/core/pylabtools.py:151: UserWarning: Glyph 49828 (\\N{HANGUL SYLLABLE SEU}) missing from current font.\n",
            "  fig.canvas.print_figure(bytes_io, **kw)\n",
            "/usr/local/lib/python3.10/dist-packages/IPython/core/pylabtools.py:151: UserWarning: Glyph 53664 (\\N{HANGUL SYLLABLE TO}) missing from current font.\n",
            "  fig.canvas.print_figure(bytes_io, **kw)\n",
            "/usr/local/lib/python3.10/dist-packages/IPython/core/pylabtools.py:151: UserWarning: Glyph 44536 (\\N{HANGUL SYLLABLE GEU}) missing from current font.\n",
            "  fig.canvas.print_figure(bytes_io, **kw)\n",
            "/usr/local/lib/python3.10/dist-packages/IPython/core/pylabtools.py:151: UserWarning: Glyph 47016 (\\N{HANGUL SYLLABLE RAEM}) missing from current font.\n",
            "  fig.canvas.print_figure(bytes_io, **kw)\n",
            "WARNING:matplotlib.font_manager:findfont: Font family 'Malgun Gothic' not found.\n",
            "WARNING:matplotlib.font_manager:findfont: Font family 'Malgun Gothic' not found.\n",
            "WARNING:matplotlib.font_manager:findfont: Font family 'Malgun Gothic' not found.\n",
            "WARNING:matplotlib.font_manager:findfont: Font family 'Malgun Gothic' not found.\n",
            "WARNING:matplotlib.font_manager:findfont: Font family 'Malgun Gothic' not found.\n",
            "WARNING:matplotlib.font_manager:findfont: Font family 'Malgun Gothic' not found.\n",
            "WARNING:matplotlib.font_manager:findfont: Font family 'Malgun Gothic' not found.\n",
            "WARNING:matplotlib.font_manager:findfont: Font family 'Malgun Gothic' not found.\n",
            "WARNING:matplotlib.font_manager:findfont: Font family 'Malgun Gothic' not found.\n",
            "WARNING:matplotlib.font_manager:findfont: Font family 'Malgun Gothic' not found.\n",
            "WARNING:matplotlib.font_manager:findfont: Font family 'Malgun Gothic' not found.\n",
            "WARNING:matplotlib.font_manager:findfont: Font family 'Malgun Gothic' not found.\n",
            "WARNING:matplotlib.font_manager:findfont: Font family 'Malgun Gothic' not found.\n",
            "WARNING:matplotlib.font_manager:findfont: Font family 'Malgun Gothic' not found.\n",
            "WARNING:matplotlib.font_manager:findfont: Font family 'Malgun Gothic' not found.\n",
            "WARNING:matplotlib.font_manager:findfont: Font family 'Malgun Gothic' not found.\n",
            "WARNING:matplotlib.font_manager:findfont: Font family 'Malgun Gothic' not found.\n",
            "WARNING:matplotlib.font_manager:findfont: Font family 'Malgun Gothic' not found.\n",
            "WARNING:matplotlib.font_manager:findfont: Font family 'Malgun Gothic' not found.\n",
            "WARNING:matplotlib.font_manager:findfont: Font family 'Malgun Gothic' not found.\n",
            "WARNING:matplotlib.font_manager:findfont: Font family 'Malgun Gothic' not found.\n",
            "WARNING:matplotlib.font_manager:findfont: Font family 'Malgun Gothic' not found.\n",
            "WARNING:matplotlib.font_manager:findfont: Font family 'Malgun Gothic' not found.\n",
            "WARNING:matplotlib.font_manager:findfont: Font family 'Malgun Gothic' not found.\n",
            "WARNING:matplotlib.font_manager:findfont: Font family 'Malgun Gothic' not found.\n",
            "WARNING:matplotlib.font_manager:findfont: Font family 'Malgun Gothic' not found.\n",
            "WARNING:matplotlib.font_manager:findfont: Font family 'Malgun Gothic' not found.\n",
            "WARNING:matplotlib.font_manager:findfont: Font family 'Malgun Gothic' not found.\n",
            "WARNING:matplotlib.font_manager:findfont: Font family 'Malgun Gothic' not found.\n",
            "WARNING:matplotlib.font_manager:findfont: Font family 'Malgun Gothic' not found.\n",
            "WARNING:matplotlib.font_manager:findfont: Font family 'Malgun Gothic' not found.\n",
            "WARNING:matplotlib.font_manager:findfont: Font family 'Malgun Gothic' not found.\n",
            "WARNING:matplotlib.font_manager:findfont: Font family 'Malgun Gothic' not found.\n",
            "WARNING:matplotlib.font_manager:findfont: Font family 'Malgun Gothic' not found.\n",
            "WARNING:matplotlib.font_manager:findfont: Font family 'Malgun Gothic' not found.\n",
            "WARNING:matplotlib.font_manager:findfont: Font family 'Malgun Gothic' not found.\n",
            "WARNING:matplotlib.font_manager:findfont: Font family 'Malgun Gothic' not found.\n",
            "WARNING:matplotlib.font_manager:findfont: Font family 'Malgun Gothic' not found.\n",
            "WARNING:matplotlib.font_manager:findfont: Font family 'Malgun Gothic' not found.\n",
            "WARNING:matplotlib.font_manager:findfont: Font family 'Malgun Gothic' not found.\n",
            "WARNING:matplotlib.font_manager:findfont: Font family 'Malgun Gothic' not found.\n",
            "WARNING:matplotlib.font_manager:findfont: Font family 'Malgun Gothic' not found.\n",
            "WARNING:matplotlib.font_manager:findfont: Font family 'Malgun Gothic' not found.\n",
            "WARNING:matplotlib.font_manager:findfont: Font family 'Malgun Gothic' not found.\n",
            "WARNING:matplotlib.font_manager:findfont: Font family 'Malgun Gothic' not found.\n",
            "WARNING:matplotlib.font_manager:findfont: Font family 'Malgun Gothic' not found.\n",
            "WARNING:matplotlib.font_manager:findfont: Font family 'Malgun Gothic' not found.\n",
            "WARNING:matplotlib.font_manager:findfont: Font family 'Malgun Gothic' not found.\n",
            "WARNING:matplotlib.font_manager:findfont: Font family 'Malgun Gothic' not found.\n",
            "WARNING:matplotlib.font_manager:findfont: Font family 'Malgun Gothic' not found.\n"
          ]
        },
        {
          "output_type": "display_data",
          "data": {
            "text/plain": [
              "<Figure size 1000x600 with 1 Axes>"
            ],
            "image/png": "[encoded data removed]"
          },
          "metadata": {}
        }
      ]
    },
    {
      "cell_type": "markdown",
      "source": [
        "# 방문자 수의 변동성에 대한 인사이트\n",
        "\n",
        "방문자 수는 150명대에서 230명대까지 변동하지만, 대부분의 값이 200명 이하에 분포하고 있습니다.\n",
        "히스토그램의 막대가 고르게 분포되어 있지 않으며, 특정 구간에 몰려 있는 것을 확인할 수 있습니다. 이는 방문자 수가 일정한 패턴을 가지고 있을 수 있음을 시사합니다."
      ],
      "metadata": {
        "id": "pINA6gA-79bh"
      }
    },
    {
      "cell_type": "markdown",
      "source": [
        "Q. 한 회사의 직원 연봉 데이터가 다음과 같습니다:\n",
        "\n",
        "[45000, 50000, 52000, 47000, 48000, 53000, 60000, 62000, 55000, 58000].\n",
        "\n",
        "이 데이터를 이용하여 연봉의 분포와 이상치를 시각화하는 상자 그림을 그리고, 연봉 분포에 대한 인사이트를 도출하세요."
      ],
      "metadata": {
        "id": "C2oZ-M4k6OhZ"
      }
    },
    {
      "cell_type": "code",
      "source": [
        "import matplotlib.pyplot as plt\n",
        "\n",
        "salaries = [45000, 50000, 52000, 47000, 48000, 53000, 60000, 62000, 55000, 58000]\n",
        "\n",
        "plt.boxplot(salaries)\n",
        "plt.title('Employee Salary Distribution')\n",
        "plt.xlabel('Company')\n",
        "plt.ylabel('Salary')\n",
        "plt.grid(True)\n",
        "plt.show()\n"
      ],
      "metadata": {
        "colab": {
          "base_uri": "https://localhost:8080/",
          "height": 1000
        },
        "id": "2SCHJAu46Opy",
        "outputId": "0413dfbb-42a0-49cf-a38d-c5f24d4a41f2"
      },
      "execution_count": 19,
      "outputs": [
        {
          "output_type": "stream",
          "name": "stderr",
          "text": [
            "WARNING:matplotlib.font_manager:findfont: Font family 'Malgun Gothic' not found.\n",
            "WARNING:matplotlib.font_manager:findfont: Font family 'Malgun Gothic' not found.\n",
            "WARNING:matplotlib.font_manager:findfont: Font family 'Malgun Gothic' not found.\n",
            "WARNING:matplotlib.font_manager:findfont: Font family 'Malgun Gothic' not found.\n",
            "WARNING:matplotlib.font_manager:findfont: Font family 'Malgun Gothic' not found.\n",
            "WARNING:matplotlib.font_manager:findfont: Font family 'Malgun Gothic' not found.\n",
            "WARNING:matplotlib.font_manager:findfont: Font family 'Malgun Gothic' not found.\n",
            "WARNING:matplotlib.font_manager:findfont: Font family 'Malgun Gothic' not found.\n",
            "WARNING:matplotlib.font_manager:findfont: Font family 'Malgun Gothic' not found.\n",
            "WARNING:matplotlib.font_manager:findfont: Font family 'Malgun Gothic' not found.\n",
            "WARNING:matplotlib.font_manager:findfont: Font family 'Malgun Gothic' not found.\n",
            "WARNING:matplotlib.font_manager:findfont: Font family 'Malgun Gothic' not found.\n",
            "WARNING:matplotlib.font_manager:findfont: Font family 'Malgun Gothic' not found.\n",
            "WARNING:matplotlib.font_manager:findfont: Font family 'Malgun Gothic' not found.\n",
            "WARNING:matplotlib.font_manager:findfont: Font family 'Malgun Gothic' not found.\n",
            "WARNING:matplotlib.font_manager:findfont: Font family 'Malgun Gothic' not found.\n",
            "WARNING:matplotlib.font_manager:findfont: Font family 'Malgun Gothic' not found.\n",
            "WARNING:matplotlib.font_manager:findfont: Font family 'Malgun Gothic' not found.\n",
            "WARNING:matplotlib.font_manager:findfont: Font family 'Malgun Gothic' not found.\n",
            "WARNING:matplotlib.font_manager:findfont: Font family 'Malgun Gothic' not found.\n",
            "WARNING:matplotlib.font_manager:findfont: Font family 'Malgun Gothic' not found.\n",
            "WARNING:matplotlib.font_manager:findfont: Font family 'Malgun Gothic' not found.\n",
            "WARNING:matplotlib.font_manager:findfont: Font family 'Malgun Gothic' not found.\n",
            "WARNING:matplotlib.font_manager:findfont: Font family 'Malgun Gothic' not found.\n",
            "WARNING:matplotlib.font_manager:findfont: Font family 'Malgun Gothic' not found.\n",
            "WARNING:matplotlib.font_manager:findfont: Font family 'Malgun Gothic' not found.\n",
            "WARNING:matplotlib.font_manager:findfont: Font family 'Malgun Gothic' not found.\n",
            "WARNING:matplotlib.font_manager:findfont: Font family 'Malgun Gothic' not found.\n",
            "WARNING:matplotlib.font_manager:findfont: Font family 'Malgun Gothic' not found.\n",
            "WARNING:matplotlib.font_manager:findfont: Font family 'Malgun Gothic' not found.\n",
            "WARNING:matplotlib.font_manager:findfont: Font family 'Malgun Gothic' not found.\n",
            "WARNING:matplotlib.font_manager:findfont: Font family 'Malgun Gothic' not found.\n",
            "WARNING:matplotlib.font_manager:findfont: Font family 'Malgun Gothic' not found.\n",
            "WARNING:matplotlib.font_manager:findfont: Font family 'Malgun Gothic' not found.\n",
            "WARNING:matplotlib.font_manager:findfont: Font family 'Malgun Gothic' not found.\n",
            "WARNING:matplotlib.font_manager:findfont: Font family 'Malgun Gothic' not found.\n",
            "WARNING:matplotlib.font_manager:findfont: Font family 'Malgun Gothic' not found.\n",
            "WARNING:matplotlib.font_manager:findfont: Font family 'Malgun Gothic' not found.\n",
            "WARNING:matplotlib.font_manager:findfont: Font family 'Malgun Gothic' not found.\n",
            "WARNING:matplotlib.font_manager:findfont: Font family 'Malgun Gothic' not found.\n"
          ]
        },
        {
          "output_type": "display_data",
          "data": {
            "text/plain": [
              "<Figure size 640x480 with 1 Axes>"
            ],
            "image/png": "[encoded data removed]"
          },
          "metadata": {}
        }
      ]
    },
    {
      "cell_type": "markdown",
      "source": [
        "# 연봉 분포에 대한 인사이트\n",
        "\n",
        "중앙값(Median): 상자 그림에서 상자 안에 위치한 가로선이 중앙값을 나타냅니다. 중앙값은 약 52,500달러로, 데이터의 중심 경향을 대표합니다.\n",
        "\n",
        "사분위 범위(IQR): 상자의 길이가 데이터의 IQR을 나타냅니다. 이 값은 약 7,500달러입니다.\n",
        "\n",
        "최솟값과 최댓값: 박스 위아래의 수염(Whiskers)은 각각 데이터의 최솟값과 최댓값을 나타냅니다. 최솟값은 약 45,000달러이고, 최댓값은 약 62,000달러입니다.\n",
        "\n",
        "이상치(Outliers): 상자 그림에서 동그라미로 표시된 점들은 이상치를 나타냅니다. 이상치가 하나 있으며, 약 60,000달러 이상의 연봉을 받는 직원입니다."
      ],
      "metadata": {
        "id": "12AZ2fXN8b5B"
      }
    },
    {
      "cell_type": "markdown",
      "source": [
        "Q. 한 마케팅 캠페인에서 투자한 광고비와 발생한 매출 데이터가 각각 다음과 같습니다:\n",
        "\n",
        "광고비 [1, 2, 3, 4, 5] (단위: 천 달러),\n",
        "\n",
        "매출 [10, 15, 20, 25, 30] (단위: 천 달러).\n",
        "\n",
        "광고비와 매출 간의 관계를 시각화하기 위해 산점도를 그리고, 두 변수 간의 관계에 대한 인사이트를 도출하세요."
      ],
      "metadata": {
        "id": "MLl__Hv_6OvR"
      }
    },
    {
      "cell_type": "code",
      "source": [
        "import matplotlib.pyplot as plt\n",
        "\n",
        "광고비 = [1, 2, 3, 4, 5]\n",
        "매출 = [10, 15, 20, 25, 30]\n",
        "\n",
        "plt.scatter(광고비, 매출, color='blue')\n",
        "plt.title('광고비와 매출 간의 관계')\n",
        "plt.xlabel('광고비 (천 달러)')\n",
        "plt.ylabel('매출 (천 달러)')\n",
        "plt.grid(True)\n",
        "plt.show()\n"
      ],
      "metadata": {
        "colab": {
          "base_uri": "https://localhost:8080/",
          "height": 1000
        },
        "id": "bMaNTgmK6O3p",
        "outputId": "ecdad21b-4a17-4ad2-b329-2e10e4f862f8"
      },
      "execution_count": 18,
      "outputs": [
        {
          "output_type": "stream",
          "name": "stderr",
          "text": [
            "WARNING:matplotlib.font_manager:findfont: Font family 'Malgun Gothic' not found.\n",
            "WARNING:matplotlib.font_manager:findfont: Font family 'Malgun Gothic' not found.\n",
            "WARNING:matplotlib.font_manager:findfont: Font family 'Malgun Gothic' not found.\n",
            "WARNING:matplotlib.font_manager:findfont: Font family 'Malgun Gothic' not found.\n",
            "WARNING:matplotlib.font_manager:findfont: Font family 'Malgun Gothic' not found.\n",
            "WARNING:matplotlib.font_manager:findfont: Font family 'Malgun Gothic' not found.\n",
            "WARNING:matplotlib.font_manager:findfont: Font family 'Malgun Gothic' not found.\n",
            "WARNING:matplotlib.font_manager:findfont: Font family 'Malgun Gothic' not found.\n",
            "WARNING:matplotlib.font_manager:findfont: Font family 'Malgun Gothic' not found.\n",
            "WARNING:matplotlib.font_manager:findfont: Font family 'Malgun Gothic' not found.\n",
            "WARNING:matplotlib.font_manager:findfont: Font family 'Malgun Gothic' not found.\n",
            "/usr/local/lib/python3.10/dist-packages/IPython/core/pylabtools.py:151: UserWarning: Glyph 47588 (\\N{HANGUL SYLLABLE MAE}) missing from current font.\n",
            "  fig.canvas.print_figure(bytes_io, **kw)\n",
            "/usr/local/lib/python3.10/dist-packages/IPython/core/pylabtools.py:151: UserWarning: Glyph 52636 (\\N{HANGUL SYLLABLE CUL}) missing from current font.\n",
            "  fig.canvas.print_figure(bytes_io, **kw)\n",
            "/usr/local/lib/python3.10/dist-packages/IPython/core/pylabtools.py:151: UserWarning: Glyph 52380 (\\N{HANGUL SYLLABLE CEON}) missing from current font.\n",
            "  fig.canvas.print_figure(bytes_io, **kw)\n",
            "/usr/local/lib/python3.10/dist-packages/IPython/core/pylabtools.py:151: UserWarning: Glyph 45804 (\\N{HANGUL SYLLABLE DAL}) missing from current font.\n",
            "  fig.canvas.print_figure(bytes_io, **kw)\n",
            "/usr/local/lib/python3.10/dist-packages/IPython/core/pylabtools.py:151: UserWarning: Glyph 47084 (\\N{HANGUL SYLLABLE REO}) missing from current font.\n",
            "  fig.canvas.print_figure(bytes_io, **kw)\n",
            "WARNING:matplotlib.font_manager:findfont: Font family 'Malgun Gothic' not found.\n",
            "WARNING:matplotlib.font_manager:findfont: Font family 'Malgun Gothic' not found.\n",
            "/usr/local/lib/python3.10/dist-packages/IPython/core/pylabtools.py:151: UserWarning: Glyph 44305 (\\N{HANGUL SYLLABLE GWANG}) missing from current font.\n",
            "  fig.canvas.print_figure(bytes_io, **kw)\n",
            "/usr/local/lib/python3.10/dist-packages/IPython/core/pylabtools.py:151: UserWarning: Glyph 44256 (\\N{HANGUL SYLLABLE GO}) missing from current font.\n",
            "  fig.canvas.print_figure(bytes_io, **kw)\n",
            "/usr/local/lib/python3.10/dist-packages/IPython/core/pylabtools.py:151: UserWarning: Glyph 48708 (\\N{HANGUL SYLLABLE BI}) missing from current font.\n",
            "  fig.canvas.print_figure(bytes_io, **kw)\n",
            "/usr/local/lib/python3.10/dist-packages/IPython/core/pylabtools.py:151: UserWarning: Glyph 50752 (\\N{HANGUL SYLLABLE WA}) missing from current font.\n",
            "  fig.canvas.print_figure(bytes_io, **kw)\n",
            "/usr/local/lib/python3.10/dist-packages/IPython/core/pylabtools.py:151: UserWarning: Glyph 44036 (\\N{HANGUL SYLLABLE GAN}) missing from current font.\n",
            "  fig.canvas.print_figure(bytes_io, **kw)\n",
            "/usr/local/lib/python3.10/dist-packages/IPython/core/pylabtools.py:151: UserWarning: Glyph 51032 (\\N{HANGUL SYLLABLE YI}) missing from current font.\n",
            "  fig.canvas.print_figure(bytes_io, **kw)\n",
            "/usr/local/lib/python3.10/dist-packages/IPython/core/pylabtools.py:151: UserWarning: Glyph 44288 (\\N{HANGUL SYLLABLE GWAN}) missing from current font.\n",
            "  fig.canvas.print_figure(bytes_io, **kw)\n",
            "/usr/local/lib/python3.10/dist-packages/IPython/core/pylabtools.py:151: UserWarning: Glyph 44228 (\\N{HANGUL SYLLABLE GYE}) missing from current font.\n",
            "  fig.canvas.print_figure(bytes_io, **kw)\n",
            "WARNING:matplotlib.font_manager:findfont: Font family 'Malgun Gothic' not found.\n",
            "WARNING:matplotlib.font_manager:findfont: Font family 'Malgun Gothic' not found.\n",
            "WARNING:matplotlib.font_manager:findfont: Font family 'Malgun Gothic' not found.\n",
            "WARNING:matplotlib.font_manager:findfont: Font family 'Malgun Gothic' not found.\n",
            "WARNING:matplotlib.font_manager:findfont: Font family 'Malgun Gothic' not found.\n",
            "WARNING:matplotlib.font_manager:findfont: Font family 'Malgun Gothic' not found.\n",
            "WARNING:matplotlib.font_manager:findfont: Font family 'Malgun Gothic' not found.\n",
            "WARNING:matplotlib.font_manager:findfont: Font family 'Malgun Gothic' not found.\n",
            "WARNING:matplotlib.font_manager:findfont: Font family 'Malgun Gothic' not found.\n",
            "WARNING:matplotlib.font_manager:findfont: Font family 'Malgun Gothic' not found.\n",
            "WARNING:matplotlib.font_manager:findfont: Font family 'Malgun Gothic' not found.\n",
            "WARNING:matplotlib.font_manager:findfont: Font family 'Malgun Gothic' not found.\n",
            "WARNING:matplotlib.font_manager:findfont: Font family 'Malgun Gothic' not found.\n",
            "WARNING:matplotlib.font_manager:findfont: Font family 'Malgun Gothic' not found.\n",
            "WARNING:matplotlib.font_manager:findfont: Font family 'Malgun Gothic' not found.\n",
            "WARNING:matplotlib.font_manager:findfont: Font family 'Malgun Gothic' not found.\n",
            "WARNING:matplotlib.font_manager:findfont: Font family 'Malgun Gothic' not found.\n",
            "WARNING:matplotlib.font_manager:findfont: Font family 'Malgun Gothic' not found.\n",
            "WARNING:matplotlib.font_manager:findfont: Font family 'Malgun Gothic' not found.\n",
            "WARNING:matplotlib.font_manager:findfont: Font family 'Malgun Gothic' not found.\n",
            "WARNING:matplotlib.font_manager:findfont: Font family 'Malgun Gothic' not found.\n",
            "WARNING:matplotlib.font_manager:findfont: Font family 'Malgun Gothic' not found.\n",
            "WARNING:matplotlib.font_manager:findfont: Font family 'Malgun Gothic' not found.\n",
            "WARNING:matplotlib.font_manager:findfont: Font family 'Malgun Gothic' not found.\n",
            "WARNING:matplotlib.font_manager:findfont: Font family 'Malgun Gothic' not found.\n",
            "WARNING:matplotlib.font_manager:findfont: Font family 'Malgun Gothic' not found.\n",
            "WARNING:matplotlib.font_manager:findfont: Font family 'Malgun Gothic' not found.\n",
            "WARNING:matplotlib.font_manager:findfont: Font family 'Malgun Gothic' not found.\n",
            "WARNING:matplotlib.font_manager:findfont: Font family 'Malgun Gothic' not found.\n",
            "WARNING:matplotlib.font_manager:findfont: Font family 'Malgun Gothic' not found.\n",
            "WARNING:matplotlib.font_manager:findfont: Font family 'Malgun Gothic' not found.\n",
            "WARNING:matplotlib.font_manager:findfont: Font family 'Malgun Gothic' not found.\n",
            "WARNING:matplotlib.font_manager:findfont: Font family 'Malgun Gothic' not found.\n",
            "WARNING:matplotlib.font_manager:findfont: Font family 'Malgun Gothic' not found.\n",
            "WARNING:matplotlib.font_manager:findfont: Font family 'Malgun Gothic' not found.\n",
            "WARNING:matplotlib.font_manager:findfont: Font family 'Malgun Gothic' not found.\n",
            "WARNING:matplotlib.font_manager:findfont: Font family 'Malgun Gothic' not found.\n",
            "WARNING:matplotlib.font_manager:findfont: Font family 'Malgun Gothic' not found.\n",
            "WARNING:matplotlib.font_manager:findfont: Font family 'Malgun Gothic' not found.\n",
            "WARNING:matplotlib.font_manager:findfont: Font family 'Malgun Gothic' not found.\n",
            "WARNING:matplotlib.font_manager:findfont: Font family 'Malgun Gothic' not found.\n",
            "WARNING:matplotlib.font_manager:findfont: Font family 'Malgun Gothic' not found.\n",
            "WARNING:matplotlib.font_manager:findfont: Font family 'Malgun Gothic' not found.\n",
            "WARNING:matplotlib.font_manager:findfont: Font family 'Malgun Gothic' not found.\n",
            "WARNING:matplotlib.font_manager:findfont: Font family 'Malgun Gothic' not found.\n",
            "WARNING:matplotlib.font_manager:findfont: Font family 'Malgun Gothic' not found.\n",
            "WARNING:matplotlib.font_manager:findfont: Font family 'Malgun Gothic' not found.\n",
            "WARNING:matplotlib.font_manager:findfont: Font family 'Malgun Gothic' not found.\n",
            "WARNING:matplotlib.font_manager:findfont: Font family 'Malgun Gothic' not found.\n",
            "WARNING:matplotlib.font_manager:findfont: Font family 'Malgun Gothic' not found.\n",
            "WARNING:matplotlib.font_manager:findfont: Font family 'Malgun Gothic' not found.\n",
            "WARNING:matplotlib.font_manager:findfont: Font family 'Malgun Gothic' not found.\n",
            "WARNING:matplotlib.font_manager:findfont: Font family 'Malgun Gothic' not found.\n",
            "WARNING:matplotlib.font_manager:findfont: Font family 'Malgun Gothic' not found.\n"
          ]
        },
        {
          "output_type": "display_data",
          "data": {
            "text/plain": [
              "<Figure size 640x480 with 1 Axes>"
            ],
            "image/png": "[encoded data removed]"
          },
          "metadata": {}
        }
      ]
    },
    {
      "cell_type": "markdown",
      "source": [
        "# 인사이트 도출\n",
        "\n",
        "양의 선형 관계: 광고비와 매출은 양의 선형 관계를 가지고 있습니다. 즉, 광고비가 증가할수록 매출도 증가합니다. 이는 추가적인 마케팅 투자가 매출을 높일 수 있는 가능성이 있다는 것을 시사합니다.\n",
        "\n",
        "매출의 변화율: 광고비가 증가함에 따라 매출의 증가율이 일정한 것으로 보입니다. 이는 광고 효율이 일정하게 유지된다는 것을 시사할 수 있습니다. 그러나 이것은 광고비를 무한히 늘릴 수 있다는 것을 의미하지 않습니다. 한계점에 도달할 때까지 광고비를 증가시키는 것이 중요합니다.\n",
        "\n",
        "광고비의 초기 효과: 광고비가 0에 가까울 때에도 매출이 어느 정도 있는 것으로 보입니다. 이는 초기 광고 효과가 있다는 것을 시사합니다. 따라서 적절한 광고 전략을 통해 초기에 투자된 광고비의 효율을 극대화할 수 있습니다.\n",
        "\n",
        "추가적인 변수의 영향: 데이터만으로는 알 수 없는 다른 요인들이 매출에 영향을 줄 수 있습니다. 예를 들어 제품 품질, 경쟁사의 활동, 경제적 환경 등이 매출에 영향을 줄 수 있습니다. 이러한 변수들을 고려하여 더 정확한 예측과 전략을 수립해야 합니다.\n",
        "\n",
        "이러한 인사이트를 통해 기업은 광고비 투자의 효과를 최적화하고 매출을 높일 수 있는 전략을 개발할 수 있습니다."
      ],
      "metadata": {
        "id": "Tly4iLeo8z2B"
      }
    },
    {
      "cell_type": "markdown",
      "source": [
        "Q. 한 식당의 월별 홍보 비용과 월별 방문자 수 데이터가 각각 다음과 같습니다:\n",
        "\n",
        "홍보 비용 [500, 600, 700, 800, 900] (단위: 달러),\n",
        "\n",
        "방문자 수 [300, 400, 500, 600, 700] (단위: 명).\n",
        "\n",
        "홍보 비용과 방문자 수 간의 상관 계수를 계산하여 관계를 파악하세요. 이 데이터에서 어떤 인사이트를 얻을 수 있습니까?"
      ],
      "metadata": {
        "id": "JpB32iSK6O9p"
      }
    },
    {
      "cell_type": "code",
      "source": [
        "import numpy as np\n",
        "\n",
        "promotion_costs = np.array([500, 600, 700, 800, 900])\n",
        "visitor_count = np.array([300, 400, 500, 600, 700])\n",
        "v_count = np.sort(visitor_count)[::-1]\n",
        "\n",
        "correlation = np.corrcoef(promotion_costs, v_count)[0,1]\n",
        "print(f\"correlation_coefficient: {correlation}\")"
      ],
      "metadata": {
        "colab": {
          "base_uri": "https://localhost:8080/"
        },
        "id": "JMrXeHn_6PEx",
        "outputId": "f9077343-6626-431c-f31c-4ff5a244082d"
      },
      "execution_count": 26,
      "outputs": [
        {
          "output_type": "stream",
          "name": "stdout",
          "text": [
            "correlation_coefficient: -0.9999999999999998\n"
          ]
        }
      ]
    },
    {
      "cell_type": "markdown",
      "source": [
        "# 인사이트 도출\n",
        "상관 계수가 음수이면, 홍보 비용이 증가할수록 방문자 수가 감소하는 음의 관계가 있을 수 있습니다."
      ],
      "metadata": {
        "id": "dU6KP86H88gh"
      }
    },
    {
      "cell_type": "markdown",
      "source": [
        "Q. 세 종류의 화합물에 대한 실험 데이터를 다음 매트릭스로 나타냅니다:\n",
        "\n",
        "[[1, 2, 3], [2, 4, 6], [3, 6, 9]].\n",
        "\n",
        "이 매트릭스의 히트맵을 그려 데이터 간의 관계를 시각화하고, 인사이트를 도출하세요."
      ],
      "metadata": {
        "id": "pcgi8Xjg6PKp"
      }
    },
    {
      "cell_type": "code",
      "source": [
        "import numpy as np\n",
        "import seaborn as sns\n",
        "import matplotlib.pyplot as plt\n",
        "\n",
        "data = np.array([[1, 2, 3], [2, 4, 6], [3, 6, 9]])\n",
        "\n",
        "sns.heatmap(data, annot=True, cmap='coolwarm', fmt='d')\n",
        "\n",
        "plt.title('Relationship between Compounds')\n",
        "\n",
        "plt.xlabel('Compounds')\n",
        "plt.ylabel('Compounds')\n",
        "\n",
        "plt.show()\n"
      ],
      "metadata": {
        "colab": {
          "base_uri": "https://localhost:8080/",
          "height": 1000
        },
        "id": "1WeRtmO_6PQ5",
        "outputId": "f83ec315-2dd2-4b91-c4c6-66dc92e3c4ee"
      },
      "execution_count": 16,
      "outputs": [
        {
          "output_type": "stream",
          "name": "stderr",
          "text": [
            "WARNING:matplotlib.font_manager:findfont: Font family 'Malgun Gothic' not found.\n",
            "WARNING:matplotlib.font_manager:findfont: Font family 'Malgun Gothic' not found.\n",
            "WARNING:matplotlib.font_manager:findfont: Font family 'Malgun Gothic' not found.\n",
            "WARNING:matplotlib.font_manager:findfont: Font family 'Malgun Gothic' not found.\n",
            "WARNING:matplotlib.font_manager:findfont: Font family 'Malgun Gothic' not found.\n",
            "WARNING:matplotlib.font_manager:findfont: Font family 'Malgun Gothic' not found.\n",
            "WARNING:matplotlib.font_manager:findfont: Font family 'Malgun Gothic' not found.\n",
            "WARNING:matplotlib.font_manager:findfont: Font family 'Malgun Gothic' not found.\n",
            "WARNING:matplotlib.font_manager:findfont: Font family 'Malgun Gothic' not found.\n",
            "WARNING:matplotlib.font_manager:findfont: Font family 'Malgun Gothic' not found.\n",
            "WARNING:matplotlib.font_manager:findfont: Font family 'Malgun Gothic' not found.\n",
            "WARNING:matplotlib.font_manager:findfont: Font family 'Malgun Gothic' not found.\n",
            "WARNING:matplotlib.font_manager:findfont: Font family 'Malgun Gothic' not found.\n",
            "WARNING:matplotlib.font_manager:findfont: Font family 'Malgun Gothic' not found.\n",
            "WARNING:matplotlib.font_manager:findfont: Font family 'Malgun Gothic' not found.\n",
            "WARNING:matplotlib.font_manager:findfont: Font family 'Malgun Gothic' not found.\n",
            "WARNING:matplotlib.font_manager:findfont: Font family 'Malgun Gothic' not found.\n",
            "WARNING:matplotlib.font_manager:findfont: Font family 'Malgun Gothic' not found.\n",
            "WARNING:matplotlib.font_manager:findfont: Font family 'Malgun Gothic' not found.\n",
            "WARNING:matplotlib.font_manager:findfont: Font family 'Malgun Gothic' not found.\n",
            "WARNING:matplotlib.font_manager:findfont: Font family 'Malgun Gothic' not found.\n",
            "WARNING:matplotlib.font_manager:findfont: Font family 'Malgun Gothic' not found.\n",
            "WARNING:matplotlib.font_manager:findfont: Font family 'Malgun Gothic' not found.\n",
            "WARNING:matplotlib.font_manager:findfont: Font family 'Malgun Gothic' not found.\n",
            "WARNING:matplotlib.font_manager:findfont: Font family 'Malgun Gothic' not found.\n",
            "WARNING:matplotlib.font_manager:findfont: Font family 'Malgun Gothic' not found.\n",
            "WARNING:matplotlib.font_manager:findfont: Font family 'Malgun Gothic' not found.\n",
            "WARNING:matplotlib.font_manager:findfont: Font family 'Malgun Gothic' not found.\n",
            "WARNING:matplotlib.font_manager:findfont: Font family 'Malgun Gothic' not found.\n",
            "WARNING:matplotlib.font_manager:findfont: Font family 'Malgun Gothic' not found.\n",
            "WARNING:matplotlib.font_manager:findfont: Font family 'Malgun Gothic' not found.\n",
            "WARNING:matplotlib.font_manager:findfont: Font family 'Malgun Gothic' not found.\n",
            "WARNING:matplotlib.font_manager:findfont: Font family 'Malgun Gothic' not found.\n",
            "WARNING:matplotlib.font_manager:findfont: Font family 'Malgun Gothic' not found.\n",
            "WARNING:matplotlib.font_manager:findfont: Font family 'Malgun Gothic' not found.\n",
            "WARNING:matplotlib.font_manager:findfont: Font family 'Malgun Gothic' not found.\n",
            "WARNING:matplotlib.font_manager:findfont: Font family 'Malgun Gothic' not found.\n",
            "WARNING:matplotlib.font_manager:findfont: Font family 'Malgun Gothic' not found.\n",
            "WARNING:matplotlib.font_manager:findfont: Font family 'Malgun Gothic' not found.\n",
            "WARNING:matplotlib.font_manager:findfont: Font family 'Malgun Gothic' not found.\n",
            "WARNING:matplotlib.font_manager:findfont: Font family 'Malgun Gothic' not found.\n",
            "WARNING:matplotlib.font_manager:findfont: Font family 'Malgun Gothic' not found.\n",
            "WARNING:matplotlib.font_manager:findfont: Font family 'Malgun Gothic' not found.\n",
            "WARNING:matplotlib.font_manager:findfont: Font family 'Malgun Gothic' not found.\n",
            "WARNING:matplotlib.font_manager:findfont: Font family 'Malgun Gothic' not found.\n",
            "WARNING:matplotlib.font_manager:findfont: Font family 'Malgun Gothic' not found.\n",
            "WARNING:matplotlib.font_manager:findfont: Font family 'Malgun Gothic' not found.\n",
            "WARNING:matplotlib.font_manager:findfont: Font family 'Malgun Gothic' not found.\n",
            "WARNING:matplotlib.font_manager:findfont: Font family 'Malgun Gothic' not found.\n",
            "WARNING:matplotlib.font_manager:findfont: Font family 'Malgun Gothic' not found.\n",
            "WARNING:matplotlib.font_manager:findfont: Font family 'Malgun Gothic' not found.\n",
            "WARNING:matplotlib.font_manager:findfont: Font family 'Malgun Gothic' not found.\n",
            "WARNING:matplotlib.font_manager:findfont: Font family 'Malgun Gothic' not found.\n",
            "WARNING:matplotlib.font_manager:findfont: Font family 'Malgun Gothic' not found.\n",
            "WARNING:matplotlib.font_manager:findfont: Font family 'Malgun Gothic' not found.\n",
            "WARNING:matplotlib.font_manager:findfont: Font family 'Malgun Gothic' not found.\n",
            "WARNING:matplotlib.font_manager:findfont: Font family 'Malgun Gothic' not found.\n",
            "WARNING:matplotlib.font_manager:findfont: Font family 'Malgun Gothic' not found.\n",
            "WARNING:matplotlib.font_manager:findfont: Font family 'Malgun Gothic' not found.\n",
            "WARNING:matplotlib.font_manager:findfont: Font family 'Malgun Gothic' not found.\n",
            "WARNING:matplotlib.font_manager:findfont: Font family 'Malgun Gothic' not found.\n",
            "WARNING:matplotlib.font_manager:findfont: Font family 'Malgun Gothic' not found.\n",
            "WARNING:matplotlib.font_manager:findfont: Font family 'Malgun Gothic' not found.\n",
            "WARNING:matplotlib.font_manager:findfont: Font family 'Malgun Gothic' not found.\n",
            "WARNING:matplotlib.font_manager:findfont: Font family 'Malgun Gothic' not found.\n",
            "WARNING:matplotlib.font_manager:findfont: Font family 'Malgun Gothic' not found.\n",
            "WARNING:matplotlib.font_manager:findfont: Font family 'Malgun Gothic' not found.\n",
            "WARNING:matplotlib.font_manager:findfont: Font family 'Malgun Gothic' not found.\n",
            "WARNING:matplotlib.font_manager:findfont: Font family 'Malgun Gothic' not found.\n",
            "WARNING:matplotlib.font_manager:findfont: Font family 'Malgun Gothic' not found.\n"
          ]
        },
        {
          "output_type": "display_data",
          "data": {
            "text/plain": [
              "<Figure size 640x480 with 2 Axes>"
            ],
            "image/png": "[encoded data removed]"
          },
          "metadata": {}
        }
      ]
    },
    {
      "cell_type": "markdown",
      "source": [
        "# 인사이트\n",
        "\n",
        "이 데이터를 보면, 세 가지 화합물 간에는 선형 관계가 있는 것으로 보입니다. 이를테면, 각 화합물의 값이 증가함에 따라 다른 화합물의 값도 비례하여 증가합니다. 구체적으로 말하면, 각 행 또는 열을 보면 첫 번째 화합물 값이 증가함에 따라 두 번째와 세 번째 화합물 값도 비례하여 증가합니다.\n",
        "\n",
        "이 관찰은 화합물 간의 상호 작용이 있음을 시사합니다. 예를 들어, 하나의 화합물이 다른 화합물의 반응 속도를 증가시키거나 화합물 간의 상호 작용이 발생할 수 있습니다. 이러한 인사이트는 실험 결과를 해석하고 이해하는 데 도움이 될 수 있습니다."
      ],
      "metadata": {
        "id": "BS6yilYU9QTx"
      }
    },
    {
      "cell_type": "markdown",
      "source": [
        "Q. 한 지역의 주택 가격 데이터가 다음과 같습니다:\n",
        "\n",
        "[250000, 300000, 350000, 400000, 450000, 500000, 550000, 600000, 650000, 700000].\n",
        "\n",
        "주택 가격의 분포를 시각화하기 위해 분포 그래프를 그리고, 주택 가격 분포에 대한 인사이트를 도출하세요."
      ],
      "metadata": {
        "id": "tnTXeYiN6PWZ"
      }
    },
    {
      "cell_type": "code",
      "source": [
        "import matplotlib.pyplot as plt\n",
        "\n",
        "prices = [250000, 300000, 350000, 400000, 450000, 500000, 550000, 600000, 650000, 700000]\n",
        "\n",
        "plt.hist(prices, bins=5, color='skyblue', edgecolor='black')\n",
        "\n",
        "plt.title('Distribution of House Prices')\n",
        "plt.xlabel('Price')\n",
        "plt.ylabel('Frequency')\n",
        "\n",
        "plt.show()\n"
      ],
      "metadata": {
        "colab": {
          "base_uri": "https://localhost:8080/",
          "height": 1000
        },
        "id": "T7XJVIE96PcZ",
        "outputId": "7ba80f3c-8e24-47cb-8587-4e952c7286a6"
      },
      "execution_count": 15,
      "outputs": [
        {
          "output_type": "stream",
          "name": "stderr",
          "text": [
            "WARNING:matplotlib.font_manager:findfont: Font family 'Malgun Gothic' not found.\n",
            "WARNING:matplotlib.font_manager:findfont: Font family 'Malgun Gothic' not found.\n",
            "WARNING:matplotlib.font_manager:findfont: Font family 'Malgun Gothic' not found.\n",
            "WARNING:matplotlib.font_manager:findfont: Font family 'Malgun Gothic' not found.\n",
            "WARNING:matplotlib.font_manager:findfont: Font family 'Malgun Gothic' not found.\n",
            "WARNING:matplotlib.font_manager:findfont: Font family 'Malgun Gothic' not found.\n",
            "WARNING:matplotlib.font_manager:findfont: Font family 'Malgun Gothic' not found.\n",
            "WARNING:matplotlib.font_manager:findfont: Font family 'Malgun Gothic' not found.\n",
            "WARNING:matplotlib.font_manager:findfont: Font family 'Malgun Gothic' not found.\n",
            "WARNING:matplotlib.font_manager:findfont: Font family 'Malgun Gothic' not found.\n",
            "WARNING:matplotlib.font_manager:findfont: Font family 'Malgun Gothic' not found.\n",
            "WARNING:matplotlib.font_manager:findfont: Font family 'Malgun Gothic' not found.\n",
            "WARNING:matplotlib.font_manager:findfont: Font family 'Malgun Gothic' not found.\n",
            "WARNING:matplotlib.font_manager:findfont: Font family 'Malgun Gothic' not found.\n",
            "WARNING:matplotlib.font_manager:findfont: Font family 'Malgun Gothic' not found.\n",
            "WARNING:matplotlib.font_manager:findfont: Font family 'Malgun Gothic' not found.\n",
            "WARNING:matplotlib.font_manager:findfont: Font family 'Malgun Gothic' not found.\n",
            "WARNING:matplotlib.font_manager:findfont: Font family 'Malgun Gothic' not found.\n",
            "WARNING:matplotlib.font_manager:findfont: Font family 'Malgun Gothic' not found.\n",
            "WARNING:matplotlib.font_manager:findfont: Font family 'Malgun Gothic' not found.\n",
            "WARNING:matplotlib.font_manager:findfont: Font family 'Malgun Gothic' not found.\n",
            "WARNING:matplotlib.font_manager:findfont: Font family 'Malgun Gothic' not found.\n",
            "WARNING:matplotlib.font_manager:findfont: Font family 'Malgun Gothic' not found.\n",
            "WARNING:matplotlib.font_manager:findfont: Font family 'Malgun Gothic' not found.\n",
            "WARNING:matplotlib.font_manager:findfont: Font family 'Malgun Gothic' not found.\n",
            "WARNING:matplotlib.font_manager:findfont: Font family 'Malgun Gothic' not found.\n",
            "WARNING:matplotlib.font_manager:findfont: Font family 'Malgun Gothic' not found.\n",
            "WARNING:matplotlib.font_manager:findfont: Font family 'Malgun Gothic' not found.\n",
            "WARNING:matplotlib.font_manager:findfont: Font family 'Malgun Gothic' not found.\n",
            "WARNING:matplotlib.font_manager:findfont: Font family 'Malgun Gothic' not found.\n",
            "WARNING:matplotlib.font_manager:findfont: Font family 'Malgun Gothic' not found.\n",
            "WARNING:matplotlib.font_manager:findfont: Font family 'Malgun Gothic' not found.\n",
            "WARNING:matplotlib.font_manager:findfont: Font family 'Malgun Gothic' not found.\n",
            "WARNING:matplotlib.font_manager:findfont: Font family 'Malgun Gothic' not found.\n",
            "WARNING:matplotlib.font_manager:findfont: Font family 'Malgun Gothic' not found.\n",
            "WARNING:matplotlib.font_manager:findfont: Font family 'Malgun Gothic' not found.\n",
            "WARNING:matplotlib.font_manager:findfont: Font family 'Malgun Gothic' not found.\n",
            "WARNING:matplotlib.font_manager:findfont: Font family 'Malgun Gothic' not found.\n",
            "WARNING:matplotlib.font_manager:findfont: Font family 'Malgun Gothic' not found.\n",
            "WARNING:matplotlib.font_manager:findfont: Font family 'Malgun Gothic' not found.\n",
            "WARNING:matplotlib.font_manager:findfont: Font family 'Malgun Gothic' not found.\n",
            "WARNING:matplotlib.font_manager:findfont: Font family 'Malgun Gothic' not found.\n",
            "WARNING:matplotlib.font_manager:findfont: Font family 'Malgun Gothic' not found.\n",
            "WARNING:matplotlib.font_manager:findfont: Font family 'Malgun Gothic' not found.\n",
            "WARNING:matplotlib.font_manager:findfont: Font family 'Malgun Gothic' not found.\n",
            "WARNING:matplotlib.font_manager:findfont: Font family 'Malgun Gothic' not found.\n",
            "WARNING:matplotlib.font_manager:findfont: Font family 'Malgun Gothic' not found.\n",
            "WARNING:matplotlib.font_manager:findfont: Font family 'Malgun Gothic' not found.\n",
            "WARNING:matplotlib.font_manager:findfont: Font family 'Malgun Gothic' not found.\n",
            "WARNING:matplotlib.font_manager:findfont: Font family 'Malgun Gothic' not found.\n",
            "WARNING:matplotlib.font_manager:findfont: Font family 'Malgun Gothic' not found.\n",
            "WARNING:matplotlib.font_manager:findfont: Font family 'Malgun Gothic' not found.\n",
            "WARNING:matplotlib.font_manager:findfont: Font family 'Malgun Gothic' not found.\n",
            "WARNING:matplotlib.font_manager:findfont: Font family 'Malgun Gothic' not found.\n",
            "WARNING:matplotlib.font_manager:findfont: Font family 'Malgun Gothic' not found.\n"
          ]
        },
        {
          "output_type": "display_data",
          "data": {
            "text/plain": [
              "<Figure size 640x480 with 1 Axes>"
            ],
            "image/png": "[encoded data removed]"
          },
          "metadata": {}
        }
      ]
    },
    {
      "cell_type": "markdown",
      "source": [
        "# 인사이트\n",
        "\n",
        "가격 분포의 형태: 주택 가격의 분포는 왼쪽으로 치우친 형태를 보입니다. 이는 주택의 대부분이 비교적 낮은 가격대에 위치하고 있음을 시사합니다.\n",
        "\n",
        "가격대의 집중: 주택 가격이 350,000부터 500,000까지의 가격대에 주로 분포되어 있습니다. 이러한 경향은 해당 지역의 주택 시장에서 이러한 가격대의 주택이 가장 흔하다는 것을 나타냅니다.\n",
        "\n",
        "고가 주택의 부족: 주택 가격이 600,000 이상인 고가 주택은 상대적으로 적습니다. 이는 해당 지역에서 고가 주택의 수요가 낮거나 공급이 부족하다는 가능성을 시사할 수 있습니다.\n",
        "\n",
        "가격 변동성: 주택 가격의 분포가 균일하지 않으며, 가격대에 따라 주택 수의 큰 차이가 있습니다. 이러한 가격대별 차이는 해당 지역의 부동산 시장의 특성을 이해하는 데 도움이 될 수 있습니다."
      ],
      "metadata": {
        "id": "2ZAKI2LK9lcY"
      }
    },
    {
      "cell_type": "markdown",
      "source": [
        "Q. 한 교육기관의 시험 점수 데이터가 다음과 같습니다:\n",
        "\n",
        "[55, 60, 65, 70, 75, 80, 85, 90, 95, 100].\n",
        "\n",
        "시험 점수의 도수 분포표를 작성하고, 이를 통해 성적 분포에 대한 인사이트를 도출하세요."
      ],
      "metadata": {
        "id": "9xtgyVrf6Pj5"
      }
    },
    {
      "cell_type": "code",
      "source": [
        "from collections import Counter\n",
        "\n",
        "scores = [55, 60, 65, 70, 75, 80, 85, 90, 95, 100]\n",
        "\n",
        "score_counts = Counter(scores)\n",
        "\n",
        "print(\"시험 점수\\t도수\")\n",
        "print(\"-------------------\")\n",
        "for score, count in sorted(score_counts.items()):\n",
        "    print(f\"{score}\\t\\t{count}\")\n",
        "\n",
        "print(\"\\n도수 분포표:\")\n",
        "for score, count in sorted(score_counts.items()):\n",
        "    print(f\"{score}: {'*' * count}\")\n"
      ],
      "metadata": {
        "colab": {
          "base_uri": "https://localhost:8080/"
        },
        "id": "84Ulzf0K6Pqp",
        "outputId": "c5ec3619-fbb6-440b-fd0b-be0226c1f88b"
      },
      "execution_count": 14,
      "outputs": [
        {
          "output_type": "stream",
          "name": "stdout",
          "text": [
            "시험 점수\t도수\n",
            "-------------------\n",
            "55\t\t1\n",
            "60\t\t1\n",
            "65\t\t1\n",
            "70\t\t1\n",
            "75\t\t1\n",
            "80\t\t1\n",
            "85\t\t1\n",
            "90\t\t1\n",
            "95\t\t1\n",
            "100\t\t1\n",
            "\n",
            "도수 분포표:\n",
            "55: *\n",
            "60: *\n",
            "65: *\n",
            "70: *\n",
            "75: *\n",
            "80: *\n",
            "85: *\n",
            "90: *\n",
            "95: *\n",
            "100: *\n"
          ]
        }
      ]
    },
    {
      "cell_type": "markdown",
      "source": [
        "# 성적 분포에 대한 인사이트\n",
        "\n",
        "점수 분포의 형태: 주어진 데이터에는 55부터 100까지의 점수가 포함되어 있습니다. 이것은 일정한 간격으로 점수가 분포되어 있음을 시사합니다.\n",
        "\n",
        "최빈값: 가장 빈번하게 등장하는 점수는 55점입니다.\n",
        "\n",
        "평균값: 주어진 데이터의 평균 점수를 계산할 수 있습니다. 이를 통해 평균적으로 학생들이 어느 정도의 성적을 받는지 확인할 수 있습니다.\n",
        "\n",
        "분산과 표준편차: 점수 분포의 분산과 표준편차를 계산하여, 점수들이 얼마나 퍼져 있는지를 파악할 수 있습니다.\n",
        "\n",
        "상위/하위 백분위수: 상위와 하위 백분위수를 계산하여, 점수 분포의 상위와 하위 양상을 살펴볼 수 있습니다.\n",
        "\n",
        "이러한 인사이트를 통해 교육기관은 학생들의 평균적인 성적 수준을 파악하고, 과목 및 개별 학생들의 학습 수준을 평가하여 필요에 따라 교육 방법을 조정할 수 있습니다."
      ],
      "metadata": {
        "id": "f-6I1vSz98Mh"
      }
    },
    {
      "cell_type": "markdown",
      "source": [
        "Q. 한 회사의 연구개발(R&D) 투자 비용과 연간 수익 데이터가 각각 다음과 같습니다:\n",
        "\n",
        "투자 비용 [100, 200, 300, 400, 500] (단위: 천 달러),\n",
        "\n",
        "연간 수익 [200, 400, 600, 800, 1000] (단위: 천 달러).\n",
        "\n",
        "추세선이 있는 산점도를 그려 투자 비용과 연간 수익 간의 관계를 시각화하고, 인사이트를 도출하세요."
      ],
      "metadata": {
        "id": "PJMs5IWB6PvJ"
      }
    },
    {
      "cell_type": "code",
      "source": [
        "import numpy as np\n",
        "import matplotlib.pyplot as plt\n",
        "\n",
        "investment_costs = np.array([100, 200, 300, 400, 500])\n",
        "annual_profits = np.array([200, 400, 600, 800, 1000])\n",
        "\n",
        "plt.scatter(investment_costs, annual_profits, color='blue', label='데이터 포인트')\n",
        "\n",
        "z = np.polyfit(investment_costs, annual_profits, 1)\n",
        "p = np.poly1d(z)\n",
        "plt.plot(investment_costs, p(investment_costs), color='red', label='추세선')\n",
        "\n",
        "plt.title('투자 비용과 연간 수익 관계')\n",
        "plt.xlabel('투자 비용 (천 달러)')\n",
        "plt.ylabel('연간 수익 (천 달러)')\n",
        "\n",
        "plt.legend()\n",
        "\n",
        "plt.grid(True)\n",
        "plt.show()\n"
      ],
      "metadata": {
        "colab": {
          "base_uri": "https://localhost:8080/",
          "height": 1000
        },
        "id": "Bnb4OUZe6P65",
        "outputId": "eba92afe-2f2c-4665-b465-eafc9f700eb3"
      },
      "execution_count": 13,
      "outputs": [
        {
          "output_type": "stream",
          "name": "stderr",
          "text": [
            "WARNING:matplotlib.font_manager:findfont: Font family 'Malgun Gothic' not found.\n",
            "WARNING:matplotlib.font_manager:findfont: Font family 'Malgun Gothic' not found.\n",
            "WARNING:matplotlib.font_manager:findfont: Font family 'Malgun Gothic' not found.\n",
            "WARNING:matplotlib.font_manager:findfont: Font family 'Malgun Gothic' not found.\n",
            "WARNING:matplotlib.font_manager:findfont: Font family 'Malgun Gothic' not found.\n",
            "WARNING:matplotlib.font_manager:findfont: Font family 'Malgun Gothic' not found.\n",
            "WARNING:matplotlib.font_manager:findfont: Font family 'Malgun Gothic' not found.\n",
            "WARNING:matplotlib.font_manager:findfont: Font family 'Malgun Gothic' not found.\n",
            "WARNING:matplotlib.font_manager:findfont: Font family 'Malgun Gothic' not found.\n",
            "WARNING:matplotlib.font_manager:findfont: Font family 'Malgun Gothic' not found.\n",
            "WARNING:matplotlib.font_manager:findfont: Font family 'Malgun Gothic' not found.\n",
            "WARNING:matplotlib.font_manager:findfont: Font family 'Malgun Gothic' not found.\n",
            "WARNING:matplotlib.font_manager:findfont: Font family 'Malgun Gothic' not found.\n",
            "WARNING:matplotlib.font_manager:findfont: Font family 'Malgun Gothic' not found.\n",
            "WARNING:matplotlib.font_manager:findfont: Font family 'Malgun Gothic' not found.\n",
            "WARNING:matplotlib.font_manager:findfont: Font family 'Malgun Gothic' not found.\n",
            "WARNING:matplotlib.font_manager:findfont: Font family 'Malgun Gothic' not found.\n",
            "WARNING:matplotlib.font_manager:findfont: Font family 'Malgun Gothic' not found.\n",
            "WARNING:matplotlib.font_manager:findfont: Font family 'Malgun Gothic' not found.\n",
            "WARNING:matplotlib.font_manager:findfont: Font family 'Malgun Gothic' not found.\n",
            "WARNING:matplotlib.font_manager:findfont: Font family 'Malgun Gothic' not found.\n",
            "WARNING:matplotlib.font_manager:findfont: Font family 'Malgun Gothic' not found.\n",
            "WARNING:matplotlib.font_manager:findfont: Font family 'Malgun Gothic' not found.\n",
            "WARNING:matplotlib.font_manager:findfont: Font family 'Malgun Gothic' not found.\n",
            "WARNING:matplotlib.font_manager:findfont: Font family 'Malgun Gothic' not found.\n",
            "WARNING:matplotlib.font_manager:findfont: Font family 'Malgun Gothic' not found.\n",
            "WARNING:matplotlib.font_manager:findfont: Font family 'Malgun Gothic' not found.\n",
            "WARNING:matplotlib.font_manager:findfont: Font family 'Malgun Gothic' not found.\n",
            "WARNING:matplotlib.font_manager:findfont: Font family 'Malgun Gothic' not found.\n",
            "WARNING:matplotlib.font_manager:findfont: Font family 'Malgun Gothic' not found.\n",
            "WARNING:matplotlib.font_manager:findfont: Font family 'Malgun Gothic' not found.\n",
            "WARNING:matplotlib.font_manager:findfont: Font family 'Malgun Gothic' not found.\n",
            "WARNING:matplotlib.font_manager:findfont: Font family 'Malgun Gothic' not found.\n",
            "WARNING:matplotlib.font_manager:findfont: Font family 'Malgun Gothic' not found.\n",
            "WARNING:matplotlib.font_manager:findfont: Font family 'Malgun Gothic' not found.\n",
            "WARNING:matplotlib.font_manager:findfont: Font family 'Malgun Gothic' not found.\n",
            "WARNING:matplotlib.font_manager:findfont: Font family 'Malgun Gothic' not found.\n",
            "WARNING:matplotlib.font_manager:findfont: Font family 'Malgun Gothic' not found.\n",
            "WARNING:matplotlib.font_manager:findfont: Font family 'Malgun Gothic' not found.\n",
            "WARNING:matplotlib.font_manager:findfont: Font family 'Malgun Gothic' not found.\n",
            "WARNING:matplotlib.font_manager:findfont: Font family 'Malgun Gothic' not found.\n",
            "WARNING:matplotlib.font_manager:findfont: Font family 'Malgun Gothic' not found.\n",
            "WARNING:matplotlib.font_manager:findfont: Font family 'Malgun Gothic' not found.\n",
            "WARNING:matplotlib.font_manager:findfont: Font family 'Malgun Gothic' not found.\n",
            "WARNING:matplotlib.font_manager:findfont: Font family 'Malgun Gothic' not found.\n",
            "WARNING:matplotlib.font_manager:findfont: Font family 'Malgun Gothic' not found.\n",
            "WARNING:matplotlib.font_manager:findfont: Font family 'Malgun Gothic' not found.\n",
            "WARNING:matplotlib.font_manager:findfont: Font family 'Malgun Gothic' not found.\n",
            "WARNING:matplotlib.font_manager:findfont: Font family 'Malgun Gothic' not found.\n",
            "WARNING:matplotlib.font_manager:findfont: Font family 'Malgun Gothic' not found.\n",
            "WARNING:matplotlib.font_manager:findfont: Font family 'Malgun Gothic' not found.\n",
            "WARNING:matplotlib.font_manager:findfont: Font family 'Malgun Gothic' not found.\n",
            "WARNING:matplotlib.font_manager:findfont: Font family 'Malgun Gothic' not found.\n",
            "WARNING:matplotlib.font_manager:findfont: Font family 'Malgun Gothic' not found.\n",
            "WARNING:matplotlib.font_manager:findfont: Font family 'Malgun Gothic' not found.\n",
            "WARNING:matplotlib.font_manager:findfont: Font family 'Malgun Gothic' not found.\n",
            "WARNING:matplotlib.font_manager:findfont: Font family 'Malgun Gothic' not found.\n",
            "WARNING:matplotlib.font_manager:findfont: Font family 'Malgun Gothic' not found.\n",
            "WARNING:matplotlib.font_manager:findfont: Font family 'Malgun Gothic' not found.\n",
            "WARNING:matplotlib.font_manager:findfont: Font family 'Malgun Gothic' not found.\n",
            "WARNING:matplotlib.font_manager:findfont: Font family 'Malgun Gothic' not found.\n",
            "WARNING:matplotlib.font_manager:findfont: Font family 'Malgun Gothic' not found.\n",
            "WARNING:matplotlib.font_manager:findfont: Font family 'Malgun Gothic' not found.\n",
            "WARNING:matplotlib.font_manager:findfont: Font family 'Malgun Gothic' not found.\n",
            "WARNING:matplotlib.font_manager:findfont: Font family 'Malgun Gothic' not found.\n",
            "WARNING:matplotlib.font_manager:findfont: Font family 'Malgun Gothic' not found.\n",
            "WARNING:matplotlib.font_manager:findfont: Font family 'Malgun Gothic' not found.\n",
            "WARNING:matplotlib.font_manager:findfont: Font family 'Malgun Gothic' not found.\n",
            "WARNING:matplotlib.font_manager:findfont: Font family 'Malgun Gothic' not found.\n",
            "WARNING:matplotlib.font_manager:findfont: Font family 'Malgun Gothic' not found.\n",
            "WARNING:matplotlib.font_manager:findfont: Font family 'Malgun Gothic' not found.\n",
            "WARNING:matplotlib.font_manager:findfont: Font family 'Malgun Gothic' not found.\n",
            "WARNING:matplotlib.font_manager:findfont: Font family 'Malgun Gothic' not found.\n",
            "WARNING:matplotlib.font_manager:findfont: Font family 'Malgun Gothic' not found.\n",
            "WARNING:matplotlib.font_manager:findfont: Font family 'Malgun Gothic' not found.\n",
            "WARNING:matplotlib.font_manager:findfont: Font family 'Malgun Gothic' not found.\n",
            "WARNING:matplotlib.font_manager:findfont: Font family 'Malgun Gothic' not found.\n",
            "WARNING:matplotlib.font_manager:findfont: Font family 'Malgun Gothic' not found.\n",
            "WARNING:matplotlib.font_manager:findfont: Font family 'Malgun Gothic' not found.\n",
            "WARNING:matplotlib.font_manager:findfont: Font family 'Malgun Gothic' not found.\n",
            "WARNING:matplotlib.font_manager:findfont: Font family 'Malgun Gothic' not found.\n",
            "WARNING:matplotlib.font_manager:findfont: Font family 'Malgun Gothic' not found.\n",
            "WARNING:matplotlib.font_manager:findfont: Font family 'Malgun Gothic' not found.\n",
            "WARNING:matplotlib.font_manager:findfont: Font family 'Malgun Gothic' not found.\n",
            "WARNING:matplotlib.font_manager:findfont: Font family 'Malgun Gothic' not found.\n",
            "WARNING:matplotlib.font_manager:findfont: Font family 'Malgun Gothic' not found.\n",
            "WARNING:matplotlib.font_manager:findfont: Font family 'Malgun Gothic' not found.\n",
            "WARNING:matplotlib.font_manager:findfont: Font family 'Malgun Gothic' not found.\n",
            "WARNING:matplotlib.font_manager:findfont: Font family 'Malgun Gothic' not found.\n",
            "WARNING:matplotlib.font_manager:findfont: Font family 'Malgun Gothic' not found.\n",
            "WARNING:matplotlib.font_manager:findfont: Font family 'Malgun Gothic' not found.\n"
          ]
        },
        {
          "output_type": "display_data",
          "data": {
            "text/plain": [
              "<Figure size 640x480 with 1 Axes>"
            ],
            "image/png": "[encoded data removed]"
          },
          "metadata": {}
        }
      ]
    },
    {
      "cell_type": "markdown",
      "source": [
        "# 산점도와 추세선을 통한 인사이트 도출\n",
        "\n",
        "양의 상관 관계: 산점도 상에서 투자 비용과 연간 수익 사이에는 양의 상관 관계가 있는 것으로 보입니다. 즉, 투자 비용이 증가할수록 연간 수익도 증가하는 경향이 있습니다.\n",
        "\n",
        "선형 관계: 추세선이 선형적으로 증가하는 것을 확인할 수 있습니다. 이는 투자 비용과 연간 수익 사이에 선형적인 관계가 있음을 시사합니다. 따라서 더 많은 투자로 더 높은 연간 수익을 얻을 수 있는 것으로 보입니다.\n",
        "\n",
        "비례 관계: 투자 비용과 연간 수익의 증가율이 유사한 것으로 보입니다. 즉, 투자 비용이 두 배로 증가하면 연간 수익도 대략적으로 두 배로 증가하는 경향이 있습니다.\n",
        "\n",
        "최적 투자 비용: 추세선을 통해 특정 투자 비용 수준에서의 최적 수익을 예측할 수 있습니다. 예를 들어, 투자 비용이 600천 달러일 때 연간 수익이 어느 정도일지 추정할 수 있습니다.\n",
        "\n",
        "이러한 인사이트를 통해 투자 결정에 도움을 줄 수 있으며, 향후 투자 전략을 계획하는 데 활용할 수 있습니다."
      ],
      "metadata": {
        "id": "i5BBala6-LkI"
      }
    }
  ]
}