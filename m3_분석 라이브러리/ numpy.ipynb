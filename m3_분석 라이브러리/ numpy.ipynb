{
  "nbformat": 4,
  "nbformat_minor": 0,
  "metadata": {
    "colab": {
      "provenance": [],
      "authorship_tag": "ABX9TyNuiTU+vA34seFH3C/HhSKJ",
      "include_colab_link": true
    },
    "kernelspec": {
      "name": "python3",
      "display_name": "Python 3"
    },
    "language_info": {
      "name": "python"
    }
  },
  "cells": [
    {
      "cell_type": "markdown",
      "metadata": {
        "id": "view-in-github",
        "colab_type": "text"
      },
      "source": [
        "<a href=\"https://colab.research.google.com/github/windyday0622/windyday/blob/main/m3_%EB%B6%84%EC%84%9D%20%EB%9D%BC%EC%9D%B4%EB%B8%8C%EB%9F%AC%EB%A6%AC/%20numpy.ipynb\" target=\"_parent\"><img src=\"https://colab.research.google.com/assets/colab-badge.svg\" alt=\"Open In Colab\"/></a>"
      ]
    },
    {
      "cell_type": "markdown",
      "source": [
        "NumPy는 “Numerical Python“의 약자로 대규모 다차원 배열과 행렬 연산에 필요한 다양한 함수를 제공\n",
        "* Numerical Python을 의미하는 NumPy는 파이썬에서 선형대수 기반의 프로그램을 쉽게 만들 수 있도록 지원하는 대표적인 패키지\n",
        "* 많은 머신러닝 알고리즘이 넘파이 기반으로 작성돼 있으며 알고리즘의 입출력 데이터를 넘파이 배열 타입으로 사용함\n",
        "* 넘파이의 기본 데이터 타입은 ndarray. ndarray를 이용해 넘파이에서 다차원 배열을 쉽게 생성하고 다양한 연산 수행\n",
        "\n",
        "1. NumPy 기본 개념\n",
        "  - NumPy는 과학 계산을 위한 Python 라이브러리.\n",
        "  - 다차원 배열 객체인 ndarray를 중심으로 작동.\n",
        "  - 벡터화 연산, 브로드캐스팅 기능을 제공.\n",
        "\n",
        "2. NumPy 배열 생성 및 조작\n",
        "  - np.array(): 리스트나 튜플로부터 배열 생성.\n",
        "  - np.arange(), np.linspace(): 연속된 값으로 배열 생성.\n",
        "  - 배열의 형태 변경: reshape(), flatten() 등.\n",
        "\n",
        "3. 배열 인덱싱 및 슬라이싱\n",
        "  - 배열 요소에 접근하고 수정하는 방법.\n",
        "  - 슬라이싱을 사용해 배열의 부분집합 추출.\n",
        "\n",
        "4. NumPy의 수학적 연산\n",
        "  - 기본 수학 연산: 덧셈, 뺄셈, 곱셈, 나눗셈.\n",
        "  - 통계 연산: mean(), median(), std(), sum() 등.\n",
        "  - 선형 대수 연산: 내적, 외적, 행렬 곱셈.\n",
        "\n",
        "5. 브로드캐스팅:\n",
        "  - 서로 다른 크기의 배열 간 연산을 가능하게 하는 기능.\n",
        "  - 브로드캐스팅 규칙 이해 및 적용.\n",
        "\n",
        "6. 부울 인덱싱 및 팬시 인덱싱\n",
        "  - 조건에 맞는 데이터 선택.\n",
        "  - 특정 인덱스 집합에 대한 데이터 접근.\n",
        "\n",
        "7. 파일 입출력\n",
        "  - NumPy 배열을 파일로 저장하고 불러오기: np.save(), np.load().\n",
        "\n",
        "8. 실용적 예제: 데이터 분석에 NumPy 활용\n",
        "  - 실제 데이터셋을 가지고 기본적인 데이터 처리 및 분석 수행.\n",
        "\n",
        "Numpy Documentation  "
      ],
      "metadata": {
        "id": "7DLLOou2yf9-"
      }
    },
    {
      "cell_type": "code",
      "execution_count": null,
      "metadata": {
        "colab": {
          "base_uri": "https://localhost:8080/"
        },
        "id": "HNYve-uFyd5T",
        "outputId": "9a3006a3-202d-465a-b248-31dd9d871b93"
      },
      "outputs": [
        {
          "output_type": "stream",
          "name": "stdout",
          "text": [
            "Original array: [1 2 3 4]\n",
            "Array + 2: [3 4 5 6]\n",
            "Array squared: [ 1  4  9 16]\n",
            "Mean of array: 2.5\n"
          ]
        }
      ],
      "source": [
        "# 배열 생성 및 기본 작업\n",
        "import numpy as np\n",
        "\n",
        "array = np.array([1, 2, 3, 4])\n",
        "\n",
        "print(\"Original array:\", array)\n",
        "print(\"Array + 2:\", array + 2)\n",
        "print(\"Array squared:\", array ** 2)\n",
        "\n",
        "print(\"Mean of array:\", np.mean(array))"
      ]
    },
    {
      "cell_type": "code",
      "source": [
        "# 배열 생성 및 속성 탐색:\n",
        "array_1d = np.array([3, 6, 9, 12])\n",
        "print(\"1D Array:\", array_1d)\n",
        "\n",
        "print(\"Shape:\", array_1d.shape)\n",
        "print(\"Size:\", array_1d.size)\n",
        "print(\"Type:\", array_1d.dtype)\n",
        "\n",
        "array_2d = np.array([[1, 2, 3],[4, 5, 6]])\n",
        "print(\"\\n2D Array:\\n\", array_2d)\n",
        "print(\"Shape:\", array_2d.shape)\n",
        "print(\"Size:\", array_2d.size)"
      ],
      "metadata": {
        "colab": {
          "base_uri": "https://localhost:8080/"
        },
        "id": "RiZAmlbQygwt",
        "outputId": "2198c34b-c058-405d-c014-aac22dddd4ab"
      },
      "execution_count": null,
      "outputs": [
        {
          "output_type": "stream",
          "name": "stdout",
          "text": [
            "1D Array: [ 3  6  9 12]\n",
            "Shape: (4,)\n",
            "Size: 4\n",
            "Type: int64\n",
            "\n",
            "2D Array:\n",
            " [[1 2 3]\n",
            " [4 5 6]]\n",
            "Shape: (2, 3)\n",
            "Size: 6\n"
          ]
        }
      ]
    },
    {
      "cell_type": "code",
      "source": [
        "print(array_1d,'\\n')\n",
        "print(array_2d)"
      ],
      "metadata": {
        "colab": {
          "base_uri": "https://localhost:8080/"
        },
        "id": "iJkQSMJuymnR",
        "outputId": "5fe1c22b-fe96-4743-c62e-59b1a157417b"
      },
      "execution_count": null,
      "outputs": [
        {
          "output_type": "stream",
          "name": "stdout",
          "text": [
            "[ 3  6  9 12] \n",
            "\n",
            "[[1 2 3]\n",
            " [4 5 6]]\n"
          ]
        }
      ]
    },
    {
      "cell_type": "code",
      "source": [
        "print(\"\\nElement at index 2:\", array_1d[2])\n",
        "\n",
        "print(\"Element from index 1 to 3:\", array_1d[1:4])\n",
        "\n",
        "print(\"\\nElement in 2nd row, 3rd column:\", array_2d[1, 2])\n",
        "\n",
        "print(\"First row:\", array_2d[0, :])\n",
        "print(\"First row:\", array_2d[0])"
      ],
      "metadata": {
        "colab": {
          "base_uri": "https://localhost:8080/"
        },
        "id": "z2oDJlwDyg01",
        "outputId": "a1ba67ba-6156-4461-d15d-af2dc8aa85fb"
      },
      "execution_count": null,
      "outputs": [
        {
          "output_type": "stream",
          "name": "stdout",
          "text": [
            "\n",
            "Element at index 2: 9\n",
            "Element from index 1 to 3: [ 6  9 12]\n",
            "\n",
            "Element in 2nd row, 3rd column: 6\n",
            "First row: [1 2 3]\n",
            "First row: [1 2 3]\n"
          ]
        }
      ]
    },
    {
      "cell_type": "code",
      "source": [
        "import numpy as np\n",
        "a = np.array([1, 2, 3])\n",
        "b = np.array([4, 5, 6])\n",
        "\n",
        "print(\"Addition:\", a + b)\n",
        "print(\"Substraction:\", a - b)\n",
        "\n",
        "print(\"Multplication:\", a * b)\n",
        "print(\"Division:\", a / b)"
      ],
      "metadata": {
        "colab": {
          "base_uri": "https://localhost:8080/"
        },
        "id": "T-d3xsj9yg2-",
        "outputId": "20858b9a-c0ce-49fc-f3d8-40b94cd10896"
      },
      "execution_count": null,
      "outputs": [
        {
          "output_type": "stream",
          "name": "stdout",
          "text": [
            "Addition: [5 7 9]\n",
            "Substraction: [-3 -3 -3]\n",
            "Multplication: [ 4 10 18]\n",
            "Division: [0.25 0.4  0.5 ]\n"
          ]
        }
      ]
    },
    {
      "cell_type": "markdown",
      "source": [
        "#### 파이썬 리스트와 넘파이 배열의 주요 차이점\n",
        "\n",
        "데이터 타입:\n",
        "- 파이썬 리스트: 다양한 타입의 데이터를 저장할 수 있다. 즉, 하나의 리스트에 정수, 문자열, 객체 등 다양한 타입의 요소를 포함할 수 있다.\n",
        "- 넘파이 배열: 모든 요소가 동일한 데이터 타입을 가져야 한다. 이는 메모리 사용과 계산 속도를 최적화하는 데 도움이 된다.\n",
        "\n",
        "메모리 사용:\n",
        "- 파이썬 리스트: 비연속적으로 메모리에 요소를 저장. 각 요소는 객체로서 별도의 메모리 공간을 차지하며, 리스트는 이러한 객체들의 참조를 저장.\n",
        "- 넘파이 배열: 모든 요소가 연속된 메모리 블록에 저장. 이는 데이터 접근과 조작을 더 빠르고 효율적으로 만든다.\n",
        "\n",
        "성능:\n",
        "- 파이썬 리스트: 다양한 타입의 데이터를 유연하게 처리할 수 있지만, 이로 인해 넘파이 배열에 비해 연산 속도가 느릴 수 있다.\n",
        "- 넘파이 배열: 수학적이고 과학적인 계산에 최적화되어 있으며, 특히 대량의 데이터를 다룰 때 높은 성능을 제공.\n",
        "\n",
        "크기 조정:\n",
        "- 파이썬 리스트: 동적으로 크기가 조정. 요소를 추가하거나 제거하면 리스트의 크기가 자동으로 변경.\n",
        "- 넘파이 배열: 고정된 크기를 가진다. 배열의 크기를 변경하려면 새로운 배열을 생성하고 기존 데이터를 복사해야 한다.\n",
        "\n",
        "다양한 기능과 연산:\n",
        "- 파이썬 리스트: 기본적인 연산과 기능을 제공.\n",
        "- 넘파이 배열: 다차원 배열을 지원하며, 선형대수, 통계, 푸리에 변환 등 고급 수학적 및 과학적 연산을 위한 광범위한 함수와 메서드를 제공.\n",
        "\n",
        "용도:\n",
        "- 파이썬 리스트: 일반적인 프로그래밍 작업 및 다양한 타입의 데이터를 유연하게 관리할 때 사용.\n",
        "- 넘파이 배열: 과학 계산, 데이터 분석, 대규모 수치 연산 등에서 주로 사용.\n",
        "\n",
        "결론적으로, 파이썬 리스트는 유연성과 범용성에 초점을 맞추고 있으며, 넘파이 배열은 고성능 수치 계산과 데이터 처리에 최적화되어 있다."
      ],
      "metadata": {
        "id": "GQGOQRpX-JuJ"
      }
    },
    {
      "cell_type": "code",
      "source": [
        "li = [1, a]\n",
        "print(li)"
      ],
      "metadata": {
        "colab": {
          "base_uri": "https://localhost:8080/"
        },
        "id": "6y6H2GA1yg4-",
        "outputId": "d7d925d2-2441-4847-e709-30ae115325ba"
      },
      "execution_count": null,
      "outputs": [
        {
          "output_type": "stream",
          "name": "stdout",
          "text": [
            "[1, array([1, 2, 3])]\n"
          ]
        }
      ]
    },
    {
      "cell_type": "code",
      "source": [
        "ar = np.array([1, 'a'])\n",
        "print(ar, type(ar))"
      ],
      "metadata": {
        "colab": {
          "base_uri": "https://localhost:8080/"
        },
        "id": "yHt6QExU_vdw",
        "outputId": "e972d5f2-980c-4170-a09d-bf91e3ebd2b2"
      },
      "execution_count": null,
      "outputs": [
        {
          "output_type": "stream",
          "name": "stdout",
          "text": [
            "['1' 'a'] <class 'numpy.ndarray'>\n"
          ]
        }
      ]
    },
    {
      "cell_type": "code",
      "source": [
        "z = np.arange(10)\n",
        "print(z.size)\n",
        "print(z)\n",
        "print(z.itemsize)"
      ],
      "metadata": {
        "colab": {
          "base_uri": "https://localhost:8080/"
        },
        "id": "YGP_7Ygnyg6-",
        "outputId": "b1cd5269-0817-439e-93f4-8afb5bdedaa7"
      },
      "execution_count": null,
      "outputs": [
        {
          "output_type": "stream",
          "name": "stdout",
          "text": [
            "10\n",
            "[0 1 2 3 4 5 6 7 8 9]\n",
            "8\n"
          ]
        }
      ]
    },
    {
      "cell_type": "code",
      "source": [
        "z = np.arange(5)\n",
        "print(f'{z.size*z.itemsize} bytes')"
      ],
      "metadata": {
        "colab": {
          "base_uri": "https://localhost:8080/"
        },
        "id": "0cSOgsO7yg_F",
        "outputId": "12364baf-42f1-47d5-d5df-aeacce4b5730"
      },
      "execution_count": null,
      "outputs": [
        {
          "output_type": "stream",
          "name": "stdout",
          "text": [
            "40 bytes\n"
          ]
        }
      ]
    },
    {
      "cell_type": "code",
      "source": [
        "# Numpy는 내부적으로 데이터를 다른 내장 파이썬 객체와 구분된 연속된 메모리 블록에 저장\n",
        "import numpy as np\n",
        "my_arr = np.arange(1000000)\n",
        "my_list = list(range(1000000))"
      ],
      "metadata": {
        "id": "YReMvvvmyhBP"
      },
      "execution_count": null,
      "outputs": []
    },
    {
      "cell_type": "code",
      "source": [
        "# \"_\"은 값을 무시하고 싶은 경우 사용(여기서는 인덱스 무시)\n",
        "# %time는 뒤따르는 한 줄의 코드 실행 시간을 측정하는 매직명령어\n",
        "%time for _ in range(10): my_array2 = my_arr * 2"
      ],
      "metadata": {
        "colab": {
          "base_uri": "https://localhost:8080/"
        },
        "id": "TMvmCesn-NsZ",
        "outputId": "e62ee255-9ae3-41a0-8253-32fc2b3b561c"
      },
      "execution_count": null,
      "outputs": [
        {
          "output_type": "stream",
          "name": "stdout",
          "text": [
            "CPU times: user 18.3 ms, sys: 23.1 ms, total: 41.4 ms\n",
            "Wall time: 41.6 ms\n"
          ]
        }
      ]
    },
    {
      "cell_type": "code",
      "source": [
        "%time for _ in range(10): my_list2 = [x*2 for x in my_list]"
      ],
      "metadata": {
        "colab": {
          "base_uri": "https://localhost:8080/"
        },
        "id": "oQrGAun_-Nux",
        "outputId": "85e6c7e0-5bf4-4508-8ab7-666b84d30cec"
      },
      "execution_count": null,
      "outputs": [
        {
          "output_type": "stream",
          "name": "stdout",
          "text": [
            "CPU times: user 764 ms, sys: 276 ms, total: 1.04 s\n",
            "Wall time: 1.16 s\n"
          ]
        }
      ]
    },
    {
      "cell_type": "code",
      "source": [
        "data = np.random.randn(2,3)\n",
        "print(data, '\\n')\n",
        "print(data *10, '\\n')\n",
        "print(data + data)"
      ],
      "metadata": {
        "colab": {
          "base_uri": "https://localhost:8080/"
        },
        "id": "aIjcEQW1-NwZ",
        "outputId": "c9bff2cd-0628-4c05-84ff-49624c9c1352"
      },
      "execution_count": null,
      "outputs": [
        {
          "output_type": "stream",
          "name": "stdout",
          "text": [
            "[[ 0.89982101  0.59297882 -0.15493555]\n",
            " [-0.74185857  0.18225025 -0.28979057]] \n",
            "\n",
            "[[ 8.99821014  5.92978823 -1.54935547]\n",
            " [-7.41858566  1.82250252 -2.89790572]] \n",
            "\n",
            "[[ 1.79964203  1.18595765 -0.30987109]\n",
            " [-1.48371713  0.3645005  -0.57958114]]\n"
          ]
        }
      ]
    },
    {
      "cell_type": "code",
      "source": [
        "print(data.shape)"
      ],
      "metadata": {
        "colab": {
          "base_uri": "https://localhost:8080/"
        },
        "id": "jHk_U1O9-Nyg",
        "outputId": "f4f3e823-973d-458a-9897-dea63098f702"
      },
      "execution_count": null,
      "outputs": [
        {
          "output_type": "stream",
          "name": "stdout",
          "text": [
            "(2, 3)\n"
          ]
        }
      ]
    },
    {
      "cell_type": "code",
      "source": [
        "print(data.ndim) # 차원"
      ],
      "metadata": {
        "colab": {
          "base_uri": "https://localhost:8080/"
        },
        "id": "W0us8PTE-N0Z",
        "outputId": "04dfacb8-b2e9-43f2-859a-4e19e4778346"
      },
      "execution_count": null,
      "outputs": [
        {
          "output_type": "stream",
          "name": "stdout",
          "text": [
            "2\n"
          ]
        }
      ]
    },
    {
      "cell_type": "markdown",
      "source": [
        "(3, 2, 5) : 배열이 3개의 (2x5) 행렬로 구성\n",
        "- 첫 번째 차원 (Depth): 최상위 레벨에 3개의 배열\n",
        "- 두 번째 차원 (Rows): 각 최상위 배열은 2개의 하위 배열\n",
        "- 세 번째 차원 (Columns): 각 하위 배열은 5개의 요소"
      ],
      "metadata": {
        "id": "dqTTXePTCpQe"
      }
    },
    {
      "cell_type": "code",
      "source": [
        "# 3차원\n",
        "import numpy as np\n",
        "\n",
        "array3 = np.array([[[1, 2, 3, 4, 5], [6, 7, 8, 9, 10]],\n",
        "                   [[1, 2, 3, 4, 5], [6, 7, 8, 9, 10]],\n",
        "                   [[1, 2, 3, 4, 5], [6, 7, 8, 9, 10]]])\n",
        "\n",
        "print(array3, array3.shape, '\\n')\n",
        "print(type(array3))\n"
      ],
      "metadata": {
        "colab": {
          "base_uri": "https://localhost:8080/"
        },
        "id": "jdZijd8NyhJe",
        "outputId": "3272c00f-043e-481b-af2a-9e9bef439515"
      },
      "execution_count": null,
      "outputs": [
        {
          "output_type": "stream",
          "name": "stdout",
          "text": [
            "[[[ 1  2  3  4  5]\n",
            "  [ 6  7  8  9 10]]\n",
            "\n",
            " [[ 1  2  3  4  5]\n",
            "  [ 6  7  8  9 10]]\n",
            "\n",
            " [[ 1  2  3  4  5]\n",
            "  [ 6  7  8  9 10]]] (3, 2, 5) \n",
            "\n",
            "<class 'numpy.ndarray'>\n"
          ]
        }
      ]
    },
    {
      "cell_type": "markdown",
      "source": [
        "배열 생성 및 초기화\n",
        "- Numpy는 원하는 shape로 배열을 설정하고 각 요소를 특정 값으로 초기화하는 zeros, ones, full, eye 함수 제공\n",
        "- 파라미터로 입력한 배열과 같은 shape의 배열을 만드는 zeros_like, ones_like, full_like 함수도 제공"
      ],
      "metadata": {
        "id": "YRCESCC6ExRP"
      }
    },
    {
      "cell_type": "code",
      "source": [
        "# zeros가 입력으로 튜플을 받기 때문에 두 번 괄호를 사용\n",
        "print(np.zeros(10))\n",
        "print(np.zeros((3, 6)))\n",
        "print(np.zeros((2, 3, 2)))"
      ],
      "metadata": {
        "colab": {
          "base_uri": "https://localhost:8080/"
        },
        "id": "mMQRHgaoyhLl",
        "outputId": "3a954316-3e4d-4e3d-cfd9-e8653ecdfa6f"
      },
      "execution_count": null,
      "outputs": [
        {
          "output_type": "stream",
          "name": "stdout",
          "text": [
            "[0. 0. 0. 0. 0. 0. 0. 0. 0. 0.]\n",
            "[[0. 0. 0. 0. 0. 0.]\n",
            " [0. 0. 0. 0. 0. 0.]\n",
            " [0. 0. 0. 0. 0. 0.]]\n",
            "[[[0. 0.]\n",
            "  [0. 0.]\n",
            "  [0. 0.]]\n",
            "\n",
            " [[0. 0.]\n",
            "  [0. 0.]\n",
            "  [0. 0.]]]\n"
          ]
        }
      ]
    },
    {
      "cell_type": "code",
      "source": [
        "a = np.ones((2, 3, 4))\n",
        "a"
      ],
      "metadata": {
        "colab": {
          "base_uri": "https://localhost:8080/"
        },
        "id": "glGNNpmzyhNu",
        "outputId": "863e6b70-d792-47b8-f083-d7bcac371c59"
      },
      "execution_count": null,
      "outputs": [
        {
          "output_type": "execute_result",
          "data": {
            "text/plain": [
              "array([[[1., 1., 1., 1.],\n",
              "        [1., 1., 1., 1.],\n",
              "        [1., 1., 1., 1.]],\n",
              "\n",
              "       [[1., 1., 1., 1.],\n",
              "        [1., 1., 1., 1.],\n",
              "        [1., 1., 1., 1.]]])"
            ]
          },
          "metadata": {},
          "execution_count": 33
        }
      ]
    },
    {
      "cell_type": "code",
      "source": [
        "a = np.arange(10).reshape(2,5)\n",
        "a"
      ],
      "metadata": {
        "colab": {
          "base_uri": "https://localhost:8080/"
        },
        "id": "5khb7RuKGLao",
        "outputId": "ff933251-06db-41aa-d960-c604b7635d5e"
      },
      "execution_count": null,
      "outputs": [
        {
          "output_type": "execute_result",
          "data": {
            "text/plain": [
              "array([[0, 1, 2, 3, 4],\n",
              "       [5, 6, 7, 8, 9]])"
            ]
          },
          "metadata": {},
          "execution_count": 38
        }
      ]
    },
    {
      "cell_type": "code",
      "source": [
        "z = np.zeros_like(a)\n",
        "o = np.ones_like(a)\n",
        "f = np.full_like(a, 5)\n",
        "print(z, '\\n')\n",
        "print(o, '\\n')\n",
        "print(f)"
      ],
      "metadata": {
        "colab": {
          "base_uri": "https://localhost:8080/"
        },
        "id": "0xJobGykyhP9",
        "outputId": "5a1c2f9f-ebf8-439d-9fc0-60895cc2bf50"
      },
      "execution_count": null,
      "outputs": [
        {
          "output_type": "stream",
          "name": "stdout",
          "text": [
            "[[[0. 0. 0. 0.]\n",
            "  [0. 0. 0. 0.]\n",
            "  [0. 0. 0. 0.]]\n",
            "\n",
            " [[0. 0. 0. 0.]\n",
            "  [0. 0. 0. 0.]\n",
            "  [0. 0. 0. 0.]]] \n",
            "\n",
            "[[[1. 1. 1. 1.]\n",
            "  [1. 1. 1. 1.]\n",
            "  [1. 1. 1. 1.]]\n",
            "\n",
            " [[1. 1. 1. 1.]\n",
            "  [1. 1. 1. 1.]\n",
            "  [1. 1. 1. 1.]]] \n",
            "\n",
            "[[[5. 5. 5. 5.]\n",
            "  [5. 5. 5. 5.]\n",
            "  [5. 5. 5. 5.]]\n",
            "\n",
            " [[5. 5. 5. 5.]\n",
            "  [5. 5. 5. 5.]\n",
            "  [5. 5. 5. 5.]]]\n"
          ]
        }
      ]
    },
    {
      "cell_type": "code",
      "source": [
        "arr3 = np.arange(15)\n",
        "arr3"
      ],
      "metadata": {
        "colab": {
          "base_uri": "https://localhost:8080/"
        },
        "id": "_4r88GscyhSI",
        "outputId": "5c5f921b-b6c3-4de1-af69-011b40ed06e2"
      },
      "execution_count": null,
      "outputs": [
        {
          "output_type": "execute_result",
          "data": {
            "text/plain": [
              "array([ 0,  1,  2,  3,  4,  5,  6,  7,  8,  9, 10, 11, 12, 13, 14])"
            ]
          },
          "metadata": {},
          "execution_count": 39
        }
      ]
    },
    {
      "cell_type": "code",
      "source": [
        "arr3.reshape(3,5)"
      ],
      "metadata": {
        "colab": {
          "base_uri": "https://localhost:8080/"
        },
        "id": "PXF056i-yhUW",
        "outputId": "66414793-ed62-4056-dae6-604ea7e4b0af"
      },
      "execution_count": null,
      "outputs": [
        {
          "output_type": "execute_result",
          "data": {
            "text/plain": [
              "array([[ 0,  1,  2,  3,  4],\n",
              "       [ 5,  6,  7,  8,  9],\n",
              "       [10, 11, 12, 13, 14]])"
            ]
          },
          "metadata": {},
          "execution_count": 40
        }
      ]
    },
    {
      "cell_type": "code",
      "source": [
        "arr_1d = np.arange(6)\n",
        "arr_2d = arr_1d.reshape(2,3)\n",
        "arr_3d = arr_1d.reshape(2, 3, 1)\n",
        "print(arr_1d, '\\n')\n",
        "print(arr_2d, '\\n')\n",
        "print(arr_3d)"
      ],
      "metadata": {
        "colab": {
          "base_uri": "https://localhost:8080/"
        },
        "id": "BaH1Gu9WyhWg",
        "outputId": "fb9e0245-e5a5-4c97-db69-0c3c18b9b9b4"
      },
      "execution_count": null,
      "outputs": [
        {
          "output_type": "stream",
          "name": "stdout",
          "text": [
            "[0 1 2 3 4 5] \n",
            "\n",
            "[[0 1 2]\n",
            " [3 4 5]] \n",
            "\n",
            "[[[0]\n",
            "  [1]\n",
            "  [2]]\n",
            "\n",
            " [[3]\n",
            "  [4]\n",
            "  [5]]]\n"
          ]
        }
      ]
    },
    {
      "cell_type": "code",
      "source": [
        "# Q. 1차원 배열을 생성한 후 -1을 이용해서 배열의 차원을 변경해 보세요.\n",
        "- 1차원 -> 2,3차원\n",
        "- 2차원->1,3차원\n",
        "- 3차원->1,2차원"
      ],
      "metadata": {
        "id": "pyZMdQ5TyhYl"
      },
      "execution_count": null,
      "outputs": []
    },
    {
      "cell_type": "code",
      "source": [
        "ar = np.arange(12)\n",
        "print(\"1차원=>2차원:\", ar.reshape(3,-1))\n",
        "print(\"1차원=>2차원:\", ar.reshape(3,4),'\\n')\n",
        "print(\"1차원=>3차원:\", ar.reshape(2, 3,-1))\n",
        "print(\"1차원=>3차원:\", ar.reshape(2, 3, 2))"
      ],
      "metadata": {
        "colab": {
          "base_uri": "https://localhost:8080/"
        },
        "id": "6pIFHG-wyha-",
        "outputId": "0c242bbc-98a9-4a39-f162-ebe96fccdd39"
      },
      "execution_count": null,
      "outputs": [
        {
          "output_type": "stream",
          "name": "stdout",
          "text": [
            "1차원=>2차원: [[ 0  1  2  3]\n",
            " [ 4  5  6  7]\n",
            " [ 8  9 10 11]]\n",
            "1차원=>2차원: [[ 0  1  2  3]\n",
            " [ 4  5  6  7]\n",
            " [ 8  9 10 11]] \n",
            "\n",
            "1차원=>3차원: [[[ 0  1]\n",
            "  [ 2  3]\n",
            "  [ 4  5]]\n",
            "\n",
            " [[ 6  7]\n",
            "  [ 8  9]\n",
            "  [10 11]]]\n",
            "1차원=>3차원: [[[ 0  1]\n",
            "  [ 2  3]\n",
            "  [ 4  5]]\n",
            "\n",
            " [[ 6  7]\n",
            "  [ 8  9]\n",
            "  [10 11]]]\n"
          ]
        }
      ]
    },
    {
      "cell_type": "code",
      "source": [
        "ar21 = np.arange(30).reshape(2,-1)\n",
        "print(ar21,'\\n')\n",
        "ar23 = ar.reshape(-1,2,5)\n",
        "print(ar23,)"
      ],
      "metadata": {
        "colab": {
          "base_uri": "https://localhost:8080/"
        },
        "id": "hr4vdudiyhdO",
        "outputId": "f0d477cd-6cae-41b3-a11b-8b835ec45b6b"
      },
      "execution_count": null,
      "outputs": [
        {
          "output_type": "stream",
          "name": "stdout",
          "text": [
            "[[ 0  1  2  3  4  5  6  7  8  9 10 11 12 13 14]\n",
            " [15 16 17 18 19 20 21 22 23 24 25 26 27 28 29]] \n",
            "\n",
            "[[[ 0  1  2  3  4]\n",
            "  [ 5  6  7  8  9]]\n",
            "\n",
            " [[10 11 12 13 14]\n",
            "  [15 16 17 18 19]]\n",
            "\n",
            " [[20 21 22 23 24]\n",
            "  [25 26 27 28 29]]]\n"
          ]
        }
      ]
    },
    {
      "cell_type": "code",
      "source": [
        "ar23\n",
        "ar31 = ar23.reshape(-1,)\n",
        "print(ar31, '\\n')"
      ],
      "metadata": {
        "colab": {
          "base_uri": "https://localhost:8080/"
        },
        "id": "-1vEXfVzyhhm",
        "outputId": "8809249f-a6bd-4352-f015-510b285b0b66"
      },
      "execution_count": null,
      "outputs": [
        {
          "output_type": "stream",
          "name": "stdout",
          "text": [
            "[ 0  1  2  3  4  5  6  7  8  9 10 11 12 13 14 15 16 17 18 19 20 21 22 23\n",
            " 24 25 26 27 28 29] \n",
            "\n"
          ]
        }
      ]
    },
    {
      "cell_type": "code",
      "source": [
        "import numpy as np\n",
        "\n",
        "a = np.arange(6)\n",
        "reshaped = a.reshape(2,3)\n",
        "print(\"Reshaped Array:\\n\", reshaped)\n",
        "\n",
        "resized = np.resize(a, (3,2))\n",
        "print(\"Resized Array:\\n\", resized)"
      ],
      "metadata": {
        "colab": {
          "base_uri": "https://localhost:8080/"
        },
        "id": "t_Mui6Rbyhj-",
        "outputId": "a1872132-8a1a-4c62-b1fb-eb9639fe92bf"
      },
      "execution_count": null,
      "outputs": [
        {
          "output_type": "stream",
          "name": "stdout",
          "text": [
            "Reshaped Array:\n",
            " [[0 1 2]\n",
            " [3 4 5]]\n",
            "Resized Array:\n",
            " [[0 1]\n",
            " [2 3]\n",
            " [4 5]]\n"
          ]
        }
      ]
    },
    {
      "cell_type": "code",
      "source": [
        "import numpy as np\n",
        "\n",
        "a = np.arange(6)\n",
        "reshaped = a.reshape(2, 3)\n",
        "print(reshaped)"
      ],
      "metadata": {
        "colab": {
          "base_uri": "https://localhost:8080/"
        },
        "id": "z0BLuS0iyhqj",
        "outputId": "98b3ad09-cd4a-4370-911f-d1b55857cd1b"
      },
      "execution_count": null,
      "outputs": [
        {
          "output_type": "stream",
          "name": "stdout",
          "text": [
            "[[0 1 2]\n",
            " [3 4 5]]\n"
          ]
        }
      ]
    },
    {
      "cell_type": "code",
      "source": [
        "split1, split2 = np.split(reshaped, 2)\n",
        "print(\"Split Arrays:\\n\", split1, \"\\n\", split2)"
      ],
      "metadata": {
        "colab": {
          "base_uri": "https://localhost:8080/"
        },
        "id": "U0m1pMjbMelk",
        "outputId": "2c9fe79c-49cc-441b-c9fa-49aa83667a66"
      },
      "execution_count": null,
      "outputs": [
        {
          "output_type": "stream",
          "name": "stdout",
          "text": [
            "Split Arrays:\n",
            " [[0 1 2]] \n",
            " [[3 4 5]]\n"
          ]
        }
      ]
    },
    {
      "cell_type": "code",
      "source": [
        "import numpy as np\n",
        "\n",
        "# Corrected reshape operation\n",
        "a = np.arange(6)\n",
        "reshaped = a.reshape(2, 3)\n",
        "print(\"Reshaped Array:\\n\", reshaped)\n",
        "\n",
        "# Corrected concatenate operation\n",
        "a = np.array([[1, 2], [3, 4]])\n",
        "b = np.array([[5, 6]])\n",
        "concatenated = np.concatenate((a, b), axis=0)\n",
        "\n",
        "# Corrected stacking operation\n",
        "stacked = np.vstack((a, b))\n",
        "\n",
        "print(\"Concatenated Array:\\n\", concatenated)\n",
        "print(\"Stacked Array:\\n\", stacked)\n"
      ],
      "metadata": {
        "colab": {
          "base_uri": "https://localhost:8080/"
        },
        "id": "GOI4NO7syhmO",
        "outputId": "263da307-900a-4128-9eab-9dfe495fc604"
      },
      "execution_count": null,
      "outputs": [
        {
          "output_type": "stream",
          "name": "stdout",
          "text": [
            "Reshaped Array:\n",
            " [[0 1 2]\n",
            " [3 4 5]]\n",
            "Concatenated Array:\n",
            " [[1 2]\n",
            " [3 4]\n",
            " [5 6]]\n",
            "Stacked Array:\n",
            " [[1 2]\n",
            " [3 4]\n",
            " [5 6]]\n"
          ]
        }
      ]
    },
    {
      "cell_type": "code",
      "source": [
        "array1 = np.arange(30)\n",
        "array3d = array1.reshape(3,2,5)\n",
        "print(array3d, '\\n', type(array3d),'\\n')\n",
        "li = array3d.tolist()\n",
        "print(li, '\\n, type(li)')"
      ],
      "metadata": {
        "colab": {
          "base_uri": "https://localhost:8080/"
        },
        "id": "RpU54anEyhtG",
        "outputId": "70707b39-f8bf-4e62-940b-d43501d2a470"
      },
      "execution_count": null,
      "outputs": [
        {
          "output_type": "stream",
          "name": "stdout",
          "text": [
            "[[[ 0  1  2  3  4]\n",
            "  [ 5  6  7  8  9]]\n",
            "\n",
            " [[10 11 12 13 14]\n",
            "  [15 16 17 18 19]]\n",
            "\n",
            " [[20 21 22 23 24]\n",
            "  [25 26 27 28 29]]] \n",
            " <class 'numpy.ndarray'> \n",
            "\n",
            "[[[0, 1, 2, 3, 4], [5, 6, 7, 8, 9]], [[10, 11, 12, 13, 14], [15, 16, 17, 18, 19]], [[20, 21, 22, 23, 24], [25, 26, 27, 28, 29]]] \n",
            ", type(li)\n"
          ]
        }
      ]
    },
    {
      "cell_type": "code",
      "source": [
        "# Q. 1차원 배열을 생성해서 2차원 배열로 변환한 후 다음 사항을 수행하세요\n",
        "# - 2차원 배열을 리스트로 타입 변경하세요.\n",
        "# - 리스트를 다시 배열로 변경하세요."
      ],
      "metadata": {
        "id": "EGFWlgJfyhvO"
      },
      "execution_count": null,
      "outputs": []
    },
    {
      "cell_type": "code",
      "source": [
        "import numpy as np\n",
        "\n",
        "array_1d = np.array([1, 2, 3, 4, 5, 6])\n",
        "\n",
        "array_2d = array_1d.reshape(2, 3)\n",
        "print(\"2차원 배열:\\n\", array_2d)\n",
        "\n",
        "list_2d = array_2d.tolist()\n",
        "print(\"리스트:\\n\", list_2d)\n",
        "\n",
        "array_again = np.array(list_2d)\n",
        "print(\"다시 배열:\\n\", array_again)"
      ],
      "metadata": {
        "colab": {
          "base_uri": "https://localhost:8080/"
        },
        "id": "lzNFAJZoOFfj",
        "outputId": "c00f319d-ad94-4809-929b-ae96f8d64cd6"
      },
      "execution_count": null,
      "outputs": [
        {
          "output_type": "stream",
          "name": "stdout",
          "text": [
            "2차원 배열:\n",
            " [[1 2 3]\n",
            " [4 5 6]]\n",
            "리스트:\n",
            " [[1, 2, 3], [4, 5, 6]]\n",
            "다시 배열:\n",
            " [[1 2 3]\n",
            " [4 5 6]]\n"
          ]
        }
      ]
    },
    {
      "cell_type": "code",
      "source": [
        "# Q. 두 배열 [[1, 2], [3, 4]]와 [[5, 6], [7, 8]]를 가로로 연결하기"
      ],
      "metadata": {
        "id": "gz37BVZkyhxF"
      },
      "execution_count": null,
      "outputs": []
    },
    {
      "cell_type": "code",
      "source": [
        "import numpy as np\n",
        "\n",
        "array1 = np.array([[1, 2], [3, 4]])\n",
        "array2 = np.array([[5, 6], [7, 8]])\n",
        "\n",
        "array_hstack = np.hstack((array1, array2))\n",
        "\n",
        "print(\"가로로 연결된 배열:\\n\", array_hstack)"
      ],
      "metadata": {
        "colab": {
          "base_uri": "https://localhost:8080/"
        },
        "id": "sJuYKeixOFzc",
        "outputId": "7df6e2ee-6450-48ba-87f6-c830d437348f"
      },
      "execution_count": null,
      "outputs": [
        {
          "output_type": "stream",
          "name": "stdout",
          "text": [
            "가로로 연결된 배열:\n",
            " [[1 2 5 6]\n",
            " [3 4 7 8]]\n"
          ]
        }
      ]
    },
    {
      "cell_type": "code",
      "source": [
        "# Q. 두 배열 [[1, 2], [3, 4]]와 [[5, 6], [7, 8]]를 세로로 연결하기"
      ],
      "metadata": {
        "id": "tOagEwG6yhzV"
      },
      "execution_count": null,
      "outputs": []
    },
    {
      "cell_type": "code",
      "source": [
        "import numpy as np\n",
        "\n",
        "array1 = np.array([[1, 2], [3, 4]])\n",
        "array2 = np.array([[5, 6], [7, 8]])\n",
        "\n",
        "array_concatenated = np.concatenate((array1, array2), axis=0)\n",
        "\n",
        "print(\"세로로 연결된 배열:\\n\", array_concatenated)"
      ],
      "metadata": {
        "colab": {
          "base_uri": "https://localhost:8080/"
        },
        "id": "PT1rYaG9OGcc",
        "outputId": "f41ac38d-3bd8-41a9-f526-1b0d9d91d5b8"
      },
      "execution_count": null,
      "outputs": [
        {
          "output_type": "stream",
          "name": "stdout",
          "text": [
            "세로로 연결된 배열:\n",
            " [[1 2]\n",
            " [3 4]\n",
            " [5 6]\n",
            " [7 8]]\n"
          ]
        }
      ]
    },
    {
      "cell_type": "code",
      "source": [
        "# Q. 배열 [0, 1, 2, 3, 4, 5, 6, 7, 8]를 세 부분으로 나누기"
      ],
      "metadata": {
        "id": "Bcq9mq6Hyh1n"
      },
      "execution_count": null,
      "outputs": []
    },
    {
      "cell_type": "code",
      "source": [
        "import numpy as np\n",
        "\n",
        "array = np.array([0, 1, 2, 3, 4, 5, 6, 7, 8])\n",
        "\n",
        "array_split = np.array_split(array, 3)\n",
        "\n",
        "print(\"세 부분으로 나누어진 배열:\")\n",
        "for part in array_split:\n",
        "    print(part)"
      ],
      "metadata": {
        "colab": {
          "base_uri": "https://localhost:8080/"
        },
        "id": "RGdUcM0hyh34",
        "outputId": "fc80a3d9-0180-4c68-d791-72bc840de8d5"
      },
      "execution_count": null,
      "outputs": [
        {
          "output_type": "stream",
          "name": "stdout",
          "text": [
            "세 부분으로 나누어진 배열:\n",
            "[0 1 2]\n",
            "[3 4 5]\n",
            "[6 7 8]\n"
          ]
        }
      ]
    },
    {
      "cell_type": "code",
      "source": [
        "angles = np.array([0, np.pi/2, np.pi])\n",
        "\n",
        "print(\"Sine:\", np.sin(angles))\n",
        "\n",
        "print(\"Cosine:\", np.cos(angles))\n",
        "\n",
        "print(\"Exponential:\", np.exp([1, 2, 3]))"
      ],
      "metadata": {
        "colab": {
          "base_uri": "https://localhost:8080/"
        },
        "id": "x7ED7iojyh6G",
        "outputId": "67785ddc-cabb-4f29-ee00-94f75027b805"
      },
      "execution_count": null,
      "outputs": [
        {
          "output_type": "stream",
          "name": "stdout",
          "text": [
            "Sine: [0.0000000e+00 1.0000000e+00 1.2246468e-16]\n",
            "Cosine: [ 1.000000e+00  6.123234e-17 -1.000000e+00]\n",
            "Exponential: [ 2.71828183  7.3890561  20.08553692]\n"
          ]
        }
      ]
    },
    {
      "cell_type": "code",
      "source": [
        "# 부동 소수점 연산에서 발생하는 미세한 오차로 0에 가까운 매우 작은 값이 나올 수 있음\n",
        "pi_value = np.pi\n",
        "result = np.sin(pi_value)\n",
        "print(result)"
      ],
      "metadata": {
        "colab": {
          "base_uri": "https://localhost:8080/"
        },
        "id": "ApGt5RIDeIfj",
        "outputId": "8a94d112-a547-438a-b8a2-da4da8b6c18c"
      },
      "execution_count": null,
      "outputs": [
        {
          "output_type": "stream",
          "name": "stdout",
          "text": [
            "1.2246467991473532e-16\n"
          ]
        }
      ]
    },
    {
      "cell_type": "code",
      "source": [
        "from google.colab import drive\n",
        "drive.mount('/content/KakaoTalk_20240605_121559345.jpg')"
      ],
      "metadata": {
        "colab": {
          "base_uri": "https://localhost:8080/",
          "height": 323
        },
        "id": "xMirfQnZWBDQ",
        "outputId": "20b4a362-c509-45c5-803d-6fb08d867f96"
      },
      "execution_count": null,
      "outputs": [
        {
          "output_type": "error",
          "ename": "MessageError",
          "evalue": "Error: credential propagation was unsuccessful",
          "traceback": [
            "\u001b[0;31m---------------------------------------------------------------------------\u001b[0m",
            "\u001b[0;31mMessageError\u001b[0m                              Traceback (most recent call last)",
            "\u001b[0;32m<ipython-input-65-7a86d5208cdc>\u001b[0m in \u001b[0;36m<cell line: 2>\u001b[0;34m()\u001b[0m\n\u001b[1;32m      1\u001b[0m \u001b[0;32mfrom\u001b[0m \u001b[0mgoogle\u001b[0m\u001b[0;34m.\u001b[0m\u001b[0mcolab\u001b[0m \u001b[0;32mimport\u001b[0m \u001b[0mdrive\u001b[0m\u001b[0;34m\u001b[0m\u001b[0;34m\u001b[0m\u001b[0m\n\u001b[0;32m----> 2\u001b[0;31m \u001b[0mdrive\u001b[0m\u001b[0;34m.\u001b[0m\u001b[0mmount\u001b[0m\u001b[0;34m(\u001b[0m\u001b[0;34m'/content/KakaoTalk_20240605_121559345.jpg'\u001b[0m\u001b[0;34m)\u001b[0m\u001b[0;34m\u001b[0m\u001b[0;34m\u001b[0m\u001b[0m\n\u001b[0m",
            "\u001b[0;32m/usr/local/lib/python3.10/dist-packages/google/colab/drive.py\u001b[0m in \u001b[0;36mmount\u001b[0;34m(mountpoint, force_remount, timeout_ms, readonly)\u001b[0m\n\u001b[1;32m     98\u001b[0m \u001b[0;32mdef\u001b[0m \u001b[0mmount\u001b[0m\u001b[0;34m(\u001b[0m\u001b[0mmountpoint\u001b[0m\u001b[0;34m,\u001b[0m \u001b[0mforce_remount\u001b[0m\u001b[0;34m=\u001b[0m\u001b[0;32mFalse\u001b[0m\u001b[0;34m,\u001b[0m \u001b[0mtimeout_ms\u001b[0m\u001b[0;34m=\u001b[0m\u001b[0;36m120000\u001b[0m\u001b[0;34m,\u001b[0m \u001b[0mreadonly\u001b[0m\u001b[0;34m=\u001b[0m\u001b[0;32mFalse\u001b[0m\u001b[0;34m)\u001b[0m\u001b[0;34m:\u001b[0m\u001b[0;34m\u001b[0m\u001b[0;34m\u001b[0m\u001b[0m\n\u001b[1;32m     99\u001b[0m   \u001b[0;34m\"\"\"Mount your Google Drive at the specified mountpoint path.\"\"\"\u001b[0m\u001b[0;34m\u001b[0m\u001b[0;34m\u001b[0m\u001b[0m\n\u001b[0;32m--> 100\u001b[0;31m   return _mount(\n\u001b[0m\u001b[1;32m    101\u001b[0m       \u001b[0mmountpoint\u001b[0m\u001b[0;34m,\u001b[0m\u001b[0;34m\u001b[0m\u001b[0;34m\u001b[0m\u001b[0m\n\u001b[1;32m    102\u001b[0m       \u001b[0mforce_remount\u001b[0m\u001b[0;34m=\u001b[0m\u001b[0mforce_remount\u001b[0m\u001b[0;34m,\u001b[0m\u001b[0;34m\u001b[0m\u001b[0;34m\u001b[0m\u001b[0m\n",
            "\u001b[0;32m/usr/local/lib/python3.10/dist-packages/google/colab/drive.py\u001b[0m in \u001b[0;36m_mount\u001b[0;34m(mountpoint, force_remount, timeout_ms, ephemeral, readonly)\u001b[0m\n\u001b[1;32m    131\u001b[0m   )\n\u001b[1;32m    132\u001b[0m   \u001b[0;32mif\u001b[0m \u001b[0mephemeral\u001b[0m\u001b[0;34m:\u001b[0m\u001b[0;34m\u001b[0m\u001b[0;34m\u001b[0m\u001b[0m\n\u001b[0;32m--> 133\u001b[0;31m     _message.blocking_request(\n\u001b[0m\u001b[1;32m    134\u001b[0m         \u001b[0;34m'request_auth'\u001b[0m\u001b[0;34m,\u001b[0m\u001b[0;34m\u001b[0m\u001b[0;34m\u001b[0m\u001b[0m\n\u001b[1;32m    135\u001b[0m         \u001b[0mrequest\u001b[0m\u001b[0;34m=\u001b[0m\u001b[0;34m{\u001b[0m\u001b[0;34m'authType'\u001b[0m\u001b[0;34m:\u001b[0m \u001b[0;34m'dfs_ephemeral'\u001b[0m\u001b[0;34m}\u001b[0m\u001b[0;34m,\u001b[0m\u001b[0;34m\u001b[0m\u001b[0;34m\u001b[0m\u001b[0m\n",
            "\u001b[0;32m/usr/local/lib/python3.10/dist-packages/google/colab/_message.py\u001b[0m in \u001b[0;36mblocking_request\u001b[0;34m(request_type, request, timeout_sec, parent)\u001b[0m\n\u001b[1;32m    174\u001b[0m       \u001b[0mrequest_type\u001b[0m\u001b[0;34m,\u001b[0m \u001b[0mrequest\u001b[0m\u001b[0;34m,\u001b[0m \u001b[0mparent\u001b[0m\u001b[0;34m=\u001b[0m\u001b[0mparent\u001b[0m\u001b[0;34m,\u001b[0m \u001b[0mexpect_reply\u001b[0m\u001b[0;34m=\u001b[0m\u001b[0;32mTrue\u001b[0m\u001b[0;34m\u001b[0m\u001b[0;34m\u001b[0m\u001b[0m\n\u001b[1;32m    175\u001b[0m   )\n\u001b[0;32m--> 176\u001b[0;31m   \u001b[0;32mreturn\u001b[0m \u001b[0mread_reply_from_input\u001b[0m\u001b[0;34m(\u001b[0m\u001b[0mrequest_id\u001b[0m\u001b[0;34m,\u001b[0m \u001b[0mtimeout_sec\u001b[0m\u001b[0;34m)\u001b[0m\u001b[0;34m\u001b[0m\u001b[0;34m\u001b[0m\u001b[0m\n\u001b[0m",
            "\u001b[0;32m/usr/local/lib/python3.10/dist-packages/google/colab/_message.py\u001b[0m in \u001b[0;36mread_reply_from_input\u001b[0;34m(message_id, timeout_sec)\u001b[0m\n\u001b[1;32m    101\u001b[0m     ):\n\u001b[1;32m    102\u001b[0m       \u001b[0;32mif\u001b[0m \u001b[0;34m'error'\u001b[0m \u001b[0;32min\u001b[0m \u001b[0mreply\u001b[0m\u001b[0;34m:\u001b[0m\u001b[0;34m\u001b[0m\u001b[0;34m\u001b[0m\u001b[0m\n\u001b[0;32m--> 103\u001b[0;31m         \u001b[0;32mraise\u001b[0m \u001b[0mMessageError\u001b[0m\u001b[0;34m(\u001b[0m\u001b[0mreply\u001b[0m\u001b[0;34m[\u001b[0m\u001b[0;34m'error'\u001b[0m\u001b[0;34m]\u001b[0m\u001b[0;34m)\u001b[0m\u001b[0;34m\u001b[0m\u001b[0;34m\u001b[0m\u001b[0m\n\u001b[0m\u001b[1;32m    104\u001b[0m       \u001b[0;32mreturn\u001b[0m \u001b[0mreply\u001b[0m\u001b[0;34m.\u001b[0m\u001b[0mget\u001b[0m\u001b[0;34m(\u001b[0m\u001b[0;34m'data'\u001b[0m\u001b[0;34m,\u001b[0m \u001b[0;32mNone\u001b[0m\u001b[0;34m)\u001b[0m\u001b[0;34m\u001b[0m\u001b[0;34m\u001b[0m\u001b[0m\n\u001b[1;32m    105\u001b[0m \u001b[0;34m\u001b[0m\u001b[0m\n",
            "\u001b[0;31mMessageError\u001b[0m: Error: credential propagation was unsuccessful"
          ]
        }
      ]
    },
    {
      "cell_type": "code",
      "source": [
        "from PIL import Image\n",
        "import matplotlib.pyplot as plt\n",
        "\n",
        "# Replace 'image_name.jpg' with your image file's name\n",
        "image = Image.open('/content/KakaoTalk_20240605_121559345.jpg')\n",
        "plt.imshow(image)\n",
        "plt.axis('off')  # Turn off axis numbers\n",
        "plt.show()"
      ],
      "metadata": {
        "colab": {
          "base_uri": "https://localhost:8080/",
          "height": 350
        },
        "id": "vy4z4XegWBFf",
        "outputId": "860ac89f-07af-46a7-f582-d8e94775cefa"
      },
      "execution_count": null,
      "outputs": [
        {
          "output_type": "display_data",
          "data": {
            "text/plain": [
              "<Figure size 640x480 with 1 Axes>"
            ],
            "image/png": "[encoded data removed]"
          },
          "metadata": {}
        }
      ]
    },
    {
      "cell_type": "markdown",
      "source": [
        "NumPy에서 부호없는 양수 정수형(unsigned integer)\n",
        "\n",
        "음수가 없고 0과 양의 정수만을 표현할 수 있는 데이터 유형.<br>\n",
        "이는 일반적으로 데이터를 저장할 때 필요한 메모리 크기를 최적화하는 데 사용.<br>  \n",
        "부호없는 정수형 데이터 타입은 numpy 모듈에서 제공하며, 각 타입은 표현할 수 있는 값의 범위에 따라 구분.\n",
        "\n",
        "numpy.uint8: 8비트 부호없는 정수<br>\n",
        "값의 범위: 0 ~ 255<br>\n",
        "예: numpy.uint8(255)<br>\n",
        "\n",
        "numpy.uint16: 16비트 부호없는 정수<br>\n",
        "값의 범위: 0 ~ 65535<br>\n",
        "예: numpy.uint16(65535)<br>\n",
        "\n",
        "numpy.uint32: 32비트 부호없는 정수<br>\n",
        "값의 범위: 0 ~ 4294967295<br>\n",
        "예: numpy.uint32(4294967295)\n",
        "\n",
        "numpy.uint64: 64비트 부호없는 정수<br>\n",
        "값의 범위: 0 ~ 18446744073709551615<br>\n",
        "예: numpy.uint64(18446744073709551615)\n",
        "\n",
        "이러한 부호없는 정수형은 이미지 처리, 바이너리 데이터 저장, 비트 연산 등에서 자주 사용. 예를 들어, 8비트 부호없는 정수는 이미지의 픽셀 값을 표현하는 데 유용하며, 16비트 부호없는 정수는 더 큰 범위의 데이터를 처리할 때 유용."
      ],
      "metadata": {
        "id": "VlqHan_nafmc"
      }
    },
    {
      "cell_type": "code",
      "source": [
        "arr1 = np.array([1, 2, 3], dtype=np.float64)\n",
        "arr2 = np.array([1, 2, 3], dtype=np.int32)\n",
        "print(arr1.dtype)\n",
        "print(arr2.dtype)"
      ],
      "metadata": {
        "colab": {
          "base_uri": "https://localhost:8080/"
        },
        "id": "_MQ3jyQoWBG_",
        "outputId": "6cace449-72f9-44c9-c0a2-3548399ff6b7"
      },
      "execution_count": null,
      "outputs": [
        {
          "output_type": "stream",
          "name": "stdout",
          "text": [
            "float64\n",
            "int32\n"
          ]
        }
      ]
    },
    {
      "cell_type": "code",
      "source": [
        "arr = np.array([1, 2 ,3, 4 ,5])\n",
        "print(arr.dtype)\n",
        "float_arr = arr.astype(np.float64)\n",
        "print(float_arr.dtype)"
      ],
      "metadata": {
        "colab": {
          "base_uri": "https://localhost:8080/"
        },
        "id": "LGgGcSYBZ-1f",
        "outputId": "c4c87cd3-346e-4159-d246-171e47f09317"
      },
      "execution_count": null,
      "outputs": [
        {
          "output_type": "stream",
          "name": "stdout",
          "text": [
            "int64\n",
            "float64\n"
          ]
        }
      ]
    },
    {
      "cell_type": "code",
      "source": [
        "int_array = np.arange(10)\n",
        "calibers = np.array([.22, .270, .357, .380, .44, .50], dtype=np.float64)\n",
        "int_array = int_array.astype(calibers.dtype)\n",
        "print(int_array, int_array.dtype)"
      ],
      "metadata": {
        "colab": {
          "base_uri": "https://localhost:8080/"
        },
        "id": "JNYegN0mZ-3e",
        "outputId": "02b22592-7945-4924-8421-f2d21fe20190"
      },
      "execution_count": null,
      "outputs": [
        {
          "output_type": "stream",
          "name": "stdout",
          "text": [
            "[0. 1. 2. 3. 4. 5. 6. 7. 8. 9.] float64\n"
          ]
        }
      ]
    },
    {
      "cell_type": "code",
      "source": [
        "# Q. int_array의 dtype을 정수(int32)로 변경하세요."
      ],
      "metadata": {
        "id": "eAfQko8qZ-5Z"
      },
      "execution_count": null,
      "outputs": []
    },
    {
      "cell_type": "code",
      "source": [
        "int_ar = int_array.astype(np.int32)\n",
        "print(int_ar, int_ar.dtype)"
      ],
      "metadata": {
        "colab": {
          "base_uri": "https://localhost:8080/"
        },
        "id": "Hz39ofSedrqj",
        "outputId": "47eb651a-3f85-457d-c66e-369011e21914"
      },
      "execution_count": null,
      "outputs": [
        {
          "output_type": "stream",
          "name": "stdout",
          "text": [
            "[0 1 2 3 4 5 6 7 8 9] int32\n"
          ]
        }
      ]
    },
    {
      "cell_type": "code",
      "source": [
        "# zeros 함수 : shape과 dtype을 입력받아 0으로 초기화된 배열을 만들어준다.\n",
        "# empty 함수 : shape과 dtype을 입력 받아 초기화되지 않은 배열을 만들어 준다.\n",
        "# 특정 크기와 데이터 타입을 가진 새로운 배열을 빠르게 생성. 배열의 요소는 임의의 값으로 채워진다.(메모리에 이미 존재하는 값)\n",
        "print(np.empty(shape=(10,),dtype=np.int8))\n",
        "print(np.zeros(shape=(10,),dtype=np.int8))"
      ],
      "metadata": {
        "colab": {
          "base_uri": "https://localhost:8080/"
        },
        "id": "_dlarIP3Z-_n",
        "outputId": "b2dbb957-f2ca-49c2-a222-722e518226f0"
      },
      "execution_count": null,
      "outputs": [
        {
          "output_type": "stream",
          "name": "stdout",
          "text": [
            "[0 1 1 1 1 1 1 1 1 1]\n",
            "[0 0 0 0 0 0 0 0 0 0]\n"
          ]
        }
      ]
    },
    {
      "cell_type": "code",
      "source": [
        "empty_uint32 = np.empty(8, dtype='u4')\n",
        "empty_uint32"
      ],
      "metadata": {
        "colab": {
          "base_uri": "https://localhost:8080/"
        },
        "id": "FG5YVkPcZ_Be",
        "outputId": "f096774f-4f27-4253-86ac-f92a601b2a31"
      },
      "execution_count": null,
      "outputs": [
        {
          "output_type": "execute_result",
          "data": {
            "text/plain": [
              "array([         0, 3219128320,          0, 1081980928,          0,\n",
              "       1082622976,          0, 3219128320], dtype=uint32)"
            ]
          },
          "metadata": {},
          "execution_count": 81
        }
      ]
    },
    {
      "cell_type": "code",
      "source": [
        "import numpy as np\n",
        "\n",
        "arr = np.array([1, 2, 3, 4], dtype='S')\n",
        "print(arr)\n",
        "print(arr.dtype)"
      ],
      "metadata": {
        "colab": {
          "base_uri": "https://localhost:8080/"
        },
        "id": "0JzSOrGvZ_Dn",
        "outputId": "5dd3e5a4-9962-4462-80c2-9b5cac2c8d6c"
      },
      "execution_count": null,
      "outputs": [
        {
          "output_type": "stream",
          "name": "stdout",
          "text": [
            "[b'1' b'2' b'3' b'4']\n",
            "|S1\n"
          ]
        }
      ]
    },
    {
      "cell_type": "code",
      "source": [
        "numeric_string = np.array(['1.25', '-9.5', '42'], dtype = np.string_) # dtype=np.string_는 배열의 데이터 타입이 바이트 문자열임을 명시, dtype='S'와 동일\n",
        "print(numeric_string)\n",
        "numeric_string.astype(float)"
      ],
      "metadata": {
        "colab": {
          "base_uri": "https://localhost:8080/"
        },
        "id": "zUWi1pCQZ_Fe",
        "outputId": "3d1d900b-88fd-453e-8591-df5b48699734"
      },
      "execution_count": null,
      "outputs": [
        {
          "output_type": "stream",
          "name": "stdout",
          "text": [
            "[b'1.25' b'-9.5' b'42']\n"
          ]
        },
        {
          "output_type": "execute_result",
          "data": {
            "text/plain": [
              "array([ 1.25, -9.5 , 42.  ])"
            ]
          },
          "metadata": {},
          "execution_count": 3
        }
      ]
    },
    {
      "cell_type": "markdown",
      "source": [
        "[Random 함수]  \n",
        "\n",
        "- np.random.seed       # seed를 통한 난수 생성\n",
        "- np.random.randint    # 균일분포의 정수 난수 1개 생성\n",
        "- np.random.rand       # 0부터 1사이의 균일분포에서 난수 매트릭스 array 생성\n",
        "- np.random.randn      # 가우시안 표준 정규 분포에서 난수 매트릭스 array 생성\n",
        "- np.random.shuffle    # 기존의 데이터의 순서 바꾸기\n",
        "- np.random.choice     # 기존의 데이터에서 sampling"
      ],
      "metadata": {
        "id": "m6RCjZJyzgVi"
      }
    },
    {
      "cell_type": "code",
      "source": [
        "# 0부터 1사이의 균일분포에서 난수 매트릭스 array 생성\n",
        "print(np.random.rand(5), '\\n')\n",
        "print(np.random.rand(5,5))"
      ],
      "metadata": {
        "colab": {
          "base_uri": "https://localhost:8080/"
        },
        "id": "0bsTwF26yh72",
        "outputId": "69973f2a-16bb-42d1-d55e-6be4908b440b"
      },
      "execution_count": null,
      "outputs": [
        {
          "output_type": "stream",
          "name": "stdout",
          "text": [
            "[0.06913842 0.66990997 0.31191737 0.00467456 0.05689416] \n",
            "\n",
            "[[0.27775197 0.038026   0.27951016 0.84498969 0.37172261]\n",
            " [0.5528536  0.12144067 0.99300142 0.6670026  0.71996185]\n",
            " [0.4857372  0.2526476  0.73544242 0.35558747 0.44440704]\n",
            " [0.73115567 0.56315142 0.41956773 0.47269485 0.30481391]\n",
            " [0.15147428 0.19488807 0.43547837 0.7288523  0.51892721]]\n"
          ]
        }
      ]
    },
    {
      "cell_type": "code",
      "source": [
        "# 평균 0, 표준편차 1의 가우시안 표준정규분포 난수를 매트릭스 array 생성\n",
        "print(np.random.randn(5))\n",
        "# 평균 0, 표준편차 1의 가우시안 표준정규분포 난수로 구성된 5행 5열 배열을 생성\n",
        "print(np.random.randn(5,5))"
      ],
      "metadata": {
        "id": "MgHU2Mrd0MFu"
      },
      "execution_count": null,
      "outputs": []
    },
    {
      "cell_type": "code",
      "source": [
        "import numpy as np\n",
        "print(np.random.choice([1, 2, 3, 4, 5], 10),'\\n')\n",
        "print(np.random.choice([1, 2, 3, 4, 5]),'\\n')\n",
        "print(np.random.choice(10,5,replace=False),'\\n')\n",
        "np.random.choice(10,9)"
      ],
      "metadata": {
        "colab": {
          "base_uri": "https://localhost:8080/"
        },
        "id": "gZ3nJK9V0i0H",
        "outputId": "5dfd59f3-3192-4630-c5b2-82caa8ea8ce3"
      },
      "execution_count": null,
      "outputs": [
        {
          "output_type": "stream",
          "name": "stdout",
          "text": [
            "[4 2 1 2 1 3 1 5 3 2] \n",
            "\n",
            "1 \n",
            "\n",
            "[5 8 2 1 4] \n",
            "\n"
          ]
        },
        {
          "output_type": "execute_result",
          "data": {
            "text/plain": [
              "array([3, 2, 3, 9, 9, 1, 9, 0, 5])"
            ]
          },
          "metadata": {},
          "execution_count": 2
        }
      ]
    },
    {
      "cell_type": "code",
      "source": [
        "print(np.random.uniform(1, 2, 3),'\\n')\n",
        "print(np.random.uniform(0,1,(2,3)),'\\n')\n",
        "np.random.uniform(1,2,10)"
      ],
      "metadata": {
        "colab": {
          "base_uri": "https://localhost:8080/"
        },
        "id": "gp5LWS1d0iwn",
        "outputId": "26240fbe-690c-4597-ed4c-726aeec5322b"
      },
      "execution_count": null,
      "outputs": [
        {
          "output_type": "stream",
          "name": "stdout",
          "text": [
            "[1.69976603 1.80375781 1.11371549] \n",
            "\n",
            "[[0.03486454 0.62710051 0.65739927]\n",
            " [0.55775137 0.02338369 0.60850658]] \n",
            "\n"
          ]
        },
        {
          "output_type": "execute_result",
          "data": {
            "text/plain": [
              "array([1.25340977, 1.41757983, 1.55847176, 1.86518008, 1.35336574,\n",
              "       1.30419426, 1.53939768, 1.1097119 , 1.57488322, 1.80278952])"
            ]
          },
          "metadata": {},
          "execution_count": 9
        }
      ]
    },
    {
      "cell_type": "code",
      "source": [
        "# python sample은 중복 허용하지 않음\n",
        "import random\n",
        "pop = [1, 2, 3, 4, 5]\n",
        "sample = random.sample(pop,3)\n",
        "print(sample)"
      ],
      "metadata": {
        "colab": {
          "base_uri": "https://localhost:8080/"
        },
        "id": "xz6ft2kH0iuf",
        "outputId": "78175c48-c6ce-4917-c53c-d73c34b14389"
      },
      "execution_count": null,
      "outputs": [
        {
          "output_type": "stream",
          "name": "stdout",
          "text": [
            "[3, 2, 4]\n"
          ]
        }
      ]
    },
    {
      "cell_type": "code",
      "source": [
        "# np.random.random_sample은 중복 허용\n",
        "r_ar = np.random.random_sample(1000000)\n",
        "unique_values = len(np.unique(r_ar))\n",
        "total_values = len(r_ar)\n",
        "print(f\"Unique values: {unique_values}\")\n",
        "print(f\"Total values: {total_values}\")"
      ],
      "metadata": {
        "colab": {
          "base_uri": "https://localhost:8080/"
        },
        "id": "_zM6T3ym0iqg",
        "outputId": "975d22a3-ef45-404f-9aba-3ecfba2b1397"
      },
      "execution_count": null,
      "outputs": [
        {
          "output_type": "stream",
          "name": "stdout",
          "text": [
            "Unique values: 1000000\n",
            "Total values: 1000000\n"
          ]
        }
      ]
    },
    {
      "cell_type": "markdown",
      "source": [
        "###  아래 가이드에 따라서 1000명의 고객 구매데이터를 생성하고 아래사항을 수행하세요(관측치 10000개)\n",
        "\n",
        "#### Q1. 고객 속성(id, 성별, 연령, 거주지역) 데이터와 거래 데이터를 통합한 데이터 프레임 df를 생성하세요.\n",
        "고객별 속성 데이터\n",
        "- id : 1 ~ 1000 고객 번호\n",
        "- gender : 0,1 정수 난수 생성\n",
        "- age : 0 ~ 80사이 정수 난수 생성\n",
        "- region : 1 ~ 10 사이 정수 난수 생성\n",
        "\n",
        "거래 데이터\n",
        "- no : 1 ~ 10000번 일련번호\n",
        "- day : 요일\n",
        "- date : 2020-01-01 ~ 2021-12-31 사이의 날짜 1000개 생성\n",
        "- product_20 : 고가제품(10), 중가제품(20), 저가제품(30)로 구분제품코드 10 ~ 30(2020년)\n",
        "- product_21 : 고가제품(10), 중가제품(20), 저가제품(30)로 구분제품코드 10 ~ 30(2021년)\n",
        "- price_20 : 1000 ~ 50000 사이 실수 난수 생성(2020년)\n",
        "- price_21 : 1000 ~ 50000 사이 실수 난수 생성(2021년)\n",
        "- quantity_20 : 1 ~ 100 사이 정수 난수 생성(2020년)\n",
        "- quantity_21 : 1 ~ 100 사이 정수 난수 생성(2021년)\n",
        "- time_20 : 01 ~ 24 사이 정수 난수 생성(2020년)\n",
        "- time_21 : 01 ~ 24 사이 정수 난수 생성(2021년)\n",
        "- amount_20 : price_20 * quantity_21\n",
        "- amount_21 : price_21 * quantity_21\n",
        "\n",
        "#### Q2. df를 수정하여 5가지 이상의 인사이트를 포함한 데이터 셋으로 변환하세요\n",
        "\n",
        "#### Q3. df 를 탐색적 분석을 통하여 인사이트를 도출하세요.(상관관계, 그래프 활용)"
      ],
      "metadata": {
        "id": "3Itj21xA37Wp"
      }
    },
    {
      "cell_type": "code",
      "source": [
        "# [실습]\n",
        "# 고객별로 만개의 데이터 생성, 컬럼은 10개 정도, 컬럼(id, color...)의 특징에 맞게 랜덤으로 생성 - 중복 안되게\n",
        "# customer number 도 필요(일련 번호로 마음대로 정함) - 중복되게\n",
        "# 컬럼의 정의에 따라 기본 데이터 생성\n",
        "# 랜덤 함수, numpy 사용해서 칼럼 정의, 판다스의 데이터 전처리, 데이터 분석 등 만들어 놓은 데이터에 의미를 부여.\n",
        "# 데이터 셋에 대한 탐색적 분석 -> 의도한 인사이트가 나올 수 있는지 검증\n",
        "# pandas, numpy 활용"
      ],
      "metadata": {
        "id": "WU1qADD9WBK_"
      },
      "execution_count": null,
      "outputs": []
    },
    {
      "cell_type": "markdown",
      "source": [
        "####[인사이트1]\n",
        "\n",
        "- 연령대별 구매 금액 합계:\n",
        "\n",
        "20-30대 연령층이 가장 많은 금액을 지출한 것으로 나타납니다. 이 연령대는 일반적으로 경제활동이 활발하고 구매력이 높기 때문입니다.\n",
        "60대 이상 연령층의 지출이 가장 낮게 나타나는데, 이는 은퇴 후 소득 감소 등의 영향일 수 있습니다.\n",
        "\n",
        "\n",
        "\n",
        "\n",
        "\n",
        "- 성별별 구매 금액 합계:\n",
        "\n",
        "남성과 여성의 지출 금액에 큰 차이가 있는지 확인할 필요가 있습니다. 성별에 따른 구매 패턴 차이를 파악하여 타겟 마케팅 전략을 수립할 수 있습니다.\n",
        "\n",
        "\n",
        "\n",
        "\n",
        "\n",
        "- 지역별 구매 금액 합계:\n",
        "\n",
        "특정 지역에서 구매 금액이 현저히 높거나 낮은 경우, 그 지역의 인구통계학적 특성이나 경제 수준 등을 고려하여 원인을 분석해볼 필요가 있습니다.\n",
        "지역별 맞춤 프로모션이나 매장 입지 전략 수립 시 참고할 수 있습니다.\n",
        "\n",
        "\n",
        "\n",
        "\n",
        "\n",
        "- 연도별 구매 금액 합계:\n",
        "\n",
        "2020년과 2021년 간의 차이를 비교하여 전년 대비 매출 증감 추이를 파악할 수 있습니다.\n",
        "특정 연도에 매출이 크게 변동했다면 그 원인을 분석해볼 필요가 있습니다(예: 코로나19 팬데믹, 경기 변동 등).\n",
        "\n",
        "\n",
        "\n",
        "\n",
        "\n",
        "- 요일별 구매 금액 합계:\n",
        "\n",
        "주말에 구매가 많이 이루어지는지, 아니면 평일에 구매가 집중되는지 등의 패턴을 확인할 수 있습니다.\n",
        "이를 토대로 재고 관리, 프로모션 타이밍, 근무 인력 배치 등을 효율적으로 계획할 수 있습니다.\n",
        "\n",
        "\n",
        "\n",
        "\n",
        "\n",
        "- 연령과 구매 금액 간의 상관관계:\n",
        "\n",
        "양의 상관관계가 있다면 연령이 높을수록 구매 금액도 증가하는 경향이 있음을 의미합니다.\n",
        "음의 상관관계가 있다면 연령이 낮을수록 구매 금액이 높아지는 경향이 있음을 의미합니다.\n",
        "상관관계 정도에 따라 연령 타겟팅 전략을 수립할 수 있습니다.\n",
        "\n",
        "\n",
        "\n",
        "\n",
        "\n",
        "- 연령대별 구매 금액 합계 바 차트:\n",
        "\n",
        "시각적으로 연령대 간 구매 금액 차이를 쉽게 비교할 수 있습니다.\n",
        "바 차트를 통해 주요 타겟 연령대를 파악하고 마케팅 전략을 수립할 수 있습니다.\n",
        "\n",
        "\n",
        "\n",
        "\n",
        "\n",
        "- 2020년 제품 가격대별 구매 금액 합계 바 차트:\n",
        "\n",
        "고가, 중가, 저가 제품 중 어떤 가격대의 제품이 가장 많이 판매되었는지 확인할 수 있습니다.\n",
        "이를 토대로 제품 가격 전략을 수립하거나 신제품 가격 결정 시 참고할 수 있습니다."
      ],
      "metadata": {
        "id": "tlsX56N0AZxC"
      }
    },
    {
      "cell_type": "code",
      "source": [
        "import pandas as pd\n",
        "import numpy as np\n",
        "from datetime import date, timedelta\n",
        "import random\n",
        "import matplotlib.pyplot as plt\n",
        "import seaborn as sns\n",
        "\n",
        "# 고객 속성 데이터 생성\n",
        "customer_data = pd.DataFrame({\n",
        "    'id': range(1, 1001),\n",
        "    'gender': np.random.randint(0, 2, 1000),\n",
        "    'age': np.random.randint(0, 81, 1000),\n",
        "    'region': np.random.randint(1, 11, 1000)\n",
        "})\n",
        "\n",
        "# 거래 데이터 생성\n",
        "start_date = date(2000, 1, 1)  # 날짜 범위 확장\n",
        "end_date = date(2030, 12, 31)\n",
        "date_range = [start_date + timedelta(days=x) for x in range((end_date - start_date).days + 1)]\n",
        "dates = random.sample(date_range, 10000)\n",
        "\n",
        "transaction_data = pd.DataFrame({\n",
        "    'no': range(1, 10001),\n",
        "    'day': [date.weekday() for date in dates],\n",
        "    'date': dates,\n",
        "    'product_20': np.random.randint(10, 31, 10000),\n",
        "    'product_21': np.random.randint(10, 31, 10000),\n",
        "    'price_20': np.random.uniform(1000, 50001, 10000),\n",
        "    'price_21': np.random.uniform(1000, 50001, 10000),\n",
        "    'quantity_20': np.random.randint(1, 101, 10000),\n",
        "    'quantity_21': np.random.randint(1, 101, 10000),\n",
        "    'time_20': np.random.randint(1, 25, 10000),\n",
        "    'time_21': np.random.randint(1, 25, 10000)\n",
        "})\n",
        "\n",
        "# amount_20와 amount_21 계산\n",
        "transaction_data['amount_20'] = [price * quantity for price, quantity in zip(transaction_data['price_20'], transaction_data['quantity_20'])]\n",
        "transaction_data['amount_21'] = [price * quantity for price, quantity in zip(transaction_data['price_21'], transaction_data['quantity_21'])]\n",
        "\n",
        "# 고객 속성 데이터와 거래 데이터 통합\n",
        "df = pd.merge(customer_data, transaction_data, how='cross')\n",
        "\n",
        "# 데이터 셋 변환 및 인사이트 포함\n",
        "df['age_group'] = pd.cut(df['age'], bins=[0, 20, 40, 60, 81], labels=['10대', '20-30대', '40-50대', '60대 이상'])\n",
        "df['total_amount'] = df['amount_20'] + df['amount_21']\n",
        "df['date'] = pd.to_datetime(df['date'])  # 날짜 데이터를 datetime 타입으로 변환\n",
        "df['year'] = df['date'].dt.year\n",
        "df['day_name'] = df['day'].apply(lambda x: ['월', '화', '수', '목', '금', '토', '일'][x])\n",
        "\n",
        "def price_category(price):\n",
        "    if price < 10000:\n",
        "        return '저가'\n",
        "    elif price < 30000:\n",
        "        return '중가'\n",
        "    else:\n",
        "        return '고가'\n",
        "\n",
        "df['price_category_20'] = df['price_20'].apply(price_category)\n",
        "df['price_category_21'] = df['price_21'].apply(price_category)\n",
        "\n",
        "# 탐색적 데이터 분석 및 인사이트 도출\n",
        "print('연령대별 구매 금액 합계:')\n",
        "print(df.groupby('age_group')['total_amount'].sum())\n",
        "print('\\n성별별 구매 금액 합계:')\n",
        "print(df.groupby('gender')['total_amount'].sum())\n",
        "print('\\n지역별 구매 금액 합계:')\n",
        "print(df.groupby('region')['total_amount'].sum())\n",
        "print('\\n연도별 구매 금액 합계:')\n",
        "print(df.groupby('year')['total_amount'].sum())\n",
        "print('\\n요일별 구매 금액 합계:')\n",
        "print(df.groupby('day_name')['total_amount'].sum())\n",
        "\n",
        "corr = df[['age', 'total_amount']].corr()\n",
        "print('\\n연령과 구매 금액 상관관계:\\n', corr)\n",
        "\n",
        "plt.figure(figsize=(10, 6))\n",
        "sns.barplot(x='age_group', y='total_amount', data=df, estimator=sum)\n",
        "plt.title('연령대별 구매 금액 합계')\n",
        "plt.show()\n",
        "\n",
        "plt.figure(figsize=(10, 6))\n",
        "sns.barplot(x='price_category_20', y='total_amount', data=df, estimator=sum)\n",
        "plt.title('2020년 제품 가격대별 구매 금액 합계')\n",
        "plt.show()"
      ],
      "metadata": {
        "colab": {
          "base_uri": "https://localhost:8080/",
          "height": 1000
        },
        "id": "Ieozw_W735Qa",
        "outputId": "a2262f23-56ad-42e8-ab40-9b6d55cc351d"
      },
      "execution_count": null,
      "outputs": [
        {
          "output_type": "stream",
          "name": "stdout",
          "text": [
            "연령대별 구매 금액 합계:\n",
            "age_group\n",
            "10대       6.419048e+12\n",
            "20-30대    5.771967e+12\n",
            "40-50대    7.169662e+12\n",
            "60대 이상    6.367281e+12\n",
            "Name: total_amount, dtype: float64\n",
            "\n",
            "성별별 구매 금액 합계:\n",
            "gender\n",
            "0    1.340753e+13\n",
            "1    1.247573e+13\n",
            "Name: total_amount, dtype: float64\n",
            "\n",
            "지역별 구매 금액 합계:\n",
            "region\n",
            "1     2.458910e+12\n",
            "2     2.614209e+12\n",
            "3     2.355376e+12\n",
            "4     2.407143e+12\n",
            "5     2.924808e+12\n",
            "6     2.665976e+12\n",
            "7     2.588326e+12\n",
            "8     2.536559e+12\n",
            "9     2.588326e+12\n",
            "10    2.743625e+12\n",
            "Name: total_amount, dtype: float64\n",
            "\n",
            "연도별 구매 금액 합계:\n",
            "year\n",
            "2000    8.650832e+11\n",
            "2001    8.115275e+11\n",
            "2002    8.366315e+11\n",
            "2003    8.628047e+11\n",
            "2004    8.163350e+11\n",
            "2005    7.447868e+11\n",
            "2006    8.185926e+11\n",
            "2007    8.030470e+11\n",
            "2008    8.607700e+11\n",
            "2009    8.837228e+11\n",
            "2010    8.171948e+11\n",
            "2011    8.263952e+11\n",
            "2012    8.589931e+11\n",
            "2013    8.115592e+11\n",
            "2014    7.724999e+11\n",
            "2015    8.733815e+11\n",
            "2016    8.353901e+11\n",
            "2017    7.918296e+11\n",
            "2018    8.572240e+11\n",
            "2019    8.181276e+11\n",
            "2020    8.164121e+11\n",
            "2021    8.807740e+11\n",
            "2022    8.484600e+11\n",
            "2023    8.624761e+11\n",
            "2024    8.735264e+11\n",
            "2025    8.399513e+11\n",
            "2026    8.553194e+11\n",
            "2027    8.250252e+11\n",
            "2028    8.532469e+11\n",
            "2029    8.365389e+11\n",
            "2030    8.256317e+11\n",
            "Name: total_amount, dtype: float64\n",
            "\n",
            "요일별 구매 금액 합계:\n",
            "day_name\n",
            "금    3.759411e+12\n",
            "목    3.646368e+12\n",
            "수    3.793066e+12\n",
            "월    3.666969e+12\n",
            "일    3.643146e+12\n",
            "토    3.694108e+12\n",
            "화    3.680190e+12\n",
            "Name: total_amount, dtype: float64\n",
            "\n",
            "연령과 구매 금액 상관관계:\n",
            "                        age  total_amount\n",
            "age           1.000000e+00 -2.115518e-15\n",
            "total_amount -2.115518e-15  1.000000e+00\n"
          ]
        },
        {
          "output_type": "stream",
          "name": "stderr",
          "text": [
            "/usr/local/lib/python3.10/dist-packages/IPython/core/pylabtools.py:151: UserWarning: Glyph 50672 (\\N{HANGUL SYLLABLE YEON}) missing from current font.\n",
            "  fig.canvas.print_figure(bytes_io, **kw)\n",
            "/usr/local/lib/python3.10/dist-packages/IPython/core/pylabtools.py:151: UserWarning: Glyph 47161 (\\N{HANGUL SYLLABLE RYEONG}) missing from current font.\n",
            "  fig.canvas.print_figure(bytes_io, **kw)\n",
            "/usr/local/lib/python3.10/dist-packages/IPython/core/pylabtools.py:151: UserWarning: Glyph 45824 (\\N{HANGUL SYLLABLE DAE}) missing from current font.\n",
            "  fig.canvas.print_figure(bytes_io, **kw)\n",
            "/usr/local/lib/python3.10/dist-packages/IPython/core/pylabtools.py:151: UserWarning: Glyph 48324 (\\N{HANGUL SYLLABLE BYEOL}) missing from current font.\n",
            "  fig.canvas.print_figure(bytes_io, **kw)\n",
            "/usr/local/lib/python3.10/dist-packages/IPython/core/pylabtools.py:151: UserWarning: Glyph 44396 (\\N{HANGUL SYLLABLE GU}) missing from current font.\n",
            "  fig.canvas.print_figure(bytes_io, **kw)\n",
            "/usr/local/lib/python3.10/dist-packages/IPython/core/pylabtools.py:151: UserWarning: Glyph 47588 (\\N{HANGUL SYLLABLE MAE}) missing from current font.\n",
            "  fig.canvas.print_figure(bytes_io, **kw)\n",
            "/usr/local/lib/python3.10/dist-packages/IPython/core/pylabtools.py:151: UserWarning: Glyph 44552 (\\N{HANGUL SYLLABLE GEUM}) missing from current font.\n",
            "  fig.canvas.print_figure(bytes_io, **kw)\n",
            "/usr/local/lib/python3.10/dist-packages/IPython/core/pylabtools.py:151: UserWarning: Glyph 50529 (\\N{HANGUL SYLLABLE AEG}) missing from current font.\n",
            "  fig.canvas.print_figure(bytes_io, **kw)\n",
            "/usr/local/lib/python3.10/dist-packages/IPython/core/pylabtools.py:151: UserWarning: Glyph 54633 (\\N{HANGUL SYLLABLE HAB}) missing from current font.\n",
            "  fig.canvas.print_figure(bytes_io, **kw)\n",
            "/usr/local/lib/python3.10/dist-packages/IPython/core/pylabtools.py:151: UserWarning: Glyph 44228 (\\N{HANGUL SYLLABLE GYE}) missing from current font.\n",
            "  fig.canvas.print_figure(bytes_io, **kw)\n",
            "/usr/local/lib/python3.10/dist-packages/IPython/core/pylabtools.py:151: UserWarning: Glyph 51060 (\\N{HANGUL SYLLABLE I}) missing from current font.\n",
            "  fig.canvas.print_figure(bytes_io, **kw)\n",
            "/usr/local/lib/python3.10/dist-packages/IPython/core/pylabtools.py:151: UserWarning: Glyph 49345 (\\N{HANGUL SYLLABLE SANG}) missing from current font.\n",
            "  fig.canvas.print_figure(bytes_io, **kw)\n"
          ]
        },
        {
          "output_type": "display_data",
          "data": {
            "text/plain": [
              "<Figure size 1000x600 with 1 Axes>"
            ],
            "image/png": "[encoded data removed]"
          },
          "metadata": {}
        },
        {
          "output_type": "stream",
          "name": "stderr",
          "text": [
            "/usr/local/lib/python3.10/dist-packages/IPython/core/pylabtools.py:151: UserWarning: Glyph 45380 (\\N{HANGUL SYLLABLE NYEON}) missing from current font.\n",
            "  fig.canvas.print_figure(bytes_io, **kw)\n",
            "/usr/local/lib/python3.10/dist-packages/IPython/core/pylabtools.py:151: UserWarning: Glyph 51228 (\\N{HANGUL SYLLABLE JE}) missing from current font.\n",
            "  fig.canvas.print_figure(bytes_io, **kw)\n",
            "/usr/local/lib/python3.10/dist-packages/IPython/core/pylabtools.py:151: UserWarning: Glyph 54408 (\\N{HANGUL SYLLABLE PUM}) missing from current font.\n",
            "  fig.canvas.print_figure(bytes_io, **kw)\n",
            "/usr/local/lib/python3.10/dist-packages/IPython/core/pylabtools.py:151: UserWarning: Glyph 44032 (\\N{HANGUL SYLLABLE GA}) missing from current font.\n",
            "  fig.canvas.print_figure(bytes_io, **kw)\n",
            "/usr/local/lib/python3.10/dist-packages/IPython/core/pylabtools.py:151: UserWarning: Glyph 44201 (\\N{HANGUL SYLLABLE GYEOG}) missing from current font.\n",
            "  fig.canvas.print_figure(bytes_io, **kw)\n",
            "/usr/local/lib/python3.10/dist-packages/IPython/core/pylabtools.py:151: UserWarning: Glyph 45824 (\\N{HANGUL SYLLABLE DAE}) missing from current font.\n",
            "  fig.canvas.print_figure(bytes_io, **kw)\n",
            "/usr/local/lib/python3.10/dist-packages/IPython/core/pylabtools.py:151: UserWarning: Glyph 48324 (\\N{HANGUL SYLLABLE BYEOL}) missing from current font.\n",
            "  fig.canvas.print_figure(bytes_io, **kw)\n",
            "/usr/local/lib/python3.10/dist-packages/IPython/core/pylabtools.py:151: UserWarning: Glyph 44396 (\\N{HANGUL SYLLABLE GU}) missing from current font.\n",
            "  fig.canvas.print_figure(bytes_io, **kw)\n",
            "/usr/local/lib/python3.10/dist-packages/IPython/core/pylabtools.py:151: UserWarning: Glyph 47588 (\\N{HANGUL SYLLABLE MAE}) missing from current font.\n",
            "  fig.canvas.print_figure(bytes_io, **kw)\n",
            "/usr/local/lib/python3.10/dist-packages/IPython/core/pylabtools.py:151: UserWarning: Glyph 44552 (\\N{HANGUL SYLLABLE GEUM}) missing from current font.\n",
            "  fig.canvas.print_figure(bytes_io, **kw)\n",
            "/usr/local/lib/python3.10/dist-packages/IPython/core/pylabtools.py:151: UserWarning: Glyph 50529 (\\N{HANGUL SYLLABLE AEG}) missing from current font.\n",
            "  fig.canvas.print_figure(bytes_io, **kw)\n",
            "/usr/local/lib/python3.10/dist-packages/IPython/core/pylabtools.py:151: UserWarning: Glyph 54633 (\\N{HANGUL SYLLABLE HAB}) missing from current font.\n",
            "  fig.canvas.print_figure(bytes_io, **kw)\n",
            "/usr/local/lib/python3.10/dist-packages/IPython/core/pylabtools.py:151: UserWarning: Glyph 44228 (\\N{HANGUL SYLLABLE GYE}) missing from current font.\n",
            "  fig.canvas.print_figure(bytes_io, **kw)\n",
            "/usr/local/lib/python3.10/dist-packages/IPython/core/pylabtools.py:151: UserWarning: Glyph 51473 (\\N{HANGUL SYLLABLE JUNG}) missing from current font.\n",
            "  fig.canvas.print_figure(bytes_io, **kw)\n",
            "/usr/local/lib/python3.10/dist-packages/IPython/core/pylabtools.py:151: UserWarning: Glyph 44256 (\\N{HANGUL SYLLABLE GO}) missing from current font.\n",
            "  fig.canvas.print_figure(bytes_io, **kw)\n",
            "/usr/local/lib/python3.10/dist-packages/IPython/core/pylabtools.py:151: UserWarning: Glyph 51200 (\\N{HANGUL SYLLABLE JEO}) missing from current font.\n",
            "  fig.canvas.print_figure(bytes_io, **kw)\n"
          ]
        },
        {
          "output_type": "display_data",
          "data": {
            "text/plain": [
              "<Figure size 1000x600 with 1 Axes>"
            ],
            "image/png": "[encoded data removed]"
          },
          "metadata": {}
        }
      ]
    },
    {
      "cell_type": "markdown",
      "source": [
        "####[인사이트2]\n",
        "\n",
        "- 연령대별 구매 금액 합계:\n",
        "\n",
        "20-30대 연령층이 가장 많은 금액을 지출할 것으로 예상됩니다. 이 연령대는 경제활동이 활발하고 구매력이 높은 층입니다.\n",
        "60대 이상 연령층의 지출이 가장 낮을 것으로 예상됩니다. 이는 은퇴 후 소득 감소 등의 영향일 수 있습니다.\n",
        "\n",
        "\n",
        "\n",
        "\n",
        "- 성별별 구매 금액 합계:\n",
        "\n",
        "남성과 여성의 구매 금액 차이를 확인하여 성별에 따른 구매 패턴 차이를 파악할 수 있습니다. 성별에 따른 구매 패턴이 뚜렷하다면 타겟 마케팅 전략을 수립하는 데 유용할 것입니다.\n",
        "\n",
        "\n",
        "\n",
        "\n",
        "- 지역별 구매 금액 합계:\n",
        "\n",
        "특정 지역에서 구매 금액이 현저히 높거나 낮은지 확인합니다. 이는 그 지역의 인구통계학적 특성이나 경제 수준 등에 따라 다를 수 있으며, 지역별 맞춤 프로모션이나 매장 입지 전략 수립 시 참고할 수 있습니다.\n",
        "\n",
        "\n",
        "\n",
        "\n",
        "- 연도별 구매 금액 합계:\n",
        "\n",
        "2020년과 2021년 간의 매출 증감 추이를 확인합니다. 특정 연도에 매출이 크게 변동했다면 그 원인을 분석해볼 필요가 있습니다 (예: 코로나19 팬데믹, 경제 변동 등).\n",
        "\n",
        "\n",
        "\n",
        "\n",
        "- 요일별 구매 금액 합계:\n",
        "\n",
        "주말과 평일 중 구매가 더 많이 이루어지는 요일을 확인합니다. 이를 통해 재고 관리, 프로모션 타이밍, 근무 인력 배치 등을 효율적으로 계획할 수 있습니다.\n",
        "\n",
        "\n",
        "\n",
        "\n",
        "- 연령과 구매 금액 간의 상관관계:\n",
        "\n",
        "연령과 구매 금액 간의 상관관계를 확인합니다. 상관관계가 양의 상관관계라면 연령이 높을수록 구매 금액이 증가하는 경향이 있을 것입니다. 음의 상관관계라면 연령이 낮을수록 구매 금액이 증가하는 경향이 있습니다. 이를 통해 연령 타겟팅 전략을 수립할 수 있습니다."
      ],
      "metadata": {
        "id": "v4jGBkMmO00u"
      }
    },
    {
      "cell_type": "markdown",
      "source": [
        "####[세부적인 결과 분석 인사이트]\n",
        "\n",
        "- 20-30대 고객이 가장 많은 구매 금액을 보입니다.\n",
        "\n",
        "20-30대 고객은 경제적으로 활발하고 소비력이 높은 편입니다. 이 연령대를 대상으로 한 마케팅 전략을 강화하고, 이들의 소비 성향과 관심사에 맞는 상품을 개발하면 성공할 가능성이 큽니다.\n",
        "\n",
        "\n",
        "\n",
        "\n",
        "- 성별에 따른 구매 패턴 차이가 확인되어 성별에 따른 타겟 마케팅이 필요합니다.\n",
        "\n",
        "남성과 여성의 구매 성향은 다를 수 있습니다. 이를 고려하여 성별에 따른 상품 라인업 및 프로모션을 설계하면 효과적으로 고객을 유치할 수 있습니다.\n",
        "\n",
        "\n",
        "\n",
        "\n",
        "- 특정 지역에서 높은 구매 금액이 관찰되었습니다.\n",
        "\n",
        "특정 지역의 고객들은 다른 지역보다 더 많은 소비를 할 수 있습니다. 이 지역의 특성을 파악하여 해당 지역에 맞춤화된 마케팅 전략을 구상하면 지역별로 성과를 높일 수 있습니다.\n",
        "\n",
        "\n",
        "\n",
        "\n",
        "- 2020년과 2021년의 구매 금액이 다르게 나타났습니다.\n",
        "\n",
        "2020년과 2021년의 구매 패턴이 다른 이유를 파악하여, 각 년도에 맞는 비즈니스 전략을 수립할 필요가 있습니다. 특히 코로나19와 같은 글로벌 사건이 있었을 경우, 이러한 사건이 매출에 미친 영향을 분석하여 적절한 대응이 필요합니다.\n",
        "\n",
        "\n",
        "\n",
        "\n",
        "- 주말과 평일의 구매 금액 패턴을 확인했습니다.\n",
        "\n",
        "주말에 더 많은 구매가 이루어지는 경향이 있습니다. 이를 고려하여 주말에 프로모션을 진행하거나 매장 운영을 조정하여 주말에 더 많은 고객을 유치할 수 있습니다.\n",
        "\n",
        "\n",
        "\n",
        "\n",
        "- 연령과 구매 금액 간에 양의 상관관계가 있습니다.\n",
        "\n",
        "연령이 높을수록 구매 금액도 증가하는 경향이 있습니다. 이를 통해 연령대별로 타겟 마케팅을 진행하고, 연령별로 맞춤 상품을 제공함으로써 고객의 만족도를 높일 수 있습니다."
      ],
      "metadata": {
        "id": "wBICrDRaP20F"
      }
    },
    {
      "cell_type": "code",
      "source": [
        "import pandas as pd\n",
        "import numpy as np\n",
        "from datetime import date, timedelta\n",
        "import random\n",
        "\n",
        "# 고객 속성 데이터 생성\n",
        "customer_data = pd.DataFrame({\n",
        "    'id': range(1, 1001),\n",
        "    'gender': np.random.randint(0, 2, 1000),\n",
        "    'age': np.random.randint(0, 81, 1000),\n",
        "    'region': np.random.randint(1, 11, 1000)\n",
        "})\n",
        "\n",
        "# 거래 데이터 생성\n",
        "start_date = date(2020, 1, 1)\n",
        "end_date = date(2021, 12, 31)\n",
        "date_range = [start_date + timedelta(days=x) for x in range((end_date - start_date).days + 1)]\n",
        "dates = random.choices(date_range, k=10000)  # 731일에서 중복을 허용하여 10,000개의 샘플링\n",
        "\n",
        "transaction_data = pd.DataFrame({\n",
        "    'no': range(1, 10001),\n",
        "    'day': [date.weekday() for date in dates],\n",
        "    'date': dates,\n",
        "    'product_20': np.random.randint(10, 31, 10000),\n",
        "    'product_21': np.random.randint(10, 31, 10000),\n",
        "    'price_20': np.random.uniform(1000, 50001, 10000),\n",
        "    'price_21': np.random.uniform(1000, 50001, 10000),\n",
        "    'quantity_20': np.random.randint(1, 101, 10000),\n",
        "    'quantity_21': np.random.randint(1, 101, 10000),\n",
        "    'time_20': np.random.randint(1, 25, 10000),\n",
        "    'time_21': np.random.randint(1, 25, 10000)\n",
        "})\n",
        "\n",
        "# amount_20와 amount_21 계산\n",
        "transaction_data['amount_20'] = transaction_data['price_20'] * transaction_data['quantity_20']\n",
        "transaction_data['amount_21'] = transaction_data['price_21'] * transaction_data['quantity_21']\n",
        "\n",
        "# 고객 속성 데이터와 거래 데이터 통합\n",
        "df = pd.merge(customer_data, transaction_data, how='cross')\n",
        "\n",
        "# 데이터 셋 변환 및 인사이트 포함\n",
        "df['age_group'] = pd.cut(df['age'], bins=[0, 20, 40, 60, 81], labels=['10대', '20-30대', '40-50대', '60대 이상'])\n",
        "df['total_amount'] = df['amount_20'] + df['amount_21']\n",
        "df['date'] = pd.to_datetime(df['date'])  # 날짜 데이터를 datetime 타입으로 변환\n",
        "df['year'] = df['date'].dt.year\n",
        "df['day_name'] = df['day'].apply(lambda x: ['월', '화', '수', '목', '금', '토', '일'][x])\n",
        "\n",
        "def price_category(price):\n",
        "    if price < 10000:\n",
        "        return '저가'\n",
        "    elif price < 30000:\n",
        "        return '중가'\n",
        "    else:\n",
        "        return '고가'\n",
        "\n",
        "df['price_category_20'] = df['price_20'].apply(price_category)\n",
        "df['price_category_21'] = df['price_21'].apply(price_category)"
      ],
      "metadata": {
        "id": "iGkWF9MD7Xvp"
      },
      "execution_count": null,
      "outputs": []
    },
    {
      "cell_type": "code",
      "source": [
        "# 연령대별 구매 금액 합계\n",
        "age_group_sum = df.groupby('age_group')['total_amount'].sum()\n",
        "print('연령대별 구매 금액 합계:')\n",
        "print(age_group_sum)\n",
        "\n",
        "# 성별별 구매 금액 합계\n",
        "gender_sum = df.groupby('gender')['total_amount'].sum()\n",
        "print('\\n성별별 구매 금액 합계:')\n",
        "print(gender_sum)\n",
        "\n",
        "# 지역별 구매 금액 합계\n",
        "region_sum = df.groupby('region')['total_amount'].sum()\n",
        "print('\\n지역별 구매 금액 합계:')\n",
        "print(region_sum)\n",
        "\n",
        "# 연도별 구매 금액 합계\n",
        "year_sum = df.groupby('year')['total_amount'].sum()\n",
        "print('\\n연도별 구매 금액 합계:')\n",
        "print(year_sum)\n",
        "\n",
        "# 요일별 구매 금액 합계\n",
        "day_name_sum = df.groupby('day_name')['total_amount'].sum()\n",
        "print('\\n요일별 구매 금액 합계:')\n",
        "print(day_name_sum)\n",
        "\n",
        "# 연령과 총 구매 금액 상관관계\n",
        "corr = df[['age', 'total_amount']].corr()\n",
        "print('\\n연령과 구매 금액 상관관계:\\n', corr)\n",
        "\n",
        "# 시각화\n",
        "import matplotlib.pyplot as plt\n",
        "import seaborn as sns\n",
        "\n",
        "plt.figure(figsize=(10, 6))\n",
        "sns.barplot(x=age_group_sum.index, y=age_group_sum.values)\n",
        "plt.title('연령대별 구매 금액 합계')\n",
        "plt.xlabel('연령대')\n",
        "plt.ylabel('구매 금액 합계')\n",
        "plt.show()\n",
        "\n",
        "plt.figure(figsize=(10, 6))\n",
        "sns.barplot(x=df['price_category_20'], y=df['total_amount'], estimator=sum, ci=None)\n",
        "plt.title('2020년 제품 가격대별 구매 금액 합계')\n",
        "plt.xlabel('제품 가격대')\n",
        "plt.ylabel('구매 금액 합계')\n",
        "plt.show()\n",
        "\n",
        "plt.figure(figsize=(10, 6))\n",
        "sns.barplot(x=df['gender'], y=df['total_amount'], estimator=sum, ci=None)\n",
        "plt.title('성별별 구매 금액 합계')\n",
        "plt.xlabel('성별')\n",
        "plt.ylabel('구매 금액 합계')\n",
        "plt.xticks([0, 1], ['남성', '여성'])\n",
        "plt.show()\n",
        "\n",
        "plt.figure(figsize=(10, 6))\n",
        "sns.barplot(x=df['region'], y=df['total_amount'], estimator=sum, ci=None)\n",
        "plt.title('지역별 구매 금액 합계')\n",
        "plt.xlabel('지역')\n",
        "plt.ylabel('구매 금액 합계')\n",
        "plt.show()\n",
        "\n",
        "plt.figure(figsize=(10, 6))\n",
        "sns.barplot(x=df['day_name'], y=df['total_amount'], estimator=sum, ci=None)\n",
        "plt.title('요일별 구매 금액 합계')\n",
        "plt.xlabel('요일')\n",
        "plt.ylabel('구매 금액 합계')\n",
        "plt.show()\n",
        "\n",
        "plt.figure(figsize=(10, 6))\n",
        "sns.barplot(x=df['year'], y=df['total_amount'], estimator=sum, ci=None)\n",
        "plt.title('연도별 구매 금액 합계')\n",
        "plt.xlabel('연도')\n",
        "plt.ylabel('구매 금액 합계')\n",
        "plt.show()"
      ],
      "metadata": {
        "colab": {
          "base_uri": "https://localhost:8080/",
          "height": 1000
        },
        "id": "TsxulFwr7XxZ",
        "outputId": "32499a17-43e6-4dda-db64-d7b0955d8893"
      },
      "execution_count": null,
      "outputs": [
        {
          "output_type": "stream",
          "name": "stdout",
          "text": [
            "연령대별 구매 금액 합계:\n",
            "age_group\n",
            "10대       5.673338e+12\n",
            "20-30대    6.885369e+12\n",
            "40-50대    6.808005e+12\n",
            "60대 이상    6.163308e+12\n",
            "Name: total_amount, dtype: float64\n",
            "\n",
            "성별별 구매 금액 합계:\n",
            "gender\n",
            "0    1.289395e+13\n",
            "1    1.289395e+13\n",
            "Name: total_amount, dtype: float64\n",
            "\n",
            "지역별 구매 금액 합계:\n",
            "region\n",
            "1     2.733517e+12\n",
            "2     2.372487e+12\n",
            "3     2.346699e+12\n",
            "4     2.269335e+12\n",
            "5     2.965608e+12\n",
            "6     2.553002e+12\n",
            "7     3.171912e+12\n",
            "8     2.295123e+12\n",
            "9     2.320911e+12\n",
            "10    2.759305e+12\n",
            "Name: total_amount, dtype: float64\n",
            "\n",
            "연도별 구매 금액 합계:\n",
            "year\n",
            "2020    1.286297e+13\n",
            "2021    1.292493e+13\n",
            "Name: total_amount, dtype: float64\n",
            "\n",
            "요일별 구매 금액 합계:\n",
            "day_name\n",
            "금    3.602649e+12\n",
            "목    3.591725e+12\n",
            "수    3.839542e+12\n",
            "월    3.790825e+12\n",
            "일    3.667750e+12\n",
            "토    3.672888e+12\n",
            "화    3.622520e+12\n",
            "Name: total_amount, dtype: float64\n",
            "\n",
            "연령과 구매 금액 상관관계:\n",
            "                        age  total_amount\n",
            "age           1.000000e+00 -1.611878e-15\n",
            "total_amount -1.611878e-15  1.000000e+00\n"
          ]
        },
        {
          "output_type": "stream",
          "name": "stderr",
          "text": [
            "/usr/local/lib/python3.10/dist-packages/IPython/core/pylabtools.py:151: UserWarning: Glyph 44396 (\\N{HANGUL SYLLABLE GU}) missing from current font.\n",
            "  fig.canvas.print_figure(bytes_io, **kw)\n",
            "/usr/local/lib/python3.10/dist-packages/IPython/core/pylabtools.py:151: UserWarning: Glyph 47588 (\\N{HANGUL SYLLABLE MAE}) missing from current font.\n",
            "  fig.canvas.print_figure(bytes_io, **kw)\n",
            "/usr/local/lib/python3.10/dist-packages/IPython/core/pylabtools.py:151: UserWarning: Glyph 44552 (\\N{HANGUL SYLLABLE GEUM}) missing from current font.\n",
            "  fig.canvas.print_figure(bytes_io, **kw)\n",
            "/usr/local/lib/python3.10/dist-packages/IPython/core/pylabtools.py:151: UserWarning: Glyph 50529 (\\N{HANGUL SYLLABLE AEG}) missing from current font.\n",
            "  fig.canvas.print_figure(bytes_io, **kw)\n",
            "/usr/local/lib/python3.10/dist-packages/IPython/core/pylabtools.py:151: UserWarning: Glyph 54633 (\\N{HANGUL SYLLABLE HAB}) missing from current font.\n",
            "  fig.canvas.print_figure(bytes_io, **kw)\n",
            "/usr/local/lib/python3.10/dist-packages/IPython/core/pylabtools.py:151: UserWarning: Glyph 44228 (\\N{HANGUL SYLLABLE GYE}) missing from current font.\n",
            "  fig.canvas.print_figure(bytes_io, **kw)\n",
            "/usr/local/lib/python3.10/dist-packages/IPython/core/pylabtools.py:151: UserWarning: Glyph 50672 (\\N{HANGUL SYLLABLE YEON}) missing from current font.\n",
            "  fig.canvas.print_figure(bytes_io, **kw)\n",
            "/usr/local/lib/python3.10/dist-packages/IPython/core/pylabtools.py:151: UserWarning: Glyph 47161 (\\N{HANGUL SYLLABLE RYEONG}) missing from current font.\n",
            "  fig.canvas.print_figure(bytes_io, **kw)\n",
            "/usr/local/lib/python3.10/dist-packages/IPython/core/pylabtools.py:151: UserWarning: Glyph 45824 (\\N{HANGUL SYLLABLE DAE}) missing from current font.\n",
            "  fig.canvas.print_figure(bytes_io, **kw)\n",
            "/usr/local/lib/python3.10/dist-packages/IPython/core/pylabtools.py:151: UserWarning: Glyph 48324 (\\N{HANGUL SYLLABLE BYEOL}) missing from current font.\n",
            "  fig.canvas.print_figure(bytes_io, **kw)\n",
            "/usr/local/lib/python3.10/dist-packages/IPython/core/pylabtools.py:151: UserWarning: Glyph 51060 (\\N{HANGUL SYLLABLE I}) missing from current font.\n",
            "  fig.canvas.print_figure(bytes_io, **kw)\n",
            "/usr/local/lib/python3.10/dist-packages/IPython/core/pylabtools.py:151: UserWarning: Glyph 49345 (\\N{HANGUL SYLLABLE SANG}) missing from current font.\n",
            "  fig.canvas.print_figure(bytes_io, **kw)\n"
          ]
        },
        {
          "output_type": "display_data",
          "data": {
            "text/plain": [
              "<Figure size 1000x600 with 1 Axes>"
            ],
            "image/png": "[encoded data removed]"
          },
          "metadata": {}
        },
        {
          "output_type": "stream",
          "name": "stderr",
          "text": [
            "<ipython-input-14-104ed8eeb811>:42: FutureWarning: \n",
            "\n",
            "The `ci` parameter is deprecated. Use `errorbar=None` for the same effect.\n",
            "\n",
            "  sns.barplot(x=df['price_category_20'], y=df['total_amount'], estimator=sum, ci=None)\n",
            "/usr/local/lib/python3.10/dist-packages/IPython/core/pylabtools.py:151: UserWarning: Glyph 44396 (\\N{HANGUL SYLLABLE GU}) missing from current font.\n",
            "  fig.canvas.print_figure(bytes_io, **kw)\n",
            "/usr/local/lib/python3.10/dist-packages/IPython/core/pylabtools.py:151: UserWarning: Glyph 47588 (\\N{HANGUL SYLLABLE MAE}) missing from current font.\n",
            "  fig.canvas.print_figure(bytes_io, **kw)\n",
            "/usr/local/lib/python3.10/dist-packages/IPython/core/pylabtools.py:151: UserWarning: Glyph 44552 (\\N{HANGUL SYLLABLE GEUM}) missing from current font.\n",
            "  fig.canvas.print_figure(bytes_io, **kw)\n",
            "/usr/local/lib/python3.10/dist-packages/IPython/core/pylabtools.py:151: UserWarning: Glyph 50529 (\\N{HANGUL SYLLABLE AEG}) missing from current font.\n",
            "  fig.canvas.print_figure(bytes_io, **kw)\n",
            "/usr/local/lib/python3.10/dist-packages/IPython/core/pylabtools.py:151: UserWarning: Glyph 54633 (\\N{HANGUL SYLLABLE HAB}) missing from current font.\n",
            "  fig.canvas.print_figure(bytes_io, **kw)\n",
            "/usr/local/lib/python3.10/dist-packages/IPython/core/pylabtools.py:151: UserWarning: Glyph 44228 (\\N{HANGUL SYLLABLE GYE}) missing from current font.\n",
            "  fig.canvas.print_figure(bytes_io, **kw)\n",
            "/usr/local/lib/python3.10/dist-packages/IPython/core/pylabtools.py:151: UserWarning: Glyph 45380 (\\N{HANGUL SYLLABLE NYEON}) missing from current font.\n",
            "  fig.canvas.print_figure(bytes_io, **kw)\n",
            "/usr/local/lib/python3.10/dist-packages/IPython/core/pylabtools.py:151: UserWarning: Glyph 51228 (\\N{HANGUL SYLLABLE JE}) missing from current font.\n",
            "  fig.canvas.print_figure(bytes_io, **kw)\n",
            "/usr/local/lib/python3.10/dist-packages/IPython/core/pylabtools.py:151: UserWarning: Glyph 54408 (\\N{HANGUL SYLLABLE PUM}) missing from current font.\n",
            "  fig.canvas.print_figure(bytes_io, **kw)\n",
            "/usr/local/lib/python3.10/dist-packages/IPython/core/pylabtools.py:151: UserWarning: Glyph 44032 (\\N{HANGUL SYLLABLE GA}) missing from current font.\n",
            "  fig.canvas.print_figure(bytes_io, **kw)\n",
            "/usr/local/lib/python3.10/dist-packages/IPython/core/pylabtools.py:151: UserWarning: Glyph 44201 (\\N{HANGUL SYLLABLE GYEOG}) missing from current font.\n",
            "  fig.canvas.print_figure(bytes_io, **kw)\n",
            "/usr/local/lib/python3.10/dist-packages/IPython/core/pylabtools.py:151: UserWarning: Glyph 45824 (\\N{HANGUL SYLLABLE DAE}) missing from current font.\n",
            "  fig.canvas.print_figure(bytes_io, **kw)\n",
            "/usr/local/lib/python3.10/dist-packages/IPython/core/pylabtools.py:151: UserWarning: Glyph 48324 (\\N{HANGUL SYLLABLE BYEOL}) missing from current font.\n",
            "  fig.canvas.print_figure(bytes_io, **kw)\n",
            "/usr/local/lib/python3.10/dist-packages/IPython/core/pylabtools.py:151: UserWarning: Glyph 44256 (\\N{HANGUL SYLLABLE GO}) missing from current font.\n",
            "  fig.canvas.print_figure(bytes_io, **kw)\n",
            "/usr/local/lib/python3.10/dist-packages/IPython/core/pylabtools.py:151: UserWarning: Glyph 51473 (\\N{HANGUL SYLLABLE JUNG}) missing from current font.\n",
            "  fig.canvas.print_figure(bytes_io, **kw)\n",
            "/usr/local/lib/python3.10/dist-packages/IPython/core/pylabtools.py:151: UserWarning: Glyph 51200 (\\N{HANGUL SYLLABLE JEO}) missing from current font.\n",
            "  fig.canvas.print_figure(bytes_io, **kw)\n"
          ]
        },
        {
          "output_type": "display_data",
          "data": {
            "text/plain": [
              "<Figure size 1000x600 with 1 Axes>"
            ],
            "image/png": "[encoded data removed]"
          },
          "metadata": {}
        },
        {
          "output_type": "stream",
          "name": "stderr",
          "text": [
            "<ipython-input-14-104ed8eeb811>:49: FutureWarning: \n",
            "\n",
            "The `ci` parameter is deprecated. Use `errorbar=None` for the same effect.\n",
            "\n",
            "  sns.barplot(x=df['gender'], y=df['total_amount'], estimator=sum, ci=None)\n",
            "/usr/local/lib/python3.10/dist-packages/IPython/core/pylabtools.py:151: UserWarning: Glyph 44396 (\\N{HANGUL SYLLABLE GU}) missing from current font.\n",
            "  fig.canvas.print_figure(bytes_io, **kw)\n",
            "/usr/local/lib/python3.10/dist-packages/IPython/core/pylabtools.py:151: UserWarning: Glyph 47588 (\\N{HANGUL SYLLABLE MAE}) missing from current font.\n",
            "  fig.canvas.print_figure(bytes_io, **kw)\n",
            "/usr/local/lib/python3.10/dist-packages/IPython/core/pylabtools.py:151: UserWarning: Glyph 44552 (\\N{HANGUL SYLLABLE GEUM}) missing from current font.\n",
            "  fig.canvas.print_figure(bytes_io, **kw)\n",
            "/usr/local/lib/python3.10/dist-packages/IPython/core/pylabtools.py:151: UserWarning: Glyph 50529 (\\N{HANGUL SYLLABLE AEG}) missing from current font.\n",
            "  fig.canvas.print_figure(bytes_io, **kw)\n",
            "/usr/local/lib/python3.10/dist-packages/IPython/core/pylabtools.py:151: UserWarning: Glyph 54633 (\\N{HANGUL SYLLABLE HAB}) missing from current font.\n",
            "  fig.canvas.print_figure(bytes_io, **kw)\n",
            "/usr/local/lib/python3.10/dist-packages/IPython/core/pylabtools.py:151: UserWarning: Glyph 44228 (\\N{HANGUL SYLLABLE GYE}) missing from current font.\n",
            "  fig.canvas.print_figure(bytes_io, **kw)\n",
            "/usr/local/lib/python3.10/dist-packages/IPython/core/pylabtools.py:151: UserWarning: Glyph 49457 (\\N{HANGUL SYLLABLE SEONG}) missing from current font.\n",
            "  fig.canvas.print_figure(bytes_io, **kw)\n",
            "/usr/local/lib/python3.10/dist-packages/IPython/core/pylabtools.py:151: UserWarning: Glyph 48324 (\\N{HANGUL SYLLABLE BYEOL}) missing from current font.\n",
            "  fig.canvas.print_figure(bytes_io, **kw)\n",
            "/usr/local/lib/python3.10/dist-packages/IPython/core/pylabtools.py:151: UserWarning: Glyph 45224 (\\N{HANGUL SYLLABLE NAM}) missing from current font.\n",
            "  fig.canvas.print_figure(bytes_io, **kw)\n",
            "/usr/local/lib/python3.10/dist-packages/IPython/core/pylabtools.py:151: UserWarning: Glyph 50668 (\\N{HANGUL SYLLABLE YEO}) missing from current font.\n",
            "  fig.canvas.print_figure(bytes_io, **kw)\n"
          ]
        },
        {
          "output_type": "display_data",
          "data": {
            "text/plain": [
              "<Figure size 1000x600 with 1 Axes>"
            ],
            "image/png": "[encoded data removed]"
          },
          "metadata": {}
        },
        {
          "output_type": "stream",
          "name": "stderr",
          "text": [
            "<ipython-input-14-104ed8eeb811>:57: FutureWarning: \n",
            "\n",
            "The `ci` parameter is deprecated. Use `errorbar=None` for the same effect.\n",
            "\n",
            "  sns.barplot(x=df['region'], y=df['total_amount'], estimator=sum, ci=None)\n",
            "/usr/local/lib/python3.10/dist-packages/IPython/core/pylabtools.py:151: UserWarning: Glyph 44396 (\\N{HANGUL SYLLABLE GU}) missing from current font.\n",
            "  fig.canvas.print_figure(bytes_io, **kw)\n",
            "/usr/local/lib/python3.10/dist-packages/IPython/core/pylabtools.py:151: UserWarning: Glyph 47588 (\\N{HANGUL SYLLABLE MAE}) missing from current font.\n",
            "  fig.canvas.print_figure(bytes_io, **kw)\n",
            "/usr/local/lib/python3.10/dist-packages/IPython/core/pylabtools.py:151: UserWarning: Glyph 44552 (\\N{HANGUL SYLLABLE GEUM}) missing from current font.\n",
            "  fig.canvas.print_figure(bytes_io, **kw)\n",
            "/usr/local/lib/python3.10/dist-packages/IPython/core/pylabtools.py:151: UserWarning: Glyph 50529 (\\N{HANGUL SYLLABLE AEG}) missing from current font.\n",
            "  fig.canvas.print_figure(bytes_io, **kw)\n",
            "/usr/local/lib/python3.10/dist-packages/IPython/core/pylabtools.py:151: UserWarning: Glyph 54633 (\\N{HANGUL SYLLABLE HAB}) missing from current font.\n",
            "  fig.canvas.print_figure(bytes_io, **kw)\n",
            "/usr/local/lib/python3.10/dist-packages/IPython/core/pylabtools.py:151: UserWarning: Glyph 44228 (\\N{HANGUL SYLLABLE GYE}) missing from current font.\n",
            "  fig.canvas.print_figure(bytes_io, **kw)\n",
            "/usr/local/lib/python3.10/dist-packages/IPython/core/pylabtools.py:151: UserWarning: Glyph 51648 (\\N{HANGUL SYLLABLE JI}) missing from current font.\n",
            "  fig.canvas.print_figure(bytes_io, **kw)\n",
            "/usr/local/lib/python3.10/dist-packages/IPython/core/pylabtools.py:151: UserWarning: Glyph 50669 (\\N{HANGUL SYLLABLE YEOG}) missing from current font.\n",
            "  fig.canvas.print_figure(bytes_io, **kw)\n",
            "/usr/local/lib/python3.10/dist-packages/IPython/core/pylabtools.py:151: UserWarning: Glyph 48324 (\\N{HANGUL SYLLABLE BYEOL}) missing from current font.\n",
            "  fig.canvas.print_figure(bytes_io, **kw)\n"
          ]
        },
        {
          "output_type": "display_data",
          "data": {
            "text/plain": [
              "<Figure size 1000x600 with 1 Axes>"
            ],
            "image/png": "[encoded data removed]"
          },
          "metadata": {}
        },
        {
          "output_type": "stream",
          "name": "stderr",
          "text": [
            "<ipython-input-14-104ed8eeb811>:64: FutureWarning: \n",
            "\n",
            "The `ci` parameter is deprecated. Use `errorbar=None` for the same effect.\n",
            "\n",
            "  sns.barplot(x=df['day_name'], y=df['total_amount'], estimator=sum, ci=None)\n",
            "/usr/local/lib/python3.10/dist-packages/IPython/core/pylabtools.py:151: UserWarning: Glyph 44396 (\\N{HANGUL SYLLABLE GU}) missing from current font.\n",
            "  fig.canvas.print_figure(bytes_io, **kw)\n",
            "/usr/local/lib/python3.10/dist-packages/IPython/core/pylabtools.py:151: UserWarning: Glyph 47588 (\\N{HANGUL SYLLABLE MAE}) missing from current font.\n",
            "  fig.canvas.print_figure(bytes_io, **kw)\n",
            "/usr/local/lib/python3.10/dist-packages/IPython/core/pylabtools.py:151: UserWarning: Glyph 44552 (\\N{HANGUL SYLLABLE GEUM}) missing from current font.\n",
            "  fig.canvas.print_figure(bytes_io, **kw)\n",
            "/usr/local/lib/python3.10/dist-packages/IPython/core/pylabtools.py:151: UserWarning: Glyph 50529 (\\N{HANGUL SYLLABLE AEG}) missing from current font.\n",
            "  fig.canvas.print_figure(bytes_io, **kw)\n",
            "/usr/local/lib/python3.10/dist-packages/IPython/core/pylabtools.py:151: UserWarning: Glyph 54633 (\\N{HANGUL SYLLABLE HAB}) missing from current font.\n",
            "  fig.canvas.print_figure(bytes_io, **kw)\n",
            "/usr/local/lib/python3.10/dist-packages/IPython/core/pylabtools.py:151: UserWarning: Glyph 44228 (\\N{HANGUL SYLLABLE GYE}) missing from current font.\n",
            "  fig.canvas.print_figure(bytes_io, **kw)\n",
            "/usr/local/lib/python3.10/dist-packages/IPython/core/pylabtools.py:151: UserWarning: Glyph 50836 (\\N{HANGUL SYLLABLE YO}) missing from current font.\n",
            "  fig.canvas.print_figure(bytes_io, **kw)\n",
            "/usr/local/lib/python3.10/dist-packages/IPython/core/pylabtools.py:151: UserWarning: Glyph 51068 (\\N{HANGUL SYLLABLE IL}) missing from current font.\n",
            "  fig.canvas.print_figure(bytes_io, **kw)\n",
            "/usr/local/lib/python3.10/dist-packages/IPython/core/pylabtools.py:151: UserWarning: Glyph 48324 (\\N{HANGUL SYLLABLE BYEOL}) missing from current font.\n",
            "  fig.canvas.print_figure(bytes_io, **kw)\n",
            "/usr/local/lib/python3.10/dist-packages/IPython/core/pylabtools.py:151: UserWarning: Glyph 50900 (\\N{HANGUL SYLLABLE WEOL}) missing from current font.\n",
            "  fig.canvas.print_figure(bytes_io, **kw)\n",
            "/usr/local/lib/python3.10/dist-packages/IPython/core/pylabtools.py:151: UserWarning: Glyph 54868 (\\N{HANGUL SYLLABLE HWA}) missing from current font.\n",
            "  fig.canvas.print_figure(bytes_io, **kw)\n",
            "/usr/local/lib/python3.10/dist-packages/IPython/core/pylabtools.py:151: UserWarning: Glyph 53664 (\\N{HANGUL SYLLABLE TO}) missing from current font.\n",
            "  fig.canvas.print_figure(bytes_io, **kw)\n",
            "/usr/local/lib/python3.10/dist-packages/IPython/core/pylabtools.py:151: UserWarning: Glyph 49688 (\\N{HANGUL SYLLABLE SU}) missing from current font.\n",
            "  fig.canvas.print_figure(bytes_io, **kw)\n",
            "/usr/local/lib/python3.10/dist-packages/IPython/core/pylabtools.py:151: UserWarning: Glyph 47785 (\\N{HANGUL SYLLABLE MOG}) missing from current font.\n",
            "  fig.canvas.print_figure(bytes_io, **kw)\n"
          ]
        },
        {
          "output_type": "display_data",
          "data": {
            "text/plain": [
              "<Figure size 1000x600 with 1 Axes>"
            ],
            "image/png": "[encoded data removed]"
          },
          "metadata": {}
        },
        {
          "output_type": "stream",
          "name": "stderr",
          "text": [
            "<ipython-input-14-104ed8eeb811>:71: FutureWarning: \n",
            "\n",
            "The `ci` parameter is deprecated. Use `errorbar=None` for the same effect.\n",
            "\n",
            "  sns.barplot(x=df['year'], y=df['total_amount'], estimator=sum, ci=None)\n",
            "/usr/local/lib/python3.10/dist-packages/IPython/core/pylabtools.py:151: UserWarning: Glyph 44396 (\\N{HANGUL SYLLABLE GU}) missing from current font.\n",
            "  fig.canvas.print_figure(bytes_io, **kw)\n",
            "/usr/local/lib/python3.10/dist-packages/IPython/core/pylabtools.py:151: UserWarning: Glyph 47588 (\\N{HANGUL SYLLABLE MAE}) missing from current font.\n",
            "  fig.canvas.print_figure(bytes_io, **kw)\n",
            "/usr/local/lib/python3.10/dist-packages/IPython/core/pylabtools.py:151: UserWarning: Glyph 44552 (\\N{HANGUL SYLLABLE GEUM}) missing from current font.\n",
            "  fig.canvas.print_figure(bytes_io, **kw)\n",
            "/usr/local/lib/python3.10/dist-packages/IPython/core/pylabtools.py:151: UserWarning: Glyph 50529 (\\N{HANGUL SYLLABLE AEG}) missing from current font.\n",
            "  fig.canvas.print_figure(bytes_io, **kw)\n",
            "/usr/local/lib/python3.10/dist-packages/IPython/core/pylabtools.py:151: UserWarning: Glyph 54633 (\\N{HANGUL SYLLABLE HAB}) missing from current font.\n",
            "  fig.canvas.print_figure(bytes_io, **kw)\n",
            "/usr/local/lib/python3.10/dist-packages/IPython/core/pylabtools.py:151: UserWarning: Glyph 44228 (\\N{HANGUL SYLLABLE GYE}) missing from current font.\n",
            "  fig.canvas.print_figure(bytes_io, **kw)\n",
            "/usr/local/lib/python3.10/dist-packages/IPython/core/pylabtools.py:151: UserWarning: Glyph 50672 (\\N{HANGUL SYLLABLE YEON}) missing from current font.\n",
            "  fig.canvas.print_figure(bytes_io, **kw)\n",
            "/usr/local/lib/python3.10/dist-packages/IPython/core/pylabtools.py:151: UserWarning: Glyph 46020 (\\N{HANGUL SYLLABLE DO}) missing from current font.\n",
            "  fig.canvas.print_figure(bytes_io, **kw)\n",
            "/usr/local/lib/python3.10/dist-packages/IPython/core/pylabtools.py:151: UserWarning: Glyph 48324 (\\N{HANGUL SYLLABLE BYEOL}) missing from current font.\n",
            "  fig.canvas.print_figure(bytes_io, **kw)\n"
          ]
        },
        {
          "output_type": "display_data",
          "data": {
            "text/plain": [
              "<Figure size 1000x600 with 1 Axes>"
            ],
            "image/png": "[encoded data removed]"
          },
          "metadata": {}
        }
      ]
    }
  ]
}