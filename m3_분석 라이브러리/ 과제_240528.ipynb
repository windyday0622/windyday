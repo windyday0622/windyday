{
  "nbformat": 4,
  "nbformat_minor": 0,
  "metadata": {
    "colab": {
      "provenance": [],
      "authorship_tag": "ABX9TyMXeKQAVQLXh22efS6+BDLK",
      "include_colab_link": true
    },
    "kernelspec": {
      "name": "python3",
      "display_name": "Python 3"
    },
    "language_info": {
      "name": "python"
    }
  },
  "cells": [
    {
      "cell_type": "markdown",
      "metadata": {
        "id": "view-in-github",
        "colab_type": "text"
      },
      "source": [
        "<a href=\"https://colab.research.google.com/github/windyday0622/windyday/blob/main/m3_%EB%B6%84%EC%84%9D%20%EB%9D%BC%EC%9D%B4%EB%B8%8C%EB%9F%AC%EB%A6%AC/%20%EA%B3%BC%EC%A0%9C_240528.ipynb\" target=\"_parent\"><img src=\"https://colab.research.google.com/assets/colab-badge.svg\" alt=\"Open In Colab\"/></a>"
      ]
    },
    {
      "cell_type": "markdown",
      "source": [
        "Task1_0528. 연산메소드 이용 및 NaN 값을 0으로 대체 후 사칙연산을 수행한 후 결과를 출력하세요."
      ],
      "metadata": {
        "id": "shPXDNKy26bW"
      }
    },
    {
      "cell_type": "code",
      "execution_count": 6,
      "metadata": {
        "colab": {
          "base_uri": "https://localhost:8080/"
        },
        "id": "wDQbJKBoMCmM",
        "outputId": "3c487116-7a86-4b02-b9f2-a0fca0584cd3"
      },
      "outputs": [
        {
          "output_type": "stream",
          "name": "stdout",
          "text": [
            "DataFrame 1:\n",
            "      a    b     c     d\n",
            "0  0.0  1.0   2.0   3.0\n",
            "1  4.0  5.0   6.0   7.0\n",
            "2  8.0  9.0  10.0  11.0 \n",
            "\n",
            "DataFrame 2:\n",
            "       a     b     c     d     e\n",
            "0   0.0   1.0   2.0   3.0   4.0\n",
            "1   5.0   6.0   7.0   8.0   9.0\n",
            "2  10.0  11.0  12.0  13.0  14.0\n",
            "3  15.0  16.0  17.0  18.0  19.0\n",
            "\n",
            "덧셈 결과:\n",
            "       a     b     c     d   e\n",
            "0   0.0   2.0   4.0   6.0 NaN\n",
            "1   9.0  11.0  13.0  15.0 NaN\n",
            "2  18.0  20.0  22.0  24.0 NaN\n",
            "3   NaN   NaN   NaN   NaN NaN\n",
            "\n",
            "뺄셈 결과:\n",
            "      a    b    c    d   e\n",
            "0  0.0  0.0  0.0  0.0 NaN\n",
            "1 -1.0 -1.0 -1.0 -1.0 NaN\n",
            "2 -2.0 -2.0 -2.0 -2.0 NaN\n",
            "3  NaN  NaN  NaN  NaN NaN\n",
            "\n",
            "곱셈 결과:\n",
            "       a     b      c      d   e\n",
            "0   0.0   1.0    4.0    9.0 NaN\n",
            "1  20.0  30.0   42.0   56.0 NaN\n",
            "2  80.0  99.0  120.0  143.0 NaN\n",
            "3   NaN   NaN    NaN    NaN NaN\n",
            "\n",
            "나눗셈 결과:\n",
            "      a         b         c         d   e\n",
            "0  NaN  1.000000  1.000000  1.000000 NaN\n",
            "1  0.8  0.833333  0.857143  0.875000 NaN\n",
            "2  0.8  0.818182  0.833333  0.846154 NaN\n",
            "3  NaN       NaN       NaN       NaN NaN\n"
          ]
        }
      ],
      "source": [
        "import pandas as pd\n",
        "import numpy as np\n",
        "\n",
        "df1 = pd.DataFrame(np.arange(12.).reshape((3,4)), columns=list('abcd'))\n",
        "print(\"DataFrame 1:\\n\", df1, '\\n')\n",
        "\n",
        "df2 = pd.DataFrame(np.arange(20.).reshape((4,5)), columns=list('abcde'))\n",
        "print(\"DataFrame 2:\\n\", df2)\n",
        "\n",
        "df1 = df1.fillna(0)\n",
        "df2 = df2.fillna(0)\n",
        "\n",
        "result_add = df1 + df2\n",
        "result_sub = df1 - df2\n",
        "result_mul = df1 * df2\n",
        "result_div = df1 / df2\n",
        "\n",
        "print(\"\\n덧셈 결과:\\n\", result_add)\n",
        "print(\"\\n뺄셈 결과:\\n\", result_sub)\n",
        "print(\"\\n곱셈 결과:\\n\", result_mul)\n",
        "print(\"\\n나눗셈 결과:\\n\", result_div)"
      ]
    },
    {
      "cell_type": "markdown",
      "source": [
        "Task2_0528. 주어진 DataFrame의 N열에서 Series s값을 빼고 결과를 새로운 열 O에 저장 후 출력하세요.\n",
        "\n",
        "import pandas as pd\n",
        "\n",
        "# 데이터프레임 생성\n",
        "df = pd.DataFrame({\n",
        "    \"M\": [15, 25, 35, 45, 55],\n",
        "    \"N\": [100, 200, 300, 400, 500]\n",
        "})\n",
        "print(df,'\\n')\n",
        "# Series 생성\n",
        "s = pd.Series([5, 10, 15, 20, 25])"
      ],
      "metadata": {
        "id": "eTOY8gG127Gc"
      }
    },
    {
      "cell_type": "code",
      "source": [
        "import pandas as pd\n",
        "\n",
        "df = pd.DataFrame({\n",
        "    \"M\": [15, 25, 35, 45, 55],\n",
        "    \"N\": [100, 200, 300, 400, 500]\n",
        "})\n",
        "print(df, '\\n')\n",
        "\n",
        "s = pd.Series([5, 10, 15, 20, 25])\n",
        "\n",
        "df['O'] = df['N'] - s\n",
        "\n",
        "print(df)"
      ],
      "metadata": {
        "id": "agtblqpy27LE"
      },
      "execution_count": null,
      "outputs": []
    },
    {
      "cell_type": "markdown",
      "source": [
        "Task3_0528. 주어진 DataFrame의 여러 열에 대해 각기 다른 Series를 더하고, 결과를 새로운 DataFrame으로 반환한 후 각 행의 합계를 계산하여 새로운 열에 추가하여 출력하세요.\n",
        "\n",
        "import pandas as pd\n",
        "\n",
        "# 데이터프레임 생성\n",
        "df = pd.DataFrame({\n",
        "    \"A\": [1, 2, 3, 4, 5],\n",
        "    \"B\": [10, 20, 30, 40, 50],\n",
        "    \"C\": [100, 200, 300, 400, 500]\n",
        "})\n",
        "\n",
        "# Series 생성\n",
        "s1 = pd.Series([5, 5, 5, 5, 5])\n",
        "s2 = pd.Series([10, 10, 10, 10, 10])\n",
        "s3 = pd.Series([15, 15, 15, 15, 15])"
      ],
      "metadata": {
        "id": "bRsA9lft27Ps"
      }
    },
    {
      "cell_type": "code",
      "source": [
        "import pandas as pd\n",
        "\n",
        "df = pd.DataFrame({\n",
        "    \"A\": [1, 2, 3, 4, 5],\n",
        "    \"B\": [10, 20, 30, 40, 50],\n",
        "    \"C\": [100, 200, 300, 400, 500]\n",
        "})\n",
        "\n",
        "s1 = pd.Series([5, 5, 5, 5, 5])\n",
        "s2 = pd.Series([10, 10, 10, 10, 10])\n",
        "s3 = pd.Series([15, 15, 15, 15, 15])\n",
        "\n",
        "df[\"A\"] = df[\"A\"] + s1\n",
        "df[\"B\"] = df[\"B\"] + s2\n",
        "df[\"C\"] = df[\"C\"] + s3\n",
        "\n",
        "new_df = df.copy()\n",
        "\n",
        "new_df[\"Row_Sum\"] = new_df.sum(axis=1)\n",
        "\n",
        "print(new_df)"
      ],
      "metadata": {
        "colab": {
          "base_uri": "https://localhost:8080/"
        },
        "id": "q7FrMuqO27T9",
        "outputId": "ffa5d918-44c5-41aa-a9dd-1d134b49891b"
      },
      "execution_count": 8,
      "outputs": [
        {
          "output_type": "stream",
          "name": "stdout",
          "text": [
            "    A   B    C  Row_Sum\n",
            "0   6  20  115      141\n",
            "1   7  30  215      252\n",
            "2   8  40  315      363\n",
            "3   9  50  415      474\n",
            "4  10  60  515      585\n"
          ]
        }
      ]
    },
    {
      "cell_type": "markdown",
      "source": [
        "Task4_0528. df에서 세 열의 값을 더하여 새로운 컬럼을 생성한 후 출력하세요.\n",
        "\n",
        "import pandas as pd\n",
        "\n",
        "# 데이터프레임 생성\n",
        "df = pd.DataFrame({\n",
        "    \"A\": [10, 20, 30, 40, 50],\n",
        "    \"B\": [1, 2, 3, 4, 5],\n",
        "    \"C\": [5, 10, 15, 20, 25],\n",
        "    \"D\": [3, 6, 9, 12, 15],\n",
        "    \"E\": [2, 4, 6, 8, 10]\n",
        "})"
      ],
      "metadata": {
        "id": "VzWbdAMs27ZE"
      }
    },
    {
      "cell_type": "code",
      "source": [
        "import pandas as pd\n",
        "\n",
        "df = pd.DataFrame({\n",
        "    \"A\": [10, 20, 30, 40, 50],\n",
        "    \"B\": [1, 2, 3, 4, 5],\n",
        "    \"C\": [5, 10, 15, 20, 25],\n",
        "    \"D\": [3, 6, 9, 12, 15],\n",
        "    \"E\": [2, 4, 6, 8, 10]\n",
        "})\n",
        "\n",
        "df['F'] = df['A'] + df['B'] + df['C']\n",
        "\n",
        "print(df)"
      ],
      "metadata": {
        "colab": {
          "base_uri": "https://localhost:8080/"
        },
        "id": "UFyf-zX627d9",
        "outputId": "2e88cc3e-feb4-4ebe-d758-a8de35eb376f"
      },
      "execution_count": 9,
      "outputs": [
        {
          "output_type": "stream",
          "name": "stdout",
          "text": [
            "    A  B   C   D   E   F\n",
            "0  10  1   5   3   2  16\n",
            "1  20  2  10   6   4  32\n",
            "2  30  3  15   9   6  48\n",
            "3  40  4  20  12   8  64\n",
            "4  50  5  25  15  10  80\n"
          ]
        }
      ]
    },
    {
      "cell_type": "markdown",
      "source": [
        "Task5_0528. df에서 세 열의 값을 평균하여 새로운 컬럼을 생성 후 출력하세요.\n",
        "\n",
        "import pandas as pd\n",
        "\n",
        "# 데이터프레임 생성\n",
        "df = pd.DataFrame({\n",
        "    \"A\": [100, 200, 300, 400, 500],\n",
        "    \"B\": [10, 20, 30, 40, 50],\n",
        "    \"C\": [1, 2, 3, 4, 5],\n",
        "    \"D\": [7, 8, 9, 10, 11],\n",
        "    \"E\": [3, 6, 9, 12, 15]\n",
        "})"
      ],
      "metadata": {
        "id": "P27QLSvg27iM"
      }
    },
    {
      "cell_type": "code",
      "source": [
        "import pandas as pd\n",
        "\n",
        "df = pd.DataFrame({\n",
        "    \"A\": [100, 200, 300, 400, 500],\n",
        "    \"B\": [10, 20, 30, 40, 50],\n",
        "    \"C\": [1, 2, 3, 4, 5],\n",
        "    \"D\": [7, 8, 9, 10, 11],\n",
        "    \"E\": [3, 6, 9, 12, 15]\n",
        "})\n",
        "\n",
        "df[\"F\"] = df[[\"A\", \"B\", \"C\"]].mean(axis=1)\n",
        "\n",
        "print(df)"
      ],
      "metadata": {
        "colab": {
          "base_uri": "https://localhost:8080/"
        },
        "id": "Gs5Ld6v727m1",
        "outputId": "157f844c-193c-4842-c595-9765736b24b4"
      },
      "execution_count": 10,
      "outputs": [
        {
          "output_type": "stream",
          "name": "stdout",
          "text": [
            "     A   B  C   D   E      F\n",
            "0  100  10  1   7   3   37.0\n",
            "1  200  20  2   8   6   74.0\n",
            "2  300  30  3   9   9  111.0\n",
            "3  400  40  4  10  12  148.0\n",
            "4  500  50  5  11  15  185.0\n"
          ]
        }
      ]
    },
    {
      "cell_type": "markdown",
      "source": [
        "Task6_0528. df에서 두 개의 열을 더한 값이 다른 한 개의 열보다 큰 경우에는 1, 작은 경우에는 0으로 값을 정하는 새로운 열을 생성한 후 출력하세요.\n",
        "\n",
        "import pandas as pd\n",
        "\n",
        "# 데이터프레임 생성\n",
        "df = pd.DataFrame({\n",
        "    \"A\": [2, 3, 4, 5, 6],\n",
        "    \"B\": [1, 2, 3, 4, 5],\n",
        "    \"C\": [3, 4, 5, 6, 7],\n",
        "    \"D\": [8, 9, 10, 11, 12],\n",
        "    \"E\": [10, 20, 30, 40, 50]\n",
        "})"
      ],
      "metadata": {
        "id": "9Pd1s6i627rM"
      }
    },
    {
      "cell_type": "code",
      "source": [
        "import pandas as pd\n",
        "\n",
        "df = pd.DataFrame({\n",
        "    \"A\": [2, 3, 4, 5, 6],\n",
        "    \"B\": [1, 2, 3, 4, 5],\n",
        "    \"C\": [3, 4, 5, 6, 7],\n",
        "    \"D\": [8, 9, 10, 11, 12],\n",
        "    \"E\": [10, 20, 30, 40, 50]\n",
        "})\n",
        "\n",
        "df['F'] = (df['A'] + df['B'] > df['C']).astype(int)\n",
        "\n",
        "print(df)"
      ],
      "metadata": {
        "colab": {
          "base_uri": "https://localhost:8080/"
        },
        "id": "Yx45oOjf270k",
        "outputId": "7c87c118-2d45-49e5-91d2-fe0103e1fe7f"
      },
      "execution_count": 11,
      "outputs": [
        {
          "output_type": "stream",
          "name": "stdout",
          "text": [
            "   A  B  C   D   E  F\n",
            "0  2  1  3   8  10  0\n",
            "1  3  2  4   9  20  1\n",
            "2  4  3  5  10  30  1\n",
            "3  5  4  6  11  40  1\n",
            "4  6  5  7  12  50  1\n"
          ]
        }
      ]
    },
    {
      "cell_type": "markdown",
      "source": [],
      "metadata": {
        "id": "KBgiRNb7275M"
      }
    },
    {
      "cell_type": "code",
      "source": [],
      "metadata": {
        "id": "NVt9hSSV2790"
      },
      "execution_count": null,
      "outputs": []
    },
    {
      "cell_type": "markdown",
      "source": [],
      "metadata": {
        "id": "AmLctO6128DU"
      }
    },
    {
      "cell_type": "code",
      "source": [],
      "metadata": {
        "id": "XtpaAzLI28I1"
      },
      "execution_count": null,
      "outputs": []
    },
    {
      "cell_type": "markdown",
      "source": [],
      "metadata": {
        "id": "onwd-PGm28M8"
      }
    },
    {
      "cell_type": "code",
      "source": [],
      "metadata": {
        "id": "382zeAv828R9"
      },
      "execution_count": null,
      "outputs": []
    },
    {
      "cell_type": "markdown",
      "source": [],
      "metadata": {
        "id": "2xIPbCio28Ws"
      }
    },
    {
      "cell_type": "code",
      "source": [],
      "metadata": {
        "id": "tBPyG9Kq28cs"
      },
      "execution_count": null,
      "outputs": []
    },
    {
      "cell_type": "markdown",
      "source": [],
      "metadata": {
        "id": "92gBZQ7K28hM"
      }
    },
    {
      "cell_type": "code",
      "source": [],
      "metadata": {
        "id": "fdaI8gl_28mV"
      },
      "execution_count": null,
      "outputs": []
    },
    {
      "cell_type": "markdown",
      "source": [],
      "metadata": {
        "id": "pKqDtPbN28qc"
      }
    },
    {
      "cell_type": "code",
      "source": [],
      "metadata": {
        "id": "nGtgWMEj28ws"
      },
      "execution_count": null,
      "outputs": []
    }
  ]
}