{
  "nbformat": 4,
  "nbformat_minor": 0,
  "metadata": {
    "colab": {
      "provenance": [],
      "authorship_tag": "ABX9TyMb5DXka6fjhNKSvCNy2mQk",
      "include_colab_link": true
    },
    "kernelspec": {
      "name": "python3",
      "display_name": "Python 3"
    },
    "language_info": {
      "name": "python"
    }
  },
  "cells": [
    {
      "cell_type": "markdown",
      "metadata": {
        "id": "view-in-github",
        "colab_type": "text"
      },
      "source": [
        "<a href=\"https://colab.research.google.com/github/windyday0622/windyday/blob/main/m3_%EB%B6%84%EC%84%9D%20%EB%9D%BC%EC%9D%B4%EB%B8%8C%EB%9F%AC%EB%A6%AC/%20%EA%B3%BC%EC%A0%9C_240603.ipynb\" target=\"_parent\"><img src=\"https://colab.research.google.com/assets/colab-badge.svg\" alt=\"Open In Colab\"/></a>"
      ]
    },
    {
      "cell_type": "markdown",
      "source": [
        "Task1. 주어진 df의 날짜 리스트를 datetime 형식으로 변환하고, 변환된 데이터프레임의 년도, 월, 일 열을 추가하시오.\n",
        "\n",
        "import pandas as pd\n",
        "\n",
        "# 날짜 문자열 리스트\n",
        "date_list = ['2023-01-01', '2023-02-15', '2023-03-30']\n",
        "\n",
        "# 데이터프레임 생성\n",
        "df = pd.DataFrame(date_list, columns=['date'])\n",
        "df"
      ],
      "metadata": {
        "id": "M_YUA_vC5XY9"
      }
    },
    {
      "cell_type": "code",
      "execution_count": null,
      "metadata": {
        "colab": {
          "base_uri": "https://localhost:8080/"
        },
        "id": "g0RU_sbE5UJJ",
        "outputId": "cdd9f723-439f-4bc3-804a-554c2e968a99"
      },
      "outputs": [
        {
          "output_type": "stream",
          "name": "stdout",
          "text": [
            "        date  year  month  day\n",
            "0 2023-01-01  2023      1    1\n",
            "1 2023-02-15  2023      2   15\n",
            "2 2023-03-30  2023      3   30\n"
          ]
        }
      ],
      "source": [
        "import pandas as pd\n",
        "\n",
        "date_list = ['2023-01-01', '2023-02-15', '2023-03-30']\n",
        "\n",
        "df = pd.DataFrame(date_list, columns=['date'])\n",
        "\n",
        "df['date'] = pd.to_datetime(df['date'])\n",
        "\n",
        "df['year'] = df['date'].dt.year\n",
        "df['month'] = df['date'].dt.month\n",
        "df['day'] = df['date'].dt.day\n",
        "\n",
        "print(df)"
      ]
    },
    {
      "cell_type": "markdown",
      "source": [
        "Task2. 주어진 월간 데이터를 타임스탬프로 변환하고, 변환된 결과에서 시간을 제외한 날짜만 출력하시오.\n",
        "\n",
        "import pandas as pd\n",
        "\n",
        "# 문자열을 Period로 변환\n",
        "period_data = pd.Series(['2023-01', '2023-02', '2023-03'], name='period')\n",
        "period_data"
      ],
      "metadata": {
        "id": "egbta_sc5YGk"
      }
    },
    {
      "cell_type": "code",
      "source": [
        "import pandas as pd\n",
        "\n",
        "period_data = pd.Series(['2023-01', '2023-02', '2023-03'], name='period')\n",
        "\n",
        "timestamp_data = pd.DatetimeIndex(pd.to_datetime(period_data, format='%Y-%m'))\n",
        "\n",
        "print(timestamp_data.date)"
      ],
      "metadata": {
        "colab": {
          "base_uri": "https://localhost:8080/"
        },
        "id": "RAJO-qzI5YM0",
        "outputId": "c7b7c3aa-088a-4ae5-9d0a-b4130389447f"
      },
      "execution_count": null,
      "outputs": [
        {
          "output_type": "stream",
          "name": "stdout",
          "text": [
            "[datetime.date(2023, 1, 1) datetime.date(2023, 2, 1)\n",
            " datetime.date(2023, 3, 1)]\n"
          ]
        }
      ]
    },
    {
      "cell_type": "markdown",
      "source": [
        "Task3. 주어진 날짜 데이터 시리즈를 분기로 변환하고, 각 분기별로 데이터의 개수를 출력하세요.\n",
        "\n",
        "import pandas as pd\n",
        "\n",
        "# 날짜 데이터 시리즈\n",
        "date_series = pd.Series(pd.date_range('2023-01-01', '2023-12-31', freq='M'))\n",
        "date_series"
      ],
      "metadata": {
        "id": "UBV5YNVj5YUE"
      }
    },
    {
      "cell_type": "code",
      "source": [
        "import pandas as pd\n",
        "\n",
        "date_series = pd.Series(pd.date_range('2023-01-01', '2023-12-31', freq='M'))\n",
        "\n",
        "quarter_series = date_series.dt.quarter\n",
        "\n",
        "print(quarter_series.value_counts())"
      ],
      "metadata": {
        "colab": {
          "base_uri": "https://localhost:8080/"
        },
        "id": "au2D9sU35YZc",
        "outputId": "55a6ca2b-7be4-4639-e269-2217eefb675b"
      },
      "execution_count": null,
      "outputs": [
        {
          "output_type": "stream",
          "name": "stdout",
          "text": [
            "1    3\n",
            "2    3\n",
            "3    3\n",
            "4    3\n",
            "Name: count, dtype: int64\n"
          ]
        }
      ]
    }
  ]
}