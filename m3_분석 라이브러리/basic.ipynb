{
 "cells": [
  {
   "cell_type": "markdown",
   "metadata": {},
   "source": [
    "## 웹문서 구조 이해"
   ]
  },
  {
   "cell_type": "markdown",
   "metadata": {},
   "source": [
    "#### DOM (Document Object Model)\n",
    "\n",
    "- DOM은 HTML 문서의 구조를 트리 형태로 표현한 모델입니다. JavaScript와 같은 언어를 사용하여 DOM을 탐색하고 수정할 수 있습니다.\n",
    "- DOM 구조\n",
    "```\n",
    "<!DOCTYPE html>\n",
    "<html>\n",
    "<head>\n",
    "    <title>Example</title>\n",
    "</head>\n",
    "<body>\n",
    "    <h1>DOM Example</h1>\n",
    "    <p id=\"intro\">This is a simple DOM example.</p>\n",
    "</body>\n",
    "</html>\n",
    "```\n",
    "\n",
    "HTML 문서는 다음과 같은 DOM 트리로 표현\n",
    "```\n",
    "Document\n",
    "└── html\n",
    "    ├── head\n",
    "    │   ├── title\n",
    "    │   │   └── \"Example\"\n",
    "    └── body\n",
    "        ├── h1\n",
    "        │   └── \"DOM Example\"\n",
    "        └── p (id=\"intro\")\n",
    "            └── \"This is a simple DOM example.\"\n",
    "```"
   ]
  },
  {
   "cell_type": "markdown",
   "metadata": {},
   "source": [
    "#### HTML 태그\n",
    "\n",
    "```\n",
    "기본 구조 태그\n",
    "<!DOCTYPE html>: HTML 문서의 유형을 정의합니다. 최신 HTML5에서는 <!DOCTYPE html>을 사용합니다.\n",
    "<html>: HTML 문서의 루트 요소입니다. 모든 HTML 문서의 최상위 요소입니다.\n",
    "<head>: HTML 문서의 메타데이터를 포함합니다. 여기에는 문서 제목, 스타일 시트 링크, 스크립트 등이 포함됩니다.\n",
    "<title>: 웹 페이지의 제목을 정의합니다. 이 제목은 브라우저 탭에 표시됩니다.\n",
    "<meta>: 문서의 메타데이터를 정의합니다. 예를 들어, 문자 인코딩을 정의할 때 사용됩니다.\n",
    "<link>: 외부 리소스를 문서에 연결합니다. 주로 CSS 파일을 연결할 때 사용됩니다.\n",
    "<style>: 문서 내에 CSS 스타일을 정의합니다.\n",
    "<body>: 실제로 브라우저에 표시되는 콘텐츠를 포함합니다.\n",
    "```\n",
    "```\n",
    "콘텐츠 구조 태그\n",
    "<header>: 문서나 섹션의 헤더를 정의합니다.\n",
    "<nav>: 내비게이션 링크를 정의합니다.\n",
    "<section>: 문서의 섹션을 정의합니다.\n",
    "<article>: 독립적인 콘텐츠를 정의합니다.\n",
    "<aside>: 주요 콘텐츠 외의 추가적인 콘텐츠를 정의합니다.\n",
    "<footer>: 문서나 섹션의 푸터를 정의합니다.\n",
    "```\n",
    "```\n",
    "텍스트 관련 태그\n",
    "<h1> ~ <h6>: 제목을 정의합니다. <h1>은 가장 중요한 제목, <h6>은 가장 덜 중요한 제목입니다.\n",
    "<p>: 단락을 정의합니다.\n",
    "<a>: 하이퍼링크를 정의합니다. href 속성을 사용하여 링크 대상 URL을 지정합니다.\n",
    "<strong>: 중요한 텍스트를 정의합니다. 일반적으로 굵게 표시됩니다.\n",
    "<em>: 강조된 텍스트를 정의합니다. 일반적으로 기울임꼴로 표시됩니다.\n",
    "<br>: 줄 바꿈을 삽입합니다.\n",
    "<ul>: 순서 없는 목록을 정의합니다.\n",
    "<ol>: 순서 있는 목록을 정의합니다.\n",
    "<li>: 목록 항목을 정의합니다.\n",
    "```\n",
    "```\n",
    "멀티미디어 태그\n",
    "<img>: 이미지를 삽입합니다. src 속성을 사용하여 이미지 파일의 URL을 지정합니다.\n",
    "<audio>: 오디오 콘텐츠를 삽입합니다.\n",
    "<video>: 비디오 콘텐츠를 삽입합니다.\n",
    "<iframe>: 다른 HTML 페이지를 현재 페이지에 삽입합니다.\n",
    "```\n",
    "```\n",
    "테이블 태그\n",
    "<table>: 표를 정의합니다.\n",
    "<tr>: 표의 행을 정의합니다.\n",
    "<td>: 표의 셀을 정의합니다.\n",
    "<th>: 표의 헤더 셀을 정의합니다.\n",
    "<thead>: 표의 머리글 섹션을 정의합니다.\n",
    "<tbody>: 표의 본문 섹션을 정의합니다.\n",
    "<tfoot>: 표의 바닥글 섹션을 정의합니다.\n",
    "```\n",
    "```\n",
    "폼 태그\n",
    "<form>: 사용자 입력을 받는 폼을 정의합니다.\n",
    "<input>: 다양한 유형의 입력 필드를 정의합니다.\n",
    "<textarea>: 여러 줄의 텍스트 입력 필드를 정의합니다.\n",
    "<button>: 클릭 가능한 버튼을 정의합니다.\n",
    "<select>: 드롭다운 목록을 정의합니다.\n",
    "<option>: 드롭다운 목록의 항목을 정의합니다.\n",
    "```"
   ]
  },
  {
   "cell_type": "code",
   "execution_count": 2,
   "metadata": {},
   "outputs": [
    {
     "data": {
      "text/plain": [
       "[<html>\n",
       " <head>\n",
       " <title>Example Domain</title>\n",
       " <meta charset=\"utf-8\"/>\n",
       " <meta content=\"text/html; charset=utf-8\" http-equiv=\"Content-type\"/>\n",
       " <meta content=\"width=device-width, initial-scale=1\" name=\"viewport\"/>\n",
       " <style type=\"text/css\">\n",
       "     body {\n",
       "         background-color: #f0f0f2;\n",
       "         margin: 0;\n",
       "         padding: 0;\n",
       "         font-family: -apple-system, system-ui, BlinkMacSystemFont, \"Segoe UI\", \"Open Sans\", \"Helvetica Neue\", Helvetica, Arial, sans-serif;\n",
       "         \n",
       "     }\n",
       "     div {\n",
       "         width: 600px;\n",
       "         margin: 5em auto;\n",
       "         padding: 2em;\n",
       "         background-color: #fdfdff;\n",
       "         border-radius: 0.5em;\n",
       "         box-shadow: 2px 3px 7px 2px rgba(0,0,0,0.02);\n",
       "     }\n",
       "     a:link, a:visited {\n",
       "         color: #38488f;\n",
       "         text-decoration: none;\n",
       "     }\n",
       "     @media (max-width: 700px) {\n",
       "         div {\n",
       "             margin: 0 auto;\n",
       "             width: auto;\n",
       "         }\n",
       "     }\n",
       "     </style>\n",
       " </head>\n",
       " <body>\n",
       " <div>\n",
       " <h1>Example Domain</h1>\n",
       " <p>This domain is for use in illustrative examples in documents. You may use this\n",
       "     domain in literature without prior coordination or asking for permission.</p>\n",
       " <p><a href=\"https://www.iana.org/domains/example\">More information...</a></p>\n",
       " </div>\n",
       " </body>\n",
       " </html>]"
      ]
     },
     "execution_count": 2,
     "metadata": {},
     "output_type": "execute_result"
    }
   ],
   "source": [
    "from bs4 import BeautifulSoup\n",
    "import requests\n",
    "\n",
    "url = 'https://example.com'\n",
    "response = requests.get(url)\n",
    "soup = BeautifulSoup(response.text, 'html.parser')\n",
    "soup.find_all('html')"
   ]
  },
  {
   "cell_type": "code",
   "execution_count": 3,
   "metadata": {},
   "outputs": [
    {
     "name": "stdout",
     "output_type": "stream",
     "text": [
      "https://www.iana.org/domains/example\n"
     ]
    }
   ],
   "source": [
    "# 모든 <a> 태그 추출\n",
    "links = soup.find_all('a')\n",
    "for link in links:\n",
    "    print(link.get('href'))\n",
    "    "
   ]
  },
  {
   "cell_type": "code",
   "execution_count": 4,
   "metadata": {},
   "outputs": [
    {
     "name": "stdout",
     "output_type": "stream",
     "text": [
      "\n",
      "Example Domain\n",
      "This domain is for use in illustrative examples in documents. You may use this\n",
      "    domain in literature without prior coordination or asking for permission.\n",
      "More information...\n",
      "\n"
     ]
    }
   ],
   "source": [
    "# 클래스 이름이 'example-class '인 <div> 태그 추출\n",
    "divs = soup.find_all('div')\n",
    "for div in divs:\n",
    "    print(div.text)"
   ]
  },
  {
   "cell_type": "code",
   "execution_count": 6,
   "metadata": {},
   "outputs": [
    {
     "name": "stdout",
     "output_type": "stream",
     "text": [
      "Example Domain\n"
     ]
    }
   ],
   "source": [
    "# <h1> 태그 추출\n",
    "h1s = soup.find('h1')\n",
    "for h1 in h1s:\n",
    "    print(h1.text)"
   ]
  },
  {
   "cell_type": "code",
   "execution_count": 7,
   "metadata": {},
   "outputs": [
    {
     "data": {
      "text/plain": [
       "[<meta charset=\"utf-8\"/>,\n",
       " <meta content=\"text/html; charset=utf-8\" http-equiv=\"Content-type\"/>,\n",
       " <meta content=\"width=device-width, initial-scale=1\" name=\"viewport\"/>]"
      ]
     },
     "execution_count": 7,
     "metadata": {},
     "output_type": "execute_result"
    }
   ],
   "source": [
    "meta_tags = soup.find_all('meta')\n",
    "meta_tags"
   ]
  },
  {
   "cell_type": "code",
   "execution_count": 8,
   "metadata": {},
   "outputs": [
    {
     "name": "stdout",
     "output_type": "stream",
     "text": [
      "{'charset': 'utf-8'}\n",
      "{'http-equiv': 'Content-type', 'content': 'text/html; charset=utf-8'}\n",
      "{'name': 'viewport', 'content': 'width=device-width, initial-scale=1'}\n"
     ]
    }
   ],
   "source": [
    "# 모든 <meta> 태그 추출\n",
    "for meta in meta_tags:\n",
    "    print(meta.attrs)"
   ]
  },
  {
   "cell_type": "markdown",
   "metadata": {},
   "source": [
    "#### HTML 속성\n",
    "- HTML 속성(Attribute)은 HTML 요소에 추가적인 정보를 제공하는 데 사용됩니다. \n",
    "- 속성은 시작 태그 내에 있으며, 이름-값 쌍으로 작성됩니다.<br>\n",
    "    ```<a href=\"https://example.com\" class=\"example-link\">Example</a>```\n",
    "- 각 속성은 요소의 특정 특성이나 동작을 정의합니다. \n",
    "    ```\n",
    "    - <a>: 앵커 태그로, 하이퍼링크를 만듭니다.\n",
    "    - href: 링크의 URL을 지정하는 속성입니다.\n",
    "    - class: CSS 클래스를 지정하는 속성입니다.\n",
    "    ```\n",
    "- 속성의 값은 일반적으로 따옴표로 감싸지만, 따옴표 없이 작성할 수도 있습니다.\n",
    "- HTML 속성의 기본 구조 :<br>\n",
    "    ```<a href=\"https://www.example.com\" target=\"_blank\">Example Link</a>```\n",
    "\n",
    "  여기서 a 태그는 두 개의 속성을 가집니다:\n",
    "    ```\n",
    "    href: 링크의 URL을 지정\n",
    "    target: 링크를 여는 방식 지정 (_blank는 새 탭에서 열기)\n",
    "    ```\n",
    "- 주요 HTML 속성\n",
    "\n",
    "    글로벌 속성 (Global Attributes): 거의 모든 HTML 요소에서 사용할 수 있는 속성들입니다.<br>    \n",
    "    ```<div id=\"header\" class=\"main-header\" style=\"color: blue;\" title=\"Header Section\">Welcome!</div>```\n",
    "    - id: 요소의 고유 식별자\n",
    "    - class: CSS 클래스 지정\n",
    "    - style: 인라인 CSS 스타일 지정\n",
    "    - title: 요소에 대한 추가 정보 제공 (마우스를 올렸을 때 표시)\n",
    "    - data-*: 페이지나 애플리케이션에 사용자 정의 데이터를 저장\n",
    "\n",
    "    폼 속성 (Form Attributes): 주로 폼 요소에서 사용되는 속성들입니다.\n",
    "    ```\n",
    "    <form action=\"/submit\" method=\"post\">\n",
    "      <input type=\"text\" name=\"username\" value=\"JohnDoe\" placeholder=\"Enter your username\">\n",
    "      <input type=\"submit\" value=\"Submit\"> # type=\"submit\": 이 입력 필드를 제출 버튼으로 정의\n",
    "    </form>\n",
    "    ```\n",
    "    - action: 폼 제출 시 데이터를 전송할 URL\n",
    "    - method: 폼 데이터 전송 방식 (GET, POST)\n",
    "    - name: 폼 요소의 이름\n",
    "    - value: 입력 요소의 초기 값\n",
    "    - placeholder: 입력 필드에 표시되는 힌트 텍스트\n",
    "\n",
    "    이미지 속성 (Image Attributes): 주로 이미지 요소에서 사용되는 속성들입니다.<br>\n",
    "    ```<img src=\"image.jpg\" alt=\"Example Image\" width=\"200\" height=\"100\">```\n",
    "    - src: 이미지 파일의 경로\n",
    "    - alt: 이미지가 표시되지 않을 때 대체 텍스트\n",
    "    - width와 height: 이미지의 크기 지정\n",
    "\n",
    "    링크 속성 (Link Attributes): 주로 앵커(a) 태그에서 사용되는 속성들입니다.<br>    \n",
    "    ```<a href=\"https://www.example.com\" target=\"_blank\" rel=\"noopener noreferrer\">Visit Example</a>```\n",
    "    - href: 링크의 URL\n",
    "    - target: 링크를 열 방법 (_blank, _self, _parent, _top)\n",
    "    - rel: 링크와 현재 문서 간의 관계\n",
    "\n",
    "    메타 데이터 속성 (Metadata Attributes): 주로 meta 태그에서 사용되는 속성들입니다.\n",
    "    ```\n",
    "    <meta name=\"description\" content=\"This is an example of a meta description.\">\n",
    "    <meta charset=\"UTF-8\">\n",
    "    ```\n",
    "    - name: 메타 데이터의 이름 (예: description, keywords)\n",
    "    - content: 메타 데이터의 내용\n",
    "    - charset: 문서의 문자 인코딩\n"
   ]
  },
  {
   "cell_type": "code",
   "execution_count": 9,
   "metadata": {},
   "outputs": [],
   "source": [
    "from bs4 import BeautifulSoup\n",
    "\n",
    "html_doc = \"\"\"\n",
    "<html><head><title>The Dormouse's story</title></head>\n",
    "<body>\n",
    "<p class=\"title\"><b>The Dormouse's story</b></p>\n",
    "<a href=\"http://example.com/elsie\" class=\"sister\" id=\"link1\">Elsie</a>\n",
    "<a href=\"http://example.com/lacie\" class=\"sister\" id=\"link2\">Lacie</a>\n",
    "<a href=\"http://example.com/tillie\" class=\"sister\" id=\"link3\">Tillie</a>\n",
    "</body></html>\n",
    "\"\"\""
   ]
  },
  {
   "cell_type": "markdown",
   "metadata": {},
   "source": [
    "Task6_0618. 주어진 HTML 문서에서 모든 $<a>$ 태그를 추출하세요."
   ]
  },
  {
   "cell_type": "code",
   "execution_count": 11,
   "metadata": {},
   "outputs": [
    {
     "name": "stdout",
     "output_type": "stream",
     "text": [
      "<a class=\"sister\" href=\"http://example.com/elsie\" id=\"link1\">Elsie</a>\n",
      "<a class=\"sister\" href=\"http://example.com/lacie\" id=\"link2\">Lacie</a>\n",
      "<a class=\"sister\" href=\"http://example.com/tillie\" id=\"link3\">Tillie</a>\n"
     ]
    }
   ],
   "source": [
    "from bs4 import BeautifulSoup\n",
    "\n",
    "soup = BeautifulSoup(html_doc, 'html.parser')\n",
    "links = soup.find_all('a')\n",
    "\n",
    "for link in links:\n",
    "    print(link)"
   ]
  },
  {
   "cell_type": "markdown",
   "metadata": {},
   "source": [
    "Task7_0618. 주어진 HTML 문서에서 첫 번째 $<p>$ 태그의 텍스트를 추출하세요."
   ]
  },
  {
   "cell_type": "code",
   "execution_count": 14,
   "metadata": {},
   "outputs": [
    {
     "name": "stdout",
     "output_type": "stream",
     "text": [
      "The Dormouse's story\n"
     ]
    }
   ],
   "source": [
    "from bs4 import BeautifulSoup\n",
    "\n",
    "soup = BeautifulSoup(html_doc, 'html.parser')\n",
    "first_p = soup.find('p')\n",
    "text = first_p.get_text()\n",
    "print(text)"
   ]
  },
  {
   "cell_type": "markdown",
   "metadata": {},
   "source": [
    "Task8_0618. 주어진 HTML 문서에서 모든 링크의 URL을 추출하세요."
   ]
  },
  {
   "cell_type": "code",
   "execution_count": 15,
   "metadata": {},
   "outputs": [
    {
     "name": "stdout",
     "output_type": "stream",
     "text": [
      "http://example.com/elsie\n",
      "http://example.com/lacie\n",
      "http://example.com/tillie\n"
     ]
    }
   ],
   "source": [
    "from bs4 import BeautifulSoup\n",
    "soup = BeautifulSoup(html_doc, 'html.parser')\n",
    "links = soup.find_all('a')\n",
    "\n",
    "for link in links:\n",
    "    url = link.get('href')\n",
    "    print(url)"
   ]
  },
  {
   "cell_type": "markdown",
   "metadata": {},
   "source": [
    "Task9_0618. 주어진 HTML 문서에서 클래스가 sister인 모든 태그를 추출하세요."
   ]
  },
  {
   "cell_type": "code",
   "execution_count": 16,
   "metadata": {},
   "outputs": [
    {
     "name": "stdout",
     "output_type": "stream",
     "text": [
      "<a class=\"sister\" href=\"http://example.com/elsie\" id=\"link1\">Elsie</a>\n",
      "<a class=\"sister\" href=\"http://example.com/lacie\" id=\"link2\">Lacie</a>\n",
      "<a class=\"sister\" href=\"http://example.com/tillie\" id=\"link3\">Tillie</a>\n"
     ]
    }
   ],
   "source": [
    "from bs4 import BeautifulSoup\n",
    "soup = BeautifulSoup(html_doc, 'html.parser')\n",
    "tags = soup.find_all(class_=\"sister\")\n",
    "\n",
    "for tag in tags:\n",
    "    print(tag)"
   ]
  },
  {
   "cell_type": "markdown",
   "metadata": {},
   "source": [
    "Task10_0618. 주어진 HTML 문서에서 ID가 link1인 태그를 추출하세요"
   ]
  },
  {
   "cell_type": "code",
   "execution_count": 17,
   "metadata": {},
   "outputs": [
    {
     "name": "stdout",
     "output_type": "stream",
     "text": [
      "<a class=\"sister\" href=\"http://example.com/elsie\" id=\"link1\">Elsie</a>\n"
     ]
    }
   ],
   "source": [
    "from bs4 import BeautifulSoup\n",
    "soup = BeautifulSoup(html_doc, 'html.parser')\n",
    "tag = soup.find(id=\"link1\")\n",
    "\n",
    "print(tag)"
   ]
  },
  {
   "cell_type": "markdown",
   "metadata": {},
   "source": [
    "Task11_0618. 주어진 HTML 문서에서 모든 텍스트를 추출하세요."
   ]
  },
  {
   "cell_type": "code",
   "execution_count": 18,
   "metadata": {},
   "outputs": [
    {
     "name": "stdout",
     "output_type": "stream",
     "text": [
      "\n",
      "The Dormouse's story\n",
      "\n",
      "The Dormouse's story\n",
      "Elsie\n",
      "Lacie\n",
      "Tillie\n",
      "\n",
      "\n"
     ]
    }
   ],
   "source": [
    "from bs4 import BeautifulSoup\n",
    "soup = BeautifulSoup(html_doc, 'html.parser')\n",
    "text = soup.get_text()\n",
    "\n",
    "print(text)"
   ]
  },
  {
   "cell_type": "markdown",
   "metadata": {},
   "source": [
    "Task12_0618. 주어진 HTML 문서에서 href 속성이 http://example.com/lacie인 태그를 추출하세요."
   ]
  },
  {
   "cell_type": "code",
   "execution_count": 19,
   "metadata": {},
   "outputs": [
    {
     "name": "stdout",
     "output_type": "stream",
     "text": [
      "<a class=\"sister\" href=\"http://example.com/lacie\" id=\"link2\">Lacie</a>\n"
     ]
    }
   ],
   "source": [
    "from bs4 import BeautifulSoup\n",
    "soup = BeautifulSoup(html_doc, 'html.parser')\n",
    "tag = soup.find('a', href='http://example.com/lacie')\n",
    "\n",
    "print(tag)"
   ]
  },
  {
   "cell_type": "markdown",
   "metadata": {},
   "source": [
    "Task13_0618. 주어진 HTML 문서에서 ID가 link1인 태그의 부모 태그를 추출하세요."
   ]
  },
  {
   "cell_type": "code",
   "execution_count": 20,
   "metadata": {},
   "outputs": [
    {
     "name": "stdout",
     "output_type": "stream",
     "text": [
      "<body>\n",
      "<p class=\"title\"><b>The Dormouse's story</b></p>\n",
      "<a class=\"sister\" href=\"http://example.com/elsie\" id=\"link1\">Elsie</a>\n",
      "<a class=\"sister\" href=\"http://example.com/lacie\" id=\"link2\">Lacie</a>\n",
      "<a class=\"sister\" href=\"http://example.com/tillie\" id=\"link3\">Tillie</a>\n",
      "</body>\n"
     ]
    }
   ],
   "source": [
    "from bs4 import BeautifulSoup\n",
    "soup = BeautifulSoup(html_doc, 'html.parser')\n",
    "tag = soup.find(id=\"link1\")\n",
    "parent_tag = tag.parent\n",
    "\n",
    "print(parent_tag)"
   ]
  },
  {
   "cell_type": "markdown",
   "metadata": {},
   "source": [
    "Task14_0618. 주어진 HTML 문서에서 ID가 link1인 태그의 다음 형제 태그를 추출하세요."
   ]
  },
  {
   "cell_type": "code",
   "execution_count": 21,
   "metadata": {},
   "outputs": [
    {
     "name": "stdout",
     "output_type": "stream",
     "text": [
      "<a class=\"sister\" href=\"http://example.com/lacie\" id=\"link2\">Lacie</a>\n"
     ]
    }
   ],
   "source": [
    "from bs4 import BeautifulSoup\n",
    "soup = BeautifulSoup(html_doc, 'html.parser')\n",
    "tag = soup.find(id=\"link1\")\n",
    "next_sibling = tag.find_next_sibling()\n",
    "\n",
    "print(next_sibling)"
   ]
  },
  {
   "cell_type": "markdown",
   "metadata": {},
   "source": [
    "Task15_0618. 주어진 HTML 문서에서 ID가 link1인 태그의 href 속성 값을 추출하세요."
   ]
  },
  {
   "cell_type": "code",
   "execution_count": 22,
   "metadata": {},
   "outputs": [
    {
     "name": "stdout",
     "output_type": "stream",
     "text": [
      "http://example.com/elsie\n"
     ]
    }
   ],
   "source": [
    "from bs4 import BeautifulSoup\n",
    "soup = BeautifulSoup(html_doc, 'html.parser')\n",
    "tag = soup.find(id=\"link1\")\n",
    "href_value = tag.get('href')\n",
    "\n",
    "print(href_value)"
   ]
  },
  {
   "cell_type": "markdown",
   "metadata": {},
   "source": [
    "#### CSS 셀렉터\n",
    "\n",
    "CSS 셀렉터는 HTML 요소를 선택하기 위해 사용됩니다. 크롤링 시 특정 요소를 선택할 때 유용합니다. 예:\n",
    "```\n",
    "#id: 특정 id를 가진 요소를 선택합니다.\n",
    ".class: 특정 클래스를 가진 요소를 선택합니다.\n",
    "tagname: 특정 태그명을 가진 요소를 선택합니다.\n",
    "```\n",
    "```\n",
    "[ CSS 셀렉터의 주요 유형과 그 사용법]\n",
    "\n",
    "1. 기본 셀렉터\n",
    "    요소 셀렉터\n",
    "    문법: element\n",
    "    설명: 지정된 태그 이름의 모든 HTML 요소를 선택합니다.\n",
    "    예시: p { color: blue; }는 모든 <p> 요소의 텍스트 색상을 파란색으로 설정합니다.\n",
    "    클래스 셀렉터\n",
    "    문법: .class\n",
    "    설명: 특정 클래스 이름을 가진 모든 요소를 선택합니다.\n",
    "    예시: .highlight { background-color: yellow; }는 클래스가 \"highlight\"인 모든 요소의 배경색을 노란색으로 설정합니다.\n",
    "    ID 셀렉터\n",
    "    문법: #id\n",
    "    설명: 특정 ID를 가진 요소를 선택합니다. HTML 문서에서 ID는 고유해야 합니다.\n",
    "    예시: #header { font-size: 24px; }는 ID가 \"header\"인 요소의 글꼴 크기를 24px로 설정합니다.\n",
    "\n",
    "2. 속성 셀렉터\n",
    "    속성 존재 셀렉터\n",
    "    문법: [attribute]\n",
    "    설명: 특정 속성이 있는 모든 요소를 선택합니다.\n",
    "    예시: [title] { border: 1px solid black; }는 \"title\" 속성이 있는 모든 요소에 테두리를 추가합니다.\n",
    "    특정 속성 값 셀렉터\n",
    "    문법: [attribute=value]\n",
    "    설명: 지정된 속성이 특정 값을 가진 모든 요소를 선택합니다.\n",
    "    예시: [type=\"text\"] { color: green; }는 type 속성이 \"text\"인 모든 입력 요소의 텍스트 색상을 초록색으로 설정합니다.\n",
    "\n",
    "3. 결합 셀렉터\n",
    "    자손 셀렉터\n",
    "    문법: ancestor descendant\n",
    "    설명: 특정 요소의 자손인 모든 요소를 선택합니다.\n",
    "    예시: div p { margin: 10px; }는 <div> 요소의 자손인 모든 <p> 요소에 10px의 마진을 설정합니다.\n",
    "    자식 셀렉터\n",
    "    문법: parent > child\n",
    "    설명: 특정 요소의 직계 자식인 모든 요소를 선택합니다.\n",
    "    예시: ul > li { list-style-type: none; }는 <ul> 요소의 직계 자식인 모든 <li> 요소의 리스트 스타일을 제거합니다.\n",
    "    인접 형제 셀렉터\n",
    "    문법: element + adjacent\n",
    "    설명: 특정 요소의 바로 다음 형제 요소를 선택합니다.\n",
    "    예시: h1 + p { margin-top: 0; }는 <h1> 요소 바로 다음에 오는 <p> 요소의 위쪽 마진을 제거합니다.\n",
    "    일반 형제 셀렉터\n",
    "    문법: element ~ siblings\n",
    "    설명: 특정 요소 이후의 모든 형제 요소를 선택합니다.\n",
    "    예시: h2 ~ p { color: grey; }는 <h2> 요소 이후의 모든 <p> 요소의 텍스트 색상을 회색으로 설정합니다.\n",
    "\n",
    "4. 가상 클래스 셀렉터\n",
    "    동적 가상 클래스 셀렉터\n",
    "    문법: :pseudo-class\n",
    "    설명: 요소의 특정 상태를 선택합니다.\n",
    "    예시: a:hover { color: red; }는 링크에 마우스를 올렸을 때 텍스트 색상을 빨간색으로 변경합니다.\n",
    "    구조적 가상 클래스 셀렉터\n",
    "    문법: :nth-child(n)\n",
    "    설명: 부모 요소의 자식 중 특정 위치에 있는 요소를 선택합니다.\n",
    "    예시: li:nth-child(odd) { background-color: #f2f2f2; }는 홀수 번째 <li> 요소의 배경색을 회색으로 설정합니다.\n",
    "\n",
    "5. 가상 요소 셀렉터\n",
    "    문법: ::pseudo-element\n",
    "    설명: 요소의 일부를 선택합니다.\n",
    "    예시: p::first-line { font-weight: bold; }는 단락의 첫 번째 줄을 굵게 만듭니다.\n",
    "\n",
    "6. 속성값 서브스트링 매칭 셀렉터\n",
    "    시작 문자열 매칭 셀렉터\n",
    "    문법: [attribute^=value]\n",
    "    설명: 특정 속성 값이 지정된 문자열로 시작하는 요소를 선택합니다.\n",
    "    예시: [class^=\"btn\"] { background-color: blue; }는 클래스 이름이 \"btn\"으로 시작하는 모든 요소의 배경색을 파란색으로 설정합니다.\n",
    "    끝 문자열 매칭 셀렉터\n",
    "    문법: [attribute$=value]\n",
    "    설명: 특정 속성 값이 지정된 문자열로 끝나는 요소를 선택합니다.\n",
    "    예시: [class$=\"danger\"] { color: red; }는 클래스 이름이 \"danger\"로 끝나는 모든 요소의 텍스트 색상을 빨간색으로 설정합니다.\n",
    "    포함 문자열 매칭 셀렉터\n",
    "    문법: [attribute*=value]\n",
    "    설명: 특정 속성 값이 지정된 문자열을 포함하는 요소를 선택합니다.\n",
    "    예시: [class*=\"nav\"] { font-size: 18px; }는 클래스 이름에 \"nav\"를 포함하는 모든 요소의 글꼴 크기를 18px로 설정합니다.\n",
    "\n",
    "```"
   ]
  },
  {
   "cell_type": "code",
   "execution_count": 4,
   "metadata": {},
   "outputs": [],
   "source": [
    "from bs4 import BeautifulSoup\n",
    "\n",
    "html_doc = \"\"\"\n",
    "<html>\n",
    "    <head>\n",
    "        <title>The Dormouse's story</title>\n",
    "    </head>\n",
    "    <body>\n",
    "        <p class=\"title\">\n",
    "            <b>The Dormouse's story</b>\n",
    "        </p>\n",
    "        <p class=\"story\">Once upon a time there were three little sisters; and their names were</p>\n",
    "        <p class=\"story\">...</p>\n",
    "    </body>\n",
    "</html>\n",
    "\"\"\""
   ]
  },
  {
   "cell_type": "code",
   "execution_count": 5,
   "metadata": {},
   "outputs": [
    {
     "name": "stdout",
     "output_type": "stream",
     "text": [
      "<p class=\"title\">\n",
      "<b>The Dormouse's story</b>\n",
      "</p>\n"
     ]
    }
   ],
   "source": [
    "# Q. 주어진 HTML 문서에서 첫번째 title 클래스를 가진 태그를 추출하세요. \n",
    "from bs4 import BeautifulSoup\n",
    "\n",
    "soup = BeautifulSoup(html_doc, 'html.parser')\n",
    "tag = soup.find(class_='title')\n",
    "\n",
    "print(tag)"
   ]
  },
  {
   "cell_type": "code",
   "execution_count": 6,
   "metadata": {},
   "outputs": [],
   "source": [
    "html_doc = \"\"\"\n",
    "<html><head><title>The Dormouse's story</title></head>\n",
    "<body>\n",
    "<p class=\"title\"><b>The Dormouse's story</b></p>\n",
    "<a href=\"http://example.com/elsie\" class=\"sister\" id=\"link1\">Elsie</a>\n",
    "<a href=\"http://example.com/lacie\" class=\"sister\" id=\"link2\">Lacie</a>\n",
    "<a href=\"http://example.com/tillie\" class=\"sister\" id=\"link3\">Tillie</a>\n",
    "</body></html>\n",
    "\"\"\"\n"
   ]
  },
  {
   "cell_type": "code",
   "execution_count": 7,
   "metadata": {},
   "outputs": [
    {
     "name": "stdout",
     "output_type": "stream",
     "text": [
      "http://example.com/elsie\n",
      "http://example.com/lacie\n",
      "http://example.com/tillie\n"
     ]
    }
   ],
   "source": [
    "# 주어진 HTML 문서에서 모든 링크의 URL을 추출하세요.\n",
    "from bs4 import BeautifulSoup\n",
    "\n",
    "soup = BeautifulSoup(html_doc, 'html.parser')\n",
    "links = soup.find_all('a')\n",
    "\n",
    "for link in links:\n",
    "    url = link.get('href')\n",
    "    print(url)"
   ]
  },
  {
   "cell_type": "code",
   "execution_count": 8,
   "metadata": {},
   "outputs": [
    {
     "name": "stdout",
     "output_type": "stream",
     "text": [
      "<a class=\"sister\" href=\"http://example.com/elsie\" id=\"link1\">Elsie</a>\n"
     ]
    }
   ],
   "source": [
    "# 주어진 HTML 문서에서 ID가 link1인 태그를 추출하세요.\n",
    "from bs4 import BeautifulSoup\n",
    "link1_tag = soup.select_one('#link1')\n",
    "print(link1_tag)"
   ]
  },
  {
   "cell_type": "code",
   "execution_count": 9,
   "metadata": {},
   "outputs": [
    {
     "name": "stdout",
     "output_type": "stream",
     "text": [
      "[<b>The Dormouse's story</b>]\n"
     ]
    }
   ],
   "source": [
    "# 주어진 HTML 문서에서 <p>태그의 모든 자식 태그를 추출하세요.\n",
    "from bs4 import BeautifulSoup\n",
    "p_tag = soup.find('p')\n",
    "children = p_tag.findChildren()\n",
    "print(children)"
   ]
  },
  {
   "cell_type": "code",
   "execution_count": 11,
   "metadata": {},
   "outputs": [
    {
     "name": "stdout",
     "output_type": "stream",
     "text": [
      "<body>\n",
      "<p class=\"title\"><b>The Dormouse's story</b></p>\n",
      "<a class=\"sister\" href=\"http://example.com/elsie\" id=\"link1\">Elsie</a>\n",
      "<a class=\"sister\" href=\"http://example.com/lacie\" id=\"link2\">Lacie</a>\n",
      "<a class=\"sister\" href=\"http://example.com/tillie\" id=\"link3\">Tillie</a>\n",
      "</body>\n"
     ]
    }
   ],
   "source": [
    "# 주어진 HTML문서에서 ID가 link1인 태그의 부모 태그를 추출하세요.\n",
    "from bs4 import BeautifulSoup\n",
    "link1_tag = soup.select_one('#link1')\n",
    "print(link1_tag.findParent())"
   ]
  },
  {
   "cell_type": "code",
   "execution_count": 14,
   "metadata": {},
   "outputs": [
    {
     "name": "stdout",
     "output_type": "stream",
     "text": [
      "<a class=\"sister\" href=\"http://example.com/lacie\" id=\"link2\">Lacie</a>\n"
     ]
    }
   ],
   "source": [
    "# 주어진 HTML문서에서 ID가 link1인 태그의 다음 형제 태그를 추출하세요.\n",
    "from bs4 import BeautifulSoup\n",
    "link1_tag = soup.select_one('#link1')\n",
    "print(link1_tag.findNextSibling())\n"
   ]
  },
  {
   "cell_type": "markdown",
   "metadata": {},
   "source": [
    "#### XPath\n",
    "\n",
    "XPath는 XML 문서의 경로를 지정하기 위한 언어로, HTML 문서에서도 사용할 수 있습니다. 예:\n",
    "\n",
    "```\n",
    "//div[@id='main']: id가 'main'인 모든 <div> 요소를 선택합니다.\n",
    "//a/text():\n",
    "- //: 문서의 어디에서든 지정한 요소를 찾습니다. 즉, 루트 요소부터 시작해서 모든 자식 요소를 포함하여 탐색합니다.\n",
    "- a: 찾고자 하는 요소의 이름입니다. 여기서는 <a> 태그를 의미합니다.\n",
    "- /text(): 지정한 요소의 텍스트 노드를 선택합니다. <a> 태그 내부의 텍스트를 의미합니다.\n",
    "```"
   ]
  },
  {
   "cell_type": "code",
   "execution_count": 15,
   "metadata": {},
   "outputs": [],
   "source": [
    "from lxml import html\n",
    "\n",
    "html_doc = \"\"\"\n",
    "<html>\n",
    "  <head><title>The Dormouse's story</title></head>\n",
    "  <body>\n",
    "    <p class=\"title\"><b>The Dormouse's story</b></p>\n",
    "    <a href=\"http://example.com/elsie\" class=\"sister\" id=\"link1\">Elsie</a>\n",
    "    <a href=\"http://example.com/lacie\" class=\"sister\" id=\"link2\">Lacie</a>\n",
    "    <a href=\"http://example.com/tillie\" class=\"sister\" id=\"link3\">Tillie</a>\n",
    "  </body>\n",
    "</html>\n",
    "\"\"\""
   ]
  },
  {
   "cell_type": "code",
   "execution_count": 16,
   "metadata": {},
   "outputs": [
    {
     "name": "stdout",
     "output_type": "stream",
     "text": [
      "Elsie\n",
      "Lacie\n",
      "Tillie\n"
     ]
    }
   ],
   "source": [
    "tree = html.fromstring(html_doc) # HTML 문서를 XML요소로 변환\n",
    "a_texts = tree.xpath('//a/text()')\n",
    "for text in a_texts:\n",
    "    print(text)"
   ]
  },
  {
   "cell_type": "code",
   "execution_count": 18,
   "metadata": {},
   "outputs": [
    {
     "name": "stdout",
     "output_type": "stream",
     "text": [
      "<a href=\"http://example.com/elsie\" class=\"sister\" id=\"link1\">Elsie</a>\n",
      "    \n"
     ]
    }
   ],
   "source": [
    "# 주어진 HTML 문서에서 ID가 link1인 태그를 추출하세요.\n",
    "link1_tag = tree.xpath('//*[@id=\"link1\"]')[0]\n",
    "print(html.tostring(link1_tag).decode('utf-8'))\n"
   ]
  },
  {
   "cell_type": "markdown",
   "metadata": {},
   "source": [
    "#### 웹페이지의 동적 로딩\n",
    "\n",
    "일부 웹페이지는 JavaScript를 통해 동적으로 콘텐츠를 로드합니다. 이러한 페이지는 단순히 HTML을 요청하는 것으로는 모든 콘텐츠를 얻을 수 없으며, Selenium과 같은 도구를 사용하여 JavaScript를 실행하는 것이 필요할 수 있습니다."
   ]
  },
  {
   "cell_type": "markdown",
   "metadata": {},
   "source": [
    "#### HTTP 요청과 응답\n",
    "\n",
    "웹 크롤링은 HTTP 프로토콜을 통해 웹페이지에 접근합니다. HTTP 요청과 응답의 기본 개념을 이해하는 것이 중요합니다.\n",
    "\n",
    "- HTTP 메서드 (GET, POST 등)\n",
    "- 상태 코드 (200, 404 등)"
   ]
  },
  {
   "cell_type": "markdown",
   "metadata": {},
   "source": [
    "#### 크롤링 도구와 라이브러리\n",
    "\n",
    "다양한 도구와 라이브러리가 크롤링을 도와줍니다.\n",
    "\n",
    "- BeautifulSoup: HTML과 XML 파일을 파싱하는 라이브러리입니다.\n",
    "- Requests: HTTP 요청을 보내기 위한 라이브러리입니다.\n",
    "- Selenium: 웹 브라우저를 자동화하고 동적 웹페이지를 크롤링하는 데 사용됩니다."
   ]
  },
  {
   "cell_type": "code",
   "execution_count": 22,
   "metadata": {},
   "outputs": [
    {
     "name": "stdout",
     "output_type": "stream",
     "text": [
      "200\n",
      "<div id=\"wrap\">\n",
      " <div id=\"header\" role=\"banner\">\n",
      "  <div class=\"header_inner\" id=\"topSearchWrap\">\n",
      "   <div class=\"search_special_bg\" id=\"special-logo\">\n",
      "   </div>\n",
      "   <div class=\"ad_area\" id=\"timeboard-ex\" style=\"min-width:1340px\">\n",
      "   </div>\n",
      "   <div class=\"search_area\" id=\"search_area\" style=\"border-color:#fff\">\n",
      "    <div class=\"search_group\">\n",
      "     <div class=\"search_group_inner\" id=\"search\">\n",
      "      <h1 class=\"search_logo\" id=\"special-input-logo\">\n",
      "      </h1>\n",
      "      <form action=\"https://search.naver.com/search.naver\" id=\"sform\" method=\"get\" name=\"search\" role=\"search\">\n",
      "       <fieldset>\n",
      "        <legend class=\"blind\">\n",
      "         검색\n",
      "        </legend>\n",
      "        <input name=\"where\" type=\"hidden\" value=\"nexearch\"/>\n",
      "        <input id=\"sm\" name=\"sm\" type=\"hidden\" value=\"top_hty\"/>\n",
      "        <input id=\"fbm\" name=\"fbm\" type=\"hidden\" value=\"0\"/>\n",
      "        <input disabled=\"disabled\" id=\"acr\" name=\"acr\" type=\"hidden\" value=\"\"/>\n",
      "        <input disabled=\"disabled\" id=\"acq\" name=\"acq\" type=\"hidden\" value=\"\"/>\n",
      "        <input disabled=\"disabled\" id=\"qdt\" name=\"qdt\" type=\"hidden\" value=\"\"/>\n",
      "        <input id=\"ie\" name=\"ie\" type=\"hidden\" value=\"utf8\"/>\n",
      "        <input disabled=\"disabled\" id=\"acir\" name=\"acir\" type=\"hidden\" value=\"\"/>\n",
      "        <input disabled=\"disabled\" id=\"os\" name=\"os\" type=\"hidden\" value=\"\"/>\n",
      "        <input disabled=\"disabled\" id=\"bid\" name=\"bid\" type=\"hidden\" value=\"\"/>\n",
      "        <input disabled=\"disabled\" id=\"pkid\" name=\"pkid\" type=\"hidden\" value=\"\"/>\n",
      "        <input disabled=\"disabled\" id=\"eid\" name=\"eid\" type=\"hidden\" value=\"\"/>\n",
      "        <input disabled=\"disabled\" id=\"mra\" name=\"mra\" type=\"hidden\" value=\"\"/>\n",
      "        <div class=\"search_input_box\">\n",
      "         <input autocomplete=\"off\" class=\"search_input\" data-atcmp-element=\"\" id=\"query\" maxlength=\"255\" name=\"query\" placeholder=\"검색어를 입력해 주세요.\" title=\"검색어를 입력해 주세요.\" type=\"search\"/>\n",
      "        </div>\n",
      "        <button class=\"btn_search\" onclick='window.nclk_v2(this,\"sch.action\")' type=\"submit\">\n",
      "         <span class=\"ico_btn_search_svg\">\n",
      "          <svg id=\"search-btn\" viewbox=\"0 0 50 50\" xmlns=\"http://www.w3.org/2000/svg\">\n",
      "           <path d=\"M22.13.5c11.378 0 20.632 9.256 20.632 20.63 0 4.699-1.566 9.155-4.439 12.782l10.164 10.165a2.41 2.41 0 0 1-1.706 4.115 2.412 2.412 0 0 1-1.706-.705L33.31 35.719a2.41 2.41 0 0 1 0-3.41 15.71 15.71 0 0 0 4.628-11.178c0-8.718-7.09-15.808-15.807-15.808-8.718 0-15.808 7.09-15.808 15.808 0 7.15 4.817 13.43 11.714 15.273a2.41 2.41 0 0 1 1.705 2.954 2.41 2.41 0 0 1-2.95 1.705C7.788 38.658 1.5 30.46 1.5 21.131 1.5 9.756 10.756.5 22.13.5zm4.716 34.746a3.483 3.483 0 1 1 0 6.966 3.483 3.483 0 0 1 0-6.966z\">\n",
      "           </path>\n",
      "          </svg>\n",
      "         </span>\n",
      "         <span class=\"blind\">\n",
      "          검색\n",
      "         </span>\n",
      "        </button>\n",
      "       </fieldset>\n",
      "      </form>\n",
      "      <div class=\"search_box\">\n",
      "       <button aria-pressed=\"false\" class=\"btn_keyboard\" id=\"ke_kbd_btn\" type=\"button\">\n",
      "        <span class=\"keybord_text\">\n",
      "         <span class=\"blind\">\n",
      "          입력도구\n",
      "         </span>\n",
      "        </span>\n",
      "       </button>\n",
      "       <div id=\"_nx_kbd\" style=\"display:none\">\n",
      "       </div>\n",
      "       <button class=\"btn_arrow\" data-atcmp-element=\"\" id=\"nautocomplete\" type=\"button\">\n",
      "        <span class=\"blind\">\n",
      "         자동완성/최근검색어펼치기\n",
      "        </span>\n",
      "       </button>\n",
      "      </div>\n",
      "      <div class=\"layer_atcmp\" id=\"autoFrame\" style=\"display:none\">\n",
      "       <div class=\"ly_atcmp\" data-atcmp-element=\"\">\n",
      "        <div class=\"api_atcmp_wrap\">\n",
      "         <div class=\"atcmp_fixer _recent_layer\" style=\"display:none\">\n",
      "          <div class=\"atcmp_header _recent_header\">\n",
      "           <strong class=\"tit\">\n",
      "            최근 검색어\n",
      "           </strong>\n",
      "           <div class=\"option\">\n",
      "            <a aria-pressed=\"false\" class=\"item _delAll\" href=\"#\" role=\"button\">\n",
      "             전체삭제\n",
      "            </a>\n",
      "           </div>\n",
      "          </div>\n",
      "          <div class=\"atcmp_container\">\n",
      "           <ul class=\"kwd_lst _recent\">\n",
      "           </ul>\n",
      "           <div class=\"kwd_info kwd_off _offMsg\" style=\"display:none\">\n",
      "            검색어 저장 기능이 꺼져 있습니다.\n",
      "            <br/>\n",
      "            <span class=\"kwd_dsc\">\n",
      "             설정이 초기화 된다면\n",
      "             <a class=\"kwd_help\" data-clk=\"sly.help\" href=\"https://help.naver.com/alias/search/word/word_35.naver\" target=\"_blank\">\n",
      "              도움말\n",
      "             </a>\n",
      "             을 확인해주세요.\n",
      "            </span>\n",
      "           </div>\n",
      "           <div class=\"kwd_info kwd_none _recentNone\" style=\"display:none\">\n",
      "            최근 검색어 내역이 없습니다.\n",
      "            <br/>\n",
      "            <span class=\"kwd_dsc\">\n",
      "             설정이 초기화 된다면\n",
      "             <a class=\"kwd_help\" data-clk=\"sly.help\" href=\"https://help.naver.com/alias/search/word/word_35.naver\" target=\"_blank\">\n",
      "              도움말\n",
      "             </a>\n",
      "             을 확인해주세요.\n",
      "            </span>\n",
      "           </div>\n",
      "          </div>\n",
      "          <div class=\"atcmp_footer\">\n",
      "           <span class=\"side_opt_area\">\n",
      "            <span class=\"opt_item\">\n",
      "             <a class=\"close _keywordOnOff\" href=\"#\">\n",
      "              자동저장 끄기\n",
      "             </a>\n",
      "            </span>\n",
      "            <span class=\"opt_item\">\n",
      "             <a data-clk=\"sly.help\" href=\"https://help.naver.com/alias/search/word/word_35.naver\" target=\"_blank\">\n",
      "              도움말\n",
      "             </a>\n",
      "            </span>\n",
      "           </span>\n",
      "           <span class=\"rside_opt_area\">\n",
      "            <span class=\"opt_item\">\n",
      "             <a class=\"close _close\" href=\"#\">\n",
      "              닫기\n",
      "             </a>\n",
      "            </span>\n",
      "           </span>\n",
      "          </div>\n",
      "         </div>\n",
      "         <div class=\"atcmp_fixer _atcmp_layer\" style=\"display:none\">\n",
      "          <div class=\"atcmp_container _words\">\n",
      "           <div class=\"atcmp_cue type_line _cue_root\">\n",
      "            <div class=\"cue_header\">\n",
      "             <i class=\"imgsvg ico_cue\">\n",
      "              CUE\n",
      "             </i>\n",
      "             대화하듯 질문해 보세요\n",
      "             <a aria-pressed=\"false\" class=\"btn_help _tg_btn\" href=\"#\" role=\"button\">\n",
      "              <i class=\"imgsvg ico_alert\">\n",
      "               이 정보가 표시된 이유\n",
      "              </i>\n",
      "             </a>\n",
      "             <div class=\"layer_plus\">\n",
      "              <p class=\"dsc\">\n",
      "               검색어와 포함된 키워드를 기반으로 AI 기술을 활용하여 연관된 추천 질문을 제공합니다.\n",
      "              </p>\n",
      "              <a class=\"btn_close _tg_btn\" href=\"#\" role=\"button\">\n",
      "               <i class=\"imgsvg ico_close\">\n",
      "                레이어 닫기\n",
      "               </i>\n",
      "              </a>\n",
      "             </div>\n",
      "            </div>\n",
      "            <div class=\"atcmp_pcpg_wrap cue_list\">\n",
      "             <ul class=\"atcmp_flicking_wrap _ul\">\n",
      "             </ul>\n",
      "             <div class=\"atcmp_btn_page\">\n",
      "              <div class=\"btn_prev _prev\">\n",
      "               <a class=\"btn\" href=\"#\" role=\"button\">\n",
      "                <i class=\"imgsvg ico_arr\">\n",
      "                 이전\n",
      "                </i>\n",
      "               </a>\n",
      "              </div>\n",
      "              <div class=\"btn_next _next\">\n",
      "               <a class=\"btn\" href=\"#\" role=\"button\">\n",
      "                <i class=\"imgsvg ico_arr\">\n",
      "                 다음\n",
      "                </i>\n",
      "               </a>\n",
      "              </div>\n",
      "             </div>\n",
      "            </div>\n",
      "           </div>\n",
      "           <ul class=\"kwd_lst _kwd_list\">\n",
      "           </ul>\n",
      "           <div class=\"atcmp_alert _alert\">\n",
      "            <div class=\"dsc_election\">\n",
      "             <p class=\"dsc\">\n",
      "              <i class=\"imgsvg ico_election\">\n",
      "              </i>\n",
      "              <span class=\"_alert_passage\">\n",
      "              </span>\n",
      "             </p>\n",
      "             <span class=\"dsc_inner\">\n",
      "              <span class=\"_alert_passage2\">\n",
      "              </span>\n",
      "              <a class=\"link _alert_link\" href=\"#\" target=\"_blank\">\n",
      "               자세히보기\n",
      "              </a>\n",
      "             </span>\n",
      "            </div>\n",
      "           </div>\n",
      "           <div class=\"atcmp_plus _plus\">\n",
      "            <div class=\"dsc_plus\">\n",
      "             <a class=\"link_dsc\" data-clk=\"sug.cxhelp\" href=\"https://help.naver.com/alias/search/word/word_16.naver\" target=\"_blank\">\n",
      "              관심사를 반영한 컨텍스트 자동완성\n",
      "              <i class=\"imgsvg ico_help\">\n",
      "               도움말\n",
      "              </i>\n",
      "             </a>\n",
      "            </div>\n",
      "            <div class=\"switch\">\n",
      "             <a aria-pressed=\"false\" class=\"bt_switch active _plus_btn\" href=\"#\" role=\"button\">\n",
      "              <i class=\"imgsvg ico_option\">\n",
      "               컨텍스트 자동완성\n",
      "              </i>\n",
      "             </a>\n",
      "            </div>\n",
      "            <div class=\"layer_plus _plus_layer\">\n",
      "             <strong class=\"tit\">\n",
      "              컨텍스트 자동완성\n",
      "             </strong>\n",
      "             <div class=\"_plus_layer_isloggedin\" style=\"display:none\">\n",
      "              <p class=\"dsc\">\n",
      "               ON/OFF 설정은 해당기기(브라우저)에 저장됩니다.\n",
      "              </p>\n",
      "              <div class=\"btn_area\">\n",
      "               <a class=\"link_view\" data-clk=\"sug.cxlink\" href=\"https://help.naver.com/alias/search/word/word_16.naver\" target=\"_blank\">\n",
      "                자세히 보기\n",
      "               </a>\n",
      "              </div>\n",
      "             </div>\n",
      "             <div class=\"_plus_layer_isnotloggedin\" style=\"display:none\">\n",
      "              <p class=\"dsc\">\n",
      "               동일한 시간대・연령대・남녀별 사용자 그룹의 관심사에 맞춰 자동완성을 제공합니다.\n",
      "               <a class=\"link_view\" data-clk=\"sug.cxlink\" href=\"https://help.naver.com/support/alias/search/word/word_16.naver\" target=\"_blank\">\n",
      "                자세히 보기\n",
      "               </a>\n",
      "              </p>\n",
      "              <div class=\"btn_area\">\n",
      "               <a class=\"btn btn_login\" data-clk=\"sug.cxlogin\" href=\"https://nid.naver.com/nidlogin.login\">\n",
      "                <i class=\"imgsvg ico_naver\">\n",
      "                 네이버\n",
      "                </i>\n",
      "                로그인\n",
      "               </a>\n",
      "              </div>\n",
      "             </div>\n",
      "             <a class=\"btn_close _plus_layer_close\" href=\"#\" role=\"button\">\n",
      "              <i class=\"imgsvg ico_close\">\n",
      "               컨텍스트 자동완성 레이어 닫기\n",
      "              </i>\n",
      "             </a>\n",
      "            </div>\n",
      "           </div>\n",
      "          </div>\n",
      "          <div class=\"atcmp_footer\">\n",
      "           <span class=\"side_opt_area\">\n",
      "            <span class=\"opt_item\">\n",
      "             <a class=\"close _suggestOnOff\" href=\"#\">\n",
      "              자동완성 끄기\n",
      "             </a>\n",
      "            </span>\n",
      "            <span class=\"opt_item\">\n",
      "             <a data-clk=\"sug.help\" href=\"https://help.naver.com/alias/search/word/word_17.naver\" target=\"_blank\">\n",
      "              도움말\n",
      "             </a>\n",
      "            </span>\n",
      "            <span class=\"opt_item\">\n",
      "             <a class=\"report\" data-clk=\"sug.report\" href=\"https://help.naver.com/alias/search/word/word_18.naver\" target=\"_blank\">\n",
      "              신고\n",
      "             </a>\n",
      "            </span>\n",
      "           </span>\n",
      "           <span class=\"rside_opt_area\">\n",
      "            <span class=\"opt_item\">\n",
      "             <a class=\"close _close\" href=\"#\">\n",
      "              닫기\n",
      "             </a>\n",
      "            </span>\n",
      "           </span>\n",
      "          </div>\n",
      "         </div>\n",
      "        </div>\n",
      "       </div>\n",
      "      </div>\n",
      "     </div>\n",
      "    </div>\n",
      "   </div>\n",
      "   <div id=\"search-right-first\">\n",
      "   </div>\n",
      "   <div id=\"search-right-second\">\n",
      "   </div>\n",
      "   <div aria-label=\"주요 서비스\" class=\"shortcut_area\" id=\"shortcutArea\" role=\"navigation\">\n",
      "   </div>\n",
      "   <div class=\"menu_area\" id=\"topAsideArea\">\n",
      "   </div>\n",
      "   <div class=\"pay_area\" id=\"topPayArea\">\n",
      "   </div>\n",
      "   <div class=\"talk_area\" id=\"topTalkArea\">\n",
      "   </div>\n",
      "   <div class=\"notify_area\" id=\"topNotiArea\">\n",
      "   </div>\n",
      "   <div class=\"shopping_area\" id=\"topShoppingArea\">\n",
      "   </div>\n",
      "  </div>\n",
      " </div>\n",
      " <div id=\"container\" role=\"main\">\n",
      "  <div id=\"root\">\n",
      "  </div>\n",
      " </div>\n",
      " <div id=\"footer\" role=\"contentinfo\">\n",
      " </div>\n",
      "</div>\n",
      "\n"
     ]
    }
   ],
   "source": [
    "import requests\n",
    "from bs4 import BeautifulSoup\n",
    "\n",
    "url = 'http://www.naver.com'\n",
    "response = requests.get(url)\n",
    "print(response.status_code)\n",
    "\n",
    "soup = BeautifulSoup(response.text, 'html.parser')\n",
    "\n",
    "# ID를 사용하여 'wrap' 영역 크롤링\n",
    "wrap = soup.find(id='wrap')\n",
    "print(wrap.prettify())"
   ]
  },
  {
   "cell_type": "code",
   "execution_count": 26,
   "metadata": {},
   "outputs": [
    {
     "name": "stdout",
     "output_type": "stream",
     "text": [
      "#topAsideButton 상단영역 바로가기\n",
      "#shortcutArea 서비스 메뉴 바로가기\n",
      "#newsstand 새소식 블록 바로가기\n",
      "#shopping 쇼핑 블록 바로가기\n",
      "#feed 관심사 블록 바로가기\n",
      "#account MY 영역 바로가기\n",
      "#widgetboard 위젯 보드 바로가기\n",
      "#viewSetting 보기 설정 바로가기\n",
      "# 전체삭제\n",
      "https://help.naver.com/alias/search/word/word_35.naver 도움말\n",
      "https://help.naver.com/alias/search/word/word_35.naver 도움말\n",
      "# 자동저장 끄기\n",
      "https://help.naver.com/alias/search/word/word_35.naver 도움말\n",
      "# 닫기\n",
      "# 이 정보가 표시된 이유\n",
      "# 레이어 닫기\n",
      "# 이전\n",
      "# 다음\n",
      "# 자세히보기\n",
      "https://help.naver.com/alias/search/word/word_16.naver 관심사를 반영한 컨텍스트 자동완성도움말\n",
      "# 컨텍스트 자동완성\n",
      "https://help.naver.com/alias/search/word/word_16.naver 자세히 보기\n",
      "https://help.naver.com/support/alias/search/word/word_16.naver 자세히 보기\n",
      "https://nid.naver.com/nidlogin.login 네이버로그인\n",
      "# 컨텍스트 자동완성 레이어 닫기\n",
      "# 자동완성 끄기\n",
      "https://help.naver.com/alias/search/word/word_17.naver 도움말\n",
      "https://help.naver.com/alias/search/word/word_18.naver 신고\n",
      "# 닫기\n"
     ]
    }
   ],
   "source": [
    "# a 태그를 모두 크롤링(텍스트와 href 속성을 출력)\n",
    "links = soup.find_all('a')\n",
    "for link in links:\n",
    "    print(link.get('href'), link.text)"
   ]
  },
  {
   "cell_type": "code",
   "execution_count": 27,
   "metadata": {},
   "outputs": [
    {
     "name": "stdout",
     "output_type": "stream",
     "text": [
      "<div class=\"search_area\" id=\"search_area\" style=\"border-color:#fff\">\n",
      " <div class=\"search_group\">\n",
      "  <div class=\"search_group_inner\" id=\"search\">\n",
      "   <h1 class=\"search_logo\" id=\"special-input-logo\">\n",
      "   </h1>\n",
      "   <form action=\"https://search.naver.com/search.naver\" id=\"sform\" method=\"get\" name=\"search\" role=\"search\">\n",
      "    <fieldset>\n",
      "     <legend class=\"blind\">\n",
      "      검색\n",
      "     </legend>\n",
      "     <input name=\"where\" type=\"hidden\" value=\"nexearch\"/>\n",
      "     <input id=\"sm\" name=\"sm\" type=\"hidden\" value=\"top_hty\"/>\n",
      "     <input id=\"fbm\" name=\"fbm\" type=\"hidden\" value=\"0\"/>\n",
      "     <input disabled=\"disabled\" id=\"acr\" name=\"acr\" type=\"hidden\" value=\"\"/>\n",
      "     <input disabled=\"disabled\" id=\"acq\" name=\"acq\" type=\"hidden\" value=\"\"/>\n",
      "     <input disabled=\"disabled\" id=\"qdt\" name=\"qdt\" type=\"hidden\" value=\"\"/>\n",
      "     <input id=\"ie\" name=\"ie\" type=\"hidden\" value=\"utf8\"/>\n",
      "     <input disabled=\"disabled\" id=\"acir\" name=\"acir\" type=\"hidden\" value=\"\"/>\n",
      "     <input disabled=\"disabled\" id=\"os\" name=\"os\" type=\"hidden\" value=\"\"/>\n",
      "     <input disabled=\"disabled\" id=\"bid\" name=\"bid\" type=\"hidden\" value=\"\"/>\n",
      "     <input disabled=\"disabled\" id=\"pkid\" name=\"pkid\" type=\"hidden\" value=\"\"/>\n",
      "     <input disabled=\"disabled\" id=\"eid\" name=\"eid\" type=\"hidden\" value=\"\"/>\n",
      "     <input disabled=\"disabled\" id=\"mra\" name=\"mra\" type=\"hidden\" value=\"\"/>\n",
      "     <div class=\"search_input_box\">\n",
      "      <input autocomplete=\"off\" class=\"search_input\" data-atcmp-element=\"\" id=\"query\" maxlength=\"255\" name=\"query\" placeholder=\"검색어를 입력해 주세요.\" title=\"검색어를 입력해 주세요.\" type=\"search\"/>\n",
      "     </div>\n",
      "     <button class=\"btn_search\" onclick='window.nclk_v2(this,\"sch.action\")' type=\"submit\">\n",
      "      <span class=\"ico_btn_search_svg\">\n",
      "       <svg id=\"search-btn\" viewbox=\"0 0 50 50\" xmlns=\"http://www.w3.org/2000/svg\">\n",
      "        <path d=\"M22.13.5c11.378 0 20.632 9.256 20.632 20.63 0 4.699-1.566 9.155-4.439 12.782l10.164 10.165a2.41 2.41 0 0 1-1.706 4.115 2.412 2.412 0 0 1-1.706-.705L33.31 35.719a2.41 2.41 0 0 1 0-3.41 15.71 15.71 0 0 0 4.628-11.178c0-8.718-7.09-15.808-15.807-15.808-8.718 0-15.808 7.09-15.808 15.808 0 7.15 4.817 13.43 11.714 15.273a2.41 2.41 0 0 1 1.705 2.954 2.41 2.41 0 0 1-2.95 1.705C7.788 38.658 1.5 30.46 1.5 21.131 1.5 9.756 10.756.5 22.13.5zm4.716 34.746a3.483 3.483 0 1 1 0 6.966 3.483 3.483 0 0 1 0-6.966z\">\n",
      "        </path>\n",
      "       </svg>\n",
      "      </span>\n",
      "      <span class=\"blind\">\n",
      "       검색\n",
      "      </span>\n",
      "     </button>\n",
      "    </fieldset>\n",
      "   </form>\n",
      "   <div class=\"search_box\">\n",
      "    <button aria-pressed=\"false\" class=\"btn_keyboard\" id=\"ke_kbd_btn\" type=\"button\">\n",
      "     <span class=\"keybord_text\">\n",
      "      <span class=\"blind\">\n",
      "       입력도구\n",
      "      </span>\n",
      "     </span>\n",
      "    </button>\n",
      "    <div id=\"_nx_kbd\" style=\"display:none\">\n",
      "    </div>\n",
      "    <button class=\"btn_arrow\" data-atcmp-element=\"\" id=\"nautocomplete\" type=\"button\">\n",
      "     <span class=\"blind\">\n",
      "      자동완성/최근검색어펼치기\n",
      "     </span>\n",
      "    </button>\n",
      "   </div>\n",
      "   <div class=\"layer_atcmp\" id=\"autoFrame\" style=\"display:none\">\n",
      "    <div class=\"ly_atcmp\" data-atcmp-element=\"\">\n",
      "     <div class=\"api_atcmp_wrap\">\n",
      "      <div class=\"atcmp_fixer _recent_layer\" style=\"display:none\">\n",
      "       <div class=\"atcmp_header _recent_header\">\n",
      "        <strong class=\"tit\">\n",
      "         최근 검색어\n",
      "        </strong>\n",
      "        <div class=\"option\">\n",
      "         <a aria-pressed=\"false\" class=\"item _delAll\" href=\"#\" role=\"button\">\n",
      "          전체삭제\n",
      "         </a>\n",
      "        </div>\n",
      "       </div>\n",
      "       <div class=\"atcmp_container\">\n",
      "        <ul class=\"kwd_lst _recent\">\n",
      "        </ul>\n",
      "        <div class=\"kwd_info kwd_off _offMsg\" style=\"display:none\">\n",
      "         검색어 저장 기능이 꺼져 있습니다.\n",
      "         <br/>\n",
      "         <span class=\"kwd_dsc\">\n",
      "          설정이 초기화 된다면\n",
      "          <a class=\"kwd_help\" data-clk=\"sly.help\" href=\"https://help.naver.com/alias/search/word/word_35.naver\" target=\"_blank\">\n",
      "           도움말\n",
      "          </a>\n",
      "          을 확인해주세요.\n",
      "         </span>\n",
      "        </div>\n",
      "        <div class=\"kwd_info kwd_none _recentNone\" style=\"display:none\">\n",
      "         최근 검색어 내역이 없습니다.\n",
      "         <br/>\n",
      "         <span class=\"kwd_dsc\">\n",
      "          설정이 초기화 된다면\n",
      "          <a class=\"kwd_help\" data-clk=\"sly.help\" href=\"https://help.naver.com/alias/search/word/word_35.naver\" target=\"_blank\">\n",
      "           도움말\n",
      "          </a>\n",
      "          을 확인해주세요.\n",
      "         </span>\n",
      "        </div>\n",
      "       </div>\n",
      "       <div class=\"atcmp_footer\">\n",
      "        <span class=\"side_opt_area\">\n",
      "         <span class=\"opt_item\">\n",
      "          <a class=\"close _keywordOnOff\" href=\"#\">\n",
      "           자동저장 끄기\n",
      "          </a>\n",
      "         </span>\n",
      "         <span class=\"opt_item\">\n",
      "          <a data-clk=\"sly.help\" href=\"https://help.naver.com/alias/search/word/word_35.naver\" target=\"_blank\">\n",
      "           도움말\n",
      "          </a>\n",
      "         </span>\n",
      "        </span>\n",
      "        <span class=\"rside_opt_area\">\n",
      "         <span class=\"opt_item\">\n",
      "          <a class=\"close _close\" href=\"#\">\n",
      "           닫기\n",
      "          </a>\n",
      "         </span>\n",
      "        </span>\n",
      "       </div>\n",
      "      </div>\n",
      "      <div class=\"atcmp_fixer _atcmp_layer\" style=\"display:none\">\n",
      "       <div class=\"atcmp_container _words\">\n",
      "        <div class=\"atcmp_cue type_line _cue_root\">\n",
      "         <div class=\"cue_header\">\n",
      "          <i class=\"imgsvg ico_cue\">\n",
      "           CUE\n",
      "          </i>\n",
      "          대화하듯 질문해 보세요\n",
      "          <a aria-pressed=\"false\" class=\"btn_help _tg_btn\" href=\"#\" role=\"button\">\n",
      "           <i class=\"imgsvg ico_alert\">\n",
      "            이 정보가 표시된 이유\n",
      "           </i>\n",
      "          </a>\n",
      "          <div class=\"layer_plus\">\n",
      "           <p class=\"dsc\">\n",
      "            검색어와 포함된 키워드를 기반으로 AI 기술을 활용하여 연관된 추천 질문을 제공합니다.\n",
      "           </p>\n",
      "           <a class=\"btn_close _tg_btn\" href=\"#\" role=\"button\">\n",
      "            <i class=\"imgsvg ico_close\">\n",
      "             레이어 닫기\n",
      "            </i>\n",
      "           </a>\n",
      "          </div>\n",
      "         </div>\n",
      "         <div class=\"atcmp_pcpg_wrap cue_list\">\n",
      "          <ul class=\"atcmp_flicking_wrap _ul\">\n",
      "          </ul>\n",
      "          <div class=\"atcmp_btn_page\">\n",
      "           <div class=\"btn_prev _prev\">\n",
      "            <a class=\"btn\" href=\"#\" role=\"button\">\n",
      "             <i class=\"imgsvg ico_arr\">\n",
      "              이전\n",
      "             </i>\n",
      "            </a>\n",
      "           </div>\n",
      "           <div class=\"btn_next _next\">\n",
      "            <a class=\"btn\" href=\"#\" role=\"button\">\n",
      "             <i class=\"imgsvg ico_arr\">\n",
      "              다음\n",
      "             </i>\n",
      "            </a>\n",
      "           </div>\n",
      "          </div>\n",
      "         </div>\n",
      "        </div>\n",
      "        <ul class=\"kwd_lst _kwd_list\">\n",
      "        </ul>\n",
      "        <div class=\"atcmp_alert _alert\">\n",
      "         <div class=\"dsc_election\">\n",
      "          <p class=\"dsc\">\n",
      "           <i class=\"imgsvg ico_election\">\n",
      "           </i>\n",
      "           <span class=\"_alert_passage\">\n",
      "           </span>\n",
      "          </p>\n",
      "          <span class=\"dsc_inner\">\n",
      "           <span class=\"_alert_passage2\">\n",
      "           </span>\n",
      "           <a class=\"link _alert_link\" href=\"#\" target=\"_blank\">\n",
      "            자세히보기\n",
      "           </a>\n",
      "          </span>\n",
      "         </div>\n",
      "        </div>\n",
      "        <div class=\"atcmp_plus _plus\">\n",
      "         <div class=\"dsc_plus\">\n",
      "          <a class=\"link_dsc\" data-clk=\"sug.cxhelp\" href=\"https://help.naver.com/alias/search/word/word_16.naver\" target=\"_blank\">\n",
      "           관심사를 반영한 컨텍스트 자동완성\n",
      "           <i class=\"imgsvg ico_help\">\n",
      "            도움말\n",
      "           </i>\n",
      "          </a>\n",
      "         </div>\n",
      "         <div class=\"switch\">\n",
      "          <a aria-pressed=\"false\" class=\"bt_switch active _plus_btn\" href=\"#\" role=\"button\">\n",
      "           <i class=\"imgsvg ico_option\">\n",
      "            컨텍스트 자동완성\n",
      "           </i>\n",
      "          </a>\n",
      "         </div>\n",
      "         <div class=\"layer_plus _plus_layer\">\n",
      "          <strong class=\"tit\">\n",
      "           컨텍스트 자동완성\n",
      "          </strong>\n",
      "          <div class=\"_plus_layer_isloggedin\" style=\"display:none\">\n",
      "           <p class=\"dsc\">\n",
      "            ON/OFF 설정은 해당기기(브라우저)에 저장됩니다.\n",
      "           </p>\n",
      "           <div class=\"btn_area\">\n",
      "            <a class=\"link_view\" data-clk=\"sug.cxlink\" href=\"https://help.naver.com/alias/search/word/word_16.naver\" target=\"_blank\">\n",
      "             자세히 보기\n",
      "            </a>\n",
      "           </div>\n",
      "          </div>\n",
      "          <div class=\"_plus_layer_isnotloggedin\" style=\"display:none\">\n",
      "           <p class=\"dsc\">\n",
      "            동일한 시간대・연령대・남녀별 사용자 그룹의 관심사에 맞춰 자동완성을 제공합니다.\n",
      "            <a class=\"link_view\" data-clk=\"sug.cxlink\" href=\"https://help.naver.com/support/alias/search/word/word_16.naver\" target=\"_blank\">\n",
      "             자세히 보기\n",
      "            </a>\n",
      "           </p>\n",
      "           <div class=\"btn_area\">\n",
      "            <a class=\"btn btn_login\" data-clk=\"sug.cxlogin\" href=\"https://nid.naver.com/nidlogin.login\">\n",
      "             <i class=\"imgsvg ico_naver\">\n",
      "              네이버\n",
      "             </i>\n",
      "             로그인\n",
      "            </a>\n",
      "           </div>\n",
      "          </div>\n",
      "          <a class=\"btn_close _plus_layer_close\" href=\"#\" role=\"button\">\n",
      "           <i class=\"imgsvg ico_close\">\n",
      "            컨텍스트 자동완성 레이어 닫기\n",
      "           </i>\n",
      "          </a>\n",
      "         </div>\n",
      "        </div>\n",
      "       </div>\n",
      "       <div class=\"atcmp_footer\">\n",
      "        <span class=\"side_opt_area\">\n",
      "         <span class=\"opt_item\">\n",
      "          <a class=\"close _suggestOnOff\" href=\"#\">\n",
      "           자동완성 끄기\n",
      "          </a>\n",
      "         </span>\n",
      "         <span class=\"opt_item\">\n",
      "          <a data-clk=\"sug.help\" href=\"https://help.naver.com/alias/search/word/word_17.naver\" target=\"_blank\">\n",
      "           도움말\n",
      "          </a>\n",
      "         </span>\n",
      "         <span class=\"opt_item\">\n",
      "          <a class=\"report\" data-clk=\"sug.report\" href=\"https://help.naver.com/alias/search/word/word_18.naver\" target=\"_blank\">\n",
      "           신고\n",
      "          </a>\n",
      "         </span>\n",
      "        </span>\n",
      "        <span class=\"rside_opt_area\">\n",
      "         <span class=\"opt_item\">\n",
      "          <a class=\"close _close\" href=\"#\">\n",
      "           닫기\n",
      "          </a>\n",
      "         </span>\n",
      "        </span>\n",
      "       </div>\n",
      "      </div>\n",
      "     </div>\n",
      "    </div>\n",
      "   </div>\n",
      "  </div>\n",
      " </div>\n",
      "</div>\n",
      "\n"
     ]
    }
   ],
   "source": [
    "# search area 크롤링\n",
    "search_area = soup.find(class_='search_area')\n",
    "print(search_area.prettify())"
   ]
  },
  {
   "cell_type": "markdown",
   "metadata": {},
   "source": [
    "Copy Selector\n",
    "\n",
    "- copy selector는 해당 요소로 접근할 수 있는 CSS 선택자를 복사합니다.\n",
    "- 이를 통해 JavaScript나 Selenium과 같은 도구에서 해당 요소를 선택할 수 있습니다."
   ]
  },
  {
   "cell_type": "markdown",
   "metadata": {},
   "source": [
    " Copy XPath\n",
    "\n",
    "- copy XPath는 해당 요소로 접근할 수 있는 XPath를 복사합니다.\n",
    "- XPath는 XML 문서의 특정 요소를 선택할 때 사용되는 언어로, HTML에도 적용할 수 있습니다."
   ]
  },
  {
   "cell_type": "markdown",
   "metadata": {},
   "source": [
    "## 크롤링(웹 크롤링)\n",
    "크롤링이란\n",
    "- 인터넷 상의 웹 페이지 데이터를 자동으로 수집하는 과정.\n",
    "- 웹 크롤링은 일반적으로 웹 스크래핑과 연관되며, 둘은 종종 혼용되지만 조금 다른 개념. 웹 크롤링은 웹 페이지를 탐색하고 데이터를 수집하는 반면, 웹 스크래핑은 그 페이지에서 특정 정보를 추출하는 데 중점을 둔다.\n",
    "- 크롤링은 스크래핑을 포함할 수 있다. 크롤링 과정에서 각 페이지를 방문할 때, 스크래핑을 통해 필요한 데이터를 추출할 수 있다.\n",
    "\n",
    "웹 크롤링에 사용되는 도구\n",
    "- BeautifulSoup: Python 라이브러리로, HTML 및 XML 문서를 구문 분석하고 데이터를 추출하는 데 사용.\n",
    "\n",
    "- Scrapy: 웹 크롤링을 위한 Python 프레임워크로, 효율적이고 확장성이 높은 크롤러를 쉽게 만들 수 있다.\n",
    "\n",
    "- Selenium: 웹 브라우저 자동화 도구로, JavaScript가 동적으로 로드되는 페이지를 크롤링할 때 유용.\n",
    "\n",
    "- Requests: Python의 HTTP 라이브러리로, 웹 페이지 요청을 쉽게 할 수 있다.\n",
    "\n",
    "웹 크롤링의 기본 과정\n",
    "- 크롤러 설정: 크롤러는 특정 웹 페이지를 시작점으로 설정. 이를 '시드(seed)'라고 부르며, 크롤러는 이 시드 URL에서 시작해 다른 페이지로 이동.\n",
    "\n",
    "- 페이지 요청: 크롤러는 HTTP 요청을 보내 웹 페이지를 요청. 이 과정에서 크롤러는 브라우저처럼 행동하여 웹 서버에서 페이지를 가져온다.\n",
    "\n",
    "- 데이터 추출: 웹 페이지가 응답되면, 크롤러는 페이지의 HTML을 분석하고 필요한 데이터를 추출. 이 과정에는 BeautifulSoup, Selenium 같은 라이브러리가 사용될 수 있다.\n",
    "\n",
    "- 링크 추출 및 큐잉: 크롤러는 현재 페이지에서 다른 페이지로 연결되는 링크를 추출하고, 이 링크들을 큐(queue)에 추가하여 다음 크롤링 대상으로 삼는다.\n",
    "\n",
    "- 반복: 이 과정은 정해진 규칙이나 종료 조건이 충족될 때까지 반복. 예를 들어, 특정 수의 페이지를 크롤링하거나, 주어진 도메인 내에서만 크롤링하도록 설정할 수 있다.\n",
    "\n",
    "웹 크롤링의 주의사항\n",
    "\n",
    "- 로봇 배제 표준(robots.txt): 많은 웹사이트는 robots.txt 파일을 통해 크롤러가 접근 가능한 부분과 접근을 제한하는 부분을 명시. 크롤러는 이 규칙을 준수해야 한다.\n",
    "\n",
    "- 저작권 및 법적 이슈: 모든 웹사이트의 콘텐츠는 저작권의 보호를 받는다. 따라서 크롤링을 통해 수집한 데이터를 어떻게 사용할지에 대한 법적 문제를 주의해야 한다.\n",
    "\n",
    "- 서버 부하: 지나친 크롤링은 웹 서버에 부하를 줄 수 있다. 크롤링 시에는 서버의 부담을 줄이기 위해 요청 간의 딜레이를 설정하는 것이 좋다."
   ]
  },
  {
   "cell_type": "markdown",
   "metadata": {},
   "source": [
    "#### BeautifulSoup\n",
    "- BeautifulSoup은 HTML이나 XML 문서를 파싱하고, 파싱한 데이터에서 원하는 요소를 검색하고 추출하는 데 매우 유용한 도구입니다. \n",
    "- BeautifulSoup에서 객체를 찾는 주요 방법에는 find, find_all, select_one, select, find_parents, find_parent, find_next_sibling, find_previous_sibling 등이 있습니다.\n",
    "\n",
    "검색 방식\n",
    "- find, find_all: 태그 이름과 속성을 사용하여 요소를 검색합니다.\n",
    "- select_one, select: CSS 선택자를 사용하여 요소를 검색합니다.\n",
    "\n",
    "반환 결과:\n",
    "- find: 첫 번째로 일치하는 요소를 반환합니다.\n",
    "- find_all: 모든 일치하는 요소를 리스트로 반환합니다.\n",
    "- select_one: 첫 번째로 일치하는 요소를 반환합니다.\n",
    "- select: 모든 일치하는 요소를 리스트로 반환합니다.\n",
    "\n",
    "표현력:\n",
    "- select_one, select: 더 복잡하고 정교한 선택 조건을 지정할 수 있습니다. 예를 들어, CSS 선택자 문법을 사용하여 클래스, ID, 속성 등을 조합한 검색이 가능합니다.\n",
    "- find, find_all: 단순한 태그 이름과 속성 조건에 기반한 검색이 주로 사용됩니다.\n"
   ]
  },
  {
   "cell_type": "markdown",
   "metadata": {},
   "source": [
    "html.parser vs. lxml\n",
    "- 파이썬에서 HTML 및 XML 문서를 파싱(parsing)하는 라이브러리\n",
    "- html.parser는 HTML 문서를 파싱하는 데에 적합한 파서. 파이썬의 기본 라이브러리로 제공되며 파이썬 내부적으로 구현되어 있으며, 외부 종속성이 없으므로 파이썬과 함께 설치되는 패키지만 사용할 수 있습니다.\n",
    "- lxml은 C 언어로 작성된 파이썬 외부 라이브러리로서 HTML 및 XML 문서를 파싱하는 데에 적합하며, 파서 성능이 매우 우수합니다.\n",
    "- HTML 문서를 파싱하는 경우에는 html.parser를 사용하는 것이 간단하고 편리하며, 대부분의 경우에는 충분한 성능을 제공합니다. 그러나 대용량의 XML 문서나 매우 복잡한 HTML 문서를 파싱해야 하는 경우에는 lxml을 사용하는 것이 더 효율적입니다."
   ]
  },
  {
   "cell_type": "code",
   "execution_count": 8,
   "metadata": {},
   "outputs": [
    {
     "name": "stderr",
     "output_type": "stream",
     "text": [
      "C:\\Users\\GAMING\\AppData\\Local\\Temp\\ipykernel_7252\\3569660297.py:1: DeprecationWarning: Importing display from IPython.core.display is deprecated since IPython 7.14, please import from IPython display\n",
      "  from IPython.core.display import display, HTML\n"
     ]
    },
    {
     "data": {
      "text/html": [
       "\n",
       "<html>\n",
       "    <body>\n",
       "        <h1>Title</h1>\n",
       "        <p class=\"content\">First paragraph.</p>\n",
       "        <p class=\"content\">Second paragraph.</p>\n",
       "    </body>\n",
       "</html>\n"
      ],
      "text/plain": [
       "<IPython.core.display.HTML object>"
      ]
     },
     "metadata": {},
     "output_type": "display_data"
    }
   ],
   "source": [
    "from IPython.core.display import display, HTML\n",
    "\n",
    "html_content = '''\n",
    "<html>\n",
    "    <body>\n",
    "        <h1>Title</h1>\n",
    "        <p class=\"content\">First paragraph.</p>\n",
    "        <p class=\"content\">Second paragraph.</p>\n",
    "    </body>\n",
    "</html>\n",
    "'''\n",
    "\n",
    "display(HTML(html_content))"
   ]
  },
  {
   "cell_type": "code",
   "execution_count": 10,
   "metadata": {},
   "outputs": [
    {
     "name": "stdout",
     "output_type": "stream",
     "text": [
      "<p class=\"content\">First paragraph.</p>\n",
      "<p class=\"content\">First paragraph.</p>\n",
      "<p class=\"content\">Second paragraph.</p>\n",
      "<p class=\"content\">First paragraph.</p>\n",
      "[<p class=\"content\">First paragraph.</p>, <p class=\"content\">Second paragraph.</p>]\n",
      "body\n",
      "html\n",
      "[document]\n",
      "<body>\n",
      "<h1>Title</h1>\n",
      "<p class=\"content\">First paragraph.</p>\n",
      "<p class=\"content\">Second paragraph.</p>\n",
      "</body>\n",
      "<p class=\"content\">Second paragraph.</p>\n",
      "<p class=\"content\">First paragraph.</p>\n",
      "'First paragraph.'\n",
      "'\\n'\n",
      "<p class=\"content\">Second paragraph.</p>\n",
      "'Second paragraph.'\n",
      "'\\n'\n",
      "'\\n'\n",
      "'\\n'\n",
      "'\\n'\n",
      "'Title'\n",
      "<h1>Title</h1>\n",
      "'\\n'\n",
      "<body>\n",
      "<h1>Title</h1>\n",
      "<p class=\"content\">First paragraph.</p>\n",
      "<p class=\"content\">Second paragraph.</p>\n",
      "</body>\n",
      "'\\n'\n",
      "<html>\n",
      "<body>\n",
      "<h1>Title</h1>\n",
      "<p class=\"content\">First paragraph.</p>\n",
      "<p class=\"content\">Second paragraph.</p>\n",
      "</body>\n",
      "</html>\n",
      "'\\n'\n"
     ]
    }
   ],
   "source": [
    "# Task1_0619. 다음 사항을 수행하세요.\n",
    "# 첫 번째로 매칭되는 'p' 태그 찾기\n",
    "from bs4 import BeautifulSoup\n",
    "\n",
    "soup = BeautifulSoup(html_content, 'html.parser')\n",
    "first_p_tag = soup.find('p')\n",
    "\n",
    "print(first_p_tag)\n",
    "\n",
    "# 모든 'p' 태그 찾기\n",
    "from bs4 import BeautifulSoup\n",
    "\n",
    "soup = BeautifulSoup(html_content, 'html.parser')\n",
    "p_tags = soup.find_all('p')\n",
    "\n",
    "for p_tag in p_tags:\n",
    "    print(p_tag)\n",
    "\n",
    "# 클래스가 'content'인 첫 번째 'p' 태그 찾기\n",
    "content_p_tag = soup.find('p', class_='content')\n",
    "print(content_p_tag)\n",
    "# 클래스가 'content'인 모든 'p' 태그 찾기\n",
    "content_p_tags = soup.find_all('p', class_='content')\n",
    "print(content_p_tags)\n",
    "# 특정 'p' 태그의 모든 부모 태그 찾기\n",
    "soup = BeautifulSoup(html_content, 'html.parser')\n",
    "\n",
    "p_tag = soup.find('p', class_='content')\n",
    "parent_tags = list(p_tag.parents)\n",
    "for parent in parent_tags:\n",
    "    print(parent.name)\n",
    "# 특정 'p' 태그의 첫 번째 부모 태그 찾기\n",
    "soup = BeautifulSoup(html_content, 'html.parser')\n",
    "p_tag = soup.find('p', class_='content')\n",
    "parent_tag = p_tag.find_parent()\n",
    "print(parent_tag)\n",
    "# 특정 'p' 태그의 다음 형제 태그 찾기\n",
    "soup = BeautifulSoup(html_content, 'html.parser')\n",
    "p_tag = soup.find('p', class_='content')\n",
    "next_sibling_tag = p_tag.find_next_sibling()\n",
    "print(next_sibling_tag)\n",
    "# 특정 'p' 태그의 이전 형제 태그 찾기\n",
    "soup = BeautifulSoup(html_content, 'html.parser')\n",
    "p_tag = soup.find_all('p', class_='content')[1]\n",
    "previous_sibling_tag = p_tag.find_previous_sibling()\n",
    "print(previous_sibling_tag)\n",
    "# 특정 'p' 태그 다음에 위치한 모든 태그나 문자열 찾기\n",
    "soup = BeautifulSoup(html_content, 'html.parser')\n",
    "p_tag = soup.find('p', class_='content')\n",
    "next_elements = p_tag.next_elements\n",
    "for element in next_elements:\n",
    "    print(repr(element))\n",
    "# 특정 'p' 태그 이전에 위치한 모든 태그나 문자열 찾기 \n",
    "soup = BeautifulSoup(html_content, 'html.parser')\n",
    "p_tag = soup.find('p', class_='content')\n",
    "previous_elements = p_tag.previous_elements\n",
    "for element in previous_elements:\n",
    "    print(repr(element))"
   ]
  },
  {
   "cell_type": "markdown",
   "metadata": {},
   "source": [
    "headers : HTTP 요청에 포함되는 메타데이터\n",
    "- User-Agent: 클라이언트 애플리케이션(브라우저 등)을 나타냅니다.\n",
    "- Accept: 서버가 어떤 콘텐츠 타입을 반환해야 하는지 지정합니다.\n",
    "- Accept-Language: 클라이언트가 선호하는 언어를 지정합니다.\n",
    "- Referer: 요청이 발생한 이전 페이지의 URL을 지정합니다.\n",
    "- Host: 요청을 보내는 서버의 호스트 이름을 지정합니다.\n",
    "- Connection: 서버와 클라이언트 간의 연결 유형을 지정합니다.\n",
    "\n",
    "```\n",
    "headers = {\n",
    "    'User-Agent': 'Mozilla/5.0 (Windows NT 10.0; Win64; x64) AppleWebKit/537.36 (KHTML, like Gecko) Chrome/58.0.3029.110 Safari/537.3',\n",
    "    'Accept-Language': 'en-US,en;q=0.9',\n",
    "    'Referer': 'http://example.com',\n",
    "}\n",
    "```"
   ]
  },
  {
   "cell_type": "code",
   "execution_count": 7,
   "metadata": {},
   "outputs": [],
   "source": [
    "headers = {\n",
    "    \"User-Agent\": \"Mozilla/5.0 (Windows NT 10.0; Win64; x64) AppleWebKit/537.36 (KHTML, like Gecko) Chrome/91.0.4472.124 Safari/537.36\"\n",
    "}"
   ]
  },
  {
   "cell_type": "markdown",
   "metadata": {},
   "source": [
    "response.content:\n",
    "- response.content는 서버에서 반환된 응답을 바이트(byte) 문자열로 제공합니다.\n",
    "- 주로 이미지, 파일 다운로드와 같은 바이너리 데이터를 다룰 때 사용됩니다.\n",
    "- 인코딩과 상관없이 원본 그대로의 데이터를 가져오기 때문에, HTML 파싱을 할 때는 별도로 인코딩을 지정하지 않으면 기본 인코딩을 사용합니다.\n",
    "\n",
    "response.text:\n",
    "- response.text는 서버에서 반환된 응답을 유니코드 문자열로 제공합니다.\n",
    "- requests 라이브러리는 response.text를 반환할 때, response.encoding에 지정된 인코딩을 사용하여 바이트 데이터를 유니코드 문자열로 디코딩합니다.\n",
    "- 일반적인 텍스트 데이터, HTML, JSON 등의 처리를 할 때 유용합니다."
   ]
  },
  {
   "cell_type": "code",
   "execution_count": 15,
   "metadata": {},
   "outputs": [
    {
     "name": "stdout",
     "output_type": "stream",
     "text": [
      "None\n"
     ]
    }
   ],
   "source": [
    "# Task2_0619. ID를 이용해서 '네이버 뉴스' 추출하세요.\n",
    "import requests\n",
    "from bs4 import BeautifulSoup\n",
    "\n",
    "url = 'http://www.naver.com'\n",
    "response = requests.get(url, headers=headers)\n",
    "soup = BeautifulSoup(response.text, 'html.parser')\n",
    "news = soup.find(id='news')\n",
    "print(news)\n"
   ]
  },
  {
   "cell_type": "code",
   "execution_count": 16,
   "metadata": {},
   "outputs": [],
   "source": [
    "# Task3_0619. soup.find_all(class_='Nitem_link_menu') 대신에 select를 이용하여 동일한 결과를 출력하세요.\n",
    "import requests\n",
    "from bs4 import BeautifulSoup\n",
    "\n",
    "url = 'http://www.naver.com'\n",
    "response = requests.get(url, headers=headers)\n",
    "soup = BeautifulSoup(response.text, 'html.parser')\n",
    "news = soup.select('.Nitem_link_menu')\n",
    "for item in news:\n",
    "    print(item)"
   ]
  },
  {
   "cell_type": "code",
   "execution_count": 17,
   "metadata": {},
   "outputs": [
    {
     "name": "stdout",
     "output_type": "stream",
     "text": [
      "None\n"
     ]
    }
   ],
   "source": [
    "# Task4_0619. select_one을 이용해서 'https://news.naver.com'에서 \"뉴스\"를 출력하세요\n",
    "import requests\n",
    "from bs4 import BeautifulSoup\n",
    "\n",
    "url = 'https://news.naver.com'\n",
    "response = requests.get(url, headers=headers)\n",
    "soup = BeautifulSoup(response.text, 'html.parser')\n",
    "news = soup.select_one('.news')\n",
    "print(news)"
   ]
  },
  {
   "cell_type": "code",
   "execution_count": 19,
   "metadata": {},
   "outputs": [],
   "source": [
    "#Task5_0619.'https://news.naver.com'에서 아래 예시와 같이 뉴스 기사 제목을 모두 출력하세요. \n",
    "\n",
    "# 예시: 1: [속보] '훈련병 사망' 얼차려 지시 중대장·부중대장 피의자 신분 첫 소환조사\n",
    "\n",
    "import requests\n",
    "from bs4 import BeautifulSoup\n",
    "\n",
    "url = 'https://news.naver.com'\n",
    "\n",
    "headers = {\n",
    "    'User-Agent': 'Mozilla/5.0 (Windows NT 10.0; Win64; x64) AppleWebKit/537.36 (KHTML, like Gecko) Chrome/91.0.4472.124 Safari/537.36'\n",
    "}\n",
    "\n",
    "response = requests.get(url, headers=headers)\n",
    "\n",
    "soup = BeautifulSoup(response.text, 'html.parser')\n",
    "\n",
    "titles = soup.select('.hdline_article_tit a, .com_list li a')\n",
    "\n",
    "for index, title in enumerate(titles, start=1):\n",
    "    print(f\"{index}: {title.get_text(strip=True)}\")\n"
   ]
  },
  {
   "cell_type": "code",
   "execution_count": null,
   "metadata": {},
   "outputs": [],
   "source": []
  },
  {
   "cell_type": "code",
   "execution_count": null,
   "metadata": {},
   "outputs": [],
   "source": []
  },
  {
   "cell_type": "code",
   "execution_count": null,
   "metadata": {},
   "outputs": [],
   "source": []
  },
  {
   "cell_type": "code",
   "execution_count": null,
   "metadata": {},
   "outputs": [],
   "source": []
  },
  {
   "cell_type": "code",
   "execution_count": null,
   "metadata": {},
   "outputs": [],
   "source": []
  },
  {
   "cell_type": "code",
   "execution_count": null,
   "metadata": {},
   "outputs": [],
   "source": []
  },
  {
   "cell_type": "code",
   "execution_count": null,
   "metadata": {},
   "outputs": [],
   "source": []
  }
 ],
 "metadata": {
  "kernelspec": {
   "display_name": "myenv",
   "language": "python",
   "name": "python3"
  },
  "language_info": {
   "codemirror_mode": {
    "name": "ipython",
    "version": 3
   },
   "file_extension": ".py",
   "mimetype": "text/x-python",
   "name": "python",
   "nbconvert_exporter": "python",
   "pygments_lexer": "ipython3",
   "version": "3.10.11"
  }
 },
 "nbformat": 4,
 "nbformat_minor": 2
}
