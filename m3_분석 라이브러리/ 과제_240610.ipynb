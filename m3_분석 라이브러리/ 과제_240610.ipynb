{
  "nbformat": 4,
  "nbformat_minor": 0,
  "metadata": {
    "colab": {
      "provenance": [],
      "authorship_tag": "ABX9TyNxc2C2elBAWMeQPgjK8kVv",
      "include_colab_link": true
    },
    "kernelspec": {
      "name": "python3",
      "display_name": "Python 3"
    },
    "language_info": {
      "name": "python"
    }
  },
  "cells": [
    {
      "cell_type": "markdown",
      "metadata": {
        "id": "view-in-github",
        "colab_type": "text"
      },
      "source": [
        "<a href=\"https://colab.research.google.com/github/windyday0622/windyday/blob/main/m3_%EB%B6%84%EC%84%9D%20%EB%9D%BC%EC%9D%B4%EB%B8%8C%EB%9F%AC%EB%A6%AC/%20%EA%B3%BC%EC%A0%9C_240610.ipynb\" target=\"_parent\"><img src=\"https://colab.research.google.com/assets/colab-badge.svg\" alt=\"Open In Colab\"/></a>"
      ]
    },
    {
      "cell_type": "markdown",
      "source": [
        "Task1_0610. 주어진 두 배열 arr1과 arr2에서, arr2의 요소가 10보다 큰 위치의 arr1 요소들을 선택하세요.\n",
        "\n",
        "arr1 = np.array([10, 20, 30, 40, 50])<br>\n",
        "arr2 = np.array([5, 15, 25, 10, 35])"
      ],
      "metadata": {
        "id": "3UzX7rIq7KQA"
      }
    },
    {
      "cell_type": "code",
      "execution_count": null,
      "metadata": {
        "id": "F_fCJXB_7HP5"
      },
      "outputs": [],
      "source": []
    },
    {
      "cell_type": "markdown",
      "source": [
        "Task2_0610. 주어진 배열에서 짝수 인덱스에 있는 요소들을 선택하세요.\n",
        "\n",
        "arr = np.array([5, 10, 15, 20, 25, 30, 35, 40])"
      ],
      "metadata": {
        "id": "R_2HPuhw7K5v"
      }
    },
    {
      "cell_type": "code",
      "source": [],
      "metadata": {
        "id": "2wlz-vFi7K9v"
      },
      "execution_count": null,
      "outputs": []
    },
    {
      "cell_type": "markdown",
      "source": [
        "Task3_0610. 주어진 배열에서 20보다 작은 요소들의 값을 0으로 변경하세요.\n",
        "\n",
        "arr = np.array([10, 25, 30, 15, 40, 5])"
      ],
      "metadata": {
        "id": "rmFDZVWB7LE4"
      }
    },
    {
      "cell_type": "code",
      "source": [],
      "metadata": {
        "id": "AzC5xZMt7LJ3"
      },
      "execution_count": null,
      "outputs": []
    },
    {
      "cell_type": "markdown",
      "source": [],
      "metadata": {
        "id": "MWB7qvTo7LPf"
      }
    },
    {
      "cell_type": "code",
      "source": [],
      "metadata": {
        "id": "CQSqgCbu7LUH"
      },
      "execution_count": null,
      "outputs": []
    },
    {
      "cell_type": "markdown",
      "source": [],
      "metadata": {
        "id": "p64nhpsz7LY3"
      }
    },
    {
      "cell_type": "code",
      "source": [],
      "metadata": {
        "id": "eg4FCAjP7Ldo"
      },
      "execution_count": null,
      "outputs": []
    },
    {
      "cell_type": "markdown",
      "source": [],
      "metadata": {
        "id": "jaG6Yyox7LkH"
      }
    },
    {
      "cell_type": "code",
      "source": [],
      "metadata": {
        "id": "-A2_EM9e7Lo3"
      },
      "execution_count": null,
      "outputs": []
    },
    {
      "cell_type": "markdown",
      "source": [],
      "metadata": {
        "id": "iDK6ZCHg7Lu_"
      }
    },
    {
      "cell_type": "code",
      "source": [],
      "metadata": {
        "id": "oD6xJJ7b7L1I"
      },
      "execution_count": null,
      "outputs": []
    },
    {
      "cell_type": "markdown",
      "source": [],
      "metadata": {
        "id": "uzUsRdrw7L5X"
      }
    },
    {
      "cell_type": "code",
      "source": [],
      "metadata": {
        "id": "BpgdUqiX7MBo"
      },
      "execution_count": null,
      "outputs": []
    },
    {
      "cell_type": "markdown",
      "source": [],
      "metadata": {
        "id": "RbixKu317MGX"
      }
    },
    {
      "cell_type": "code",
      "source": [],
      "metadata": {
        "id": "v5XYjUT57MMQ"
      },
      "execution_count": null,
      "outputs": []
    },
    {
      "cell_type": "markdown",
      "source": [],
      "metadata": {
        "id": "SzRKN3YM7MSf"
      }
    },
    {
      "cell_type": "code",
      "source": [],
      "metadata": {
        "id": "dWMBL3Fx7MXn"
      },
      "execution_count": null,
      "outputs": []
    }
  ]
}