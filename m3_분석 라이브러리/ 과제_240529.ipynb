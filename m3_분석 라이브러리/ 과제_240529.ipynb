{
  "nbformat": 4,
  "nbformat_minor": 0,
  "metadata": {
    "colab": {
      "provenance": [],
      "authorship_tag": "ABX9TyPI8iYO78baHLzxfurJbls8",
      "include_colab_link": true
    },
    "kernelspec": {
      "name": "python3",
      "display_name": "Python 3"
    },
    "language_info": {
      "name": "python"
    }
  },
  "cells": [
    {
      "cell_type": "markdown",
      "metadata": {
        "id": "view-in-github",
        "colab_type": "text"
      },
      "source": [
        "<a href=\"https://colab.research.google.com/github/windyday0622/windyday/blob/main/m3_%EB%B6%84%EC%84%9D%20%EB%9D%BC%EC%9D%B4%EB%B8%8C%EB%9F%AC%EB%A6%AC/%20%EA%B3%BC%EC%A0%9C_240529.ipynb\" target=\"_parent\"><img src=\"https://colab.research.google.com/assets/colab-badge.svg\" alt=\"Open In Colab\"/></a>"
      ]
    },
    {
      "cell_type": "markdown",
      "source": [
        "Task1_0529. 주어진 DataFrame에서 'Category'별로 그룹화하여 각 그룹의 'Value' 열의 평균을 계산하세요.\n",
        "\n",
        "import pandas as pd\n",
        "\n",
        "# 데이터프레임 생성\n",
        "df = pd.DataFrame({\n",
        "    \"Category\": [\"A\", \"B\", \"A\", \"B\", \"C\", \"A\", \"C\", \"B\", \"A\", \"C\"],\n",
        "    \"Value\": [10, 20, 30, 40, 50, 60, 70, 80, 90, 100]\n",
        "})\n",
        "df.head()"
      ],
      "metadata": {
        "id": "mK1wfIwrp3Rd"
      }
    },
    {
      "cell_type": "code",
      "execution_count": 3,
      "metadata": {
        "colab": {
          "base_uri": "https://localhost:8080/"
        },
        "id": "mPsIMcpopxxw",
        "outputId": "5a97a22e-8fd7-4715-b71b-8ca60714a905"
      },
      "outputs": [
        {
          "output_type": "stream",
          "name": "stdout",
          "text": [
            "Category\n",
            "A    47.500000\n",
            "B    46.666667\n",
            "C    73.333333\n",
            "Name: Value, dtype: float64\n"
          ]
        }
      ],
      "source": [
        "import pandas as pd\n",
        "\n",
        "# 데이터프레임 생성\n",
        "df = pd.DataFrame({\n",
        "    \"Category\": [\"A\", \"B\", \"A\", \"B\", \"C\", \"A\", \"C\", \"B\", \"A\", \"C\"],\n",
        "    \"Value\": [10, 20, 30, 40, 50, 60, 70, 80, 90, 100]\n",
        "})\n",
        "\n",
        "# 'Category'별로 그룹화하여 'Value' 열의 평균 계산\n",
        "category_means = df.groupby('Category')['Value'].mean()\n",
        "\n",
        "print(category_means)"
      ]
    },
    {
      "cell_type": "markdown",
      "source": [
        "Task2_0529. 주어진 DataFrame에서 'Category'별로 그룹화하여 각 그룹의 'Value' 열의 누적 합을 계산하세요.\n",
        "\n",
        "import pandas as pd\n",
        "\n",
        "# 데이터프레임 생성\n",
        "df = pd.DataFrame({\n",
        "    \"Category\": [\"A\", \"B\", \"A\", \"B\", \"C\", \"A\", \"C\", \"B\", \"A\", \"C\"],\n",
        "    \"Value\": [10, 20, 30, 40, 50, 60, 70, 80, 90, 100]\n",
        "})"
      ],
      "metadata": {
        "id": "dDO9vTqQp38M"
      }
    },
    {
      "cell_type": "code",
      "source": [
        "import pandas as pd\n",
        "\n",
        "# 데이터프레임 생성\n",
        "df = pd.DataFrame({\n",
        "    \"Category\": [\"A\", \"B\", \"A\", \"B\", \"C\", \"A\", \"C\", \"B\", \"A\", \"C\"],\n",
        "    \"Value\": [10, 20, 30, 40, 50, 60, 70, 80, 90, 100]\n",
        "})\n",
        "\n",
        "# 'Category'별로 그룹화하여 'Value'의 누적 합을 계산\n",
        "df['Cumulative_Sum'] = df.groupby('Category')['Value'].cumsum()\n",
        "\n",
        "# 결과 출력\n",
        "print(df)"
      ],
      "metadata": {
        "colab": {
          "base_uri": "https://localhost:8080/"
        },
        "id": "1ziuogJMp4Ds",
        "outputId": "4dee51cf-2168-41ca-d5bb-84797fd42af5"
      },
      "execution_count": 1,
      "outputs": [
        {
          "output_type": "stream",
          "name": "stdout",
          "text": [
            "  Category  Value  Cumulative_Sum\n",
            "0        A     10              10\n",
            "1        B     20              20\n",
            "2        A     30              40\n",
            "3        B     40              60\n",
            "4        C     50              50\n",
            "5        A     60             100\n",
            "6        C     70             120\n",
            "7        B     80             140\n",
            "8        A     90             190\n",
            "9        C    100             220\n"
          ]
        }
      ]
    },
    {
      "cell_type": "markdown",
      "source": [
        "Task3_0529. 주어진 DataFrame에서 'Category'별로 그룹화하여 각 그룹의 'Value' 열의 합계, 평균, 최대값, 최소값을 계산하세요.\n",
        "\n",
        "import pandas as pd\n",
        "\n",
        "# 데이터프레임 생성\n",
        "df = pd.DataFrame({\n",
        "    \"Category\": [\"A\", \"B\", \"A\", \"B\", \"C\", \"A\", \"C\", \"B\", \"A\", \"C\"],\n",
        "    \"Value\": [10, 20, 30, 40, 50, 60, 70, 80, 90, 100]\n",
        "})"
      ],
      "metadata": {
        "id": "XGnElFFXp4Il"
      }
    },
    {
      "cell_type": "code",
      "source": [
        "import pandas as pd\n",
        "\n",
        "# 데이터프레임 생성\n",
        "df = pd.DataFrame({\n",
        "    \"Category\": [\"A\", \"B\", \"A\", \"B\", \"C\", \"A\", \"C\", \"B\", \"A\", \"C\"],\n",
        "    \"Value\": [10, 20, 30, 40, 50, 60, 70, 80, 90, 100]\n",
        "})\n",
        "\n",
        "# 'Category'별로 그룹화하여 각 그룹의 'Value' 열의 합계, 평균, 최대값, 최소값 계산\n",
        "grouped = df.groupby('Category')['Value'].agg(['sum', 'mean', 'max', 'min'])\n",
        "\n",
        "print(grouped)"
      ],
      "metadata": {
        "colab": {
          "base_uri": "https://localhost:8080/"
        },
        "id": "MivAq0dQp4Nt",
        "outputId": "a70ceeed-9bdf-4234-de1e-9bab530cedad"
      },
      "execution_count": 2,
      "outputs": [
        {
          "output_type": "stream",
          "name": "stdout",
          "text": [
            "          sum       mean  max  min\n",
            "Category                          \n",
            "A         190  47.500000   90   10\n",
            "B         140  46.666667   80   20\n",
            "C         220  73.333333  100   50\n"
          ]
        }
      ]
    },
    {
      "cell_type": "markdown",
      "source": [],
      "metadata": {
        "id": "5CHsh8dOp4S8"
      }
    },
    {
      "cell_type": "code",
      "source": [],
      "metadata": {
        "id": "cbzDs7X7p4Yc"
      },
      "execution_count": null,
      "outputs": []
    },
    {
      "cell_type": "markdown",
      "source": [],
      "metadata": {
        "id": "fJqhnT6vp4dN"
      }
    },
    {
      "cell_type": "code",
      "source": [],
      "metadata": {
        "id": "inzfp-qNp4h9"
      },
      "execution_count": null,
      "outputs": []
    },
    {
      "cell_type": "markdown",
      "source": [],
      "metadata": {
        "id": "kXrJDiQUp4mN"
      }
    },
    {
      "cell_type": "code",
      "source": [],
      "metadata": {
        "id": "yNkrRZhzp4rN"
      },
      "execution_count": null,
      "outputs": []
    },
    {
      "cell_type": "markdown",
      "source": [],
      "metadata": {
        "id": "jFt20tGvp4vc"
      }
    },
    {
      "cell_type": "code",
      "source": [],
      "metadata": {
        "id": "k9-UNCnPp41N"
      },
      "execution_count": null,
      "outputs": []
    },
    {
      "cell_type": "markdown",
      "source": [],
      "metadata": {
        "id": "KuKe3vpfp46N"
      }
    },
    {
      "cell_type": "code",
      "source": [],
      "metadata": {
        "id": "Ca4uf6tap5C1"
      },
      "execution_count": null,
      "outputs": []
    },
    {
      "cell_type": "markdown",
      "source": [],
      "metadata": {
        "id": "eabUAOugp5Hl"
      }
    },
    {
      "cell_type": "code",
      "source": [],
      "metadata": {
        "id": "SNsqlN8Np5M9"
      },
      "execution_count": null,
      "outputs": []
    },
    {
      "cell_type": "markdown",
      "source": [],
      "metadata": {
        "id": "kAMJ9_jDp5RV"
      }
    },
    {
      "cell_type": "code",
      "source": [],
      "metadata": {
        "id": "qbGyflF7p5Wl"
      },
      "execution_count": null,
      "outputs": []
    },
    {
      "cell_type": "markdown",
      "source": [],
      "metadata": {
        "id": "9BOo0QQip5a8"
      }
    },
    {
      "cell_type": "code",
      "source": [],
      "metadata": {
        "id": "Lq_NmBxwp6rF"
      },
      "execution_count": null,
      "outputs": []
    }
  ]
}