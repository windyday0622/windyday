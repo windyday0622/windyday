{
  "nbformat": 4,
  "nbformat_minor": 0,
  "metadata": {
    "colab": {
      "provenance": [],
      "authorship_tag": "ABX9TyMQYAujvvP5+DJYvDw8Z8aO",
      "include_colab_link": true
    },
    "kernelspec": {
      "name": "python3",
      "display_name": "Python 3"
    },
    "language_info": {
      "name": "python"
    }
  },
  "cells": [
    {
      "cell_type": "markdown",
      "metadata": {
        "id": "view-in-github",
        "colab_type": "text"
      },
      "source": [
        "<a href=\"https://colab.research.google.com/github/windyday0622/windyday/blob/main/m3_%EB%B6%84%EC%84%9D%20%EB%9D%BC%EC%9D%B4%EB%B8%8C%EB%9F%AC%EB%A6%AC/%20%EA%B3%BC%EC%A0%9C_240529.ipynb\" target=\"_parent\"><img src=\"https://colab.research.google.com/assets/colab-badge.svg\" alt=\"Open In Colab\"/></a>"
      ]
    },
    {
      "cell_type": "markdown",
      "source": [
        "Task1_0529. 주어진 DataFrame에서 'Category'별로 그룹화하여 각 그룹의 'Value' 열의 평균을 계산하세요.\n",
        "\n",
        "import pandas as pd\n",
        "\n",
        "# 데이터프레임 생성\n",
        "df = pd.DataFrame({\n",
        "    \"Category\": [\"A\", \"B\", \"A\", \"B\", \"C\", \"A\", \"C\", \"B\", \"A\", \"C\"],\n",
        "    \"Value\": [10, 20, 30, 40, 50, 60, 70, 80, 90, 100]\n",
        "})\n",
        "df.head()"
      ],
      "metadata": {
        "id": "mK1wfIwrp3Rd"
      }
    },
    {
      "cell_type": "code",
      "execution_count": 7,
      "metadata": {
        "colab": {
          "base_uri": "https://localhost:8080/"
        },
        "id": "mPsIMcpopxxw",
        "outputId": "d76945bc-3663-47d2-aa54-2e08809428da"
      },
      "outputs": [
        {
          "output_type": "stream",
          "name": "stdout",
          "text": [
            "Category\n",
            "A    47.500000\n",
            "B    46.666667\n",
            "C    73.333333\n",
            "Name: Value, dtype: float64\n"
          ]
        }
      ],
      "source": [
        "import pandas as pd\n",
        "\n",
        "df = pd.DataFrame({\n",
        "    \"Category\": [\"A\", \"B\", \"A\", \"B\", \"C\", \"A\", \"C\", \"B\", \"A\", \"C\"],\n",
        "    \"Value\": [10, 20, 30, 40, 50, 60, 70, 80, 90, 100]\n",
        "})\n",
        "\n",
        "category_means = df.groupby('Category')['Value'].mean()\n",
        "\n",
        "print(category_means)"
      ]
    },
    {
      "cell_type": "markdown",
      "source": [
        "Task2_0529. 주어진 DataFrame에서 'Category'별로 그룹화하여 각 그룹의 'Value' 열의 누적 합을 계산하세요.\n",
        "\n",
        "import pandas as pd\n",
        "\n",
        "# 데이터프레임 생성\n",
        "df = pd.DataFrame({\n",
        "    \"Category\": [\"A\", \"B\", \"A\", \"B\", \"C\", \"A\", \"C\", \"B\", \"A\", \"C\"],\n",
        "    \"Value\": [10, 20, 30, 40, 50, 60, 70, 80, 90, 100]\n",
        "})"
      ],
      "metadata": {
        "id": "dDO9vTqQp38M"
      }
    },
    {
      "cell_type": "code",
      "source": [
        "import pandas as pd\n",
        "\n",
        "df = pd.DataFrame({\n",
        "    \"Category\": [\"A\", \"B\", \"A\", \"B\", \"C\", \"A\", \"C\", \"B\", \"A\", \"C\"],\n",
        "    \"Value\": [10, 20, 30, 40, 50, 60, 70, 80, 90, 100]\n",
        "})\n",
        "\n",
        "df['Cumulative_Sum'] = df.groupby('Category')['Value'].cumsum()\n",
        "\n",
        "print(df)"
      ],
      "metadata": {
        "colab": {
          "base_uri": "https://localhost:8080/"
        },
        "id": "1ziuogJMp4Ds",
        "outputId": "7e673c41-e5fe-4d3c-a0f4-6a1356f5c6b9"
      },
      "execution_count": 8,
      "outputs": [
        {
          "output_type": "stream",
          "name": "stdout",
          "text": [
            "  Category  Value  Cumulative_Sum\n",
            "0        A     10              10\n",
            "1        B     20              20\n",
            "2        A     30              40\n",
            "3        B     40              60\n",
            "4        C     50              50\n",
            "5        A     60             100\n",
            "6        C     70             120\n",
            "7        B     80             140\n",
            "8        A     90             190\n",
            "9        C    100             220\n"
          ]
        }
      ]
    },
    {
      "cell_type": "markdown",
      "source": [
        "Task3_0529. 주어진 DataFrame에서 'Category'별로 그룹화하여 각 그룹의 'Value' 열의 합계, 평균, 최대값, 최소값을 계산하세요.\n",
        "\n",
        "import pandas as pd\n",
        "\n",
        "# 데이터프레임 생성\n",
        "df = pd.DataFrame({\n",
        "    \"Category\": [\"A\", \"B\", \"A\", \"B\", \"C\", \"A\", \"C\", \"B\", \"A\", \"C\"],\n",
        "    \"Value\": [10, 20, 30, 40, 50, 60, 70, 80, 90, 100]\n",
        "})"
      ],
      "metadata": {
        "id": "XGnElFFXp4Il"
      }
    },
    {
      "cell_type": "code",
      "source": [
        "import pandas as pd\n",
        "\n",
        "df = pd.DataFrame({\n",
        "    \"Category\": [\"A\", \"B\", \"A\", \"B\", \"C\", \"A\", \"C\", \"B\", \"A\", \"C\"],\n",
        "    \"Value\": [10, 20, 30, 40, 50, 60, 70, 80, 90, 100]\n",
        "})\n",
        "\n",
        "grouped = df.groupby('Category')['Value'].agg(['sum', 'mean', 'max', 'min'])\n",
        "\n",
        "print(grouped)"
      ],
      "metadata": {
        "colab": {
          "base_uri": "https://localhost:8080/"
        },
        "id": "rVOZYKFbW4nn",
        "outputId": "1cacaddd-525f-44d9-ac84-3bca9f6de529"
      },
      "execution_count": 9,
      "outputs": [
        {
          "output_type": "stream",
          "name": "stdout",
          "text": [
            "          sum       mean  max  min\n",
            "Category                          \n",
            "A         190  47.500000   90   10\n",
            "B         140  46.666667   80   20\n",
            "C         220  73.333333  100   50\n"
          ]
        }
      ]
    },
    {
      "cell_type": "markdown",
      "source": [
        "Task4_0529. 주어진 df에서 category별로 가장 자주 등장하는 value를 찾아서 새로운 열의 값으로 적용한 후 출력하세요.\n",
        "\n",
        "import pandas as pd\n",
        "\n",
        "# 예제 데이터프레임 생성\n",
        "data = {\n",
        "    'Category': ['A', 'A', 'B', 'B', 'A', 'B', 'B', 'A', 'B', 'A'],\n",
        "    'Value': [10, 15, 10, 20, 10, 30, 50, 10, 20, 15]\n",
        "}\n",
        "\n",
        "df = pd.DataFrame(data)\n",
        "df"
      ],
      "metadata": {
        "id": "5CHsh8dOp4S8"
      }
    },
    {
      "cell_type": "code",
      "source": [
        "import pandas as pd\n",
        "\n",
        "data = {\n",
        "    'Category': ['A', 'A', 'B', 'B', 'A', 'B', 'B', 'A', 'B', 'A'],\n",
        "    'Value': [10, 15, 10, 20, 10, 30, 50, 10, 20, 15]\n",
        "}\n",
        "\n",
        "df = pd.DataFrame(data)\n",
        "\n",
        "mode_values = df.groupby('Category')['Value'].agg(lambda x: x.mode()[0])\n",
        "\n",
        "df['Most_Frequent_Value'] = df['Category'].map(mode_values)\n",
        "\n",
        "print(df)"
      ],
      "metadata": {
        "colab": {
          "base_uri": "https://localhost:8080/"
        },
        "id": "cbzDs7X7p4Yc",
        "outputId": "28f7c924-ad44-408c-9e93-5f47589ba5af"
      },
      "execution_count": 10,
      "outputs": [
        {
          "output_type": "stream",
          "name": "stdout",
          "text": [
            "  Category  Value  Most_Frequent_Value\n",
            "0        A     10                   10\n",
            "1        A     15                   10\n",
            "2        B     10                   20\n",
            "3        B     20                   20\n",
            "4        A     10                   10\n",
            "5        B     30                   20\n",
            "6        B     50                   20\n",
            "7        A     10                   10\n",
            "8        B     20                   20\n",
            "9        A     15                   10\n"
          ]
        }
      ]
    },
    {
      "cell_type": "markdown",
      "source": [
        "Task5_0529. 주어진 데이터프레임에서 각 그룹별로 누적 평균을 계산하여 새로운 열로 추가한 후 출력하세요. 단 누적 평균은 그룹 내에서 각 요소까지의 평균을 계산한 것임\n",
        "\n",
        "import pandas as pd\n",
        "\n",
        "# 예제 데이터프레임 생성\n",
        "data = {\n",
        "    'Category': ['A', 'A', 'B', 'B', 'A', 'B', 'B', 'A', 'B', 'A'],\n",
        "    'Value': [10, 15, 10, 20, 10, 30, 50, 10, 20, 15]\n",
        "}\n",
        "\n",
        "df = pd.DataFrame(data)\n",
        "print(df)"
      ],
      "metadata": {
        "id": "kXrJDiQUp4mN"
      }
    },
    {
      "cell_type": "code",
      "source": [
        "import pandas as pd\n",
        "\n",
        "data = {\n",
        "    'Category': ['A', 'A', 'B', 'B', 'A', 'B', 'B', 'A', 'B', 'A'],\n",
        "    'Value': [10, 15, 10, 20, 10, 30, 50, 10, 20, 15]\n",
        "}\n",
        "\n",
        "df = pd.DataFrame(data)\n",
        "\n",
        "df['Cumulative_Average'] = df.groupby('Category')['Value'].expanding().mean().reset_index(level=0, drop=True)\n",
        "\n",
        "print(df)"
      ],
      "metadata": {
        "colab": {
          "base_uri": "https://localhost:8080/"
        },
        "id": "yNkrRZhzp4rN",
        "outputId": "a326a575-3e71-4486-857e-a7d6f3a7031c"
      },
      "execution_count": 11,
      "outputs": [
        {
          "output_type": "stream",
          "name": "stdout",
          "text": [
            "  Category  Value  Cumulative_Average\n",
            "0        A     10           10.000000\n",
            "1        A     15           12.500000\n",
            "2        B     10           10.000000\n",
            "3        B     20           15.000000\n",
            "4        A     10           11.666667\n",
            "5        B     30           20.000000\n",
            "6        B     50           27.500000\n",
            "7        A     10           11.250000\n",
            "8        B     20           26.000000\n",
            "9        A     15           12.000000\n"
          ]
        }
      ]
    },
    {
      "cell_type": "markdown",
      "source": [
        "Task6_0529. 주어진 Series의 각 값에 대해 2배로 변환하는 함수를 적용하여 값을 변환하세요.\n",
        "\n",
        "import pandas as pd\n",
        "\n",
        "# Series 생성\n",
        "s = pd.Series([1, 2, 3, 4, 5])"
      ],
      "metadata": {
        "id": "jFt20tGvp4vc"
      }
    },
    {
      "cell_type": "code",
      "source": [
        "import pandas as pd\n",
        "\n",
        "s = pd.Series([1, 2, 3, 4, 5])\n",
        "\n",
        "s_transformed = s.apply(lambda x: x * 2)\n",
        "\n",
        "print(s_transformed)"
      ],
      "metadata": {
        "colab": {
          "base_uri": "https://localhost:8080/"
        },
        "id": "k9-UNCnPp41N",
        "outputId": "93a816ee-b538-48e8-888e-e294f0c8e573"
      },
      "execution_count": 1,
      "outputs": [
        {
          "output_type": "stream",
          "name": "stdout",
          "text": [
            "0     2\n",
            "1     4\n",
            "2     6\n",
            "3     8\n",
            "4    10\n",
            "dtype: int64\n"
          ]
        }
      ]
    },
    {
      "cell_type": "markdown",
      "source": [
        "Task7_0529. 주어진 DataFrame의 특정 열에 대해 map을 사용하여 등급을 부여하는 함수를 적용하여 변환을 수행하세요.\n",
        "\n",
        "import pandas as pd\n",
        "\n",
        "# 데이터프레임 생성\n",
        "df = pd.DataFrame({\n",
        "    \"Name\": [\"Alice\", \"Bob\", \"Charlie\", \"David\", \"Eve\"],\n",
        "    \"Score\": [85, 90, 95, 80, 75]\n",
        "})"
      ],
      "metadata": {
        "id": "KuKe3vpfp46N"
      }
    },
    {
      "cell_type": "code",
      "source": [
        "import pandas as pd\n",
        "\n",
        "def assign_grade(score):\n",
        "    if score >= 90:\n",
        "        return 'A'\n",
        "    elif score >= 80:\n",
        "        return 'B'\n",
        "    elif score >= 70:\n",
        "        return 'C'\n",
        "    elif score >= 60:\n",
        "        return 'D'\n",
        "    else:\n",
        "        return 'F'\n",
        "\n",
        "df = pd.DataFrame({\n",
        "    \"Name\": [\"Alice\", \"Bob\", \"Charlie\", \"David\", \"Eve\"],\n",
        "    \"Score\": [85, 90, 95, 80, 75]\n",
        "})\n",
        "\n",
        "df[\"Grade\"] = df[\"Score\"].map(assign_grade)\n",
        "\n",
        "print(df)"
      ],
      "metadata": {
        "colab": {
          "base_uri": "https://localhost:8080/"
        },
        "id": "Ca4uf6tap5C1",
        "outputId": "b5216ef0-f0ad-4c76-beee-c2d44e93ced3"
      },
      "execution_count": 2,
      "outputs": [
        {
          "output_type": "stream",
          "name": "stdout",
          "text": [
            "      Name  Score Grade\n",
            "0    Alice     85     B\n",
            "1      Bob     90     A\n",
            "2  Charlie     95     A\n",
            "3    David     80     B\n",
            "4      Eve     75     C\n"
          ]
        }
      ]
    },
    {
      "cell_type": "markdown",
      "source": [
        "Task8_0529. 주어진 DataFrame의 특정 열에 대해 각 요소에 제곱하는 함수를 적용하여 새로운 열을 생성하세요.\n",
        "\n",
        "import pandas as pd\n",
        "\n",
        "# 데이터프레임 생성\n",
        "df = pd.DataFrame({\n",
        "    \"Numbers\": [1, 2, 3, 4, 5]\n",
        "})"
      ],
      "metadata": {
        "id": "eabUAOugp5Hl"
      }
    },
    {
      "cell_type": "code",
      "source": [
        "import pandas as pd\n",
        "\n",
        "df = pd.DataFrame({ \"Numbers\": [1, 2, 3, 4, 5] })\n",
        "\n",
        "def square(x):\n",
        "    return x ** 2\n",
        "\n",
        "df[\"Squared_Numbers\"] = df[\"Numbers\"].apply(square)\n",
        "\n",
        "print(df)"
      ],
      "metadata": {
        "colab": {
          "base_uri": "https://localhost:8080/"
        },
        "id": "SNsqlN8Np5M9",
        "outputId": "b07a95eb-f45d-4f0d-ef31-9467dfacec39"
      },
      "execution_count": 3,
      "outputs": [
        {
          "output_type": "stream",
          "name": "stdout",
          "text": [
            "   Numbers  Squared_Numbers\n",
            "0        1                1\n",
            "1        2                4\n",
            "2        3                9\n",
            "3        4               16\n",
            "4        5               25\n"
          ]
        }
      ]
    },
    {
      "cell_type": "markdown",
      "source": [
        "Task9_0529. 주어진 DataFrame의 여러 열에 대해 각 열의 값을 합하는 함수를 적용하여 새로운 열을 생성한 후 출력하세요.\n",
        "\n",
        "import pandas as pd\n",
        "\n",
        "# 데이터프레임 생성\n",
        "df = pd.DataFrame({\n",
        "    \"A\": [1, 2, 3, 4, 5],\n",
        "    \"B\": [10, 20, 30, 40, 50]\n",
        "})\n",
        "df"
      ],
      "metadata": {
        "id": "kAMJ9_jDp5RV"
      }
    },
    {
      "cell_type": "code",
      "source": [
        "import pandas as pd\n",
        "\n",
        "df = pd.DataFrame({\"A\": [1, 2, 3, 4, 5], \"B\": [10, 20, 30, 40, 50]})\n",
        "\n",
        "df['A_sum'] = df['A'].sum()\n",
        "df['B_sum'] = df['B'].sum()\n",
        "\n",
        "print(df)"
      ],
      "metadata": {
        "colab": {
          "base_uri": "https://localhost:8080/"
        },
        "id": "qbGyflF7p5Wl",
        "outputId": "c9340c04-8760-4662-84a3-388e6e9f365a"
      },
      "execution_count": 4,
      "outputs": [
        {
          "output_type": "stream",
          "name": "stdout",
          "text": [
            "   A   B  A_sum  B_sum\n",
            "0  1  10     15    150\n",
            "1  2  20     15    150\n",
            "2  3  30     15    150\n",
            "3  4  40     15    150\n",
            "4  5  50     15    150\n"
          ]
        }
      ]
    },
    {
      "cell_type": "markdown",
      "source": [
        "Task10_0529. 주어진 DataFrame의 각 요소에 대해 10보다 크면 2배, 그렇지 않으면 원래의 수를 반영하는 함수를 적용하여 값을 변환하세요.\n",
        "\n",
        "import pandas as pd\n",
        "\n",
        "# 데이터프레임 생성\n",
        "df = pd.DataFrame({\n",
        "    \"Values\": [5, 10, 15, 20, 25]\n",
        "})"
      ],
      "metadata": {
        "id": "9BOo0QQip5a8"
      }
    },
    {
      "cell_type": "markdown",
      "source": [
        "Task11_0529. 주어진 DataFrame에서 특정 열을 그룹화한 후 각 그룹에 대해 그룹별로 평균 값을 계산하는 함수를 적용하여 새로운 열을 생성하여 출력하세요.\n",
        "\n",
        "import pandas as pd\n",
        "\n",
        "# 데이터프레임 생성\n",
        "df = pd.DataFrame({\n",
        "    \"Category\": [\"A\", \"B\", \"A\", \"B\", \"C\", \"A\", \"C\", \"B\", \"A\", \"C\"],\n",
        "    \"Value\": [10, 20, 30, 40, 50, 60, 70, 80, 90, 100]\n",
        "})"
      ],
      "metadata": {
        "id": "b0zCjr8k5pf_"
      }
    },
    {
      "cell_type": "code",
      "source": [
        "import pandas as pd\n",
        "\n",
        "df = pd.DataFrame({\n",
        "    \"Category\": [\"A\", \"B\", \"A\", \"B\", \"C\", \"A\", \"C\", \"B\", \"A\", \"C\"],\n",
        "    \"Value\": [10, 20, 30, 40, 50, 60, 70, 80, 90, 100]\n",
        "})\n",
        "\n",
        "df['Mean_Value'] = df.groupby('Category')['Value'].transform('mean')\n",
        "\n",
        "print(df)"
      ],
      "metadata": {
        "colab": {
          "base_uri": "https://localhost:8080/"
        },
        "id": "Lq_NmBxwp6rF",
        "outputId": "035595da-764d-41e7-cb9c-94d2a1a0a34d"
      },
      "execution_count": 5,
      "outputs": [
        {
          "output_type": "stream",
          "name": "stdout",
          "text": [
            "  Category  Value  Mean_Value\n",
            "0        A     10   47.500000\n",
            "1        B     20   46.666667\n",
            "2        A     30   47.500000\n",
            "3        B     40   46.666667\n",
            "4        C     50   73.333333\n",
            "5        A     60   47.500000\n",
            "6        C     70   73.333333\n",
            "7        B     80   46.666667\n",
            "8        A     90   47.500000\n",
            "9        C    100   73.333333\n"
          ]
        }
      ]
    },
    {
      "cell_type": "markdown",
      "source": [
        "Task12_0529. 주어진 DataFrame의 특정 열에 대해 제곱과 제곱근을 계산하는 함수들을 동시에 적용하여 새로운 열을 생성한 후 출력하세요.\n",
        "\n",
        "import pandas as pd\n",
        "\n",
        "# 데이터프레임 생성\n",
        "df = pd.DataFrame({\n",
        "    \"Numbers\": [1, 2, 3, 4, 5]\n",
        "})"
      ],
      "metadata": {
        "id": "i2mEv91f5qeI"
      }
    },
    {
      "cell_type": "code",
      "source": [
        "import pandas as pd\n",
        "import numpy as np\n",
        "\n",
        "df = pd.DataFrame({ \"Numbers\": [1, 2, 3, 4, 5] })\n",
        "\n",
        "df['Squared'] = df['Numbers'] ** 2\n",
        "df['Square Root'] = np.sqrt(df['Numbers'])\n",
        "\n",
        "print(df)"
      ],
      "metadata": {
        "colab": {
          "base_uri": "https://localhost:8080/"
        },
        "id": "xztsdvfF5oTw",
        "outputId": "006f2a33-ff30-4bad-91e1-8d9fe7934b24"
      },
      "execution_count": 6,
      "outputs": [
        {
          "output_type": "stream",
          "name": "stdout",
          "text": [
            "   Numbers  Squared  Square Root\n",
            "0        1        1     1.000000\n",
            "1        2        4     1.414214\n",
            "2        3        9     1.732051\n",
            "3        4       16     2.000000\n",
            "4        5       25     2.236068\n"
          ]
        }
      ]
    },
    {
      "cell_type": "markdown",
      "source": [
        "Task13_0529. 주어진 DataFrame의 각 요소에 대해 제곱하는 함수를 적용하여 값을 변환하세요.\n",
        "\n",
        "import pandas as pd\n",
        "\n",
        "# 데이터프레임 생성\n",
        "df = pd.DataFrame({\n",
        "    \"A\": [1, 2, 3],\n",
        "    \"B\": [4, 5, 6],\n",
        "    \"C\": [7, 8, 9]\n",
        "})"
      ],
      "metadata": {
        "id": "64GcChsL5rLP"
      }
    },
    {
      "cell_type": "code",
      "source": [
        "import pandas as pd\n",
        "\n",
        "df = pd.DataFrame({\"A\": [1, 2, 3], \"B\": [4, 5, 6], \"C\": [7, 8, 9] })\n",
        "\n",
        "df_squared = df.applymap(lambda x: x ** 2)\n",
        "\n",
        "print(df_squared)"
      ],
      "metadata": {
        "colab": {
          "base_uri": "https://localhost:8080/"
        },
        "id": "VbD-lCpJ5oWY",
        "outputId": "ff68609a-b692-46e6-d3ed-a364c6ab8d72"
      },
      "execution_count": 7,
      "outputs": [
        {
          "output_type": "stream",
          "name": "stdout",
          "text": [
            "   A   B   C\n",
            "0  1  16  49\n",
            "1  4  25  64\n",
            "2  9  36  81\n"
          ]
        }
      ]
    },
    {
      "cell_type": "markdown",
      "source": [
        "Task14_0529. 주어진 데이터프레임에서 각 그룹별로 Value 열을 표준화하여 새로운 열로 추가하여 출력하세요.(apply, transform 두가지 적용)\n",
        "\n",
        "import pandas as pd\n",
        "\n",
        "# 예제 데이터프레임 생성\n",
        "data = {\n",
        "    'Category': ['A', 'A', 'B', 'B', 'A', 'B', 'B', 'A', 'B', 'A'],\n",
        "    'Value': [10, 15, 10, 20, 10, 30, 50, 10, 20, 15]\n",
        "}\n",
        "\n",
        "df = pd.DataFrame(data)\n",
        "print(\"Original DataFrame:\")\n",
        "print(df)"
      ],
      "metadata": {
        "id": "Bx43iMtv5sGo"
      }
    },
    {
      "cell_type": "code",
      "source": [
        "import pandas as pd\n",
        "\n",
        "# 예제 데이터프레임 생성\n",
        "data = {'Category': ['A', 'A', 'B', 'B', 'A', 'B', 'B', 'A', 'B', 'A'],\n",
        "        'Value': [10, 15, 10, 20, 10, 30, 50, 10, 20, 15]}\n",
        "\n",
        "df = pd.DataFrame(data)\n",
        "print(\"Original DataFrame:\")\n",
        "print(df)\n",
        "\n",
        "df['Standardized_Apply'] = df.groupby('Category')['Value'].apply(lambda x: (x - x.mean()) / x.std()).reset_index(drop=True)\n",
        "\n",
        "df['Standardized_Transform'] = df.groupby('Category')['Value'].transform(lambda x: (x - x.mean()) / x.std())\n",
        "\n",
        "print(\"\\nDataFrame with Standardized Values:\")\n",
        "print(df)"
      ],
      "metadata": {
        "colab": {
          "base_uri": "https://localhost:8080/"
        },
        "id": "tP4GN18y5oX3",
        "outputId": "88864386-4e6c-485c-efb5-7184279a93ba"
      },
      "execution_count": 9,
      "outputs": [
        {
          "output_type": "stream",
          "name": "stdout",
          "text": [
            "Original DataFrame:\n",
            "  Category  Value\n",
            "0        A     10\n",
            "1        A     15\n",
            "2        B     10\n",
            "3        B     20\n",
            "4        A     10\n",
            "5        B     30\n",
            "6        B     50\n",
            "7        A     10\n",
            "8        B     20\n",
            "9        A     15\n",
            "\n",
            "DataFrame with Standardized Values:\n",
            "  Category  Value  Standardized_Apply  Standardized_Transform\n",
            "0        A     10           -0.730297               -0.730297\n",
            "1        A     15            1.095445                1.095445\n",
            "2        B     10           -0.730297               -1.055009\n",
            "3        B     20           -0.730297               -0.395628\n",
            "4        A     10            1.095445               -0.730297\n",
            "5        B     30           -1.055009                0.263752\n",
            "6        B     50           -0.395628                1.582513\n",
            "7        A     10            0.263752               -0.730297\n",
            "8        B     20            1.582513               -0.395628\n",
            "9        A     15           -0.395628                1.095445\n"
          ]
        }
      ]
    }
  ]
}