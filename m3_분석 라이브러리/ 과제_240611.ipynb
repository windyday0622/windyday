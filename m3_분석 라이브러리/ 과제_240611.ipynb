{
  "nbformat": 4,
  "nbformat_minor": 0,
  "metadata": {
    "colab": {
      "provenance": [],
      "authorship_tag": "ABX9TyO/k9dM83Wks2leanf/hotD",
      "include_colab_link": true
    },
    "kernelspec": {
      "name": "python3",
      "display_name": "Python 3"
    },
    "language_info": {
      "name": "python"
    }
  },
  "cells": [
    {
      "cell_type": "markdown",
      "metadata": {
        "id": "view-in-github",
        "colab_type": "text"
      },
      "source": [
        "<a href=\"https://colab.research.google.com/github/windyday0622/windyday/blob/main/m3_%EB%B6%84%EC%84%9D%20%EB%9D%BC%EC%9D%B4%EB%B8%8C%EB%9F%AC%EB%A6%AC/%20%EA%B3%BC%EC%A0%9C_240611.ipynb\" target=\"_parent\"><img src=\"https://colab.research.google.com/assets/colab-badge.svg\" alt=\"Open In Colab\"/></a>"
      ]
    },
    {
      "cell_type": "markdown",
      "source": [
        "Task1_0611. 주어진 대각 행렬의 역행렬을 구하고, 역행렬이 맞는지 확인하세요.\n",
        "\n",
        "D = np.diag([1, 2, 3])"
      ],
      "metadata": {
        "id": "uQhjChKWr8C5"
      }
    },
    {
      "cell_type": "code",
      "execution_count": 2,
      "metadata": {
        "colab": {
          "base_uri": "https://localhost:8080/"
        },
        "id": "h7VJnJLrr7bW",
        "outputId": "484a419a-c8fa-45d4-884d-050bb76b1116"
      },
      "outputs": [
        {
          "output_type": "stream",
          "name": "stdout",
          "text": [
            "D:\n",
            "[[1 0 0]\n",
            " [0 2 0]\n",
            " [0 0 3]]\n",
            "\n",
            "D의 역행렬 D_inv:\n",
            "[[1.         0.         0.        ]\n",
            " [0.         0.5        0.        ]\n",
            " [0.         0.         0.33333333]]\n",
            "\n",
            "D와 D_inv의 곱:\n",
            "[[1. 0. 0.]\n",
            " [0. 1. 0.]\n",
            " [0. 0. 1.]]\n"
          ]
        }
      ],
      "source": [
        "import numpy as np\n",
        "\n",
        "D = np.diag([1, 2, 3])\n",
        "\n",
        "D_inv = np.linalg.inv(D)\n",
        "\n",
        "identity_check = np.dot(D, D_inv)\n",
        "\n",
        "print(\"D:\")\n",
        "print(D)\n",
        "print(\"\\nD의 역행렬 D_inv:\")\n",
        "print(D_inv)\n",
        "print(\"\\nD와 D_inv의 곱:\")\n",
        "print(identity_check)"
      ]
    },
    {
      "cell_type": "markdown",
      "source": [
        "Task2_0611. 임의의 상삼각 행렬을 생성하고, 그 행렬로 부터 하삼각 행렬을 구하여 출력하세요."
      ],
      "metadata": {
        "id": "0sMBLnOkr9W5"
      }
    },
    {
      "cell_type": "code",
      "source": [
        "import numpy as np\n",
        "\n",
        "# 임의의 자연수를 사용하여 상삼각 행렬 생성\n",
        "def generate_upper_triangular_matrix(n):\n",
        "    # 1부터 100까지의 자연수로 n x n 행렬 생성\n",
        "    matrix = np.random.randint(1, 101, size=(n, n))\n",
        "    # 상삼각 행렬로 변환\n",
        "    upper_triangular_matrix = np.triu(matrix)\n",
        "    return upper_triangular_matrix\n",
        "\n",
        "# 상삼각 행렬로부터 하삼각 행렬 추출\n",
        "def extract_lower_triangular_matrix(matrix):\n",
        "    lower_triangular_matrix = np.tril(matrix)\n",
        "    return lower_triangular_matrix\n",
        "\n",
        "# 행렬 크기 지정\n",
        "n = 4\n",
        "\n",
        "# 상삼각 행렬 생성\n",
        "upper_triangular_matrix = generate_upper_triangular_matrix(n)\n",
        "print(\"상삼각 행렬:\")\n",
        "print(upper_triangular_matrix)\n",
        "\n",
        "# 하삼각 행렬 추출\n",
        "lower_triangular_matrix = extract_lower_triangular_matrix(upper_triangular_matrix)\n",
        "print(\"\\n하삼각 행렬:\")\n",
        "print(lower_triangular_matrix)"
      ],
      "metadata": {
        "colab": {
          "base_uri": "https://localhost:8080/"
        },
        "id": "7sG1w_q3r9f5",
        "outputId": "f77f40ae-398d-46bf-d4e6-402f27ef92f0"
      },
      "execution_count": 9,
      "outputs": [
        {
          "output_type": "stream",
          "name": "stdout",
          "text": [
            "상삼각 행렬:\n",
            "[[ 63 100  52  87]\n",
            " [  0  69  23  37]\n",
            " [  0   0  62  27]\n",
            " [  0   0   0  64]]\n",
            "\n",
            "하삼각 행렬:\n",
            "[[63  0  0  0]\n",
            " [ 0 69  0  0]\n",
            " [ 0  0 62  0]\n",
            " [ 0  0  0 64]]\n"
          ]
        }
      ]
    },
    {
      "cell_type": "markdown",
      "source": [
        "Task3_0611. 주어진 행렬의 역행렬을 구하고, 역행렬이 맞는지 확인하세요.\n",
        "\n",
        "A = np.array([[4, 7], [2, 6]])"
      ],
      "metadata": {
        "id": "S1BiTJwEr9mh"
      }
    },
    {
      "cell_type": "code",
      "source": [
        "import numpy as np\n",
        "\n",
        "# 행렬 A 정의\n",
        "A = np.array([[4, 7], [2, 6]])\n",
        "\n",
        "# A의 역행렬 계산\n",
        "A_inv = np.linalg.inv(A)\n",
        "\n",
        "# A_inv가 A의 역행렬인지 확인 (A @ A_inv가 단위 행렬인지 확인)\n",
        "identity_check = np.allclose(np.dot(A, A_inv), np.eye(A.shape[0]))\n",
        "\n",
        "print(\"A의 역행렬:\")\n",
        "print(A_inv)\n",
        "print(\"역행렬 확인 결과:\", identity_check)"
      ],
      "metadata": {
        "colab": {
          "base_uri": "https://localhost:8080/"
        },
        "id": "WqQ3Z1ghr9tp",
        "outputId": "e57675d8-ee17-4793-cfba-954fe7819909"
      },
      "execution_count": 6,
      "outputs": [
        {
          "output_type": "stream",
          "name": "stdout",
          "text": [
            "A의 역행렬:\n",
            "[[ 0.6 -0.7]\n",
            " [-0.2  0.4]]\n",
            "역행렬 확인 결과: True\n"
          ]
        }
      ]
    },
    {
      "cell_type": "markdown",
      "source": [
        "Task4_0611. 주어진 데이터 포인트와 모델 파라미터를 사용하여 선형 회귀 모델의 예측값을 계산하세요.\n",
        "\n",
        "X = np.array([1, 2, 3])\n",
        "\n",
        "- 1단계 : 주어진 입력 데이터 포인트 X와 모델 파라미터 θ를 정의.\n",
        "- 2단계 : 행렬 곱을 사용하여 예측값 y를 계산."
      ],
      "metadata": {
        "id": "7l3Bvrrtr9yx"
      }
    },
    {
      "cell_type": "code",
      "source": [
        "import numpy as np\n",
        "\n",
        "# 1단계: 주어진 입력 데이터 포인트 X와 모델 파라미터 θ를 정의\n",
        "X = np.array([1, 2, 3])\n",
        "theta = np.array([0.5, 1.5, 2.5])\n",
        "\n",
        "# 2단계: 행렬 곱을 사용하여 예측값 y를 계산\n",
        "y = np.dot(X, theta)\n",
        "\n",
        "print(\"입력 데이터 X:\", X)\n",
        "print(\"모델 파라미터 θ:\", theta)\n",
        "print(\"예측값 y:\", y)"
      ],
      "metadata": {
        "colab": {
          "base_uri": "https://localhost:8080/"
        },
        "id": "ASbpiVcdr97Z",
        "outputId": "6e97d3b3-c89c-4a74-cd2c-9c2ad4c7350e"
      },
      "execution_count": 5,
      "outputs": [
        {
          "output_type": "stream",
          "name": "stdout",
          "text": [
            "입력 데이터 X: [1 2 3]\n",
            "모델 파라미터 θ: [0.5 1.5 2.5]\n",
            "예측값 y: 11.0\n"
          ]
        }
      ]
    },
    {
      "cell_type": "markdown",
      "source": [
        "Task5_0611. 주어진 입력 벡터와 가중치 행렬을 사용하여 신경망의 단일 계층 출력을 계산하세요.\n",
        "X = np.array([0.5, 1.0, -1.5])\n",
        "- 1단계: 입력 벡터 X와 가중치 행렬 W를 정의.\n",
        "- 2단계: 행렬 곱을 사용하여 계층의 출력을 계산."
      ],
      "metadata": {
        "id": "glKpMoAQr-Bx"
      }
    },
    {
      "cell_type": "code",
      "source": [
        "import numpy as np\n",
        "\n",
        "# 입력 벡터 X\n",
        "X = np.array([0.5, 1.0, -1.5])\n",
        "\n",
        "# 가중치 행렬 W (예시로 3x2 행렬을 사용)\n",
        "W = np.array([\n",
        "    [0.2, -0.3],\n",
        "    [0.4, 0.1],\n",
        "    [-0.5, 0.2]\n",
        "])\n",
        "\n",
        "# 계층의 출력 계산\n",
        "output = np.dot(X, W)\n",
        "\n",
        "print(output)"
      ],
      "metadata": {
        "colab": {
          "base_uri": "https://localhost:8080/"
        },
        "id": "xQBQ_Kgmr-HB",
        "outputId": "73f4822a-1ea6-4bb9-a937-e3e02f5895d0"
      },
      "execution_count": 4,
      "outputs": [
        {
          "output_type": "stream",
          "name": "stdout",
          "text": [
            "[ 1.25 -0.35]\n"
          ]
        }
      ]
    },
    {
      "cell_type": "markdown",
      "source": [
        "Task6_0611. 주어진 입력 벡터에 대해 신경망의 활성화 함수(ReLU, 시그모이드)를 적용하여 출력을 계산하세요.\n",
        "\n",
        "X = np.array([1, -2, 3])\n",
        "\n",
        "- 1단계: 입력 벡터 X를 정의.\n",
        "- 2단계: 가중치 행렬 W와 편향 벡터 b를 정의.\n",
        "- 3단계: 활성화 함수(ReLU, 시그모이드)를 적용하여 출력을 계산\n",
        "활성화 함수 적용<br>\n",
        "output_relu = relu(Z)<br>\n",
        "output_sigmoid = sigmoid(Z)"
      ],
      "metadata": {
        "id": "pSwiX3Jjr-R5"
      }
    },
    {
      "cell_type": "code",
      "source": [
        "import numpy as np\n",
        "\n",
        "# 입력 벡터 X를 정의\n",
        "X = np.array([1, -2, 3])\n",
        "\n",
        "# 가중치 행렬 W와 편향 벡터 b를 정의\n",
        "W = np.array([[0.2, -0.5, 1.0],\n",
        "              [1.5, -1.0, 0.5],\n",
        "              [-0.3, 0.8, -1.2]])\n",
        "\n",
        "b = np.array([0.5, -0.5, 0.0])\n",
        "\n",
        "# 활성화 함수(ReLU, 시그모이드)를 정의\n",
        "def relu(z):\n",
        "    return np.maximum(0, z)\n",
        "\n",
        "def sigmoid(z):\n",
        "    return 1 / (1 + np.exp(-z))\n",
        "\n",
        "# 선형 변환 Z 계산\n",
        "Z = np.dot(W, X) + b\n",
        "\n",
        "# 활성화 함수 적용\n",
        "output_relu = relu(Z)\n",
        "output_sigmoid = sigmoid(Z)\n",
        "\n",
        "print(\"Output with ReLU:\", output_relu)\n",
        "print(\"Output with Sigmoid:\", output_sigmoid)"
      ],
      "metadata": {
        "colab": {
          "base_uri": "https://localhost:8080/"
        },
        "id": "86IPjdTQr-Yp",
        "outputId": "5a5a893a-1917-4206-ca28-a11dce59b985"
      },
      "execution_count": 3,
      "outputs": [
        {
          "output_type": "stream",
          "name": "stdout",
          "text": [
            "Output with ReLU: [4.7 4.5 0. ]\n",
            "Output with Sigmoid: [0.9909867  0.98901306 0.00407014]\n"
          ]
        }
      ]
    },
    {
      "cell_type": "markdown",
      "source": [
        "Task7_0611. 주어진 선형 방정식을 행렬 형태로 나타내고, 역행렬을 사용하여\n",
        "x와 y를 구하세요.\n",
        "\n",
        "$\\begin{cases}\n",
        "3x + 4y = 10 \\\\\n",
        "2x + y = 5\n",
        "\\end{cases}$\n",
        "\n",
        "단계:\n",
        "1. 계수 행렬 A와 결과 벡터 b를 정의.\n",
        "2. 행렬 A의 역행렬을 구한다.\n",
        "3. 역행렬을 사용하여 변수 x를 구한다."
      ],
      "metadata": {
        "id": "0xT89vwXJ-E5"
      }
    },
    {
      "cell_type": "code",
      "source": [
        "import numpy as np\n",
        "\n",
        "A = np.array([[3, 4], [2, 1]])\n",
        "\n",
        "B = np.array([[10], [5]])\n",
        "\n",
        "A_inv = np.linalg.inv(A)\n",
        "\n",
        "X = np.dot(A_inv, B)\n",
        "\n",
        "print(\"x =\", X[0][0])\n",
        "print(\"y =\", X[1][0])"
      ],
      "metadata": {
        "colab": {
          "base_uri": "https://localhost:8080/"
        },
        "id": "rexdtN5dJ-MZ",
        "outputId": "91ba949d-4a45-488c-f62f-f58202b3a99e"
      },
      "execution_count": 10,
      "outputs": [
        {
          "output_type": "stream",
          "name": "stdout",
          "text": [
            "x = 2.0\n",
            "y = 0.9999999999999998\n"
          ]
        }
      ]
    },
    {
      "cell_type": "markdown",
      "source": [
        "Task8_0611. 주어진 2D 평면의 점을 특정 변환 행렬을 사용하여 변환한 후, 변환된 좌표를 원래 좌표로 되돌리세요.\n",
        "\n",
        "원래 점의 좌표 p와 변환 행렬 T 정의<br>\n",
        "p = np.array([1, 2])<br>\n",
        "T = np.array([[2, 0], [0, 3]])\n",
        "\n",
        "단계\n",
        "1. 원래 점의 좌표 p와 변환 행렬 T를 정의.\n",
        "2. 변환 행렬 T를 사용하여 새로운 좌표 p를 계산.\n",
        "3. 변환 행렬 T의 역행렬을 사용하여 새로운 좌표 p에서 원래 좌표 p를 복원."
      ],
      "metadata": {
        "id": "7j1H0Xz2KIua"
      }
    },
    {
      "cell_type": "code",
      "source": [
        "import numpy as np\n",
        "\n",
        "p = np.array([1, 2])\n",
        "T = np.array([[2, 0], [0, 3]])\n",
        "\n",
        "transformed_p = np.dot(T, p)\n",
        "\n",
        "print(\"변환된 좌표:\", transformed_p)\n",
        "\n",
        "inverse_T = np.linalg.inv(T)\n",
        "restored_p = np.dot(inverse_T, transformed_p)\n",
        "\n",
        "print(\"복원된 좌표:\", restored_p)"
      ],
      "metadata": {
        "colab": {
          "base_uri": "https://localhost:8080/"
        },
        "id": "XBgqFcOxKI0S",
        "outputId": "f5e8cc11-b9fa-465e-f1fd-1fc683fed56d"
      },
      "execution_count": 11,
      "outputs": [
        {
          "output_type": "stream",
          "name": "stdout",
          "text": [
            "변환된 좌표: [2 6]\n",
            "복원된 좌표: [1. 2.]\n"
          ]
        }
      ]
    }
  ]
}