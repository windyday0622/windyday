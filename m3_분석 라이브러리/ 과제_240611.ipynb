{
  "nbformat": 4,
  "nbformat_minor": 0,
  "metadata": {
    "colab": {
      "provenance": [],
      "authorship_tag": "ABX9TyNi4FO/chC2o+e1FBkJcIRL",
      "include_colab_link": true
    },
    "kernelspec": {
      "name": "python3",
      "display_name": "Python 3"
    },
    "language_info": {
      "name": "python"
    }
  },
  "cells": [
    {
      "cell_type": "markdown",
      "metadata": {
        "id": "view-in-github",
        "colab_type": "text"
      },
      "source": [
        "<a href=\"https://colab.research.google.com/github/windyday0622/windyday/blob/main/m3_%EB%B6%84%EC%84%9D%20%EB%9D%BC%EC%9D%B4%EB%B8%8C%EB%9F%AC%EB%A6%AC/%20%EA%B3%BC%EC%A0%9C_240611.ipynb\" target=\"_parent\"><img src=\"https://colab.research.google.com/assets/colab-badge.svg\" alt=\"Open In Colab\"/></a>"
      ]
    },
    {
      "cell_type": "markdown",
      "source": [
        "Task1_0611. 주어진 대각 행렬의 역행렬을 구하고, 역행렬이 맞는지 확인하세요.\n",
        "\n",
        "D = np.diag([1, 2, 3])"
      ],
      "metadata": {
        "id": "uQhjChKWr8C5"
      }
    },
    {
      "cell_type": "code",
      "execution_count": null,
      "metadata": {
        "id": "h7VJnJLrr7bW"
      },
      "outputs": [],
      "source": []
    },
    {
      "cell_type": "markdown",
      "source": [
        "Task2_0611. 임의의 상삼각 행렬을 생성하고, 그 행렬로 부터 하삼각 행렬을 구하여 출력하세요."
      ],
      "metadata": {
        "id": "0sMBLnOkr9W5"
      }
    },
    {
      "cell_type": "code",
      "source": [],
      "metadata": {
        "id": "7sG1w_q3r9f5"
      },
      "execution_count": null,
      "outputs": []
    },
    {
      "cell_type": "markdown",
      "source": [
        "Task3_0611. 주어진 행렬의 역행렬을 구하고, 역행렬이 맞는지 확인하세요.\n",
        "\n",
        "A = np.array([[4, 7], [2, 6]])"
      ],
      "metadata": {
        "id": "S1BiTJwEr9mh"
      }
    },
    {
      "cell_type": "code",
      "source": [],
      "metadata": {
        "id": "WqQ3Z1ghr9tp"
      },
      "execution_count": null,
      "outputs": []
    },
    {
      "cell_type": "markdown",
      "source": [],
      "metadata": {
        "id": "7l3Bvrrtr9yx"
      }
    },
    {
      "cell_type": "code",
      "source": [],
      "metadata": {
        "id": "ASbpiVcdr97Z"
      },
      "execution_count": null,
      "outputs": []
    },
    {
      "cell_type": "markdown",
      "source": [],
      "metadata": {
        "id": "glKpMoAQr-Bx"
      }
    },
    {
      "cell_type": "code",
      "source": [],
      "metadata": {
        "id": "xQBQ_Kgmr-HB"
      },
      "execution_count": null,
      "outputs": []
    },
    {
      "cell_type": "markdown",
      "source": [],
      "metadata": {
        "id": "pSwiX3Jjr-R5"
      }
    },
    {
      "cell_type": "code",
      "source": [],
      "metadata": {
        "id": "86IPjdTQr-Yp"
      },
      "execution_count": null,
      "outputs": []
    },
    {
      "cell_type": "markdown",
      "source": [],
      "metadata": {
        "id": "R-_ypTTGr-fh"
      }
    },
    {
      "cell_type": "code",
      "source": [],
      "metadata": {
        "id": "z1exlbKQr-kZ"
      },
      "execution_count": null,
      "outputs": []
    },
    {
      "cell_type": "markdown",
      "source": [],
      "metadata": {
        "id": "K4ZliIIrr-qB"
      }
    },
    {
      "cell_type": "code",
      "source": [],
      "metadata": {
        "id": "GGgarNC3r-vh"
      },
      "execution_count": null,
      "outputs": []
    },
    {
      "cell_type": "markdown",
      "source": [],
      "metadata": {
        "id": "N-E-JG9nr-0p"
      }
    },
    {
      "cell_type": "code",
      "source": [],
      "metadata": {
        "id": "kLgDrkOSr-5x"
      },
      "execution_count": null,
      "outputs": []
    },
    {
      "cell_type": "markdown",
      "source": [],
      "metadata": {
        "id": "T96DJmt5r_AK"
      }
    },
    {
      "cell_type": "code",
      "source": [],
      "metadata": {
        "id": "LHKcxM6Nr_Fh"
      },
      "execution_count": null,
      "outputs": []
    }
  ]
}