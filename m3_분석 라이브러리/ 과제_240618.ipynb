{
  "nbformat": 4,
  "nbformat_minor": 0,
  "metadata": {
    "colab": {
      "provenance": [],
      "authorship_tag": "ABX9TyMvVZjE5J8oVri5cyW76Zd2",
      "include_colab_link": true
    },
    "kernelspec": {
      "name": "python3",
      "display_name": "Python 3"
    },
    "language_info": {
      "name": "python"
    }
  },
  "cells": [
    {
      "cell_type": "markdown",
      "metadata": {
        "id": "view-in-github",
        "colab_type": "text"
      },
      "source": [
        "<a href=\"https://colab.research.google.com/github/windyday0622/windyday/blob/main/m3_%EB%B6%84%EC%84%9D%20%EB%9D%BC%EC%9D%B4%EB%B8%8C%EB%9F%AC%EB%A6%AC/%20%EA%B3%BC%EC%A0%9C_240618.ipynb\" target=\"_parent\"><img src=\"https://colab.research.google.com/assets/colab-badge.svg\" alt=\"Open In Colab\"/></a>"
      ]
    },
    {
      "cell_type": "markdown",
      "source": [
        "Task1_0618. auto-mpg 데이터 셋에서 mpg와 weight의 선형 관계를 그래프로 작성하세요.(전체, origin에 따른 관계 2개 작성)"
      ],
      "metadata": {
        "id": "XHSe9LQkYCLN"
      }
    },
    {
      "cell_type": "code",
      "execution_count": null,
      "metadata": {
        "id": "C-2uVrnBX-0a"
      },
      "outputs": [],
      "source": []
    },
    {
      "cell_type": "markdown",
      "source": [],
      "metadata": {
        "id": "5h5z6mmIYDX1"
      }
    },
    {
      "cell_type": "code",
      "source": [],
      "metadata": {
        "id": "e3g-CRTUYDc1"
      },
      "execution_count": null,
      "outputs": []
    },
    {
      "cell_type": "markdown",
      "source": [],
      "metadata": {
        "id": "UnBEqv_hYDkE"
      }
    },
    {
      "cell_type": "code",
      "source": [],
      "metadata": {
        "id": "_bBwRepOYDpV"
      },
      "execution_count": null,
      "outputs": []
    },
    {
      "cell_type": "markdown",
      "source": [],
      "metadata": {
        "id": "2lzOdHOLYDuV"
      }
    },
    {
      "cell_type": "code",
      "source": [],
      "metadata": {
        "id": "ltxemymRYD0N"
      },
      "execution_count": null,
      "outputs": []
    },
    {
      "cell_type": "markdown",
      "source": [],
      "metadata": {
        "id": "KrIKnn0GYD5V"
      }
    },
    {
      "cell_type": "code",
      "source": [],
      "metadata": {
        "id": "Mz0fLJ5jYD-F"
      },
      "execution_count": null,
      "outputs": []
    },
    {
      "cell_type": "markdown",
      "source": [],
      "metadata": {
        "id": "NypGA8UNYEC9"
      }
    },
    {
      "cell_type": "code",
      "source": [],
      "metadata": {
        "id": "gqbqQTBIYEH9"
      },
      "execution_count": null,
      "outputs": []
    }
  ]
}