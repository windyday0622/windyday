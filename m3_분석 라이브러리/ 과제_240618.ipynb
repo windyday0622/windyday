{
  "nbformat": 4,
  "nbformat_minor": 0,
  "metadata": {
    "colab": {
      "provenance": [],
      "authorship_tag": "ABX9TyNN/PC4zVFmVB60jCtUZHIb",
      "include_colab_link": true
    },
    "kernelspec": {
      "name": "python3",
      "display_name": "Python 3"
    },
    "language_info": {
      "name": "python"
    }
  },
  "cells": [
    {
      "cell_type": "markdown",
      "metadata": {
        "id": "view-in-github",
        "colab_type": "text"
      },
      "source": [
        "<a href=\"https://colab.research.google.com/github/windyday0622/windyday/blob/main/m3_%EB%B6%84%EC%84%9D%20%EB%9D%BC%EC%9D%B4%EB%B8%8C%EB%9F%AC%EB%A6%AC/%20%EA%B3%BC%EC%A0%9C_240618.ipynb\" target=\"_parent\"><img src=\"https://colab.research.google.com/assets/colab-badge.svg\" alt=\"Open In Colab\"/></a>"
      ]
    },
    {
      "cell_type": "markdown",
      "source": [
        "Task1_0618. auto-mpg 데이터 셋에서 mpg와 weight의 선형 관계를 그래프로 작성하세요.(전체, origin에 따른 관계 2개 작성)"
      ],
      "metadata": {
        "id": "XHSe9LQkYCLN"
      }
    },
    {
      "cell_type": "code",
      "execution_count": null,
      "metadata": {
        "id": "C-2uVrnBX-0a"
      },
      "outputs": [],
      "source": []
    },
    {
      "cell_type": "markdown",
      "source": [
        "Task2_0618. pairplot을 생성해서 컬럼간의 관계를 시각화하세요. 단 종에 따라 다른 색상을 사용."
      ],
      "metadata": {
        "id": "5h5z6mmIYDX1"
      }
    },
    {
      "cell_type": "code",
      "source": [],
      "metadata": {
        "id": "e3g-CRTUYDc1"
      },
      "execution_count": null,
      "outputs": []
    },
    {
      "cell_type": "markdown",
      "source": [
        "Task3_0618. 펭귄 데이터셋을 사용하여, 각 종별로 섬(island)별 개체 수를 나타내는 카운트 플롯을 생성하세요. x축은 'island', hue는 'species'로 설정하세요."
      ],
      "metadata": {
        "id": "UnBEqv_hYDkE"
      }
    },
    {
      "cell_type": "code",
      "source": [],
      "metadata": {
        "id": "_bBwRepOYDpV"
      },
      "execution_count": null,
      "outputs": []
    },
    {
      "cell_type": "markdown",
      "source": [
        "Task4_0618. sex와 class간의 생존율을 보여주는 히트맵을 작성하세요."
      ],
      "metadata": {
        "id": "2lzOdHOLYDuV"
      }
    },
    {
      "cell_type": "code",
      "source": [],
      "metadata": {
        "id": "ltxemymRYD0N"
      },
      "execution_count": null,
      "outputs": []
    },
    {
      "cell_type": "markdown",
      "source": [
        "Task5_0618. 타이타닉 데이터셋을 사용하여, 객실 등급(class)에 따른 탑승객의 나이를 나타내는 박스 플롯과 바이올린 플롯을 같은 그래프 내에서 나란히 생성하세요. 이를 통해 각 클래스별 나이 분포의 차이를 비교하세요."
      ],
      "metadata": {
        "id": "KrIKnn0GYD5V"
      }
    },
    {
      "cell_type": "code",
      "source": [],
      "metadata": {
        "id": "Mz0fLJ5jYD-F"
      },
      "execution_count": null,
      "outputs": []
    },
    {
      "cell_type": "markdown",
      "source": [],
      "metadata": {
        "id": "NypGA8UNYEC9"
      }
    },
    {
      "cell_type": "code",
      "source": [],
      "metadata": {
        "id": "gqbqQTBIYEH9"
      },
      "execution_count": null,
      "outputs": []
    },
    {
      "cell_type": "markdown",
      "source": [],
      "metadata": {
        "id": "yWpURlBAdQll"
      }
    },
    {
      "cell_type": "code",
      "source": [],
      "metadata": {
        "id": "lHVfgx4PdQsV"
      },
      "execution_count": null,
      "outputs": []
    },
    {
      "cell_type": "markdown",
      "source": [],
      "metadata": {
        "id": "FxiWaZlxdQxk"
      }
    },
    {
      "cell_type": "code",
      "source": [],
      "metadata": {
        "id": "pOBO9gFodQ3M"
      },
      "execution_count": null,
      "outputs": []
    },
    {
      "cell_type": "markdown",
      "source": [],
      "metadata": {
        "id": "OAqL1yWvdQ9M"
      }
    },
    {
      "cell_type": "code",
      "source": [],
      "metadata": {
        "id": "1sG7-yX6dRCM"
      },
      "execution_count": null,
      "outputs": []
    }
  ]
}