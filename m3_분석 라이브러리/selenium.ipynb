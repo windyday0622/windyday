{
 "cells": [
  {
   "cell_type": "markdown",
   "metadata": {},
   "source": [
    "Javascript 선택자 : https://hianna.tistory.com/485\n",
    "\n",
    "1. getElementById()\n",
    " - 파라미터로 찾으려는 id를 전달하여, 해당 element를 찾을 수 있습니다. id는 유일한 값이므로, 하나의 element만 리턴합니다.\n",
    "2. getElementsByClassName()\n",
    " - 클래스 이름으로 element를 찾아서,이 클래스 이름을 가지는 모든 element 목록을 리턴합니다.이 함수의 이름을 자세히 보면 getElementsByClassName으로 Element's'가 복수 형태인 것은 이 함수가 목록을 리턴하기 때문입니다.\n",
    "3. getElementByTagName()\n",
    " - 위 코드는 'div' 태그를 가지는 모든 element 목록을 찾아줍니다.이 함수 역시, 다수의 element를 리턴하기 때문에 함수명에 복수형의 'elements'가 포함되어 있습니다.\n",
    "4. querySelector()\n",
    " - DOM에서 원하는 element를 찾기 위해서 querySelector() 를 사용할 수도 있는데, 이 함수는 파라미터로 입력받은 CSS선택자를 사용해서, element를 찾아줍니다.\n",
    " - querySelector() 함수는, 파라미터로 입력받은 CSS 선택자로 찾은 여러개의 element 중 첫번째 element를 리턴합니다.\n",
    " - 태그 이름으로 element를 찾을 때는 태그명을 문자열로 넘겨줍니다.위 예제는 div태그를 가지는 element 중 첫번째 element를 리턴합니다.\n",
    "5. querySelectorAll()\n",
    " - 사용법은 querySelector() 와 같습니다. 다만, querySelectorAll()은 이름에서 알수 있듯이, CSS선택자(파라미터로 넘겨준)로 찾은 모든 element 목록을 리턴합니다."
   ]
  },
  {
   "cell_type": "code",
   "execution_count": 2,
   "metadata": {},
   "outputs": [
    {
     "name": "stdout",
     "output_type": "stream",
     "text": [
      "Frist book title: A Light in the ...\n"
     ]
    }
   ],
   "source": [
    "# DOM 요소 선택 및 텍스트 추출\n",
    "from selenium import webdriver\n",
    "\n",
    "driver = webdriver.Chrome()\n",
    "driver.get('https://books.toscrape.com/')\n",
    "\n",
    "book_titles = driver.execute_script(\"return document.querySelector('article.product_pod h3 a').innerText;\")\n",
    "print(\"Frist book title:\", book_titles)\n",
    "\n",
    "driver.quit()"
   ]
  },
  {
   "cell_type": "code",
   "execution_count": 4,
   "metadata": {},
   "outputs": [
    {
     "name": "stdout",
     "output_type": "stream",
     "text": [
      "Frist book URL: catalogue/a-light-in-the-attic_1000/index.html\n"
     ]
    }
   ],
   "source": [
    "# DOM 요소 선택 및 속성 추출\n",
    "driver = webdriver.Chrome()\n",
    "driver.get('https://books.toscrape.com/')\n",
    "\n",
    "# 첫번째 책의 링크 URL 추출\n",
    "book_url = driver.execute_script(\"return document.querySelector('article.product_pod h3 a').getAttribute('href');\")\n",
    "print(\"Frist book URL:\", book_url)\n",
    "\n",
    "driver.quit()"
   ]
  },
  {
   "cell_type": "code",
   "execution_count": 8,
   "metadata": {},
   "outputs": [
    {
     "name": "stdout",
     "output_type": "stream",
     "text": [
      "New div id: newDiv\n"
     ]
    }
   ],
   "source": [
    "# DOM 요소 생성 및 추가\n",
    "driver = webdriver.Chrome()\n",
    "driver.get('https://books.toscrape.com/')\n",
    "\n",
    "# 새로운 요소 생성 및 추가\n",
    "new_div_id = driver.execute_script(\"\"\"\n",
    "    var newElement = document.createElement('div');\n",
    "    newElement.id = 'newDiv';\n",
    "    newElement.innerText = 'Hello, Book Lovers!';\n",
    "    document.body.appendChild(newElement);\n",
    "    return newElement.id;\n",
    "\"\"\")\n",
    "print(\"New div id:\", new_div_id)\n",
    "\n",
    "driver.quit()"
   ]
  },
  {
   "cell_type": "code",
   "execution_count": 11,
   "metadata": {},
   "outputs": [],
   "source": [
    "# 클릭 이벤트 트리거\n",
    "import time\n",
    "driver = webdriver.Chrome()\n",
    "driver.get('https://books.toscrape.com/')\n",
    "\n",
    "# 첫번째 책의 링크 클릭\n",
    "driver.execute_script(\"document.querySelector('article.product_pod h3 a').click();\")\n",
    "time.sleep(2)\n",
    "driver.quit()"
   ]
  },
  {
   "cell_type": "code",
   "execution_count": 13,
   "metadata": {},
   "outputs": [],
   "source": [
    "# 스크롤 이벤트 트리거\n",
    "driver = webdriver.Chrome()\n",
    "driver.get('https://books.toscrape.com/')\n",
    "\n",
    "# 페이지 맨 아래로 스크롤\n",
    "driver.execute_script(\"window.scrollTo(0, document.body.scrollHeight);\")\n",
    "time.sleep(3)\n",
    "driver.quit()"
   ]
  },
  {
   "cell_type": "code",
   "execution_count": 14,
   "metadata": {},
   "outputs": [],
   "source": [
    "# 스타일 변경\n",
    "driver = webdriver.Chrome()\n",
    "driver.get('https://books.toscrape.com/')\n",
    "\n",
    "# 첫번째 책의 배경색 변경\n",
    "driver.execute_script(\"document.querySelector('article.product_pod').style.backgroundColor = 'yellow';\")\n",
    "time.sleep(3)\n",
    "driver.quit()"
   ]
  },
  {
   "cell_type": "code",
   "execution_count": 18,
   "metadata": {},
   "outputs": [],
   "source": [
    "# 폼 필드 값 설정 (이 사이트에는 폼이 없지만 예제로 추가) - file.html\n",
    "from selenium import webdriver\n",
    "from selenium.webdriver.common.by import By\n",
    "import time\n",
    "\n",
    "# 웹 드라이버 인스턴스 생성 (여기서는 Chrome을 예로 사용)\n",
    "driver = webdriver.Chrome()\n",
    "\n",
    "# 로컬 HTML 파일 경로\n",
    "file_path = 'http://127.0.0.1:5501/file.html'  # 실제 파일 경로로 변경\n",
    "\n",
    "# HTML 파일 열기\n",
    "driver.get(file_path)\n",
    "\n",
    "# 2초 대기 (웹 페이지가 완전히 로드되도록)\n",
    "time.sleep(2)\n",
    "\n",
    "# 입력 필드에 새로운 값을 설정하는 JavaScript 실행\n",
    "driver.execute_script(\"document.querySelector('#inputField').value = 'new value';\")\n",
    "\n",
    "# 2초 대기 (변경이 반영되도록)\n",
    "time.sleep(2)\n",
    "\n",
    "# 제출 버튼 클릭\n",
    "driver.find_element(By.ID, 'submitButton').click()\n",
    "\n",
    "# 2초 대기 (알림을 확인하도록)\n",
    "time.sleep(5)\n",
    "\n",
    "# 웹 드라이버 종료\n",
    "driver.quit()\n"
   ]
  },
  {
   "cell_type": "code",
   "execution_count": 16,
   "metadata": {},
   "outputs": [],
   "source": [
    "from selenium import webdriver\n",
    "import time\n",
    "\n",
    "driver = webdriver.Chrome()\n",
    "driver.get('https://books.toscrape.com/')\n",
    "\n",
    "# 첫번째 책의 클릭 이벤트 리스너 추가\n",
    "driver.execute_script(\"\"\"\n",
    "    var book = document.querySelector('article.product_pod h3 a');\n",
    "    book.addEventListener('click', function() {\n",
    "        alert('You clicked the book link!');\n",
    "    });\n",
    "\"\"\")\n",
    "\n",
    "time.sleep(3)\n",
    "driver.quit()\n"
   ]
  },
  {
   "cell_type": "code",
   "execution_count": null,
   "metadata": {},
   "outputs": [],
   "source": [
    "# AJAX 요청 트리거 (이 사이트에는 AJAX 요청 예제는 부적절하지만 포맷을 유지)\n",
    "driver = webdriver.Chrome()\n"
   ]
  },
  {
   "cell_type": "code",
   "execution_count": 17,
   "metadata": {},
   "outputs": [
    {
     "name": "stdout",
     "output_type": "stream",
     "text": [
      "Book titles: ['A Light in the ...', 'Tipping the Velvet', 'Soumission', 'Sharp Objects', 'Sapiens: A Brief History ...', 'The Requiem Red', 'The Dirty Little Secrets ...', 'The Coming Woman: A ...', 'The Boys in the ...', 'The Black Maria', 'Starving Hearts (Triangular Trade ...', \"Shakespeare's Sonnets\", 'Set Me Free', \"Scott Pilgrim's Precious Little ...\", 'Rip it Up and ...', 'Our Band Could Be ...', 'Olio', 'Mesaerion: The Best Science ...', 'Libertarianism for Beginners', \"It's Only the Himalayas\"]\n"
     ]
    }
   ],
   "source": [
    "# 다수의 요소 선택 및 데이터 추출\n",
    "driver = webdriver.Chrome()\n",
    "driver.get('https://books.toscrape.com/')\n",
    "\n",
    "# 모든 책 제목 추출\n",
    "book_titles = driver.execute_script(\"\"\"\n",
    "    var titles = [];\n",
    "    document.querySelectorAll('article.product_pod h3 a').forEach(function(book) {\n",
    "        titles.push(book.innerText);\n",
    "    });\n",
    "    return titles;\n",
    "\"\"\")\n",
    "print(\"Book titles:\", book_titles)\n",
    "time.sleep(3)\n",
    "driver.quit()"
   ]
  },
  {
   "cell_type": "code",
   "execution_count": null,
   "metadata": {},
   "outputs": [],
   "source": [
    "from datetime import datetime\n",
    "\n",
    "date = str(datetime.now())\n",
    "print(date)\n"
   ]
  },
  {
   "cell_type": "code",
   "execution_count": null,
   "metadata": {},
   "outputs": [],
   "source": []
  },
  {
   "cell_type": "code",
   "execution_count": null,
   "metadata": {},
   "outputs": [],
   "source": []
  },
  {
   "cell_type": "code",
   "execution_count": null,
   "metadata": {},
   "outputs": [],
   "source": []
  },
  {
   "cell_type": "code",
   "execution_count": null,
   "metadata": {},
   "outputs": [],
   "source": []
  },
  {
   "cell_type": "code",
   "execution_count": null,
   "metadata": {},
   "outputs": [],
   "source": []
  },
  {
   "cell_type": "code",
   "execution_count": null,
   "metadata": {},
   "outputs": [],
   "source": []
  },
  {
   "cell_type": "code",
   "execution_count": null,
   "metadata": {},
   "outputs": [],
   "source": []
  },
  {
   "cell_type": "code",
   "execution_count": null,
   "metadata": {},
   "outputs": [],
   "source": []
  },
  {
   "cell_type": "code",
   "execution_count": null,
   "metadata": {},
   "outputs": [],
   "source": []
  },
  {
   "cell_type": "code",
   "execution_count": null,
   "metadata": {},
   "outputs": [],
   "source": []
  },
  {
   "cell_type": "code",
   "execution_count": null,
   "metadata": {},
   "outputs": [],
   "source": []
  },
  {
   "cell_type": "code",
   "execution_count": null,
   "metadata": {},
   "outputs": [],
   "source": []
  },
  {
   "cell_type": "code",
   "execution_count": null,
   "metadata": {},
   "outputs": [],
   "source": []
  },
  {
   "cell_type": "code",
   "execution_count": null,
   "metadata": {},
   "outputs": [],
   "source": []
  },
  {
   "cell_type": "code",
   "execution_count": null,
   "metadata": {},
   "outputs": [],
   "source": []
  },
  {
   "cell_type": "code",
   "execution_count": null,
   "metadata": {},
   "outputs": [],
   "source": []
  },
  {
   "cell_type": "code",
   "execution_count": null,
   "metadata": {},
   "outputs": [],
   "source": []
  },
  {
   "cell_type": "code",
   "execution_count": null,
   "metadata": {},
   "outputs": [],
   "source": []
  },
  {
   "cell_type": "code",
   "execution_count": null,
   "metadata": {},
   "outputs": [],
   "source": []
  },
  {
   "cell_type": "code",
   "execution_count": null,
   "metadata": {},
   "outputs": [],
   "source": []
  },
  {
   "cell_type": "code",
   "execution_count": null,
   "metadata": {},
   "outputs": [],
   "source": []
  },
  {
   "cell_type": "code",
   "execution_count": null,
   "metadata": {},
   "outputs": [],
   "source": []
  },
  {
   "cell_type": "code",
   "execution_count": null,
   "metadata": {},
   "outputs": [],
   "source": []
  },
  {
   "cell_type": "code",
   "execution_count": null,
   "metadata": {},
   "outputs": [],
   "source": []
  },
  {
   "cell_type": "code",
   "execution_count": null,
   "metadata": {},
   "outputs": [],
   "source": []
  },
  {
   "cell_type": "code",
   "execution_count": null,
   "metadata": {},
   "outputs": [],
   "source": []
  },
  {
   "cell_type": "code",
   "execution_count": null,
   "metadata": {},
   "outputs": [],
   "source": []
  },
  {
   "cell_type": "code",
   "execution_count": null,
   "metadata": {},
   "outputs": [],
   "source": []
  },
  {
   "cell_type": "code",
   "execution_count": null,
   "metadata": {},
   "outputs": [],
   "source": []
  }
 ],
 "metadata": {
  "kernelspec": {
   "display_name": "myenv",
   "language": "python",
   "name": "python3"
  },
  "language_info": {
   "codemirror_mode": {
    "name": "ipython",
    "version": 3
   },
   "file_extension": ".py",
   "mimetype": "text/x-python",
   "name": "python",
   "nbconvert_exporter": "python",
   "pygments_lexer": "ipython3",
   "version": "3.10.11"
  }
 },
 "nbformat": 4,
 "nbformat_minor": 2
}
