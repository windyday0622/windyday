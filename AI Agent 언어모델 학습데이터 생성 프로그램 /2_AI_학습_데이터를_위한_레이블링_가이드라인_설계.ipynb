{
  "nbformat": 4,
  "nbformat_minor": 0,
  "metadata": {
    "colab": {
      "provenance": [],
      "authorship_tag": "ABX9TyMvIDc+XhGV9WyYQwD5bsT3",
      "include_colab_link": true
    },
    "kernelspec": {
      "name": "python3",
      "display_name": "Python 3"
    },
    "language_info": {
      "name": "python"
    }
  },
  "cells": [
    {
      "cell_type": "markdown",
      "metadata": {
        "id": "view-in-github",
        "colab_type": "text"
      },
      "source": [
        "<a href=\"https://colab.research.google.com/github/windyday0622/windyday/blob/main/AI%20Agent%20%EC%96%B8%EC%96%B4%EB%AA%A8%EB%8D%B8%20%ED%95%99%EC%8A%B5%EB%8D%B0%EC%9D%B4%ED%84%B0%20%EC%83%9D%EC%84%B1%20%ED%94%84%EB%A1%9C%EA%B7%B8%EB%9E%A8%20/2_AI_%ED%95%99%EC%8A%B5_%EB%8D%B0%EC%9D%B4%ED%84%B0%EB%A5%BC_%EC%9C%84%ED%95%9C_%EB%A0%88%EC%9D%B4%EB%B8%94%EB%A7%81_%EA%B0%80%EC%9D%B4%EB%93%9C%EB%9D%BC%EC%9D%B8_%EC%84%A4%EA%B3%84.ipynb\" target=\"_parent\"><img src=\"https://colab.research.google.com/assets/colab-badge.svg\" alt=\"Open In Colab\"/></a>"
      ]
    },
    {
      "cell_type": "code",
      "source": [
        "import pandas as pd\n",
        "\n",
        "# CSV 파일을 불러올 때 cp949 인코딩을 시도\n",
        "df = pd.read_csv('SSN00006M_202104_FREE.csv', encoding='cp949')\n",
        "\n",
        "# 데이터 확인\n",
        "print(df.head())"
      ],
      "metadata": {
        "colab": {
          "base_uri": "https://localhost:8080/"
        },
        "id": "FCm7vkV91_EP",
        "outputId": "be3d2653-13d8-401e-8595-600890740fa9"
      },
      "execution_count": 5,
      "outputs": [
        {
          "output_type": "stream",
          "name": "stdout",
          "text": [
            "    ANS_SN  PLC_ID    PLC_NM        TELNO                 ADDR  \\\n",
            "0  5489380  365626      호호포차   29323700.0  서울특별시 노원구 상계동 332-8   \n",
            "1  5489384  256289    18번완당집  512450018.0    부산광역시 중구 비프광장로 31   \n",
            "2  5489385  283672     멕코이치킨  512465592.0   부산광역시 중구 광복로12번길 3   \n",
            "3  5489386  324478    새부평식당   512462335.0     부산광역시 중구 부평2길 29   \n",
            "4  5489387  329352  박대포 소금구이  512459291.0  부산광역시 중구 부평동1가 35-9   \n",
            "\n",
            "                                              ANS_CN       ANS_WRT_DT  \n",
            "0  안주3개에 2만원도 안하는 가격이라 퀄리티를 기대 안했는데 양도 많고 맛도 괜찮아서...  2018-06-02 0:00  \n",
            "1  18번완당~ 개인적으로 완당보다는 만두국 ㅜㅜㅜ 완당은 만두피만있는느낌... 국물도...  2018-06-02 0:00  \n",
            "2  야채찜닭과 양념반후라이드반으로 먹었는데요~ 둘다 너무너무 만족! 역시 부평동 치킨자...  2018-06-02 0:00  \n",
            "3  새부평식당 겉으로만봐도 상당한 내공이 느껴지는데요~ 저는 갈비탕을 먹으려 방문했습니...  2018-06-02 0:00  \n",
            "4  사진으로 참고해주시고 소금구이와 생삽겹살 각 3인분식의 양이구요~ 업소분위기는 8,...  2018-06-02 0:00  \n"
          ]
        }
      ]
    },
    {
      "cell_type": "markdown",
      "source": [
        "이 코드는 CSV 파일에서 텍스트 데이터를 불러오고, 감정 분석을 통해 각 텍스트에 긍정, 부정, 중립 레이블을 붙여서 저장하는 프로그램입니다. 또한, 레이블링에 대한 가이드라인을 제공하여 레이블링의 기준을 명확히 합니다.\n",
        "\n",
        "전체적인 흐름:\n",
        "CSV 파일 로딩:\n",
        "\n",
        "주어진 CSV 파일을 pandas 라이브러리를 사용해 불러옵니다. 이때, 한글 데이터가 포함되어 있으므로 cp949 인코딩 방식을 사용합니다.\n",
        "감정 분석 함수:\n",
        "\n",
        "각 리뷰 텍스트에 대해 긍정적인 단어와 부정적인 단어를 비교하여 감정 분석을 수행합니다. 긍정적인 단어가 많으면 '긍정', 부정적인 단어가 많으면 '부정', 두 개수가 같으면 '중립'으로 분류합니다.\n",
        "레이블링 가이드라인:\n",
        "\n",
        "각 레이블(긍정, 부정, 중립)에 대해 설명과 예시를 제공하는 가이드라인을 정의합니다. 이는 레이블링의 기준을 명확히 하여 분석 결과에 대한 이해를 돕고, 일관된 기준으로 데이터를 분류할 수 있도록 합니다.\n",
        "레이블링 적용:\n",
        "\n",
        "ANS_CN 컬럼에 있는 텍스트에 대해 감정 분석 함수를 적용하여, 각 텍스트가 긍정, 부정, 중립 중 어떤 감정을 표현하는지를 레이블로 붙입니다. 그 결과는 새로운 label 컬럼에 저장됩니다.\n",
        "결과 저장 및 출력:\n",
        "\n",
        "레이블이 적용된 데이터는 labeled_reviews.csv라는 새로운 CSV 파일로 저장됩니다.\n",
        "또한, 각 레이블에 대한 설명과 예시를 출력하여 사용자에게 레이블링 기준을 보여줍니다.\n",
        "목표:\n",
        "이 코드는 감정 분석을 통해 리뷰나 텍스트 데이터를 자동으로 분류하고, 그 결과를 파일로 저장하며, 레이블링 가이드라인을 출력하여 데이터가 어떻게 레이블링 되었는지 이해할 수 있도록 돕습니다.\n",
        "\n",
        "\n",
        "\n",
        "\n",
        "\n"
      ],
      "metadata": {
        "id": "j1_2z30J3aCf"
      }
    },
    {
      "cell_type": "code",
      "source": [
        "import pandas as pd\n",
        "import re\n",
        "\n",
        "# 긍정적/부정적 표현 패턴 예시\n",
        "positive_words = ['맛있다', '좋다', '훌륭하다', '추천하다']\n",
        "negative_words = ['싫다', '별로', '안 좋다', '실망하다']\n",
        "\n",
        "# 감정 분석 함수\n",
        "def analyze_sentiment(text):\n",
        "    # 긍정적 또는 부정적 단어가 포함된 경우를 찾음\n",
        "    positive_count = sum(1 for word in positive_words if word in text)\n",
        "    negative_count = sum(1 for word in negative_words if word in text)\n",
        "\n",
        "    if positive_count > negative_count:\n",
        "        return '긍정'\n",
        "    elif negative_count > positive_count:\n",
        "        return '부정'\n",
        "    else:\n",
        "        return '중립'\n",
        "\n",
        "# 레이블링 가이드라인\n",
        "labeling_guidelines = {\n",
        "    '긍정': {\n",
        "        '설명': '음식이나 서비스가 매우 긍정적이고 만족스러울 때 사용',\n",
        "        '예시': [\n",
        "            \"이 음식은 정말 맛있다.\",\n",
        "            \"훌륭한 서비스였다.\",\n",
        "            \"완벽하게 만족한다.\"\n",
        "        ]\n",
        "    },\n",
        "    '부정': {\n",
        "        '설명': '음식이나 서비스가 불만족스러울 때 사용',\n",
        "        '예시': [\n",
        "            \"맛이 없고 실망했다.\",\n",
        "            \"서비스가 매우 느리고 불편했다.\",\n",
        "            \"다시는 가고 싶지 않다.\"\n",
        "        ]\n",
        "    },\n",
        "    '중립': {\n",
        "        '설명': '특별히 긍정적이지도 부정적이지도 않은 경우 사용',\n",
        "        '예시': [\n",
        "            \"음식은 괜찮았다.\",\n",
        "            \"서비스는 평범했다.\"\n",
        "        ]\n",
        "    }\n",
        "}\n",
        "\n",
        "# CSV 파일 불러오기 (파일 경로 수정)\n",
        "df = pd.read_csv('SSN00006M_202104_FREE.csv', encoding='cp949')  # 이미 확인된 경로와 인코딩 사용\n",
        "\n",
        "df['label'] = df['ANS_CN'].apply(analyze_sentiment)\n",
        "\n",
        "# 레이블링 결과 출력\n",
        "print(df[['ANS_CN', 'label']].head())\n",
        "\n",
        "# 레이블링된 데이터 저장\n",
        "df.to_csv('labeled_reviews.csv', index=False)\n",
        "\n",
        "# 레이블링 가이드라인 출력\n",
        "for label, guidelines in labeling_guidelines.items():\n",
        "    print(f\"레이블: {label}\")\n",
        "    print(f\"설명: {guidelines['설명']}\")\n",
        "    print(\"예시:\")\n",
        "    for example in guidelines['예시']:\n",
        "        print(f\"- {example}\")\n",
        "    print()\n"
      ],
      "metadata": {
        "colab": {
          "base_uri": "https://localhost:8080/"
        },
        "id": "jiaZkvG92cVn",
        "outputId": "1451a75d-322b-4d34-9d47-6c9ba1f68de9"
      },
      "execution_count": 11,
      "outputs": [
        {
          "output_type": "stream",
          "name": "stdout",
          "text": [
            "                                              ANS_CN label\n",
            "0  안주3개에 2만원도 안하는 가격이라 퀄리티를 기대 안했는데 양도 많고 맛도 괜찮아서...    중립\n",
            "1  18번완당~ 개인적으로 완당보다는 만두국 ㅜㅜㅜ 완당은 만두피만있는느낌... 국물도...    중립\n",
            "2  야채찜닭과 양념반후라이드반으로 먹었는데요~ 둘다 너무너무 만족! 역시 부평동 치킨자...    중립\n",
            "3  새부평식당 겉으로만봐도 상당한 내공이 느껴지는데요~ 저는 갈비탕을 먹으려 방문했습니...    중립\n",
            "4  사진으로 참고해주시고 소금구이와 생삽겹살 각 3인분식의 양이구요~ 업소분위기는 8,...    중립\n",
            "레이블: 긍정\n",
            "설명: 음식이나 서비스가 매우 긍정적이고 만족스러울 때 사용\n",
            "예시:\n",
            "- 이 음식은 정말 맛있다.\n",
            "- 훌륭한 서비스였다.\n",
            "- 완벽하게 만족한다.\n",
            "\n",
            "레이블: 부정\n",
            "설명: 음식이나 서비스가 불만족스러울 때 사용\n",
            "예시:\n",
            "- 맛이 없고 실망했다.\n",
            "- 서비스가 매우 느리고 불편했다.\n",
            "- 다시는 가고 싶지 않다.\n",
            "\n",
            "레이블: 중립\n",
            "설명: 특별히 긍정적이지도 부정적이지도 않은 경우 사용\n",
            "예시:\n",
            "- 음식은 괜찮았다.\n",
            "- 서비스는 평범했다.\n",
            "\n"
          ]
        }
      ]
    }
  ]
}