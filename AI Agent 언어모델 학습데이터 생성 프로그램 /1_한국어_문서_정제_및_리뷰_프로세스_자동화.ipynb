{
  "nbformat": 4,
  "nbformat_minor": 0,
  "metadata": {
    "colab": {
      "provenance": [],
      "authorship_tag": "ABX9TyPlN0H/35Wbr9lCM857huv2",
      "include_colab_link": true
    },
    "kernelspec": {
      "name": "python3",
      "display_name": "Python 3"
    },
    "language_info": {
      "name": "python"
    }
  },
  "cells": [
    {
      "cell_type": "markdown",
      "metadata": {
        "id": "view-in-github",
        "colab_type": "text"
      },
      "source": [
        "<a href=\"https://colab.research.google.com/github/windyday0622/windyday/blob/main/AI%20Agent%20%EC%96%B8%EC%96%B4%EB%AA%A8%EB%8D%B8%20%ED%95%99%EC%8A%B5%EB%8D%B0%EC%9D%B4%ED%84%B0%20%EC%83%9D%EC%84%B1%20%ED%94%84%EB%A1%9C%EA%B7%B8%EB%9E%A8%20/1_%ED%95%9C%EA%B5%AD%EC%96%B4_%EB%AC%B8%EC%84%9C_%EC%A0%95%EC%A0%9C_%EB%B0%8F_%EB%A6%AC%EB%B7%B0_%ED%94%84%EB%A1%9C%EC%84%B8%EC%8A%A4_%EC%9E%90%EB%8F%99%ED%99%94.ipynb\" target=\"_parent\"><img src=\"https://colab.research.google.com/assets/colab-badge.svg\" alt=\"Open In Colab\"/></a>"
      ]
    },
    {
      "cell_type": "markdown",
      "source": [
        "1. 데이터 수집\n",
        "목표: 웹에서 한국어 문서를 수집.\n",
        "\n",
        "도구 및 라이브러리:\n",
        "requests: 웹 페이지 요청.\n",
        "BeautifulSoup: HTML 파싱.\n",
        "newspaper3k: 뉴스 기사 수집에 유용.\n",
        "selenium: 동적 웹사이트 크롤링."
      ],
      "metadata": {
        "id": "64xDWf3lvi9O"
      }
    },
    {
      "cell_type": "code",
      "execution_count": 14,
      "metadata": {
        "colab": {
          "base_uri": "https://localhost:8080/"
        },
        "id": "mLGMjRalvKG9",
        "outputId": "ce9c3902-fbfc-4aac-a7ae-6378d6f2f7c0"
      },
      "outputs": [
        {
          "output_type": "stream",
          "name": "stdout",
          "text": [
            "['텔코 LLM 개념도. 사진=SKT[핀포인트뉴스 임해정 기자]\\xa0SK텔레콤이 5G 요금제, 공시지원금 등 국내 통신 관련 용어와 통신사 내부 지침을 학습한 \\'텔코LLM\\'을 6월 중 개발 완료할 예정이다.SK텔레콤은 30일 서울 중구 SKT 타워에서 취재진 대상 텔코LLM 설명회를 열어 이같이 밝혔다.LLM(거대 언어모델)은 방대한 양의 문장 데이터를 학습해 자연어 처리 작업을 수행하는 데 필요한 지식을 획득한 딥러닝 모델이다.텔코LLM은 잘 알려진 \\'챗-GPT\\', \\'클로드\\' 같은 범용 LLM을 통신업에 특화해 발전시킨 모델로, SKT가 오픈AI, 앤트로픽 등과 협력해 개발을 진행하고 있다.개발이 완료되면 한국어 버전 서비스를 먼저 시작하고, 해외 기업들과 글로벌 버전 개발에 대한 합의를 완료하면 글로벌 버전도 출시할 예정이다.에릭 데이비스 SKT AI 기술 협력 담당은 이날 발표에서 \"1개의 범용 LLM으로 통신사가 하려는 다양한 서비스와 문제를 해결하는 일은 쉽지 않다\"며 \"통신 데이터와 도메인 노하우에 맞춰 조정하는 미세 조정(파인 튜닝)과 모델 평가(벤치마킹) 과정을 거쳐 다양한 텔코LLM을 만들고 이를 상황에 맞게 골라 쓸 수 있도록 하는 것이 SKT의 멀티LLM 전략\"이라고 말했다.즉 SKT의 LLM인 에이닷엑스(A.X), 오픈AI의 GPT-4, 앤트로픽의 클로드 같은 범용 LLM에 통신 관련 한국어 데이터를 학습시켜 AI 고객센터(AICC), 유통망, 네트워크 운용, 사내 업무 등에 다양하게 쓸 수 있게 한다는 게 이 회사의 목표다.SKT는 우선 LLM에 통신 관련 데이터를 학습시킨 다음, 문의에 유용한 답변을 하는지, 문맥을 이해했는지 등을 상담사가 평가한 뒤, 부족하다는 평가를 받은 부분과 관련 데이터를 추가 학습시키는 과정을 반복시켜 LLM을 고도화했다.SKT는 텔코LLM을 활용하면 다양한 통신사 업무에 걸리는 시간을 줄일 것으로 기대했다.고객센터 분야에선 상담 소요 시간을 대폭 단축한다.기존에는 고객센터에서 상담사가 고객 문의 내용을 정리하고 필요 문서를 검색·요약한 다음 상담 내용을 기록해야 해 많은 경험과 교육이 필요했는데, 텔코LLM은 이 과정을 빠르게 진행할 수 있다.네트워크 인프라 운용 과정에 문제가 발생했을 때도 텔코LLM은 해결 방안을 바로 답할 수 있어 사람이 직접 매뉴얼이나 대응 사례를 찾을 때보다 소요시간을 줄일 수 있다.정민영 SKT AI플랫폼 담당은 \"고객센터, 인프라뿐 아니라 마케팅·유통망 등 고객 접점이나 법무, HR와 같은 사내 업무까지 통신사 운영 다양한 영역에서 텔코LLM이 업무 효율성을 높일 것\"이라며 \"지속해서 텔코LLM을 활용한 활용 사례를 늘려갈 계획\"이라고 설명했다.관련기사KT, 임직원 가족과 ‘마음 담음 클래식 콘서트’ 관람임해정 기자pin.hj@thekpm.com다른기사 보기저작권자 © 핀포인트뉴스 무단전재 및 재배포 금지']\n"
          ]
        }
      ],
      "source": [
        "import requests\n",
        "from bs4 import BeautifulSoup\n",
        "\n",
        "# 웹 크롤러 (뉴스 기사 크롤링)\n",
        "def fetch_news_articles(url):\n",
        "    response = requests.get(url)\n",
        "    soup = BeautifulSoup(response.text, 'html.parser')\n",
        "    articles = []\n",
        "    for article in soup.find_all('div', class_='article-body'):\n",
        "        articles.append(article.get_text(strip=True))\n",
        "    return articles\n",
        "\n",
        "# 사용\n",
        "news_url = \"https://www.pinpointnews.co.kr/news/articleView.html?idxno=262660\"\n",
        "data = fetch_news_articles(news_url)\n",
        "print(data[:5])  # 수집된 뉴스 기사 출력"
      ]
    },
    {
      "cell_type": "markdown",
      "source": [
        "2. 중복 문서 제거\n",
        "목표: 해시 기반 비교를 통해 중복된 문서 필터링.\n",
        "\n",
        "도구 및 라이브러리:\n",
        "hashlib: 문자열의 해시값 생성.\n",
        "set: 중복 제거를 위한 효율적인 데이터 구조."
      ],
      "metadata": {
        "id": "1ByOf6jGvnv-"
      }
    },
    {
      "cell_type": "code",
      "source": [
        "import hashlib\n",
        "\n",
        "def remove_duplicates(documents):\n",
        "    unique_docs = set()\n",
        "    filtered_docs = []\n",
        "    for doc in documents:\n",
        "        doc_hash = hashlib.md5(doc.encode('utf-8')).hexdigest()\n",
        "        if doc_hash not in unique_docs:\n",
        "            unique_docs.add(doc_hash)\n",
        "            filtered_docs.append(doc)\n",
        "    return filtered_docs\n",
        "\n",
        "# 중복 제거 사용 예시\n",
        "unique_data = remove_duplicates(data)\n",
        "print(\"중복 제거 후 데이터:\", unique_data[:5])"
      ],
      "metadata": {
        "colab": {
          "base_uri": "https://localhost:8080/"
        },
        "id": "Xg_ZjHNmvfPO",
        "outputId": "337405e5-980a-404a-c689-c8ba0bd3bb66"
      },
      "execution_count": 5,
      "outputs": [
        {
          "output_type": "stream",
          "name": "stdout",
          "text": [
            "중복 제거 후 데이터: ['텔코 LLM 개념도. 사진=SKT[핀포인트뉴스 임해정 기자]\\xa0SK텔레콤이 5G 요금제, 공시지원금 등 국내 통신 관련 용어와 통신사 내부 지침을 학습한 \\'텔코LLM\\'을 6월 중 개발 완료할 예정이다.SK텔레콤은 30일 서울 중구 SKT 타워에서 취재진 대상 텔코LLM 설명회를 열어 이같이 밝혔다.LLM(거대 언어모델)은 방대한 양의 문장 데이터를 학습해 자연어 처리 작업을 수행하는 데 필요한 지식을 획득한 딥러닝 모델이다.텔코LLM은 잘 알려진 \\'챗-GPT\\', \\'클로드\\' 같은 범용 LLM을 통신업에 특화해 발전시킨 모델로, SKT가 오픈AI, 앤트로픽 등과 협력해 개발을 진행하고 있다.개발이 완료되면 한국어 버전 서비스를 먼저 시작하고, 해외 기업들과 글로벌 버전 개발에 대한 합의를 완료하면 글로벌 버전도 출시할 예정이다.에릭 데이비스 SKT AI 기술 협력 담당은 이날 발표에서 \"1개의 범용 LLM으로 통신사가 하려는 다양한 서비스와 문제를 해결하는 일은 쉽지 않다\"며 \"통신 데이터와 도메인 노하우에 맞춰 조정하는 미세 조정(파인 튜닝)과 모델 평가(벤치마킹) 과정을 거쳐 다양한 텔코LLM을 만들고 이를 상황에 맞게 골라 쓸 수 있도록 하는 것이 SKT의 멀티LLM 전략\"이라고 말했다.즉 SKT의 LLM인 에이닷엑스(A.X), 오픈AI의 GPT-4, 앤트로픽의 클로드 같은 범용 LLM에 통신 관련 한국어 데이터를 학습시켜 AI 고객센터(AICC), 유통망, 네트워크 운용, 사내 업무 등에 다양하게 쓸 수 있게 한다는 게 이 회사의 목표다.SKT는 우선 LLM에 통신 관련 데이터를 학습시킨 다음, 문의에 유용한 답변을 하는지, 문맥을 이해했는지 등을 상담사가 평가한 뒤, 부족하다는 평가를 받은 부분과 관련 데이터를 추가 학습시키는 과정을 반복시켜 LLM을 고도화했다.SKT는 텔코LLM을 활용하면 다양한 통신사 업무에 걸리는 시간을 줄일 것으로 기대했다.고객센터 분야에선 상담 소요 시간을 대폭 단축한다.기존에는 고객센터에서 상담사가 고객 문의 내용을 정리하고 필요 문서를 검색·요약한 다음 상담 내용을 기록해야 해 많은 경험과 교육이 필요했는데, 텔코LLM은 이 과정을 빠르게 진행할 수 있다.네트워크 인프라 운용 과정에 문제가 발생했을 때도 텔코LLM은 해결 방안을 바로 답할 수 있어 사람이 직접 매뉴얼이나 대응 사례를 찾을 때보다 소요시간을 줄일 수 있다.정민영 SKT AI플랫폼 담당은 \"고객센터, 인프라뿐 아니라 마케팅·유통망 등 고객 접점이나 법무, HR와 같은 사내 업무까지 통신사 운영 다양한 영역에서 텔코LLM이 업무 효율성을 높일 것\"이라며 \"지속해서 텔코LLM을 활용한 활용 사례를 늘려갈 계획\"이라고 설명했다.관련기사KT, 임직원 가족과 ‘마음 담음 클래식 콘서트’ 관람임해정 기자pin.hj@thekpm.com다른기사 보기저작권자 © 핀포인트뉴스 무단전재 및 재배포 금지']\n"
          ]
        }
      ]
    },
    {
      "cell_type": "markdown",
      "source": [
        "3. 불필요한 텍스트 제거\n",
        "목표: 광고, 비속어, 불완전 문장을 정규 표현식으로 제거.\n",
        "\n",
        "도구 및 라이브러리:\n",
        "re: 정규 표현식 처리."
      ],
      "metadata": {
        "id": "B1I7lXXdv13F"
      }
    },
    {
      "cell_type": "code",
      "source": [
        "import re\n",
        "\n",
        "def clean_text(documents):\n",
        "    cleaned_docs = []\n",
        "    for doc in documents:\n",
        "        # 광고 제거\n",
        "        doc = re.sub(r'광고[^\\n]*', '', doc)\n",
        "        # 비속어 제거 (예: \"비속어1\", \"비속어2\")\n",
        "        doc = re.sub(r'비속어1|비속어2', '', doc)\n",
        "        cleaned_docs.append(doc.strip())\n",
        "    return cleaned_docs\n",
        "\n",
        "# 텍스트 정제 사용 예시\n",
        "cleaned_data = clean_text(unique_data)\n",
        "print(\"정제 후 데이터:\", cleaned_data[:5])\n"
      ],
      "metadata": {
        "colab": {
          "base_uri": "https://localhost:8080/"
        },
        "id": "hSyLfkeXv4et",
        "outputId": "29c841d7-2178-4ec1-d513-6c050279c7e9"
      },
      "execution_count": 19,
      "outputs": [
        {
          "output_type": "stream",
          "name": "stdout",
          "text": [
            "정제 후 데이터: ['텔코 LLM 개념도. 사진=SKT[핀포인트뉴스 임해정 기자]\\xa0SK텔레콤이 5G 요금제, 공시지원금 등 국내 통신 관련 용어와 통신사 내부 지침을 학습한 \\'텔코LLM\\'을 6월 중 개발 완료할 예정이다.SK텔레콤은 30일 서울 중구 SKT 타워에서 취재진 대상 텔코LLM 설명회를 열어 이같이 밝혔다.LLM(거대 언어모델)은 방대한 양의 문장 데이터를 학습해 자연어 처리 작업을 수행하는 데 필요한 지식을 획득한 딥러닝 모델이다.텔코LLM은 잘 알려진 \\'챗-GPT\\', \\'클로드\\' 같은 범용 LLM을 통신업에 특화해 발전시킨 모델로, SKT가 오픈AI, 앤트로픽 등과 협력해 개발을 진행하고 있다.개발이 완료되면 한국어 버전 서비스를 먼저 시작하고, 해외 기업들과 글로벌 버전 개발에 대한 합의를 완료하면 글로벌 버전도 출시할 예정이다.에릭 데이비스 SKT AI 기술 협력 담당은 이날 발표에서 \"1개의 범용 LLM으로 통신사가 하려는 다양한 서비스와 문제를 해결하는 일은 쉽지 않다\"며 \"통신 데이터와 도메인 노하우에 맞춰 조정하는 미세 조정(파인 튜닝)과 모델 평가(벤치마킹) 과정을 거쳐 다양한 텔코LLM을 만들고 이를 상황에 맞게 골라 쓸 수 있도록 하는 것이 SKT의 멀티LLM 전략\"이라고 말했다.즉 SKT의 LLM인 에이닷엑스(A.X), 오픈AI의 GPT-4, 앤트로픽의 클로드 같은 범용 LLM에 통신 관련 한국어 데이터를 학습시켜 AI 고객센터(AICC), 유통망, 네트워크 운용, 사내 업무 등에 다양하게 쓸 수 있게 한다는 게 이 회사의 목표다.SKT는 우선 LLM에 통신 관련 데이터를 학습시킨 다음, 문의에 유용한 답변을 하는지, 문맥을 이해했는지 등을 상담사가 평가한 뒤, 부족하다는 평가를 받은 부분과 관련 데이터를 추가 학습시키는 과정을 반복시켜 LLM을 고도화했다.SKT는 텔코LLM을 활용하면 다양한 통신사 업무에 걸리는 시간을 줄일 것으로 기대했다.고객센터 분야에선 상담 소요 시간을 대폭 단축한다.기존에는 고객센터에서 상담사가 고객 문의 내용을 정리하고 필요 문서를 검색·요약한 다음 상담 내용을 기록해야 해 많은 경험과 교육이 필요했는데, 텔코LLM은 이 과정을 빠르게 진행할 수 있다.네트워크 인프라 운용 과정에 문제가 발생했을 때도 텔코LLM은 해결 방안을 바로 답할 수 있어 사람이 직접 매뉴얼이나 대응 사례를 찾을 때보다 소요시간을 줄일 수 있다.정민영 SKT AI플랫폼 담당은 \"고객센터, 인프라뿐 아니라 마케팅·유통망 등 고객 접점이나 법무, HR와 같은 사내 업무까지 통신사 운영 다양한 영역에서 텔코LLM이 업무 효율성을 높일 것\"이라며 \"지속해서 텔코LLM을 활용한 활용 사례를 늘려갈 계획\"이라고 설명했다.관련기사KT, 임직원 가족과 ‘마음 담음 클래식 콘서트’ 관람임해정 기자pin.hj@thekpm.com다른기사 보기저작권자 © 핀포인트뉴스 무단전재 및 재배포 금지']\n"
          ]
        }
      ]
    },
    {
      "cell_type": "markdown",
      "source": [
        "4. 샘플링 및 리뷰\n",
        "정제된 데이터에서 샘플을 추출하여 리뷰 프로세스를 돕습니다."
      ],
      "metadata": {
        "id": "M06dRgWOwZJV"
      }
    },
    {
      "cell_type": "code",
      "source": [
        "import random\n",
        "\n",
        "def sample_documents(documents, sample_size=5):\n",
        "    return random.sample(documents, min(sample_size, len(documents)))\n",
        "\n",
        "# 샘플링 사용 예시\n",
        "sampled_data = sample_documents(cleaned_data)\n",
        "print(\"샘플링된 데이터:\", sampled_data)"
      ],
      "metadata": {
        "colab": {
          "base_uri": "https://localhost:8080/"
        },
        "id": "sQw3HnFpwYse",
        "outputId": "d0d8b0a1-f01c-4a9e-cd4c-fc2877d5349e"
      },
      "execution_count": 20,
      "outputs": [
        {
          "output_type": "stream",
          "name": "stdout",
          "text": [
            "샘플링된 데이터: ['텔코 LLM 개념도. 사진=SKT[핀포인트뉴스 임해정 기자]\\xa0SK텔레콤이 5G 요금제, 공시지원금 등 국내 통신 관련 용어와 통신사 내부 지침을 학습한 \\'텔코LLM\\'을 6월 중 개발 완료할 예정이다.SK텔레콤은 30일 서울 중구 SKT 타워에서 취재진 대상 텔코LLM 설명회를 열어 이같이 밝혔다.LLM(거대 언어모델)은 방대한 양의 문장 데이터를 학습해 자연어 처리 작업을 수행하는 데 필요한 지식을 획득한 딥러닝 모델이다.텔코LLM은 잘 알려진 \\'챗-GPT\\', \\'클로드\\' 같은 범용 LLM을 통신업에 특화해 발전시킨 모델로, SKT가 오픈AI, 앤트로픽 등과 협력해 개발을 진행하고 있다.개발이 완료되면 한국어 버전 서비스를 먼저 시작하고, 해외 기업들과 글로벌 버전 개발에 대한 합의를 완료하면 글로벌 버전도 출시할 예정이다.에릭 데이비스 SKT AI 기술 협력 담당은 이날 발표에서 \"1개의 범용 LLM으로 통신사가 하려는 다양한 서비스와 문제를 해결하는 일은 쉽지 않다\"며 \"통신 데이터와 도메인 노하우에 맞춰 조정하는 미세 조정(파인 튜닝)과 모델 평가(벤치마킹) 과정을 거쳐 다양한 텔코LLM을 만들고 이를 상황에 맞게 골라 쓸 수 있도록 하는 것이 SKT의 멀티LLM 전략\"이라고 말했다.즉 SKT의 LLM인 에이닷엑스(A.X), 오픈AI의 GPT-4, 앤트로픽의 클로드 같은 범용 LLM에 통신 관련 한국어 데이터를 학습시켜 AI 고객센터(AICC), 유통망, 네트워크 운용, 사내 업무 등에 다양하게 쓸 수 있게 한다는 게 이 회사의 목표다.SKT는 우선 LLM에 통신 관련 데이터를 학습시킨 다음, 문의에 유용한 답변을 하는지, 문맥을 이해했는지 등을 상담사가 평가한 뒤, 부족하다는 평가를 받은 부분과 관련 데이터를 추가 학습시키는 과정을 반복시켜 LLM을 고도화했다.SKT는 텔코LLM을 활용하면 다양한 통신사 업무에 걸리는 시간을 줄일 것으로 기대했다.고객센터 분야에선 상담 소요 시간을 대폭 단축한다.기존에는 고객센터에서 상담사가 고객 문의 내용을 정리하고 필요 문서를 검색·요약한 다음 상담 내용을 기록해야 해 많은 경험과 교육이 필요했는데, 텔코LLM은 이 과정을 빠르게 진행할 수 있다.네트워크 인프라 운용 과정에 문제가 발생했을 때도 텔코LLM은 해결 방안을 바로 답할 수 있어 사람이 직접 매뉴얼이나 대응 사례를 찾을 때보다 소요시간을 줄일 수 있다.정민영 SKT AI플랫폼 담당은 \"고객센터, 인프라뿐 아니라 마케팅·유통망 등 고객 접점이나 법무, HR와 같은 사내 업무까지 통신사 운영 다양한 영역에서 텔코LLM이 업무 효율성을 높일 것\"이라며 \"지속해서 텔코LLM을 활용한 활용 사례를 늘려갈 계획\"이라고 설명했다.관련기사KT, 임직원 가족과 ‘마음 담음 클래식 콘서트’ 관람임해정 기자pin.hj@thekpm.com다른기사 보기저작권자 © 핀포인트뉴스 무단전재 및 재배포 금지']\n"
          ]
        }
      ]
    },
    {
      "cell_type": "markdown",
      "source": [
        "5. 품질 평가 도구 설계\n",
        "중복 제거 및 정제 전후의 데이터 품질 점수를 계산합니다."
      ],
      "metadata": {
        "id": "ypWuPkMpxXI_"
      }
    },
    {
      "cell_type": "code",
      "source": [
        "def evaluate_quality(original, processed):\n",
        "    original_count = len(original)\n",
        "    processed_count = len(processed)\n",
        "    quality_score = processed_count / original_count if original_count > 0 else 0\n",
        "    return quality_score\n",
        "\n",
        "# 품질 평가 사용 예시\n",
        "quality_score = evaluate_quality(data, cleaned_data)\n",
        "print(f\"\\n품질 점수: {quality_score:.2f}\")"
      ],
      "metadata": {
        "colab": {
          "base_uri": "https://localhost:8080/"
        },
        "id": "if1L01DexVzm",
        "outputId": "5ee6c0bd-78e6-464c-b120-99dd18dfdab2"
      },
      "execution_count": 21,
      "outputs": [
        {
          "output_type": "stream",
          "name": "stdout",
          "text": [
            "\n",
            "품질 점수: 1.00\n"
          ]
        }
      ]
    },
    {
      "cell_type": "markdown",
      "source": [
        "6. 결과 시각화\n",
        "정제 전후의 데이터를 시각화하여 결과를 보여줍니다."
      ],
      "metadata": {
        "id": "mOAWK2JMyJmu"
      }
    },
    {
      "cell_type": "code",
      "source": [
        "import matplotlib.pyplot as plt\n",
        "\n",
        "def visualize_results(original_count, processed_count):\n",
        "    labels = ['Original', 'Processed']\n",
        "    counts = [original_count, processed_count]\n",
        "    plt.bar(labels, counts, color=['blue', 'green'])\n",
        "    plt.title(\"Data Cleaning Results\")\n",
        "    plt.ylabel(\"Number of Documents\")\n",
        "    plt.show()\n",
        "\n",
        "# 시각화 사용\n",
        "visualize_results(len(data), len(cleaned_data))"
      ],
      "metadata": {
        "colab": {
          "base_uri": "https://localhost:8080/",
          "height": 452
        },
        "id": "Q6I_oXJhxa8F",
        "outputId": "c10e2884-318e-429c-b2ca-f96be2ad4737"
      },
      "execution_count": 23,
      "outputs": [
        {
          "output_type": "display_data",
          "data": {
            "text/plain": [
              "<Figure size 640x480 with 1 Axes>"
            ],
            "image/png": "[encoded data removed]"
          },
          "metadata": {}
        }
      ]
    }
  ]
}